{
 "cells": [
  {
   "cell_type": "markdown",
   "id": "13a96bd1-d0e0-454e-867f-50278d6f28fd",
   "metadata": {},
   "source": [
    "# Given halo mass cut, blackhole mass cut, central or satellite => gives halo IDs based on accretion efficiency and luminosity"
   ]
  },
  {
   "cell_type": "code",
   "execution_count": 1,
   "id": "be17cec7-ca90-4634-b1dd-c517b384b16f",
   "metadata": {
    "tags": []
   },
   "outputs": [],
   "source": [
    "import numpy as np\n",
    "import illustris_python as il"
   ]
  },
  {
   "cell_type": "code",
   "execution_count": 2,
   "id": "28dd768c-e5a8-437f-b296-1ec7b61f501c",
   "metadata": {
    "tags": []
   },
   "outputs": [],
   "source": [
    "basePath = \"../../../sims.TNG/TNG100-1/output/\"\n",
    "snap = 50                                               #z=1"
   ]
  },
  {
   "cell_type": "markdown",
   "id": "89d043c4-4bdc-4f8f-8928-4a789dd8b4b5",
   "metadata": {},
   "source": [
    "## specific eddington ratio cut"
   ]
  },
  {
   "cell_type": "code",
   "execution_count": 3,
   "id": "e569abe8-017e-44d7-88fc-4a6fc43b05bc",
   "metadata": {},
   "outputs": [
    {
     "name": "stdout",
     "output_type": "stream",
     "text": [
      "Total halos: 1020\n",
      "High accretor Central AGNs: 41\n",
      "High accretor Central Non-AGNs: 0\n",
      "Non-accretor Central AGNs: 516\n",
      "Non-accretor Central Non-AGNs: 463\n"
     ]
    }
   ],
   "source": [
    "# Constants\n",
    "c = 299792458  # speed of light in m/s\n",
    "mp = 1.67 * 1e-27  # kg\n",
    "G = 6.674 * 1e-11  # N m^2 kg^-2\n",
    "sigma_t = 6.652 * 1e-29  # m^2\n",
    "h = 0.6774\n",
    "e_r = 0.2\n",
    "\n",
    "shalo = il.groupcat.loadSubhalos(basePath, snap, fields=['SubhaloGrNr', 'SubhaloBHMdot', 'SubhaloBHMass'])\n",
    "halo = il.groupcat.loadHalos(basePath, snap, fields =['Group_M_Crit500', 'GroupFirstSub'])\n",
    "\n",
    "Mhalo = halo['Group_M_Crit500'] * 1e10 / h  #Msun\n",
    "Mdot = shalo[\"SubhaloBHMdot\"] * 10.22       #Msun / yr\n",
    "M = shalo[\"SubhaloBHMass\"]* 1e10 / h        #Msun\n",
    "subID = np.arange(len(Mdot))\n",
    "phid = shalo['SubhaloGrNr']\n",
    "phm = Mhalo[phid[subID]]\n",
    "\n",
    "group_firstsub = halo['GroupFirstSub']\n",
    "group_firstsub = group_firstsub[group_firstsub != -1]\n",
    "halo_centralID = np.array(group_firstsub)\n",
    "\n",
    "central = np.zeros(len(M))\n",
    "central[halo_centralID] = 1\n",
    "\n",
    "indices = np.where((M > 1e6) & (phm > 10**12) & (phm < 10**12.5) & (central == 1))\n",
    "\n",
    "Mdot_filtered = Mdot[indices]\n",
    "M_filtered = M[indices]\n",
    "subID_filtered = subID[indices]\n",
    "\n",
    "Mdot_edd = (4 * np.pi * G * M_filtered * mp) / (e_r * c * sigma_t) / 3.16887646e-8  # M_sun/yr\n",
    "\n",
    "edd_ratio = Mdot_filtered / Mdot_edd\n",
    "\n",
    "efficiency = 10 * edd_ratio * e_r\n",
    "efficiency[edd_ratio > 0.1] = e_r /(1-e_r)\n",
    "Lbol = efficiency * Mdot_filtered * (1.989e+30 / 3.154e+7) * c**2 * 1e+7         #ergs/s\n",
    "\n",
    "threshold = 0.1\n",
    "Lcut = 1e41\n",
    "\n",
    "sa_agn = subID_filtered[np.where((edd_ratio > threshold) & (Lbol > Lcut))]\n",
    "sa_non = subID_filtered[np.where((edd_ratio > threshold) & (Lbol <= Lcut))]\n",
    "sn_agn = subID_filtered[np.where((edd_ratio <= threshold) & (Lbol > Lcut))]\n",
    "sn_non = subID_filtered[np.where((edd_ratio <= threshold) & (Lbol <= Lcut))]\n",
    "\n",
    "\n",
    "ha_agn = phid[sa_agn]\n",
    "ha_non = phid[sa_non]\n",
    "hn_agn = phid[sn_agn]\n",
    "hn_non = phid[sn_non]\n",
    "\n",
    "np.savez(\"accretor_agn50_hm3.npz\", ha_agn = ha_agn, ha_non = ha_non, hn_agn = hn_agn, hn_non = hn_non)\n",
    "\n",
    "# Print stats\n",
    "total = len(subID_filtered)\n",
    "print(\"Total halos:\", total)\n",
    "print(\"High accretor Central AGNs:\", len(ha_agn))\n",
    "print(\"High accretor Central Non-AGNs:\", len(ha_non))\n",
    "print(\"Non-accretor Central AGNs:\", len(hn_agn))\n",
    "print(\"Non-accretor Central Non-AGNs:\", len(hn_non))"
   ]
  },
  {
   "cell_type": "markdown",
   "id": "bf004e02-2ff4-4a59-bba7-54cd1af2aa0f",
   "metadata": {},
   "source": [
    "## TNG prescribed categorization"
   ]
  },
  {
   "cell_type": "code",
   "execution_count": 4,
   "id": "7646fe77-5f15-4a86-bba5-1a26dbefc019",
   "metadata": {
    "tags": []
   },
   "outputs": [
    {
     "name": "stdout",
     "output_type": "stream",
     "text": [
      "working\n",
      "Total halos: 70\n",
      "High accretor Central AGNs: 0\n",
      "High accretor Central Non-AGNs: 0\n",
      "Non-accretor Central AGNs: 38\n",
      "Non-accretor Central Non-AGNs: 32\n"
     ]
    }
   ],
   "source": [
    "# Constants\n",
    "c = 299792458  # speed of light in m/s\n",
    "mp = 1.67 * 1e-27  # kg\n",
    "G = 6.674 * 1e-11  # N m^2 kg^-2\n",
    "sigma_t = 6.652 * 1e-29  # m^2\n",
    "h = 0.6774\n",
    "e_r = 0.2\n",
    "\n",
    "print(\"working\")\n",
    "\n",
    "shalo = il.groupcat.loadSubhalos(basePath, snap, fields=['SubhaloGrNr', 'SubhaloBHMdot', 'SubhaloBHMass'])\n",
    "halo = il.groupcat.loadHalos(basePath, snap, fields =['Group_M_Crit500', 'GroupFirstSub'])\n",
    "\n",
    "Mhalo = halo['Group_M_Crit500'] * 1e10 / h  #Msun\n",
    "Mdot = shalo[\"SubhaloBHMdot\"] * 10.22       #Msun / yr\n",
    "M = shalo[\"SubhaloBHMass\"]* 1e10 / h        #Msun\n",
    "subID = np.arange(len(Mdot))\n",
    "phid = shalo['SubhaloGrNr']\n",
    "phm = Mhalo[phid[subID]]\n",
    "\n",
    "group_firstsub = halo['GroupFirstSub']\n",
    "group_firstsub = group_firstsub[group_firstsub != -1]\n",
    "halo_centralID = np.array(group_firstsub)\n",
    "\n",
    "central = np.zeros(len(M))\n",
    "central[halo_centralID] = 1\n",
    "\n",
    "indices = np.where((M > 1e6) & (phm > 10**(13)) & (central == 1))\n",
    "\n",
    "Mdot_filtered = Mdot[indices]\n",
    "M_filtered = M[indices]\n",
    "subID_filtered = subID[indices]\n",
    "\n",
    "Mdot_edd = (4 * np.pi * G * M_filtered * mp) / (e_r * c * sigma_t) / 3.16887646e-8  # M_sun/yr\n",
    "\n",
    "edd_ratio = Mdot_filtered / Mdot_edd\n",
    "\n",
    "efficiency = 10 * edd_ratio * e_r\n",
    "efficiency[edd_ratio > 0.1] = e_r #/(1-e_r)\n",
    "Lbol = efficiency * Mdot_filtered * (1.989e+30 / 3.154e+7) * c**2 * 1e+7         #ergs/s\n",
    "#Lbol1 = e_r * Mdot_filtered * (1.989e+30 / 3.154e+7) * c**2 * 1e+7         #ergs/s\n",
    "\n",
    "#threshold = 0.1\n",
    "threshold = np.minimum(0.002 * (M_filtered / 1e8)**2, 0.1)\n",
    "\n",
    "Lcut = 1e41\n",
    "\n",
    "sa_agn = subID_filtered[np.where((edd_ratio > threshold) & (Lbol > Lcut))]\n",
    "sa_non = subID_filtered[np.where((edd_ratio > threshold) & (Lbol <= Lcut))]\n",
    "sn_agn = subID_filtered[np.where((edd_ratio <= threshold) & (Lbol > Lcut))]\n",
    "sn_non = subID_filtered[np.where((edd_ratio <= threshold) & (Lbol <= Lcut))]\n",
    "'''\n",
    "sa_agn = subID_filtered[np.where((edd_ratio > threshold) & (Lbol1 > Lcut))]\n",
    "sa_non = subID_filtered[np.where((edd_ratio > threshold) & (Lbol1 <= Lcut))]\n",
    "sn_agn = subID_filtered[np.where((edd_ratio <= threshold) & (Lbol1 > Lcut))]\n",
    "sn_non = subID_filtered[np.where((edd_ratio <= threshold) & (Lbol1 <= Lcut))]\n",
    "'''\n",
    "ha_agn = phid[sa_agn]\n",
    "ha_non = phid[sa_non]\n",
    "hn_agn = phid[sn_agn]\n",
    "hn_non = phid[sn_non]\n",
    "\n",
    "np.savez(\"accretor_agn100_mine_hm5.npz\", ha_agn = ha_agn, ha_non = ha_non, hn_agn = hn_agn, hn_non = hn_non)\n",
    "\n",
    "# Print stats\n",
    "total = len(subID_filtered)\n",
    "print(\"Total halos:\", total)\n",
    "print(\"High accretor Central AGNs:\", len(ha_agn))\n",
    "print(\"High accretor Central Non-AGNs:\", len(ha_non))\n",
    "print(\"Non-accretor Central AGNs:\", len(hn_agn))\n",
    "print(\"Non-accretor Central Non-AGNs:\", len(hn_non))"
   ]
  }
 ],
 "metadata": {
  "kernelspec": {
   "display_name": "Python 3 (ipykernel)",
   "language": "python",
   "name": "python3"
  },
  "language_info": {
   "codemirror_mode": {
    "name": "ipython",
    "version": 3
   },
   "file_extension": ".py",
   "mimetype": "text/x-python",
   "name": "python",
   "nbconvert_exporter": "python",
   "pygments_lexer": "ipython3",
   "version": "3.11.4"
  }
 },
 "nbformat": 4,
 "nbformat_minor": 5
}
