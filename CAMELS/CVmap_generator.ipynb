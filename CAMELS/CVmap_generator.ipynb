{
 "cells": [
  {
   "cell_type": "markdown",
   "id": "b4d22ef5-dbb0-4abe-b0f1-d404b0244f71",
   "metadata": {},
   "source": [
    "# Plotting maps for all CV parameters (haloID = 0)"
   ]
  },
  {
   "cell_type": "code",
   "execution_count": 6,
   "id": "8faf5419-cf19-4743-bff3-2da19a1f8d64",
   "metadata": {},
   "outputs": [
    {
     "name": "stdout",
     "output_type": "stream",
     "text": [
      "Requirement already satisfied: regions in /srv/conda/envs/notebook/lib/python3.9/site-packages (0.8)\n",
      "Requirement already satisfied: numpy>=1.22 in /srv/conda/envs/notebook/lib/python3.9/site-packages (from regions) (1.26.4)\n",
      "Requirement already satisfied: astropy>=5.0 in /srv/conda/envs/notebook/lib/python3.9/site-packages (from regions) (6.0.1)\n",
      "Requirement already satisfied: pyerfa>=2.0.1.1 in /srv/conda/envs/notebook/lib/python3.9/site-packages (from astropy>=5.0->regions) (2.0.1.5)\n",
      "Requirement already satisfied: astropy-iers-data>=0.2024.2.26.0.28.55 in /srv/conda/envs/notebook/lib/python3.9/site-packages (from astropy>=5.0->regions) (0.2025.2.10.0.33.26)\n",
      "Requirement already satisfied: PyYAML>=3.13 in /srv/conda/envs/notebook/lib/python3.9/site-packages (from astropy>=5.0->regions) (6.0.1)\n",
      "Requirement already satisfied: packaging>=19.0 in /srv/conda/envs/notebook/lib/python3.9/site-packages (from astropy>=5.0->regions) (24.0)\n",
      "Note: you may need to restart the kernel to use updated packages.\n"
     ]
    }
   ],
   "source": [
    "pip install regions"
   ]
  },
  {
   "cell_type": "code",
   "execution_count": 7,
   "id": "8de91ba2-9d8b-433f-bbc8-d5f01b0a9bd0",
   "metadata": {},
   "outputs": [
    {
     "name": "stdout",
     "output_type": "stream",
     "text": [
      "Requirement already satisfied: soxs in /srv/conda/envs/notebook/lib/python3.9/site-packages (4.8.5)\n",
      "Requirement already satisfied: numpy<2 in /srv/conda/envs/notebook/lib/python3.9/site-packages (from soxs) (1.26.4)\n",
      "Requirement already satisfied: astropy>=4.0 in /srv/conda/envs/notebook/lib/python3.9/site-packages (from soxs) (6.0.1)\n",
      "Requirement already satisfied: tqdm in /srv/conda/envs/notebook/lib/python3.9/site-packages (from soxs) (4.67.1)\n",
      "Requirement already satisfied: pooch in /srv/conda/envs/notebook/lib/python3.9/site-packages (from soxs) (1.8.2)\n",
      "Requirement already satisfied: h5py>=3.0 in /srv/conda/envs/notebook/lib/python3.9/site-packages (from soxs) (3.12.1)\n",
      "Requirement already satisfied: scipy in /srv/conda/envs/notebook/lib/python3.9/site-packages (from soxs) (1.13.1)\n",
      "Requirement already satisfied: pyyaml in /srv/conda/envs/notebook/lib/python3.9/site-packages (from soxs) (6.0.1)\n",
      "Requirement already satisfied: regions in /srv/conda/envs/notebook/lib/python3.9/site-packages (from soxs) (0.8)\n",
      "Requirement already satisfied: appdirs in /srv/conda/envs/notebook/lib/python3.9/site-packages (from soxs) (1.4.4)\n",
      "Requirement already satisfied: pyerfa>=2.0.1.1 in /srv/conda/envs/notebook/lib/python3.9/site-packages (from astropy>=4.0->soxs) (2.0.1.5)\n",
      "Requirement already satisfied: astropy-iers-data>=0.2024.2.26.0.28.55 in /srv/conda/envs/notebook/lib/python3.9/site-packages (from astropy>=4.0->soxs) (0.2025.2.10.0.33.26)\n",
      "Requirement already satisfied: packaging>=19.0 in /srv/conda/envs/notebook/lib/python3.9/site-packages (from astropy>=4.0->soxs) (24.0)\n",
      "Requirement already satisfied: platformdirs>=2.5.0 in /srv/conda/envs/notebook/lib/python3.9/site-packages (from pooch->soxs) (4.2.0)\n",
      "Requirement already satisfied: requests>=2.19.0 in /srv/conda/envs/notebook/lib/python3.9/site-packages (from pooch->soxs) (2.31.0)\n",
      "Requirement already satisfied: charset-normalizer<4,>=2 in /srv/conda/envs/notebook/lib/python3.9/site-packages (from requests>=2.19.0->pooch->soxs) (3.3.2)\n",
      "Requirement already satisfied: idna<4,>=2.5 in /srv/conda/envs/notebook/lib/python3.9/site-packages (from requests>=2.19.0->pooch->soxs) (3.6)\n",
      "Requirement already satisfied: urllib3<3,>=1.21.1 in /srv/conda/envs/notebook/lib/python3.9/site-packages (from requests>=2.19.0->pooch->soxs) (2.2.1)\n",
      "Requirement already satisfied: certifi>=2017.4.17 in /srv/conda/envs/notebook/lib/python3.9/site-packages (from requests>=2.19.0->pooch->soxs) (2024.12.14)\n",
      "Note: you may need to restart the kernel to use updated packages.\n"
     ]
    }
   ],
   "source": [
    "pip install soxs"
   ]
  },
  {
   "cell_type": "code",
   "execution_count": 8,
   "id": "db6b446b-6e1c-40e3-abe7-3d5da955ef2e",
   "metadata": {},
   "outputs": [],
   "source": [
    "import os\n",
    "from astropy.io import fits\n",
    "from astropy.coordinates import SkyCoord\n",
    "import astropy.units as u\n",
    "from regions import RectangleSkyRegion\n",
    "from astropy import wcs\n",
    "import soxs\n",
    "import matplotlib.pyplot as plt"
   ]
  },
  {
   "cell_type": "code",
   "execution_count": 9,
   "id": "07fd14fa-8bdb-4bab-b987-9e9aa3540790",
   "metadata": {},
   "outputs": [
    {
     "name": "stdout",
     "output_type": "stream",
     "text": [
      "27\n"
     ]
    }
   ],
   "source": [
    "instrument =  \"lem_outer_array\" #\"chandra_acisi_cy0\"\n",
    "sky_center = (0.0, 0.0)\n",
    "filenames = [\n",
    "    \"CV_0\", \"CV_1\", \"CV_2\", \"CV_3\", \"CV_4\", \"CV_5\", \"CV_6\", \"CV_7\", \"CV_8\", \"CV_9\",\n",
    "    \"CV_10\", \"CV_11\", \"CV_12\", \"CV_13\", \"CV_14\", \"CV_15\", \"CV_16\", \"CV_17\", \"CV_18\", \"CV_19\",\n",
    "    \"CV_20\", \"CV_21\", \"CV_22\", \"CV_23\", \"CV_24\", \"CV_25\", \"CV_26\"]\n",
    "print(len(filenames))"
   ]
  },
  {
   "cell_type": "code",
   "execution_count": 10,
   "id": "528a3a59-81a2-4ddd-883e-648b667719d7",
   "metadata": {},
   "outputs": [
    {
     "name": "stderr",
     "output_type": "stream",
     "text": [
      "soxs : [INFO     ] 2025-04-10 09:37:53,358 Making observation of source in evt_0_CV_0.fits.\n"
     ]
    },
    {
     "name": "stdout",
     "output_type": "stream",
     "text": [
      "🔄 Simulating for IllustrisTNG.CV_0.snap_032.halo_000.100ks.z0.05.z_simput.fits...\n"
     ]
    },
    {
     "name": "stderr",
     "output_type": "stream",
     "text": [
      "soxs : [INFO     ] 2025-04-10 09:37:54,830 Detecting events from source IllustrisTNG.CV_0.snap_032.halo_000.100ks.z0.05.z.\n",
      "soxs : [INFO     ] 2025-04-10 09:37:54,832 Applying energy-dependent effective area from lem_300522.arf.\n",
      "soxs : [INFO     ] 2025-04-10 09:37:54,979 Pixeling events.\n",
      "soxs : [INFO     ] 2025-04-10 09:37:54,998 Scattering events with a gaussian-based PSF.\n",
      "soxs : [INFO     ] 2025-04-10 09:37:55,005 48589 events were detected from the source.\n",
      "soxs : [INFO     ] 2025-04-10 09:37:55,008 Scattering energies with RMF lem_2.5ev_110422.rmf.\n"
     ]
    },
    {
     "data": {
      "application/vnd.jupyter.widget-view+json": {
       "model_id": "f24491c37796487286b210f9d8c6ff98",
       "version_major": 2,
       "version_minor": 0
      },
      "text/plain": [
       "Scattering energies :   0%|          | 0/48589 [00:00<?, ?it/s]"
      ]
     },
     "metadata": {},
     "output_type": "display_data"
    },
    {
     "name": "stderr",
     "output_type": "stream",
     "text": [
      "soxs : [INFO     ] 2025-04-10 09:37:59,093 Adding background events.\n",
      "soxs : [INFO     ] 2025-04-10 09:38:00,487 Adding in instrumental background.\n",
      "soxs : [INFO     ] 2025-04-10 09:38:00,628 Making 33883 events from the instrumental background.\n",
      "soxs : [INFO     ] 2025-04-10 09:38:00,640 Writing events to file evt_0_CV_0.fits.\n",
      "soxs : [INFO     ] 2025-04-10 09:38:00,753 Observation complete.\n",
      "soxs : [INFO     ] 2025-04-10 09:38:02,399 Making observation of source in evt_1_CV_1.fits.\n"
     ]
    },
    {
     "name": "stdout",
     "output_type": "stream",
     "text": [
      "✅ Saved: plot_0_CV_0.png\n",
      "🔄 Simulating for IllustrisTNG.CV_1.snap_032.halo_000.100ks.z0.05.z_simput.fits...\n"
     ]
    },
    {
     "name": "stderr",
     "output_type": "stream",
     "text": [
      "soxs : [INFO     ] 2025-04-10 09:38:03,919 Detecting events from source IllustrisTNG.CV_1.snap_032.halo_000.100ks.z0.05.z.\n",
      "soxs : [INFO     ] 2025-04-10 09:38:03,921 Applying energy-dependent effective area from lem_300522.arf.\n",
      "soxs : [INFO     ] 2025-04-10 09:38:04,219 Pixeling events.\n",
      "soxs : [INFO     ] 2025-04-10 09:38:04,254 Scattering events with a gaussian-based PSF.\n",
      "soxs : [INFO     ] 2025-04-10 09:38:04,263 89582 events were detected from the source.\n",
      "soxs : [INFO     ] 2025-04-10 09:38:04,269 Scattering energies with RMF lem_2.5ev_110422.rmf.\n"
     ]
    },
    {
     "data": {
      "application/vnd.jupyter.widget-view+json": {
       "model_id": "ec5c32ce4a104a3cbf702044a8169b09",
       "version_major": 2,
       "version_minor": 0
      },
      "text/plain": [
       "Scattering energies :   0%|          | 0/89582 [00:00<?, ?it/s]"
      ]
     },
     "metadata": {},
     "output_type": "display_data"
    },
    {
     "name": "stderr",
     "output_type": "stream",
     "text": [
      "soxs : [INFO     ] 2025-04-10 09:38:08,887 Adding background events.\n",
      "soxs : [INFO     ] 2025-04-10 09:38:10,282 Adding in instrumental background.\n",
      "soxs : [INFO     ] 2025-04-10 09:38:10,418 Making 34212 events from the instrumental background.\n",
      "soxs : [INFO     ] 2025-04-10 09:38:10,429 Writing events to file evt_1_CV_1.fits.\n",
      "soxs : [INFO     ] 2025-04-10 09:38:10,566 Observation complete.\n",
      "soxs : [INFO     ] 2025-04-10 09:38:12,254 Making observation of source in evt_2_CV_2.fits.\n"
     ]
    },
    {
     "name": "stdout",
     "output_type": "stream",
     "text": [
      "✅ Saved: plot_1_CV_1.png\n",
      "🔄 Simulating for IllustrisTNG.CV_2.snap_032.halo_000.100ks.z0.05.z_simput.fits...\n"
     ]
    },
    {
     "name": "stderr",
     "output_type": "stream",
     "text": [
      "soxs : [INFO     ] 2025-04-10 09:38:13,642 Detecting events from source IllustrisTNG.CV_2.snap_032.halo_000.100ks.z0.05.z.\n",
      "soxs : [INFO     ] 2025-04-10 09:38:13,644 Applying energy-dependent effective area from lem_300522.arf.\n",
      "soxs : [INFO     ] 2025-04-10 09:38:13,694 Pixeling events.\n",
      "soxs : [INFO     ] 2025-04-10 09:38:13,701 Scattering events with a gaussian-based PSF.\n",
      "soxs : [INFO     ] 2025-04-10 09:38:13,704 14988 events were detected from the source.\n",
      "soxs : [INFO     ] 2025-04-10 09:38:13,706 Scattering energies with RMF lem_2.5ev_110422.rmf.\n"
     ]
    },
    {
     "data": {
      "application/vnd.jupyter.widget-view+json": {
       "model_id": "786276d9b72544c997d1c079f203f834",
       "version_major": 2,
       "version_minor": 0
      },
      "text/plain": [
       "Scattering energies :   0%|          | 0/14988 [00:00<?, ?it/s]"
      ]
     },
     "metadata": {},
     "output_type": "display_data"
    },
    {
     "name": "stderr",
     "output_type": "stream",
     "text": [
      "soxs : [INFO     ] 2025-04-10 09:38:16,634 Adding background events.\n",
      "soxs : [INFO     ] 2025-04-10 09:38:17,962 Adding in instrumental background.\n",
      "soxs : [INFO     ] 2025-04-10 09:38:18,106 Making 34175 events from the instrumental background.\n",
      "soxs : [INFO     ] 2025-04-10 09:38:18,114 Writing events to file evt_2_CV_2.fits.\n",
      "soxs : [INFO     ] 2025-04-10 09:38:18,197 Observation complete.\n",
      "soxs : [INFO     ] 2025-04-10 09:38:19,835 Making observation of source in evt_3_CV_3.fits.\n"
     ]
    },
    {
     "name": "stdout",
     "output_type": "stream",
     "text": [
      "✅ Saved: plot_2_CV_2.png\n",
      "🔄 Simulating for IllustrisTNG.CV_3.snap_032.halo_000.100ks.z0.05.z_simput.fits...\n"
     ]
    },
    {
     "name": "stderr",
     "output_type": "stream",
     "text": [
      "soxs : [INFO     ] 2025-04-10 09:38:21,414 Detecting events from source IllustrisTNG.CV_3.snap_032.halo_000.100ks.z0.05.z.\n",
      "soxs : [INFO     ] 2025-04-10 09:38:21,416 Applying energy-dependent effective area from lem_300522.arf.\n",
      "soxs : [INFO     ] 2025-04-10 09:38:21,969 Pixeling events.\n",
      "soxs : [INFO     ] 2025-04-10 09:38:22,492 Scattering events with a gaussian-based PSF.\n",
      "soxs : [INFO     ] 2025-04-10 09:38:22,581 157423 events were detected from the source.\n",
      "soxs : [INFO     ] 2025-04-10 09:38:22,593 Scattering energies with RMF lem_2.5ev_110422.rmf.\n"
     ]
    },
    {
     "data": {
      "application/vnd.jupyter.widget-view+json": {
       "model_id": "760217d520db4786aaca02f6fb80fa51",
       "version_major": 2,
       "version_minor": 0
      },
      "text/plain": [
       "Scattering energies :   0%|          | 0/157423 [00:00<?, ?it/s]"
      ]
     },
     "metadata": {},
     "output_type": "display_data"
    },
    {
     "name": "stderr",
     "output_type": "stream",
     "text": [
      "soxs : [INFO     ] 2025-04-10 09:38:28,470 Adding background events.\n",
      "soxs : [INFO     ] 2025-04-10 09:38:29,830 Adding in instrumental background.\n",
      "soxs : [INFO     ] 2025-04-10 09:38:29,967 Making 33986 events from the instrumental background.\n",
      "soxs : [INFO     ] 2025-04-10 09:38:29,981 Writing events to file evt_3_CV_3.fits.\n",
      "soxs : [INFO     ] 2025-04-10 09:38:30,176 Observation complete.\n",
      "soxs : [INFO     ] 2025-04-10 09:38:31,916 Making observation of source in evt_4_CV_4.fits.\n"
     ]
    },
    {
     "name": "stdout",
     "output_type": "stream",
     "text": [
      "✅ Saved: plot_3_CV_3.png\n",
      "🔄 Simulating for IllustrisTNG.CV_4.snap_032.halo_000.100ks.z0.05.z_simput.fits...\n"
     ]
    },
    {
     "name": "stderr",
     "output_type": "stream",
     "text": [
      "soxs : [INFO     ] 2025-04-10 09:38:33,371 Detecting events from source IllustrisTNG.CV_4.snap_032.halo_000.100ks.z0.05.z.\n",
      "soxs : [INFO     ] 2025-04-10 09:38:33,372 Applying energy-dependent effective area from lem_300522.arf.\n",
      "soxs : [INFO     ] 2025-04-10 09:38:33,435 Pixeling events.\n",
      "soxs : [INFO     ] 2025-04-10 09:38:33,444 Scattering events with a gaussian-based PSF.\n",
      "soxs : [INFO     ] 2025-04-10 09:38:33,447 20217 events were detected from the source.\n",
      "soxs : [INFO     ] 2025-04-10 09:38:33,449 Scattering energies with RMF lem_2.5ev_110422.rmf.\n"
     ]
    },
    {
     "data": {
      "application/vnd.jupyter.widget-view+json": {
       "model_id": "44005e1a05284420bc556266d8829656",
       "version_major": 2,
       "version_minor": 0
      },
      "text/plain": [
       "Scattering energies :   0%|          | 0/20217 [00:00<?, ?it/s]"
      ]
     },
     "metadata": {},
     "output_type": "display_data"
    },
    {
     "name": "stderr",
     "output_type": "stream",
     "text": [
      "soxs : [INFO     ] 2025-04-10 09:38:36,552 Adding background events.\n",
      "soxs : [INFO     ] 2025-04-10 09:38:37,975 Adding in instrumental background.\n",
      "soxs : [INFO     ] 2025-04-10 09:38:38,143 Making 33971 events from the instrumental background.\n",
      "soxs : [INFO     ] 2025-04-10 09:38:38,153 Writing events to file evt_4_CV_4.fits.\n",
      "soxs : [INFO     ] 2025-04-10 09:38:38,254 Observation complete.\n",
      "soxs : [INFO     ] 2025-04-10 09:38:40,308 Making observation of source in evt_5_CV_5.fits.\n"
     ]
    },
    {
     "name": "stdout",
     "output_type": "stream",
     "text": [
      "✅ Saved: plot_4_CV_4.png\n",
      "🔄 Simulating for IllustrisTNG.CV_5.snap_032.halo_000.100ks.z0.05.z_simput.fits...\n"
     ]
    },
    {
     "name": "stderr",
     "output_type": "stream",
     "text": [
      "soxs : [INFO     ] 2025-04-10 09:38:41,783 Detecting events from source IllustrisTNG.CV_5.snap_032.halo_000.100ks.z0.05.z.\n",
      "soxs : [INFO     ] 2025-04-10 09:38:41,784 Applying energy-dependent effective area from lem_300522.arf.\n",
      "soxs : [INFO     ] 2025-04-10 09:38:41,849 Pixeling events.\n",
      "soxs : [INFO     ] 2025-04-10 09:38:41,859 Scattering events with a gaussian-based PSF.\n",
      "soxs : [INFO     ] 2025-04-10 09:38:41,862 21114 events were detected from the source.\n",
      "soxs : [INFO     ] 2025-04-10 09:38:41,864 Scattering energies with RMF lem_2.5ev_110422.rmf.\n"
     ]
    },
    {
     "data": {
      "application/vnd.jupyter.widget-view+json": {
       "model_id": "56ced48f5e854c28b486b99f662e5ca9",
       "version_major": 2,
       "version_minor": 0
      },
      "text/plain": [
       "Scattering energies :   0%|          | 0/21114 [00:00<?, ?it/s]"
      ]
     },
     "metadata": {},
     "output_type": "display_data"
    },
    {
     "name": "stderr",
     "output_type": "stream",
     "text": [
      "soxs : [INFO     ] 2025-04-10 09:38:45,079 Adding background events.\n",
      "soxs : [INFO     ] 2025-04-10 09:38:46,429 Adding in instrumental background.\n",
      "soxs : [INFO     ] 2025-04-10 09:38:46,569 Making 33891 events from the instrumental background.\n",
      "soxs : [INFO     ] 2025-04-10 09:38:46,579 Writing events to file evt_5_CV_5.fits.\n",
      "soxs : [INFO     ] 2025-04-10 09:38:46,667 Observation complete.\n",
      "soxs : [INFO     ] 2025-04-10 09:38:48,385 Making observation of source in evt_6_CV_6.fits.\n"
     ]
    },
    {
     "name": "stdout",
     "output_type": "stream",
     "text": [
      "✅ Saved: plot_5_CV_5.png\n",
      "🔄 Simulating for IllustrisTNG.CV_6.snap_032.halo_000.100ks.z0.05.z_simput.fits...\n"
     ]
    },
    {
     "name": "stderr",
     "output_type": "stream",
     "text": [
      "soxs : [INFO     ] 2025-04-10 09:38:49,959 Detecting events from source IllustrisTNG.CV_6.snap_032.halo_000.100ks.z0.05.z.\n",
      "soxs : [INFO     ] 2025-04-10 09:38:49,960 Applying energy-dependent effective area from lem_300522.arf.\n",
      "soxs : [INFO     ] 2025-04-10 09:38:50,524 Pixeling events.\n",
      "soxs : [INFO     ] 2025-04-10 09:38:50,587 Scattering events with a gaussian-based PSF.\n",
      "soxs : [INFO     ] 2025-04-10 09:38:50,604 164967 events were detected from the source.\n",
      "soxs : [INFO     ] 2025-04-10 09:38:50,618 Scattering energies with RMF lem_2.5ev_110422.rmf.\n"
     ]
    },
    {
     "data": {
      "application/vnd.jupyter.widget-view+json": {
       "model_id": "cafeabb6c05b4e2e8bda610f1db4950f",
       "version_major": 2,
       "version_minor": 0
      },
      "text/plain": [
       "Scattering energies :   0%|          | 0/164967 [00:00<?, ?it/s]"
      ]
     },
     "metadata": {},
     "output_type": "display_data"
    },
    {
     "name": "stderr",
     "output_type": "stream",
     "text": [
      "soxs : [INFO     ] 2025-04-10 09:38:56,522 Adding background events.\n",
      "soxs : [INFO     ] 2025-04-10 09:38:57,869 Adding in instrumental background.\n",
      "soxs : [INFO     ] 2025-04-10 09:38:58,034 Making 34048 events from the instrumental background.\n",
      "soxs : [INFO     ] 2025-04-10 09:38:58,050 Writing events to file evt_6_CV_6.fits.\n",
      "soxs : [INFO     ] 2025-04-10 09:38:58,253 Observation complete.\n",
      "soxs : [INFO     ] 2025-04-10 09:38:59,996 Making observation of source in evt_7_CV_7.fits.\n"
     ]
    },
    {
     "name": "stdout",
     "output_type": "stream",
     "text": [
      "✅ Saved: plot_6_CV_6.png\n",
      "🔄 Simulating for IllustrisTNG.CV_7.snap_032.halo_000.100ks.z0.05.z_simput.fits...\n"
     ]
    },
    {
     "name": "stderr",
     "output_type": "stream",
     "text": [
      "soxs : [INFO     ] 2025-04-10 09:39:01,432 Detecting events from source IllustrisTNG.CV_7.snap_032.halo_000.100ks.z0.05.z.\n",
      "soxs : [INFO     ] 2025-04-10 09:39:01,434 Applying energy-dependent effective area from lem_300522.arf.\n",
      "soxs : [INFO     ] 2025-04-10 09:39:01,698 Pixeling events.\n",
      "soxs : [INFO     ] 2025-04-10 09:39:01,730 Scattering events with a gaussian-based PSF.\n",
      "soxs : [INFO     ] 2025-04-10 09:39:01,740 85720 events were detected from the source.\n",
      "soxs : [INFO     ] 2025-04-10 09:39:01,745 Scattering energies with RMF lem_2.5ev_110422.rmf.\n"
     ]
    },
    {
     "data": {
      "application/vnd.jupyter.widget-view+json": {
       "model_id": "1ef8b542497d4282bb9ee36e9da11889",
       "version_major": 2,
       "version_minor": 0
      },
      "text/plain": [
       "Scattering energies :   0%|          | 0/85720 [00:00<?, ?it/s]"
      ]
     },
     "metadata": {},
     "output_type": "display_data"
    },
    {
     "name": "stderr",
     "output_type": "stream",
     "text": [
      "soxs : [INFO     ] 2025-04-10 09:39:06,387 Adding background events.\n",
      "soxs : [INFO     ] 2025-04-10 09:39:07,762 Adding in instrumental background.\n",
      "soxs : [INFO     ] 2025-04-10 09:39:07,904 Making 34212 events from the instrumental background.\n",
      "soxs : [INFO     ] 2025-04-10 09:39:07,919 Writing events to file evt_7_CV_7.fits.\n",
      "soxs : [INFO     ] 2025-04-10 09:39:08,053 Observation complete.\n",
      "soxs : [INFO     ] 2025-04-10 09:39:09,807 Making observation of source in evt_8_CV_8.fits.\n"
     ]
    },
    {
     "name": "stdout",
     "output_type": "stream",
     "text": [
      "✅ Saved: plot_7_CV_7.png\n",
      "🔄 Simulating for IllustrisTNG.CV_8.snap_032.halo_000.100ks.z0.05.z_simput.fits...\n"
     ]
    },
    {
     "name": "stderr",
     "output_type": "stream",
     "text": [
      "soxs : [INFO     ] 2025-04-10 09:39:11,238 Detecting events from source IllustrisTNG.CV_8.snap_032.halo_000.100ks.z0.05.z.\n",
      "soxs : [INFO     ] 2025-04-10 09:39:11,240 Applying energy-dependent effective area from lem_300522.arf.\n",
      "soxs : [INFO     ] 2025-04-10 09:39:11,296 Pixeling events.\n",
      "soxs : [INFO     ] 2025-04-10 09:39:11,305 Scattering events with a gaussian-based PSF.\n",
      "soxs : [INFO     ] 2025-04-10 09:39:11,308 19390 events were detected from the source.\n",
      "soxs : [INFO     ] 2025-04-10 09:39:11,310 Scattering energies with RMF lem_2.5ev_110422.rmf.\n"
     ]
    },
    {
     "data": {
      "application/vnd.jupyter.widget-view+json": {
       "model_id": "22d098ab036d44669213eea3cc277f6b",
       "version_major": 2,
       "version_minor": 0
      },
      "text/plain": [
       "Scattering energies :   0%|          | 0/19390 [00:00<?, ?it/s]"
      ]
     },
     "metadata": {},
     "output_type": "display_data"
    },
    {
     "name": "stderr",
     "output_type": "stream",
     "text": [
      "soxs : [INFO     ] 2025-04-10 09:39:14,291 Adding background events.\n",
      "soxs : [INFO     ] 2025-04-10 09:39:15,633 Adding in instrumental background.\n",
      "soxs : [INFO     ] 2025-04-10 09:39:15,797 Making 34219 events from the instrumental background.\n",
      "soxs : [INFO     ] 2025-04-10 09:39:15,808 Writing events to file evt_8_CV_8.fits.\n",
      "soxs : [INFO     ] 2025-04-10 09:39:15,899 Observation complete.\n",
      "soxs : [INFO     ] 2025-04-10 09:39:17,599 Making observation of source in evt_9_CV_9.fits.\n"
     ]
    },
    {
     "name": "stdout",
     "output_type": "stream",
     "text": [
      "✅ Saved: plot_8_CV_8.png\n",
      "🔄 Simulating for IllustrisTNG.CV_9.snap_032.halo_000.100ks.z0.05.z_simput.fits...\n"
     ]
    },
    {
     "name": "stderr",
     "output_type": "stream",
     "text": [
      "soxs : [INFO     ] 2025-04-10 09:39:19,041 Detecting events from source IllustrisTNG.CV_9.snap_032.halo_000.100ks.z0.05.z.\n",
      "soxs : [INFO     ] 2025-04-10 09:39:19,042 Applying energy-dependent effective area from lem_300522.arf.\n",
      "soxs : [INFO     ] 2025-04-10 09:39:19,367 Pixeling events.\n",
      "soxs : [INFO     ] 2025-04-10 09:39:19,405 Scattering events with a gaussian-based PSF.\n",
      "soxs : [INFO     ] 2025-04-10 09:39:19,413 94888 events were detected from the source.\n",
      "soxs : [INFO     ] 2025-04-10 09:39:19,419 Scattering energies with RMF lem_2.5ev_110422.rmf.\n"
     ]
    },
    {
     "data": {
      "application/vnd.jupyter.widget-view+json": {
       "model_id": "e9a2d3e0a7d24de7ae3d59d06d148a4f",
       "version_major": 2,
       "version_minor": 0
      },
      "text/plain": [
       "Scattering energies :   0%|          | 0/94888 [00:00<?, ?it/s]"
      ]
     },
     "metadata": {},
     "output_type": "display_data"
    },
    {
     "name": "stderr",
     "output_type": "stream",
     "text": [
      "soxs : [INFO     ] 2025-04-10 09:39:24,282 Adding background events.\n",
      "soxs : [INFO     ] 2025-04-10 09:39:25,674 Adding in instrumental background.\n",
      "soxs : [INFO     ] 2025-04-10 09:39:25,817 Making 34113 events from the instrumental background.\n",
      "soxs : [INFO     ] 2025-04-10 09:39:25,829 Writing events to file evt_9_CV_9.fits.\n",
      "soxs : [INFO     ] 2025-04-10 09:39:25,987 Observation complete.\n",
      "soxs : [INFO     ] 2025-04-10 09:39:27,775 Making observation of source in evt_10_CV_10.fits.\n"
     ]
    },
    {
     "name": "stdout",
     "output_type": "stream",
     "text": [
      "✅ Saved: plot_9_CV_9.png\n",
      "🔄 Simulating for IllustrisTNG.CV_10.snap_032.halo_000.100ks.z0.05.z_simput.fits...\n"
     ]
    },
    {
     "name": "stderr",
     "output_type": "stream",
     "text": [
      "soxs : [INFO     ] 2025-04-10 09:39:29,165 Detecting events from source IllustrisTNG.CV_10.snap_032.halo_000.100ks.z0.05.z.\n",
      "soxs : [INFO     ] 2025-04-10 09:39:29,166 Applying energy-dependent effective area from lem_300522.arf.\n",
      "soxs : [INFO     ] 2025-04-10 09:39:29,305 Pixeling events.\n",
      "soxs : [INFO     ] 2025-04-10 09:39:29,324 Scattering events with a gaussian-based PSF.\n",
      "soxs : [INFO     ] 2025-04-10 09:39:29,329 45897 events were detected from the source.\n",
      "soxs : [INFO     ] 2025-04-10 09:39:29,333 Scattering energies with RMF lem_2.5ev_110422.rmf.\n"
     ]
    },
    {
     "data": {
      "application/vnd.jupyter.widget-view+json": {
       "model_id": "bb66303b4f3543e39ba666f2ea1d7801",
       "version_major": 2,
       "version_minor": 0
      },
      "text/plain": [
       "Scattering energies :   0%|          | 0/45897 [00:00<?, ?it/s]"
      ]
     },
     "metadata": {},
     "output_type": "display_data"
    },
    {
     "name": "stderr",
     "output_type": "stream",
     "text": [
      "soxs : [INFO     ] 2025-04-10 09:39:33,200 Adding background events.\n",
      "soxs : [INFO     ] 2025-04-10 09:39:34,547 Adding in instrumental background.\n",
      "soxs : [INFO     ] 2025-04-10 09:39:34,681 Making 34381 events from the instrumental background.\n",
      "soxs : [INFO     ] 2025-04-10 09:39:34,691 Writing events to file evt_10_CV_10.fits.\n",
      "soxs : [INFO     ] 2025-04-10 09:39:34,798 Observation complete.\n",
      "soxs : [INFO     ] 2025-04-10 09:39:36,707 Making observation of source in evt_11_CV_11.fits.\n"
     ]
    },
    {
     "name": "stdout",
     "output_type": "stream",
     "text": [
      "✅ Saved: plot_10_CV_10.png\n",
      "🔄 Simulating for IllustrisTNG.CV_11.snap_032.halo_000.100ks.z0.05.z_simput.fits...\n"
     ]
    },
    {
     "name": "stderr",
     "output_type": "stream",
     "text": [
      "soxs : [INFO     ] 2025-04-10 09:39:38,161 Detecting events from source IllustrisTNG.CV_11.snap_032.halo_000.100ks.z0.05.z.\n",
      "soxs : [INFO     ] 2025-04-10 09:39:38,162 Applying energy-dependent effective area from lem_300522.arf.\n",
      "soxs : [INFO     ] 2025-04-10 09:39:38,292 Pixeling events.\n",
      "soxs : [INFO     ] 2025-04-10 09:39:38,309 Scattering events with a gaussian-based PSF.\n",
      "soxs : [INFO     ] 2025-04-10 09:39:38,314 41859 events were detected from the source.\n",
      "soxs : [INFO     ] 2025-04-10 09:39:38,317 Scattering energies with RMF lem_2.5ev_110422.rmf.\n"
     ]
    },
    {
     "data": {
      "application/vnd.jupyter.widget-view+json": {
       "model_id": "3f4153c52ad548ae99c792dac43c3919",
       "version_major": 2,
       "version_minor": 0
      },
      "text/plain": [
       "Scattering energies :   0%|          | 0/41859 [00:00<?, ?it/s]"
      ]
     },
     "metadata": {},
     "output_type": "display_data"
    },
    {
     "name": "stderr",
     "output_type": "stream",
     "text": [
      "soxs : [INFO     ] 2025-04-10 09:39:42,247 Adding background events.\n",
      "soxs : [INFO     ] 2025-04-10 09:39:43,652 Adding in instrumental background.\n",
      "soxs : [INFO     ] 2025-04-10 09:39:43,804 Making 34124 events from the instrumental background.\n",
      "soxs : [INFO     ] 2025-04-10 09:39:43,814 Writing events to file evt_11_CV_11.fits.\n",
      "soxs : [INFO     ] 2025-04-10 09:39:43,921 Observation complete.\n",
      "soxs : [INFO     ] 2025-04-10 09:39:45,543 Making observation of source in evt_12_CV_12.fits.\n"
     ]
    },
    {
     "name": "stdout",
     "output_type": "stream",
     "text": [
      "✅ Saved: plot_11_CV_11.png\n",
      "🔄 Simulating for IllustrisTNG.CV_12.snap_032.halo_000.100ks.z0.05.z_simput.fits...\n"
     ]
    },
    {
     "name": "stderr",
     "output_type": "stream",
     "text": [
      "soxs : [INFO     ] 2025-04-10 09:39:47,098 Detecting events from source IllustrisTNG.CV_12.snap_032.halo_000.100ks.z0.05.z.\n",
      "soxs : [INFO     ] 2025-04-10 09:39:47,099 Applying energy-dependent effective area from lem_300522.arf.\n",
      "soxs : [INFO     ] 2025-04-10 09:39:47,704 Pixeling events.\n",
      "soxs : [INFO     ] 2025-04-10 09:39:47,781 Scattering events with a gaussian-based PSF.\n",
      "soxs : [INFO     ] 2025-04-10 09:39:47,796 194380 events were detected from the source.\n",
      "soxs : [INFO     ] 2025-04-10 09:39:47,879 Scattering energies with RMF lem_2.5ev_110422.rmf.\n"
     ]
    },
    {
     "data": {
      "application/vnd.jupyter.widget-view+json": {
       "model_id": "11aaa3e7cb5343e6b000e0e74e0705b1",
       "version_major": 2,
       "version_minor": 0
      },
      "text/plain": [
       "Scattering energies :   0%|          | 0/194380 [00:00<?, ?it/s]"
      ]
     },
     "metadata": {},
     "output_type": "display_data"
    },
    {
     "name": "stderr",
     "output_type": "stream",
     "text": [
      "soxs : [INFO     ] 2025-04-10 09:39:54,170 Adding background events.\n",
      "soxs : [INFO     ] 2025-04-10 09:39:55,513 Adding in instrumental background.\n",
      "soxs : [INFO     ] 2025-04-10 09:39:55,653 Making 33847 events from the instrumental background.\n",
      "soxs : [INFO     ] 2025-04-10 09:39:55,669 Writing events to file evt_12_CV_12.fits.\n",
      "soxs : [INFO     ] 2025-04-10 09:39:55,877 Observation complete.\n",
      "soxs : [INFO     ] 2025-04-10 09:39:57,567 Making observation of source in evt_13_CV_13.fits.\n"
     ]
    },
    {
     "name": "stdout",
     "output_type": "stream",
     "text": [
      "✅ Saved: plot_12_CV_12.png\n",
      "🔄 Simulating for IllustrisTNG.CV_13.snap_032.halo_000.100ks.z0.05.z_simput.fits...\n"
     ]
    },
    {
     "name": "stderr",
     "output_type": "stream",
     "text": [
      "soxs : [INFO     ] 2025-04-10 09:39:59,038 Detecting events from source IllustrisTNG.CV_13.snap_032.halo_000.100ks.z0.05.z.\n",
      "soxs : [INFO     ] 2025-04-10 09:39:59,039 Applying energy-dependent effective area from lem_300522.arf.\n",
      "soxs : [INFO     ] 2025-04-10 09:39:59,122 Pixeling events.\n",
      "soxs : [INFO     ] 2025-04-10 09:39:59,134 Scattering events with a gaussian-based PSF.\n",
      "soxs : [INFO     ] 2025-04-10 09:39:59,138 29240 events were detected from the source.\n",
      "soxs : [INFO     ] 2025-04-10 09:39:59,140 Scattering energies with RMF lem_2.5ev_110422.rmf.\n"
     ]
    },
    {
     "data": {
      "application/vnd.jupyter.widget-view+json": {
       "model_id": "b537cd984ac14553a8c5824b138fb86d",
       "version_major": 2,
       "version_minor": 0
      },
      "text/plain": [
       "Scattering energies :   0%|          | 0/29240 [00:00<?, ?it/s]"
      ]
     },
     "metadata": {},
     "output_type": "display_data"
    },
    {
     "name": "stderr",
     "output_type": "stream",
     "text": [
      "soxs : [INFO     ] 2025-04-10 09:40:02,688 Adding background events.\n",
      "soxs : [INFO     ] 2025-04-10 09:40:04,043 Adding in instrumental background.\n",
      "soxs : [INFO     ] 2025-04-10 09:40:04,211 Making 33842 events from the instrumental background.\n",
      "soxs : [INFO     ] 2025-04-10 09:40:04,221 Writing events to file evt_13_CV_13.fits.\n",
      "soxs : [INFO     ] 2025-04-10 09:40:04,329 Observation complete.\n",
      "soxs : [INFO     ] 2025-04-10 09:40:05,992 Making observation of source in evt_14_CV_14.fits.\n"
     ]
    },
    {
     "name": "stdout",
     "output_type": "stream",
     "text": [
      "✅ Saved: plot_13_CV_13.png\n",
      "🔄 Simulating for IllustrisTNG.CV_14.snap_032.halo_000.100ks.z0.05.z_simput.fits...\n"
     ]
    },
    {
     "name": "stderr",
     "output_type": "stream",
     "text": [
      "soxs : [INFO     ] 2025-04-10 09:40:07,392 Detecting events from source IllustrisTNG.CV_14.snap_032.halo_000.100ks.z0.05.z.\n",
      "soxs : [INFO     ] 2025-04-10 09:40:07,393 Applying energy-dependent effective area from lem_300522.arf.\n",
      "soxs : [INFO     ] 2025-04-10 09:40:07,501 Pixeling events.\n",
      "soxs : [INFO     ] 2025-04-10 09:40:07,516 Scattering events with a gaussian-based PSF.\n",
      "soxs : [INFO     ] 2025-04-10 09:40:07,521 33886 events were detected from the source.\n",
      "soxs : [INFO     ] 2025-04-10 09:40:07,524 Scattering energies with RMF lem_2.5ev_110422.rmf.\n"
     ]
    },
    {
     "data": {
      "application/vnd.jupyter.widget-view+json": {
       "model_id": "46da31be8192479bab376e43ec632b54",
       "version_major": 2,
       "version_minor": 0
      },
      "text/plain": [
       "Scattering energies :   0%|          | 0/33886 [00:00<?, ?it/s]"
      ]
     },
     "metadata": {},
     "output_type": "display_data"
    },
    {
     "name": "stderr",
     "output_type": "stream",
     "text": [
      "soxs : [INFO     ] 2025-04-10 09:40:11,216 Adding background events.\n",
      "soxs : [INFO     ] 2025-04-10 09:40:12,618 Adding in instrumental background.\n",
      "soxs : [INFO     ] 2025-04-10 09:40:12,753 Making 34007 events from the instrumental background.\n",
      "soxs : [INFO     ] 2025-04-10 09:40:12,762 Writing events to file evt_14_CV_14.fits.\n",
      "soxs : [INFO     ] 2025-04-10 09:40:12,856 Observation complete.\n",
      "soxs : [INFO     ] 2025-04-10 09:40:14,571 Making observation of source in evt_15_CV_15.fits.\n"
     ]
    },
    {
     "name": "stdout",
     "output_type": "stream",
     "text": [
      "✅ Saved: plot_14_CV_14.png\n",
      "🔄 Simulating for IllustrisTNG.CV_15.snap_032.halo_000.100ks.z0.05.z_simput.fits...\n"
     ]
    },
    {
     "name": "stderr",
     "output_type": "stream",
     "text": [
      "soxs : [INFO     ] 2025-04-10 09:40:16,097 Detecting events from source IllustrisTNG.CV_15.snap_032.halo_000.100ks.z0.05.z.\n",
      "soxs : [INFO     ] 2025-04-10 09:40:16,098 Applying energy-dependent effective area from lem_300522.arf.\n",
      "soxs : [INFO     ] 2025-04-10 09:40:16,517 Pixeling events.\n",
      "soxs : [INFO     ] 2025-04-10 09:40:16,563 Scattering events with a gaussian-based PSF.\n",
      "soxs : [INFO     ] 2025-04-10 09:40:16,580 129190 events were detected from the source.\n",
      "soxs : [INFO     ] 2025-04-10 09:40:16,590 Scattering energies with RMF lem_2.5ev_110422.rmf.\n"
     ]
    },
    {
     "data": {
      "application/vnd.jupyter.widget-view+json": {
       "model_id": "91a7c618efd34237a30ef67236f68c9f",
       "version_major": 2,
       "version_minor": 0
      },
      "text/plain": [
       "Scattering energies :   0%|          | 0/129190 [00:00<?, ?it/s]"
      ]
     },
     "metadata": {},
     "output_type": "display_data"
    },
    {
     "name": "stderr",
     "output_type": "stream",
     "text": [
      "soxs : [INFO     ] 2025-04-10 09:40:21,931 Adding background events.\n",
      "soxs : [INFO     ] 2025-04-10 09:40:23,346 Adding in instrumental background.\n",
      "soxs : [INFO     ] 2025-04-10 09:40:23,484 Making 33932 events from the instrumental background.\n",
      "soxs : [INFO     ] 2025-04-10 09:40:23,500 Writing events to file evt_15_CV_15.fits.\n",
      "soxs : [INFO     ] 2025-04-10 09:40:23,663 Observation complete.\n",
      "soxs : [INFO     ] 2025-04-10 09:40:25,301 Making observation of source in evt_16_CV_16.fits.\n"
     ]
    },
    {
     "name": "stdout",
     "output_type": "stream",
     "text": [
      "✅ Saved: plot_15_CV_15.png\n",
      "🔄 Simulating for IllustrisTNG.CV_16.snap_032.halo_000.100ks.z0.05.z_simput.fits...\n"
     ]
    },
    {
     "name": "stderr",
     "output_type": "stream",
     "text": [
      "soxs : [INFO     ] 2025-04-10 09:40:26,719 Detecting events from source IllustrisTNG.CV_16.snap_032.halo_000.100ks.z0.05.z.\n",
      "soxs : [INFO     ] 2025-04-10 09:40:26,720 Applying energy-dependent effective area from lem_300522.arf.\n",
      "soxs : [INFO     ] 2025-04-10 09:40:26,905 Pixeling events.\n",
      "soxs : [INFO     ] 2025-04-10 09:40:26,929 Scattering events with a gaussian-based PSF.\n",
      "soxs : [INFO     ] 2025-04-10 09:40:26,935 65161 events were detected from the source.\n",
      "soxs : [INFO     ] 2025-04-10 09:40:26,939 Scattering energies with RMF lem_2.5ev_110422.rmf.\n"
     ]
    },
    {
     "data": {
      "application/vnd.jupyter.widget-view+json": {
       "model_id": "65917c89929e4e9d868d262e6a193bb7",
       "version_major": 2,
       "version_minor": 0
      },
      "text/plain": [
       "Scattering energies :   0%|          | 0/65161 [00:00<?, ?it/s]"
      ]
     },
     "metadata": {},
     "output_type": "display_data"
    },
    {
     "name": "stderr",
     "output_type": "stream",
     "text": [
      "soxs : [INFO     ] 2025-04-10 09:40:31,176 Adding background events.\n",
      "soxs : [INFO     ] 2025-04-10 09:40:32,485 Adding in instrumental background.\n",
      "soxs : [INFO     ] 2025-04-10 09:40:32,619 Making 34478 events from the instrumental background.\n",
      "soxs : [INFO     ] 2025-04-10 09:40:32,628 Writing events to file evt_16_CV_16.fits.\n",
      "soxs : [INFO     ] 2025-04-10 09:40:32,743 Observation complete.\n",
      "soxs : [INFO     ] 2025-04-10 09:40:34,487 Making observation of source in evt_17_CV_17.fits.\n"
     ]
    },
    {
     "name": "stdout",
     "output_type": "stream",
     "text": [
      "✅ Saved: plot_16_CV_16.png\n",
      "🔄 Simulating for IllustrisTNG.CV_17.snap_032.halo_000.100ks.z0.05.z_simput.fits...\n"
     ]
    },
    {
     "name": "stderr",
     "output_type": "stream",
     "text": [
      "soxs : [INFO     ] 2025-04-10 09:40:36,123 Detecting events from source IllustrisTNG.CV_17.snap_032.halo_000.100ks.z0.05.z.\n",
      "soxs : [INFO     ] 2025-04-10 09:40:36,124 Applying energy-dependent effective area from lem_300522.arf.\n",
      "soxs : [INFO     ] 2025-04-10 09:40:36,203 Pixeling events.\n",
      "soxs : [INFO     ] 2025-04-10 09:40:36,214 Scattering events with a gaussian-based PSF.\n",
      "soxs : [INFO     ] 2025-04-10 09:40:36,218 25574 events were detected from the source.\n",
      "soxs : [INFO     ] 2025-04-10 09:40:36,220 Scattering energies with RMF lem_2.5ev_110422.rmf.\n"
     ]
    },
    {
     "data": {
      "application/vnd.jupyter.widget-view+json": {
       "model_id": "ccea0c2048b14f1ea35b7a6a67b64b49",
       "version_major": 2,
       "version_minor": 0
      },
      "text/plain": [
       "Scattering energies :   0%|          | 0/25574 [00:00<?, ?it/s]"
      ]
     },
     "metadata": {},
     "output_type": "display_data"
    },
    {
     "name": "stderr",
     "output_type": "stream",
     "text": [
      "soxs : [INFO     ] 2025-04-10 09:40:39,442 Adding background events.\n",
      "soxs : [INFO     ] 2025-04-10 09:40:40,800 Adding in instrumental background.\n",
      "soxs : [INFO     ] 2025-04-10 09:40:40,936 Making 33798 events from the instrumental background.\n",
      "soxs : [INFO     ] 2025-04-10 09:40:40,945 Writing events to file evt_17_CV_17.fits.\n",
      "soxs : [INFO     ] 2025-04-10 09:40:41,035 Observation complete.\n",
      "soxs : [INFO     ] 2025-04-10 09:40:43,001 Making observation of source in evt_18_CV_18.fits.\n"
     ]
    },
    {
     "name": "stdout",
     "output_type": "stream",
     "text": [
      "✅ Saved: plot_17_CV_17.png\n",
      "🔄 Simulating for IllustrisTNG.CV_18.snap_032.halo_000.100ks.z0.05.z_simput.fits...\n"
     ]
    },
    {
     "name": "stderr",
     "output_type": "stream",
     "text": [
      "soxs : [INFO     ] 2025-04-10 09:40:44,520 Detecting events from source IllustrisTNG.CV_18.snap_032.halo_000.100ks.z0.05.z.\n",
      "soxs : [INFO     ] 2025-04-10 09:40:44,521 Applying energy-dependent effective area from lem_300522.arf.\n",
      "soxs : [INFO     ] 2025-04-10 09:40:44,545 Pixeling events.\n",
      "soxs : [INFO     ] 2025-04-10 09:40:44,549 Scattering events with a gaussian-based PSF.\n",
      "soxs : [INFO     ] 2025-04-10 09:40:44,551 8485 events were detected from the source.\n",
      "soxs : [INFO     ] 2025-04-10 09:40:44,553 Scattering energies with RMF lem_2.5ev_110422.rmf.\n"
     ]
    },
    {
     "data": {
      "application/vnd.jupyter.widget-view+json": {
       "model_id": "54b81842c3c1490c9bce04f17ef8a0fa",
       "version_major": 2,
       "version_minor": 0
      },
      "text/plain": [
       "Scattering energies :   0%|          | 0/8485 [00:00<?, ?it/s]"
      ]
     },
     "metadata": {},
     "output_type": "display_data"
    },
    {
     "name": "stderr",
     "output_type": "stream",
     "text": [
      "soxs : [INFO     ] 2025-04-10 09:40:46,863 Adding background events.\n",
      "soxs : [INFO     ] 2025-04-10 09:40:48,234 Adding in instrumental background.\n",
      "soxs : [INFO     ] 2025-04-10 09:40:48,369 Making 34374 events from the instrumental background.\n",
      "soxs : [INFO     ] 2025-04-10 09:40:48,380 Writing events to file evt_18_CV_18.fits.\n",
      "soxs : [INFO     ] 2025-04-10 09:40:48,457 Observation complete.\n",
      "soxs : [INFO     ] 2025-04-10 09:40:50,100 Making observation of source in evt_19_CV_19.fits.\n"
     ]
    },
    {
     "name": "stdout",
     "output_type": "stream",
     "text": [
      "✅ Saved: plot_18_CV_18.png\n",
      "🔄 Simulating for IllustrisTNG.CV_19.snap_032.halo_000.100ks.z0.05.z_simput.fits...\n"
     ]
    },
    {
     "name": "stderr",
     "output_type": "stream",
     "text": [
      "soxs : [INFO     ] 2025-04-10 09:40:52,128 Detecting events from source IllustrisTNG.CV_19.snap_032.halo_000.100ks.z0.05.z.\n",
      "soxs : [INFO     ] 2025-04-10 09:40:52,130 Applying energy-dependent effective area from lem_300522.arf.\n",
      "soxs : [INFO     ] 2025-04-10 09:40:52,250 Pixeling events.\n",
      "soxs : [INFO     ] 2025-04-10 09:40:52,267 Scattering events with a gaussian-based PSF.\n",
      "soxs : [INFO     ] 2025-04-10 09:40:52,271 40480 events were detected from the source.\n",
      "soxs : [INFO     ] 2025-04-10 09:40:52,274 Scattering energies with RMF lem_2.5ev_110422.rmf.\n"
     ]
    },
    {
     "data": {
      "application/vnd.jupyter.widget-view+json": {
       "model_id": "407adeecad754d298bc6bf51346b9d63",
       "version_major": 2,
       "version_minor": 0
      },
      "text/plain": [
       "Scattering energies :   0%|          | 0/40480 [00:00<?, ?it/s]"
      ]
     },
     "metadata": {},
     "output_type": "display_data"
    },
    {
     "name": "stderr",
     "output_type": "stream",
     "text": [
      "soxs : [INFO     ] 2025-04-10 09:40:56,103 Adding background events.\n",
      "soxs : [INFO     ] 2025-04-10 09:40:57,504 Adding in instrumental background.\n",
      "soxs : [INFO     ] 2025-04-10 09:40:57,640 Making 33914 events from the instrumental background.\n",
      "soxs : [INFO     ] 2025-04-10 09:40:57,649 Writing events to file evt_19_CV_19.fits.\n",
      "soxs : [INFO     ] 2025-04-10 09:40:57,757 Observation complete.\n",
      "soxs : [INFO     ] 2025-04-10 09:40:59,444 Making observation of source in evt_20_CV_20.fits.\n"
     ]
    },
    {
     "name": "stdout",
     "output_type": "stream",
     "text": [
      "✅ Saved: plot_19_CV_19.png\n",
      "🔄 Simulating for IllustrisTNG.CV_20.snap_032.halo_000.100ks.z0.05.z_simput.fits...\n"
     ]
    },
    {
     "name": "stderr",
     "output_type": "stream",
     "text": [
      "soxs : [INFO     ] 2025-04-10 09:41:01,335 Detecting events from source IllustrisTNG.CV_20.snap_032.halo_000.100ks.z0.05.z.\n",
      "soxs : [INFO     ] 2025-04-10 09:41:01,336 Applying energy-dependent effective area from lem_300522.arf.\n",
      "soxs : [INFO     ] 2025-04-10 09:41:01,443 Pixeling events.\n",
      "soxs : [INFO     ] 2025-04-10 09:41:01,458 Scattering events with a gaussian-based PSF.\n",
      "soxs : [INFO     ] 2025-04-10 09:41:01,462 34462 events were detected from the source.\n",
      "soxs : [INFO     ] 2025-04-10 09:41:01,465 Scattering energies with RMF lem_2.5ev_110422.rmf.\n"
     ]
    },
    {
     "data": {
      "application/vnd.jupyter.widget-view+json": {
       "model_id": "7ce43c04a1f24f5b909ee45e600cee45",
       "version_major": 2,
       "version_minor": 0
      },
      "text/plain": [
       "Scattering energies :   0%|          | 0/34462 [00:00<?, ?it/s]"
      ]
     },
     "metadata": {},
     "output_type": "display_data"
    },
    {
     "name": "stderr",
     "output_type": "stream",
     "text": [
      "soxs : [INFO     ] 2025-04-10 09:41:05,087 Adding background events.\n",
      "soxs : [INFO     ] 2025-04-10 09:41:06,434 Adding in instrumental background.\n",
      "soxs : [INFO     ] 2025-04-10 09:41:06,607 Making 34293 events from the instrumental background.\n",
      "soxs : [INFO     ] 2025-04-10 09:41:06,617 Writing events to file evt_20_CV_20.fits.\n",
      "soxs : [INFO     ] 2025-04-10 09:41:06,729 Observation complete.\n",
      "soxs : [INFO     ] 2025-04-10 09:41:08,420 Making observation of source in evt_21_CV_21.fits.\n"
     ]
    },
    {
     "name": "stdout",
     "output_type": "stream",
     "text": [
      "✅ Saved: plot_20_CV_20.png\n",
      "🔄 Simulating for IllustrisTNG.CV_21.snap_032.halo_000.100ks.z0.05.z_simput.fits...\n"
     ]
    },
    {
     "name": "stderr",
     "output_type": "stream",
     "text": [
      "soxs : [INFO     ] 2025-04-10 09:41:10,262 Detecting events from source IllustrisTNG.CV_21.snap_032.halo_000.100ks.z0.05.z.\n",
      "soxs : [INFO     ] 2025-04-10 09:41:10,264 Applying energy-dependent effective area from lem_300522.arf.\n",
      "soxs : [INFO     ] 2025-04-10 09:41:10,514 Pixeling events.\n",
      "soxs : [INFO     ] 2025-04-10 09:41:10,545 Scattering events with a gaussian-based PSF.\n",
      "soxs : [INFO     ] 2025-04-10 09:41:10,553 83638 events were detected from the source.\n",
      "soxs : [INFO     ] 2025-04-10 09:41:10,558 Scattering energies with RMF lem_2.5ev_110422.rmf.\n"
     ]
    },
    {
     "data": {
      "application/vnd.jupyter.widget-view+json": {
       "model_id": "a235f8ecbbf045398957c8480bcbc436",
       "version_major": 2,
       "version_minor": 0
      },
      "text/plain": [
       "Scattering energies :   0%|          | 0/83638 [00:00<?, ?it/s]"
      ]
     },
     "metadata": {},
     "output_type": "display_data"
    },
    {
     "name": "stderr",
     "output_type": "stream",
     "text": [
      "soxs : [INFO     ] 2025-04-10 09:41:15,380 Adding background events.\n",
      "soxs : [INFO     ] 2025-04-10 09:41:16,727 Adding in instrumental background.\n",
      "soxs : [INFO     ] 2025-04-10 09:41:16,869 Making 34101 events from the instrumental background.\n",
      "soxs : [INFO     ] 2025-04-10 09:41:16,881 Writing events to file evt_21_CV_21.fits.\n",
      "soxs : [INFO     ] 2025-04-10 09:41:17,011 Observation complete.\n",
      "soxs : [INFO     ] 2025-04-10 09:41:18,699 Making observation of source in evt_22_CV_22.fits.\n"
     ]
    },
    {
     "name": "stdout",
     "output_type": "stream",
     "text": [
      "✅ Saved: plot_21_CV_21.png\n",
      "🔄 Simulating for IllustrisTNG.CV_22.snap_032.halo_000.100ks.z0.05.z_simput.fits...\n"
     ]
    },
    {
     "name": "stderr",
     "output_type": "stream",
     "text": [
      "soxs : [INFO     ] 2025-04-10 09:41:21,435 Detecting events from source IllustrisTNG.CV_22.snap_032.halo_000.100ks.z0.05.z.\n",
      "soxs : [INFO     ] 2025-04-10 09:41:21,437 Applying energy-dependent effective area from lem_300522.arf.\n",
      "soxs : [INFO     ] 2025-04-10 09:41:22,286 Pixeling events.\n",
      "soxs : [INFO     ] 2025-04-10 09:41:22,383 Scattering events with a gaussian-based PSF.\n",
      "soxs : [INFO     ] 2025-04-10 09:41:22,401 243033 events were detected from the source.\n",
      "soxs : [INFO     ] 2025-04-10 09:41:22,485 Scattering energies with RMF lem_2.5ev_110422.rmf.\n"
     ]
    },
    {
     "data": {
      "application/vnd.jupyter.widget-view+json": {
       "model_id": "e40cd35ed4d944968d6d4c412bf35b37",
       "version_major": 2,
       "version_minor": 0
      },
      "text/plain": [
       "Scattering energies :   0%|          | 0/243033 [00:00<?, ?it/s]"
      ]
     },
     "metadata": {},
     "output_type": "display_data"
    },
    {
     "name": "stderr",
     "output_type": "stream",
     "text": [
      "soxs : [INFO     ] 2025-04-10 09:41:29,208 Adding background events.\n",
      "soxs : [INFO     ] 2025-04-10 09:41:30,581 Adding in instrumental background.\n",
      "soxs : [INFO     ] 2025-04-10 09:41:30,711 Making 34283 events from the instrumental background.\n",
      "soxs : [INFO     ] 2025-04-10 09:41:30,728 Writing events to file evt_22_CV_22.fits.\n",
      "soxs : [INFO     ] 2025-04-10 09:41:30,981 Observation complete.\n",
      "soxs : [INFO     ] 2025-04-10 09:41:32,734 Making observation of source in evt_23_CV_23.fits.\n"
     ]
    },
    {
     "name": "stdout",
     "output_type": "stream",
     "text": [
      "✅ Saved: plot_22_CV_22.png\n",
      "🔄 Simulating for IllustrisTNG.CV_23.snap_032.halo_000.100ks.z0.05.z_simput.fits...\n"
     ]
    },
    {
     "name": "stderr",
     "output_type": "stream",
     "text": [
      "soxs : [INFO     ] 2025-04-10 09:41:34,419 Detecting events from source IllustrisTNG.CV_23.snap_032.halo_000.100ks.z0.05.z.\n",
      "soxs : [INFO     ] 2025-04-10 09:41:34,421 Applying energy-dependent effective area from lem_300522.arf.\n",
      "soxs : [INFO     ] 2025-04-10 09:41:34,560 Pixeling events.\n",
      "soxs : [INFO     ] 2025-04-10 09:41:34,578 Scattering events with a gaussian-based PSF.\n",
      "soxs : [INFO     ] 2025-04-10 09:41:34,583 47197 events were detected from the source.\n",
      "soxs : [INFO     ] 2025-04-10 09:41:34,587 Scattering energies with RMF lem_2.5ev_110422.rmf.\n"
     ]
    },
    {
     "data": {
      "application/vnd.jupyter.widget-view+json": {
       "model_id": "7eddb7765ccc42d9a53f2707467b2052",
       "version_major": 2,
       "version_minor": 0
      },
      "text/plain": [
       "Scattering energies :   0%|          | 0/47197 [00:00<?, ?it/s]"
      ]
     },
     "metadata": {},
     "output_type": "display_data"
    },
    {
     "name": "stderr",
     "output_type": "stream",
     "text": [
      "soxs : [INFO     ] 2025-04-10 09:41:38,517 Adding background events.\n",
      "soxs : [INFO     ] 2025-04-10 09:41:39,872 Adding in instrumental background.\n",
      "soxs : [INFO     ] 2025-04-10 09:41:40,007 Making 34700 events from the instrumental background.\n",
      "soxs : [INFO     ] 2025-04-10 09:41:40,018 Writing events to file evt_23_CV_23.fits.\n",
      "soxs : [INFO     ] 2025-04-10 09:41:40,123 Observation complete.\n",
      "soxs : [INFO     ] 2025-04-10 09:41:41,826 Making observation of source in evt_24_CV_24.fits.\n"
     ]
    },
    {
     "name": "stdout",
     "output_type": "stream",
     "text": [
      "✅ Saved: plot_23_CV_23.png\n",
      "🔄 Simulating for IllustrisTNG.CV_24.snap_032.halo_000.100ks.z0.05.z_simput.fits...\n"
     ]
    },
    {
     "name": "stderr",
     "output_type": "stream",
     "text": [
      "soxs : [INFO     ] 2025-04-10 09:41:46,691 Detecting events from source IllustrisTNG.CV_24.snap_032.halo_000.100ks.z0.05.z.\n",
      "soxs : [INFO     ] 2025-04-10 09:41:46,692 Applying energy-dependent effective area from lem_300522.arf.\n",
      "soxs : [INFO     ] 2025-04-10 09:41:48,131 Pixeling events.\n",
      "soxs : [INFO     ] 2025-04-10 09:41:48,402 Scattering events with a gaussian-based PSF.\n",
      "soxs : [INFO     ] 2025-04-10 09:41:48,447 446453 events were detected from the source.\n",
      "soxs : [INFO     ] 2025-04-10 09:41:48,581 Scattering energies with RMF lem_2.5ev_110422.rmf.\n"
     ]
    },
    {
     "data": {
      "application/vnd.jupyter.widget-view+json": {
       "model_id": "f2b7ea8a913f47a49a35f840e51e4d9e",
       "version_major": 2,
       "version_minor": 0
      },
      "text/plain": [
       "Scattering energies :   0%|          | 0/446453 [00:00<?, ?it/s]"
      ]
     },
     "metadata": {},
     "output_type": "display_data"
    },
    {
     "name": "stderr",
     "output_type": "stream",
     "text": [
      "soxs : [INFO     ] 2025-04-10 09:41:57,517 Adding background events.\n",
      "soxs : [INFO     ] 2025-04-10 09:41:58,870 Adding in instrumental background.\n",
      "soxs : [INFO     ] 2025-04-10 09:41:59,013 Making 34334 events from the instrumental background.\n",
      "soxs : [INFO     ] 2025-04-10 09:41:59,047 Writing events to file evt_24_CV_24.fits.\n",
      "soxs : [INFO     ] 2025-04-10 09:41:59,485 Observation complete.\n",
      "soxs : [INFO     ] 2025-04-10 09:42:01,232 Making observation of source in evt_25_CV_25.fits.\n"
     ]
    },
    {
     "name": "stdout",
     "output_type": "stream",
     "text": [
      "✅ Saved: plot_24_CV_24.png\n",
      "🔄 Simulating for IllustrisTNG.CV_25.snap_032.halo_000.100ks.z0.05.z_simput.fits...\n"
     ]
    },
    {
     "name": "stderr",
     "output_type": "stream",
     "text": [
      "soxs : [INFO     ] 2025-04-10 09:42:04,020 Detecting events from source IllustrisTNG.CV_25.snap_032.halo_000.100ks.z0.05.z.\n",
      "soxs : [INFO     ] 2025-04-10 09:42:04,022 Applying energy-dependent effective area from lem_300522.arf.\n",
      "soxs : [INFO     ] 2025-04-10 09:42:04,956 Pixeling events.\n",
      "soxs : [INFO     ] 2025-04-10 09:42:05,079 Scattering events with a gaussian-based PSF.\n",
      "soxs : [INFO     ] 2025-04-10 09:42:05,099 253855 events were detected from the source.\n",
      "soxs : [INFO     ] 2025-04-10 09:42:05,185 Scattering energies with RMF lem_2.5ev_110422.rmf.\n"
     ]
    },
    {
     "data": {
      "application/vnd.jupyter.widget-view+json": {
       "model_id": "a5c2b573ac8143b9b74943775e56ecf6",
       "version_major": 2,
       "version_minor": 0
      },
      "text/plain": [
       "Scattering energies :   0%|          | 0/253855 [00:00<?, ?it/s]"
      ]
     },
     "metadata": {},
     "output_type": "display_data"
    },
    {
     "name": "stderr",
     "output_type": "stream",
     "text": [
      "soxs : [INFO     ] 2025-04-10 09:42:12,108 Adding background events.\n",
      "soxs : [INFO     ] 2025-04-10 09:42:13,485 Adding in instrumental background.\n",
      "soxs : [INFO     ] 2025-04-10 09:42:13,627 Making 34113 events from the instrumental background.\n",
      "soxs : [INFO     ] 2025-04-10 09:42:13,646 Writing events to file evt_25_CV_25.fits.\n",
      "soxs : [INFO     ] 2025-04-10 09:42:13,902 Observation complete.\n",
      "soxs : [INFO     ] 2025-04-10 09:42:15,695 Making observation of source in evt_26_CV_26.fits.\n"
     ]
    },
    {
     "name": "stdout",
     "output_type": "stream",
     "text": [
      "✅ Saved: plot_25_CV_25.png\n",
      "🔄 Simulating for IllustrisTNG.CV_26.snap_032.halo_000.100ks.z0.05.z_simput.fits...\n"
     ]
    },
    {
     "name": "stderr",
     "output_type": "stream",
     "text": [
      "soxs : [INFO     ] 2025-04-10 09:42:17,447 Detecting events from source IllustrisTNG.CV_26.snap_032.halo_000.100ks.z0.05.z.\n",
      "soxs : [INFO     ] 2025-04-10 09:42:17,448 Applying energy-dependent effective area from lem_300522.arf.\n",
      "soxs : [INFO     ] 2025-04-10 09:42:17,655 Pixeling events.\n",
      "soxs : [INFO     ] 2025-04-10 09:42:17,681 Scattering events with a gaussian-based PSF.\n",
      "soxs : [INFO     ] 2025-04-10 09:42:17,687 67505 events were detected from the source.\n",
      "soxs : [INFO     ] 2025-04-10 09:42:17,692 Scattering energies with RMF lem_2.5ev_110422.rmf.\n"
     ]
    },
    {
     "data": {
      "application/vnd.jupyter.widget-view+json": {
       "model_id": "fd62796d8d6a42108e1ace030f1c99cc",
       "version_major": 2,
       "version_minor": 0
      },
      "text/plain": [
       "Scattering energies :   0%|          | 0/67505 [00:00<?, ?it/s]"
      ]
     },
     "metadata": {},
     "output_type": "display_data"
    },
    {
     "name": "stderr",
     "output_type": "stream",
     "text": [
      "soxs : [INFO     ] 2025-04-10 09:42:22,068 Adding background events.\n",
      "soxs : [INFO     ] 2025-04-10 09:42:23,428 Adding in instrumental background.\n",
      "soxs : [INFO     ] 2025-04-10 09:42:23,586 Making 34204 events from the instrumental background.\n",
      "soxs : [INFO     ] 2025-04-10 09:42:23,597 Writing events to file evt_26_CV_26.fits.\n",
      "soxs : [INFO     ] 2025-04-10 09:42:23,750 Observation complete.\n"
     ]
    },
    {
     "name": "stdout",
     "output_type": "stream",
     "text": [
      "✅ Saved: plot_26_CV_26.png\n"
     ]
    }
   ],
   "source": [
    "# Loop over filenames and corresponding numbers (starting from 5)\n",
    "for number, base in zip(range(0, len(filenames)), filenames):\n",
    "    halo_str = \"000\"\n",
    "    base_path = f\"../../Data/X-rays/IllustrisTNG/CV/{base}/snap_032/\"\n",
    "    simput_file = f\"IllustrisTNG.CV_{number}.snap_032.halo_{halo_str}.100ks.z0.05.z_simput.fits\"\n",
    "    simput_path = os.path.join(base_path, simput_file)\n",
    "\n",
    "    if not os.path.exists(simput_path):\n",
    "        print(f\"❌ File not found: {simput_path}\")\n",
    "        continue\n",
    "\n",
    "    try:\n",
    "        print(f\"🔄 Simulating for {simput_file}...\")\n",
    "        evt_file = f\"evt_{number}_{base}.fits\"\n",
    "        img_file = f\"img_{number}_{base}.fits\"\n",
    "        plot_file = f\"plot_{number}_{base}.png\"\n",
    "\n",
    "        # Run SOXS simulator\n",
    "        soxs.instrument_simulator(\n",
    "            simput_path, evt_file, (10.0, \"ks\"), instrument,\n",
    "            sky_center, overwrite=True, foreground=False, ptsrc_bkgnd=False\n",
    "        )\n",
    "\n",
    "        # Check if there are any events\n",
    "        with fits.open(evt_file) as f_evt:\n",
    "            if f_evt[1].data is None or len(f_evt[1].data) == 0:\n",
    "                print(f\"⚠️ No events detected in {evt_file}. Skipping image and plot.\")\n",
    "                continue\n",
    "\n",
    "        # Write image\n",
    "        soxs.write_image(evt_file, img_file, emin=0.5, emax=2.0, reblock=1, overwrite=True)\n",
    "\n",
    "        # Plot image\n",
    "        center_sky = SkyCoord(*sky_center, unit='deg', frame='fk5')\n",
    "        region_sky = RectangleSkyRegion(center=center_sky, width=30*u.arcmin, height=30*u.arcmin)\n",
    "\n",
    "        with fits.open(img_file) as f_img:\n",
    "            w = wcs.WCS(header=f_img[0].header)\n",
    "            fig, ax = soxs.plot_image(img_file, stretch='log', cmap='magma', vmax=3000.0, width=0.5)\n",
    "            ax.add_artist(region_sky.to_pixel(w).as_artist())\n",
    "            plt.title(f\"{number} - {base}\")\n",
    "            plt.savefig(plot_file, dpi=300)\n",
    "            plt.close()\n",
    "\n",
    "        print(f\"✅ Saved: {plot_file}\")\n",
    "\n",
    "    except Exception as e:\n",
    "        print(f\"❌ Error with 1P_{number} in {base}: {e}\")"
   ]
  },
  {
   "cell_type": "code",
   "execution_count": null,
   "id": "e6fa882a-48c8-483e-92fa-98658b374675",
   "metadata": {},
   "outputs": [],
   "source": []
  }
 ],
 "metadata": {
  "kernelspec": {
   "display_name": "Python 3 (ipykernel)",
   "language": "python",
   "name": "python3"
  },
  "language_info": {
   "codemirror_mode": {
    "name": "ipython",
    "version": 3
   },
   "file_extension": ".py",
   "mimetype": "text/x-python",
   "name": "python",
   "nbconvert_exporter": "python",
   "pygments_lexer": "ipython3",
   "version": "3.9.15"
  }
 },
 "nbformat": 4,
 "nbformat_minor": 5
}
