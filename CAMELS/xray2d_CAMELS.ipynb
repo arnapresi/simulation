{
 "cells": [
  {
   "cell_type": "markdown",
   "id": "35253371-1a68-4fea-8fef-d9faa4fc96cd",
   "metadata": {},
   "source": [
    "# Xray Radial Stacked Profiles (CAMELS)"
   ]
  },
  {
   "cell_type": "code",
   "execution_count": 2,
   "id": "0ea48091-aa20-4314-bf05-42ad8dc54415",
   "metadata": {},
   "outputs": [
    {
     "name": "stdout",
     "output_type": "stream",
     "text": [
      "Requirement already satisfied: yt in /srv/conda/envs/notebook/lib/python3.9/site-packages (4.3.1)\n",
      "Requirement already satisfied: cmyt>=1.1.2 in /srv/conda/envs/notebook/lib/python3.9/site-packages (from yt) (2.0.0)\n",
      "Requirement already satisfied: ewah-bool-utils>=1.2.0 in /srv/conda/envs/notebook/lib/python3.9/site-packages (from yt) (1.2.2)\n",
      "Requirement already satisfied: ipywidgets>=8.0.0 in /srv/conda/envs/notebook/lib/python3.9/site-packages (from yt) (8.1.2)\n",
      "Requirement already satisfied: matplotlib>=3.5 in /srv/conda/envs/notebook/lib/python3.9/site-packages (from yt) (3.9.4)\n",
      "Requirement already satisfied: more-itertools>=8.4 in /srv/conda/envs/notebook/lib/python3.9/site-packages (from yt) (10.7.0)\n",
      "Requirement already satisfied: numpy<3,>=1.19.3 in /srv/conda/envs/notebook/lib/python3.9/site-packages (from yt) (1.26.4)\n",
      "Requirement already satisfied: packaging>=20.9 in /srv/conda/envs/notebook/lib/python3.9/site-packages (from yt) (24.0)\n",
      "Requirement already satisfied: pillow>=8.0.0 in /srv/conda/envs/notebook/lib/python3.9/site-packages (from yt) (11.1.0)\n",
      "Requirement already satisfied: tomli-w>=0.4.0 in /srv/conda/envs/notebook/lib/python3.9/site-packages (from yt) (1.2.0)\n",
      "Requirement already satisfied: tqdm>=3.4.0 in /srv/conda/envs/notebook/lib/python3.9/site-packages (from yt) (4.67.1)\n",
      "Requirement already satisfied: unyt>=2.9.2 in /srv/conda/envs/notebook/lib/python3.9/site-packages (from yt) (3.0.3)\n",
      "Requirement already satisfied: tomli>=1.2.3 in /srv/conda/envs/notebook/lib/python3.9/site-packages (from yt) (2.0.1)\n",
      "Requirement already satisfied: typing-extensions>=4.4.0 in /srv/conda/envs/notebook/lib/python3.9/site-packages (from yt) (4.10.0)\n",
      "Requirement already satisfied: comm>=0.1.3 in /srv/conda/envs/notebook/lib/python3.9/site-packages (from ipywidgets>=8.0.0->yt) (0.2.2)\n",
      "Requirement already satisfied: ipython>=6.1.0 in /srv/conda/envs/notebook/lib/python3.9/site-packages (from ipywidgets>=8.0.0->yt) (8.18.1)\n",
      "Requirement already satisfied: traitlets>=4.3.1 in /srv/conda/envs/notebook/lib/python3.9/site-packages (from ipywidgets>=8.0.0->yt) (5.14.2)\n",
      "Requirement already satisfied: widgetsnbextension~=4.0.10 in /srv/conda/envs/notebook/lib/python3.9/site-packages (from ipywidgets>=8.0.0->yt) (4.0.10)\n",
      "Requirement already satisfied: jupyterlab-widgets~=3.0.10 in /srv/conda/envs/notebook/lib/python3.9/site-packages (from ipywidgets>=8.0.0->yt) (3.0.10)\n",
      "Requirement already satisfied: contourpy>=1.0.1 in /srv/conda/envs/notebook/lib/python3.9/site-packages (from matplotlib>=3.5->yt) (1.3.0)\n",
      "Requirement already satisfied: cycler>=0.10 in /srv/conda/envs/notebook/lib/python3.9/site-packages (from matplotlib>=3.5->yt) (0.12.1)\n",
      "Requirement already satisfied: fonttools>=4.22.0 in /srv/conda/envs/notebook/lib/python3.9/site-packages (from matplotlib>=3.5->yt) (4.56.0)\n",
      "Requirement already satisfied: kiwisolver>=1.3.1 in /srv/conda/envs/notebook/lib/python3.9/site-packages (from matplotlib>=3.5->yt) (1.4.7)\n",
      "Requirement already satisfied: pyparsing>=2.3.1 in /srv/conda/envs/notebook/lib/python3.9/site-packages (from matplotlib>=3.5->yt) (3.2.1)\n",
      "Requirement already satisfied: python-dateutil>=2.7 in /srv/conda/envs/notebook/lib/python3.9/site-packages (from matplotlib>=3.5->yt) (2.9.0)\n",
      "Requirement already satisfied: importlib-resources>=3.2.0 in /srv/conda/envs/notebook/lib/python3.9/site-packages (from matplotlib>=3.5->yt) (6.4.0)\n",
      "Requirement already satisfied: sympy>=1.7 in /srv/conda/envs/notebook/lib/python3.9/site-packages (from unyt>=2.9.2->yt) (1.13.3)\n",
      "Requirement already satisfied: zipp>=3.1.0 in /srv/conda/envs/notebook/lib/python3.9/site-packages (from importlib-resources>=3.2.0->matplotlib>=3.5->yt) (3.17.0)\n",
      "Requirement already satisfied: decorator in /srv/conda/envs/notebook/lib/python3.9/site-packages (from ipython>=6.1.0->ipywidgets>=8.0.0->yt) (5.1.1)\n",
      "Requirement already satisfied: jedi>=0.16 in /srv/conda/envs/notebook/lib/python3.9/site-packages (from ipython>=6.1.0->ipywidgets>=8.0.0->yt) (0.19.1)\n",
      "Requirement already satisfied: matplotlib-inline in /srv/conda/envs/notebook/lib/python3.9/site-packages (from ipython>=6.1.0->ipywidgets>=8.0.0->yt) (0.1.6)\n",
      "Requirement already satisfied: prompt-toolkit<3.1.0,>=3.0.41 in /srv/conda/envs/notebook/lib/python3.9/site-packages (from ipython>=6.1.0->ipywidgets>=8.0.0->yt) (3.0.42)\n",
      "Requirement already satisfied: pygments>=2.4.0 in /srv/conda/envs/notebook/lib/python3.9/site-packages (from ipython>=6.1.0->ipywidgets>=8.0.0->yt) (2.17.2)\n",
      "Requirement already satisfied: stack-data in /srv/conda/envs/notebook/lib/python3.9/site-packages (from ipython>=6.1.0->ipywidgets>=8.0.0->yt) (0.6.2)\n",
      "Requirement already satisfied: exceptiongroup in /srv/conda/envs/notebook/lib/python3.9/site-packages (from ipython>=6.1.0->ipywidgets>=8.0.0->yt) (1.2.0)\n",
      "Requirement already satisfied: pexpect>4.3 in /srv/conda/envs/notebook/lib/python3.9/site-packages (from ipython>=6.1.0->ipywidgets>=8.0.0->yt) (4.9.0)\n",
      "Requirement already satisfied: six>=1.5 in /srv/conda/envs/notebook/lib/python3.9/site-packages (from python-dateutil>=2.7->matplotlib>=3.5->yt) (1.16.0)\n",
      "Requirement already satisfied: mpmath<1.4,>=1.1.0 in /srv/conda/envs/notebook/lib/python3.9/site-packages (from sympy>=1.7->unyt>=2.9.2->yt) (1.3.0)\n",
      "Requirement already satisfied: parso<0.9.0,>=0.8.3 in /srv/conda/envs/notebook/lib/python3.9/site-packages (from jedi>=0.16->ipython>=6.1.0->ipywidgets>=8.0.0->yt) (0.8.3)\n",
      "Requirement already satisfied: ptyprocess>=0.5 in /srv/conda/envs/notebook/lib/python3.9/site-packages (from pexpect>4.3->ipython>=6.1.0->ipywidgets>=8.0.0->yt) (0.7.0)\n",
      "Requirement already satisfied: wcwidth in /srv/conda/envs/notebook/lib/python3.9/site-packages (from prompt-toolkit<3.1.0,>=3.0.41->ipython>=6.1.0->ipywidgets>=8.0.0->yt) (0.2.13)\n",
      "Requirement already satisfied: executing>=1.2.0 in /srv/conda/envs/notebook/lib/python3.9/site-packages (from stack-data->ipython>=6.1.0->ipywidgets>=8.0.0->yt) (2.0.1)\n",
      "Requirement already satisfied: asttokens>=2.1.0 in /srv/conda/envs/notebook/lib/python3.9/site-packages (from stack-data->ipython>=6.1.0->ipywidgets>=8.0.0->yt) (2.4.1)\n",
      "Requirement already satisfied: pure-eval in /srv/conda/envs/notebook/lib/python3.9/site-packages (from stack-data->ipython>=6.1.0->ipywidgets>=8.0.0->yt) (0.2.2)\n",
      "Note: you may need to restart the kernel to use updated packages.\n"
     ]
    }
   ],
   "source": [
    "pip install yt"
   ]
  },
  {
   "cell_type": "code",
   "execution_count": 3,
   "id": "ea936e5f-f468-40a2-9904-8bf2c59259de",
   "metadata": {},
   "outputs": [
    {
     "name": "stdout",
     "output_type": "stream",
     "text": [
      "Requirement already satisfied: pyxsim in /srv/conda/envs/notebook/lib/python3.9/site-packages (4.4.2)\n",
      "Requirement already satisfied: numpy in /srv/conda/envs/notebook/lib/python3.9/site-packages (from pyxsim) (1.26.4)\n",
      "Requirement already satisfied: astropy>=4.0 in /srv/conda/envs/notebook/lib/python3.9/site-packages (from pyxsim) (6.0.1)\n",
      "Requirement already satisfied: h5py>=3.0 in /srv/conda/envs/notebook/lib/python3.9/site-packages (from pyxsim) (3.12.1)\n",
      "Requirement already satisfied: scipy in /srv/conda/envs/notebook/lib/python3.9/site-packages (from pyxsim) (1.13.1)\n",
      "Requirement already satisfied: yt>=4.3 in /srv/conda/envs/notebook/lib/python3.9/site-packages (from pyxsim) (4.3.1)\n",
      "Requirement already satisfied: unyt>=2.9.5 in /srv/conda/envs/notebook/lib/python3.9/site-packages (from pyxsim) (3.0.3)\n",
      "Requirement already satisfied: soxs>=4.6.0 in /srv/conda/envs/notebook/lib/python3.9/site-packages (from pyxsim) (4.8.5)\n",
      "Requirement already satisfied: tqdm in /srv/conda/envs/notebook/lib/python3.9/site-packages (from pyxsim) (4.67.1)\n",
      "Requirement already satisfied: pyerfa>=2.0.1.1 in /srv/conda/envs/notebook/lib/python3.9/site-packages (from astropy>=4.0->pyxsim) (2.0.1.5)\n",
      "Requirement already satisfied: astropy-iers-data>=0.2024.2.26.0.28.55 in /srv/conda/envs/notebook/lib/python3.9/site-packages (from astropy>=4.0->pyxsim) (0.2025.2.10.0.33.26)\n",
      "Requirement already satisfied: PyYAML>=3.13 in /srv/conda/envs/notebook/lib/python3.9/site-packages (from astropy>=4.0->pyxsim) (6.0.1)\n",
      "Requirement already satisfied: packaging>=19.0 in /srv/conda/envs/notebook/lib/python3.9/site-packages (from astropy>=4.0->pyxsim) (24.0)\n",
      "Requirement already satisfied: pooch in /srv/conda/envs/notebook/lib/python3.9/site-packages (from soxs>=4.6.0->pyxsim) (1.8.2)\n",
      "Requirement already satisfied: regions in /srv/conda/envs/notebook/lib/python3.9/site-packages (from soxs>=4.6.0->pyxsim) (0.8)\n",
      "Requirement already satisfied: appdirs in /srv/conda/envs/notebook/lib/python3.9/site-packages (from soxs>=4.6.0->pyxsim) (1.4.4)\n",
      "Requirement already satisfied: sympy>=1.7 in /srv/conda/envs/notebook/lib/python3.9/site-packages (from unyt>=2.9.5->pyxsim) (1.13.3)\n",
      "Requirement already satisfied: cmyt>=1.1.2 in /srv/conda/envs/notebook/lib/python3.9/site-packages (from yt>=4.3->pyxsim) (2.0.0)\n",
      "Requirement already satisfied: ewah-bool-utils>=1.2.0 in /srv/conda/envs/notebook/lib/python3.9/site-packages (from yt>=4.3->pyxsim) (1.2.2)\n",
      "Requirement already satisfied: ipywidgets>=8.0.0 in /srv/conda/envs/notebook/lib/python3.9/site-packages (from yt>=4.3->pyxsim) (8.1.2)\n",
      "Requirement already satisfied: matplotlib>=3.5 in /srv/conda/envs/notebook/lib/python3.9/site-packages (from yt>=4.3->pyxsim) (3.9.4)\n",
      "Requirement already satisfied: more-itertools>=8.4 in /srv/conda/envs/notebook/lib/python3.9/site-packages (from yt>=4.3->pyxsim) (10.7.0)\n",
      "Requirement already satisfied: pillow>=8.0.0 in /srv/conda/envs/notebook/lib/python3.9/site-packages (from yt>=4.3->pyxsim) (11.1.0)\n",
      "Requirement already satisfied: tomli-w>=0.4.0 in /srv/conda/envs/notebook/lib/python3.9/site-packages (from yt>=4.3->pyxsim) (1.2.0)\n",
      "Requirement already satisfied: tomli>=1.2.3 in /srv/conda/envs/notebook/lib/python3.9/site-packages (from yt>=4.3->pyxsim) (2.0.1)\n",
      "Requirement already satisfied: typing-extensions>=4.4.0 in /srv/conda/envs/notebook/lib/python3.9/site-packages (from yt>=4.3->pyxsim) (4.10.0)\n",
      "Requirement already satisfied: comm>=0.1.3 in /srv/conda/envs/notebook/lib/python3.9/site-packages (from ipywidgets>=8.0.0->yt>=4.3->pyxsim) (0.2.2)\n",
      "Requirement already satisfied: ipython>=6.1.0 in /srv/conda/envs/notebook/lib/python3.9/site-packages (from ipywidgets>=8.0.0->yt>=4.3->pyxsim) (8.18.1)\n",
      "Requirement already satisfied: traitlets>=4.3.1 in /srv/conda/envs/notebook/lib/python3.9/site-packages (from ipywidgets>=8.0.0->yt>=4.3->pyxsim) (5.14.2)\n",
      "Requirement already satisfied: widgetsnbextension~=4.0.10 in /srv/conda/envs/notebook/lib/python3.9/site-packages (from ipywidgets>=8.0.0->yt>=4.3->pyxsim) (4.0.10)\n",
      "Requirement already satisfied: jupyterlab-widgets~=3.0.10 in /srv/conda/envs/notebook/lib/python3.9/site-packages (from ipywidgets>=8.0.0->yt>=4.3->pyxsim) (3.0.10)\n",
      "Requirement already satisfied: contourpy>=1.0.1 in /srv/conda/envs/notebook/lib/python3.9/site-packages (from matplotlib>=3.5->yt>=4.3->pyxsim) (1.3.0)\n",
      "Requirement already satisfied: cycler>=0.10 in /srv/conda/envs/notebook/lib/python3.9/site-packages (from matplotlib>=3.5->yt>=4.3->pyxsim) (0.12.1)\n",
      "Requirement already satisfied: fonttools>=4.22.0 in /srv/conda/envs/notebook/lib/python3.9/site-packages (from matplotlib>=3.5->yt>=4.3->pyxsim) (4.56.0)\n",
      "Requirement already satisfied: kiwisolver>=1.3.1 in /srv/conda/envs/notebook/lib/python3.9/site-packages (from matplotlib>=3.5->yt>=4.3->pyxsim) (1.4.7)\n",
      "Requirement already satisfied: pyparsing>=2.3.1 in /srv/conda/envs/notebook/lib/python3.9/site-packages (from matplotlib>=3.5->yt>=4.3->pyxsim) (3.2.1)\n",
      "Requirement already satisfied: python-dateutil>=2.7 in /srv/conda/envs/notebook/lib/python3.9/site-packages (from matplotlib>=3.5->yt>=4.3->pyxsim) (2.9.0)\n",
      "Requirement already satisfied: importlib-resources>=3.2.0 in /srv/conda/envs/notebook/lib/python3.9/site-packages (from matplotlib>=3.5->yt>=4.3->pyxsim) (6.4.0)\n",
      "Requirement already satisfied: mpmath<1.4,>=1.1.0 in /srv/conda/envs/notebook/lib/python3.9/site-packages (from sympy>=1.7->unyt>=2.9.5->pyxsim) (1.3.0)\n",
      "Requirement already satisfied: platformdirs>=2.5.0 in /srv/conda/envs/notebook/lib/python3.9/site-packages (from pooch->soxs>=4.6.0->pyxsim) (4.2.0)\n",
      "Requirement already satisfied: requests>=2.19.0 in /srv/conda/envs/notebook/lib/python3.9/site-packages (from pooch->soxs>=4.6.0->pyxsim) (2.31.0)\n",
      "Requirement already satisfied: zipp>=3.1.0 in /srv/conda/envs/notebook/lib/python3.9/site-packages (from importlib-resources>=3.2.0->matplotlib>=3.5->yt>=4.3->pyxsim) (3.17.0)\n",
      "Requirement already satisfied: decorator in /srv/conda/envs/notebook/lib/python3.9/site-packages (from ipython>=6.1.0->ipywidgets>=8.0.0->yt>=4.3->pyxsim) (5.1.1)\n",
      "Requirement already satisfied: jedi>=0.16 in /srv/conda/envs/notebook/lib/python3.9/site-packages (from ipython>=6.1.0->ipywidgets>=8.0.0->yt>=4.3->pyxsim) (0.19.1)\n",
      "Requirement already satisfied: matplotlib-inline in /srv/conda/envs/notebook/lib/python3.9/site-packages (from ipython>=6.1.0->ipywidgets>=8.0.0->yt>=4.3->pyxsim) (0.1.6)\n",
      "Requirement already satisfied: prompt-toolkit<3.1.0,>=3.0.41 in /srv/conda/envs/notebook/lib/python3.9/site-packages (from ipython>=6.1.0->ipywidgets>=8.0.0->yt>=4.3->pyxsim) (3.0.42)\n",
      "Requirement already satisfied: pygments>=2.4.0 in /srv/conda/envs/notebook/lib/python3.9/site-packages (from ipython>=6.1.0->ipywidgets>=8.0.0->yt>=4.3->pyxsim) (2.17.2)\n",
      "Requirement already satisfied: stack-data in /srv/conda/envs/notebook/lib/python3.9/site-packages (from ipython>=6.1.0->ipywidgets>=8.0.0->yt>=4.3->pyxsim) (0.6.2)\n",
      "Requirement already satisfied: exceptiongroup in /srv/conda/envs/notebook/lib/python3.9/site-packages (from ipython>=6.1.0->ipywidgets>=8.0.0->yt>=4.3->pyxsim) (1.2.0)\n",
      "Requirement already satisfied: pexpect>4.3 in /srv/conda/envs/notebook/lib/python3.9/site-packages (from ipython>=6.1.0->ipywidgets>=8.0.0->yt>=4.3->pyxsim) (4.9.0)\n",
      "Requirement already satisfied: six>=1.5 in /srv/conda/envs/notebook/lib/python3.9/site-packages (from python-dateutil>=2.7->matplotlib>=3.5->yt>=4.3->pyxsim) (1.16.0)\n",
      "Requirement already satisfied: charset-normalizer<4,>=2 in /srv/conda/envs/notebook/lib/python3.9/site-packages (from requests>=2.19.0->pooch->soxs>=4.6.0->pyxsim) (3.3.2)\n",
      "Requirement already satisfied: idna<4,>=2.5 in /srv/conda/envs/notebook/lib/python3.9/site-packages (from requests>=2.19.0->pooch->soxs>=4.6.0->pyxsim) (3.6)\n",
      "Requirement already satisfied: urllib3<3,>=1.21.1 in /srv/conda/envs/notebook/lib/python3.9/site-packages (from requests>=2.19.0->pooch->soxs>=4.6.0->pyxsim) (2.2.1)\n",
      "Requirement already satisfied: certifi>=2017.4.17 in /srv/conda/envs/notebook/lib/python3.9/site-packages (from requests>=2.19.0->pooch->soxs>=4.6.0->pyxsim) (2024.12.14)\n",
      "Requirement already satisfied: parso<0.9.0,>=0.8.3 in /srv/conda/envs/notebook/lib/python3.9/site-packages (from jedi>=0.16->ipython>=6.1.0->ipywidgets>=8.0.0->yt>=4.3->pyxsim) (0.8.3)\n",
      "Requirement already satisfied: ptyprocess>=0.5 in /srv/conda/envs/notebook/lib/python3.9/site-packages (from pexpect>4.3->ipython>=6.1.0->ipywidgets>=8.0.0->yt>=4.3->pyxsim) (0.7.0)\n",
      "Requirement already satisfied: wcwidth in /srv/conda/envs/notebook/lib/python3.9/site-packages (from prompt-toolkit<3.1.0,>=3.0.41->ipython>=6.1.0->ipywidgets>=8.0.0->yt>=4.3->pyxsim) (0.2.13)\n",
      "Requirement already satisfied: executing>=1.2.0 in /srv/conda/envs/notebook/lib/python3.9/site-packages (from stack-data->ipython>=6.1.0->ipywidgets>=8.0.0->yt>=4.3->pyxsim) (2.0.1)\n",
      "Requirement already satisfied: asttokens>=2.1.0 in /srv/conda/envs/notebook/lib/python3.9/site-packages (from stack-data->ipython>=6.1.0->ipywidgets>=8.0.0->yt>=4.3->pyxsim) (2.4.1)\n",
      "Requirement already satisfied: pure-eval in /srv/conda/envs/notebook/lib/python3.9/site-packages (from stack-data->ipython>=6.1.0->ipywidgets>=8.0.0->yt>=4.3->pyxsim) (0.2.2)\n",
      "Note: you may need to restart the kernel to use updated packages.\n"
     ]
    }
   ],
   "source": [
    "pip install pyxsim"
   ]
  },
  {
   "cell_type": "code",
   "execution_count": 4,
   "id": "ca8d090e-4865-4139-96a3-55a21662ad4c",
   "metadata": {},
   "outputs": [
    {
     "name": "stderr",
     "output_type": "stream",
     "text": [
      "soxs : [WARNING  ] 2025-05-19 08:05:43,467 Setting 'soxs_data_dir' to /home/jovyan/.cache/soxs for this session. Please update your configuration if you want it somewhere else.\n"
     ]
    }
   ],
   "source": [
    "import yt\n",
    "import pyxsim\n",
    "from tqdm import tqdm\n",
    "\n",
    "import h5py\n",
    "import numpy as np\n",
    "import pylab as plt\n",
    "\n",
    "import os\n",
    "from regions import RectangleSkyRegion\n",
    "from astropy.coordinates import SkyCoord\n",
    "import astropy.units as u\n",
    "from astropy import wcs\n",
    "from astropy.io import fits\n",
    "\n",
    "from soxs.utils import soxs_cfg\n",
    "soxs_cfg.set(\"soxs\", \"bkgnd_nH\", \"0.018\") # avoid configparser error by specifying here\n",
    "import soxs\n",
    "from concurrent.futures import ProcessPoolExecutor, as_completed"
   ]
  },
  {
   "cell_type": "code",
   "execution_count": 5,
   "id": "6ae5f5a8-d96c-4c42-8983-b5a71e28075b",
   "metadata": {},
   "outputs": [],
   "source": [
    "snap = \"060\"\n",
    "r_norm_max = 1\n",
    "r_norm_min = 1e-2\n",
    "nbins = 8\n",
    "#hm = [\"1011\", \"1112\", \"1213\"]\n",
    "hm = \"3\"\n",
    "ex = [\"ex0\", \"ex1\", \"ex2\", \"ex3\"]"
   ]
  },
  {
   "cell_type": "raw",
   "id": "7b6624da-75fc-44a7-870a-c1b3fcac33ce",
   "metadata": {},
   "source": [
    "f_snapshot = f'/home/jovyan/Data/Sims/IllustrisTNG/EX/EX_{num}/snapshot_{snap}.hdf5'\n",
    "f_catalog  = f'/home/jovyan/Data/FOF_Subfind/IllustrisTNG/EX/EX_{num}/groups_{snap}.hdf5'"
   ]
  },
  {
   "cell_type": "raw",
   "id": "c6ab70a2-ca0f-4f6c-b678-a44cb1fc7c6f",
   "metadata": {},
   "source": [
    "f = h5py.File(f_catalog, 'r')\n",
    "lentype_h = f['Group/GroupLenType'][:]\n",
    "r200_all = f['Group/Group_R_Crit200'][:]\n",
    "c_all = f['Group/GroupPos'][:]\n",
    "f.close()"
   ]
  },
  {
   "cell_type": "code",
   "execution_count": 6,
   "id": "d3064066-7f54-4a73-9abc-893d95f15eb3",
   "metadata": {},
   "outputs": [],
   "source": [
    "def process_single_halo(args):\n",
    "    haloID, label, num = args\n",
    "    try:\n",
    "        f_snapshot = f'/home/jovyan/Data/Sims/IllustrisTNG/EX/EX_{num}/snapshot_{snap}.hdf5'\n",
    "        f_catalog  = f'/home/jovyan/Data/FOF_Subfind/IllustrisTNG/EX/EX_{num}/groups_{snap}.hdf5'\n",
    "        \n",
    "        f = h5py.File(f_catalog, 'r')\n",
    "        lentype_h = f['Group/GroupLenType'][:]\n",
    "        r200_all = f['Group/Group_R_Crit200'][:]\n",
    "        c_all = f['Group/GroupPos'][:]\n",
    "        f.close()\n",
    "\n",
    "        r2001 = r200_all[haloID]\n",
    "        center = c_all[haloID]\n",
    "        \n",
    "        offset = np.sum(lentype_h[:haloID], axis=0)\n",
    "        start = offset[0]\n",
    "        end = offset[0] + lentype_h[haloID, 0]\n",
    "        indices = np.arange(start, end)\n",
    "        \n",
    "        with h5py.File(f_snapshot, \"r\") as f_in:\n",
    "            header_snap = dict(f_in['Header'].attrs)\n",
    "            parttype0 = f_in[\"PartType0\"]\n",
    "            keys = list(parttype0.keys())\n",
    "\n",
    "            filename = f\"halo_{label}_{haloID}.hdf5\"\n",
    "            with h5py.File(filename, \"w\") as f_out:\n",
    "                grp = f_out.create_group(\"PartType0\")\n",
    "                for key in keys:\n",
    "                    data = parttype0[key][indices]\n",
    "                    grp.create_dataset(key, data=data)\n",
    "\n",
    "                header_grp = f_out.create_group('Header')\n",
    "                header_grp.attrs['NumFilesPerSnapshot'] = 1\n",
    "                header_grp.attrs['MassTable'] = header_snap['MassTable']\n",
    "                header_grp.attrs['BoxSize'] = header_snap['BoxSize']\n",
    "                header_grp.attrs['Time'] = header_snap['Time']\n",
    "                header_grp.attrs['Redshift'] = header_snap['Redshift']\n",
    "                gas_count = len(grp['Density'][:])\n",
    "                header_grp.attrs['NumPart_ThisFile'] = np.array([gas_count,0,0,0,0,0])\n",
    "                header_grp.attrs['HubbleParam'] = header_snap['HubbleParam']\n",
    "                header_grp.attrs['Omega0'] = header_snap['Omega0']\n",
    "                header_grp.attrs['OmegaLambda'] = header_snap['OmegaLambda']\n",
    "                header_grp.attrs['UnitLength_in_cm'] = header_snap['UnitLength_in_cm']\n",
    "                header_grp.attrs['UnitMass_in_g'] = header_snap['UnitMass_in_g']\n",
    "                header_grp.attrs['UnitVelocity_in_cm_per_s'] = header_snap['UnitVelocity_in_cm_per_s']\n",
    "\n",
    "        ds = yt.load(filename)\n",
    "\n",
    "        def hot_gas(pfilter, data):\n",
    "            pfilter1 = data[pfilter.filtered_type, \"temperature\"] > 3.0e5\n",
    "            pfilter2 = data[\"PartType0\", \"StarFormationRate\"] == 0.0\n",
    "            pfilter3 = data[\"PartType0\", \"GFM_CoolingRate\"] < 0.0\n",
    "            return (pfilter1 & pfilter2) & pfilter3\n",
    "\n",
    "        yt.add_particle_filter(\"hot_gas\", function=hot_gas,\n",
    "                               filtered_type='gas', requires=[\"temperature\",\"density\"])\n",
    "        ds.add_particle_filter(\"hot_gas\")\n",
    "\n",
    "        source_model = pyxsim.CIESourceModel(\n",
    "            \"apec\", 0.5, 2.0, 10000,\n",
    "            (\"hot_gas\", \"metallicity\"),\n",
    "            temperature_field=(\"hot_gas\", \"temperature\"),\n",
    "            emission_measure_field=(\"hot_gas\", \"emission_measure\"),\n",
    "        )\n",
    "\n",
    "        c = ds.arr(center, \"code_length\").to(\"kpc\")\n",
    "        r200 = ds.arr(r2001, \"code_length\").to(\"kpc\")\n",
    "\n",
    "        xray_fields = source_model.make_source_fields(ds, 0.5, 2)\n",
    "        proj2 = ds.proj(xray_fields[0], axis='z', center=c)\n",
    "        frb2 = proj2.to_frb(2* r_norm_max * r200, (500, 500), center=c)\n",
    "        xray_data = frb2[xray_fields[0]]\n",
    "\n",
    "        ny, nx = xray_data.shape\n",
    "        center_x, center_y = nx // 2, ny // 2\n",
    "        y, x = np.indices((ny, nx))\n",
    "        rp = (np.sqrt((x - center_x)**2 + (y - center_y)**2))/r200\n",
    "        radii = rp * (2* r_norm_max * r200/500.0)\n",
    "        #r_bins = np.linspace(0, r_norm_max, nbins + 1)\n",
    "        r_bins = np.logspace(np.log10(r_norm_min), np.log10(r_norm_max), nbins + 1)\n",
    "        \n",
    "        def bin_profile(quantity):\n",
    "            binned = np.array([\n",
    "                np.mean(quantity[(radii >= r_bins[i]) & (radii < r_bins[i+1])])\n",
    "                if np.any((radii >= r_bins[i]) & (radii < r_bins[i+1])) else np.nan\n",
    "                for i in range(nbins)\n",
    "            ])\n",
    "            return np.nan_to_num(binned, nan=0.0)\n",
    "\n",
    "        profile = bin_profile(xray_data)\n",
    "\n",
    "        for f in [filename, filename + \".ewah\"]:\n",
    "            if os.path.exists(f):\n",
    "                os.remove(f)\n",
    "\n",
    "        return (haloID, profile)\n",
    "\n",
    "    except Exception as e:\n",
    "        print(f\"❌ Failed for halo {haloID}: {e}\")\n",
    "        return (haloID, np.zeros(nbins))\n",
    "\n",
    "\n",
    "def combined_xray_profiles(halo_list, label, num, max_workers=5):\n",
    "    xray_profiles = np.zeros((len(halo_list), nbins))\n",
    "\n",
    "    with ProcessPoolExecutor(max_workers=5) as executor:\n",
    "        futures = {executor.submit(process_single_halo, (haloID, label, num)): i for i, haloID in enumerate(halo_list)}\n",
    "        for future in tqdm(as_completed(futures), total=len(futures), desc=f\"{label} Halos\"):\n",
    "            i = futures[future]\n",
    "            haloID, profile = future.result()\n",
    "            xray_profiles[i, :] = profile\n",
    "\n",
    "    xray_mean = np.nanmean(xray_profiles, axis=0)\n",
    "    xray_sem = np.nanstd(xray_profiles, axis=0, ddof=1) / np.sqrt(len(halo_list))\n",
    "\n",
    "    np.savez(f\"xray_profile100_{label}_{hm}.npz\", xray_mean=xray_mean, xray_sem=xray_sem)\n",
    "    print(f\"✅ Saved xray_profile100_{label}_{hm}.npz\")\n"
   ]
  },
  {
   "cell_type": "code",
   "execution_count": 7,
   "id": "63f4976b-d8f1-4d1a-b195-ee55721bcd65",
   "metadata": {},
   "outputs": [
    {
     "name": "stderr",
     "output_type": "stream",
     "text": [
      "ex0 Halos:   0%|          | 0/52 [00:00<?, ?it/s]yt : [INFO     ] 2025-05-19 08:05:51,290 Calculating time from 4.884e-01 to be 1.833e+17 seconds\n",
      "yt : [INFO     ] 2025-05-19 08:05:51,292 Calculating time from 4.884e-01 to be 1.833e+17 seconds\n",
      "yt : [INFO     ] 2025-05-19 08:05:51,297 Calculating time from 4.884e-01 to be 1.833e+17 seconds\n",
      "yt : [INFO     ] 2025-05-19 08:05:51,299 Calculating time from 4.884e-01 to be 1.833e+17 seconds\n",
      "yt : [INFO     ] 2025-05-19 08:05:51,884 Parameters: current_time              = 1.832656005258152e+17 s\n",
      "yt : [INFO     ] 2025-05-19 08:05:51,886 Parameters: current_time              = 1.832656005258152e+17 s\n",
      "yt : [INFO     ] 2025-05-19 08:05:51,886 Parameters: domain_dimensions         = [1 1 1]\n",
      "yt : [INFO     ] 2025-05-19 08:05:51,887 Parameters: domain_dimensions         = [1 1 1]\n",
      "yt : [INFO     ] 2025-05-19 08:05:51,887 Parameters: domain_left_edge          = [0. 0. 0.]\n",
      "yt : [INFO     ] 2025-05-19 08:05:51,888 Parameters: domain_left_edge          = [0. 0. 0.]\n",
      "yt : [INFO     ] 2025-05-19 08:05:51,888 Parameters: domain_right_edge         = [25000. 25000. 25000.]\n",
      "yt : [INFO     ] 2025-05-19 08:05:51,889 Parameters: cosmological_simulation   = True\n",
      "yt : [INFO     ] 2025-05-19 08:05:51,889 Parameters: domain_right_edge         = [25000. 25000. 25000.]\n",
      "yt : [INFO     ] 2025-05-19 08:05:51,890 Parameters: current_redshift          = 1.0476023211521182\n",
      "yt : [INFO     ] 2025-05-19 08:05:51,891 Parameters: cosmological_simulation   = True\n",
      "yt : [INFO     ] 2025-05-19 08:05:51,891 Parameters: omega_lambda              = 0.7\n",
      "yt : [INFO     ] 2025-05-19 08:05:51,891 Parameters: current_redshift          = 1.0476023211521182\n",
      "yt : [INFO     ] 2025-05-19 08:05:51,892 Parameters: omega_lambda              = 0.7\n",
      "yt : [INFO     ] 2025-05-19 08:05:51,892 Parameters: omega_matter              = 0.3\n",
      "yt : [INFO     ] 2025-05-19 08:05:51,893 Parameters: omega_matter              = 0.3\n",
      "yt : [INFO     ] 2025-05-19 08:05:51,975 Parameters: omega_radiation           = 0.0\n",
      "yt : [INFO     ] 2025-05-19 08:05:51,975 Parameters: omega_radiation           = 0.0\n",
      "yt : [INFO     ] 2025-05-19 08:05:51,976 Parameters: hubble_constant           = 0.6711\n",
      "yt : [INFO     ] 2025-05-19 08:05:51,976 Parameters: hubble_constant           = 0.6711\n",
      "yt : [INFO     ] 2025-05-19 08:05:51,988 Parameters: current_time              = 1.832656005258152e+17 s\n",
      "yt : [INFO     ] 2025-05-19 08:05:51,989 Parameters: domain_dimensions         = [1 1 1]\n",
      "yt : [INFO     ] 2025-05-19 08:05:51,990 Parameters: domain_left_edge          = [0. 0. 0.]\n",
      "yt : [INFO     ] 2025-05-19 08:05:51,991 Parameters: domain_right_edge         = [25000. 25000. 25000.]\n",
      "yt : [INFO     ] 2025-05-19 08:05:51,992 Parameters: cosmological_simulation   = True\n",
      "yt : [INFO     ] 2025-05-19 08:05:52,074 Parameters: current_redshift          = 1.0476023211521182\n",
      "yt : [INFO     ] 2025-05-19 08:05:52,075 Parameters: omega_lambda              = 0.7\n",
      "yt : [INFO     ] 2025-05-19 08:05:52,076 Parameters: omega_matter              = 0.3\n",
      "yt : [INFO     ] 2025-05-19 08:05:52,077 Parameters: omega_radiation           = 0.0\n",
      "yt : [INFO     ] 2025-05-19 08:05:52,076 Parameters: current_time              = 1.832656005258152e+17 s\n",
      "yt : [INFO     ] 2025-05-19 08:05:52,078 Parameters: hubble_constant           = 0.6711\n",
      "yt : [INFO     ] 2025-05-19 08:05:52,078 Parameters: domain_dimensions         = [1 1 1]\n",
      "yt : [INFO     ] 2025-05-19 08:05:52,080 Parameters: domain_left_edge          = [0. 0. 0.]\n",
      "yt : [INFO     ] 2025-05-19 08:05:52,081 Parameters: domain_right_edge         = [25000. 25000. 25000.]\n",
      "yt : [INFO     ] 2025-05-19 08:05:52,082 Parameters: cosmological_simulation   = True\n",
      "yt : [INFO     ] 2025-05-19 08:05:52,083 Parameters: current_redshift          = 1.0476023211521182\n",
      "yt : [INFO     ] 2025-05-19 08:05:52,085 Parameters: omega_lambda              = 0.7\n",
      "yt : [INFO     ] 2025-05-19 08:05:52,087 Parameters: omega_matter              = 0.3\n",
      "yt : [INFO     ] 2025-05-19 08:05:52,088 Parameters: omega_radiation           = 0.0\n",
      "yt : [INFO     ] 2025-05-19 08:05:52,088 Calculating time from 4.884e-01 to be 1.833e+17 seconds\n",
      "yt : [INFO     ] 2025-05-19 08:05:52,175 Parameters: hubble_constant           = 0.6711\n",
      "yt : [INFO     ] 2025-05-19 08:05:52,185 Allocating for 2.017e+04 particles\n",
      "yt : [INFO     ] 2025-05-19 08:05:52,212 Allocating for 1.682e+04 particles\n",
      "yt : [INFO     ] 2025-05-19 08:05:52,276 Allocating for 1.804e+04 particles\n",
      "yt : [INFO     ] 2025-05-19 08:05:52,387 Allocating for 1.79e+04 particles\n",
      "yt : [INFO     ] 2025-05-19 08:05:52,692 Parameters: current_time              = 1.832656005258152e+17 s\n",
      "yt : [INFO     ] 2025-05-19 08:05:52,778 Parameters: domain_dimensions         = [1 1 1]\n",
      "yt : [INFO     ] 2025-05-19 08:05:52,781 Parameters: domain_left_edge          = [0. 0. 0.]\n",
      "yt : [INFO     ] 2025-05-19 08:05:52,782 Parameters: domain_right_edge         = [25000. 25000. 25000.]\n",
      "yt : [INFO     ] 2025-05-19 08:05:52,783 Parameters: cosmological_simulation   = True\n",
      "yt : [INFO     ] 2025-05-19 08:05:52,784 Parameters: current_redshift          = 1.0476023211521182\n",
      "yt : [INFO     ] 2025-05-19 08:05:52,785 Parameters: omega_lambda              = 0.7\n",
      "yt : [INFO     ] 2025-05-19 08:05:52,786 Parameters: omega_matter              = 0.3\n",
      "yt : [INFO     ] 2025-05-19 08:05:52,787 Parameters: omega_radiation           = 0.0\n",
      "yt : [INFO     ] 2025-05-19 08:05:52,875 Parameters: hubble_constant           = 0.6711\n",
      "yt : [INFO     ] 2025-05-19 08:05:53,182 Allocating for 3.556e+04 particles\n",
      "pyxsim : [INFO     ] 2025-05-19 08:06:10,475 kT_min = 0.025 keV\n",
      "pyxsim : [INFO     ] 2025-05-19 08:06:10,477 kT_max = 64 keV\n",
      "pyxsim : [INFO     ] 2025-05-19 08:06:10,479 Using emission measure field '('hot_gas', 'emission_measure')'.\n",
      "pyxsim : [INFO     ] 2025-05-19 08:06:10,480 Using temperature field '('hot_gas', 'temperature')'.\n",
      "pyxsim : [INFO     ] 2025-05-19 08:06:10,581 kT_min = 0.025 keV\n",
      "pyxsim : [INFO     ] 2025-05-19 08:06:10,583 kT_max = 64 keV\n",
      "pyxsim : [INFO     ] 2025-05-19 08:06:10,585 Using emission measure field '('hot_gas', 'emission_measure')'.\n",
      "pyxsim : [INFO     ] 2025-05-19 08:06:10,586 Using temperature field '('hot_gas', 'temperature')'.\n"
     ]
    },
    {
     "data": {
      "application/vnd.jupyter.widget-view+json": {
       "model_id": "6cb2b9458d164b649b250f3869c02093",
       "version_major": 2,
       "version_minor": 0
      },
      "text/plain": [
       "Preparing spectrum table :   0%|          | 0/138 [00:00<?, ?it/s]"
      ]
     },
     "metadata": {},
     "output_type": "display_data"
    },
    {
     "data": {
      "application/vnd.jupyter.widget-view+json": {
       "model_id": "bdf4328c788946f690d1a3cfb6b8e400",
       "version_major": 2,
       "version_minor": 0
      },
      "text/plain": [
       "Preparing spectrum table :   0%|          | 0/138 [00:00<?, ?it/s]"
      ]
     },
     "metadata": {},
     "output_type": "display_data"
    },
    {
     "name": "stderr",
     "output_type": "stream",
     "text": [
      "pyxsim : [INFO     ] 2025-05-19 08:06:10,892 kT_min = 0.025 keV\n",
      "pyxsim : [INFO     ] 2025-05-19 08:06:10,894 kT_max = 64 keV\n",
      "pyxsim : [INFO     ] 2025-05-19 08:06:10,975 Using emission measure field '('hot_gas', 'emission_measure')'.\n",
      "pyxsim : [INFO     ] 2025-05-19 08:06:10,976 Using temperature field '('hot_gas', 'temperature')'.\n"
     ]
    },
    {
     "data": {
      "application/vnd.jupyter.widget-view+json": {
       "model_id": "821de02671ef474c94f577eadc718a2f",
       "version_major": 2,
       "version_minor": 0
      },
      "text/plain": [
       "Preparing spectrum table :   0%|          | 0/138 [00:00<?, ?it/s]"
      ]
     },
     "metadata": {},
     "output_type": "display_data"
    },
    {
     "name": "stderr",
     "output_type": "stream",
     "text": [
      "pyxsim : [INFO     ] 2025-05-19 08:06:11,193 kT_min = 0.025 keV\n",
      "pyxsim : [INFO     ] 2025-05-19 08:06:11,277 kT_max = 64 keV\n",
      "pyxsim : [INFO     ] 2025-05-19 08:06:11,279 Using emission measure field '('hot_gas', 'emission_measure')'.\n",
      "pyxsim : [INFO     ] 2025-05-19 08:06:11,280 Using temperature field '('hot_gas', 'temperature')'.\n"
     ]
    },
    {
     "data": {
      "application/vnd.jupyter.widget-view+json": {
       "model_id": "9e4dc21180b0412f9696b6fd11b9b5a6",
       "version_major": 2,
       "version_minor": 0
      },
      "text/plain": [
       "Preparing spectrum table :   0%|          | 0/138 [00:00<?, ?it/s]"
      ]
     },
     "metadata": {},
     "output_type": "display_data"
    },
    {
     "name": "stderr",
     "output_type": "stream",
     "text": [
      "pyxsim : [INFO     ] 2025-05-19 08:06:11,387 kT_min = 0.025 keV\n",
      "pyxsim : [INFO     ] 2025-05-19 08:06:11,391 kT_max = 64 keV\n",
      "pyxsim : [INFO     ] 2025-05-19 08:06:11,476 Using emission measure field '('hot_gas', 'emission_measure')'.\n",
      "pyxsim : [INFO     ] 2025-05-19 08:06:11,477 Using temperature field '('hot_gas', 'temperature')'.\n"
     ]
    },
    {
     "data": {
      "application/vnd.jupyter.widget-view+json": {
       "model_id": "4110927a51c345e285d78d75cdb52110",
       "version_major": 2,
       "version_minor": 0
      },
      "text/plain": [
       "Preparing spectrum table :   0%|          | 0/138 [00:00<?, ?it/s]"
      ]
     },
     "metadata": {},
     "output_type": "display_data"
    },
    {
     "name": "stderr",
     "output_type": "stream",
     "text": [
      "yt : [INFO     ] 2025-05-19 08:08:44,382 Making a fixed resolution buffer of (('hot_gas', 'xray_emissivity_0.5_2_keV')) 500 by 500\n",
      "yt : [INFO     ] 2025-05-19 08:08:44,893 Making a fixed resolution buffer of (('hot_gas', 'xray_emissivity_0.5_2_keV')) 500 by 500\n",
      "yt : [INFO     ] 2025-05-19 08:08:46,091 Making a fixed resolution buffer of (('hot_gas', 'xray_emissivity_0.5_2_keV')) 500 by 500\n",
      "yt : [INFO     ] 2025-05-19 08:08:46,487 Making a fixed resolution buffer of (('hot_gas', 'xray_emissivity_0.5_2_keV')) 500 by 500\n",
      "yt : [INFO     ] 2025-05-19 08:08:46,500 Making a fixed resolution buffer of (('hot_gas', 'xray_emissivity_0.5_2_keV')) 500 by 500\n",
      "ex0 Halos:  10%|▉         | 5/52 [03:15<14:13, 18.16s/it]   yt : [INFO     ] 2025-05-19 08:09:01,796 Calculating time from 4.884e-01 to be 1.833e+17 seconds\n",
      "yt : [INFO     ] 2025-05-19 08:09:02,383 Parameters: current_time              = 1.832656005258152e+17 s\n",
      "yt : [INFO     ] 2025-05-19 08:09:02,384 Parameters: domain_dimensions         = [1 1 1]\n",
      "yt : [INFO     ] 2025-05-19 08:09:02,386 Parameters: domain_left_edge          = [0. 0. 0.]\n",
      "yt : [INFO     ] 2025-05-19 08:09:02,387 Parameters: domain_right_edge         = [25000. 25000. 25000.]\n",
      "yt : [INFO     ] 2025-05-19 08:09:02,388 Parameters: cosmological_simulation   = True\n",
      "yt : [INFO     ] 2025-05-19 08:09:02,389 Parameters: current_redshift          = 1.0476023211521182\n",
      "yt : [INFO     ] 2025-05-19 08:09:02,390 Parameters: omega_lambda              = 0.7\n",
      "yt : [INFO     ] 2025-05-19 08:09:02,390 Parameters: omega_matter              = 0.3\n",
      "yt : [INFO     ] 2025-05-19 08:09:02,391 Parameters: omega_radiation           = 0.0\n",
      "yt : [INFO     ] 2025-05-19 08:09:02,392 Parameters: hubble_constant           = 0.6711\n",
      "yt : [WARNING  ] 2025-05-19 08:09:02,475 The hot_gas particle filter already exists. Overriding.\n",
      "yt : [INFO     ] 2025-05-19 08:09:02,688 Allocating for 1.743e+04 particles\n",
      "yt : [INFO     ] 2025-05-19 08:09:02,989 Calculating time from 4.884e-01 to be 1.833e+17 seconds\n",
      "yt : [INFO     ] 2025-05-19 08:09:03,296 Parameters: current_time              = 1.832656005258152e+17 s\n",
      "yt : [INFO     ] 2025-05-19 08:09:03,298 Parameters: domain_dimensions         = [1 1 1]\n",
      "yt : [INFO     ] 2025-05-19 08:09:03,299 Parameters: domain_left_edge          = [0. 0. 0.]\n",
      "yt : [INFO     ] 2025-05-19 08:09:03,301 Parameters: domain_right_edge         = [25000. 25000. 25000.]\n",
      "yt : [INFO     ] 2025-05-19 08:09:03,302 Parameters: cosmological_simulation   = True\n",
      "yt : [INFO     ] 2025-05-19 08:09:03,302 Parameters: current_redshift          = 1.0476023211521182\n",
      "yt : [INFO     ] 2025-05-19 08:09:03,303 Parameters: omega_lambda              = 0.7\n",
      "yt : [INFO     ] 2025-05-19 08:09:03,304 Parameters: omega_matter              = 0.3\n",
      "yt : [INFO     ] 2025-05-19 08:09:03,305 Parameters: omega_radiation           = 0.0\n",
      "yt : [INFO     ] 2025-05-19 08:09:03,306 Parameters: hubble_constant           = 0.6711\n",
      "yt : [WARNING  ] 2025-05-19 08:09:03,308 The hot_gas particle filter already exists. Overriding.\n",
      "yt : [INFO     ] 2025-05-19 08:09:03,416 Calculating time from 4.884e-01 to be 1.833e+17 seconds\n",
      "yt : [INFO     ] 2025-05-19 08:09:03,495 Calculating time from 4.884e-01 to be 1.833e+17 seconds\n",
      "yt : [INFO     ] 2025-05-19 08:09:03,576 Allocating for 1.433e+04 particles\n",
      "yt : [INFO     ] 2025-05-19 08:09:03,686 Calculating time from 4.884e-01 to be 1.833e+17 seconds\n",
      "yt : [INFO     ] 2025-05-19 08:09:03,895 Parameters: current_time              = 1.832656005258152e+17 s\n",
      "yt : [INFO     ] 2025-05-19 08:09:03,897 Parameters: domain_dimensions         = [1 1 1]\n",
      "yt : [INFO     ] 2025-05-19 08:09:03,898 Parameters: domain_left_edge          = [0. 0. 0.]\n",
      "yt : [INFO     ] 2025-05-19 08:09:03,975 Parameters: domain_right_edge         = [25000. 25000. 25000.]\n",
      "yt : [INFO     ] 2025-05-19 08:09:03,976 Parameters: cosmological_simulation   = True\n",
      "yt : [INFO     ] 2025-05-19 08:09:03,977 Parameters: current_redshift          = 1.0476023211521182\n",
      "yt : [INFO     ] 2025-05-19 08:09:03,978 Parameters: omega_lambda              = 0.7\n",
      "yt : [INFO     ] 2025-05-19 08:09:03,979 Parameters: omega_matter              = 0.3\n",
      "yt : [INFO     ] 2025-05-19 08:09:03,980 Parameters: omega_radiation           = 0.0\n",
      "yt : [INFO     ] 2025-05-19 08:09:03,980 Parameters: hubble_constant           = 0.6711\n",
      "yt : [WARNING  ] 2025-05-19 08:09:03,982 The hot_gas particle filter already exists. Overriding.\n",
      "yt : [INFO     ] 2025-05-19 08:09:04,087 Parameters: current_time              = 1.832656005258152e+17 s\n",
      "yt : [INFO     ] 2025-05-19 08:09:04,089 Parameters: domain_dimensions         = [1 1 1]\n",
      "yt : [INFO     ] 2025-05-19 08:09:04,090 Parameters: domain_left_edge          = [0. 0. 0.]\n",
      "yt : [INFO     ] 2025-05-19 08:09:04,091 Parameters: domain_right_edge         = [25000. 25000. 25000.]\n",
      "yt : [INFO     ] 2025-05-19 08:09:04,092 Parameters: cosmological_simulation   = True\n",
      "yt : [INFO     ] 2025-05-19 08:09:04,093 Parameters: current_redshift          = 1.0476023211521182\n",
      "yt : [INFO     ] 2025-05-19 08:09:04,175 Parameters: omega_lambda              = 0.7\n",
      "yt : [INFO     ] 2025-05-19 08:09:04,176 Parameters: omega_matter              = 0.3\n",
      "yt : [INFO     ] 2025-05-19 08:09:04,176 Parameters: omega_radiation           = 0.0\n",
      "yt : [INFO     ] 2025-05-19 08:09:04,177 Parameters: hubble_constant           = 0.6711\n",
      "yt : [WARNING  ] 2025-05-19 08:09:04,179 The hot_gas particle filter already exists. Overriding.\n",
      "yt : [INFO     ] 2025-05-19 08:09:04,187 Allocating for 1.527e+04 particles\n",
      "yt : [INFO     ] 2025-05-19 08:09:04,296 Parameters: current_time              = 1.832656005258152e+17 s\n",
      "yt : [INFO     ] 2025-05-19 08:09:04,297 Parameters: domain_dimensions         = [1 1 1]\n",
      "yt : [INFO     ] 2025-05-19 08:09:04,299 Parameters: domain_left_edge          = [0. 0. 0.]\n",
      "yt : [INFO     ] 2025-05-19 08:09:04,375 Parameters: domain_right_edge         = [25000. 25000. 25000.]\n",
      "yt : [INFO     ] 2025-05-19 08:09:04,376 Parameters: cosmological_simulation   = True\n",
      "yt : [INFO     ] 2025-05-19 08:09:04,377 Parameters: current_redshift          = 1.0476023211521182\n",
      "yt : [INFO     ] 2025-05-19 08:09:04,378 Parameters: omega_lambda              = 0.7\n",
      "yt : [INFO     ] 2025-05-19 08:09:04,379 Parameters: omega_matter              = 0.3\n",
      "yt : [INFO     ] 2025-05-19 08:09:04,380 Parameters: omega_radiation           = 0.0\n",
      "yt : [INFO     ] 2025-05-19 08:09:04,381 Parameters: hubble_constant           = 0.6711\n",
      "yt : [WARNING  ] 2025-05-19 08:09:04,383 The hot_gas particle filter already exists. Overriding.\n",
      "yt : [INFO     ] 2025-05-19 08:09:04,386 Allocating for 1.581e+04 particles\n",
      "yt : [INFO     ] 2025-05-19 08:09:04,578 Allocating for 9337 particles\n",
      "pyxsim : [INFO     ] 2025-05-19 08:09:20,587 kT_min = 0.025 keV\n",
      "pyxsim : [INFO     ] 2025-05-19 08:09:20,589 kT_max = 64 keV\n",
      "pyxsim : [INFO     ] 2025-05-19 08:09:20,591 Using emission measure field '('hot_gas', 'emission_measure')'.\n",
      "pyxsim : [INFO     ] 2025-05-19 08:09:20,592 Using temperature field '('hot_gas', 'temperature')'.\n"
     ]
    },
    {
     "data": {
      "application/vnd.jupyter.widget-view+json": {
       "model_id": "6af88148b874436fac88f50b363f143c",
       "version_major": 2,
       "version_minor": 0
      },
      "text/plain": [
       "Preparing spectrum table :   0%|          | 0/138 [00:00<?, ?it/s]"
      ]
     },
     "metadata": {},
     "output_type": "display_data"
    },
    {
     "name": "stderr",
     "output_type": "stream",
     "text": [
      "pyxsim : [INFO     ] 2025-05-19 08:09:22,283 kT_min = 0.025 keV\n",
      "pyxsim : [INFO     ] 2025-05-19 08:09:22,285 kT_max = 64 keV\n",
      "pyxsim : [INFO     ] 2025-05-19 08:09:22,287 Using emission measure field '('hot_gas', 'emission_measure')'.\n",
      "pyxsim : [INFO     ] 2025-05-19 08:09:22,288 Using temperature field '('hot_gas', 'temperature')'.\n"
     ]
    },
    {
     "data": {
      "application/vnd.jupyter.widget-view+json": {
       "model_id": "fb2da763252a4cc99050c6e539563a04",
       "version_major": 2,
       "version_minor": 0
      },
      "text/plain": [
       "Preparing spectrum table :   0%|          | 0/138 [00:00<?, ?it/s]"
      ]
     },
     "metadata": {},
     "output_type": "display_data"
    },
    {
     "name": "stderr",
     "output_type": "stream",
     "text": [
      "pyxsim : [INFO     ] 2025-05-19 08:09:23,887 kT_min = 0.025 keV\n",
      "pyxsim : [INFO     ] 2025-05-19 08:09:23,890 kT_max = 64 keV\n",
      "pyxsim : [INFO     ] 2025-05-19 08:09:23,975 Using emission measure field '('hot_gas', 'emission_measure')'.\n",
      "pyxsim : [INFO     ] 2025-05-19 08:09:23,976 Using temperature field '('hot_gas', 'temperature')'.\n",
      "pyxsim : [INFO     ] 2025-05-19 08:09:23,978 kT_min = 0.025 keV\n",
      "pyxsim : [INFO     ] 2025-05-19 08:09:23,980 kT_max = 64 keV\n",
      "pyxsim : [INFO     ] 2025-05-19 08:09:23,982 Using emission measure field '('hot_gas', 'emission_measure')'.\n",
      "pyxsim : [INFO     ] 2025-05-19 08:09:23,983 Using temperature field '('hot_gas', 'temperature')'.\n"
     ]
    },
    {
     "data": {
      "application/vnd.jupyter.widget-view+json": {
       "model_id": "e65ce21030eb4ff982e50595686ea552",
       "version_major": 2,
       "version_minor": 0
      },
      "text/plain": [
       "Preparing spectrum table :   0%|          | 0/138 [00:00<?, ?it/s]"
      ]
     },
     "metadata": {},
     "output_type": "display_data"
    },
    {
     "data": {
      "application/vnd.jupyter.widget-view+json": {
       "model_id": "b113e70202034f9c9c15fc2f2ffe675e",
       "version_major": 2,
       "version_minor": 0
      },
      "text/plain": [
       "Preparing spectrum table :   0%|          | 0/138 [00:00<?, ?it/s]"
      ]
     },
     "metadata": {},
     "output_type": "display_data"
    },
    {
     "name": "stderr",
     "output_type": "stream",
     "text": [
      "pyxsim : [INFO     ] 2025-05-19 08:09:24,177 kT_min = 0.025 keV\n",
      "pyxsim : [INFO     ] 2025-05-19 08:09:24,179 kT_max = 64 keV\n",
      "pyxsim : [INFO     ] 2025-05-19 08:09:24,181 Using emission measure field '('hot_gas', 'emission_measure')'.\n",
      "pyxsim : [INFO     ] 2025-05-19 08:09:24,182 Using temperature field '('hot_gas', 'temperature')'.\n"
     ]
    },
    {
     "data": {
      "application/vnd.jupyter.widget-view+json": {
       "model_id": "b0f30229b22a4a6f9088920a0e79ff9b",
       "version_major": 2,
       "version_minor": 0
      },
      "text/plain": [
       "Preparing spectrum table :   0%|          | 0/138 [00:00<?, ?it/s]"
      ]
     },
     "metadata": {},
     "output_type": "display_data"
    },
    {
     "name": "stderr",
     "output_type": "stream",
     "text": [
      "yt : [INFO     ] 2025-05-19 08:11:59,491 Making a fixed resolution buffer of (('hot_gas', 'xray_emissivity_0.5_2_keV')) 500 by 500\n",
      "yt : [INFO     ] 2025-05-19 08:11:59,676 Making a fixed resolution buffer of (('hot_gas', 'xray_emissivity_0.5_2_keV')) 500 by 500\n",
      "yt : [INFO     ] 2025-05-19 08:11:59,995 Making a fixed resolution buffer of (('hot_gas', 'xray_emissivity_0.5_2_keV')) 500 by 500\n",
      "yt : [INFO     ] 2025-05-19 08:12:00,895 Making a fixed resolution buffer of (('hot_gas', 'xray_emissivity_0.5_2_keV')) 500 by 500\n",
      "yt : [INFO     ] 2025-05-19 08:12:04,179 Making a fixed resolution buffer of (('hot_gas', 'xray_emissivity_0.5_2_keV')) 500 by 500\n",
      "ex0 Halos:  19%|█▉        | 10/52 [06:29<12:37, 18.04s/it]yt : [INFO     ] 2025-05-19 08:12:16,894 Calculating time from 4.884e-01 to be 1.833e+17 seconds\n",
      "yt : [INFO     ] 2025-05-19 08:12:17,177 Parameters: current_time              = 1.832656005258152e+17 s\n",
      "yt : [INFO     ] 2025-05-19 08:12:17,179 Parameters: domain_dimensions         = [1 1 1]\n",
      "yt : [INFO     ] 2025-05-19 08:12:17,180 Parameters: domain_left_edge          = [0. 0. 0.]\n",
      "yt : [INFO     ] 2025-05-19 08:12:17,181 Parameters: domain_right_edge         = [25000. 25000. 25000.]\n",
      "yt : [INFO     ] 2025-05-19 08:12:17,182 Parameters: cosmological_simulation   = True\n",
      "yt : [INFO     ] 2025-05-19 08:12:17,183 Parameters: current_redshift          = 1.0476023211521182\n",
      "yt : [INFO     ] 2025-05-19 08:12:17,183 Parameters: omega_lambda              = 0.7\n",
      "yt : [INFO     ] 2025-05-19 08:12:17,184 Parameters: omega_matter              = 0.3\n",
      "yt : [INFO     ] 2025-05-19 08:12:17,185 Parameters: omega_radiation           = 0.0\n",
      "yt : [INFO     ] 2025-05-19 08:12:17,186 Parameters: hubble_constant           = 0.6711\n",
      "yt : [WARNING  ] 2025-05-19 08:12:17,187 The hot_gas particle filter already exists. Overriding.\n",
      "yt : [INFO     ] 2025-05-19 08:12:17,193 Calculating time from 4.884e-01 to be 1.833e+17 seconds\n",
      "yt : [INFO     ] 2025-05-19 08:12:17,401 Allocating for 1.061e+04 particles\n",
      "yt : [INFO     ] 2025-05-19 08:12:17,501 Parameters: current_time              = 1.832656005258152e+17 s\n",
      "yt : [INFO     ] 2025-05-19 08:12:17,502 Parameters: domain_dimensions         = [1 1 1]\n",
      "yt : [INFO     ] 2025-05-19 08:12:17,504 Parameters: domain_left_edge          = [0. 0. 0.]\n",
      "yt : [INFO     ] 2025-05-19 08:12:17,505 Parameters: domain_right_edge         = [25000. 25000. 25000.]\n",
      "yt : [INFO     ] 2025-05-19 08:12:17,506 Parameters: cosmological_simulation   = True\n",
      "yt : [INFO     ] 2025-05-19 08:12:17,507 Parameters: current_redshift          = 1.0476023211521182\n",
      "yt : [INFO     ] 2025-05-19 08:12:17,508 Parameters: omega_lambda              = 0.7\n",
      "yt : [INFO     ] 2025-05-19 08:12:17,509 Parameters: omega_matter              = 0.3\n",
      "yt : [INFO     ] 2025-05-19 08:12:17,510 Parameters: omega_radiation           = 0.0\n",
      "yt : [INFO     ] 2025-05-19 08:12:17,575 Parameters: hubble_constant           = 0.6711\n",
      "yt : [WARNING  ] 2025-05-19 08:12:17,577 The hot_gas particle filter already exists. Overriding.\n",
      "yt : [INFO     ] 2025-05-19 08:12:17,774 Calculating time from 4.884e-01 to be 1.833e+17 seconds\n",
      "yt : [INFO     ] 2025-05-19 08:12:17,787 Allocating for 1.517e+04 particles\n",
      "yt : [INFO     ] 2025-05-19 08:12:17,881 Calculating time from 4.884e-01 to be 1.833e+17 seconds\n",
      "yt : [INFO     ] 2025-05-19 08:12:18,296 Parameters: current_time              = 1.832656005258152e+17 s\n",
      "yt : [INFO     ] 2025-05-19 08:12:18,298 Parameters: domain_dimensions         = [1 1 1]\n",
      "yt : [INFO     ] 2025-05-19 08:12:18,375 Parameters: domain_left_edge          = [0. 0. 0.]\n",
      "yt : [INFO     ] 2025-05-19 08:12:18,376 Parameters: domain_right_edge         = [25000. 25000. 25000.]\n",
      "yt : [INFO     ] 2025-05-19 08:12:18,377 Parameters: cosmological_simulation   = True\n",
      "yt : [INFO     ] 2025-05-19 08:12:18,378 Parameters: current_redshift          = 1.0476023211521182\n",
      "yt : [INFO     ] 2025-05-19 08:12:18,379 Parameters: omega_lambda              = 0.7\n",
      "yt : [INFO     ] 2025-05-19 08:12:18,380 Parameters: omega_matter              = 0.3\n",
      "yt : [INFO     ] 2025-05-19 08:12:18,381 Parameters: omega_radiation           = 0.0\n",
      "yt : [INFO     ] 2025-05-19 08:12:18,381 Parameters: hubble_constant           = 0.6711\n",
      "yt : [WARNING  ] 2025-05-19 08:12:18,384 The hot_gas particle filter already exists. Overriding.\n",
      "yt : [INFO     ] 2025-05-19 08:12:18,392 Parameters: current_time              = 1.832656005258152e+17 s\n",
      "yt : [INFO     ] 2025-05-19 08:12:18,394 Parameters: domain_dimensions         = [1 1 1]\n",
      "yt : [INFO     ] 2025-05-19 08:12:18,395 Parameters: domain_left_edge          = [0. 0. 0.]\n",
      "yt : [INFO     ] 2025-05-19 08:12:18,477 Parameters: domain_right_edge         = [25000. 25000. 25000.]\n",
      "yt : [INFO     ] 2025-05-19 08:12:18,479 Parameters: cosmological_simulation   = True\n",
      "yt : [INFO     ] 2025-05-19 08:12:18,480 Parameters: current_redshift          = 1.0476023211521182\n",
      "yt : [INFO     ] 2025-05-19 08:12:18,481 Parameters: omega_lambda              = 0.7\n",
      "yt : [INFO     ] 2025-05-19 08:12:18,482 Parameters: omega_matter              = 0.3\n",
      "yt : [INFO     ] 2025-05-19 08:12:18,483 Parameters: omega_radiation           = 0.0\n",
      "yt : [INFO     ] 2025-05-19 08:12:18,484 Parameters: hubble_constant           = 0.6711\n",
      "yt : [WARNING  ] 2025-05-19 08:12:18,486 The hot_gas particle filter already exists. Overriding.\n",
      "yt : [INFO     ] 2025-05-19 08:12:18,603 Allocating for 1.447e+04 particles\n",
      "yt : [INFO     ] 2025-05-19 08:12:18,804 Allocating for 1.243e+04 particles\n",
      "yt : [INFO     ] 2025-05-19 08:12:18,877 Calculating time from 4.884e-01 to be 1.833e+17 seconds\n",
      "yt : [INFO     ] 2025-05-19 08:12:19,384 Parameters: current_time              = 1.832656005258152e+17 s\n",
      "yt : [INFO     ] 2025-05-19 08:12:19,386 Parameters: domain_dimensions         = [1 1 1]\n",
      "yt : [INFO     ] 2025-05-19 08:12:19,388 Parameters: domain_left_edge          = [0. 0. 0.]\n",
      "yt : [INFO     ] 2025-05-19 08:12:19,389 Parameters: domain_right_edge         = [25000. 25000. 25000.]\n",
      "yt : [INFO     ] 2025-05-19 08:12:19,390 Parameters: cosmological_simulation   = True\n",
      "yt : [INFO     ] 2025-05-19 08:12:19,390 Parameters: current_redshift          = 1.0476023211521182\n",
      "yt : [INFO     ] 2025-05-19 08:12:19,475 Parameters: omega_lambda              = 0.7\n",
      "yt : [INFO     ] 2025-05-19 08:12:19,477 Parameters: omega_matter              = 0.3\n",
      "yt : [INFO     ] 2025-05-19 08:12:19,477 Parameters: omega_radiation           = 0.0\n",
      "yt : [INFO     ] 2025-05-19 08:12:19,478 Parameters: hubble_constant           = 0.6711\n",
      "yt : [WARNING  ] 2025-05-19 08:12:19,481 The hot_gas particle filter already exists. Overriding.\n",
      "yt : [INFO     ] 2025-05-19 08:12:19,686 Allocating for 1.49e+04 particles\n",
      "pyxsim : [INFO     ] 2025-05-19 08:12:34,891 kT_min = 0.025 keV\n",
      "pyxsim : [INFO     ] 2025-05-19 08:12:34,975 kT_max = 64 keV\n",
      "pyxsim : [INFO     ] 2025-05-19 08:12:34,977 Using emission measure field '('hot_gas', 'emission_measure')'.\n",
      "pyxsim : [INFO     ] 2025-05-19 08:12:34,978 Using temperature field '('hot_gas', 'temperature')'.\n"
     ]
    },
    {
     "data": {
      "application/vnd.jupyter.widget-view+json": {
       "model_id": "2a6920a4c8664f2a946d1dd7c3f5f55a",
       "version_major": 2,
       "version_minor": 0
      },
      "text/plain": [
       "Preparing spectrum table :   0%|          | 0/138 [00:00<?, ?it/s]"
      ]
     },
     "metadata": {},
     "output_type": "display_data"
    },
    {
     "name": "stderr",
     "output_type": "stream",
     "text": [
      "pyxsim : [INFO     ] 2025-05-19 08:12:35,579 kT_min = 0.025 keV\n",
      "pyxsim : [INFO     ] 2025-05-19 08:12:35,582 kT_max = 64 keV\n",
      "pyxsim : [INFO     ] 2025-05-19 08:12:35,584 Using emission measure field '('hot_gas', 'emission_measure')'.\n",
      "pyxsim : [INFO     ] 2025-05-19 08:12:35,585 Using temperature field '('hot_gas', 'temperature')'.\n"
     ]
    },
    {
     "data": {
      "application/vnd.jupyter.widget-view+json": {
       "model_id": "df042d72f98842059854034f5ce7da76",
       "version_major": 2,
       "version_minor": 0
      },
      "text/plain": [
       "Preparing spectrum table :   0%|          | 0/138 [00:00<?, ?it/s]"
      ]
     },
     "metadata": {},
     "output_type": "display_data"
    },
    {
     "name": "stderr",
     "output_type": "stream",
     "text": [
      "pyxsim : [INFO     ] 2025-05-19 08:12:36,388 kT_min = 0.025 keV\n",
      "pyxsim : [INFO     ] 2025-05-19 08:12:36,391 kT_max = 64 keV\n",
      "pyxsim : [INFO     ] 2025-05-19 08:12:36,476 Using emission measure field '('hot_gas', 'emission_measure')'.\n",
      "pyxsim : [INFO     ] 2025-05-19 08:12:36,477 Using temperature field '('hot_gas', 'temperature')'.\n"
     ]
    },
    {
     "data": {
      "application/vnd.jupyter.widget-view+json": {
       "model_id": "28c025435b274746b8053130e0cf1324",
       "version_major": 2,
       "version_minor": 0
      },
      "text/plain": [
       "Preparing spectrum table :   0%|          | 0/138 [00:00<?, ?it/s]"
      ]
     },
     "metadata": {},
     "output_type": "display_data"
    },
    {
     "name": "stderr",
     "output_type": "stream",
     "text": [
      "pyxsim : [INFO     ] 2025-05-19 08:12:36,687 kT_min = 0.025 keV\n",
      "pyxsim : [INFO     ] 2025-05-19 08:12:36,776 kT_max = 64 keV\n",
      "pyxsim : [INFO     ] 2025-05-19 08:12:36,778 Using emission measure field '('hot_gas', 'emission_measure')'.\n",
      "pyxsim : [INFO     ] 2025-05-19 08:12:36,779 Using temperature field '('hot_gas', 'temperature')'.\n"
     ]
    },
    {
     "data": {
      "application/vnd.jupyter.widget-view+json": {
       "model_id": "5553478394ac4d4583858927950f5db4",
       "version_major": 2,
       "version_minor": 0
      },
      "text/plain": [
       "Preparing spectrum table :   0%|          | 0/138 [00:00<?, ?it/s]"
      ]
     },
     "metadata": {},
     "output_type": "display_data"
    },
    {
     "name": "stderr",
     "output_type": "stream",
     "text": [
      "pyxsim : [INFO     ] 2025-05-19 08:12:37,475 kT_min = 0.025 keV\n",
      "pyxsim : [INFO     ] 2025-05-19 08:12:37,478 kT_max = 64 keV\n",
      "pyxsim : [INFO     ] 2025-05-19 08:12:37,480 Using emission measure field '('hot_gas', 'emission_measure')'.\n",
      "pyxsim : [INFO     ] 2025-05-19 08:12:37,480 Using temperature field '('hot_gas', 'temperature')'.\n"
     ]
    },
    {
     "data": {
      "application/vnd.jupyter.widget-view+json": {
       "model_id": "29a45c20e270473a86b6415dc547c4c2",
       "version_major": 2,
       "version_minor": 0
      },
      "text/plain": [
       "Preparing spectrum table :   0%|          | 0/138 [00:00<?, ?it/s]"
      ]
     },
     "metadata": {},
     "output_type": "display_data"
    },
    {
     "name": "stderr",
     "output_type": "stream",
     "text": [
      "yt : [INFO     ] 2025-05-19 08:15:13,377 Making a fixed resolution buffer of (('hot_gas', 'xray_emissivity_0.5_2_keV')) 500 by 500\n",
      "yt : [INFO     ] 2025-05-19 08:15:14,777 Making a fixed resolution buffer of (('hot_gas', 'xray_emissivity_0.5_2_keV')) 500 by 500\n",
      "yt : [INFO     ] 2025-05-19 08:15:15,290 Making a fixed resolution buffer of (('hot_gas', 'xray_emissivity_0.5_2_keV')) 500 by 500\n",
      "yt : [INFO     ] 2025-05-19 08:15:15,685 Making a fixed resolution buffer of (('hot_gas', 'xray_emissivity_0.5_2_keV')) 500 by 500\n",
      "ex0 Halos:  21%|██        | 11/52 [09:32<46:40, 68.31s/it]yt : [INFO     ] 2025-05-19 08:15:18,890 Making a fixed resolution buffer of (('hot_gas', 'xray_emissivity_0.5_2_keV')) 500 by 500\n",
      "ex0 Halos:  23%|██▎       | 12/52 [09:35<32:19, 48.48s/it]yt : [INFO     ] 2025-05-19 08:15:25,484 Calculating time from 4.884e-01 to be 1.833e+17 seconds\n",
      "ex0 Halos:  27%|██▋       | 14/52 [09:40<15:36, 24.65s/it]yt : [INFO     ] 2025-05-19 08:15:26,586 Parameters: current_time              = 1.832656005258152e+17 s\n",
      "yt : [INFO     ] 2025-05-19 08:15:26,588 Parameters: domain_dimensions         = [1 1 1]\n",
      "yt : [INFO     ] 2025-05-19 08:15:26,589 Parameters: domain_left_edge          = [0. 0. 0.]\n",
      "yt : [INFO     ] 2025-05-19 08:15:26,590 Parameters: domain_right_edge         = [25000. 25000. 25000.]\n",
      "yt : [INFO     ] 2025-05-19 08:15:26,591 Parameters: cosmological_simulation   = True\n",
      "yt : [INFO     ] 2025-05-19 08:15:26,592 Parameters: current_redshift          = 1.0476023211521182\n",
      "yt : [INFO     ] 2025-05-19 08:15:26,593 Parameters: omega_lambda              = 0.7\n",
      "yt : [INFO     ] 2025-05-19 08:15:26,594 Parameters: omega_matter              = 0.3\n",
      "yt : [INFO     ] 2025-05-19 08:15:26,675 Parameters: omega_radiation           = 0.0\n",
      "yt : [INFO     ] 2025-05-19 08:15:26,677 Parameters: hubble_constant           = 0.6711\n",
      "yt : [WARNING  ] 2025-05-19 08:15:26,680 The hot_gas particle filter already exists. Overriding.\n",
      "yt : [INFO     ] 2025-05-19 08:15:26,977 Allocating for 8676 particles\n",
      "ex0 Halos:  29%|██▉       | 15/52 [09:43<11:15, 18.25s/it]yt : [INFO     ] 2025-05-19 08:15:29,982 Calculating time from 4.884e-01 to be 1.833e+17 seconds\n",
      "yt : [INFO     ] 2025-05-19 08:15:30,293 Parameters: current_time              = 1.832656005258152e+17 s\n",
      "yt : [INFO     ] 2025-05-19 08:15:30,295 Parameters: domain_dimensions         = [1 1 1]\n",
      "yt : [INFO     ] 2025-05-19 08:15:30,296 Parameters: domain_left_edge          = [0. 0. 0.]\n",
      "yt : [INFO     ] 2025-05-19 08:15:30,297 Parameters: domain_right_edge         = [25000. 25000. 25000.]\n",
      "yt : [INFO     ] 2025-05-19 08:15:30,299 Parameters: cosmological_simulation   = True\n",
      "yt : [INFO     ] 2025-05-19 08:15:30,300 Parameters: current_redshift          = 1.0476023211521182\n",
      "yt : [INFO     ] 2025-05-19 08:15:30,301 Parameters: omega_lambda              = 0.7\n",
      "yt : [INFO     ] 2025-05-19 08:15:30,302 Parameters: omega_matter              = 0.3\n",
      "yt : [INFO     ] 2025-05-19 08:15:30,302 Parameters: omega_radiation           = 0.0\n",
      "yt : [INFO     ] 2025-05-19 08:15:30,303 Parameters: hubble_constant           = 0.6711\n",
      "yt : [WARNING  ] 2025-05-19 08:15:30,305 The hot_gas particle filter already exists. Overriding.\n",
      "yt : [INFO     ] 2025-05-19 08:15:30,577 Allocating for 1.123e+04 particles\n",
      "yt : [INFO     ] 2025-05-19 08:15:30,881 Calculating time from 4.884e-01 to be 1.833e+17 seconds\n",
      "yt : [INFO     ] 2025-05-19 08:15:30,891 Calculating time from 4.884e-01 to be 1.833e+17 seconds\n",
      "yt : [INFO     ] 2025-05-19 08:15:31,383 Parameters: current_time              = 1.832656005258152e+17 s\n",
      "yt : [INFO     ] 2025-05-19 08:15:31,384 Parameters: domain_dimensions         = [1 1 1]\n",
      "yt : [INFO     ] 2025-05-19 08:15:31,385 Parameters: domain_left_edge          = [0. 0. 0.]\n",
      "yt : [INFO     ] 2025-05-19 08:15:31,387 Parameters: domain_right_edge         = [25000. 25000. 25000.]\n",
      "yt : [INFO     ] 2025-05-19 08:15:31,388 Parameters: cosmological_simulation   = True\n",
      "yt : [INFO     ] 2025-05-19 08:15:31,475 Parameters: current_redshift          = 1.0476023211521182\n",
      "yt : [INFO     ] 2025-05-19 08:15:31,476 Parameters: omega_lambda              = 0.7\n",
      "yt : [INFO     ] 2025-05-19 08:15:31,477 Parameters: omega_matter              = 0.3\n",
      "yt : [INFO     ] 2025-05-19 08:15:31,478 Parameters: omega_radiation           = 0.0\n",
      "yt : [INFO     ] 2025-05-19 08:15:31,479 Parameters: hubble_constant           = 0.6711\n",
      "yt : [WARNING  ] 2025-05-19 08:15:31,480 The hot_gas particle filter already exists. Overriding.\n",
      "yt : [INFO     ] 2025-05-19 08:15:31,482 Parameters: current_time              = 1.832656005258152e+17 s\n",
      "yt : [INFO     ] 2025-05-19 08:15:31,483 Parameters: domain_dimensions         = [1 1 1]\n",
      "yt : [INFO     ] 2025-05-19 08:15:31,485 Parameters: domain_left_edge          = [0. 0. 0.]\n",
      "yt : [INFO     ] 2025-05-19 08:15:31,486 Parameters: domain_right_edge         = [25000. 25000. 25000.]\n",
      "yt : [INFO     ] 2025-05-19 08:15:31,487 Parameters: cosmological_simulation   = True\n",
      "yt : [INFO     ] 2025-05-19 08:15:31,575 Parameters: current_redshift          = 1.0476023211521182\n",
      "yt : [INFO     ] 2025-05-19 08:15:31,576 Parameters: omega_lambda              = 0.7\n",
      "yt : [INFO     ] 2025-05-19 08:15:31,577 Parameters: omega_matter              = 0.3\n",
      "yt : [INFO     ] 2025-05-19 08:15:31,578 Parameters: omega_radiation           = 0.0\n",
      "yt : [INFO     ] 2025-05-19 08:15:31,579 Parameters: hubble_constant           = 0.6711\n",
      "yt : [WARNING  ] 2025-05-19 08:15:31,581 The hot_gas particle filter already exists. Overriding.\n",
      "yt : [INFO     ] 2025-05-19 08:15:31,683 Allocating for 1.25e+04 particles\n",
      "yt : [INFO     ] 2025-05-19 08:15:31,876 Allocating for 1.192e+04 particles\n",
      "yt : [INFO     ] 2025-05-19 08:15:33,175 Calculating time from 4.884e-01 to be 1.833e+17 seconds\n",
      "yt : [INFO     ] 2025-05-19 08:15:33,681 Parameters: current_time              = 1.832656005258152e+17 s\n",
      "yt : [INFO     ] 2025-05-19 08:15:33,685 Parameters: domain_dimensions         = [1 1 1]\n",
      "yt : [INFO     ] 2025-05-19 08:15:33,686 Parameters: domain_left_edge          = [0. 0. 0.]\n",
      "yt : [INFO     ] 2025-05-19 08:15:33,688 Parameters: domain_right_edge         = [25000. 25000. 25000.]\n",
      "yt : [INFO     ] 2025-05-19 08:15:33,689 Parameters: cosmological_simulation   = True\n",
      "yt : [INFO     ] 2025-05-19 08:15:33,690 Parameters: current_redshift          = 1.0476023211521182\n",
      "yt : [INFO     ] 2025-05-19 08:15:33,775 Parameters: omega_lambda              = 0.7\n",
      "yt : [INFO     ] 2025-05-19 08:15:33,776 Parameters: omega_matter              = 0.3\n",
      "yt : [INFO     ] 2025-05-19 08:15:33,777 Parameters: omega_radiation           = 0.0\n",
      "yt : [INFO     ] 2025-05-19 08:15:33,778 Parameters: hubble_constant           = 0.6711\n",
      "yt : [WARNING  ] 2025-05-19 08:15:33,780 The hot_gas particle filter already exists. Overriding.\n",
      "yt : [INFO     ] 2025-05-19 08:15:33,981 Allocating for 1.18e+04 particles\n",
      "pyxsim : [INFO     ] 2025-05-19 08:15:45,285 kT_min = 0.025 keV\n",
      "pyxsim : [INFO     ] 2025-05-19 08:15:45,375 kT_max = 64 keV\n",
      "pyxsim : [INFO     ] 2025-05-19 08:15:45,377 Using emission measure field '('hot_gas', 'emission_measure')'.\n",
      "pyxsim : [INFO     ] 2025-05-19 08:15:45,378 Using temperature field '('hot_gas', 'temperature')'.\n"
     ]
    },
    {
     "data": {
      "application/vnd.jupyter.widget-view+json": {
       "model_id": "0372202af3f94d8b85afdff34d9469b1",
       "version_major": 2,
       "version_minor": 0
      },
      "text/plain": [
       "Preparing spectrum table :   0%|          | 0/138 [00:00<?, ?it/s]"
      ]
     },
     "metadata": {},
     "output_type": "display_data"
    },
    {
     "name": "stderr",
     "output_type": "stream",
     "text": [
      "pyxsim : [INFO     ] 2025-05-19 08:15:48,393 kT_min = 0.025 keV\n",
      "pyxsim : [INFO     ] 2025-05-19 08:15:48,477 kT_max = 64 keV\n",
      "pyxsim : [INFO     ] 2025-05-19 08:15:48,480 Using emission measure field '('hot_gas', 'emission_measure')'.\n",
      "pyxsim : [INFO     ] 2025-05-19 08:15:48,481 Using temperature field '('hot_gas', 'temperature')'.\n"
     ]
    },
    {
     "data": {
      "application/vnd.jupyter.widget-view+json": {
       "model_id": "94d26cd5830e40c09e80bf2ac95fe206",
       "version_major": 2,
       "version_minor": 0
      },
      "text/plain": [
       "Preparing spectrum table :   0%|          | 0/138 [00:00<?, ?it/s]"
      ]
     },
     "metadata": {},
     "output_type": "display_data"
    },
    {
     "name": "stderr",
     "output_type": "stream",
     "text": [
      "pyxsim : [INFO     ] 2025-05-19 08:15:49,876 kT_min = 0.025 keV\n",
      "pyxsim : [INFO     ] 2025-05-19 08:15:49,878 kT_max = 64 keV\n",
      "pyxsim : [INFO     ] 2025-05-19 08:15:49,880 Using emission measure field '('hot_gas', 'emission_measure')'.\n",
      "pyxsim : [INFO     ] 2025-05-19 08:15:49,881 Using temperature field '('hot_gas', 'temperature')'.\n"
     ]
    },
    {
     "data": {
      "application/vnd.jupyter.widget-view+json": {
       "model_id": "a58fd99511774ddc8f8c889e73196606",
       "version_major": 2,
       "version_minor": 0
      },
      "text/plain": [
       "Preparing spectrum table :   0%|          | 0/138 [00:00<?, ?it/s]"
      ]
     },
     "metadata": {},
     "output_type": "display_data"
    },
    {
     "name": "stderr",
     "output_type": "stream",
     "text": [
      "pyxsim : [INFO     ] 2025-05-19 08:15:50,088 kT_min = 0.025 keV\n",
      "pyxsim : [INFO     ] 2025-05-19 08:15:50,090 kT_max = 64 keV\n",
      "pyxsim : [INFO     ] 2025-05-19 08:15:50,174 Using emission measure field '('hot_gas', 'emission_measure')'.\n",
      "pyxsim : [INFO     ] 2025-05-19 08:15:50,175 Using temperature field '('hot_gas', 'temperature')'.\n"
     ]
    },
    {
     "data": {
      "application/vnd.jupyter.widget-view+json": {
       "model_id": "6549c8e42a0543278a35ec1565b4400e",
       "version_major": 2,
       "version_minor": 0
      },
      "text/plain": [
       "Preparing spectrum table :   0%|          | 0/138 [00:00<?, ?it/s]"
      ]
     },
     "metadata": {},
     "output_type": "display_data"
    },
    {
     "name": "stderr",
     "output_type": "stream",
     "text": [
      "pyxsim : [INFO     ] 2025-05-19 08:15:52,682 kT_min = 0.025 keV\n",
      "pyxsim : [INFO     ] 2025-05-19 08:15:52,685 kT_max = 64 keV\n",
      "pyxsim : [INFO     ] 2025-05-19 08:15:52,687 Using emission measure field '('hot_gas', 'emission_measure')'.\n",
      "pyxsim : [INFO     ] 2025-05-19 08:15:52,688 Using temperature field '('hot_gas', 'temperature')'.\n"
     ]
    },
    {
     "data": {
      "application/vnd.jupyter.widget-view+json": {
       "model_id": "f486a59ffc1f4db3ba5960f15d526962",
       "version_major": 2,
       "version_minor": 0
      },
      "text/plain": [
       "Preparing spectrum table :   0%|          | 0/138 [00:00<?, ?it/s]"
      ]
     },
     "metadata": {},
     "output_type": "display_data"
    },
    {
     "name": "stderr",
     "output_type": "stream",
     "text": [
      "yt : [INFO     ] 2025-05-19 08:18:24,982 Making a fixed resolution buffer of (('hot_gas', 'xray_emissivity_0.5_2_keV')) 500 by 500\n",
      "yt : [INFO     ] 2025-05-19 08:18:26,075 Making a fixed resolution buffer of (('hot_gas', 'xray_emissivity_0.5_2_keV')) 500 by 500\n",
      "yt : [INFO     ] 2025-05-19 08:18:26,287 Making a fixed resolution buffer of (('hot_gas', 'xray_emissivity_0.5_2_keV')) 500 by 500\n",
      "ex0 Halos:  31%|███       | 16/52 [12:44<40:20, 67.23s/it]yt : [INFO     ] 2025-05-19 08:18:35,079 Making a fixed resolution buffer of (('hot_gas', 'xray_emissivity_0.5_2_keV')) 500 by 500\n",
      "ex0 Halos:  35%|███▍      | 18/52 [12:49<19:16, 34.02s/it]yt : [INFO     ] 2025-05-19 08:18:36,393 Making a fixed resolution buffer of (('hot_gas', 'xray_emissivity_0.5_2_keV')) 500 by 500\n",
      "yt : [INFO     ] 2025-05-19 08:18:37,372 Calculating time from 4.884e-01 to be 1.833e+17 seconds\n",
      "yt : [INFO     ] 2025-05-19 08:18:37,510 Parameters: current_time              = 1.832656005258152e+17 s\n",
      "yt : [INFO     ] 2025-05-19 08:18:37,512 Parameters: domain_dimensions         = [1 1 1]\n",
      "yt : [INFO     ] 2025-05-19 08:18:37,513 Parameters: domain_left_edge          = [0. 0. 0.]\n",
      "yt : [INFO     ] 2025-05-19 08:18:37,514 Parameters: domain_right_edge         = [25000. 25000. 25000.]\n",
      "yt : [INFO     ] 2025-05-19 08:18:37,515 Parameters: cosmological_simulation   = True\n",
      "yt : [INFO     ] 2025-05-19 08:18:37,516 Parameters: current_redshift          = 1.0476023211521182\n",
      "yt : [INFO     ] 2025-05-19 08:18:37,517 Parameters: omega_lambda              = 0.7\n",
      "yt : [INFO     ] 2025-05-19 08:18:37,518 Parameters: omega_matter              = 0.3\n",
      "yt : [INFO     ] 2025-05-19 08:18:37,518 Parameters: omega_radiation           = 0.0\n",
      "yt : [INFO     ] 2025-05-19 08:18:37,520 Parameters: hubble_constant           = 0.6711\n",
      "yt : [WARNING  ] 2025-05-19 08:18:37,575 The hot_gas particle filter already exists. Overriding.\n",
      "yt : [INFO     ] 2025-05-19 08:18:37,627 Calculating time from 4.884e-01 to be 1.833e+17 seconds\n",
      "yt : [INFO     ] 2025-05-19 08:18:37,679 Allocating for 1.085e+04 particles\n",
      "yt : [INFO     ] 2025-05-19 08:18:37,704 Calculating time from 4.884e-01 to be 1.833e+17 seconds\n",
      "yt : [INFO     ] 2025-05-19 08:18:38,485 Parameters: current_time              = 1.832656005258152e+17 s\n",
      "yt : [INFO     ] 2025-05-19 08:18:38,574 Parameters: domain_dimensions         = [1 1 1]\n",
      "yt : [INFO     ] 2025-05-19 08:18:39,175 Parameters: domain_left_edge          = [0. 0. 0.]\n",
      "yt : [INFO     ] 2025-05-19 08:18:39,178 Parameters: domain_right_edge         = [25000. 25000. 25000.]\n",
      "yt : [INFO     ] 2025-05-19 08:18:39,179 Parameters: cosmological_simulation   = True\n",
      "yt : [INFO     ] 2025-05-19 08:18:39,180 Parameters: current_redshift          = 1.0476023211521182\n",
      "yt : [INFO     ] 2025-05-19 08:18:39,181 Parameters: omega_lambda              = 0.7\n",
      "yt : [INFO     ] 2025-05-19 08:18:39,183 Parameters: omega_matter              = 0.3\n",
      "yt : [INFO     ] 2025-05-19 08:18:39,184 Parameters: omega_radiation           = 0.0\n",
      "yt : [INFO     ] 2025-05-19 08:18:39,185 Parameters: hubble_constant           = 0.6711\n",
      "yt : [WARNING  ] 2025-05-19 08:18:39,277 The hot_gas particle filter already exists. Overriding.\n",
      "yt : [INFO     ] 2025-05-19 08:18:39,277 Parameters: current_time              = 1.832656005258152e+17 s\n",
      "yt : [INFO     ] 2025-05-19 08:18:39,280 Parameters: domain_dimensions         = [1 1 1]\n",
      "yt : [INFO     ] 2025-05-19 08:18:39,281 Parameters: domain_left_edge          = [0. 0. 0.]\n",
      "yt : [INFO     ] 2025-05-19 08:18:39,283 Parameters: domain_right_edge         = [25000. 25000. 25000.]\n",
      "yt : [INFO     ] 2025-05-19 08:18:39,285 Parameters: cosmological_simulation   = True\n",
      "yt : [INFO     ] 2025-05-19 08:18:39,286 Parameters: current_redshift          = 1.0476023211521182\n",
      "yt : [INFO     ] 2025-05-19 08:18:39,287 Parameters: omega_lambda              = 0.7\n",
      "yt : [INFO     ] 2025-05-19 08:18:39,375 Parameters: omega_matter              = 0.3\n",
      "yt : [INFO     ] 2025-05-19 08:18:39,376 Parameters: omega_radiation           = 0.0\n",
      "yt : [INFO     ] 2025-05-19 08:18:39,377 Parameters: hubble_constant           = 0.6711\n",
      "yt : [WARNING  ] 2025-05-19 08:18:39,379 The hot_gas particle filter already exists. Overriding.\n",
      "yt : [INFO     ] 2025-05-19 08:18:39,577 Allocating for 4564 particles\n",
      "yt : [INFO     ] 2025-05-19 08:18:39,677 Allocating for 1.045e+04 particles\n",
      "ex0 Halos:  38%|███▊      | 20/52 [12:57<09:49, 18.43s/it]yt : [INFO     ] 2025-05-19 08:18:45,177 Calculating time from 4.884e-01 to be 1.833e+17 seconds\n",
      "yt : [INFO     ] 2025-05-19 08:18:45,592 Parameters: current_time              = 1.832656005258152e+17 s\n",
      "yt : [INFO     ] 2025-05-19 08:18:45,593 Parameters: domain_dimensions         = [1 1 1]\n",
      "yt : [INFO     ] 2025-05-19 08:18:45,595 Parameters: domain_left_edge          = [0. 0. 0.]\n",
      "yt : [INFO     ] 2025-05-19 08:18:45,596 Parameters: domain_right_edge         = [25000. 25000. 25000.]\n",
      "yt : [INFO     ] 2025-05-19 08:18:45,675 Parameters: cosmological_simulation   = True\n",
      "yt : [INFO     ] 2025-05-19 08:18:45,676 Parameters: current_redshift          = 1.0476023211521182\n",
      "yt : [INFO     ] 2025-05-19 08:18:45,677 Parameters: omega_lambda              = 0.7\n",
      "yt : [INFO     ] 2025-05-19 08:18:45,678 Parameters: omega_matter              = 0.3\n",
      "yt : [INFO     ] 2025-05-19 08:18:45,679 Parameters: omega_radiation           = 0.0\n",
      "yt : [INFO     ] 2025-05-19 08:18:45,679 Parameters: hubble_constant           = 0.6711\n",
      "yt : [WARNING  ] 2025-05-19 08:18:45,681 The hot_gas particle filter already exists. Overriding.\n",
      "yt : [INFO     ] 2025-05-19 08:18:45,890 Allocating for 4082 particles\n",
      "yt : [INFO     ] 2025-05-19 08:18:46,174 Calculating time from 4.884e-01 to be 1.833e+17 seconds\n",
      "yt : [INFO     ] 2025-05-19 08:18:46,591 Parameters: current_time              = 1.832656005258152e+17 s\n",
      "yt : [INFO     ] 2025-05-19 08:18:46,593 Parameters: domain_dimensions         = [1 1 1]\n",
      "yt : [INFO     ] 2025-05-19 08:18:46,674 Parameters: domain_left_edge          = [0. 0. 0.]\n",
      "yt : [INFO     ] 2025-05-19 08:18:46,675 Parameters: domain_right_edge         = [25000. 25000. 25000.]\n",
      "yt : [INFO     ] 2025-05-19 08:18:46,677 Parameters: cosmological_simulation   = True\n",
      "yt : [INFO     ] 2025-05-19 08:18:46,677 Parameters: current_redshift          = 1.0476023211521182\n",
      "yt : [INFO     ] 2025-05-19 08:18:46,678 Parameters: omega_lambda              = 0.7\n",
      "yt : [INFO     ] 2025-05-19 08:18:46,679 Parameters: omega_matter              = 0.3\n",
      "yt : [INFO     ] 2025-05-19 08:18:46,680 Parameters: omega_radiation           = 0.0\n",
      "yt : [INFO     ] 2025-05-19 08:18:46,681 Parameters: hubble_constant           = 0.6711\n",
      "yt : [WARNING  ] 2025-05-19 08:18:46,683 The hot_gas particle filter already exists. Overriding.\n",
      "yt : [INFO     ] 2025-05-19 08:18:46,878 Allocating for 9506 particles\n",
      "pyxsim : [INFO     ] 2025-05-19 08:18:59,780 kT_min = 0.025 keV\n",
      "pyxsim : [INFO     ] 2025-05-19 08:18:59,783 kT_max = 64 keV\n",
      "pyxsim : [INFO     ] 2025-05-19 08:18:59,786 Using emission measure field '('hot_gas', 'emission_measure')'.\n",
      "pyxsim : [INFO     ] 2025-05-19 08:18:59,786 Using temperature field '('hot_gas', 'temperature')'.\n"
     ]
    },
    {
     "data": {
      "application/vnd.jupyter.widget-view+json": {
       "model_id": "8b57434273474eeb82f21b55ecd091a3",
       "version_major": 2,
       "version_minor": 0
      },
      "text/plain": [
       "Preparing spectrum table :   0%|          | 0/138 [00:00<?, ?it/s]"
      ]
     },
     "metadata": {},
     "output_type": "display_data"
    },
    {
     "name": "stderr",
     "output_type": "stream",
     "text": [
      "pyxsim : [INFO     ] 2025-05-19 08:19:00,788 kT_min = 0.025 keV\n",
      "pyxsim : [INFO     ] 2025-05-19 08:19:00,789 kT_max = 64 keV\n",
      "pyxsim : [INFO     ] 2025-05-19 08:19:00,875 Using emission measure field '('hot_gas', 'emission_measure')'.\n",
      "pyxsim : [INFO     ] 2025-05-19 08:19:00,875 Using temperature field '('hot_gas', 'temperature')'.\n"
     ]
    },
    {
     "data": {
      "application/vnd.jupyter.widget-view+json": {
       "model_id": "20e21983880d4d718802754b678ee8c0",
       "version_major": 2,
       "version_minor": 0
      },
      "text/plain": [
       "Preparing spectrum table :   0%|          | 0/138 [00:00<?, ?it/s]"
      ]
     },
     "metadata": {},
     "output_type": "display_data"
    },
    {
     "name": "stderr",
     "output_type": "stream",
     "text": [
      "pyxsim : [INFO     ] 2025-05-19 08:19:01,480 kT_min = 0.025 keV\n",
      "pyxsim : [INFO     ] 2025-05-19 08:19:01,482 kT_max = 64 keV\n",
      "pyxsim : [INFO     ] 2025-05-19 08:19:01,485 Using emission measure field '('hot_gas', 'emission_measure')'.\n",
      "pyxsim : [INFO     ] 2025-05-19 08:19:01,486 Using temperature field '('hot_gas', 'temperature')'.\n"
     ]
    },
    {
     "data": {
      "application/vnd.jupyter.widget-view+json": {
       "model_id": "b1bfe222ae8243eb9fbd881257369902",
       "version_major": 2,
       "version_minor": 0
      },
      "text/plain": [
       "Preparing spectrum table :   0%|          | 0/138 [00:00<?, ?it/s]"
      ]
     },
     "metadata": {},
     "output_type": "display_data"
    },
    {
     "name": "stderr",
     "output_type": "stream",
     "text": [
      "pyxsim : [INFO     ] 2025-05-19 08:19:05,687 kT_min = 0.025 keV\n",
      "pyxsim : [INFO     ] 2025-05-19 08:19:05,775 kT_max = 64 keV\n",
      "pyxsim : [INFO     ] 2025-05-19 08:19:05,779 Using emission measure field '('hot_gas', 'emission_measure')'.\n",
      "pyxsim : [INFO     ] 2025-05-19 08:19:05,780 Using temperature field '('hot_gas', 'temperature')'.\n"
     ]
    },
    {
     "data": {
      "application/vnd.jupyter.widget-view+json": {
       "model_id": "b35a8aedfb564e72aa9afd7384aa43ac",
       "version_major": 2,
       "version_minor": 0
      },
      "text/plain": [
       "Preparing spectrum table :   0%|          | 0/138 [00:00<?, ?it/s]"
      ]
     },
     "metadata": {},
     "output_type": "display_data"
    },
    {
     "name": "stderr",
     "output_type": "stream",
     "text": [
      "pyxsim : [INFO     ] 2025-05-19 08:19:06,587 kT_min = 0.025 keV\n",
      "pyxsim : [INFO     ] 2025-05-19 08:19:06,589 kT_max = 64 keV\n",
      "pyxsim : [INFO     ] 2025-05-19 08:19:06,676 Using emission measure field '('hot_gas', 'emission_measure')'.\n",
      "pyxsim : [INFO     ] 2025-05-19 08:19:06,677 Using temperature field '('hot_gas', 'temperature')'.\n"
     ]
    },
    {
     "data": {
      "application/vnd.jupyter.widget-view+json": {
       "model_id": "0aaefb7ea82543efaff4eecdaaf677d3",
       "version_major": 2,
       "version_minor": 0
      },
      "text/plain": [
       "Preparing spectrum table :   0%|          | 0/138 [00:00<?, ?it/s]"
      ]
     },
     "metadata": {},
     "output_type": "display_data"
    },
    {
     "name": "stderr",
     "output_type": "stream",
     "text": [
      "yt : [INFO     ] 2025-05-19 08:21:38,282 Making a fixed resolution buffer of (('hot_gas', 'xray_emissivity_0.5_2_keV')) 500 by 500\n",
      "yt : [INFO     ] 2025-05-19 08:21:43,086 Making a fixed resolution buffer of (('hot_gas', 'xray_emissivity_0.5_2_keV')) 500 by 500\n",
      "ex0 Halos:  40%|████      | 21/52 [15:57<34:34, 66.91s/it]yt : [INFO     ] 2025-05-19 08:21:43,789 Making a fixed resolution buffer of (('hot_gas', 'xray_emissivity_0.5_2_keV')) 500 by 500\n",
      "yt : [INFO     ] 2025-05-19 08:21:44,891 Making a fixed resolution buffer of (('hot_gas', 'xray_emissivity_0.5_2_keV')) 500 by 500\n",
      "yt : [INFO     ] 2025-05-19 08:21:45,105 Making a fixed resolution buffer of (('hot_gas', 'xray_emissivity_0.5_2_keV')) 500 by 500\n",
      "yt : [INFO     ] 2025-05-19 08:21:47,082 Calculating time from 4.884e-01 to be 1.833e+17 seconds\n",
      "ex0 Halos:  42%|████▏     | 22/52 [16:02<24:15, 48.50s/it]yt : [INFO     ] 2025-05-19 08:21:49,293 Parameters: current_time              = 1.832656005258152e+17 s\n",
      "yt : [INFO     ] 2025-05-19 08:21:49,376 Parameters: domain_dimensions         = [1 1 1]\n",
      "yt : [INFO     ] 2025-05-19 08:21:49,378 Parameters: domain_left_edge          = [0. 0. 0.]\n",
      "yt : [INFO     ] 2025-05-19 08:21:49,380 Parameters: domain_right_edge         = [25000. 25000. 25000.]\n",
      "yt : [INFO     ] 2025-05-19 08:21:49,381 Parameters: cosmological_simulation   = True\n",
      "yt : [INFO     ] 2025-05-19 08:21:49,382 Parameters: current_redshift          = 1.0476023211521182\n",
      "yt : [INFO     ] 2025-05-19 08:21:49,384 Parameters: omega_lambda              = 0.7\n",
      "yt : [INFO     ] 2025-05-19 08:21:49,385 Parameters: omega_matter              = 0.3\n",
      "yt : [INFO     ] 2025-05-19 08:21:49,386 Parameters: omega_radiation           = 0.0\n",
      "yt : [INFO     ] 2025-05-19 08:21:49,387 Parameters: hubble_constant           = 0.6711\n",
      "yt : [WARNING  ] 2025-05-19 08:21:49,481 The hot_gas particle filter already exists. Overriding.\n",
      "ex0 Halos:  44%|████▍     | 23/52 [16:03<16:31, 34.20s/it]yt : [INFO     ] 2025-05-19 08:21:49,906 Allocating for 9695 particles\n",
      "yt : [INFO     ] 2025-05-19 08:27:46,688 Making a fixed resolution buffer of (('hot_gas', 'xray_emissivity_0.5_2_keV')) 500 by 500\n",
      "ex0 Halos:  60%|█████▉    | 31/52 [22:05<22:25, 64.09s/it]yt : [INFO     ] 2025-05-19 08:27:54,386 Making a fixed resolution buffer of (('hot_gas', 'xray_emissivity_0.5_2_keV')) 500 by 500\n",
      "yt : [INFO     ] 2025-05-19 08:27:54,776 Calculating time from 4.884e-01 to be 1.833e+17 seconds\n",
      "yt : [INFO     ] 2025-05-19 08:27:55,275 Parameters: current_time              = 1.832656005258152e+17 s\n",
      "yt : [INFO     ] 2025-05-19 08:27:55,277 Parameters: domain_dimensions         = [1 1 1]\n",
      "yt : [INFO     ] 2025-05-19 08:27:55,278 Parameters: domain_left_edge          = [0. 0. 0.]\n",
      "yt : [INFO     ] 2025-05-19 08:27:55,279 Parameters: domain_right_edge         = [25000. 25000. 25000.]\n",
      "yt : [INFO     ] 2025-05-19 08:27:55,280 Parameters: cosmological_simulation   = True\n",
      "yt : [INFO     ] 2025-05-19 08:27:55,281 Parameters: current_redshift          = 1.0476023211521182\n",
      "yt : [INFO     ] 2025-05-19 08:27:55,282 Parameters: omega_lambda              = 0.7\n",
      "yt : [INFO     ] 2025-05-19 08:27:55,283 Parameters: omega_matter              = 0.3\n",
      "yt : [INFO     ] 2025-05-19 08:27:55,284 Parameters: omega_radiation           = 0.0\n",
      "yt : [INFO     ] 2025-05-19 08:27:55,285 Parameters: hubble_constant           = 0.6711\n",
      "yt : [WARNING  ] 2025-05-19 08:27:55,287 The hot_gas particle filter already exists. Overriding.\n",
      "yt : [INFO     ] 2025-05-19 08:27:55,581 Allocating for 6466 particles\n",
      "yt : [INFO     ] 2025-05-19 08:27:55,895 Making a fixed resolution buffer of (('hot_gas', 'xray_emissivity_0.5_2_keV')) 500 by 500\n",
      "ex0 Halos:  62%|██████▏   | 32/52 [22:13<15:42, 47.11s/it]yt : [INFO     ] 2025-05-19 08:27:59,392 Making a fixed resolution buffer of (('hot_gas', 'xray_emissivity_0.5_2_keV')) 500 by 500\n",
      "ex0 Halos:  63%|██████▎   | 33/52 [22:16<10:46, 34.02s/it]yt : [INFO     ] 2025-05-19 08:28:03,792 Calculating time from 4.884e-01 to be 1.833e+17 seconds\n",
      "yt : [INFO     ] 2025-05-19 08:28:05,684 Parameters: current_time              = 1.832656005258152e+17 s\n",
      "yt : [INFO     ] 2025-05-19 08:28:05,774 Parameters: domain_dimensions         = [1 1 1]\n",
      "yt : [INFO     ] 2025-05-19 08:28:05,776 Parameters: domain_left_edge          = [0. 0. 0.]\n",
      "yt : [INFO     ] 2025-05-19 08:28:05,777 Parameters: domain_right_edge         = [25000. 25000. 25000.]\n",
      "yt : [INFO     ] 2025-05-19 08:28:05,779 Parameters: cosmological_simulation   = True\n",
      "yt : [INFO     ] 2025-05-19 08:28:05,780 Parameters: current_redshift          = 1.0476023211521182\n",
      "yt : [INFO     ] 2025-05-19 08:28:05,781 Parameters: omega_lambda              = 0.7\n",
      "yt : [INFO     ] 2025-05-19 08:28:05,782 Parameters: omega_matter              = 0.3\n",
      "yt : [INFO     ] 2025-05-19 08:28:05,783 Parameters: omega_radiation           = 0.0\n",
      "yt : [INFO     ] 2025-05-19 08:28:05,783 Parameters: hubble_constant           = 0.6711\n",
      "yt : [WARNING  ] 2025-05-19 08:28:05,875 The hot_gas particle filter already exists. Overriding.\n",
      "yt : [INFO     ] 2025-05-19 08:28:06,375 Allocating for 5813 particles\n",
      "ex0 Halos:  65%|██████▌   | 34/52 [22:20<07:28, 24.93s/it]yt : [INFO     ] 2025-05-19 08:28:07,480 Calculating time from 4.884e-01 to be 1.833e+17 seconds\n",
      "yt : [INFO     ] 2025-05-19 08:28:07,897 Parameters: current_time              = 1.832656005258152e+17 s\n",
      "yt : [INFO     ] 2025-05-19 08:28:07,975 Parameters: domain_dimensions         = [1 1 1]\n",
      "yt : [INFO     ] 2025-05-19 08:28:07,977 Parameters: domain_left_edge          = [0. 0. 0.]\n",
      "yt : [INFO     ] 2025-05-19 08:28:07,978 Parameters: domain_right_edge         = [25000. 25000. 25000.]\n",
      "yt : [INFO     ] 2025-05-19 08:28:07,979 Parameters: cosmological_simulation   = True\n",
      "yt : [INFO     ] 2025-05-19 08:28:07,980 Parameters: current_redshift          = 1.0476023211521182\n",
      "yt : [INFO     ] 2025-05-19 08:28:07,981 Parameters: omega_lambda              = 0.7\n",
      "yt : [INFO     ] 2025-05-19 08:28:07,982 Parameters: omega_matter              = 0.3\n",
      "yt : [INFO     ] 2025-05-19 08:28:07,982 Parameters: omega_radiation           = 0.0\n",
      "yt : [INFO     ] 2025-05-19 08:28:07,983 Parameters: hubble_constant           = 0.6711\n",
      "yt : [WARNING  ] 2025-05-19 08:28:07,985 The hot_gas particle filter already exists. Overriding.\n",
      "yt : [INFO     ] 2025-05-19 08:28:08,177 Allocating for 8551 particles\n",
      "yt : [INFO     ] 2025-05-19 08:28:09,293 Calculating time from 4.884e-01 to be 1.833e+17 seconds\n",
      "yt : [INFO     ] 2025-05-19 08:28:09,792 Parameters: current_time              = 1.832656005258152e+17 s\n",
      "yt : [INFO     ] 2025-05-19 08:28:09,793 Parameters: domain_dimensions         = [1 1 1]\n",
      "yt : [INFO     ] 2025-05-19 08:28:09,794 Parameters: domain_left_edge          = [0. 0. 0.]\n",
      "yt : [INFO     ] 2025-05-19 08:28:09,875 Parameters: domain_right_edge         = [25000. 25000. 25000.]\n",
      "yt : [INFO     ] 2025-05-19 08:28:09,876 Parameters: cosmological_simulation   = True\n",
      "yt : [INFO     ] 2025-05-19 08:28:09,877 Parameters: current_redshift          = 1.0476023211521182\n",
      "yt : [INFO     ] 2025-05-19 08:28:09,878 Parameters: omega_lambda              = 0.7\n",
      "yt : [INFO     ] 2025-05-19 08:28:09,879 Parameters: omega_matter              = 0.3\n",
      "yt : [INFO     ] 2025-05-19 08:28:09,880 Parameters: omega_radiation           = 0.0\n",
      "yt : [INFO     ] 2025-05-19 08:28:09,880 Parameters: hubble_constant           = 0.6711\n",
      "yt : [WARNING  ] 2025-05-19 08:28:09,882 The hot_gas particle filter already exists. Overriding.\n",
      "yt : [INFO     ] 2025-05-19 08:28:10,178 Allocating for 8475 particles\n",
      "yt : [INFO     ] 2025-05-19 08:28:11,698 Making a fixed resolution buffer of (('hot_gas', 'xray_emissivity_0.5_2_keV')) 500 by 500\n",
      "ex0 Halos:  67%|██████▋   | 35/52 [22:30<05:48, 20.48s/it]yt : [INFO     ] 2025-05-19 08:28:19,795 Calculating time from 4.884e-01 to be 1.833e+17 seconds\n",
      "pyxsim : [INFO     ] 2025-05-19 08:28:19,990 kT_min = 0.025 keV\n",
      "pyxsim : [INFO     ] 2025-05-19 08:28:19,993 kT_max = 64 keV\n",
      "pyxsim : [INFO     ] 2025-05-19 08:28:20,077 Using emission measure field '('hot_gas', 'emission_measure')'.\n",
      "pyxsim : [INFO     ] 2025-05-19 08:28:20,079 Using temperature field '('hot_gas', 'temperature')'.\n"
     ]
    },
    {
     "data": {
      "application/vnd.jupyter.widget-view+json": {
       "model_id": "3903caf757024c5ab76113692b4776ea",
       "version_major": 2,
       "version_minor": 0
      },
      "text/plain": [
       "Preparing spectrum table :   0%|          | 0/138 [00:00<?, ?it/s]"
      ]
     },
     "metadata": {},
     "output_type": "display_data"
    },
    {
     "name": "stderr",
     "output_type": "stream",
     "text": [
      "yt : [INFO     ] 2025-05-19 08:28:20,484 Parameters: current_time              = 1.832656005258152e+17 s\n",
      "yt : [INFO     ] 2025-05-19 08:28:20,487 Parameters: domain_dimensions         = [1 1 1]\n",
      "yt : [INFO     ] 2025-05-19 08:28:20,488 Parameters: domain_left_edge          = [0. 0. 0.]\n",
      "yt : [INFO     ] 2025-05-19 08:28:20,489 Parameters: domain_right_edge         = [25000. 25000. 25000.]\n",
      "yt : [INFO     ] 2025-05-19 08:28:20,490 Parameters: cosmological_simulation   = True\n",
      "yt : [INFO     ] 2025-05-19 08:28:20,491 Parameters: current_redshift          = 1.0476023211521182\n",
      "yt : [INFO     ] 2025-05-19 08:28:20,574 Parameters: omega_lambda              = 0.7\n",
      "yt : [INFO     ] 2025-05-19 08:28:20,578 Parameters: omega_matter              = 0.3\n",
      "yt : [INFO     ] 2025-05-19 08:28:20,581 Parameters: omega_radiation           = 0.0\n",
      "yt : [INFO     ] 2025-05-19 08:28:20,582 Parameters: hubble_constant           = 0.6711\n",
      "yt : [WARNING  ] 2025-05-19 08:28:20,584 The hot_gas particle filter already exists. Overriding.\n",
      "yt : [INFO     ] 2025-05-19 08:28:20,877 Allocating for 8260 particles\n",
      "pyxsim : [INFO     ] 2025-05-19 08:28:28,076 kT_min = 0.025 keV\n",
      "pyxsim : [INFO     ] 2025-05-19 08:28:28,079 kT_max = 64 keV\n",
      "pyxsim : [INFO     ] 2025-05-19 08:28:28,082 Using emission measure field '('hot_gas', 'emission_measure')'.\n",
      "pyxsim : [INFO     ] 2025-05-19 08:28:28,083 Using temperature field '('hot_gas', 'temperature')'.\n"
     ]
    },
    {
     "data": {
      "application/vnd.jupyter.widget-view+json": {
       "model_id": "8fbef3ee6e7d43ad9765d16d6e91da5c",
       "version_major": 2,
       "version_minor": 0
      },
      "text/plain": [
       "Preparing spectrum table :   0%|          | 0/138 [00:00<?, ?it/s]"
      ]
     },
     "metadata": {},
     "output_type": "display_data"
    },
    {
     "name": "stderr",
     "output_type": "stream",
     "text": [
      "pyxsim : [INFO     ] 2025-05-19 08:28:29,379 kT_min = 0.025 keV\n",
      "pyxsim : [INFO     ] 2025-05-19 08:28:29,381 kT_max = 64 keV\n",
      "pyxsim : [INFO     ] 2025-05-19 08:28:29,383 Using emission measure field '('hot_gas', 'emission_measure')'.\n",
      "pyxsim : [INFO     ] 2025-05-19 08:28:29,384 Using temperature field '('hot_gas', 'temperature')'.\n"
     ]
    },
    {
     "data": {
      "application/vnd.jupyter.widget-view+json": {
       "model_id": "45f23d0d6f9a47b8bf58611fee2ef39f",
       "version_major": 2,
       "version_minor": 0
      },
      "text/plain": [
       "Preparing spectrum table :   0%|          | 0/138 [00:00<?, ?it/s]"
      ]
     },
     "metadata": {},
     "output_type": "display_data"
    },
    {
     "name": "stderr",
     "output_type": "stream",
     "text": [
      "pyxsim : [INFO     ] 2025-05-19 08:28:31,685 kT_min = 0.025 keV\n",
      "pyxsim : [INFO     ] 2025-05-19 08:28:31,688 kT_max = 64 keV\n",
      "pyxsim : [INFO     ] 2025-05-19 08:28:31,776 Using emission measure field '('hot_gas', 'emission_measure')'.\n",
      "pyxsim : [INFO     ] 2025-05-19 08:28:31,777 Using temperature field '('hot_gas', 'temperature')'.\n"
     ]
    },
    {
     "data": {
      "application/vnd.jupyter.widget-view+json": {
       "model_id": "58fb474c74cc45bbbce6be021ce04028",
       "version_major": 2,
       "version_minor": 0
      },
      "text/plain": [
       "Preparing spectrum table :   0%|          | 0/138 [00:00<?, ?it/s]"
      ]
     },
     "metadata": {},
     "output_type": "display_data"
    },
    {
     "name": "stderr",
     "output_type": "stream",
     "text": [
      "pyxsim : [INFO     ] 2025-05-19 08:28:42,193 kT_min = 0.025 keV\n",
      "pyxsim : [INFO     ] 2025-05-19 08:28:42,278 kT_max = 64 keV\n",
      "pyxsim : [INFO     ] 2025-05-19 08:28:42,280 Using emission measure field '('hot_gas', 'emission_measure')'.\n",
      "pyxsim : [INFO     ] 2025-05-19 08:28:42,281 Using temperature field '('hot_gas', 'temperature')'.\n"
     ]
    },
    {
     "data": {
      "application/vnd.jupyter.widget-view+json": {
       "model_id": "3f07c8539ec341c9b86e6fb384be1fc6",
       "version_major": 2,
       "version_minor": 0
      },
      "text/plain": [
       "Preparing spectrum table :   0%|          | 0/138 [00:00<?, ?it/s]"
      ]
     },
     "metadata": {},
     "output_type": "display_data"
    },
    {
     "name": "stderr",
     "output_type": "stream",
     "text": [
      "yt : [INFO     ] 2025-05-19 08:30:53,479 Making a fixed resolution buffer of (('hot_gas', 'xray_emissivity_0.5_2_keV')) 500 by 500\n",
      "ex0 Halos:  69%|██████▉   | 36/52 [25:12<16:45, 62.82s/it]yt : [INFO     ] 2025-05-19 08:31:01,495 Calculating time from 4.884e-01 to be 1.833e+17 seconds\n",
      "yt : [INFO     ] 2025-05-19 08:31:02,075 Parameters: current_time              = 1.832656005258152e+17 s\n",
      "yt : [INFO     ] 2025-05-19 08:31:02,077 Parameters: domain_dimensions         = [1 1 1]\n",
      "yt : [INFO     ] 2025-05-19 08:31:02,078 Parameters: domain_left_edge          = [0. 0. 0.]\n",
      "yt : [INFO     ] 2025-05-19 08:31:02,079 Parameters: domain_right_edge         = [25000. 25000. 25000.]\n",
      "yt : [INFO     ] 2025-05-19 08:31:02,080 Parameters: cosmological_simulation   = True\n",
      "yt : [INFO     ] 2025-05-19 08:31:02,081 Parameters: current_redshift          = 1.0476023211521182\n",
      "yt : [INFO     ] 2025-05-19 08:31:02,082 Parameters: omega_lambda              = 0.7\n",
      "yt : [INFO     ] 2025-05-19 08:31:02,083 Parameters: omega_matter              = 0.3\n",
      "yt : [INFO     ] 2025-05-19 08:31:02,084 Parameters: omega_radiation           = 0.0\n",
      "yt : [INFO     ] 2025-05-19 08:31:02,085 Parameters: hubble_constant           = 0.6711\n",
      "yt : [WARNING  ] 2025-05-19 08:31:02,175 The hot_gas particle filter already exists. Overriding.\n",
      "yt : [INFO     ] 2025-05-19 08:31:02,376 Allocating for 7674 particles\n",
      "yt : [INFO     ] 2025-05-19 08:31:02,580 Making a fixed resolution buffer of (('hot_gas', 'xray_emissivity_0.5_2_keV')) 500 by 500\n",
      "yt : [INFO     ] 2025-05-19 08:31:03,883 Making a fixed resolution buffer of (('hot_gas', 'xray_emissivity_0.5_2_keV')) 500 by 500\n",
      "yt : [INFO     ] 2025-05-19 08:31:06,175 Making a fixed resolution buffer of (('hot_gas', 'xray_emissivity_0.5_2_keV')) 500 by 500\n",
      "ex0 Halos:  75%|███████▌  | 39/52 [25:26<05:15, 24.25s/it]yt : [INFO     ] 2025-05-19 08:31:12,991 Calculating time from 4.884e-01 to be 1.833e+17 seconds\n",
      "yt : [INFO     ] 2025-05-19 08:31:13,576 Parameters: current_time              = 1.832656005258152e+17 s\n",
      "yt : [INFO     ] 2025-05-19 08:31:13,578 Parameters: domain_dimensions         = [1 1 1]\n",
      "yt : [INFO     ] 2025-05-19 08:31:13,579 Parameters: domain_left_edge          = [0. 0. 0.]\n",
      "yt : [INFO     ] 2025-05-19 08:31:13,580 Parameters: domain_right_edge         = [25000. 25000. 25000.]\n",
      "yt : [INFO     ] 2025-05-19 08:31:13,581 Parameters: cosmological_simulation   = True\n",
      "yt : [INFO     ] 2025-05-19 08:31:13,582 Parameters: current_redshift          = 1.0476023211521182\n",
      "yt : [INFO     ] 2025-05-19 08:31:13,583 Parameters: omega_lambda              = 0.7\n",
      "yt : [INFO     ] 2025-05-19 08:31:13,584 Parameters: omega_matter              = 0.3\n",
      "yt : [INFO     ] 2025-05-19 08:31:13,585 Parameters: omega_radiation           = 0.0\n",
      "yt : [INFO     ] 2025-05-19 08:31:13,586 Parameters: hubble_constant           = 0.6711\n",
      "yt : [WARNING  ] 2025-05-19 08:31:13,588 The hot_gas particle filter already exists. Overriding.\n",
      "yt : [INFO     ] 2025-05-19 08:31:13,876 Allocating for 6741 particles\n",
      "yt : [INFO     ] 2025-05-19 08:31:14,475 Calculating time from 4.884e-01 to be 1.833e+17 seconds\n",
      "yt : [INFO     ] 2025-05-19 08:31:14,894 Parameters: current_time              = 1.832656005258152e+17 s\n",
      "yt : [INFO     ] 2025-05-19 08:31:14,896 Parameters: domain_dimensions         = [1 1 1]\n",
      "yt : [INFO     ] 2025-05-19 08:31:14,897 Parameters: domain_left_edge          = [0. 0. 0.]\n",
      "yt : [INFO     ] 2025-05-19 08:31:14,975 Parameters: domain_right_edge         = [25000. 25000. 25000.]\n",
      "yt : [INFO     ] 2025-05-19 08:31:14,976 Parameters: cosmological_simulation   = True\n",
      "yt : [INFO     ] 2025-05-19 08:31:14,977 Parameters: current_redshift          = 1.0476023211521182\n",
      "yt : [INFO     ] 2025-05-19 08:31:14,978 Parameters: omega_lambda              = 0.7\n",
      "yt : [INFO     ] 2025-05-19 08:31:14,979 Parameters: omega_matter              = 0.3\n",
      "yt : [INFO     ] 2025-05-19 08:31:14,979 Parameters: omega_radiation           = 0.0\n",
      "yt : [INFO     ] 2025-05-19 08:31:14,980 Parameters: hubble_constant           = 0.6711\n",
      "yt : [WARNING  ] 2025-05-19 08:31:14,983 The hot_gas particle filter already exists. Overriding.\n",
      "yt : [INFO     ] 2025-05-19 08:31:15,094 Calculating time from 4.884e-01 to be 1.833e+17 seconds\n",
      "yt : [INFO     ] 2025-05-19 08:31:15,179 Allocating for 6394 particles\n",
      "yt : [INFO     ] 2025-05-19 08:31:15,585 Parameters: current_time              = 1.832656005258152e+17 s\n",
      "yt : [INFO     ] 2025-05-19 08:31:15,586 Parameters: domain_dimensions         = [1 1 1]\n",
      "yt : [INFO     ] 2025-05-19 08:31:15,587 Parameters: domain_left_edge          = [0. 0. 0.]\n",
      "yt : [INFO     ] 2025-05-19 08:31:15,588 Parameters: domain_right_edge         = [25000. 25000. 25000.]\n",
      "yt : [INFO     ] 2025-05-19 08:31:15,589 Parameters: cosmological_simulation   = True\n",
      "yt : [INFO     ] 2025-05-19 08:31:15,590 Parameters: current_redshift          = 1.0476023211521182\n",
      "yt : [INFO     ] 2025-05-19 08:31:15,675 Parameters: omega_lambda              = 0.7\n",
      "yt : [INFO     ] 2025-05-19 08:31:15,676 Parameters: omega_matter              = 0.3\n",
      "yt : [INFO     ] 2025-05-19 08:31:15,676 Parameters: omega_radiation           = 0.0\n",
      "yt : [INFO     ] 2025-05-19 08:31:15,677 Parameters: hubble_constant           = 0.6711\n",
      "yt : [WARNING  ] 2025-05-19 08:31:15,679 The hot_gas particle filter already exists. Overriding.\n",
      "yt : [INFO     ] 2025-05-19 08:31:15,878 Allocating for 7830 particles\n",
      "yt : [INFO     ] 2025-05-19 08:31:23,176 Making a fixed resolution buffer of (('hot_gas', 'xray_emissivity_0.5_2_keV')) 500 by 500\n",
      "pyxsim : [INFO     ] 2025-05-19 08:31:23,283 kT_min = 0.025 keV\n",
      "pyxsim : [INFO     ] 2025-05-19 08:31:23,285 kT_max = 64 keV\n",
      "pyxsim : [INFO     ] 2025-05-19 08:31:23,288 Using emission measure field '('hot_gas', 'emission_measure')'.\n",
      "pyxsim : [INFO     ] 2025-05-19 08:31:23,375 Using temperature field '('hot_gas', 'temperature')'.\n"
     ]
    },
    {
     "data": {
      "application/vnd.jupyter.widget-view+json": {
       "model_id": "3e8a637a8af64d81b0705881a893ba35",
       "version_major": 2,
       "version_minor": 0
      },
      "text/plain": [
       "Preparing spectrum table :   0%|          | 0/138 [00:00<?, ?it/s]"
      ]
     },
     "metadata": {},
     "output_type": "display_data"
    },
    {
     "name": "stderr",
     "output_type": "stream",
     "text": [
      "ex0 Halos:  77%|███████▋  | 40/52 [25:41<04:18, 21.56s/it]yt : [INFO     ] 2025-05-19 08:31:30,381 Calculating time from 4.884e-01 to be 1.833e+17 seconds\n",
      "yt : [INFO     ] 2025-05-19 08:31:31,075 Parameters: current_time              = 1.832656005258152e+17 s\n",
      "yt : [INFO     ] 2025-05-19 08:31:31,076 Parameters: domain_dimensions         = [1 1 1]\n",
      "yt : [INFO     ] 2025-05-19 08:31:31,078 Parameters: domain_left_edge          = [0. 0. 0.]\n",
      "yt : [INFO     ] 2025-05-19 08:31:31,079 Parameters: domain_right_edge         = [25000. 25000. 25000.]\n",
      "yt : [INFO     ] 2025-05-19 08:31:31,080 Parameters: cosmological_simulation   = True\n",
      "yt : [INFO     ] 2025-05-19 08:31:31,081 Parameters: current_redshift          = 1.0476023211521182\n",
      "yt : [INFO     ] 2025-05-19 08:31:31,082 Parameters: omega_lambda              = 0.7\n",
      "yt : [INFO     ] 2025-05-19 08:31:31,083 Parameters: omega_matter              = 0.3\n",
      "yt : [INFO     ] 2025-05-19 08:31:31,084 Parameters: omega_radiation           = 0.0\n",
      "yt : [INFO     ] 2025-05-19 08:31:31,085 Parameters: hubble_constant           = 0.6711\n",
      "yt : [WARNING  ] 2025-05-19 08:31:31,087 The hot_gas particle filter already exists. Overriding.\n",
      "yt : [INFO     ] 2025-05-19 08:31:31,290 Allocating for 6507 particles\n",
      "pyxsim : [INFO     ] 2025-05-19 08:31:31,881 kT_min = 0.025 keV\n",
      "pyxsim : [INFO     ] 2025-05-19 08:31:31,884 kT_max = 64 keV\n",
      "pyxsim : [INFO     ] 2025-05-19 08:31:31,886 Using emission measure field '('hot_gas', 'emission_measure')'.\n",
      "pyxsim : [INFO     ] 2025-05-19 08:31:31,887 Using temperature field '('hot_gas', 'temperature')'.\n"
     ]
    },
    {
     "data": {
      "application/vnd.jupyter.widget-view+json": {
       "model_id": "b4ca4e8c82aa44cd86bc06038581e511",
       "version_major": 2,
       "version_minor": 0
      },
      "text/plain": [
       "Preparing spectrum table :   0%|          | 0/138 [00:00<?, ?it/s]"
      ]
     },
     "metadata": {},
     "output_type": "display_data"
    },
    {
     "name": "stderr",
     "output_type": "stream",
     "text": [
      "pyxsim : [INFO     ] 2025-05-19 08:31:34,776 kT_min = 0.025 keV\n",
      "pyxsim : [INFO     ] 2025-05-19 08:31:34,779 kT_max = 64 keV\n",
      "pyxsim : [INFO     ] 2025-05-19 08:31:34,781 Using emission measure field '('hot_gas', 'emission_measure')'.\n",
      "pyxsim : [INFO     ] 2025-05-19 08:31:34,782 Using temperature field '('hot_gas', 'temperature')'.\n"
     ]
    },
    {
     "data": {
      "application/vnd.jupyter.widget-view+json": {
       "model_id": "2aa3a4a702534403ae9284260b69fa3d",
       "version_major": 2,
       "version_minor": 0
      },
      "text/plain": [
       "Preparing spectrum table :   0%|          | 0/138 [00:00<?, ?it/s]"
      ]
     },
     "metadata": {},
     "output_type": "display_data"
    },
    {
     "name": "stderr",
     "output_type": "stream",
     "text": [
      "pyxsim : [INFO     ] 2025-05-19 08:31:35,089 kT_min = 0.025 keV\n",
      "pyxsim : [INFO     ] 2025-05-19 08:31:35,091 kT_max = 64 keV\n",
      "pyxsim : [INFO     ] 2025-05-19 08:31:35,176 Using emission measure field '('hot_gas', 'emission_measure')'.\n",
      "pyxsim : [INFO     ] 2025-05-19 08:31:35,177 Using temperature field '('hot_gas', 'temperature')'.\n"
     ]
    },
    {
     "data": {
      "application/vnd.jupyter.widget-view+json": {
       "model_id": "2e3ddb7e57d5408784afc6c1aeea4aab",
       "version_major": 2,
       "version_minor": 0
      },
      "text/plain": [
       "Preparing spectrum table :   0%|          | 0/138 [00:00<?, ?it/s]"
      ]
     },
     "metadata": {},
     "output_type": "display_data"
    },
    {
     "name": "stderr",
     "output_type": "stream",
     "text": [
      "pyxsim : [INFO     ] 2025-05-19 08:31:51,182 kT_min = 0.025 keV\n",
      "pyxsim : [INFO     ] 2025-05-19 08:31:51,184 kT_max = 64 keV\n",
      "pyxsim : [INFO     ] 2025-05-19 08:31:51,187 Using emission measure field '('hot_gas', 'emission_measure')'.\n",
      "pyxsim : [INFO     ] 2025-05-19 08:31:51,187 Using temperature field '('hot_gas', 'temperature')'.\n"
     ]
    },
    {
     "data": {
      "application/vnd.jupyter.widget-view+json": {
       "model_id": "639e9f65d5e949a6a012b3a357031114",
       "version_major": 2,
       "version_minor": 0
      },
      "text/plain": [
       "Preparing spectrum table :   0%|          | 0/138 [00:00<?, ?it/s]"
      ]
     },
     "metadata": {},
     "output_type": "display_data"
    },
    {
     "name": "stderr",
     "output_type": "stream",
     "text": [
      "yt : [INFO     ] 2025-05-19 08:34:02,085 Making a fixed resolution buffer of (('hot_gas', 'xray_emissivity_0.5_2_keV')) 500 by 500\n",
      "ex0 Halos:  79%|███████▉  | 41/52 [28:20<11:31, 62.85s/it]yt : [INFO     ] 2025-05-19 08:34:09,284 Making a fixed resolution buffer of (('hot_gas', 'xray_emissivity_0.5_2_keV')) 500 by 500\n",
      "yt : [INFO     ] 2025-05-19 08:34:09,694 Calculating time from 4.884e-01 to be 1.833e+17 seconds\n",
      "yt : [INFO     ] 2025-05-19 08:34:10,180 Parameters: current_time              = 1.832656005258152e+17 s\n",
      "yt : [INFO     ] 2025-05-19 08:34:10,181 Parameters: domain_dimensions         = [1 1 1]\n",
      "yt : [INFO     ] 2025-05-19 08:34:10,182 Parameters: domain_left_edge          = [0. 0. 0.]\n",
      "yt : [INFO     ] 2025-05-19 08:34:10,183 Parameters: domain_right_edge         = [25000. 25000. 25000.]\n",
      "yt : [INFO     ] 2025-05-19 08:34:10,185 Parameters: cosmological_simulation   = True\n",
      "yt : [INFO     ] 2025-05-19 08:34:10,185 Parameters: current_redshift          = 1.0476023211521182\n",
      "yt : [INFO     ] 2025-05-19 08:34:10,186 Parameters: omega_lambda              = 0.7\n",
      "yt : [INFO     ] 2025-05-19 08:34:10,187 Parameters: omega_matter              = 0.3\n",
      "yt : [INFO     ] 2025-05-19 08:34:10,188 Parameters: omega_radiation           = 0.0\n",
      "yt : [INFO     ] 2025-05-19 08:34:10,189 Parameters: hubble_constant           = 0.6711\n",
      "yt : [WARNING  ] 2025-05-19 08:34:10,275 The hot_gas particle filter already exists. Overriding.\n",
      "yt : [INFO     ] 2025-05-19 08:34:10,475 Allocating for 6779 particles\n",
      "ex0 Halos:  81%|████████  | 42/52 [28:27<07:40, 46.07s/it]yt : [INFO     ] 2025-05-19 08:34:16,994 Calculating time from 4.884e-01 to be 1.833e+17 seconds\n",
      "yt : [INFO     ] 2025-05-19 08:34:17,575 Parameters: current_time              = 1.832656005258152e+17 s\n",
      "yt : [INFO     ] 2025-05-19 08:34:17,577 Parameters: domain_dimensions         = [1 1 1]\n",
      "yt : [INFO     ] 2025-05-19 08:34:17,576 Making a fixed resolution buffer of (('hot_gas', 'xray_emissivity_0.5_2_keV')) 500 by 500\n",
      "yt : [INFO     ] 2025-05-19 08:34:17,579 Parameters: domain_left_edge          = [0. 0. 0.]\n",
      "yt : [INFO     ] 2025-05-19 08:34:17,580 Parameters: domain_right_edge         = [25000. 25000. 25000.]\n",
      "yt : [INFO     ] 2025-05-19 08:34:17,581 Parameters: cosmological_simulation   = True\n",
      "yt : [INFO     ] 2025-05-19 08:34:17,582 Parameters: current_redshift          = 1.0476023211521182\n",
      "yt : [INFO     ] 2025-05-19 08:34:17,583 Parameters: omega_lambda              = 0.7\n",
      "yt : [INFO     ] 2025-05-19 08:34:17,584 Parameters: omega_matter              = 0.3\n",
      "yt : [INFO     ] 2025-05-19 08:34:17,585 Parameters: omega_radiation           = 0.0\n",
      "yt : [INFO     ] 2025-05-19 08:34:17,586 Parameters: hubble_constant           = 0.6711\n",
      "yt : [WARNING  ] 2025-05-19 08:34:17,588 The hot_gas particle filter already exists. Overriding.\n",
      "yt : [INFO     ] 2025-05-19 08:34:17,877 Allocating for 6805 particles\n",
      "yt : [INFO     ] 2025-05-19 08:34:18,482 Making a fixed resolution buffer of (('hot_gas', 'xray_emissivity_0.5_2_keV')) 500 by 500\n",
      "ex0 Halos:  85%|████████▍ | 44/52 [28:38<03:20, 25.07s/it]yt : [INFO     ] 2025-05-19 08:34:26,279 Calculating time from 4.884e-01 to be 1.833e+17 seconds\n",
      "yt : [INFO     ] 2025-05-19 08:34:26,780 Parameters: current_time              = 1.832656005258152e+17 s\n",
      "yt : [INFO     ] 2025-05-19 08:34:26,783 Parameters: domain_dimensions         = [1 1 1]\n",
      "yt : [INFO     ] 2025-05-19 08:34:26,784 Parameters: domain_left_edge          = [0. 0. 0.]\n",
      "yt : [INFO     ] 2025-05-19 08:34:26,785 Parameters: domain_right_edge         = [25000. 25000. 25000.]\n",
      "yt : [INFO     ] 2025-05-19 08:34:26,787 Parameters: cosmological_simulation   = True\n",
      "yt : [INFO     ] 2025-05-19 08:34:26,787 Parameters: current_redshift          = 1.0476023211521182\n",
      "yt : [INFO     ] 2025-05-19 08:34:26,788 Parameters: omega_lambda              = 0.7\n",
      "yt : [INFO     ] 2025-05-19 08:34:26,789 Parameters: omega_matter              = 0.3\n",
      "yt : [INFO     ] 2025-05-19 08:34:26,790 Parameters: omega_radiation           = 0.0\n",
      "yt : [INFO     ] 2025-05-19 08:34:26,791 Parameters: hubble_constant           = 0.6711\n",
      "yt : [WARNING  ] 2025-05-19 08:34:26,876 The hot_gas particle filter already exists. Overriding.\n",
      "yt : [INFO     ] 2025-05-19 08:34:27,090 Allocating for 6392 particles\n",
      "yt : [INFO     ] 2025-05-19 08:34:27,583 Calculating time from 4.884e-01 to be 1.833e+17 seconds\n",
      "yt : [INFO     ] 2025-05-19 08:34:28,278 Parameters: current_time              = 1.832656005258152e+17 s\n",
      "yt : [INFO     ] 2025-05-19 08:34:28,281 Parameters: domain_dimensions         = [1 1 1]\n",
      "yt : [INFO     ] 2025-05-19 08:34:28,282 Parameters: domain_left_edge          = [0. 0. 0.]\n",
      "yt : [INFO     ] 2025-05-19 08:34:28,283 Parameters: domain_right_edge         = [25000. 25000. 25000.]\n",
      "yt : [INFO     ] 2025-05-19 08:34:28,284 Parameters: cosmological_simulation   = True\n",
      "yt : [INFO     ] 2025-05-19 08:34:28,285 Parameters: current_redshift          = 1.0476023211521182\n",
      "yt : [INFO     ] 2025-05-19 08:34:28,286 Parameters: omega_lambda              = 0.7\n",
      "yt : [INFO     ] 2025-05-19 08:34:28,287 Parameters: omega_matter              = 0.3\n",
      "yt : [INFO     ] 2025-05-19 08:34:28,375 Parameters: omega_radiation           = 0.0\n",
      "yt : [INFO     ] 2025-05-19 08:34:28,376 Parameters: hubble_constant           = 0.6711\n",
      "yt : [WARNING  ] 2025-05-19 08:34:28,379 The hot_gas particle filter already exists. Overriding.\n",
      "yt : [INFO     ] 2025-05-19 08:34:28,578 Allocating for 5752 particles\n",
      "pyxsim : [INFO     ] 2025-05-19 08:34:35,193 kT_min = 0.025 keV\n",
      "pyxsim : [INFO     ] 2025-05-19 08:34:35,280 kT_max = 64 keV\n",
      "pyxsim : [INFO     ] 2025-05-19 08:34:35,283 Using emission measure field '('hot_gas', 'emission_measure')'.\n",
      "pyxsim : [INFO     ] 2025-05-19 08:34:35,378 Using temperature field '('hot_gas', 'temperature')'.\n"
     ]
    },
    {
     "data": {
      "application/vnd.jupyter.widget-view+json": {
       "model_id": "e6004ff829da4899a2928e2a790160fc",
       "version_major": 2,
       "version_minor": 0
      },
      "text/plain": [
       "Preparing spectrum table :   0%|          | 0/138 [00:00<?, ?it/s]"
      ]
     },
     "metadata": {},
     "output_type": "display_data"
    },
    {
     "name": "stderr",
     "output_type": "stream",
     "text": [
      "yt : [INFO     ] 2025-05-19 08:34:37,892 Making a fixed resolution buffer of (('hot_gas', 'xray_emissivity_0.5_2_keV')) 500 by 500\n",
      "pyxsim : [INFO     ] 2025-05-19 08:34:42,076 kT_min = 0.025 keV\n",
      "pyxsim : [INFO     ] 2025-05-19 08:34:42,080 kT_max = 64 keV\n",
      "pyxsim : [INFO     ] 2025-05-19 08:34:42,082 Using emission measure field '('hot_gas', 'emission_measure')'.\n",
      "pyxsim : [INFO     ] 2025-05-19 08:34:42,083 Using temperature field '('hot_gas', 'temperature')'.\n",
      "ex0 Halos:  87%|████████▋ | 45/52 [28:56<02:39, 22.86s/it]"
     ]
    },
    {
     "data": {
      "application/vnd.jupyter.widget-view+json": {
       "model_id": "1b14c32b6f3a4e8a8d924d194d299779",
       "version_major": 2,
       "version_minor": 0
      },
      "text/plain": [
       "Preparing spectrum table :   0%|          | 0/138 [00:00<?, ?it/s]"
      ]
     },
     "metadata": {},
     "output_type": "display_data"
    },
    {
     "name": "stderr",
     "output_type": "stream",
     "text": [
      "yt : [INFO     ] 2025-05-19 08:34:45,094 Calculating time from 4.884e-01 to be 1.833e+17 seconds\n",
      "yt : [INFO     ] 2025-05-19 08:34:45,784 Parameters: current_time              = 1.832656005258152e+17 s\n",
      "yt : [INFO     ] 2025-05-19 08:34:45,786 Parameters: domain_dimensions         = [1 1 1]\n",
      "yt : [INFO     ] 2025-05-19 08:34:45,787 Parameters: domain_left_edge          = [0. 0. 0.]\n",
      "yt : [INFO     ] 2025-05-19 08:34:45,788 Parameters: domain_right_edge         = [25000. 25000. 25000.]\n",
      "yt : [INFO     ] 2025-05-19 08:34:45,790 Parameters: cosmological_simulation   = True\n",
      "yt : [INFO     ] 2025-05-19 08:34:45,791 Parameters: current_redshift          = 1.0476023211521182\n",
      "yt : [INFO     ] 2025-05-19 08:34:45,878 Parameters: omega_lambda              = 0.7\n",
      "yt : [INFO     ] 2025-05-19 08:34:45,880 Parameters: omega_matter              = 0.3\n",
      "yt : [INFO     ] 2025-05-19 08:34:45,882 Parameters: omega_radiation           = 0.0\n",
      "yt : [INFO     ] 2025-05-19 08:34:45,883 Parameters: hubble_constant           = 0.6711\n",
      "yt : [WARNING  ] 2025-05-19 08:34:45,885 The hot_gas particle filter already exists. Overriding.\n",
      "yt : [INFO     ] 2025-05-19 08:34:46,176 Allocating for 6364 particles\n",
      "pyxsim : [INFO     ] 2025-05-19 08:34:49,682 kT_min = 0.025 keV\n",
      "pyxsim : [INFO     ] 2025-05-19 08:34:49,686 kT_max = 64 keV\n",
      "pyxsim : [INFO     ] 2025-05-19 08:34:49,688 Using emission measure field '('hot_gas', 'emission_measure')'.\n",
      "pyxsim : [INFO     ] 2025-05-19 08:34:49,689 Using temperature field '('hot_gas', 'temperature')'.\n"
     ]
    },
    {
     "data": {
      "application/vnd.jupyter.widget-view+json": {
       "model_id": "e167b3ce7e774274a8524d6055d8f789",
       "version_major": 2,
       "version_minor": 0
      },
      "text/plain": [
       "Preparing spectrum table :   0%|          | 0/138 [00:00<?, ?it/s]"
      ]
     },
     "metadata": {},
     "output_type": "display_data"
    },
    {
     "name": "stderr",
     "output_type": "stream",
     "text": [
      "pyxsim : [INFO     ] 2025-05-19 08:34:51,289 kT_min = 0.025 keV\n",
      "pyxsim : [INFO     ] 2025-05-19 08:34:51,291 kT_max = 64 keV\n",
      "pyxsim : [INFO     ] 2025-05-19 08:34:51,375 Using emission measure field '('hot_gas', 'emission_measure')'.\n",
      "pyxsim : [INFO     ] 2025-05-19 08:34:51,376 Using temperature field '('hot_gas', 'temperature')'.\n"
     ]
    },
    {
     "data": {
      "application/vnd.jupyter.widget-view+json": {
       "model_id": "398d650e29054c35bddc01bd2c6c5e92",
       "version_major": 2,
       "version_minor": 0
      },
      "text/plain": [
       "Preparing spectrum table :   0%|          | 0/138 [00:00<?, ?it/s]"
      ]
     },
     "metadata": {},
     "output_type": "display_data"
    },
    {
     "name": "stderr",
     "output_type": "stream",
     "text": [
      "pyxsim : [INFO     ] 2025-05-19 08:35:07,677 kT_min = 0.025 keV\n",
      "pyxsim : [INFO     ] 2025-05-19 08:35:07,679 kT_max = 64 keV\n",
      "pyxsim : [INFO     ] 2025-05-19 08:35:07,682 Using emission measure field '('hot_gas', 'emission_measure')'.\n",
      "pyxsim : [INFO     ] 2025-05-19 08:35:07,682 Using temperature field '('hot_gas', 'temperature')'.\n"
     ]
    },
    {
     "data": {
      "application/vnd.jupyter.widget-view+json": {
       "model_id": "b2dbca72a4df432eaea83f3950208f77",
       "version_major": 2,
       "version_minor": 0
      },
      "text/plain": [
       "Preparing spectrum table :   0%|          | 0/138 [00:00<?, ?it/s]"
      ]
     },
     "metadata": {},
     "output_type": "display_data"
    },
    {
     "name": "stderr",
     "output_type": "stream",
     "text": [
      "yt : [INFO     ] 2025-05-19 08:37:14,188 Making a fixed resolution buffer of (('hot_gas', 'xray_emissivity_0.5_2_keV')) 500 by 500\n",
      "ex0 Halos:  88%|████████▊ | 46/52 [31:33<06:18, 63.10s/it]yt : [INFO     ] 2025-05-19 08:37:19,892 Making a fixed resolution buffer of (('hot_gas', 'xray_emissivity_0.5_2_keV')) 500 by 500\n",
      "yt : [INFO     ] 2025-05-19 08:37:22,877 Calculating time from 4.884e-01 to be 1.833e+17 seconds\n",
      "yt : [INFO     ] 2025-05-19 08:37:24,182 Parameters: current_time              = 1.832656005258152e+17 s\n",
      "yt : [INFO     ] 2025-05-19 08:37:24,184 Parameters: domain_dimensions         = [1 1 1]\n",
      "yt : [INFO     ] 2025-05-19 08:37:24,185 Parameters: domain_left_edge          = [0. 0. 0.]\n",
      "yt : [INFO     ] 2025-05-19 08:37:24,187 Parameters: domain_right_edge         = [25000. 25000. 25000.]\n",
      "yt : [INFO     ] 2025-05-19 08:37:24,276 Parameters: cosmological_simulation   = True\n",
      "yt : [INFO     ] 2025-05-19 08:37:24,278 Parameters: current_redshift          = 1.0476023211521182\n",
      "yt : [INFO     ] 2025-05-19 08:37:24,279 Parameters: omega_lambda              = 0.7\n",
      "yt : [INFO     ] 2025-05-19 08:37:24,280 Parameters: omega_matter              = 0.3\n",
      "yt : [INFO     ] 2025-05-19 08:37:24,281 Parameters: omega_radiation           = 0.0\n",
      "yt : [INFO     ] 2025-05-19 08:37:24,282 Parameters: hubble_constant           = 0.6711\n",
      "yt : [WARNING  ] 2025-05-19 08:37:24,285 The hot_gas particle filter already exists. Overriding.\n",
      "yt : [INFO     ] 2025-05-19 08:37:24,779 Allocating for 6506 particles\n",
      "ex0 Halos:  90%|█████████ | 47/52 [31:38<03:48, 45.73s/it]yt : [INFO     ] 2025-05-19 08:37:27,475 Calculating time from 4.884e-01 to be 1.833e+17 seconds\n",
      "yt : [INFO     ] 2025-05-19 08:37:27,986 Parameters: current_time              = 1.832656005258152e+17 s\n",
      "yt : [INFO     ] 2025-05-19 08:37:27,988 Parameters: domain_dimensions         = [1 1 1]\n",
      "yt : [INFO     ] 2025-05-19 08:37:27,989 Parameters: domain_left_edge          = [0. 0. 0.]\n",
      "yt : [INFO     ] 2025-05-19 08:37:28,075 Parameters: domain_right_edge         = [25000. 25000. 25000.]\n",
      "yt : [INFO     ] 2025-05-19 08:37:28,077 Parameters: cosmological_simulation   = True\n",
      "yt : [INFO     ] 2025-05-19 08:37:28,077 Parameters: current_redshift          = 1.0476023211521182\n",
      "yt : [INFO     ] 2025-05-19 08:37:28,078 Parameters: omega_lambda              = 0.7\n",
      "yt : [INFO     ] 2025-05-19 08:37:28,079 Parameters: omega_matter              = 0.3\n",
      "yt : [INFO     ] 2025-05-19 08:37:28,080 Parameters: omega_radiation           = 0.0\n",
      "yt : [INFO     ] 2025-05-19 08:37:28,081 Parameters: hubble_constant           = 0.6711\n",
      "yt : [WARNING  ] 2025-05-19 08:37:28,082 The hot_gas particle filter already exists. Overriding.\n",
      "yt : [INFO     ] 2025-05-19 08:37:28,376 Allocating for 6651 particles\n",
      "yt : [INFO     ] 2025-05-19 08:37:31,476 Making a fixed resolution buffer of (('hot_gas', 'xray_emissivity_0.5_2_keV')) 500 by 500\n",
      "ex0 Halos:  92%|█████████▏| 48/52 [31:50<02:22, 35.58s/it]yt : [INFO     ] 2025-05-19 08:37:36,980 Making a fixed resolution buffer of (('hot_gas', 'xray_emissivity_0.5_2_keV')) 500 by 500\n",
      "ex0 Halos:  94%|█████████▍| 49/52 [31:54<01:18, 26.16s/it]pyxsim : [INFO     ] 2025-05-19 08:37:43,886 kT_min = 0.025 keV\n",
      "pyxsim : [INFO     ] 2025-05-19 08:37:43,889 kT_max = 64 keV\n",
      "pyxsim : [INFO     ] 2025-05-19 08:37:43,891 Using emission measure field '('hot_gas', 'emission_measure')'.\n",
      "pyxsim : [INFO     ] 2025-05-19 08:37:43,892 Using temperature field '('hot_gas', 'temperature')'.\n"
     ]
    },
    {
     "data": {
      "application/vnd.jupyter.widget-view+json": {
       "model_id": "45d3e8b2e3c3402db5325a7853388156",
       "version_major": 2,
       "version_minor": 0
      },
      "text/plain": [
       "Preparing spectrum table :   0%|          | 0/138 [00:00<?, ?it/s]"
      ]
     },
     "metadata": {},
     "output_type": "display_data"
    },
    {
     "name": "stderr",
     "output_type": "stream",
     "text": [
      "pyxsim : [INFO     ] 2025-05-19 08:37:45,779 kT_min = 0.025 keV\n",
      "pyxsim : [INFO     ] 2025-05-19 08:37:45,781 kT_max = 64 keV\n",
      "pyxsim : [INFO     ] 2025-05-19 08:37:45,783 Using emission measure field '('hot_gas', 'emission_measure')'.\n",
      "pyxsim : [INFO     ] 2025-05-19 08:37:45,784 Using temperature field '('hot_gas', 'temperature')'.\n"
     ]
    },
    {
     "data": {
      "application/vnd.jupyter.widget-view+json": {
       "model_id": "82914cf1ba5b414ead55bf29651cf4b7",
       "version_major": 2,
       "version_minor": 0
      },
      "text/plain": [
       "Preparing spectrum table :   0%|          | 0/138 [00:00<?, ?it/s]"
      ]
     },
     "metadata": {},
     "output_type": "display_data"
    },
    {
     "name": "stderr",
     "output_type": "stream",
     "text": [
      "yt : [INFO     ] 2025-05-19 08:37:47,980 Making a fixed resolution buffer of (('hot_gas', 'xray_emissivity_0.5_2_keV')) 500 by 500\n",
      "ex0 Halos:  96%|█████████▌| 50/52 [32:04<00:42, 21.38s/it]yt : [INFO     ] 2025-05-19 08:38:49,512 Making a fixed resolution buffer of (('hot_gas', 'xray_emissivity_0.5_2_keV')) 500 by 500\n",
      "yt : [INFO     ] 2025-05-19 08:38:50,281 Making a fixed resolution buffer of (('hot_gas', 'xray_emissivity_0.5_2_keV')) 500 by 500\n",
      "ex0 Halos: 100%|██████████| 52/52 [33:07<00:00, 38.23s/it]\n"
     ]
    },
    {
     "name": "stdout",
     "output_type": "stream",
     "text": [
      "✅ Saved xray_profile100_ex0_3.npz\n"
     ]
    },
    {
     "name": "stderr",
     "output_type": "stream",
     "text": [
      "ex1 Halos:   0%|          | 0/53 [00:00<?, ?it/s]yt : [INFO     ] 2025-05-19 08:39:00,995 Calculating time from 4.884e-01 to be 1.833e+17 seconds\n",
      "yt : [INFO     ] 2025-05-19 08:39:01,251 Parameters: current_time              = 1.832656005258152e+17 s\n",
      "yt : [INFO     ] 2025-05-19 08:39:01,253 Parameters: domain_dimensions         = [1 1 1]\n",
      "yt : [INFO     ] 2025-05-19 08:39:01,255 Parameters: domain_left_edge          = [0. 0. 0.]\n",
      "yt : [INFO     ] 2025-05-19 08:39:01,274 Parameters: domain_right_edge         = [25000. 25000. 25000.]\n",
      "yt : [INFO     ] 2025-05-19 08:39:01,277 Parameters: cosmological_simulation   = True\n",
      "yt : [INFO     ] 2025-05-19 08:39:01,279 Parameters: current_redshift          = 1.0476023211521182\n",
      "yt : [INFO     ] 2025-05-19 08:39:01,280 Parameters: omega_lambda              = 0.7\n",
      "yt : [INFO     ] 2025-05-19 08:39:01,281 Parameters: omega_matter              = 0.3\n",
      "yt : [INFO     ] 2025-05-19 08:39:01,282 Parameters: omega_radiation           = 0.0\n",
      "yt : [INFO     ] 2025-05-19 08:39:01,283 Parameters: hubble_constant           = 0.6711\n",
      "yt : [INFO     ] 2025-05-19 08:39:01,409 Calculating time from 4.884e-01 to be 1.833e+17 seconds\n",
      "yt : [INFO     ] 2025-05-19 08:39:01,487 Calculating time from 4.884e-01 to be 1.833e+17 seconds\n",
      "yt : [INFO     ] 2025-05-19 08:39:01,492 Calculating time from 4.884e-01 to be 1.833e+17 seconds\n",
      "yt : [INFO     ] 2025-05-19 08:39:01,577 Calculating time from 4.884e-01 to be 1.833e+17 seconds\n",
      "yt : [INFO     ] 2025-05-19 08:39:02,378 Parameters: current_time              = 1.832656005258152e+17 s\n",
      "yt : [INFO     ] 2025-05-19 08:39:02,380 Parameters: domain_dimensions         = [1 1 1]\n",
      "yt : [INFO     ] 2025-05-19 08:39:02,381 Parameters: domain_left_edge          = [0. 0. 0.]\n",
      "yt : [INFO     ] 2025-05-19 08:39:02,382 Parameters: domain_right_edge         = [25000. 25000. 25000.]\n",
      "yt : [INFO     ] 2025-05-19 08:39:02,382 Parameters: current_time              = 1.832656005258152e+17 s\n",
      "yt : [INFO     ] 2025-05-19 08:39:02,383 Parameters: cosmological_simulation   = True\n",
      "yt : [INFO     ] 2025-05-19 08:39:02,384 Parameters: domain_dimensions         = [1 1 1]\n",
      "yt : [INFO     ] 2025-05-19 08:39:02,384 Parameters: current_redshift          = 1.0476023211521182\n",
      "yt : [INFO     ] 2025-05-19 08:39:02,385 Parameters: omega_lambda              = 0.7\n",
      "yt : [INFO     ] 2025-05-19 08:39:02,385 Parameters: domain_left_edge          = [0. 0. 0.]\n",
      "yt : [INFO     ] 2025-05-19 08:39:02,386 Parameters: omega_matter              = 0.3\n",
      "yt : [INFO     ] 2025-05-19 08:39:02,386 Parameters: domain_right_edge         = [25000. 25000. 25000.]\n",
      "yt : [INFO     ] 2025-05-19 08:39:02,385 Parameters: current_time              = 1.832656005258152e+17 s\n",
      "yt : [INFO     ] 2025-05-19 08:39:02,387 Parameters: omega_radiation           = 0.0\n",
      "yt : [INFO     ] 2025-05-19 08:39:02,388 Parameters: cosmological_simulation   = True\n",
      "yt : [INFO     ] 2025-05-19 08:39:02,388 Parameters: hubble_constant           = 0.6711\n",
      "yt : [INFO     ] 2025-05-19 08:39:02,388 Parameters: domain_dimensions         = [1 1 1]\n",
      "yt : [INFO     ] 2025-05-19 08:39:02,390 Parameters: current_time              = 1.832656005258152e+17 s\n",
      "yt : [INFO     ] 2025-05-19 08:39:02,388 Parameters: current_redshift          = 1.0476023211521182\n",
      "yt : [INFO     ] 2025-05-19 08:39:02,475 Parameters: omega_lambda              = 0.7\n",
      "yt : [INFO     ] 2025-05-19 08:39:02,475 Parameters: domain_dimensions         = [1 1 1]\n",
      "yt : [INFO     ] 2025-05-19 08:39:02,476 Parameters: omega_matter              = 0.3\n",
      "yt : [INFO     ] 2025-05-19 08:39:02,477 Parameters: domain_left_edge          = [0. 0. 0.]\n",
      "yt : [INFO     ] 2025-05-19 08:39:02,477 Parameters: omega_radiation           = 0.0\n",
      "yt : [INFO     ] 2025-05-19 08:39:02,476 Parameters: domain_left_edge          = [0. 0. 0.]\n",
      "yt : [INFO     ] 2025-05-19 08:39:02,478 Parameters: hubble_constant           = 0.6711\n",
      "yt : [INFO     ] 2025-05-19 08:39:02,478 Parameters: domain_right_edge         = [25000. 25000. 25000.]\n",
      "yt : [INFO     ] 2025-05-19 08:39:02,479 Parameters: cosmological_simulation   = True\n",
      "yt : [INFO     ] 2025-05-19 08:39:02,480 Parameters: current_redshift          = 1.0476023211521182\n",
      "yt : [INFO     ] 2025-05-19 08:39:02,479 Parameters: domain_right_edge         = [25000. 25000. 25000.]\n",
      "yt : [INFO     ] 2025-05-19 08:39:02,484 Parameters: omega_lambda              = 0.7\n",
      "yt : [INFO     ] 2025-05-19 08:39:02,484 Parameters: cosmological_simulation   = True\n",
      "yt : [INFO     ] 2025-05-19 08:39:02,485 Parameters: omega_matter              = 0.3\n",
      "yt : [INFO     ] 2025-05-19 08:39:02,486 Parameters: current_redshift          = 1.0476023211521182\n",
      "yt : [INFO     ] 2025-05-19 08:39:02,486 Parameters: omega_radiation           = 0.0\n",
      "yt : [INFO     ] 2025-05-19 08:39:02,487 Parameters: omega_lambda              = 0.7\n",
      "yt : [INFO     ] 2025-05-19 08:39:02,487 Parameters: hubble_constant           = 0.6711\n",
      "yt : [INFO     ] 2025-05-19 08:39:02,488 Parameters: omega_matter              = 0.3\n",
      "yt : [INFO     ] 2025-05-19 08:39:02,488 Parameters: omega_radiation           = 0.0\n",
      "yt : [INFO     ] 2025-05-19 08:39:02,490 Parameters: hubble_constant           = 0.6711\n",
      "yt : [INFO     ] 2025-05-19 08:39:02,687 Allocating for 2.466e+04 particles\n",
      "yt : [INFO     ] 2025-05-19 08:39:02,776 Allocating for 2.002e+04 particles\n",
      "yt : [INFO     ] 2025-05-19 08:39:02,789 Allocating for 3.082e+04 particles\n",
      "yt : [INFO     ] 2025-05-19 08:39:01,480 Allocating for 2.046e+04 particles\n",
      "yt : [INFO     ] 2025-05-19 08:39:02,713 Allocating for 1.808e+04 particles\n",
      "pyxsim : [INFO     ] 2025-05-19 08:39:21,676 kT_min = 0.025 keV\n",
      "pyxsim : [INFO     ] 2025-05-19 08:39:21,679 kT_max = 64 keV\n",
      "pyxsim : [INFO     ] 2025-05-19 08:39:21,681 Using emission measure field '('hot_gas', 'emission_measure')'.\n",
      "pyxsim : [INFO     ] 2025-05-19 08:39:21,682 Using temperature field '('hot_gas', 'temperature')'.\n"
     ]
    },
    {
     "data": {
      "application/vnd.jupyter.widget-view+json": {
       "model_id": "86f01f7246b44706b1d11905c8281ec7",
       "version_major": 2,
       "version_minor": 0
      },
      "text/plain": [
       "Preparing spectrum table :   0%|          | 0/138 [00:00<?, ?it/s]"
      ]
     },
     "metadata": {},
     "output_type": "display_data"
    },
    {
     "name": "stderr",
     "output_type": "stream",
     "text": [
      "pyxsim : [INFO     ] 2025-05-19 08:39:22,387 kT_min = 0.025 keV\n",
      "pyxsim : [INFO     ] 2025-05-19 08:39:22,390 kT_max = 64 keV\n",
      "pyxsim : [INFO     ] 2025-05-19 08:39:22,475 Using emission measure field '('hot_gas', 'emission_measure')'.\n",
      "pyxsim : [INFO     ] 2025-05-19 08:39:22,392 kT_min = 0.025 keV\n",
      "pyxsim : [INFO     ] 2025-05-19 08:39:22,476 Using temperature field '('hot_gas', 'temperature')'.\n",
      "pyxsim : [INFO     ] 2025-05-19 08:39:22,476 kT_max = 64 keV\n",
      "pyxsim : [INFO     ] 2025-05-19 08:39:22,478 Using emission measure field '('hot_gas', 'emission_measure')'.\n",
      "pyxsim : [INFO     ] 2025-05-19 08:39:22,479 Using temperature field '('hot_gas', 'temperature')'.\n"
     ]
    },
    {
     "data": {
      "application/vnd.jupyter.widget-view+json": {
       "model_id": "34e78150b2994dc987a2a13f548e7c33",
       "version_major": 2,
       "version_minor": 0
      },
      "text/plain": [
       "Preparing spectrum table :   0%|          | 0/138 [00:00<?, ?it/s]"
      ]
     },
     "metadata": {},
     "output_type": "display_data"
    },
    {
     "data": {
      "application/vnd.jupyter.widget-view+json": {
       "model_id": "67fdcb2311fc4cbf98def0392b72091b",
       "version_major": 2,
       "version_minor": 0
      },
      "text/plain": [
       "Preparing spectrum table :   0%|          | 0/138 [00:00<?, ?it/s]"
      ]
     },
     "metadata": {},
     "output_type": "display_data"
    },
    {
     "name": "stderr",
     "output_type": "stream",
     "text": [
      "pyxsim : [INFO     ] 2025-05-19 08:39:23,476 kT_min = 0.025 keV\n",
      "pyxsim : [INFO     ] 2025-05-19 08:39:23,479 kT_max = 64 keV\n",
      "pyxsim : [INFO     ] 2025-05-19 08:39:23,482 Using emission measure field '('hot_gas', 'emission_measure')'.\n",
      "pyxsim : [INFO     ] 2025-05-19 08:39:23,484 Using temperature field '('hot_gas', 'temperature')'.\n"
     ]
    },
    {
     "data": {
      "application/vnd.jupyter.widget-view+json": {
       "model_id": "3b69d37ae5c2436a85ae8813d375c8fd",
       "version_major": 2,
       "version_minor": 0
      },
      "text/plain": [
       "Preparing spectrum table :   0%|          | 0/138 [00:00<?, ?it/s]"
      ]
     },
     "metadata": {},
     "output_type": "display_data"
    },
    {
     "name": "stderr",
     "output_type": "stream",
     "text": [
      "pyxsim : [INFO     ] 2025-05-19 08:39:25,082 kT_min = 0.025 keV\n",
      "pyxsim : [INFO     ] 2025-05-19 08:39:25,175 kT_max = 64 keV\n",
      "pyxsim : [INFO     ] 2025-05-19 08:39:25,183 Using emission measure field '('hot_gas', 'emission_measure')'.\n",
      "pyxsim : [INFO     ] 2025-05-19 08:39:25,187 Using temperature field '('hot_gas', 'temperature')'.\n"
     ]
    },
    {
     "data": {
      "application/vnd.jupyter.widget-view+json": {
       "model_id": "8bbe7bb41a2148d6bc00cbc8bf242b9d",
       "version_major": 2,
       "version_minor": 0
      },
      "text/plain": [
       "Preparing spectrum table :   0%|          | 0/138 [00:00<?, ?it/s]"
      ]
     },
     "metadata": {},
     "output_type": "display_data"
    },
    {
     "name": "stderr",
     "output_type": "stream",
     "text": [
      "yt : [INFO     ] 2025-05-19 08:41:57,388 Making a fixed resolution buffer of (('hot_gas', 'xray_emissivity_0.5_2_keV')) 500 by 500\n",
      "yt : [INFO     ] 2025-05-19 08:41:58,383 Making a fixed resolution buffer of (('hot_gas', 'xray_emissivity_0.5_2_keV')) 500 by 500\n",
      "yt : [INFO     ] 2025-05-19 08:41:58,685 Making a fixed resolution buffer of (('hot_gas', 'xray_emissivity_0.5_2_keV')) 500 by 500\n",
      "yt : [INFO     ] 2025-05-19 08:41:58,784 Making a fixed resolution buffer of (('hot_gas', 'xray_emissivity_0.5_2_keV')) 500 by 500\n",
      "yt : [INFO     ] 2025-05-19 08:41:59,286 Making a fixed resolution buffer of (('hot_gas', 'xray_emissivity_0.5_2_keV')) 500 by 500\n",
      "ex1 Halos:   9%|▉         | 5/53 [03:18<14:34, 18.21s/it]   yt : [INFO     ] 2025-05-19 08:42:13,690 Calculating time from 4.884e-01 to be 1.833e+17 seconds\n",
      "yt : [INFO     ] 2025-05-19 08:42:14,276 Parameters: current_time              = 1.832656005258152e+17 s\n",
      "yt : [INFO     ] 2025-05-19 08:42:14,278 Parameters: domain_dimensions         = [1 1 1]\n",
      "yt : [INFO     ] 2025-05-19 08:42:14,279 Parameters: domain_left_edge          = [0. 0. 0.]\n",
      "yt : [INFO     ] 2025-05-19 08:42:14,280 Parameters: domain_right_edge         = [25000. 25000. 25000.]\n",
      "yt : [INFO     ] 2025-05-19 08:42:14,281 Parameters: cosmological_simulation   = True\n",
      "yt : [INFO     ] 2025-05-19 08:42:14,282 Parameters: current_redshift          = 1.0476023211521182\n",
      "yt : [INFO     ] 2025-05-19 08:42:14,283 Parameters: omega_lambda              = 0.7\n",
      "yt : [INFO     ] 2025-05-19 08:42:14,284 Parameters: omega_matter              = 0.3\n",
      "yt : [INFO     ] 2025-05-19 08:42:14,285 Parameters: omega_radiation           = 0.0\n",
      "yt : [INFO     ] 2025-05-19 08:42:14,286 Parameters: hubble_constant           = 0.6711\n",
      "yt : [WARNING  ] 2025-05-19 08:42:14,288 The hot_gas particle filter already exists. Overriding.\n",
      "yt : [INFO     ] 2025-05-19 08:42:14,604 Allocating for 1.614e+04 particles\n",
      "yt : [INFO     ] 2025-05-19 08:42:15,098 Calculating time from 4.884e-01 to be 1.833e+17 seconds\n",
      "yt : [INFO     ] 2025-05-19 08:42:15,120 Calculating time from 4.884e-01 to be 1.833e+17 seconds\n",
      "yt : [INFO     ] 2025-05-19 08:42:15,279 Calculating time from 4.884e-01 to be 1.833e+17 seconds\n",
      "yt : [INFO     ] 2025-05-19 08:42:15,495 Calculating time from 4.884e-01 to be 1.833e+17 seconds\n",
      "yt : [INFO     ] 2025-05-19 08:42:15,588 Parameters: current_time              = 1.832656005258152e+17 s\n",
      "yt : [INFO     ] 2025-05-19 08:42:15,589 Parameters: domain_dimensions         = [1 1 1]\n",
      "yt : [INFO     ] 2025-05-19 08:42:15,590 Parameters: domain_left_edge          = [0. 0. 0.]\n",
      "yt : [INFO     ] 2025-05-19 08:42:15,592 Parameters: domain_right_edge         = [25000. 25000. 25000.]\n",
      "yt : [INFO     ] 2025-05-19 08:42:15,593 Parameters: cosmological_simulation   = True\n",
      "yt : [INFO     ] 2025-05-19 08:42:15,675 Parameters: current_redshift          = 1.0476023211521182\n",
      "yt : [INFO     ] 2025-05-19 08:42:15,676 Parameters: omega_lambda              = 0.7\n",
      "yt : [INFO     ] 2025-05-19 08:42:15,676 Parameters: omega_matter              = 0.3\n",
      "yt : [INFO     ] 2025-05-19 08:42:15,677 Parameters: omega_radiation           = 0.0\n",
      "yt : [INFO     ] 2025-05-19 08:42:15,678 Parameters: hubble_constant           = 0.6711\n",
      "yt : [WARNING  ] 2025-05-19 08:42:15,680 The hot_gas particle filter already exists. Overriding.\n",
      "yt : [INFO     ] 2025-05-19 08:42:15,781 Parameters: current_time              = 1.832656005258152e+17 s\n",
      "yt : [INFO     ] 2025-05-19 08:42:15,783 Parameters: domain_dimensions         = [1 1 1]\n",
      "yt : [INFO     ] 2025-05-19 08:42:15,784 Parameters: domain_left_edge          = [0. 0. 0.]\n",
      "yt : [INFO     ] 2025-05-19 08:42:15,785 Parameters: domain_right_edge         = [25000. 25000. 25000.]\n",
      "yt : [INFO     ] 2025-05-19 08:42:15,786 Parameters: cosmological_simulation   = True\n",
      "yt : [INFO     ] 2025-05-19 08:42:15,786 Parameters: current_redshift          = 1.0476023211521182\n",
      "yt : [INFO     ] 2025-05-19 08:42:15,787 Parameters: omega_lambda              = 0.7\n",
      "yt : [INFO     ] 2025-05-19 08:42:15,788 Parameters: omega_matter              = 0.3\n",
      "yt : [INFO     ] 2025-05-19 08:42:15,789 Parameters: omega_radiation           = 0.0\n",
      "yt : [INFO     ] 2025-05-19 08:42:15,790 Parameters: hubble_constant           = 0.6711\n",
      "yt : [WARNING  ] 2025-05-19 08:42:15,876 The hot_gas particle filter already exists. Overriding.\n",
      "yt : [INFO     ] 2025-05-19 08:42:15,879 Allocating for 1.086e+04 particles\n",
      "yt : [INFO     ] 2025-05-19 08:42:15,894 Parameters: current_time              = 1.832656005258152e+17 s\n",
      "yt : [INFO     ] 2025-05-19 08:42:15,896 Parameters: domain_dimensions         = [1 1 1]\n",
      "yt : [INFO     ] 2025-05-19 08:42:15,975 Parameters: domain_left_edge          = [0. 0. 0.]\n",
      "yt : [INFO     ] 2025-05-19 08:42:15,976 Parameters: domain_right_edge         = [25000. 25000. 25000.]\n",
      "yt : [INFO     ] 2025-05-19 08:42:15,977 Parameters: cosmological_simulation   = True\n",
      "yt : [INFO     ] 2025-05-19 08:42:15,978 Parameters: current_redshift          = 1.0476023211521182\n",
      "yt : [INFO     ] 2025-05-19 08:42:15,979 Parameters: omega_lambda              = 0.7\n",
      "yt : [INFO     ] 2025-05-19 08:42:15,980 Parameters: omega_matter              = 0.3\n",
      "yt : [INFO     ] 2025-05-19 08:42:15,981 Parameters: omega_radiation           = 0.0\n",
      "yt : [INFO     ] 2025-05-19 08:42:15,981 Parameters: hubble_constant           = 0.6711\n",
      "yt : [WARNING  ] 2025-05-19 08:42:15,984 The hot_gas particle filter already exists. Overriding.\n",
      "yt : [INFO     ] 2025-05-19 08:42:16,078 Allocating for 1.394e+04 particles\n",
      "yt : [INFO     ] 2025-05-19 08:42:16,178 Parameters: current_time              = 1.832656005258152e+17 s\n",
      "yt : [INFO     ] 2025-05-19 08:42:16,181 Parameters: domain_dimensions         = [1 1 1]\n",
      "yt : [INFO     ] 2025-05-19 08:42:16,182 Parameters: domain_left_edge          = [0. 0. 0.]\n",
      "yt : [INFO     ] 2025-05-19 08:42:16,183 Parameters: domain_right_edge         = [25000. 25000. 25000.]\n",
      "yt : [INFO     ] 2025-05-19 08:42:16,184 Parameters: cosmological_simulation   = True\n",
      "yt : [INFO     ] 2025-05-19 08:42:16,185 Parameters: current_redshift          = 1.0476023211521182\n",
      "yt : [INFO     ] 2025-05-19 08:42:16,186 Parameters: omega_lambda              = 0.7\n",
      "yt : [INFO     ] 2025-05-19 08:42:16,187 Parameters: omega_matter              = 0.3\n",
      "yt : [INFO     ] 2025-05-19 08:42:16,188 Parameters: omega_radiation           = 0.0\n",
      "yt : [INFO     ] 2025-05-19 08:42:16,188 Parameters: hubble_constant           = 0.6711\n",
      "yt : [WARNING  ] 2025-05-19 08:42:16,191 The hot_gas particle filter already exists. Overriding.\n",
      "yt : [INFO     ] 2025-05-19 08:42:16,278 Allocating for 5017 particles\n",
      "yt : [INFO     ] 2025-05-19 08:42:16,476 Allocating for 1.446e+04 particles\n",
      "pyxsim : [INFO     ] 2025-05-19 08:42:33,890 kT_min = 0.025 keV\n",
      "pyxsim : [INFO     ] 2025-05-19 08:42:33,976 kT_max = 64 keV\n",
      "pyxsim : [INFO     ] 2025-05-19 08:42:33,978 Using emission measure field '('hot_gas', 'emission_measure')'.\n",
      "pyxsim : [INFO     ] 2025-05-19 08:42:33,979 Using temperature field '('hot_gas', 'temperature')'.\n"
     ]
    },
    {
     "data": {
      "application/vnd.jupyter.widget-view+json": {
       "model_id": "825a3b8b7a8c4bb6b123d164c52fcb93",
       "version_major": 2,
       "version_minor": 0
      },
      "text/plain": [
       "Preparing spectrum table :   0%|          | 0/138 [00:00<?, ?it/s]"
      ]
     },
     "metadata": {},
     "output_type": "display_data"
    },
    {
     "name": "stderr",
     "output_type": "stream",
     "text": [
      "pyxsim : [INFO     ] 2025-05-19 08:42:35,092 kT_min = 0.025 keV\n",
      "pyxsim : [INFO     ] 2025-05-19 08:42:35,176 kT_max = 64 keV\n",
      "pyxsim : [INFO     ] 2025-05-19 08:42:35,182 Using emission measure field '('hot_gas', 'emission_measure')'.\n",
      "pyxsim : [INFO     ] 2025-05-19 08:42:35,183 Using temperature field '('hot_gas', 'temperature')'.\n"
     ]
    },
    {
     "data": {
      "application/vnd.jupyter.widget-view+json": {
       "model_id": "d8637081c9a541b78e137a4c8fb664e9",
       "version_major": 2,
       "version_minor": 0
      },
      "text/plain": [
       "Preparing spectrum table :   0%|          | 0/138 [00:00<?, ?it/s]"
      ]
     },
     "metadata": {},
     "output_type": "display_data"
    },
    {
     "name": "stderr",
     "output_type": "stream",
     "text": [
      "pyxsim : [INFO     ] 2025-05-19 08:42:35,977 kT_min = 0.025 keV\n",
      "pyxsim : [INFO     ] 2025-05-19 08:42:35,979 kT_max = 64 keV\n",
      "pyxsim : [INFO     ] 2025-05-19 08:42:35,982 Using emission measure field '('hot_gas', 'emission_measure')'.\n",
      "pyxsim : [INFO     ] 2025-05-19 08:42:35,982 Using temperature field '('hot_gas', 'temperature')'.\n"
     ]
    },
    {
     "data": {
      "application/vnd.jupyter.widget-view+json": {
       "model_id": "79029d4a967d47708723066c504bce25",
       "version_major": 2,
       "version_minor": 0
      },
      "text/plain": [
       "Preparing spectrum table :   0%|          | 0/138 [00:00<?, ?it/s]"
      ]
     },
     "metadata": {},
     "output_type": "display_data"
    },
    {
     "name": "stderr",
     "output_type": "stream",
     "text": [
      "pyxsim : [INFO     ] 2025-05-19 08:42:36,682 kT_min = 0.025 keV\n",
      "pyxsim : [INFO     ] 2025-05-19 08:42:36,684 kT_max = 64 keV\n",
      "pyxsim : [INFO     ] 2025-05-19 08:42:36,686 Using emission measure field '('hot_gas', 'emission_measure')'.\n",
      "pyxsim : [INFO     ] 2025-05-19 08:42:36,687 Using temperature field '('hot_gas', 'temperature')'.\n"
     ]
    },
    {
     "data": {
      "application/vnd.jupyter.widget-view+json": {
       "model_id": "e46f25ee7bcd4703831ce021dfdc1494",
       "version_major": 2,
       "version_minor": 0
      },
      "text/plain": [
       "Preparing spectrum table :   0%|          | 0/138 [00:00<?, ?it/s]"
      ]
     },
     "metadata": {},
     "output_type": "display_data"
    },
    {
     "name": "stderr",
     "output_type": "stream",
     "text": [
      "pyxsim : [INFO     ] 2025-05-19 08:42:36,885 kT_min = 0.025 keV\n",
      "pyxsim : [INFO     ] 2025-05-19 08:42:36,887 kT_max = 64 keV\n",
      "pyxsim : [INFO     ] 2025-05-19 08:42:36,890 Using emission measure field '('hot_gas', 'emission_measure')'.\n",
      "pyxsim : [INFO     ] 2025-05-19 08:42:36,891 Using temperature field '('hot_gas', 'temperature')'.\n"
     ]
    },
    {
     "data": {
      "application/vnd.jupyter.widget-view+json": {
       "model_id": "2f360cd9f91949e5828fc23be06180e1",
       "version_major": 2,
       "version_minor": 0
      },
      "text/plain": [
       "Preparing spectrum table :   0%|          | 0/138 [00:00<?, ?it/s]"
      ]
     },
     "metadata": {},
     "output_type": "display_data"
    },
    {
     "name": "stderr",
     "output_type": "stream",
     "text": [
      "yt : [INFO     ] 2025-05-19 08:45:11,277 Making a fixed resolution buffer of (('hot_gas', 'xray_emissivity_0.5_2_keV')) 500 by 500\n",
      "yt : [INFO     ] 2025-05-19 08:45:13,081 Making a fixed resolution buffer of (('hot_gas', 'xray_emissivity_0.5_2_keV')) 500 by 500\n",
      "yt : [INFO     ] 2025-05-19 08:45:14,092 Making a fixed resolution buffer of (('hot_gas', 'xray_emissivity_0.5_2_keV')) 500 by 500\n",
      "ex1 Halos:  11%|█▏        | 6/53 [06:22<58:26, 74.61s/it]yt : [INFO     ] 2025-05-19 08:45:17,590 Making a fixed resolution buffer of (('hot_gas', 'xray_emissivity_0.5_2_keV')) 500 by 500\n",
      "yt : [INFO     ] 2025-05-19 08:45:18,090 Making a fixed resolution buffer of (('hot_gas', 'xray_emissivity_0.5_2_keV')) 500 by 500\n",
      "ex1 Halos:  15%|█▌        | 8/53 [06:28<26:55, 35.90s/it]yt : [INFO     ] 2025-05-19 08:45:25,776 Calculating time from 4.884e-01 to be 1.833e+17 seconds\n",
      "ex1 Halos:  17%|█▋        | 9/53 [06:31<18:40, 25.46s/it]yt : [INFO     ] 2025-05-19 08:45:26,493 Parameters: current_time              = 1.832656005258152e+17 s\n",
      "yt : [INFO     ] 2025-05-19 08:45:26,496 Parameters: domain_dimensions         = [1 1 1]\n",
      "yt : [INFO     ] 2025-05-19 08:45:26,497 Parameters: domain_left_edge          = [0. 0. 0.]\n",
      "yt : [INFO     ] 2025-05-19 08:45:26,575 Parameters: domain_right_edge         = [25000. 25000. 25000.]\n",
      "yt : [INFO     ] 2025-05-19 08:45:26,576 Parameters: cosmological_simulation   = True\n",
      "yt : [INFO     ] 2025-05-19 08:45:26,578 Parameters: current_redshift          = 1.0476023211521182\n",
      "yt : [INFO     ] 2025-05-19 08:45:26,579 Parameters: omega_lambda              = 0.7\n",
      "yt : [INFO     ] 2025-05-19 08:45:26,580 Parameters: omega_matter              = 0.3\n",
      "yt : [INFO     ] 2025-05-19 08:45:26,581 Parameters: omega_radiation           = 0.0\n",
      "yt : [INFO     ] 2025-05-19 08:45:26,582 Parameters: hubble_constant           = 0.6711\n",
      "yt : [WARNING  ] 2025-05-19 08:45:26,585 The hot_gas particle filter already exists. Overriding.\n",
      "yt : [INFO     ] 2025-05-19 08:45:26,787 Allocating for 1.322e+04 particles\n",
      "yt : [INFO     ] 2025-05-19 08:45:29,190 Calculating time from 4.884e-01 to be 1.833e+17 seconds\n",
      "ex1 Halos:  19%|█▉        | 10/53 [06:35<13:26, 18.75s/it]yt : [INFO     ] 2025-05-19 08:45:30,194 Parameters: current_time              = 1.832656005258152e+17 s\n",
      "yt : [INFO     ] 2025-05-19 08:45:30,196 Parameters: domain_dimensions         = [1 1 1]\n",
      "yt : [INFO     ] 2025-05-19 08:45:30,197 Parameters: domain_left_edge          = [0. 0. 0.]\n",
      "yt : [INFO     ] 2025-05-19 08:45:30,198 Parameters: domain_right_edge         = [25000. 25000. 25000.]\n",
      "yt : [INFO     ] 2025-05-19 08:45:30,274 Parameters: cosmological_simulation   = True\n",
      "yt : [INFO     ] 2025-05-19 08:45:30,275 Parameters: current_redshift          = 1.0476023211521182\n",
      "yt : [INFO     ] 2025-05-19 08:45:30,276 Parameters: omega_lambda              = 0.7\n",
      "yt : [INFO     ] 2025-05-19 08:45:30,277 Parameters: omega_matter              = 0.3\n",
      "yt : [INFO     ] 2025-05-19 08:45:30,278 Parameters: omega_radiation           = 0.0\n",
      "yt : [INFO     ] 2025-05-19 08:45:30,279 Parameters: hubble_constant           = 0.6711\n",
      "yt : [WARNING  ] 2025-05-19 08:45:30,282 The hot_gas particle filter already exists. Overriding.\n",
      "yt : [INFO     ] 2025-05-19 08:45:30,524 Allocating for 7462 particles\n",
      "yt : [INFO     ] 2025-05-19 08:45:31,085 Calculating time from 4.884e-01 to be 1.833e+17 seconds\n",
      "yt : [INFO     ] 2025-05-19 08:45:31,085 Calculating time from 4.884e-01 to be 1.833e+17 seconds\n",
      "yt : [INFO     ] 2025-05-19 08:45:31,787 Parameters: current_time              = 1.832656005258152e+17 s\n",
      "yt : [INFO     ] 2025-05-19 08:45:31,789 Parameters: domain_dimensions         = [1 1 1]\n",
      "yt : [INFO     ] 2025-05-19 08:45:31,789 Parameters: current_time              = 1.832656005258152e+17 s\n",
      "yt : [INFO     ] 2025-05-19 08:45:31,791 Parameters: domain_left_edge          = [0. 0. 0.]\n",
      "yt : [INFO     ] 2025-05-19 08:45:31,791 Parameters: domain_dimensions         = [1 1 1]\n",
      "yt : [INFO     ] 2025-05-19 08:45:31,792 Parameters: domain_left_edge          = [0. 0. 0.]\n",
      "yt : [INFO     ] 2025-05-19 08:45:31,792 Parameters: domain_right_edge         = [25000. 25000. 25000.]\n",
      "yt : [INFO     ] 2025-05-19 08:45:31,875 Parameters: domain_right_edge         = [25000. 25000. 25000.]\n",
      "yt : [INFO     ] 2025-05-19 08:45:31,875 Parameters: cosmological_simulation   = True\n",
      "yt : [INFO     ] 2025-05-19 08:45:31,876 Parameters: cosmological_simulation   = True\n",
      "yt : [INFO     ] 2025-05-19 08:45:31,877 Parameters: current_redshift          = 1.0476023211521182\n",
      "yt : [INFO     ] 2025-05-19 08:45:31,877 Parameters: current_redshift          = 1.0476023211521182\n",
      "yt : [INFO     ] 2025-05-19 08:45:31,878 Parameters: omega_lambda              = 0.7\n",
      "yt : [INFO     ] 2025-05-19 08:45:31,878 Parameters: omega_lambda              = 0.7\n",
      "yt : [INFO     ] 2025-05-19 08:45:31,879 Parameters: omega_matter              = 0.3\n",
      "yt : [INFO     ] 2025-05-19 08:45:31,879 Parameters: omega_matter              = 0.3\n",
      "yt : [INFO     ] 2025-05-19 08:45:31,879 Parameters: omega_radiation           = 0.0\n",
      "yt : [INFO     ] 2025-05-19 08:45:31,880 Parameters: omega_radiation           = 0.0\n",
      "yt : [INFO     ] 2025-05-19 08:45:31,880 Parameters: hubble_constant           = 0.6711\n",
      "yt : [INFO     ] 2025-05-19 08:45:31,880 Parameters: hubble_constant           = 0.6711\n",
      "yt : [WARNING  ] 2025-05-19 08:45:31,883 The hot_gas particle filter already exists. Overriding.\n",
      "yt : [WARNING  ] 2025-05-19 08:45:31,883 The hot_gas particle filter already exists. Overriding.\n",
      "yt : [INFO     ] 2025-05-19 08:45:32,094 Allocating for 8454 particles\n",
      "yt : [INFO     ] 2025-05-19 08:45:32,098 Allocating for 1.159e+04 particles\n",
      "yt : [INFO     ] 2025-05-19 08:45:32,775 Calculating time from 4.884e-01 to be 1.833e+17 seconds\n",
      "yt : [INFO     ] 2025-05-19 08:45:33,287 Parameters: current_time              = 1.832656005258152e+17 s\n",
      "yt : [INFO     ] 2025-05-19 08:45:33,289 Parameters: domain_dimensions         = [1 1 1]\n",
      "yt : [INFO     ] 2025-05-19 08:45:33,290 Parameters: domain_left_edge          = [0. 0. 0.]\n",
      "yt : [INFO     ] 2025-05-19 08:45:33,292 Parameters: domain_right_edge         = [25000. 25000. 25000.]\n",
      "yt : [INFO     ] 2025-05-19 08:45:33,293 Parameters: cosmological_simulation   = True\n",
      "yt : [INFO     ] 2025-05-19 08:45:33,375 Parameters: current_redshift          = 1.0476023211521182\n",
      "yt : [INFO     ] 2025-05-19 08:45:33,375 Parameters: omega_lambda              = 0.7\n",
      "yt : [INFO     ] 2025-05-19 08:45:33,376 Parameters: omega_matter              = 0.3\n",
      "yt : [INFO     ] 2025-05-19 08:45:33,377 Parameters: omega_radiation           = 0.0\n",
      "yt : [INFO     ] 2025-05-19 08:45:33,378 Parameters: hubble_constant           = 0.6711\n",
      "yt : [WARNING  ] 2025-05-19 08:45:33,381 The hot_gas particle filter already exists. Overriding.\n",
      "yt : [INFO     ] 2025-05-19 08:45:33,577 Allocating for 9723 particles\n",
      "pyxsim : [INFO     ] 2025-05-19 08:45:45,890 kT_min = 0.025 keV\n",
      "pyxsim : [INFO     ] 2025-05-19 08:45:45,893 kT_max = 64 keV\n",
      "pyxsim : [INFO     ] 2025-05-19 08:45:45,976 Using emission measure field '('hot_gas', 'emission_measure')'.\n",
      "pyxsim : [INFO     ] 2025-05-19 08:45:45,977 Using temperature field '('hot_gas', 'temperature')'.\n"
     ]
    },
    {
     "data": {
      "application/vnd.jupyter.widget-view+json": {
       "model_id": "0488c398ed9246f5a29b2560651f34ef",
       "version_major": 2,
       "version_minor": 0
      },
      "text/plain": [
       "Preparing spectrum table :   0%|          | 0/138 [00:00<?, ?it/s]"
      ]
     },
     "metadata": {},
     "output_type": "display_data"
    },
    {
     "name": "stderr",
     "output_type": "stream",
     "text": [
      "pyxsim : [INFO     ] 2025-05-19 08:45:48,679 kT_min = 0.025 keV\n",
      "pyxsim : [INFO     ] 2025-05-19 08:45:48,683 kT_max = 64 keV\n",
      "pyxsim : [INFO     ] 2025-05-19 08:45:48,685 Using emission measure field '('hot_gas', 'emission_measure')'.\n",
      "pyxsim : [INFO     ] 2025-05-19 08:45:48,686 Using temperature field '('hot_gas', 'temperature')'.\n"
     ]
    },
    {
     "data": {
      "application/vnd.jupyter.widget-view+json": {
       "model_id": "c8ede70d697449febe826e2dc51f032f",
       "version_major": 2,
       "version_minor": 0
      },
      "text/plain": [
       "Preparing spectrum table :   0%|          | 0/138 [00:00<?, ?it/s]"
      ]
     },
     "metadata": {},
     "output_type": "display_data"
    },
    {
     "name": "stderr",
     "output_type": "stream",
     "text": [
      "pyxsim : [INFO     ] 2025-05-19 08:45:49,886 kT_min = 0.025 keV\n",
      "pyxsim : [INFO     ] 2025-05-19 08:45:49,888 kT_max = 64 keV\n",
      "pyxsim : [INFO     ] 2025-05-19 08:45:49,890 Using emission measure field '('hot_gas', 'emission_measure')'.\n",
      "pyxsim : [INFO     ] 2025-05-19 08:45:49,891 Using temperature field '('hot_gas', 'temperature')'.\n"
     ]
    },
    {
     "data": {
      "application/vnd.jupyter.widget-view+json": {
       "model_id": "abff5120497d4ea28631beb237c769e3",
       "version_major": 2,
       "version_minor": 0
      },
      "text/plain": [
       "Preparing spectrum table :   0%|          | 0/138 [00:00<?, ?it/s]"
      ]
     },
     "metadata": {},
     "output_type": "display_data"
    },
    {
     "name": "stderr",
     "output_type": "stream",
     "text": [
      "pyxsim : [INFO     ] 2025-05-19 08:45:50,777 kT_min = 0.025 keV\n",
      "pyxsim : [INFO     ] 2025-05-19 08:45:50,779 kT_max = 64 keV\n",
      "pyxsim : [INFO     ] 2025-05-19 08:45:50,782 Using emission measure field '('hot_gas', 'emission_measure')'.\n",
      "pyxsim : [INFO     ] 2025-05-19 08:45:50,783 Using temperature field '('hot_gas', 'temperature')'.\n"
     ]
    },
    {
     "data": {
      "application/vnd.jupyter.widget-view+json": {
       "model_id": "be7c61e3335f480daadb05d9e0065dde",
       "version_major": 2,
       "version_minor": 0
      },
      "text/plain": [
       "Preparing spectrum table :   0%|          | 0/138 [00:00<?, ?it/s]"
      ]
     },
     "metadata": {},
     "output_type": "display_data"
    },
    {
     "name": "stderr",
     "output_type": "stream",
     "text": [
      "pyxsim : [INFO     ] 2025-05-19 08:45:52,377 kT_min = 0.025 keV\n",
      "pyxsim : [INFO     ] 2025-05-19 08:45:52,379 kT_max = 64 keV\n",
      "pyxsim : [INFO     ] 2025-05-19 08:45:52,381 Using emission measure field '('hot_gas', 'emission_measure')'.\n",
      "pyxsim : [INFO     ] 2025-05-19 08:45:52,382 Using temperature field '('hot_gas', 'temperature')'.\n"
     ]
    },
    {
     "data": {
      "application/vnd.jupyter.widget-view+json": {
       "model_id": "81c98688c199424b9b81e702f27cbd87",
       "version_major": 2,
       "version_minor": 0
      },
      "text/plain": [
       "Preparing spectrum table :   0%|          | 0/138 [00:00<?, ?it/s]"
      ]
     },
     "metadata": {},
     "output_type": "display_data"
    },
    {
     "name": "stderr",
     "output_type": "stream",
     "text": [
      "yt : [INFO     ] 2025-05-19 08:48:22,883 Making a fixed resolution buffer of (('hot_gas', 'xray_emissivity_0.5_2_keV')) 500 by 500\n",
      "ex1 Halos:  21%|██        | 11/53 [09:33<47:19, 67.61s/it]yt : [INFO     ] 2025-05-19 08:48:30,587 Making a fixed resolution buffer of (('hot_gas', 'xray_emissivity_0.5_2_keV')) 500 by 500\n",
      "yt : [INFO     ] 2025-05-19 08:48:32,089 Calculating time from 4.884e-01 to be 1.833e+17 seconds\n",
      "yt : [INFO     ] 2025-05-19 08:48:32,586 Parameters: current_time              = 1.832656005258152e+17 s\n",
      "yt : [INFO     ] 2025-05-19 08:48:32,588 Parameters: domain_dimensions         = [1 1 1]\n",
      "yt : [INFO     ] 2025-05-19 08:48:32,589 Parameters: domain_left_edge          = [0. 0. 0.]\n",
      "yt : [INFO     ] 2025-05-19 08:48:32,590 Parameters: domain_right_edge         = [25000. 25000. 25000.]\n",
      "yt : [INFO     ] 2025-05-19 08:48:32,591 Parameters: cosmological_simulation   = True\n",
      "yt : [INFO     ] 2025-05-19 08:48:32,675 Parameters: current_redshift          = 1.0476023211521182\n",
      "yt : [INFO     ] 2025-05-19 08:48:32,676 Parameters: omega_lambda              = 0.7\n",
      "yt : [INFO     ] 2025-05-19 08:48:32,677 Parameters: omega_matter              = 0.3\n",
      "yt : [INFO     ] 2025-05-19 08:48:32,677 Parameters: omega_radiation           = 0.0\n",
      "yt : [INFO     ] 2025-05-19 08:48:32,678 Parameters: hubble_constant           = 0.6711\n",
      "yt : [WARNING  ] 2025-05-19 08:48:32,680 The hot_gas particle filter already exists. Overriding.\n",
      "yt : [INFO     ] 2025-05-19 08:48:32,882 Allocating for 1.158e+04 particles\n",
      "yt : [INFO     ] 2025-05-19 08:48:32,979 Making a fixed resolution buffer of (('hot_gas', 'xray_emissivity_0.5_2_keV')) 500 by 500\n",
      "yt : [INFO     ] 2025-05-19 08:48:33,976 Making a fixed resolution buffer of (('hot_gas', 'xray_emissivity_0.5_2_keV')) 500 by 500\n",
      "ex1 Halos:  23%|██▎       | 12/53 [09:41<33:44, 49.38s/it]yt : [INFO     ] 2025-05-19 08:48:37,197 Making a fixed resolution buffer of (('hot_gas', 'xray_emissivity_0.5_2_keV')) 500 by 500\n",
      "yt : [INFO     ] 2025-05-19 08:48:41,475 Calculating time from 4.884e-01 to be 1.833e+17 seconds\n",
      "ex1 Halos:  25%|██▍       | 13/53 [09:46<24:03, 36.09s/it]yt : [INFO     ] 2025-05-19 08:48:42,077 Parameters: current_time              = 1.832656005258152e+17 s\n",
      "yt : [INFO     ] 2025-05-19 08:48:42,079 Parameters: domain_dimensions         = [1 1 1]\n",
      "yt : [INFO     ] 2025-05-19 08:48:42,080 Parameters: domain_left_edge          = [0. 0. 0.]\n",
      "yt : [INFO     ] 2025-05-19 08:48:42,081 Parameters: domain_right_edge         = [25000. 25000. 25000.]\n",
      "yt : [INFO     ] 2025-05-19 08:48:42,083 Parameters: cosmological_simulation   = True\n",
      "yt : [INFO     ] 2025-05-19 08:48:42,084 Parameters: current_redshift          = 1.0476023211521182\n",
      "yt : [INFO     ] 2025-05-19 08:48:42,085 Parameters: omega_lambda              = 0.7\n",
      "yt : [INFO     ] 2025-05-19 08:48:42,086 Parameters: omega_matter              = 0.3\n",
      "yt : [INFO     ] 2025-05-19 08:48:42,086 Parameters: omega_radiation           = 0.0\n",
      "yt : [INFO     ] 2025-05-19 08:48:42,087 Parameters: hubble_constant           = 0.6711\n",
      "yt : [WARNING  ] 2025-05-19 08:48:42,174 The hot_gas particle filter already exists. Overriding.\n",
      "yt : [INFO     ] 2025-05-19 08:48:42,381 Allocating for 5636 particles\n",
      "ex1 Halos:  28%|██▊       | 15/53 [09:50<12:48, 20.23s/it]yt : [INFO     ] 2025-05-19 08:48:45,875 Calculating time from 4.884e-01 to be 1.833e+17 seconds\n",
      "yt : [INFO     ] 2025-05-19 08:48:45,878 Calculating time from 4.884e-01 to be 1.833e+17 seconds\n",
      "yt : [INFO     ] 2025-05-19 08:48:46,293 Parameters: current_time              = 1.832656005258152e+17 s\n",
      "yt : [INFO     ] 2025-05-19 08:48:46,375 Parameters: domain_dimensions         = [1 1 1]\n",
      "yt : [INFO     ] 2025-05-19 08:48:46,377 Parameters: domain_left_edge          = [0. 0. 0.]\n",
      "yt : [INFO     ] 2025-05-19 08:48:46,378 Parameters: domain_right_edge         = [25000. 25000. 25000.]\n",
      "yt : [INFO     ] 2025-05-19 08:48:46,379 Parameters: cosmological_simulation   = True\n",
      "yt : [INFO     ] 2025-05-19 08:48:46,380 Parameters: current_redshift          = 1.0476023211521182\n",
      "yt : [INFO     ] 2025-05-19 08:48:46,381 Parameters: omega_lambda              = 0.7\n",
      "yt : [INFO     ] 2025-05-19 08:48:46,382 Parameters: omega_matter              = 0.3\n",
      "yt : [INFO     ] 2025-05-19 08:48:46,383 Parameters: omega_radiation           = 0.0\n",
      "yt : [INFO     ] 2025-05-19 08:48:46,383 Parameters: hubble_constant           = 0.6711\n",
      "yt : [WARNING  ] 2025-05-19 08:48:46,386 The hot_gas particle filter already exists. Overriding.\n",
      "yt : [INFO     ] 2025-05-19 08:48:46,392 Parameters: current_time              = 1.832656005258152e+17 s\n",
      "yt : [INFO     ] 2025-05-19 08:48:46,475 Parameters: domain_dimensions         = [1 1 1]\n",
      "yt : [INFO     ] 2025-05-19 08:48:46,476 Parameters: domain_left_edge          = [0. 0. 0.]\n",
      "yt : [INFO     ] 2025-05-19 08:48:46,478 Parameters: domain_right_edge         = [25000. 25000. 25000.]\n",
      "yt : [INFO     ] 2025-05-19 08:48:46,479 Parameters: cosmological_simulation   = True\n",
      "yt : [INFO     ] 2025-05-19 08:48:46,481 Parameters: current_redshift          = 1.0476023211521182\n",
      "yt : [INFO     ] 2025-05-19 08:48:46,482 Parameters: omega_lambda              = 0.7\n",
      "yt : [INFO     ] 2025-05-19 08:48:46,482 Parameters: omega_matter              = 0.3\n",
      "yt : [INFO     ] 2025-05-19 08:48:46,483 Parameters: omega_radiation           = 0.0\n",
      "yt : [INFO     ] 2025-05-19 08:48:46,484 Parameters: hubble_constant           = 0.6711\n",
      "yt : [WARNING  ] 2025-05-19 08:48:46,486 The hot_gas particle filter already exists. Overriding.\n",
      "yt : [INFO     ] 2025-05-19 08:48:46,600 Allocating for 7539 particles\n",
      "yt : [INFO     ] 2025-05-19 08:48:46,689 Allocating for 6184 particles\n",
      "yt : [INFO     ] 2025-05-19 08:48:47,980 Calculating time from 4.884e-01 to be 1.833e+17 seconds\n",
      "yt : [INFO     ] 2025-05-19 08:48:48,584 Parameters: current_time              = 1.832656005258152e+17 s\n",
      "yt : [INFO     ] 2025-05-19 08:48:48,586 Parameters: domain_dimensions         = [1 1 1]\n",
      "yt : [INFO     ] 2025-05-19 08:48:48,587 Parameters: domain_left_edge          = [0. 0. 0.]\n",
      "yt : [INFO     ] 2025-05-19 08:48:48,588 Parameters: domain_right_edge         = [25000. 25000. 25000.]\n",
      "yt : [INFO     ] 2025-05-19 08:48:48,589 Parameters: cosmological_simulation   = True\n",
      "yt : [INFO     ] 2025-05-19 08:48:48,675 Parameters: current_redshift          = 1.0476023211521182\n",
      "yt : [INFO     ] 2025-05-19 08:48:48,676 Parameters: omega_lambda              = 0.7\n",
      "yt : [INFO     ] 2025-05-19 08:48:48,677 Parameters: omega_matter              = 0.3\n",
      "yt : [INFO     ] 2025-05-19 08:48:48,678 Parameters: omega_radiation           = 0.0\n",
      "yt : [INFO     ] 2025-05-19 08:48:48,678 Parameters: hubble_constant           = 0.6711\n",
      "yt : [WARNING  ] 2025-05-19 08:48:48,681 The hot_gas particle filter already exists. Overriding.\n",
      "yt : [INFO     ] 2025-05-19 08:48:48,877 Allocating for 4973 particles\n",
      "pyxsim : [INFO     ] 2025-05-19 08:48:55,790 kT_min = 0.025 keV\n",
      "pyxsim : [INFO     ] 2025-05-19 08:48:55,793 kT_max = 64 keV\n",
      "pyxsim : [INFO     ] 2025-05-19 08:48:55,876 Using emission measure field '('hot_gas', 'emission_measure')'.\n",
      "pyxsim : [INFO     ] 2025-05-19 08:48:55,877 Using temperature field '('hot_gas', 'temperature')'.\n"
     ]
    },
    {
     "data": {
      "application/vnd.jupyter.widget-view+json": {
       "model_id": "4a1d5ed1776a4139a5f4310d6970fc63",
       "version_major": 2,
       "version_minor": 0
      },
      "text/plain": [
       "Preparing spectrum table :   0%|          | 0/138 [00:00<?, ?it/s]"
      ]
     },
     "metadata": {},
     "output_type": "display_data"
    },
    {
     "name": "stderr",
     "output_type": "stream",
     "text": [
      "pyxsim : [INFO     ] 2025-05-19 08:49:01,579 kT_min = 0.025 keV\n",
      "pyxsim : [INFO     ] 2025-05-19 08:49:01,581 kT_max = 64 keV\n",
      "pyxsim : [INFO     ] 2025-05-19 08:49:01,584 Using emission measure field '('hot_gas', 'emission_measure')'.\n",
      "pyxsim : [INFO     ] 2025-05-19 08:49:01,585 Using temperature field '('hot_gas', 'temperature')'.\n"
     ]
    },
    {
     "data": {
      "application/vnd.jupyter.widget-view+json": {
       "model_id": "a6af3d3494cc481592b57abd466f14af",
       "version_major": 2,
       "version_minor": 0
      },
      "text/plain": [
       "Preparing spectrum table :   0%|          | 0/138 [00:00<?, ?it/s]"
      ]
     },
     "metadata": {},
     "output_type": "display_data"
    },
    {
     "name": "stderr",
     "output_type": "stream",
     "text": [
      "pyxsim : [INFO     ] 2025-05-19 08:49:04,679 kT_min = 0.025 keV\n",
      "pyxsim : [INFO     ] 2025-05-19 08:49:04,681 kT_max = 64 keV\n",
      "pyxsim : [INFO     ] 2025-05-19 08:49:04,683 Using emission measure field '('hot_gas', 'emission_measure')'.\n",
      "pyxsim : [INFO     ] 2025-05-19 08:49:04,684 Using temperature field '('hot_gas', 'temperature')'.\n"
     ]
    },
    {
     "data": {
      "application/vnd.jupyter.widget-view+json": {
       "model_id": "462ebddcc2d342c088a775cdf0cd41c8",
       "version_major": 2,
       "version_minor": 0
      },
      "text/plain": [
       "Preparing spectrum table :   0%|          | 0/138 [00:00<?, ?it/s]"
      ]
     },
     "metadata": {},
     "output_type": "display_data"
    },
    {
     "name": "stderr",
     "output_type": "stream",
     "text": [
      "pyxsim : [INFO     ] 2025-05-19 08:49:05,081 kT_min = 0.025 keV\n",
      "pyxsim : [INFO     ] 2025-05-19 08:49:05,083 kT_max = 64 keV\n",
      "pyxsim : [INFO     ] 2025-05-19 08:49:05,085 Using emission measure field '('hot_gas', 'emission_measure')'.\n",
      "pyxsim : [INFO     ] 2025-05-19 08:49:05,086 Using temperature field '('hot_gas', 'temperature')'.\n"
     ]
    },
    {
     "data": {
      "application/vnd.jupyter.widget-view+json": {
       "model_id": "8c49ad09fa274b95abf1cd78c7cafa95",
       "version_major": 2,
       "version_minor": 0
      },
      "text/plain": [
       "Preparing spectrum table :   0%|          | 0/138 [00:00<?, ?it/s]"
      ]
     },
     "metadata": {},
     "output_type": "display_data"
    },
    {
     "name": "stderr",
     "output_type": "stream",
     "text": [
      "pyxsim : [INFO     ] 2025-05-19 08:49:07,176 kT_min = 0.025 keV\n",
      "pyxsim : [INFO     ] 2025-05-19 08:49:07,178 kT_max = 64 keV\n",
      "pyxsim : [INFO     ] 2025-05-19 08:49:07,180 Using emission measure field '('hot_gas', 'emission_measure')'.\n",
      "pyxsim : [INFO     ] 2025-05-19 08:49:07,181 Using temperature field '('hot_gas', 'temperature')'.\n"
     ]
    },
    {
     "data": {
      "application/vnd.jupyter.widget-view+json": {
       "model_id": "de1447f69c8a43e38e36030bc9d7f044",
       "version_major": 2,
       "version_minor": 0
      },
      "text/plain": [
       "Preparing spectrum table :   0%|          | 0/138 [00:00<?, ?it/s]"
      ]
     },
     "metadata": {},
     "output_type": "display_data"
    },
    {
     "name": "stderr",
     "output_type": "stream",
     "text": [
      "yt : [INFO     ] 2025-05-19 08:51:32,689 Making a fixed resolution buffer of (('hot_gas', 'xray_emissivity_0.5_2_keV')) 500 by 500\n",
      "ex1 Halos:  30%|███       | 16/53 [12:43<35:53, 58.20s/it]yt : [INFO     ] 2025-05-19 08:51:41,290 Calculating time from 4.884e-01 to be 1.833e+17 seconds\n",
      "yt : [INFO     ] 2025-05-19 08:51:41,383 Making a fixed resolution buffer of (('hot_gas', 'xray_emissivity_0.5_2_keV')) 500 by 500\n",
      "yt : [INFO     ] 2025-05-19 08:51:41,394 Making a fixed resolution buffer of (('hot_gas', 'xray_emissivity_0.5_2_keV')) 500 by 500\n",
      "yt : [INFO     ] 2025-05-19 08:51:41,697 Parameters: current_time              = 1.832656005258152e+17 s\n",
      "yt : [INFO     ] 2025-05-19 08:51:41,698 Parameters: domain_dimensions         = [1 1 1]\n",
      "yt : [INFO     ] 2025-05-19 08:51:41,699 Parameters: domain_left_edge          = [0. 0. 0.]\n",
      "yt : [INFO     ] 2025-05-19 08:51:41,700 Parameters: domain_right_edge         = [25000. 25000. 25000.]\n",
      "yt : [INFO     ] 2025-05-19 08:51:41,775 Parameters: cosmological_simulation   = True\n",
      "yt : [INFO     ] 2025-05-19 08:51:41,776 Parameters: current_redshift          = 1.0476023211521182\n",
      "yt : [INFO     ] 2025-05-19 08:51:41,777 Parameters: omega_lambda              = 0.7\n",
      "yt : [INFO     ] 2025-05-19 08:51:41,778 Parameters: omega_matter              = 0.3\n",
      "yt : [INFO     ] 2025-05-19 08:51:41,779 Parameters: omega_radiation           = 0.0\n",
      "yt : [INFO     ] 2025-05-19 08:51:41,780 Parameters: hubble_constant           = 0.6711\n",
      "yt : [WARNING  ] 2025-05-19 08:51:41,782 The hot_gas particle filter already exists. Overriding.\n",
      "yt : [INFO     ] 2025-05-19 08:51:41,978 Allocating for 9332 particles\n",
      "ex1 Halos:  34%|███▍      | 18/53 [12:53<19:25, 33.30s/it]yt : [INFO     ] 2025-05-19 08:51:49,375 Making a fixed resolution buffer of (('hot_gas', 'xray_emissivity_0.5_2_keV')) 500 by 500\n",
      "yt : [INFO     ] 2025-05-19 08:51:50,289 Calculating time from 4.884e-01 to be 1.833e+17 seconds\n",
      "yt : [INFO     ] 2025-05-19 08:51:50,775 Parameters: current_time              = 1.832656005258152e+17 s\n",
      "yt : [INFO     ] 2025-05-19 08:51:50,777 Parameters: domain_dimensions         = [1 1 1]\n",
      "yt : [INFO     ] 2025-05-19 08:51:50,778 Parameters: domain_left_edge          = [0. 0. 0.]\n",
      "yt : [INFO     ] 2025-05-19 08:51:50,779 Parameters: domain_right_edge         = [25000. 25000. 25000.]\n",
      "yt : [INFO     ] 2025-05-19 08:51:50,780 Parameters: cosmological_simulation   = True\n",
      "yt : [INFO     ] 2025-05-19 08:51:50,781 Parameters: current_redshift          = 1.0476023211521182\n",
      "yt : [INFO     ] 2025-05-19 08:51:50,782 Parameters: omega_lambda              = 0.7\n",
      "yt : [INFO     ] 2025-05-19 08:51:50,783 Parameters: omega_matter              = 0.3\n",
      "yt : [INFO     ] 2025-05-19 08:51:50,784 Parameters: omega_radiation           = 0.0\n",
      "yt : [INFO     ] 2025-05-19 08:51:50,785 Parameters: hubble_constant           = 0.6711\n",
      "yt : [WARNING  ] 2025-05-19 08:51:50,787 The hot_gas particle filter already exists. Overriding.\n",
      "yt : [INFO     ] 2025-05-19 08:51:50,986 Allocating for 3202 particles\n",
      "yt : [INFO     ] 2025-05-19 08:51:51,092 Making a fixed resolution buffer of (('hot_gas', 'xray_emissivity_0.5_2_keV')) 500 by 500\n",
      "yt : [INFO     ] 2025-05-19 08:51:51,678 Calculating time from 4.884e-01 to be 1.833e+17 seconds\n",
      "yt : [INFO     ] 2025-05-19 08:51:53,581 Parameters: current_time              = 1.832656005258152e+17 s\n",
      "yt : [INFO     ] 2025-05-19 08:51:53,584 Parameters: domain_dimensions         = [1 1 1]\n",
      "yt : [INFO     ] 2025-05-19 08:51:53,585 Parameters: domain_left_edge          = [0. 0. 0.]\n",
      "yt : [INFO     ] 2025-05-19 08:51:53,587 Parameters: domain_right_edge         = [25000. 25000. 25000.]\n",
      "yt : [INFO     ] 2025-05-19 08:51:53,675 Parameters: cosmological_simulation   = True\n",
      "yt : [INFO     ] 2025-05-19 08:51:53,676 Parameters: current_redshift          = 1.0476023211521182\n",
      "yt : [INFO     ] 2025-05-19 08:51:53,678 Parameters: omega_lambda              = 0.7\n",
      "yt : [INFO     ] 2025-05-19 08:51:53,679 Parameters: omega_matter              = 0.3\n",
      "yt : [INFO     ] 2025-05-19 08:51:53,680 Parameters: omega_radiation           = 0.0\n",
      "yt : [INFO     ] 2025-05-19 08:51:53,681 Parameters: hubble_constant           = 0.6711\n",
      "yt : [WARNING  ] 2025-05-19 08:51:53,683 The hot_gas particle filter already exists. Overriding.\n",
      "yt : [INFO     ] 2025-05-19 08:51:54,077 Allocating for 9463 particles\n",
      "ex1 Halos:  38%|███▊      | 20/53 [13:02<10:32, 19.18s/it]yt : [INFO     ] 2025-05-19 08:51:59,183 Calculating time from 4.884e-01 to be 1.833e+17 seconds\n",
      "yt : [INFO     ] 2025-05-19 08:51:59,892 Parameters: current_time              = 1.832656005258152e+17 s\n",
      "yt : [INFO     ] 2025-05-19 08:51:59,975 Parameters: domain_dimensions         = [1 1 1]\n",
      "yt : [INFO     ] 2025-05-19 08:51:59,977 Parameters: domain_left_edge          = [0. 0. 0.]\n",
      "yt : [INFO     ] 2025-05-19 08:51:59,978 Parameters: domain_right_edge         = [25000. 25000. 25000.]\n",
      "yt : [INFO     ] 2025-05-19 08:51:59,980 Parameters: cosmological_simulation   = True\n",
      "yt : [INFO     ] 2025-05-19 08:51:59,981 Parameters: current_redshift          = 1.0476023211521182\n",
      "yt : [INFO     ] 2025-05-19 08:51:59,982 Parameters: omega_lambda              = 0.7\n",
      "yt : [INFO     ] 2025-05-19 08:51:59,983 Parameters: omega_matter              = 0.3\n",
      "yt : [INFO     ] 2025-05-19 08:51:59,984 Parameters: omega_radiation           = 0.0\n",
      "yt : [INFO     ] 2025-05-19 08:51:59,985 Parameters: hubble_constant           = 0.6711\n",
      "yt : [WARNING  ] 2025-05-19 08:51:59,988 The hot_gas particle filter already exists. Overriding.\n",
      "yt : [INFO     ] 2025-05-19 08:52:00,294 Calculating time from 4.884e-01 to be 1.833e+17 seconds\n",
      "yt : [INFO     ] 2025-05-19 08:52:00,378 Allocating for 9609 particles\n",
      "yt : [INFO     ] 2025-05-19 08:52:00,879 Parameters: current_time              = 1.832656005258152e+17 s\n",
      "yt : [INFO     ] 2025-05-19 08:52:00,881 Parameters: domain_dimensions         = [1 1 1]\n",
      "yt : [INFO     ] 2025-05-19 08:52:00,882 Parameters: domain_left_edge          = [0. 0. 0.]\n",
      "yt : [INFO     ] 2025-05-19 08:52:00,884 Parameters: domain_right_edge         = [25000. 25000. 25000.]\n",
      "yt : [INFO     ] 2025-05-19 08:52:00,885 Parameters: cosmological_simulation   = True\n",
      "yt : [INFO     ] 2025-05-19 08:52:00,886 Parameters: current_redshift          = 1.0476023211521182\n",
      "yt : [INFO     ] 2025-05-19 08:52:00,887 Parameters: omega_lambda              = 0.7\n",
      "yt : [INFO     ] 2025-05-19 08:52:00,888 Parameters: omega_matter              = 0.3\n",
      "yt : [INFO     ] 2025-05-19 08:52:00,974 Parameters: omega_radiation           = 0.0\n",
      "yt : [INFO     ] 2025-05-19 08:52:00,975 Parameters: hubble_constant           = 0.6711\n",
      "yt : [WARNING  ] 2025-05-19 08:52:00,978 The hot_gas particle filter already exists. Overriding.\n",
      "yt : [INFO     ] 2025-05-19 08:52:01,177 Allocating for 7200 particles\n",
      "pyxsim : [INFO     ] 2025-05-19 08:52:06,688 kT_min = 0.025 keV\n",
      "pyxsim : [INFO     ] 2025-05-19 08:52:06,775 kT_max = 64 keV\n",
      "pyxsim : [INFO     ] 2025-05-19 08:52:06,778 Using emission measure field '('hot_gas', 'emission_measure')'.\n",
      "pyxsim : [INFO     ] 2025-05-19 08:52:06,779 Using temperature field '('hot_gas', 'temperature')'.\n"
     ]
    },
    {
     "data": {
      "application/vnd.jupyter.widget-view+json": {
       "model_id": "43450f60209f4a2eb2bad8e6bcc80e1b",
       "version_major": 2,
       "version_minor": 0
      },
      "text/plain": [
       "Preparing spectrum table :   0%|          | 0/138 [00:00<?, ?it/s]"
      ]
     },
     "metadata": {},
     "output_type": "display_data"
    },
    {
     "name": "stderr",
     "output_type": "stream",
     "text": [
      "pyxsim : [INFO     ] 2025-05-19 08:52:13,187 kT_min = 0.025 keV\n",
      "pyxsim : [INFO     ] 2025-05-19 08:52:13,190 kT_max = 64 keV\n",
      "pyxsim : [INFO     ] 2025-05-19 08:52:13,275 Using emission measure field '('hot_gas', 'emission_measure')'.\n",
      "pyxsim : [INFO     ] 2025-05-19 08:52:13,277 Using temperature field '('hot_gas', 'temperature')'.\n"
     ]
    },
    {
     "data": {
      "application/vnd.jupyter.widget-view+json": {
       "model_id": "28ec991be0374de1ae1810b4d9577196",
       "version_major": 2,
       "version_minor": 0
      },
      "text/plain": [
       "Preparing spectrum table :   0%|          | 0/138 [00:00<?, ?it/s]"
      ]
     },
     "metadata": {},
     "output_type": "display_data"
    },
    {
     "name": "stderr",
     "output_type": "stream",
     "text": [
      "pyxsim : [INFO     ] 2025-05-19 08:52:16,880 kT_min = 0.025 keV\n",
      "pyxsim : [INFO     ] 2025-05-19 08:52:16,883 kT_max = 64 keV\n",
      "pyxsim : [INFO     ] 2025-05-19 08:52:16,885 Using emission measure field '('hot_gas', 'emission_measure')'.\n",
      "pyxsim : [INFO     ] 2025-05-19 08:52:16,886 Using temperature field '('hot_gas', 'temperature')'.\n"
     ]
    },
    {
     "data": {
      "application/vnd.jupyter.widget-view+json": {
       "model_id": "46aa9e802e714ec68c9b8aff3312d120",
       "version_major": 2,
       "version_minor": 0
      },
      "text/plain": [
       "Preparing spectrum table :   0%|          | 0/138 [00:00<?, ?it/s]"
      ]
     },
     "metadata": {},
     "output_type": "display_data"
    },
    {
     "name": "stderr",
     "output_type": "stream",
     "text": [
      "pyxsim : [INFO     ] 2025-05-19 08:52:22,183 kT_min = 0.025 keV\n",
      "pyxsim : [INFO     ] 2025-05-19 08:52:22,185 kT_max = 64 keV\n",
      "pyxsim : [INFO     ] 2025-05-19 08:52:22,275 Using emission measure field '('hot_gas', 'emission_measure')'.\n",
      "pyxsim : [INFO     ] 2025-05-19 08:52:22,276 Using temperature field '('hot_gas', 'temperature')'.\n"
     ]
    },
    {
     "data": {
      "application/vnd.jupyter.widget-view+json": {
       "model_id": "b46cfe39b5654240b008d2a7a1095514",
       "version_major": 2,
       "version_minor": 0
      },
      "text/plain": [
       "Preparing spectrum table :   0%|          | 0/138 [00:00<?, ?it/s]"
      ]
     },
     "metadata": {},
     "output_type": "display_data"
    },
    {
     "name": "stderr",
     "output_type": "stream",
     "text": [
      "pyxsim : [INFO     ] 2025-05-19 08:52:22,589 kT_min = 0.025 keV\n",
      "pyxsim : [INFO     ] 2025-05-19 08:52:22,591 kT_max = 64 keV\n",
      "pyxsim : [INFO     ] 2025-05-19 08:52:22,674 Using emission measure field '('hot_gas', 'emission_measure')'.\n",
      "pyxsim : [INFO     ] 2025-05-19 08:52:22,675 Using temperature field '('hot_gas', 'temperature')'.\n"
     ]
    },
    {
     "data": {
      "application/vnd.jupyter.widget-view+json": {
       "model_id": "7b271492a7f94e17b32a5282bc33bd47",
       "version_major": 2,
       "version_minor": 0
      },
      "text/plain": [
       "Preparing spectrum table :   0%|          | 0/138 [00:00<?, ?it/s]"
      ]
     },
     "metadata": {},
     "output_type": "display_data"
    },
    {
     "name": "stderr",
     "output_type": "stream",
     "text": [
      "yt : [INFO     ] 2025-05-19 08:54:42,289 Making a fixed resolution buffer of (('hot_gas', 'xray_emissivity_0.5_2_keV')) 500 by 500\n",
      "ex1 Halos:  40%|███▉      | 21/53 [15:52<33:27, 62.74s/it]yt : [INFO     ] 2025-05-19 08:54:50,385 Calculating time from 4.884e-01 to be 1.833e+17 seconds\n",
      "yt : [INFO     ] 2025-05-19 08:54:50,978 Parameters: current_time              = 1.832656005258152e+17 s\n",
      "yt : [INFO     ] 2025-05-19 08:54:50,980 Parameters: domain_dimensions         = [1 1 1]\n",
      "yt : [INFO     ] 2025-05-19 08:54:50,981 Parameters: domain_left_edge          = [0. 0. 0.]\n",
      "yt : [INFO     ] 2025-05-19 08:54:50,982 Parameters: domain_right_edge         = [25000. 25000. 25000.]\n",
      "yt : [INFO     ] 2025-05-19 08:54:50,983 Parameters: cosmological_simulation   = True\n",
      "yt : [INFO     ] 2025-05-19 08:54:50,984 Parameters: current_redshift          = 1.0476023211521182\n",
      "yt : [INFO     ] 2025-05-19 08:54:50,984 Parameters: omega_lambda              = 0.7\n",
      "yt : [INFO     ] 2025-05-19 08:54:50,985 Parameters: omega_matter              = 0.3\n",
      "yt : [INFO     ] 2025-05-19 08:54:50,986 Parameters: omega_radiation           = 0.0\n",
      "yt : [INFO     ] 2025-05-19 08:54:50,987 Parameters: hubble_constant           = 0.6711\n",
      "yt : [WARNING  ] 2025-05-19 08:54:51,076 The hot_gas particle filter already exists. Overriding.\n",
      "yt : [INFO     ] 2025-05-19 08:54:51,276 Allocating for 9730 particles\n",
      "yt : [INFO     ] 2025-05-19 08:54:52,880 Making a fixed resolution buffer of (('hot_gas', 'xray_emissivity_0.5_2_keV')) 500 by 500\n",
      "yt : [INFO     ] 2025-05-19 08:54:54,592 Making a fixed resolution buffer of (('hot_gas', 'xray_emissivity_0.5_2_keV')) 500 by 500\n",
      "ex1 Halos:  42%|████▏     | 22/53 [16:02<24:29, 47.41s/it]yt : [INFO     ] 2025-05-19 08:55:00,981 Calculating time from 4.884e-01 to be 1.833e+17 seconds\n",
      "ex1 Halos:  43%|████▎     | 23/53 [16:06<17:19, 34.63s/it]yt : [INFO     ] 2025-05-19 08:55:01,787 Parameters: current_time              = 1.832656005258152e+17 s\n",
      "yt : [INFO     ] 2025-05-19 08:55:01,789 Parameters: domain_dimensions         = [1 1 1]\n",
      "yt : [INFO     ] 2025-05-19 08:55:01,791 Parameters: domain_left_edge          = [0. 0. 0.]\n",
      "yt : [INFO     ] 2025-05-19 08:55:01,875 Parameters: domain_right_edge         = [25000. 25000. 25000.]\n",
      "yt : [INFO     ] 2025-05-19 08:55:01,877 Parameters: cosmological_simulation   = True\n",
      "yt : [INFO     ] 2025-05-19 08:55:01,878 Parameters: current_redshift          = 1.0476023211521182\n",
      "yt : [INFO     ] 2025-05-19 08:55:01,879 Parameters: omega_lambda              = 0.7\n",
      "yt : [INFO     ] 2025-05-19 08:55:01,880 Parameters: omega_matter              = 0.3\n",
      "yt : [INFO     ] 2025-05-19 08:55:01,881 Parameters: omega_radiation           = 0.0\n",
      "yt : [INFO     ] 2025-05-19 08:55:01,882 Parameters: hubble_constant           = 0.6711\n",
      "yt : [WARNING  ] 2025-05-19 08:55:01,885 The hot_gas particle filter already exists. Overriding.\n",
      "yt : [INFO     ] 2025-05-19 08:55:02,087 Allocating for 1949 particles\n",
      "yt : [INFO     ] 2025-05-19 08:55:03,474 Calculating time from 4.884e-01 to be 1.833e+17 seconds\n",
      "yt : [INFO     ] 2025-05-19 08:55:04,087 Parameters: current_time              = 1.832656005258152e+17 s\n",
      "yt : [INFO     ] 2025-05-19 08:55:04,088 Parameters: domain_dimensions         = [1 1 1]\n",
      "yt : [INFO     ] 2025-05-19 08:55:04,090 Parameters: domain_left_edge          = [0. 0. 0.]\n",
      "yt : [INFO     ] 2025-05-19 08:55:04,175 Parameters: domain_right_edge         = [25000. 25000. 25000.]\n",
      "yt : [INFO     ] 2025-05-19 08:55:04,176 Parameters: cosmological_simulation   = True\n",
      "yt : [INFO     ] 2025-05-19 08:55:04,177 Parameters: current_redshift          = 1.0476023211521182\n",
      "yt : [INFO     ] 2025-05-19 08:55:04,178 Parameters: omega_lambda              = 0.7\n",
      "yt : [INFO     ] 2025-05-19 08:55:04,179 Parameters: omega_matter              = 0.3\n",
      "yt : [INFO     ] 2025-05-19 08:55:04,180 Parameters: omega_radiation           = 0.0\n",
      "yt : [INFO     ] 2025-05-19 08:55:04,181 Parameters: hubble_constant           = 0.6711\n",
      "yt : [WARNING  ] 2025-05-19 08:55:04,183 The hot_gas particle filter already exists. Overriding.\n",
      "yt : [INFO     ] 2025-05-19 08:55:04,299 Allocating for 1501 particles\n",
      "yt : [INFO     ] 2025-05-19 08:55:04,578 Making a fixed resolution buffer of (('hot_gas', 'xray_emissivity_0.5_2_keV')) 500 by 500\n",
      "yt : [INFO     ] 2025-05-19 08:55:05,183 Making a fixed resolution buffer of (('hot_gas', 'xray_emissivity_0.5_2_keV')) 500 by 500\n",
      "ex1 Halos:  47%|████▋     | 25/53 [16:17<09:03, 19.40s/it]yt : [INFO     ] 2025-05-19 08:55:14,494 Calculating time from 4.884e-01 to be 1.833e+17 seconds\n",
      "yt : [INFO     ] 2025-05-19 08:55:14,882 Calculating time from 4.884e-01 to be 1.833e+17 seconds\n",
      "yt : [INFO     ] 2025-05-19 08:55:14,986 Parameters: current_time              = 1.832656005258152e+17 s\n",
      "yt : [INFO     ] 2025-05-19 08:55:14,988 Parameters: domain_dimensions         = [1 1 1]\n",
      "yt : [INFO     ] 2025-05-19 08:55:14,989 Parameters: domain_left_edge          = [0. 0. 0.]\n",
      "yt : [INFO     ] 2025-05-19 08:55:15,075 Parameters: domain_right_edge         = [25000. 25000. 25000.]\n",
      "yt : [INFO     ] 2025-05-19 08:55:15,076 Parameters: cosmological_simulation   = True\n",
      "yt : [INFO     ] 2025-05-19 08:55:15,077 Parameters: current_redshift          = 1.0476023211521182\n",
      "yt : [INFO     ] 2025-05-19 08:55:15,078 Parameters: omega_lambda              = 0.7\n",
      "yt : [INFO     ] 2025-05-19 08:55:15,078 Parameters: omega_matter              = 0.3\n",
      "yt : [INFO     ] 2025-05-19 08:55:15,079 Parameters: omega_radiation           = 0.0\n",
      "yt : [INFO     ] 2025-05-19 08:55:15,080 Parameters: hubble_constant           = 0.6711\n",
      "yt : [WARNING  ] 2025-05-19 08:55:15,082 The hot_gas particle filter already exists. Overriding.\n",
      "yt : [INFO     ] 2025-05-19 08:55:15,279 Allocating for 8794 particles\n",
      "yt : [INFO     ] 2025-05-19 08:55:15,475 Parameters: current_time              = 1.832656005258152e+17 s\n",
      "yt : [INFO     ] 2025-05-19 08:55:15,478 Parameters: domain_dimensions         = [1 1 1]\n",
      "yt : [INFO     ] 2025-05-19 08:55:15,479 Parameters: domain_left_edge          = [0. 0. 0.]\n",
      "yt : [INFO     ] 2025-05-19 08:55:15,480 Parameters: domain_right_edge         = [25000. 25000. 25000.]\n",
      "yt : [INFO     ] 2025-05-19 08:55:15,481 Parameters: cosmological_simulation   = True\n",
      "yt : [INFO     ] 2025-05-19 08:55:15,482 Parameters: current_redshift          = 1.0476023211521182\n",
      "yt : [INFO     ] 2025-05-19 08:55:15,483 Parameters: omega_lambda              = 0.7\n",
      "yt : [INFO     ] 2025-05-19 08:55:15,484 Parameters: omega_matter              = 0.3\n",
      "yt : [INFO     ] 2025-05-19 08:55:15,485 Parameters: omega_radiation           = 0.0\n",
      "yt : [INFO     ] 2025-05-19 08:55:15,486 Parameters: hubble_constant           = 0.6711\n",
      "yt : [WARNING  ] 2025-05-19 08:55:15,576 The hot_gas particle filter already exists. Overriding.\n",
      "yt : [INFO     ] 2025-05-19 08:55:15,779 Allocating for 5614 particles\n",
      "pyxsim : [INFO     ] 2025-05-19 08:55:15,976 kT_min = 0.025 keV\n",
      "pyxsim : [INFO     ] 2025-05-19 08:55:15,979 kT_max = 64 keV\n",
      "pyxsim : [INFO     ] 2025-05-19 08:55:15,981 Using emission measure field '('hot_gas', 'emission_measure')'.\n",
      "pyxsim : [INFO     ] 2025-05-19 08:55:15,982 Using temperature field '('hot_gas', 'temperature')'.\n"
     ]
    },
    {
     "data": {
      "application/vnd.jupyter.widget-view+json": {
       "model_id": "97d07dfbae7c4734a50e406ec5954148",
       "version_major": 2,
       "version_minor": 0
      },
      "text/plain": [
       "Preparing spectrum table :   0%|          | 0/138 [00:00<?, ?it/s]"
      ]
     },
     "metadata": {},
     "output_type": "display_data"
    },
    {
     "name": "stderr",
     "output_type": "stream",
     "text": [
      "pyxsim : [INFO     ] 2025-05-19 08:55:23,675 kT_min = 0.025 keV\n",
      "pyxsim : [INFO     ] 2025-05-19 08:55:23,677 kT_max = 64 keV\n",
      "pyxsim : [INFO     ] 2025-05-19 08:55:23,679 Using emission measure field '('hot_gas', 'emission_measure')'.\n",
      "pyxsim : [INFO     ] 2025-05-19 08:55:23,680 Using temperature field '('hot_gas', 'temperature')'.\n"
     ]
    },
    {
     "data": {
      "application/vnd.jupyter.widget-view+json": {
       "model_id": "dc8aaab0307946cab11af82c5503e149",
       "version_major": 2,
       "version_minor": 0
      },
      "text/plain": [
       "Preparing spectrum table :   0%|          | 0/138 [00:00<?, ?it/s]"
      ]
     },
     "metadata": {},
     "output_type": "display_data"
    },
    {
     "name": "stderr",
     "output_type": "stream",
     "text": [
      "pyxsim : [INFO     ] 2025-05-19 08:55:25,384 kT_min = 0.025 keV\n",
      "pyxsim : [INFO     ] 2025-05-19 08:55:25,386 kT_max = 64 keV\n",
      "pyxsim : [INFO     ] 2025-05-19 08:55:25,388 Using emission measure field '('hot_gas', 'emission_measure')'.\n",
      "pyxsim : [INFO     ] 2025-05-19 08:55:25,389 Using temperature field '('hot_gas', 'temperature')'.\n"
     ]
    },
    {
     "data": {
      "application/vnd.jupyter.widget-view+json": {
       "model_id": "a252a4fd7c5d4121a0e2208ee5dc6f07",
       "version_major": 2,
       "version_minor": 0
      },
      "text/plain": [
       "Preparing spectrum table :   0%|          | 0/138 [00:00<?, ?it/s]"
      ]
     },
     "metadata": {},
     "output_type": "display_data"
    },
    {
     "name": "stderr",
     "output_type": "stream",
     "text": [
      "pyxsim : [INFO     ] 2025-05-19 08:55:34,193 kT_min = 0.025 keV\n",
      "pyxsim : [INFO     ] 2025-05-19 08:55:34,274 kT_max = 64 keV\n",
      "pyxsim : [INFO     ] 2025-05-19 08:55:34,277 Using emission measure field '('hot_gas', 'emission_measure')'.\n",
      "pyxsim : [INFO     ] 2025-05-19 08:55:34,278 Using temperature field '('hot_gas', 'temperature')'.\n"
     ]
    },
    {
     "data": {
      "application/vnd.jupyter.widget-view+json": {
       "model_id": "39bd6092f8144b41a0d33a803ce4b663",
       "version_major": 2,
       "version_minor": 0
      },
      "text/plain": [
       "Preparing spectrum table :   0%|          | 0/138 [00:00<?, ?it/s]"
      ]
     },
     "metadata": {},
     "output_type": "display_data"
    },
    {
     "name": "stderr",
     "output_type": "stream",
     "text": [
      "pyxsim : [INFO     ] 2025-05-19 08:55:34,775 kT_min = 0.025 keV\n",
      "pyxsim : [INFO     ] 2025-05-19 08:55:34,777 kT_max = 64 keV\n",
      "pyxsim : [INFO     ] 2025-05-19 08:55:34,780 Using emission measure field '('hot_gas', 'emission_measure')'.\n",
      "pyxsim : [INFO     ] 2025-05-19 08:55:34,781 Using temperature field '('hot_gas', 'temperature')'.\n"
     ]
    },
    {
     "data": {
      "application/vnd.jupyter.widget-view+json": {
       "model_id": "96c811e14d6245f79e083d8924489230",
       "version_major": 2,
       "version_minor": 0
      },
      "text/plain": [
       "Preparing spectrum table :   0%|          | 0/138 [00:00<?, ?it/s]"
      ]
     },
     "metadata": {},
     "output_type": "display_data"
    },
    {
     "name": "stderr",
     "output_type": "stream",
     "text": [
      "yt : [INFO     ] 2025-05-19 08:57:55,090 Making a fixed resolution buffer of (('hot_gas', 'xray_emissivity_0.5_2_keV')) 500 by 500\n",
      "ex1 Halos:  49%|████▉     | 26/53 [19:05<28:38, 63.66s/it]yt : [INFO     ] 2025-05-19 08:58:03,179 Calculating time from 4.884e-01 to be 1.833e+17 seconds\n",
      "yt : [INFO     ] 2025-05-19 08:58:03,591 Making a fixed resolution buffer of (('hot_gas', 'xray_emissivity_0.5_2_keV')) 500 by 500\n",
      "yt : [INFO     ] 2025-05-19 08:58:04,076 Parameters: current_time              = 1.832656005258152e+17 s\n",
      "yt : [INFO     ] 2025-05-19 08:58:04,078 Parameters: domain_dimensions         = [1 1 1]\n",
      "yt : [INFO     ] 2025-05-19 08:58:04,079 Parameters: domain_left_edge          = [0. 0. 0.]\n",
      "yt : [INFO     ] 2025-05-19 08:58:04,081 Parameters: domain_right_edge         = [25000. 25000. 25000.]\n",
      "yt : [INFO     ] 2025-05-19 08:58:04,082 Parameters: cosmological_simulation   = True\n",
      "yt : [INFO     ] 2025-05-19 08:58:04,083 Parameters: current_redshift          = 1.0476023211521182\n",
      "yt : [INFO     ] 2025-05-19 08:58:04,084 Parameters: omega_lambda              = 0.7\n",
      "yt : [INFO     ] 2025-05-19 08:58:04,085 Parameters: omega_matter              = 0.3\n",
      "yt : [INFO     ] 2025-05-19 08:58:04,086 Parameters: omega_radiation           = 0.0\n",
      "yt : [INFO     ] 2025-05-19 08:58:04,087 Parameters: hubble_constant           = 0.6711\n",
      "yt : [WARNING  ] 2025-05-19 08:58:04,174 The hot_gas particle filter already exists. Overriding.\n",
      "yt : [INFO     ] 2025-05-19 08:58:04,375 Allocating for 4732 particles\n",
      "ex1 Halos:  51%|█████     | 27/53 [19:13<20:25, 47.12s/it]yt : [INFO     ] 2025-05-19 08:58:08,385 Making a fixed resolution buffer of (('hot_gas', 'xray_emissivity_0.5_2_keV')) 500 by 500\n",
      "ex1 Halos:  53%|█████▎    | 28/53 [19:17<14:15, 34.22s/it]yt : [INFO     ] 2025-05-19 08:58:13,174 Calculating time from 4.884e-01 to be 1.833e+17 seconds\n",
      "yt : [INFO     ] 2025-05-19 08:58:13,675 Parameters: current_time              = 1.832656005258152e+17 s\n",
      "yt : [INFO     ] 2025-05-19 08:58:13,677 Parameters: domain_dimensions         = [1 1 1]\n",
      "yt : [INFO     ] 2025-05-19 08:58:13,678 Parameters: domain_left_edge          = [0. 0. 0.]\n",
      "yt : [INFO     ] 2025-05-19 08:58:13,679 Parameters: domain_right_edge         = [25000. 25000. 25000.]\n",
      "yt : [INFO     ] 2025-05-19 08:58:13,680 Parameters: cosmological_simulation   = True\n",
      "yt : [INFO     ] 2025-05-19 08:58:13,681 Parameters: current_redshift          = 1.0476023211521182\n",
      "yt : [INFO     ] 2025-05-19 08:58:13,682 Parameters: omega_lambda              = 0.7\n",
      "yt : [INFO     ] 2025-05-19 08:58:13,683 Parameters: omega_matter              = 0.3\n",
      "yt : [INFO     ] 2025-05-19 08:58:13,683 Parameters: omega_radiation           = 0.0\n",
      "yt : [INFO     ] 2025-05-19 08:58:13,684 Parameters: hubble_constant           = 0.6711\n",
      "yt : [WARNING  ] 2025-05-19 08:58:13,686 The hot_gas particle filter already exists. Overriding.\n",
      "yt : [INFO     ] 2025-05-19 08:58:13,894 Allocating for 8906 particles\n",
      "yt : [INFO     ] 2025-05-19 08:58:14,995 Calculating time from 4.884e-01 to be 1.833e+17 seconds\n",
      "yt : [INFO     ] 2025-05-19 08:58:15,586 Parameters: current_time              = 1.832656005258152e+17 s\n",
      "yt : [INFO     ] 2025-05-19 08:58:15,590 Parameters: domain_dimensions         = [1 1 1]\n",
      "yt : [INFO     ] 2025-05-19 08:58:15,591 Parameters: domain_left_edge          = [0. 0. 0.]\n",
      "yt : [INFO     ] 2025-05-19 08:58:15,675 Parameters: domain_right_edge         = [25000. 25000. 25000.]\n",
      "yt : [INFO     ] 2025-05-19 08:58:15,678 Parameters: cosmological_simulation   = True\n",
      "yt : [INFO     ] 2025-05-19 08:58:15,679 Parameters: current_redshift          = 1.0476023211521182\n",
      "yt : [INFO     ] 2025-05-19 08:58:15,680 Parameters: omega_lambda              = 0.7\n",
      "yt : [INFO     ] 2025-05-19 08:58:15,681 Parameters: omega_matter              = 0.3\n",
      "yt : [INFO     ] 2025-05-19 08:58:15,682 Parameters: omega_radiation           = 0.0\n",
      "yt : [INFO     ] 2025-05-19 08:58:15,682 Parameters: hubble_constant           = 0.6711\n",
      "yt : [WARNING  ] 2025-05-19 08:58:15,685 The hot_gas particle filter already exists. Overriding.\n",
      "yt : [INFO     ] 2025-05-19 08:58:15,977 Allocating for 8701 particles\n",
      "yt : [INFO     ] 2025-05-19 08:58:18,478 Making a fixed resolution buffer of (('hot_gas', 'xray_emissivity_0.5_2_keV')) 500 by 500\n",
      "ex1 Halos:  55%|█████▍    | 29/53 [19:28<10:51, 27.15s/it]yt : [INFO     ] 2025-05-19 08:58:24,378 Making a fixed resolution buffer of (('hot_gas', 'xray_emissivity_0.5_2_keV')) 500 by 500\n",
      "yt : [INFO     ] 2025-05-19 08:58:25,791 Calculating time from 4.884e-01 to be 1.833e+17 seconds\n",
      "yt : [INFO     ] 2025-05-19 08:58:26,292 Parameters: current_time              = 1.832656005258152e+17 s\n",
      "yt : [INFO     ] 2025-05-19 08:58:26,376 Parameters: domain_dimensions         = [1 1 1]\n",
      "yt : [INFO     ] 2025-05-19 08:58:26,377 Parameters: domain_left_edge          = [0. 0. 0.]\n",
      "yt : [INFO     ] 2025-05-19 08:58:26,378 Parameters: domain_right_edge         = [25000. 25000. 25000.]\n",
      "yt : [INFO     ] 2025-05-19 08:58:26,379 Parameters: cosmological_simulation   = True\n",
      "yt : [INFO     ] 2025-05-19 08:58:26,380 Parameters: current_redshift          = 1.0476023211521182\n",
      "yt : [INFO     ] 2025-05-19 08:58:26,381 Parameters: omega_lambda              = 0.7\n",
      "yt : [INFO     ] 2025-05-19 08:58:26,382 Parameters: omega_matter              = 0.3\n",
      "yt : [INFO     ] 2025-05-19 08:58:26,383 Parameters: omega_radiation           = 0.0\n",
      "yt : [INFO     ] 2025-05-19 08:58:26,384 Parameters: hubble_constant           = 0.6711\n",
      "yt : [WARNING  ] 2025-05-19 08:58:26,386 The hot_gas particle filter already exists. Overriding.\n",
      "yt : [INFO     ] 2025-05-19 08:58:26,595 Allocating for 8409 particles\n",
      "ex1 Halos:  57%|█████▋    | 30/53 [19:34<08:00, 20.90s/it]yt : [INFO     ] 2025-05-19 08:58:31,282 Calculating time from 4.884e-01 to be 1.833e+17 seconds\n",
      "yt : [INFO     ] 2025-05-19 08:58:31,984 Parameters: current_time              = 1.832656005258152e+17 s\n",
      "yt : [INFO     ] 2025-05-19 08:58:31,987 Parameters: domain_dimensions         = [1 1 1]\n",
      "yt : [INFO     ] 2025-05-19 08:58:31,988 Parameters: domain_left_edge          = [0. 0. 0.]\n",
      "yt : [INFO     ] 2025-05-19 08:58:31,989 Parameters: domain_right_edge         = [25000. 25000. 25000.]\n",
      "yt : [INFO     ] 2025-05-19 08:58:31,990 Parameters: cosmological_simulation   = True\n",
      "yt : [INFO     ] 2025-05-19 08:58:31,991 Parameters: current_redshift          = 1.0476023211521182\n",
      "yt : [INFO     ] 2025-05-19 08:58:31,992 Parameters: omega_lambda              = 0.7\n",
      "yt : [INFO     ] 2025-05-19 08:58:31,993 Parameters: omega_matter              = 0.3\n",
      "yt : [INFO     ] 2025-05-19 08:58:32,075 Parameters: omega_radiation           = 0.0\n",
      "yt : [INFO     ] 2025-05-19 08:58:32,076 Parameters: hubble_constant           = 0.6711\n",
      "yt : [WARNING  ] 2025-05-19 08:58:32,079 The hot_gas particle filter already exists. Overriding.\n",
      "pyxsim : [INFO     ] 2025-05-19 08:58:32,182 kT_min = 0.025 keV\n",
      "pyxsim : [INFO     ] 2025-05-19 08:58:32,185 kT_max = 64 keV\n",
      "pyxsim : [INFO     ] 2025-05-19 08:58:32,187 Using emission measure field '('hot_gas', 'emission_measure')'.\n",
      "pyxsim : [INFO     ] 2025-05-19 08:58:32,188 Using temperature field '('hot_gas', 'temperature')'.\n",
      "yt : [INFO     ] 2025-05-19 08:58:32,282 Allocating for 2350 particles\n"
     ]
    },
    {
     "data": {
      "application/vnd.jupyter.widget-view+json": {
       "model_id": "c05c6bf09a3c4524ad7964446573d6d0",
       "version_major": 2,
       "version_minor": 0
      },
      "text/plain": [
       "Preparing spectrum table :   0%|          | 0/138 [00:00<?, ?it/s]"
      ]
     },
     "metadata": {},
     "output_type": "display_data"
    },
    {
     "name": "stderr",
     "output_type": "stream",
     "text": [
      "pyxsim : [INFO     ] 2025-05-19 08:58:36,279 kT_min = 0.025 keV\n",
      "pyxsim : [INFO     ] 2025-05-19 08:58:36,281 kT_max = 64 keV\n",
      "pyxsim : [INFO     ] 2025-05-19 08:58:36,283 Using emission measure field '('hot_gas', 'emission_measure')'.\n",
      "pyxsim : [INFO     ] 2025-05-19 08:58:36,284 Using temperature field '('hot_gas', 'temperature')'.\n"
     ]
    },
    {
     "data": {
      "application/vnd.jupyter.widget-view+json": {
       "model_id": "0a15c8a95908455d9f5426c3c96aea30",
       "version_major": 2,
       "version_minor": 0
      },
      "text/plain": [
       "Preparing spectrum table :   0%|          | 0/138 [00:00<?, ?it/s]"
      ]
     },
     "metadata": {},
     "output_type": "display_data"
    },
    {
     "name": "stderr",
     "output_type": "stream",
     "text": [
      "pyxsim : [INFO     ] 2025-05-19 08:58:38,379 kT_min = 0.025 keV\n",
      "pyxsim : [INFO     ] 2025-05-19 08:58:38,380 kT_max = 64 keV\n",
      "pyxsim : [INFO     ] 2025-05-19 08:58:38,382 Using emission measure field '('hot_gas', 'emission_measure')'.\n",
      "pyxsim : [INFO     ] 2025-05-19 08:58:38,383 Using temperature field '('hot_gas', 'temperature')'.\n"
     ]
    },
    {
     "data": {
      "application/vnd.jupyter.widget-view+json": {
       "model_id": "5e60ebb1db794aae84b16f46825a356f",
       "version_major": 2,
       "version_minor": 0
      },
      "text/plain": [
       "Preparing spectrum table :   0%|          | 0/138 [00:00<?, ?it/s]"
      ]
     },
     "metadata": {},
     "output_type": "display_data"
    },
    {
     "name": "stderr",
     "output_type": "stream",
     "text": [
      "pyxsim : [INFO     ] 2025-05-19 08:58:49,379 kT_min = 0.025 keV\n",
      "pyxsim : [INFO     ] 2025-05-19 08:58:49,381 kT_max = 64 keV\n",
      "pyxsim : [INFO     ] 2025-05-19 08:58:49,383 Using emission measure field '('hot_gas', 'emission_measure')'.\n",
      "pyxsim : [INFO     ] 2025-05-19 08:58:49,384 Using temperature field '('hot_gas', 'temperature')'.\n"
     ]
    },
    {
     "data": {
      "application/vnd.jupyter.widget-view+json": {
       "model_id": "cf9a005ae9674172995d1c77898ff3f9",
       "version_major": 2,
       "version_minor": 0
      },
      "text/plain": [
       "Preparing spectrum table :   0%|          | 0/138 [00:00<?, ?it/s]"
      ]
     },
     "metadata": {},
     "output_type": "display_data"
    },
    {
     "name": "stderr",
     "output_type": "stream",
     "text": [
      "pyxsim : [INFO     ] 2025-05-19 08:58:52,884 kT_min = 0.025 keV\n",
      "pyxsim : [INFO     ] 2025-05-19 08:58:52,886 kT_max = 64 keV\n",
      "pyxsim : [INFO     ] 2025-05-19 08:58:52,888 Using emission measure field '('hot_gas', 'emission_measure')'.\n",
      "pyxsim : [INFO     ] 2025-05-19 08:58:52,888 Using temperature field '('hot_gas', 'temperature')'.\n"
     ]
    },
    {
     "data": {
      "application/vnd.jupyter.widget-view+json": {
       "model_id": "631a639bca3840fdac26850c489e0193",
       "version_major": 2,
       "version_minor": 0
      },
      "text/plain": [
       "Preparing spectrum table :   0%|          | 0/138 [00:00<?, ?it/s]"
      ]
     },
     "metadata": {},
     "output_type": "display_data"
    },
    {
     "name": "stderr",
     "output_type": "stream",
     "text": [
      "yt : [INFO     ] 2025-05-19 09:01:06,479 Making a fixed resolution buffer of (('hot_gas', 'xray_emissivity_0.5_2_keV')) 500 by 500\n",
      "ex1 Halos:  58%|█████▊    | 31/53 [22:16<23:10, 63.22s/it]yt : [INFO     ] 2025-05-19 09:01:14,189 Calculating time from 4.884e-01 to be 1.833e+17 seconds\n",
      "yt : [INFO     ] 2025-05-19 09:01:14,477 Making a fixed resolution buffer of (('hot_gas', 'xray_emissivity_0.5_2_keV')) 500 by 500\n",
      "yt : [INFO     ] 2025-05-19 09:01:14,685 Parameters: current_time              = 1.832656005258152e+17 s\n",
      "yt : [INFO     ] 2025-05-19 09:01:14,686 Parameters: domain_dimensions         = [1 1 1]\n",
      "yt : [INFO     ] 2025-05-19 09:01:14,688 Parameters: domain_left_edge          = [0. 0. 0.]\n",
      "yt : [INFO     ] 2025-05-19 09:01:14,689 Parameters: domain_right_edge         = [25000. 25000. 25000.]\n",
      "yt : [INFO     ] 2025-05-19 09:01:14,690 Parameters: cosmological_simulation   = True\n",
      "yt : [INFO     ] 2025-05-19 09:01:14,691 Parameters: current_redshift          = 1.0476023211521182\n",
      "yt : [INFO     ] 2025-05-19 09:01:14,691 Parameters: omega_lambda              = 0.7\n",
      "yt : [INFO     ] 2025-05-19 09:01:14,692 Parameters: omega_matter              = 0.3\n",
      "yt : [INFO     ] 2025-05-19 09:01:14,693 Parameters: omega_radiation           = 0.0\n",
      "yt : [INFO     ] 2025-05-19 09:01:14,774 Parameters: hubble_constant           = 0.6711\n",
      "yt : [WARNING  ] 2025-05-19 09:01:14,777 The hot_gas particle filter already exists. Overriding.\n",
      "yt : [INFO     ] 2025-05-19 09:01:14,976 Allocating for 7460 particles\n",
      "yt : [INFO     ] 2025-05-19 09:01:15,788 Making a fixed resolution buffer of (('hot_gas', 'xray_emissivity_0.5_2_keV')) 500 by 500\n",
      "ex1 Halos:  62%|██████▏   | 33/53 [22:28<11:17, 33.85s/it]yt : [INFO     ] 2025-05-19 09:01:24,175 Calculating time from 4.884e-01 to be 1.833e+17 seconds\n",
      "yt : [INFO     ] 2025-05-19 09:01:24,691 Parameters: current_time              = 1.832656005258152e+17 s\n",
      "yt : [INFO     ] 2025-05-19 09:01:24,774 Parameters: domain_dimensions         = [1 1 1]\n",
      "yt : [INFO     ] 2025-05-19 09:01:24,776 Parameters: domain_left_edge          = [0. 0. 0.]\n",
      "yt : [INFO     ] 2025-05-19 09:01:24,777 Parameters: domain_right_edge         = [25000. 25000. 25000.]\n",
      "yt : [INFO     ] 2025-05-19 09:01:24,778 Parameters: cosmological_simulation   = True\n",
      "yt : [INFO     ] 2025-05-19 09:01:24,779 Parameters: current_redshift          = 1.0476023211521182\n",
      "yt : [INFO     ] 2025-05-19 09:01:24,780 Parameters: omega_lambda              = 0.7\n",
      "yt : [INFO     ] 2025-05-19 09:01:24,780 Parameters: omega_matter              = 0.3\n",
      "yt : [INFO     ] 2025-05-19 09:01:24,781 Parameters: omega_radiation           = 0.0\n",
      "yt : [INFO     ] 2025-05-19 09:01:24,782 Parameters: hubble_constant           = 0.6711\n",
      "yt : [WARNING  ] 2025-05-19 09:01:24,786 The hot_gas particle filter already exists. Overriding.\n",
      "yt : [INFO     ] 2025-05-19 09:01:25,078 Allocating for 7379 particles\n",
      "yt : [INFO     ] 2025-05-19 09:01:25,380 Calculating time from 4.884e-01 to be 1.833e+17 seconds\n",
      "yt : [INFO     ] 2025-05-19 09:01:25,987 Parameters: current_time              = 1.832656005258152e+17 s\n",
      "yt : [INFO     ] 2025-05-19 09:01:26,075 Parameters: domain_dimensions         = [1 1 1]\n",
      "yt : [INFO     ] 2025-05-19 09:01:26,076 Parameters: domain_left_edge          = [0. 0. 0.]\n",
      "yt : [INFO     ] 2025-05-19 09:01:26,077 Parameters: domain_right_edge         = [25000. 25000. 25000.]\n",
      "yt : [INFO     ] 2025-05-19 09:01:26,078 Parameters: cosmological_simulation   = True\n",
      "yt : [INFO     ] 2025-05-19 09:01:26,079 Parameters: current_redshift          = 1.0476023211521182\n",
      "yt : [INFO     ] 2025-05-19 09:01:26,079 Parameters: omega_lambda              = 0.7\n",
      "yt : [INFO     ] 2025-05-19 09:01:26,080 Parameters: omega_matter              = 0.3\n",
      "yt : [INFO     ] 2025-05-19 09:01:26,081 Parameters: omega_radiation           = 0.0\n",
      "yt : [INFO     ] 2025-05-19 09:01:26,082 Parameters: hubble_constant           = 0.6711\n",
      "yt : [WARNING  ] 2025-05-19 09:01:26,084 The hot_gas particle filter already exists. Overriding.\n",
      "yt : [INFO     ] 2025-05-19 09:01:26,375 Allocating for 3968 particles\n",
      "yt : [INFO     ] 2025-05-19 09:01:28,386 Making a fixed resolution buffer of (('hot_gas', 'xray_emissivity_0.5_2_keV')) 500 by 500\n",
      "ex1 Halos:  64%|██████▍   | 34/53 [22:38<08:28, 26.75s/it]yt : [INFO     ] 2025-05-19 09:01:33,784 Making a fixed resolution buffer of (('hot_gas', 'xray_emissivity_0.5_2_keV')) 500 by 500\n",
      "yt : [INFO     ] 2025-05-19 09:01:35,189 Calculating time from 4.884e-01 to be 1.833e+17 seconds\n",
      "yt : [INFO     ] 2025-05-19 09:01:36,781 Parameters: current_time              = 1.832656005258152e+17 s\n",
      "yt : [INFO     ] 2025-05-19 09:01:36,783 Parameters: domain_dimensions         = [1 1 1]\n",
      "yt : [INFO     ] 2025-05-19 09:01:36,785 Parameters: domain_left_edge          = [0. 0. 0.]\n",
      "yt : [INFO     ] 2025-05-19 09:01:36,786 Parameters: domain_right_edge         = [25000. 25000. 25000.]\n",
      "yt : [INFO     ] 2025-05-19 09:01:36,875 Parameters: cosmological_simulation   = True\n",
      "yt : [INFO     ] 2025-05-19 09:01:36,876 Parameters: current_redshift          = 1.0476023211521182\n",
      "yt : [INFO     ] 2025-05-19 09:01:36,877 Parameters: omega_lambda              = 0.7\n",
      "yt : [INFO     ] 2025-05-19 09:01:36,878 Parameters: omega_matter              = 0.3\n",
      "yt : [INFO     ] 2025-05-19 09:01:36,879 Parameters: omega_radiation           = 0.0\n",
      "yt : [INFO     ] 2025-05-19 09:01:36,880 Parameters: hubble_constant           = 0.6711\n",
      "yt : [WARNING  ] 2025-05-19 09:01:36,883 The hot_gas particle filter already exists. Overriding.\n",
      "yt : [INFO     ] 2025-05-19 09:01:37,175 Allocating for 3006 particles\n",
      "ex1 Halos:  66%|██████▌   | 35/53 [22:43<06:03, 20.20s/it]yt : [INFO     ] 2025-05-19 09:01:40,888 Calculating time from 4.884e-01 to be 1.833e+17 seconds\n",
      "yt : [INFO     ] 2025-05-19 09:01:41,389 Parameters: current_time              = 1.832656005258152e+17 s\n",
      "yt : [INFO     ] 2025-05-19 09:01:41,391 Parameters: domain_dimensions         = [1 1 1]\n",
      "yt : [INFO     ] 2025-05-19 09:01:41,392 Parameters: domain_left_edge          = [0. 0. 0.]\n",
      "yt : [INFO     ] 2025-05-19 09:01:41,393 Parameters: domain_right_edge         = [25000. 25000. 25000.]\n",
      "yt : [INFO     ] 2025-05-19 09:01:41,394 Parameters: cosmological_simulation   = True\n",
      "yt : [INFO     ] 2025-05-19 09:01:41,475 Parameters: current_redshift          = 1.0476023211521182\n",
      "yt : [INFO     ] 2025-05-19 09:01:41,476 Parameters: omega_lambda              = 0.7\n",
      "yt : [INFO     ] 2025-05-19 09:01:41,477 Parameters: omega_matter              = 0.3\n",
      "yt : [INFO     ] 2025-05-19 09:01:41,478 Parameters: omega_radiation           = 0.0\n",
      "yt : [INFO     ] 2025-05-19 09:01:41,479 Parameters: hubble_constant           = 0.6711\n",
      "yt : [WARNING  ] 2025-05-19 09:01:41,481 The hot_gas particle filter already exists. Overriding.\n",
      "yt : [INFO     ] 2025-05-19 09:01:41,686 Allocating for 7146 particles\n",
      "pyxsim : [INFO     ] 2025-05-19 09:01:41,784 kT_min = 0.025 keV\n",
      "pyxsim : [INFO     ] 2025-05-19 09:01:41,786 kT_max = 64 keV\n",
      "pyxsim : [INFO     ] 2025-05-19 09:01:41,788 Using emission measure field '('hot_gas', 'emission_measure')'.\n",
      "pyxsim : [INFO     ] 2025-05-19 09:01:41,788 Using temperature field '('hot_gas', 'temperature')'.\n"
     ]
    },
    {
     "data": {
      "application/vnd.jupyter.widget-view+json": {
       "model_id": "735cd39436274413b81f03fb2cc4782a",
       "version_major": 2,
       "version_minor": 0
      },
      "text/plain": [
       "Preparing spectrum table :   0%|          | 0/138 [00:00<?, ?it/s]"
      ]
     },
     "metadata": {},
     "output_type": "display_data"
    },
    {
     "name": "stderr",
     "output_type": "stream",
     "text": [
      "pyxsim : [INFO     ] 2025-05-19 09:01:47,783 kT_min = 0.025 keV\n",
      "pyxsim : [INFO     ] 2025-05-19 09:01:47,785 kT_max = 64 keV\n",
      "pyxsim : [INFO     ] 2025-05-19 09:01:47,787 Using emission measure field '('hot_gas', 'emission_measure')'.\n",
      "pyxsim : [INFO     ] 2025-05-19 09:01:47,788 Using temperature field '('hot_gas', 'temperature')'.\n"
     ]
    },
    {
     "data": {
      "application/vnd.jupyter.widget-view+json": {
       "model_id": "e6bf9237370d404a8082add11ee3e623",
       "version_major": 2,
       "version_minor": 0
      },
      "text/plain": [
       "Preparing spectrum table :   0%|          | 0/138 [00:00<?, ?it/s]"
      ]
     },
     "metadata": {},
     "output_type": "display_data"
    },
    {
     "name": "stderr",
     "output_type": "stream",
     "text": [
      "pyxsim : [INFO     ] 2025-05-19 09:01:49,188 kT_min = 0.025 keV\n",
      "pyxsim : [INFO     ] 2025-05-19 09:01:49,191 kT_max = 64 keV\n",
      "pyxsim : [INFO     ] 2025-05-19 09:01:49,274 Using emission measure field '('hot_gas', 'emission_measure')'.\n",
      "pyxsim : [INFO     ] 2025-05-19 09:01:49,275 Using temperature field '('hot_gas', 'temperature')'.\n"
     ]
    },
    {
     "data": {
      "application/vnd.jupyter.widget-view+json": {
       "model_id": "98f04a14462e4ceeba68df99327a2dc8",
       "version_major": 2,
       "version_minor": 0
      },
      "text/plain": [
       "Preparing spectrum table :   0%|          | 0/138 [00:00<?, ?it/s]"
      ]
     },
     "metadata": {},
     "output_type": "display_data"
    },
    {
     "name": "stderr",
     "output_type": "stream",
     "text": [
      "pyxsim : [INFO     ] 2025-05-19 09:01:57,178 kT_min = 0.025 keV\n",
      "pyxsim : [INFO     ] 2025-05-19 09:01:57,180 kT_max = 64 keV\n",
      "pyxsim : [INFO     ] 2025-05-19 09:01:57,182 Using emission measure field '('hot_gas', 'emission_measure')'.\n",
      "pyxsim : [INFO     ] 2025-05-19 09:01:57,183 Using temperature field '('hot_gas', 'temperature')'.\n"
     ]
    },
    {
     "data": {
      "application/vnd.jupyter.widget-view+json": {
       "model_id": "c08b6bfa2eaa49ea9b171c4ea08cd6c8",
       "version_major": 2,
       "version_minor": 0
      },
      "text/plain": [
       "Preparing spectrum table :   0%|          | 0/138 [00:00<?, ?it/s]"
      ]
     },
     "metadata": {},
     "output_type": "display_data"
    },
    {
     "name": "stderr",
     "output_type": "stream",
     "text": [
      "pyxsim : [INFO     ] 2025-05-19 09:02:02,484 kT_min = 0.025 keV\n",
      "pyxsim : [INFO     ] 2025-05-19 09:02:02,487 kT_max = 64 keV\n",
      "pyxsim : [INFO     ] 2025-05-19 09:02:02,489 Using emission measure field '('hot_gas', 'emission_measure')'.\n",
      "pyxsim : [INFO     ] 2025-05-19 09:02:02,490 Using temperature field '('hot_gas', 'temperature')'.\n"
     ]
    },
    {
     "data": {
      "application/vnd.jupyter.widget-view+json": {
       "model_id": "99291150c1744e27a0823c8c76ee175c",
       "version_major": 2,
       "version_minor": 0
      },
      "text/plain": [
       "Preparing spectrum table :   0%|          | 0/138 [00:00<?, ?it/s]"
      ]
     },
     "metadata": {},
     "output_type": "display_data"
    },
    {
     "name": "stderr",
     "output_type": "stream",
     "text": [
      "yt : [INFO     ] 2025-05-19 09:04:17,487 Making a fixed resolution buffer of (('hot_gas', 'xray_emissivity_0.5_2_keV')) 500 by 500\n",
      "ex1 Halos:  68%|██████▊   | 36/53 [25:27<17:56, 63.33s/it]yt : [INFO     ] 2025-05-19 09:04:24,580 Calculating time from 4.884e-01 to be 1.833e+17 seconds\n",
      "yt : [INFO     ] 2025-05-19 09:04:25,079 Parameters: current_time              = 1.832656005258152e+17 s\n",
      "yt : [INFO     ] 2025-05-19 09:04:25,080 Parameters: domain_dimensions         = [1 1 1]\n",
      "yt : [INFO     ] 2025-05-19 09:04:25,082 Parameters: domain_left_edge          = [0. 0. 0.]\n",
      "yt : [INFO     ] 2025-05-19 09:04:25,083 Parameters: domain_right_edge         = [25000. 25000. 25000.]\n",
      "yt : [INFO     ] 2025-05-19 09:04:25,084 Parameters: cosmological_simulation   = True\n",
      "yt : [INFO     ] 2025-05-19 09:04:25,084 Parameters: current_redshift          = 1.0476023211521182\n",
      "yt : [INFO     ] 2025-05-19 09:04:25,085 Parameters: omega_lambda              = 0.7\n",
      "yt : [INFO     ] 2025-05-19 09:04:25,086 Parameters: omega_matter              = 0.3\n",
      "yt : [INFO     ] 2025-05-19 09:04:25,087 Parameters: omega_radiation           = 0.0\n",
      "yt : [INFO     ] 2025-05-19 09:04:25,175 Parameters: hubble_constant           = 0.6711\n",
      "yt : [WARNING  ] 2025-05-19 09:04:25,177 The hot_gas particle filter already exists. Overriding.\n",
      "yt : [INFO     ] 2025-05-19 09:04:25,197 Making a fixed resolution buffer of (('hot_gas', 'xray_emissivity_0.5_2_keV')) 500 by 500\n",
      "yt : [INFO     ] 2025-05-19 09:04:25,286 Allocating for 3214 particles\n",
      "ex1 Halos:  70%|██████▉   | 37/53 [25:35<12:25, 46.62s/it]yt : [INFO     ] 2025-05-19 09:04:32,593 Making a fixed resolution buffer of (('hot_gas', 'xray_emissivity_0.5_2_keV')) 500 by 500\n",
      "yt : [INFO     ] 2025-05-19 09:04:32,786 Calculating time from 4.884e-01 to be 1.833e+17 seconds\n",
      "yt : [INFO     ] 2025-05-19 09:04:33,195 Parameters: current_time              = 1.832656005258152e+17 s\n",
      "yt : [INFO     ] 2025-05-19 09:04:33,275 Parameters: domain_dimensions         = [1 1 1]\n",
      "yt : [INFO     ] 2025-05-19 09:04:33,276 Parameters: domain_left_edge          = [0. 0. 0.]\n",
      "yt : [INFO     ] 2025-05-19 09:04:33,277 Parameters: domain_right_edge         = [25000. 25000. 25000.]\n",
      "yt : [INFO     ] 2025-05-19 09:04:33,279 Parameters: cosmological_simulation   = True\n",
      "yt : [INFO     ] 2025-05-19 09:04:33,280 Parameters: current_redshift          = 1.0476023211521182\n",
      "yt : [INFO     ] 2025-05-19 09:04:33,281 Parameters: omega_lambda              = 0.7\n",
      "yt : [INFO     ] 2025-05-19 09:04:33,282 Parameters: omega_matter              = 0.3\n",
      "yt : [INFO     ] 2025-05-19 09:04:33,283 Parameters: omega_radiation           = 0.0\n",
      "yt : [INFO     ] 2025-05-19 09:04:33,284 Parameters: hubble_constant           = 0.6711\n",
      "yt : [WARNING  ] 2025-05-19 09:04:33,286 The hot_gas particle filter already exists. Overriding.\n",
      "yt : [INFO     ] 2025-05-19 09:04:33,478 Allocating for 6421 particles\n",
      "ex1 Halos:  72%|███████▏  | 38/53 [25:42<08:42, 34.82s/it]yt : [INFO     ] 2025-05-19 09:04:39,385 Making a fixed resolution buffer of (('hot_gas', 'xray_emissivity_0.5_2_keV')) 500 by 500\n",
      "yt : [INFO     ] 2025-05-19 09:04:40,175 Calculating time from 4.884e-01 to be 1.833e+17 seconds\n",
      "yt : [INFO     ] 2025-05-19 09:04:40,591 Parameters: current_time              = 1.832656005258152e+17 s\n",
      "yt : [INFO     ] 2025-05-19 09:04:40,593 Parameters: domain_dimensions         = [1 1 1]\n",
      "yt : [INFO     ] 2025-05-19 09:04:40,675 Parameters: domain_left_edge          = [0. 0. 0.]\n",
      "yt : [INFO     ] 2025-05-19 09:04:40,676 Parameters: domain_right_edge         = [25000. 25000. 25000.]\n",
      "yt : [INFO     ] 2025-05-19 09:04:40,677 Parameters: cosmological_simulation   = True\n",
      "yt : [INFO     ] 2025-05-19 09:04:40,678 Parameters: current_redshift          = 1.0476023211521182\n",
      "yt : [INFO     ] 2025-05-19 09:04:40,679 Parameters: omega_lambda              = 0.7\n",
      "yt : [INFO     ] 2025-05-19 09:04:40,680 Parameters: omega_matter              = 0.3\n",
      "yt : [INFO     ] 2025-05-19 09:04:40,681 Parameters: omega_radiation           = 0.0\n",
      "yt : [INFO     ] 2025-05-19 09:04:40,682 Parameters: hubble_constant           = 0.6711\n",
      "yt : [WARNING  ] 2025-05-19 09:04:40,685 The hot_gas particle filter already exists. Overriding.\n",
      "yt : [INFO     ] 2025-05-19 09:04:40,877 Allocating for 7762 particles\n",
      "ex1 Halos:  74%|███████▎  | 39/53 [25:49<06:09, 26.42s/it]yt : [INFO     ] 2025-05-19 09:04:46,583 Making a fixed resolution buffer of (('hot_gas', 'xray_emissivity_0.5_2_keV')) 500 by 500\n",
      "yt : [INFO     ] 2025-05-19 09:04:46,775 Calculating time from 4.884e-01 to be 1.833e+17 seconds\n",
      "yt : [INFO     ] 2025-05-19 09:04:47,192 Parameters: current_time              = 1.832656005258152e+17 s\n",
      "yt : [INFO     ] 2025-05-19 09:04:47,275 Parameters: domain_dimensions         = [1 1 1]\n",
      "yt : [INFO     ] 2025-05-19 09:04:47,278 Parameters: domain_left_edge          = [0. 0. 0.]\n",
      "yt : [INFO     ] 2025-05-19 09:04:47,279 Parameters: domain_right_edge         = [25000. 25000. 25000.]\n",
      "yt : [INFO     ] 2025-05-19 09:04:47,280 Parameters: cosmological_simulation   = True\n",
      "yt : [INFO     ] 2025-05-19 09:04:47,281 Parameters: current_redshift          = 1.0476023211521182\n",
      "yt : [INFO     ] 2025-05-19 09:04:47,282 Parameters: omega_lambda              = 0.7\n",
      "yt : [INFO     ] 2025-05-19 09:04:47,283 Parameters: omega_matter              = 0.3\n",
      "yt : [INFO     ] 2025-05-19 09:04:47,284 Parameters: omega_radiation           = 0.0\n",
      "yt : [INFO     ] 2025-05-19 09:04:47,285 Parameters: hubble_constant           = 0.6711\n",
      "yt : [WARNING  ] 2025-05-19 09:04:47,288 The hot_gas particle filter already exists. Overriding.\n",
      "yt : [INFO     ] 2025-05-19 09:04:47,497 Allocating for 7118 particles\n",
      "pyxsim : [INFO     ] 2025-05-19 09:04:47,884 kT_min = 0.025 keV\n",
      "pyxsim : [INFO     ] 2025-05-19 09:04:47,887 kT_max = 64 keV\n",
      "pyxsim : [INFO     ] 2025-05-19 09:04:47,889 Using emission measure field '('hot_gas', 'emission_measure')'.\n",
      "pyxsim : [INFO     ] 2025-05-19 09:04:47,890 Using temperature field '('hot_gas', 'temperature')'.\n"
     ]
    },
    {
     "data": {
      "application/vnd.jupyter.widget-view+json": {
       "model_id": "5e2d9965930c4f7892405b8987dd6c97",
       "version_major": 2,
       "version_minor": 0
      },
      "text/plain": [
       "Preparing spectrum table :   0%|          | 0/138 [00:00<?, ?it/s]"
      ]
     },
     "metadata": {},
     "output_type": "display_data"
    },
    {
     "name": "stderr",
     "output_type": "stream",
     "text": [
      "ex1 Halos:  75%|███████▌  | 40/53 [25:56<04:30, 20.83s/it]yt : [INFO     ] 2025-05-19 09:04:54,494 Calculating time from 4.884e-01 to be 1.833e+17 seconds\n",
      "yt : [INFO     ] 2025-05-19 09:04:54,990 Parameters: current_time              = 1.832656005258152e+17 s\n",
      "yt : [INFO     ] 2025-05-19 09:04:54,992 Parameters: domain_dimensions         = [1 1 1]\n",
      "yt : [INFO     ] 2025-05-19 09:04:55,075 Parameters: domain_left_edge          = [0. 0. 0.]\n",
      "yt : [INFO     ] 2025-05-19 09:04:55,076 Parameters: domain_right_edge         = [25000. 25000. 25000.]\n",
      "yt : [INFO     ] 2025-05-19 09:04:55,077 Parameters: cosmological_simulation   = True\n",
      "yt : [INFO     ] 2025-05-19 09:04:55,078 Parameters: current_redshift          = 1.0476023211521182\n",
      "yt : [INFO     ] 2025-05-19 09:04:55,079 Parameters: omega_lambda              = 0.7\n",
      "yt : [INFO     ] 2025-05-19 09:04:55,080 Parameters: omega_matter              = 0.3\n",
      "yt : [INFO     ] 2025-05-19 09:04:55,081 Parameters: omega_radiation           = 0.0\n",
      "yt : [INFO     ] 2025-05-19 09:04:55,082 Parameters: hubble_constant           = 0.6711\n",
      "yt : [WARNING  ] 2025-05-19 09:04:55,084 The hot_gas particle filter already exists. Overriding.\n",
      "yt : [INFO     ] 2025-05-19 09:04:55,294 Allocating for 7294 particles\n",
      "pyxsim : [INFO     ] 2025-05-19 09:04:55,483 kT_min = 0.025 keV\n",
      "pyxsim : [INFO     ] 2025-05-19 09:04:55,486 kT_max = 64 keV\n",
      "pyxsim : [INFO     ] 2025-05-19 09:04:55,488 Using emission measure field '('hot_gas', 'emission_measure')'.\n",
      "pyxsim : [INFO     ] 2025-05-19 09:04:55,489 Using temperature field '('hot_gas', 'temperature')'.\n"
     ]
    },
    {
     "data": {
      "application/vnd.jupyter.widget-view+json": {
       "model_id": "7ab686524ee44247b4bcda531ad583eb",
       "version_major": 2,
       "version_minor": 0
      },
      "text/plain": [
       "Preparing spectrum table :   0%|          | 0/138 [00:00<?, ?it/s]"
      ]
     },
     "metadata": {},
     "output_type": "display_data"
    },
    {
     "name": "stderr",
     "output_type": "stream",
     "text": [
      "pyxsim : [INFO     ] 2025-05-19 09:05:01,688 kT_min = 0.025 keV\n",
      "pyxsim : [INFO     ] 2025-05-19 09:05:01,690 kT_max = 64 keV\n",
      "pyxsim : [INFO     ] 2025-05-19 09:05:01,692 Using emission measure field '('hot_gas', 'emission_measure')'.\n",
      "pyxsim : [INFO     ] 2025-05-19 09:05:01,693 Using temperature field '('hot_gas', 'temperature')'.\n"
     ]
    },
    {
     "data": {
      "application/vnd.jupyter.widget-view+json": {
       "model_id": "3a4dd9e0b2f7458ab8238e2b639ef1af",
       "version_major": 2,
       "version_minor": 0
      },
      "text/plain": [
       "Preparing spectrum table :   0%|          | 0/138 [00:00<?, ?it/s]"
      ]
     },
     "metadata": {},
     "output_type": "display_data"
    },
    {
     "name": "stderr",
     "output_type": "stream",
     "text": [
      "pyxsim : [INFO     ] 2025-05-19 09:05:08,290 kT_min = 0.025 keV\n",
      "pyxsim : [INFO     ] 2025-05-19 09:05:08,375 kT_max = 64 keV\n",
      "pyxsim : [INFO     ] 2025-05-19 09:05:08,379 Using emission measure field '('hot_gas', 'emission_measure')'.\n",
      "pyxsim : [INFO     ] 2025-05-19 09:05:08,380 Using temperature field '('hot_gas', 'temperature')'.\n"
     ]
    },
    {
     "data": {
      "application/vnd.jupyter.widget-view+json": {
       "model_id": "77f90e4a73424b92b6916e65ada42ba6",
       "version_major": 2,
       "version_minor": 0
      },
      "text/plain": [
       "Preparing spectrum table :   0%|          | 0/138 [00:00<?, ?it/s]"
      ]
     },
     "metadata": {},
     "output_type": "display_data"
    },
    {
     "name": "stderr",
     "output_type": "stream",
     "text": [
      "pyxsim : [INFO     ] 2025-05-19 09:05:14,486 kT_min = 0.025 keV\n",
      "pyxsim : [INFO     ] 2025-05-19 09:05:14,490 kT_max = 64 keV\n",
      "pyxsim : [INFO     ] 2025-05-19 09:05:14,575 Using emission measure field '('hot_gas', 'emission_measure')'.\n",
      "pyxsim : [INFO     ] 2025-05-19 09:05:14,576 Using temperature field '('hot_gas', 'temperature')'.\n"
     ]
    },
    {
     "data": {
      "application/vnd.jupyter.widget-view+json": {
       "model_id": "48290d482f9c4cd0af9287f7d1371278",
       "version_major": 2,
       "version_minor": 0
      },
      "text/plain": [
       "Preparing spectrum table :   0%|          | 0/138 [00:00<?, ?it/s]"
      ]
     },
     "metadata": {},
     "output_type": "display_data"
    },
    {
     "name": "stderr",
     "output_type": "stream",
     "text": [
      "yt : [INFO     ] 2025-05-19 09:07:27,577 Making a fixed resolution buffer of (('hot_gas', 'xray_emissivity_0.5_2_keV')) 500 by 500\n",
      "ex1 Halos:  77%|███████▋  | 41/53 [28:37<12:33, 62.82s/it]yt : [INFO     ] 2025-05-19 09:07:34,481 Making a fixed resolution buffer of (('hot_gas', 'xray_emissivity_0.5_2_keV')) 500 by 500\n",
      "yt : [INFO     ] 2025-05-19 09:07:34,774 Calculating time from 4.884e-01 to be 1.833e+17 seconds\n",
      "yt : [INFO     ] 2025-05-19 09:07:35,287 Parameters: current_time              = 1.832656005258152e+17 s\n",
      "yt : [INFO     ] 2025-05-19 09:07:35,289 Parameters: domain_dimensions         = [1 1 1]\n",
      "yt : [INFO     ] 2025-05-19 09:07:35,290 Parameters: domain_left_edge          = [0. 0. 0.]\n",
      "yt : [INFO     ] 2025-05-19 09:07:35,291 Parameters: domain_right_edge         = [25000. 25000. 25000.]\n",
      "yt : [INFO     ] 2025-05-19 09:07:35,375 Parameters: cosmological_simulation   = True\n",
      "yt : [INFO     ] 2025-05-19 09:07:35,377 Parameters: current_redshift          = 1.0476023211521182\n",
      "yt : [INFO     ] 2025-05-19 09:07:35,377 Parameters: omega_lambda              = 0.7\n",
      "yt : [INFO     ] 2025-05-19 09:07:35,378 Parameters: omega_matter              = 0.3\n",
      "yt : [INFO     ] 2025-05-19 09:07:35,379 Parameters: omega_radiation           = 0.0\n",
      "yt : [INFO     ] 2025-05-19 09:07:35,380 Parameters: hubble_constant           = 0.6711\n",
      "yt : [WARNING  ] 2025-05-19 09:07:35,382 The hot_gas particle filter already exists. Overriding.\n",
      "yt : [INFO     ] 2025-05-19 09:07:35,580 Allocating for 2005 particles\n",
      "ex1 Halos:  79%|███████▉  | 42/53 [28:44<08:25, 45.96s/it]yt : [INFO     ] 2025-05-19 09:07:41,079 Making a fixed resolution buffer of (('hot_gas', 'xray_emissivity_0.5_2_keV')) 500 by 500\n",
      "yt : [INFO     ] 2025-05-19 09:07:42,086 Calculating time from 4.884e-01 to be 1.833e+17 seconds\n",
      "yt : [INFO     ] 2025-05-19 09:07:42,576 Parameters: current_time              = 1.832656005258152e+17 s\n",
      "yt : [INFO     ] 2025-05-19 09:07:42,579 Parameters: domain_dimensions         = [1 1 1]\n",
      "yt : [INFO     ] 2025-05-19 09:07:42,581 Parameters: domain_left_edge          = [0. 0. 0.]\n",
      "yt : [INFO     ] 2025-05-19 09:07:42,582 Parameters: domain_right_edge         = [25000. 25000. 25000.]\n",
      "yt : [INFO     ] 2025-05-19 09:07:42,584 Parameters: cosmological_simulation   = True\n",
      "yt : [INFO     ] 2025-05-19 09:07:42,585 Parameters: current_redshift          = 1.0476023211521182\n",
      "yt : [INFO     ] 2025-05-19 09:07:42,586 Parameters: omega_lambda              = 0.7\n",
      "yt : [INFO     ] 2025-05-19 09:07:42,587 Parameters: omega_matter              = 0.3\n",
      "yt : [INFO     ] 2025-05-19 09:07:42,589 Parameters: omega_radiation           = 0.0\n",
      "yt : [INFO     ] 2025-05-19 09:07:42,590 Parameters: hubble_constant           = 0.6711\n",
      "yt : [WARNING  ] 2025-05-19 09:07:42,675 The hot_gas particle filter already exists. Overriding.\n",
      "yt : [INFO     ] 2025-05-19 09:07:42,878 Allocating for 6270 particles\n",
      "ex1 Halos:  81%|████████  | 43/53 [28:51<05:42, 34.26s/it]yt : [INFO     ] 2025-05-19 09:07:48,780 Calculating time from 4.884e-01 to be 1.833e+17 seconds\n",
      "yt : [INFO     ] 2025-05-19 09:07:49,384 Parameters: current_time              = 1.832656005258152e+17 s\n",
      "yt : [INFO     ] 2025-05-19 09:07:49,386 Parameters: domain_dimensions         = [1 1 1]\n",
      "yt : [INFO     ] 2025-05-19 09:07:49,387 Parameters: domain_left_edge          = [0. 0. 0.]\n",
      "yt : [INFO     ] 2025-05-19 09:07:49,388 Parameters: domain_right_edge         = [25000. 25000. 25000.]\n",
      "yt : [INFO     ] 2025-05-19 09:07:49,389 Parameters: cosmological_simulation   = True\n",
      "yt : [INFO     ] 2025-05-19 09:07:49,390 Parameters: current_redshift          = 1.0476023211521182\n",
      "yt : [INFO     ] 2025-05-19 09:07:49,475 Parameters: omega_lambda              = 0.7\n",
      "yt : [INFO     ] 2025-05-19 09:07:49,476 Parameters: omega_matter              = 0.3\n",
      "yt : [INFO     ] 2025-05-19 09:07:49,476 Parameters: omega_radiation           = 0.0\n",
      "yt : [INFO     ] 2025-05-19 09:07:49,477 Parameters: hubble_constant           = 0.6711\n",
      "yt : [WARNING  ] 2025-05-19 09:07:49,479 The hot_gas particle filter already exists. Overriding.\n",
      "yt : [INFO     ] 2025-05-19 09:07:49,676 Allocating for 2596 particles\n",
      "yt : [INFO     ] 2025-05-19 09:07:50,379 Making a fixed resolution buffer of (('hot_gas', 'xray_emissivity_0.5_2_keV')) 500 by 500\n",
      "ex1 Halos:  83%|████████▎ | 44/53 [29:00<03:59, 26.66s/it]yt : [INFO     ] 2025-05-19 09:07:57,891 Calculating time from 4.884e-01 to be 1.833e+17 seconds\n",
      "yt : [INFO     ] 2025-05-19 09:07:58,476 Parameters: current_time              = 1.832656005258152e+17 s\n",
      "yt : [INFO     ] 2025-05-19 09:07:58,478 Parameters: domain_dimensions         = [1 1 1]\n",
      "yt : [INFO     ] 2025-05-19 09:07:58,479 Parameters: domain_left_edge          = [0. 0. 0.]\n",
      "yt : [INFO     ] 2025-05-19 09:07:58,480 Parameters: domain_right_edge         = [25000. 25000. 25000.]\n",
      "yt : [INFO     ] 2025-05-19 09:07:58,481 Parameters: cosmological_simulation   = True\n",
      "yt : [INFO     ] 2025-05-19 09:07:58,482 Parameters: current_redshift          = 1.0476023211521182\n",
      "yt : [INFO     ] 2025-05-19 09:07:58,483 Parameters: omega_lambda              = 0.7\n",
      "yt : [INFO     ] 2025-05-19 09:07:58,483 Parameters: omega_matter              = 0.3\n",
      "yt : [INFO     ] 2025-05-19 09:07:58,484 Parameters: omega_radiation           = 0.0\n",
      "yt : [INFO     ] 2025-05-19 09:07:58,485 Parameters: hubble_constant           = 0.6711\n",
      "yt : [WARNING  ] 2025-05-19 09:07:58,575 The hot_gas particle filter already exists. Overriding.\n",
      "yt : [INFO     ] 2025-05-19 09:07:58,693 Allocating for 5942 particles\n",
      "yt : [INFO     ] 2025-05-19 09:07:58,778 Making a fixed resolution buffer of (('hot_gas', 'xray_emissivity_0.5_2_keV')) 500 by 500\n",
      "pyxsim : [INFO     ] 2025-05-19 09:08:00,481 kT_min = 0.025 keV\n",
      "pyxsim : [INFO     ] 2025-05-19 09:08:00,484 kT_max = 64 keV\n",
      "pyxsim : [INFO     ] 2025-05-19 09:08:00,486 Using emission measure field '('hot_gas', 'emission_measure')'.\n",
      "pyxsim : [INFO     ] 2025-05-19 09:08:00,487 Using temperature field '('hot_gas', 'temperature')'.\n"
     ]
    },
    {
     "data": {
      "application/vnd.jupyter.widget-view+json": {
       "model_id": "de70bc3f514343c0b136a8e3f5851134",
       "version_major": 2,
       "version_minor": 0
      },
      "text/plain": [
       "Preparing spectrum table :   0%|          | 0/138 [00:00<?, ?it/s]"
      ]
     },
     "metadata": {},
     "output_type": "display_data"
    },
    {
     "name": "stderr",
     "output_type": "stream",
     "text": [
      "ex1 Halos:  85%|████████▍ | 45/53 [29:08<02:49, 21.24s/it]yt : [INFO     ] 2025-05-19 09:08:06,193 Calculating time from 4.884e-01 to be 1.833e+17 seconds\n",
      "yt : [INFO     ] 2025-05-19 09:08:06,686 Parameters: current_time              = 1.832656005258152e+17 s\n",
      "yt : [INFO     ] 2025-05-19 09:08:06,688 Parameters: domain_dimensions         = [1 1 1]\n",
      "yt : [INFO     ] 2025-05-19 09:08:06,689 Parameters: domain_left_edge          = [0. 0. 0.]\n",
      "yt : [INFO     ] 2025-05-19 09:08:06,690 Parameters: domain_right_edge         = [25000. 25000. 25000.]\n",
      "yt : [INFO     ] 2025-05-19 09:08:06,691 Parameters: cosmological_simulation   = True\n",
      "yt : [INFO     ] 2025-05-19 09:08:06,692 Parameters: current_redshift          = 1.0476023211521182\n",
      "yt : [INFO     ] 2025-05-19 09:08:06,693 Parameters: omega_lambda              = 0.7\n",
      "yt : [INFO     ] 2025-05-19 09:08:06,775 Parameters: omega_matter              = 0.3\n",
      "yt : [INFO     ] 2025-05-19 09:08:06,776 Parameters: omega_radiation           = 0.0\n",
      "yt : [INFO     ] 2025-05-19 09:08:06,777 Parameters: hubble_constant           = 0.6711\n",
      "yt : [WARNING  ] 2025-05-19 09:08:06,779 The hot_gas particle filter already exists. Overriding.\n",
      "yt : [INFO     ] 2025-05-19 09:08:06,977 Allocating for 6270 particles\n",
      "pyxsim : [INFO     ] 2025-05-19 09:08:08,483 kT_min = 0.025 keV\n",
      "pyxsim : [INFO     ] 2025-05-19 09:08:08,486 kT_max = 64 keV\n",
      "pyxsim : [INFO     ] 2025-05-19 09:08:08,490 Using emission measure field '('hot_gas', 'emission_measure')'.\n",
      "pyxsim : [INFO     ] 2025-05-19 09:08:08,491 Using temperature field '('hot_gas', 'temperature')'.\n"
     ]
    },
    {
     "data": {
      "application/vnd.jupyter.widget-view+json": {
       "model_id": "d41fdd447e7c48eab784c37dfe6d5c9a",
       "version_major": 2,
       "version_minor": 0
      },
      "text/plain": [
       "Preparing spectrum table :   0%|          | 0/138 [00:00<?, ?it/s]"
      ]
     },
     "metadata": {},
     "output_type": "display_data"
    },
    {
     "name": "stderr",
     "output_type": "stream",
     "text": [
      "pyxsim : [INFO     ] 2025-05-19 09:08:12,292 kT_min = 0.025 keV\n",
      "pyxsim : [INFO     ] 2025-05-19 09:08:12,376 kT_max = 64 keV\n",
      "pyxsim : [INFO     ] 2025-05-19 09:08:12,378 Using emission measure field '('hot_gas', 'emission_measure')'.\n",
      "pyxsim : [INFO     ] 2025-05-19 09:08:12,379 Using temperature field '('hot_gas', 'temperature')'.\n"
     ]
    },
    {
     "data": {
      "application/vnd.jupyter.widget-view+json": {
       "model_id": "b6f7296f91504936b1b25b764f4b8c8b",
       "version_major": 2,
       "version_minor": 0
      },
      "text/plain": [
       "Preparing spectrum table :   0%|          | 0/138 [00:00<?, ?it/s]"
      ]
     },
     "metadata": {},
     "output_type": "display_data"
    },
    {
     "name": "stderr",
     "output_type": "stream",
     "text": [
      "pyxsim : [INFO     ] 2025-05-19 09:08:19,694 kT_min = 0.025 keV\n",
      "pyxsim : [INFO     ] 2025-05-19 09:08:19,697 kT_max = 64 keV\n",
      "pyxsim : [INFO     ] 2025-05-19 09:08:19,776 Using emission measure field '('hot_gas', 'emission_measure')'.\n",
      "pyxsim : [INFO     ] 2025-05-19 09:08:19,778 Using temperature field '('hot_gas', 'temperature')'.\n"
     ]
    },
    {
     "data": {
      "application/vnd.jupyter.widget-view+json": {
       "model_id": "4daa3a8023c2462d974bb224101bc4e5",
       "version_major": 2,
       "version_minor": 0
      },
      "text/plain": [
       "Preparing spectrum table :   0%|          | 0/138 [00:00<?, ?it/s]"
      ]
     },
     "metadata": {},
     "output_type": "display_data"
    },
    {
     "name": "stderr",
     "output_type": "stream",
     "text": [
      "pyxsim : [INFO     ] 2025-05-19 09:08:26,888 kT_min = 0.025 keV\n",
      "pyxsim : [INFO     ] 2025-05-19 09:08:26,976 kT_max = 64 keV\n",
      "pyxsim : [INFO     ] 2025-05-19 09:08:26,980 Using emission measure field '('hot_gas', 'emission_measure')'.\n",
      "pyxsim : [INFO     ] 2025-05-19 09:08:26,981 Using temperature field '('hot_gas', 'temperature')'.\n"
     ]
    },
    {
     "data": {
      "application/vnd.jupyter.widget-view+json": {
       "model_id": "95d9ef05ab264fb38e39f1378bf27e8c",
       "version_major": 2,
       "version_minor": 0
      },
      "text/plain": [
       "Preparing spectrum table :   0%|          | 0/138 [00:00<?, ?it/s]"
      ]
     },
     "metadata": {},
     "output_type": "display_data"
    },
    {
     "name": "stderr",
     "output_type": "stream",
     "text": [
      "yt : [INFO     ] 2025-05-19 09:10:39,288 Making a fixed resolution buffer of (('hot_gas', 'xray_emissivity_0.5_2_keV')) 500 by 500\n",
      "ex1 Halos:  87%|████████▋ | 46/53 [31:48<07:19, 62.84s/it]yt : [INFO     ] 2025-05-19 09:10:45,886 Calculating time from 4.884e-01 to be 1.833e+17 seconds\n",
      "yt : [INFO     ] 2025-05-19 09:10:46,678 Parameters: current_time              = 1.832656005258152e+17 s\n",
      "yt : [INFO     ] 2025-05-19 09:10:46,680 Parameters: domain_dimensions         = [1 1 1]\n",
      "yt : [INFO     ] 2025-05-19 09:10:46,681 Parameters: domain_left_edge          = [0. 0. 0.]\n",
      "yt : [INFO     ] 2025-05-19 09:10:46,683 Parameters: domain_right_edge         = [25000. 25000. 25000.]\n",
      "yt : [INFO     ] 2025-05-19 09:10:46,684 Parameters: cosmological_simulation   = True\n",
      "yt : [INFO     ] 2025-05-19 09:10:46,685 Parameters: current_redshift          = 1.0476023211521182\n",
      "yt : [INFO     ] 2025-05-19 09:10:46,685 Parameters: omega_lambda              = 0.7\n",
      "yt : [INFO     ] 2025-05-19 09:10:46,686 Parameters: omega_matter              = 0.3\n",
      "yt : [INFO     ] 2025-05-19 09:10:46,687 Parameters: omega_radiation           = 0.0\n",
      "yt : [INFO     ] 2025-05-19 09:10:46,688 Parameters: hubble_constant           = 0.6711\n",
      "yt : [WARNING  ] 2025-05-19 09:10:46,775 The hot_gas particle filter already exists. Overriding.\n",
      "yt : [INFO     ] 2025-05-19 09:10:46,888 Allocating for 2677 particles\n",
      "yt : [INFO     ] 2025-05-19 09:10:49,376 Making a fixed resolution buffer of (('hot_gas', 'xray_emissivity_0.5_2_keV')) 500 by 500\n",
      "yt : [INFO     ] 2025-05-19 09:10:51,291 Making a fixed resolution buffer of (('hot_gas', 'xray_emissivity_0.5_2_keV')) 500 by 500\n",
      "ex1 Halos:  91%|█████████ | 48/53 [32:02<02:49, 33.95s/it]yt : [INFO     ] 2025-05-19 09:10:57,281 Calculating time from 4.884e-01 to be 1.833e+17 seconds\n",
      "yt : [INFO     ] 2025-05-19 09:10:57,685 Parameters: current_time              = 1.832656005258152e+17 s\n",
      "yt : [INFO     ] 2025-05-19 09:10:57,688 Parameters: domain_dimensions         = [1 1 1]\n",
      "yt : [INFO     ] 2025-05-19 09:10:57,689 Parameters: domain_left_edge          = [0. 0. 0.]\n",
      "yt : [INFO     ] 2025-05-19 09:10:57,690 Parameters: domain_right_edge         = [25000. 25000. 25000.]\n",
      "yt : [INFO     ] 2025-05-19 09:10:57,691 Parameters: cosmological_simulation   = True\n",
      "yt : [INFO     ] 2025-05-19 09:10:57,692 Parameters: current_redshift          = 1.0476023211521182\n",
      "yt : [INFO     ] 2025-05-19 09:10:57,775 Parameters: omega_lambda              = 0.7\n",
      "yt : [INFO     ] 2025-05-19 09:10:57,776 Parameters: omega_matter              = 0.3\n",
      "yt : [INFO     ] 2025-05-19 09:10:57,777 Parameters: omega_radiation           = 0.0\n",
      "yt : [INFO     ] 2025-05-19 09:10:57,777 Parameters: hubble_constant           = 0.6711\n",
      "yt : [WARNING  ] 2025-05-19 09:10:57,780 The hot_gas particle filter already exists. Overriding.\n",
      "yt : [INFO     ] 2025-05-19 09:10:57,895 Allocating for 1461 particles\n",
      "yt : [INFO     ] 2025-05-19 09:10:59,186 Calculating time from 4.884e-01 to be 1.833e+17 seconds\n",
      "yt : [INFO     ] 2025-05-19 09:10:59,783 Parameters: current_time              = 1.832656005258152e+17 s\n",
      "yt : [INFO     ] 2025-05-19 09:10:59,785 Parameters: domain_dimensions         = [1 1 1]\n",
      "yt : [INFO     ] 2025-05-19 09:10:59,786 Parameters: domain_left_edge          = [0. 0. 0.]\n",
      "yt : [INFO     ] 2025-05-19 09:10:59,787 Parameters: domain_right_edge         = [25000. 25000. 25000.]\n",
      "yt : [INFO     ] 2025-05-19 09:10:59,875 Parameters: cosmological_simulation   = True\n",
      "yt : [INFO     ] 2025-05-19 09:10:59,876 Parameters: current_redshift          = 1.0476023211521182\n",
      "yt : [INFO     ] 2025-05-19 09:10:59,876 Parameters: omega_lambda              = 0.7\n",
      "yt : [INFO     ] 2025-05-19 09:10:59,877 Parameters: omega_matter              = 0.3\n",
      "yt : [INFO     ] 2025-05-19 09:10:59,878 Parameters: omega_radiation           = 0.0\n",
      "yt : [INFO     ] 2025-05-19 09:10:59,879 Parameters: hubble_constant           = 0.6711\n",
      "yt : [WARNING  ] 2025-05-19 09:10:59,881 The hot_gas particle filter already exists. Overriding.\n",
      "yt : [INFO     ] 2025-05-19 09:11:00,082 Allocating for 1310 particles\n",
      "yt : [INFO     ] 2025-05-19 09:11:01,894 Making a fixed resolution buffer of (('hot_gas', 'xray_emissivity_0.5_2_keV')) 500 by 500\n",
      "ex1 Halos:  92%|█████████▏| 49/53 [32:11<01:46, 26.59s/it]yt : [INFO     ] 2025-05-19 09:11:07,390 Making a fixed resolution buffer of (('hot_gas', 'xray_emissivity_0.5_2_keV')) 500 by 500\n",
      "pyxsim : [INFO     ] 2025-05-19 09:11:08,478 kT_min = 0.025 keV\n",
      "pyxsim : [INFO     ] 2025-05-19 09:11:08,482 kT_max = 64 keV\n",
      "pyxsim : [INFO     ] 2025-05-19 09:11:08,484 Using emission measure field '('hot_gas', 'emission_measure')'.\n",
      "pyxsim : [INFO     ] 2025-05-19 09:11:08,485 Using temperature field '('hot_gas', 'temperature')'.\n"
     ]
    },
    {
     "data": {
      "application/vnd.jupyter.widget-view+json": {
       "model_id": "2768fca0f6844fc78c663ec3eb7482cf",
       "version_major": 2,
       "version_minor": 0
      },
      "text/plain": [
       "Preparing spectrum table :   0%|          | 0/138 [00:00<?, ?it/s]"
      ]
     },
     "metadata": {},
     "output_type": "display_data"
    },
    {
     "name": "stderr",
     "output_type": "stream",
     "text": [
      "ex1 Halos:  94%|█████████▍| 50/53 [32:16<01:00, 20.08s/it]pyxsim : [INFO     ] 2025-05-19 09:11:16,283 kT_min = 0.025 keV\n",
      "pyxsim : [INFO     ] 2025-05-19 09:11:16,286 kT_max = 64 keV\n",
      "pyxsim : [INFO     ] 2025-05-19 09:11:16,288 Using emission measure field '('hot_gas', 'emission_measure')'.\n",
      "pyxsim : [INFO     ] 2025-05-19 09:11:16,290 Using temperature field '('hot_gas', 'temperature')'.\n"
     ]
    },
    {
     "data": {
      "application/vnd.jupyter.widget-view+json": {
       "model_id": "c0787472ab454ffb88ce169ab96892a3",
       "version_major": 2,
       "version_minor": 0
      },
      "text/plain": [
       "Preparing spectrum table :   0%|          | 0/138 [00:00<?, ?it/s]"
      ]
     },
     "metadata": {},
     "output_type": "display_data"
    },
    {
     "name": "stderr",
     "output_type": "stream",
     "text": [
      "pyxsim : [INFO     ] 2025-05-19 09:11:17,595 kT_min = 0.025 keV\n",
      "pyxsim : [INFO     ] 2025-05-19 09:11:17,597 kT_max = 64 keV\n",
      "pyxsim : [INFO     ] 2025-05-19 09:11:17,600 Using emission measure field '('hot_gas', 'emission_measure')'.\n",
      "pyxsim : [INFO     ] 2025-05-19 09:11:17,601 Using temperature field '('hot_gas', 'temperature')'.\n"
     ]
    },
    {
     "data": {
      "application/vnd.jupyter.widget-view+json": {
       "model_id": "6da13d15c49a4b7e8dc3addd4b754a8f",
       "version_major": 2,
       "version_minor": 0
      },
      "text/plain": [
       "Preparing spectrum table :   0%|          | 0/138 [00:00<?, ?it/s]"
      ]
     },
     "metadata": {},
     "output_type": "display_data"
    },
    {
     "name": "stderr",
     "output_type": "stream",
     "text": [
      "yt : [INFO     ] 2025-05-19 09:12:46,881 Making a fixed resolution buffer of (('hot_gas', 'xray_emissivity_0.5_2_keV')) 500 by 500\n",
      "ex1 Halos:  96%|█████████▌| 51/53 [33:54<01:27, 43.52s/it]yt : [INFO     ] 2025-05-19 09:12:50,900 Making a fixed resolution buffer of (('hot_gas', 'xray_emissivity_0.5_2_keV')) 500 by 500\n",
      "ex1 Halos:  98%|█████████▊| 52/53 [33:58<00:31, 31.48s/it]yt : [INFO     ] 2025-05-19 09:12:53,394 Making a fixed resolution buffer of (('hot_gas', 'xray_emissivity_0.5_2_keV')) 500 by 500\n",
      "ex1 Halos: 100%|██████████| 53/53 [34:00<00:00, 38.50s/it]\n"
     ]
    },
    {
     "name": "stdout",
     "output_type": "stream",
     "text": [
      "✅ Saved xray_profile100_ex1_3.npz\n"
     ]
    },
    {
     "name": "stderr",
     "output_type": "stream",
     "text": [
      "ex2 Halos:   0%|          | 0/46 [00:00<?, ?it/s]yt : [INFO     ] 2025-05-19 09:13:02,493 Calculating time from 4.884e-01 to be 1.833e+17 seconds\n",
      "yt : [INFO     ] 2025-05-19 09:13:02,595 Calculating time from 4.884e-01 to be 1.833e+17 seconds\n",
      "yt : [INFO     ] 2025-05-19 09:13:02,676 Calculating time from 4.884e-01 to be 1.833e+17 seconds\n",
      "yt : [INFO     ] 2025-05-19 09:13:02,678 Calculating time from 4.884e-01 to be 1.833e+17 seconds\n",
      "yt : [INFO     ] 2025-05-19 09:13:02,682 Calculating time from 4.884e-01 to be 1.833e+17 seconds\n",
      "yt : [INFO     ] 2025-05-19 09:13:04,491 Parameters: current_time              = 1.832656005258152e+17 s\n",
      "yt : [INFO     ] 2025-05-19 09:13:04,493 Parameters: domain_dimensions         = [1 1 1]\n",
      "yt : [INFO     ] 2025-05-19 09:13:04,575 Parameters: domain_left_edge          = [0. 0. 0.]\n",
      "yt : [INFO     ] 2025-05-19 09:13:04,576 Parameters: domain_right_edge         = [25000. 25000. 25000.]\n",
      "yt : [INFO     ] 2025-05-19 09:13:04,578 Parameters: cosmological_simulation   = True\n",
      "yt : [INFO     ] 2025-05-19 09:13:04,579 Parameters: current_redshift          = 1.0476023211521182\n",
      "yt : [INFO     ] 2025-05-19 09:13:04,579 Parameters: omega_lambda              = 0.7\n",
      "yt : [INFO     ] 2025-05-19 09:13:04,580 Parameters: omega_matter              = 0.3\n",
      "yt : [INFO     ] 2025-05-19 09:13:04,581 Parameters: omega_radiation           = 0.0\n",
      "yt : [INFO     ] 2025-05-19 09:13:04,582 Parameters: hubble_constant           = 0.6711\n",
      "yt : [INFO     ] 2025-05-19 09:13:04,788 Parameters: current_time              = 1.832656005258152e+17 s\n",
      "yt : [INFO     ] 2025-05-19 09:13:04,790 Parameters: domain_dimensions         = [1 1 1]\n",
      "yt : [INFO     ] 2025-05-19 09:13:04,791 Parameters: domain_left_edge          = [0. 0. 0.]\n",
      "yt : [INFO     ] 2025-05-19 09:13:04,792 Parameters: domain_right_edge         = [25000. 25000. 25000.]\n",
      "yt : [INFO     ] 2025-05-19 09:13:04,875 Parameters: cosmological_simulation   = True\n",
      "yt : [INFO     ] 2025-05-19 09:13:04,876 Parameters: current_redshift          = 1.0476023211521182\n",
      "yt : [INFO     ] 2025-05-19 09:13:04,877 Parameters: omega_lambda              = 0.7\n",
      "yt : [INFO     ] 2025-05-19 09:13:04,878 Parameters: omega_matter              = 0.3\n",
      "yt : [INFO     ] 2025-05-19 09:13:04,878 Parameters: omega_radiation           = 0.0\n",
      "yt : [INFO     ] 2025-05-19 09:13:04,879 Parameters: hubble_constant           = 0.6711\n",
      "yt : [INFO     ] 2025-05-19 09:13:04,877 Allocating for 1.579e+04 particles\n",
      "yt : [INFO     ] 2025-05-19 09:13:04,886 Parameters: current_time              = 1.832656005258152e+17 s\n",
      "yt : [INFO     ] 2025-05-19 09:13:04,887 Parameters: current_time              = 1.832656005258152e+17 s\n",
      "yt : [INFO     ] 2025-05-19 09:13:04,888 Parameters: domain_dimensions         = [1 1 1]\n",
      "yt : [INFO     ] 2025-05-19 09:13:04,889 Parameters: domain_left_edge          = [0. 0. 0.]\n",
      "yt : [INFO     ] 2025-05-19 09:13:04,890 Parameters: domain_right_edge         = [25000. 25000. 25000.]\n",
      "yt : [INFO     ] 2025-05-19 09:13:04,891 Parameters: cosmological_simulation   = True\n",
      "yt : [INFO     ] 2025-05-19 09:13:04,892 Parameters: current_redshift          = 1.0476023211521182\n",
      "yt : [INFO     ] 2025-05-19 09:13:04,893 Parameters: omega_lambda              = 0.7\n",
      "yt : [INFO     ] 2025-05-19 09:13:04,894 Parameters: omega_matter              = 0.3\n",
      "yt : [INFO     ] 2025-05-19 09:13:04,888 Parameters: domain_dimensions         = [1 1 1]\n",
      "yt : [INFO     ] 2025-05-19 09:13:04,974 Parameters: omega_radiation           = 0.0\n",
      "yt : [INFO     ] 2025-05-19 09:13:04,975 Parameters: hubble_constant           = 0.6711\n",
      "yt : [INFO     ] 2025-05-19 09:13:04,974 Parameters: domain_left_edge          = [0. 0. 0.]\n",
      "yt : [INFO     ] 2025-05-19 09:13:04,977 Parameters: domain_right_edge         = [25000. 25000. 25000.]\n",
      "yt : [INFO     ] 2025-05-19 09:13:04,978 Parameters: cosmological_simulation   = True\n",
      "yt : [INFO     ] 2025-05-19 09:13:04,979 Parameters: current_redshift          = 1.0476023211521182\n",
      "yt : [INFO     ] 2025-05-19 09:13:04,980 Parameters: omega_lambda              = 0.7\n",
      "yt : [INFO     ] 2025-05-19 09:13:04,981 Parameters: omega_matter              = 0.3\n",
      "yt : [INFO     ] 2025-05-19 09:13:04,982 Parameters: omega_radiation           = 0.0\n",
      "yt : [INFO     ] 2025-05-19 09:13:04,983 Parameters: hubble_constant           = 0.6711\n",
      "yt : [INFO     ] 2025-05-19 09:13:04,983 Parameters: current_time              = 1.832656005258152e+17 s\n",
      "yt : [INFO     ] 2025-05-19 09:13:04,985 Parameters: domain_dimensions         = [1 1 1]\n",
      "yt : [INFO     ] 2025-05-19 09:13:04,987 Parameters: domain_left_edge          = [0. 0. 0.]\n",
      "yt : [INFO     ] 2025-05-19 09:13:04,988 Parameters: domain_right_edge         = [25000. 25000. 25000.]\n",
      "yt : [INFO     ] 2025-05-19 09:13:04,989 Parameters: cosmological_simulation   = True\n",
      "yt : [INFO     ] 2025-05-19 09:13:04,990 Parameters: current_redshift          = 1.0476023211521182\n",
      "yt : [INFO     ] 2025-05-19 09:13:04,991 Parameters: omega_lambda              = 0.7\n",
      "yt : [INFO     ] 2025-05-19 09:13:04,992 Parameters: omega_matter              = 0.3\n",
      "yt : [INFO     ] 2025-05-19 09:13:05,074 Parameters: omega_radiation           = 0.0\n",
      "yt : [INFO     ] 2025-05-19 09:13:05,076 Parameters: hubble_constant           = 0.6711\n",
      "yt : [INFO     ] 2025-05-19 09:13:05,108 Allocating for 2.262e+04 particles\n",
      "yt : [INFO     ] 2025-05-19 09:13:05,194 Allocating for 1.741e+04 particles\n",
      "yt : [INFO     ] 2025-05-19 09:13:05,213 Allocating for 3.408e+04 particles\n",
      "yt : [INFO     ] 2025-05-19 09:13:05,274 Allocating for 1.818e+04 particles\n",
      "pyxsim : [INFO     ] 2025-05-19 09:13:23,391 kT_min = 0.025 keV\n",
      "pyxsim : [INFO     ] 2025-05-19 09:13:23,475 kT_max = 64 keV\n",
      "pyxsim : [INFO     ] 2025-05-19 09:13:23,478 Using emission measure field '('hot_gas', 'emission_measure')'.\n",
      "pyxsim : [INFO     ] 2025-05-19 09:13:23,479 Using temperature field '('hot_gas', 'temperature')'.\n",
      "pyxsim : [INFO     ] 2025-05-19 09:13:23,580 kT_min = 0.025 keV\n",
      "pyxsim : [INFO     ] 2025-05-19 09:13:23,583 kT_max = 64 keV\n",
      "pyxsim : [INFO     ] 2025-05-19 09:13:23,580 kT_min = 0.025 keV\n",
      "pyxsim : [INFO     ] 2025-05-19 09:13:23,584 kT_max = 64 keV\n"
     ]
    },
    {
     "data": {
      "application/vnd.jupyter.widget-view+json": {
       "model_id": "67062658106f4d0fb2412b1b2415ac7b",
       "version_major": 2,
       "version_minor": 0
      },
      "text/plain": [
       "Preparing spectrum table :   0%|          | 0/138 [00:00<?, ?it/s]"
      ]
     },
     "metadata": {},
     "output_type": "display_data"
    },
    {
     "name": "stderr",
     "output_type": "stream",
     "text": [
      "pyxsim : [INFO     ] 2025-05-19 09:13:23,586 Using emission measure field '('hot_gas', 'emission_measure')'.\n",
      "pyxsim : [INFO     ] 2025-05-19 09:13:23,587 Using emission measure field '('hot_gas', 'emission_measure')'.\n",
      "pyxsim : [INFO     ] 2025-05-19 09:13:23,587 Using temperature field '('hot_gas', 'temperature')'.\n",
      "pyxsim : [INFO     ] 2025-05-19 09:13:23,588 Using temperature field '('hot_gas', 'temperature')'.\n"
     ]
    },
    {
     "data": {
      "application/vnd.jupyter.widget-view+json": {
       "model_id": "40a75fd83e07482d8a62c2eb44f08b15",
       "version_major": 2,
       "version_minor": 0
      },
      "text/plain": [
       "Preparing spectrum table :   0%|          | 0/138 [00:00<?, ?it/s]"
      ]
     },
     "metadata": {},
     "output_type": "display_data"
    },
    {
     "data": {
      "application/vnd.jupyter.widget-view+json": {
       "model_id": "3081e050947f4295bfbc54881862e5f5",
       "version_major": 2,
       "version_minor": 0
      },
      "text/plain": [
       "Preparing spectrum table :   0%|          | 0/138 [00:00<?, ?it/s]"
      ]
     },
     "metadata": {},
     "output_type": "display_data"
    },
    {
     "name": "stderr",
     "output_type": "stream",
     "text": [
      "pyxsim : [INFO     ] 2025-05-19 09:13:25,091 kT_min = 0.025 keV\n",
      "pyxsim : [INFO     ] 2025-05-19 09:13:25,178 kT_max = 64 keV\n",
      "pyxsim : [INFO     ] 2025-05-19 09:13:25,176 kT_min = 0.025 keV\n",
      "pyxsim : [INFO     ] 2025-05-19 09:13:25,181 kT_max = 64 keV\n",
      "pyxsim : [INFO     ] 2025-05-19 09:13:25,183 Using emission measure field '('hot_gas', 'emission_measure')'.\n",
      "pyxsim : [INFO     ] 2025-05-19 09:13:25,184 Using temperature field '('hot_gas', 'temperature')'.\n",
      "pyxsim : [INFO     ] 2025-05-19 09:13:25,186 Using emission measure field '('hot_gas', 'emission_measure')'.\n",
      "pyxsim : [INFO     ] 2025-05-19 09:13:25,187 Using temperature field '('hot_gas', 'temperature')'.\n"
     ]
    },
    {
     "data": {
      "application/vnd.jupyter.widget-view+json": {
       "model_id": "de075aae97544f79b2ee188ce8e2ad87",
       "version_major": 2,
       "version_minor": 0
      },
      "text/plain": [
       "Preparing spectrum table :   0%|          | 0/138 [00:00<?, ?it/s]"
      ]
     },
     "metadata": {},
     "output_type": "display_data"
    },
    {
     "data": {
      "application/vnd.jupyter.widget-view+json": {
       "model_id": "649c9239abeb455d8ae08cfd8dc5e830",
       "version_major": 2,
       "version_minor": 0
      },
      "text/plain": [
       "Preparing spectrum table :   0%|          | 0/138 [00:00<?, ?it/s]"
      ]
     },
     "metadata": {},
     "output_type": "display_data"
    },
    {
     "name": "stderr",
     "output_type": "stream",
     "text": [
      "yt : [INFO     ] 2025-05-19 09:15:57,485 Making a fixed resolution buffer of (('hot_gas', 'xray_emissivity_0.5_2_keV')) 500 by 500\n",
      "yt : [INFO     ] 2025-05-19 09:15:58,478 Making a fixed resolution buffer of (('hot_gas', 'xray_emissivity_0.5_2_keV')) 500 by 500\n",
      "yt : [INFO     ] 2025-05-19 09:16:01,587 Making a fixed resolution buffer of (('hot_gas', 'xray_emissivity_0.5_2_keV')) 500 by 500\n",
      "yt : [INFO     ] 2025-05-19 09:16:02,481 Making a fixed resolution buffer of (('hot_gas', 'xray_emissivity_0.5_2_keV')) 500 by 500\n",
      "yt : [INFO     ] 2025-05-19 09:16:02,481 Making a fixed resolution buffer of (('hot_gas', 'xray_emissivity_0.5_2_keV')) 500 by 500\n",
      "ex2 Halos:   4%|▍         | 2/46 [03:10<57:51, 78.90s/it]   yt : [INFO     ] 2025-05-19 09:16:13,277 Calculating time from 4.884e-01 to be 1.833e+17 seconds\n",
      "yt : [INFO     ] 2025-05-19 09:16:15,977 Parameters: current_time              = 1.832656005258152e+17 s\n",
      "yt : [INFO     ] 2025-05-19 09:16:15,979 Parameters: domain_dimensions         = [1 1 1]\n",
      "yt : [INFO     ] 2025-05-19 09:16:15,981 Parameters: domain_left_edge          = [0. 0. 0.]\n",
      "yt : [INFO     ] 2025-05-19 09:16:15,982 Parameters: domain_right_edge         = [25000. 25000. 25000.]\n",
      "yt : [INFO     ] 2025-05-19 09:16:15,983 Parameters: cosmological_simulation   = True\n",
      "yt : [INFO     ] 2025-05-19 09:16:15,984 Parameters: current_redshift          = 1.0476023211521182\n",
      "yt : [INFO     ] 2025-05-19 09:16:16,074 Parameters: omega_lambda              = 0.7\n",
      "yt : [INFO     ] 2025-05-19 09:16:16,075 Parameters: omega_matter              = 0.3\n",
      "yt : [INFO     ] 2025-05-19 09:16:16,076 Parameters: omega_radiation           = 0.0\n",
      "yt : [INFO     ] 2025-05-19 09:16:16,077 Parameters: hubble_constant           = 0.6711\n",
      "ex2 Halos:   7%|▋         | 3/46 [03:20<33:53, 47.29s/it]yt : [WARNING  ] 2025-05-19 09:16:16,081 The hot_gas particle filter already exists. Overriding.\n",
      "ex2 Halos:  11%|█         | 5/46 [03:20<14:06, 20.64s/it]yt : [INFO     ] 2025-05-19 09:16:16,603 Allocating for 1.745e+04 particles\n",
      "yt : [INFO     ] 2025-05-19 09:16:16,682 Calculating time from 4.884e-01 to be 1.833e+17 seconds\n",
      "yt : [INFO     ] 2025-05-19 09:16:17,176 Parameters: current_time              = 1.832656005258152e+17 s\n",
      "yt : [INFO     ] 2025-05-19 09:16:17,179 Parameters: domain_dimensions         = [1 1 1]\n",
      "yt : [INFO     ] 2025-05-19 09:16:17,180 Parameters: domain_left_edge          = [0. 0. 0.]\n",
      "yt : [INFO     ] 2025-05-19 09:16:17,181 Parameters: domain_right_edge         = [25000. 25000. 25000.]\n",
      "yt : [INFO     ] 2025-05-19 09:16:17,182 Parameters: cosmological_simulation   = True\n",
      "yt : [INFO     ] 2025-05-19 09:16:17,184 Parameters: current_redshift          = 1.0476023211521182\n",
      "yt : [INFO     ] 2025-05-19 09:16:17,185 Parameters: omega_lambda              = 0.7\n",
      "yt : [INFO     ] 2025-05-19 09:16:17,185 Parameters: omega_matter              = 0.3\n",
      "yt : [INFO     ] 2025-05-19 09:16:17,186 Parameters: omega_radiation           = 0.0\n",
      "yt : [INFO     ] 2025-05-19 09:16:17,187 Parameters: hubble_constant           = 0.6711\n",
      "yt : [WARNING  ] 2025-05-19 09:16:17,191 The hot_gas particle filter already exists. Overriding.\n",
      "yt : [INFO     ] 2025-05-19 09:16:17,474 Allocating for 1.596e+04 particles\n",
      "yt : [INFO     ] 2025-05-19 09:16:19,887 Calculating time from 4.884e-01 to be 1.833e+17 seconds\n",
      "yt : [INFO     ] 2025-05-19 09:16:19,978 Calculating time from 4.884e-01 to be 1.833e+17 seconds\n",
      "yt : [INFO     ] 2025-05-19 09:16:20,189 Calculating time from 4.884e-01 to be 1.833e+17 seconds\n",
      "yt : [INFO     ] 2025-05-19 09:16:20,481 Parameters: current_time              = 1.832656005258152e+17 s\n",
      "yt : [INFO     ] 2025-05-19 09:16:20,483 Parameters: domain_dimensions         = [1 1 1]\n",
      "yt : [INFO     ] 2025-05-19 09:16:20,484 Parameters: domain_left_edge          = [0. 0. 0.]\n",
      "yt : [INFO     ] 2025-05-19 09:16:20,485 Parameters: domain_right_edge         = [25000. 25000. 25000.]\n",
      "yt : [INFO     ] 2025-05-19 09:16:20,486 Parameters: cosmological_simulation   = True\n",
      "yt : [INFO     ] 2025-05-19 09:16:20,487 Parameters: current_redshift          = 1.0476023211521182\n",
      "yt : [INFO     ] 2025-05-19 09:16:20,488 Parameters: omega_lambda              = 0.7\n",
      "yt : [INFO     ] 2025-05-19 09:16:20,489 Parameters: omega_matter              = 0.3\n",
      "yt : [INFO     ] 2025-05-19 09:16:20,490 Parameters: omega_radiation           = 0.0\n",
      "yt : [INFO     ] 2025-05-19 09:16:20,491 Parameters: hubble_constant           = 0.6711\n",
      "yt : [WARNING  ] 2025-05-19 09:16:20,576 The hot_gas particle filter already exists. Overriding.\n",
      "yt : [INFO     ] 2025-05-19 09:16:20,788 Parameters: current_time              = 1.832656005258152e+17 s\n",
      "yt : [INFO     ] 2025-05-19 09:16:20,790 Allocating for 1.571e+04 particles\n",
      "yt : [INFO     ] 2025-05-19 09:16:20,791 Parameters: domain_dimensions         = [1 1 1]\n",
      "yt : [INFO     ] 2025-05-19 09:16:20,792 Parameters: domain_left_edge          = [0. 0. 0.]\n",
      "yt : [INFO     ] 2025-05-19 09:16:20,874 Parameters: domain_right_edge         = [25000. 25000. 25000.]\n",
      "yt : [INFO     ] 2025-05-19 09:16:20,878 Parameters: cosmological_simulation   = True\n",
      "yt : [INFO     ] 2025-05-19 09:16:20,880 Parameters: current_redshift          = 1.0476023211521182\n",
      "yt : [INFO     ] 2025-05-19 09:16:20,880 Parameters: current_time              = 1.832656005258152e+17 s\n",
      "yt : [INFO     ] 2025-05-19 09:16:20,881 Parameters: omega_lambda              = 0.7\n",
      "yt : [INFO     ] 2025-05-19 09:16:20,882 Parameters: domain_dimensions         = [1 1 1]\n",
      "yt : [INFO     ] 2025-05-19 09:16:20,883 Parameters: omega_matter              = 0.3\n",
      "yt : [INFO     ] 2025-05-19 09:16:20,883 Parameters: domain_left_edge          = [0. 0. 0.]\n",
      "yt : [INFO     ] 2025-05-19 09:16:20,884 Parameters: omega_radiation           = 0.0\n",
      "yt : [INFO     ] 2025-05-19 09:16:20,884 Parameters: domain_right_edge         = [25000. 25000. 25000.]\n",
      "yt : [INFO     ] 2025-05-19 09:16:20,885 Parameters: hubble_constant           = 0.6711\n",
      "yt : [INFO     ] 2025-05-19 09:16:20,886 Parameters: cosmological_simulation   = True\n",
      "yt : [INFO     ] 2025-05-19 09:16:20,886 Parameters: current_redshift          = 1.0476023211521182\n",
      "yt : [INFO     ] 2025-05-19 09:16:20,887 Parameters: omega_lambda              = 0.7\n",
      "yt : [INFO     ] 2025-05-19 09:16:20,888 Parameters: omega_matter              = 0.3\n",
      "yt : [INFO     ] 2025-05-19 09:16:20,974 Parameters: omega_radiation           = 0.0\n",
      "yt : [INFO     ] 2025-05-19 09:16:20,977 Parameters: hubble_constant           = 0.6711\n",
      "yt : [WARNING  ] 2025-05-19 09:16:20,891 The hot_gas particle filter already exists. Overriding.\n",
      "yt : [WARNING  ] 2025-05-19 09:16:20,983 The hot_gas particle filter already exists. Overriding.\n",
      "yt : [INFO     ] 2025-05-19 09:16:21,211 Allocating for 1.493e+04 particles\n",
      "yt : [INFO     ] 2025-05-19 09:16:21,212 Allocating for 1.588e+04 particles\n",
      "pyxsim : [INFO     ] 2025-05-19 09:16:35,286 kT_min = 0.025 keV\n",
      "pyxsim : [INFO     ] 2025-05-19 09:16:35,291 kT_max = 64 keV\n",
      "pyxsim : [INFO     ] 2025-05-19 09:16:35,293 Using emission measure field '('hot_gas', 'emission_measure')'.\n",
      "pyxsim : [INFO     ] 2025-05-19 09:16:35,294 Using temperature field '('hot_gas', 'temperature')'.\n"
     ]
    },
    {
     "data": {
      "application/vnd.jupyter.widget-view+json": {
       "model_id": "2091a70c40ce45a6866c2504c94753f5",
       "version_major": 2,
       "version_minor": 0
      },
      "text/plain": [
       "Preparing spectrum table :   0%|          | 0/138 [00:00<?, ?it/s]"
      ]
     },
     "metadata": {},
     "output_type": "display_data"
    },
    {
     "name": "stderr",
     "output_type": "stream",
     "text": [
      "pyxsim : [INFO     ] 2025-05-19 09:16:36,185 kT_min = 0.025 keV\n",
      "pyxsim : [INFO     ] 2025-05-19 09:16:36,189 kT_max = 64 keV\n",
      "pyxsim : [INFO     ] 2025-05-19 09:16:36,191 Using emission measure field '('hot_gas', 'emission_measure')'.\n",
      "pyxsim : [INFO     ] 2025-05-19 09:16:36,192 Using temperature field '('hot_gas', 'temperature')'.\n"
     ]
    },
    {
     "data": {
      "application/vnd.jupyter.widget-view+json": {
       "model_id": "a5ca3b0aaea345659f8cae81ed5506f3",
       "version_major": 2,
       "version_minor": 0
      },
      "text/plain": [
       "Preparing spectrum table :   0%|          | 0/138 [00:00<?, ?it/s]"
      ]
     },
     "metadata": {},
     "output_type": "display_data"
    },
    {
     "name": "stderr",
     "output_type": "stream",
     "text": [
      "pyxsim : [INFO     ] 2025-05-19 09:16:40,680 kT_min = 0.025 keV\n",
      "pyxsim : [INFO     ] 2025-05-19 09:16:40,683 kT_max = 64 keV\n",
      "pyxsim : [INFO     ] 2025-05-19 09:16:40,685 Using emission measure field '('hot_gas', 'emission_measure')'.\n",
      "pyxsim : [INFO     ] 2025-05-19 09:16:40,686 Using temperature field '('hot_gas', 'temperature')'.\n"
     ]
    },
    {
     "data": {
      "application/vnd.jupyter.widget-view+json": {
       "model_id": "f68ac41b4e6846eea4c2fa393f5fc0e9",
       "version_major": 2,
       "version_minor": 0
      },
      "text/plain": [
       "Preparing spectrum table :   0%|          | 0/138 [00:00<?, ?it/s]"
      ]
     },
     "metadata": {},
     "output_type": "display_data"
    },
    {
     "name": "stderr",
     "output_type": "stream",
     "text": [
      "pyxsim : [INFO     ] 2025-05-19 09:16:41,393 kT_min = 0.025 keV\n",
      "pyxsim : [INFO     ] 2025-05-19 09:16:41,476 kT_max = 64 keV\n",
      "pyxsim : [INFO     ] 2025-05-19 09:16:41,478 Using emission measure field '('hot_gas', 'emission_measure')'.\n",
      "pyxsim : [INFO     ] 2025-05-19 09:16:41,479 Using temperature field '('hot_gas', 'temperature')'.\n"
     ]
    },
    {
     "data": {
      "application/vnd.jupyter.widget-view+json": {
       "model_id": "e860a3f15c51422e986c0aaa30378f37",
       "version_major": 2,
       "version_minor": 0
      },
      "text/plain": [
       "Preparing spectrum table :   0%|          | 0/138 [00:00<?, ?it/s]"
      ]
     },
     "metadata": {},
     "output_type": "display_data"
    },
    {
     "name": "stderr",
     "output_type": "stream",
     "text": [
      "pyxsim : [INFO     ] 2025-05-19 09:16:42,590 kT_min = 0.025 keV\n",
      "pyxsim : [INFO     ] 2025-05-19 09:16:42,676 kT_max = 64 keV\n",
      "pyxsim : [INFO     ] 2025-05-19 09:16:42,679 Using emission measure field '('hot_gas', 'emission_measure')'.\n",
      "pyxsim : [INFO     ] 2025-05-19 09:16:42,680 Using temperature field '('hot_gas', 'temperature')'.\n"
     ]
    },
    {
     "data": {
      "application/vnd.jupyter.widget-view+json": {
       "model_id": "36e9c06100ad49f5821502efb83654cd",
       "version_major": 2,
       "version_minor": 0
      },
      "text/plain": [
       "Preparing spectrum table :   0%|          | 0/138 [00:00<?, ?it/s]"
      ]
     },
     "metadata": {},
     "output_type": "display_data"
    },
    {
     "name": "stderr",
     "output_type": "stream",
     "text": [
      "yt : [INFO     ] 2025-05-19 09:19:13,577 Making a fixed resolution buffer of (('hot_gas', 'xray_emissivity_0.5_2_keV')) 500 by 500\n",
      "yt : [INFO     ] 2025-05-19 09:19:14,192 Making a fixed resolution buffer of (('hot_gas', 'xray_emissivity_0.5_2_keV')) 500 by 500\n",
      "yt : [INFO     ] 2025-05-19 09:19:15,887 Making a fixed resolution buffer of (('hot_gas', 'xray_emissivity_0.5_2_keV')) 500 by 500\n",
      "ex2 Halos:  13%|█▎        | 6/46 [06:26<45:30, 68.27s/it]yt : [INFO     ] 2025-05-19 09:19:22,886 Making a fixed resolution buffer of (('hot_gas', 'xray_emissivity_0.5_2_keV')) 500 by 500\n",
      "ex2 Halos:  15%|█▌        | 7/46 [06:27<31:35, 48.61s/it]yt : [INFO     ] 2025-05-19 09:19:25,580 Making a fixed resolution buffer of (('hot_gas', 'xray_emissivity_0.5_2_keV')) 500 by 500\n",
      "ex2 Halos:  17%|█▋        | 8/46 [06:30<22:23, 35.35s/it]yt : [INFO     ] 2025-05-19 09:19:30,087 Calculating time from 4.884e-01 to be 1.833e+17 seconds\n",
      "yt : [INFO     ] 2025-05-19 09:19:30,286 Calculating time from 4.884e-01 to be 1.833e+17 seconds\n",
      "yt : [INFO     ] 2025-05-19 09:19:32,587 Parameters: current_time              = 1.832656005258152e+17 s\n",
      "yt : [INFO     ] 2025-05-19 09:19:32,677 Parameters: domain_dimensions         = [1 1 1]\n",
      "yt : [INFO     ] 2025-05-19 09:19:32,678 Parameters: domain_left_edge          = [0. 0. 0.]\n",
      "yt : [INFO     ] 2025-05-19 09:19:32,679 Parameters: domain_right_edge         = [25000. 25000. 25000.]\n",
      "yt : [INFO     ] 2025-05-19 09:19:32,680 Parameters: cosmological_simulation   = True\n",
      "yt : [INFO     ] 2025-05-19 09:19:32,775 Parameters: current_redshift          = 1.0476023211521182\n",
      "yt : [INFO     ] 2025-05-19 09:19:32,776 Parameters: omega_lambda              = 0.7\n",
      "yt : [INFO     ] 2025-05-19 09:19:32,777 Parameters: omega_matter              = 0.3\n",
      "yt : [INFO     ] 2025-05-19 09:19:32,778 Parameters: omega_radiation           = 0.0\n",
      "yt : [INFO     ] 2025-05-19 09:19:32,779 Parameters: hubble_constant           = 0.6711\n",
      "yt : [WARNING  ] 2025-05-19 09:19:32,875 The hot_gas particle filter already exists. Overriding.\n",
      "yt : [INFO     ] 2025-05-19 09:19:33,075 Calculating time from 4.884e-01 to be 1.833e+17 seconds\n",
      "yt : [INFO     ] 2025-05-19 09:19:33,181 Allocating for 1.418e+04 particles\n",
      "ex2 Halos:  20%|█▉        | 9/46 [06:37<16:34, 26.87s/it]yt : [INFO     ] 2025-05-19 09:19:33,590 Parameters: current_time              = 1.832656005258152e+17 s\n",
      "yt : [INFO     ] 2025-05-19 09:19:33,676 Parameters: domain_dimensions         = [1 1 1]\n",
      "yt : [INFO     ] 2025-05-19 09:19:33,678 Parameters: domain_left_edge          = [0. 0. 0.]\n",
      "yt : [INFO     ] 2025-05-19 09:19:33,680 Parameters: domain_right_edge         = [25000. 25000. 25000.]\n",
      "yt : [INFO     ] 2025-05-19 09:19:33,682 Parameters: cosmological_simulation   = True\n",
      "yt : [INFO     ] 2025-05-19 09:19:33,683 Parameters: current_redshift          = 1.0476023211521182\n",
      "yt : [INFO     ] 2025-05-19 09:19:33,685 Parameters: omega_lambda              = 0.7\n",
      "yt : [INFO     ] 2025-05-19 09:19:33,686 Parameters: omega_matter              = 0.3\n",
      "yt : [INFO     ] 2025-05-19 09:19:33,688 Parameters: omega_radiation           = 0.0\n",
      "yt : [INFO     ] 2025-05-19 09:19:33,775 Parameters: hubble_constant           = 0.6711\n",
      "yt : [WARNING  ] 2025-05-19 09:19:33,780 The hot_gas particle filter already exists. Overriding.\n",
      "yt : [INFO     ] 2025-05-19 09:19:34,180 Parameters: current_time              = 1.832656005258152e+17 s\n",
      "yt : [INFO     ] 2025-05-19 09:19:34,182 Parameters: domain_dimensions         = [1 1 1]\n",
      "yt : [INFO     ] 2025-05-19 09:19:34,184 Parameters: domain_left_edge          = [0. 0. 0.]\n",
      "yt : [INFO     ] 2025-05-19 09:19:34,185 Parameters: domain_right_edge         = [25000. 25000. 25000.]\n",
      "yt : [INFO     ] 2025-05-19 09:19:34,186 Parameters: cosmological_simulation   = True\n",
      "yt : [INFO     ] 2025-05-19 09:19:34,187 Parameters: current_redshift          = 1.0476023211521182\n",
      "yt : [INFO     ] 2025-05-19 09:19:34,275 Parameters: omega_lambda              = 0.7\n",
      "yt : [INFO     ] 2025-05-19 09:19:34,276 Parameters: omega_matter              = 0.3\n",
      "yt : [INFO     ] 2025-05-19 09:19:34,277 Parameters: omega_radiation           = 0.0\n",
      "yt : [INFO     ] 2025-05-19 09:19:34,275 Allocating for 1.49e+04 particles\n",
      "yt : [INFO     ] 2025-05-19 09:19:34,278 Parameters: hubble_constant           = 0.6711\n",
      "yt : [WARNING  ] 2025-05-19 09:19:34,280 The hot_gas particle filter already exists. Overriding.\n",
      "yt : [INFO     ] 2025-05-19 09:19:34,578 Allocating for 1.44e+04 particles\n",
      "ex2 Halos:  22%|██▏       | 10/46 [06:38<11:33, 19.25s/it]yt : [INFO     ] 2025-05-19 09:19:37,490 Calculating time from 4.884e-01 to be 1.833e+17 seconds\n",
      "yt : [INFO     ] 2025-05-19 09:19:37,993 Calculating time from 4.884e-01 to be 1.833e+17 seconds\n",
      "yt : [INFO     ] 2025-05-19 09:19:38,079 Parameters: current_time              = 1.832656005258152e+17 s\n",
      "yt : [INFO     ] 2025-05-19 09:19:38,081 Parameters: domain_dimensions         = [1 1 1]\n",
      "yt : [INFO     ] 2025-05-19 09:19:38,082 Parameters: domain_left_edge          = [0. 0. 0.]\n",
      "yt : [INFO     ] 2025-05-19 09:19:38,083 Parameters: domain_right_edge         = [25000. 25000. 25000.]\n",
      "yt : [INFO     ] 2025-05-19 09:19:38,085 Parameters: cosmological_simulation   = True\n",
      "yt : [INFO     ] 2025-05-19 09:19:38,085 Parameters: current_redshift          = 1.0476023211521182\n",
      "yt : [INFO     ] 2025-05-19 09:19:38,086 Parameters: omega_lambda              = 0.7\n",
      "yt : [INFO     ] 2025-05-19 09:19:38,087 Parameters: omega_matter              = 0.3\n",
      "yt : [INFO     ] 2025-05-19 09:19:38,088 Parameters: omega_radiation           = 0.0\n",
      "yt : [INFO     ] 2025-05-19 09:19:38,174 Parameters: hubble_constant           = 0.6711\n",
      "yt : [WARNING  ] 2025-05-19 09:19:38,177 The hot_gas particle filter already exists. Overriding.\n",
      "yt : [INFO     ] 2025-05-19 09:19:38,377 Allocating for 1.344e+04 particles\n",
      "yt : [INFO     ] 2025-05-19 09:19:38,589 Parameters: current_time              = 1.832656005258152e+17 s\n",
      "yt : [INFO     ] 2025-05-19 09:19:38,591 Parameters: domain_dimensions         = [1 1 1]\n",
      "yt : [INFO     ] 2025-05-19 09:19:38,592 Parameters: domain_left_edge          = [0. 0. 0.]\n",
      "yt : [INFO     ] 2025-05-19 09:19:38,593 Parameters: domain_right_edge         = [25000. 25000. 25000.]\n",
      "yt : [INFO     ] 2025-05-19 09:19:38,594 Parameters: cosmological_simulation   = True\n",
      "yt : [INFO     ] 2025-05-19 09:19:38,676 Parameters: current_redshift          = 1.0476023211521182\n",
      "yt : [INFO     ] 2025-05-19 09:19:38,679 Parameters: omega_lambda              = 0.7\n",
      "yt : [INFO     ] 2025-05-19 09:19:38,680 Parameters: omega_matter              = 0.3\n",
      "yt : [INFO     ] 2025-05-19 09:19:38,681 Parameters: omega_radiation           = 0.0\n",
      "yt : [INFO     ] 2025-05-19 09:19:38,682 Parameters: hubble_constant           = 0.6711\n",
      "yt : [WARNING  ] 2025-05-19 09:19:38,685 The hot_gas particle filter already exists. Overriding.\n",
      "yt : [INFO     ] 2025-05-19 09:19:38,976 Allocating for 1.376e+04 particles\n",
      "pyxsim : [INFO     ] 2025-05-19 09:19:51,376 kT_min = 0.025 keV\n",
      "pyxsim : [INFO     ] 2025-05-19 09:19:51,378 kT_max = 64 keV\n",
      "pyxsim : [INFO     ] 2025-05-19 09:19:51,380 Using emission measure field '('hot_gas', 'emission_measure')'.\n",
      "pyxsim : [INFO     ] 2025-05-19 09:19:51,381 Using temperature field '('hot_gas', 'temperature')'.\n"
     ]
    },
    {
     "data": {
      "application/vnd.jupyter.widget-view+json": {
       "model_id": "7f513bb77ebc4bb5819c910ebd8c74ac",
       "version_major": 2,
       "version_minor": 0
      },
      "text/plain": [
       "Preparing spectrum table :   0%|          | 0/138 [00:00<?, ?it/s]"
      ]
     },
     "metadata": {},
     "output_type": "display_data"
    },
    {
     "name": "stderr",
     "output_type": "stream",
     "text": [
      "pyxsim : [INFO     ] 2025-05-19 09:19:53,080 kT_min = 0.025 keV\n",
      "pyxsim : [INFO     ] 2025-05-19 09:19:53,083 kT_max = 64 keV\n",
      "pyxsim : [INFO     ] 2025-05-19 09:19:53,086 Using emission measure field '('hot_gas', 'emission_measure')'.\n",
      "pyxsim : [INFO     ] 2025-05-19 09:19:53,087 Using temperature field '('hot_gas', 'temperature')'.\n"
     ]
    },
    {
     "data": {
      "application/vnd.jupyter.widget-view+json": {
       "model_id": "bd3384f57aaf4b53a121662dc1fe4f6f",
       "version_major": 2,
       "version_minor": 0
      },
      "text/plain": [
       "Preparing spectrum table :   0%|          | 0/138 [00:00<?, ?it/s]"
      ]
     },
     "metadata": {},
     "output_type": "display_data"
    },
    {
     "name": "stderr",
     "output_type": "stream",
     "text": [
      "pyxsim : [INFO     ] 2025-05-19 09:19:56,780 kT_min = 0.025 keV\n",
      "pyxsim : [INFO     ] 2025-05-19 09:19:56,782 kT_max = 64 keV\n",
      "pyxsim : [INFO     ] 2025-05-19 09:19:56,784 Using emission measure field '('hot_gas', 'emission_measure')'.\n",
      "pyxsim : [INFO     ] 2025-05-19 09:19:56,785 Using temperature field '('hot_gas', 'temperature')'.\n"
     ]
    },
    {
     "data": {
      "application/vnd.jupyter.widget-view+json": {
       "model_id": "6f87a8c619de47c382cec724bf4eb8b5",
       "version_major": 2,
       "version_minor": 0
      },
      "text/plain": [
       "Preparing spectrum table :   0%|          | 0/138 [00:00<?, ?it/s]"
      ]
     },
     "metadata": {},
     "output_type": "display_data"
    },
    {
     "name": "stderr",
     "output_type": "stream",
     "text": [
      "pyxsim : [INFO     ] 2025-05-19 09:19:57,090 kT_min = 0.025 keV\n",
      "pyxsim : [INFO     ] 2025-05-19 09:19:57,092 kT_max = 64 keV\n",
      "pyxsim : [INFO     ] 2025-05-19 09:19:57,177 Using emission measure field '('hot_gas', 'emission_measure')'.\n",
      "pyxsim : [INFO     ] 2025-05-19 09:19:57,178 Using temperature field '('hot_gas', 'temperature')'.\n"
     ]
    },
    {
     "data": {
      "application/vnd.jupyter.widget-view+json": {
       "model_id": "7f950bb0086e4c43b04d0bfa92021735",
       "version_major": 2,
       "version_minor": 0
      },
      "text/plain": [
       "Preparing spectrum table :   0%|          | 0/138 [00:00<?, ?it/s]"
      ]
     },
     "metadata": {},
     "output_type": "display_data"
    },
    {
     "name": "stderr",
     "output_type": "stream",
     "text": [
      "pyxsim : [INFO     ] 2025-05-19 09:19:58,986 kT_min = 0.025 keV\n",
      "pyxsim : [INFO     ] 2025-05-19 09:19:59,075 kT_max = 64 keV\n",
      "pyxsim : [INFO     ] 2025-05-19 09:19:59,077 Using emission measure field '('hot_gas', 'emission_measure')'.\n",
      "pyxsim : [INFO     ] 2025-05-19 09:19:59,078 Using temperature field '('hot_gas', 'temperature')'.\n"
     ]
    },
    {
     "data": {
      "application/vnd.jupyter.widget-view+json": {
       "model_id": "5af8d4358bf54fba9d40aeeb7c5c9571",
       "version_major": 2,
       "version_minor": 0
      },
      "text/plain": [
       "Preparing spectrum table :   0%|          | 0/138 [00:00<?, ?it/s]"
      ]
     },
     "metadata": {},
     "output_type": "display_data"
    },
    {
     "name": "stderr",
     "output_type": "stream",
     "text": [
      "yt : [INFO     ] 2025-05-19 09:22:30,486 Making a fixed resolution buffer of (('hot_gas', 'xray_emissivity_0.5_2_keV')) 500 by 500\n",
      "yt : [INFO     ] 2025-05-19 09:22:32,982 Making a fixed resolution buffer of (('hot_gas', 'xray_emissivity_0.5_2_keV')) 500 by 500\n",
      "ex2 Halos:  24%|██▍       | 11/46 [09:40<39:28, 67.67s/it]yt : [INFO     ] 2025-05-19 09:22:36,775 Making a fixed resolution buffer of (('hot_gas', 'xray_emissivity_0.5_2_keV')) 500 by 500\n",
      "ex2 Halos:  26%|██▌       | 12/46 [09:44<27:37, 48.75s/it]yt : [INFO     ] 2025-05-19 09:22:41,384 Making a fixed resolution buffer of (('hot_gas', 'xray_emissivity_0.5_2_keV')) 500 by 500\n",
      "yt : [INFO     ] 2025-05-19 09:22:42,976 Calculating time from 4.884e-01 to be 1.833e+17 seconds\n",
      "yt : [INFO     ] 2025-05-19 09:22:43,784 Parameters: current_time              = 1.832656005258152e+17 s\n",
      "yt : [INFO     ] 2025-05-19 09:22:43,786 Parameters: domain_dimensions         = [1 1 1]\n",
      "yt : [INFO     ] 2025-05-19 09:22:43,875 Parameters: domain_left_edge          = [0. 0. 0.]\n",
      "yt : [INFO     ] 2025-05-19 09:22:43,876 Parameters: domain_right_edge         = [25000. 25000. 25000.]\n",
      "yt : [INFO     ] 2025-05-19 09:22:43,877 Parameters: cosmological_simulation   = True\n",
      "yt : [INFO     ] 2025-05-19 09:22:43,878 Parameters: current_redshift          = 1.0476023211521182\n",
      "yt : [INFO     ] 2025-05-19 09:22:43,879 Parameters: omega_lambda              = 0.7\n",
      "yt : [INFO     ] 2025-05-19 09:22:43,880 Parameters: omega_matter              = 0.3\n",
      "yt : [INFO     ] 2025-05-19 09:22:43,881 Parameters: omega_radiation           = 0.0\n",
      "yt : [INFO     ] 2025-05-19 09:22:43,882 Parameters: hubble_constant           = 0.6711\n",
      "yt : [WARNING  ] 2025-05-19 09:22:43,884 The hot_gas particle filter already exists. Overriding.\n",
      "ex2 Halos:  28%|██▊       | 13/46 [09:48<19:22, 35.23s/it]yt : [INFO     ] 2025-05-19 09:22:44,382 Allocating for 1.245e+04 particles\n",
      "yt : [INFO     ] 2025-05-19 09:22:45,975 Calculating time from 4.884e-01 to be 1.833e+17 seconds\n",
      "yt : [INFO     ] 2025-05-19 09:22:47,985 Parameters: current_time              = 1.832656005258152e+17 s\n",
      "yt : [INFO     ] 2025-05-19 09:22:48,075 Parameters: domain_dimensions         = [1 1 1]\n",
      "yt : [INFO     ] 2025-05-19 09:22:48,076 Parameters: domain_left_edge          = [0. 0. 0.]\n",
      "yt : [INFO     ] 2025-05-19 09:22:48,077 Parameters: domain_right_edge         = [25000. 25000. 25000.]\n",
      "yt : [INFO     ] 2025-05-19 09:22:48,078 Parameters: cosmological_simulation   = True\n",
      "yt : [INFO     ] 2025-05-19 09:22:48,079 Parameters: current_redshift          = 1.0476023211521182\n",
      "yt : [INFO     ] 2025-05-19 09:22:48,080 Parameters: omega_lambda              = 0.7\n",
      "yt : [INFO     ] 2025-05-19 09:22:48,081 Parameters: omega_matter              = 0.3\n",
      "yt : [INFO     ] 2025-05-19 09:22:48,082 Parameters: omega_radiation           = 0.0\n",
      "yt : [INFO     ] 2025-05-19 09:22:48,083 Parameters: hubble_constant           = 0.6711\n",
      "yt : [WARNING  ] 2025-05-19 09:22:48,177 The hot_gas particle filter already exists. Overriding.\n",
      "yt : [INFO     ] 2025-05-19 09:22:48,477 Allocating for 1.182e+04 particles\n",
      "ex2 Halos:  30%|███       | 14/46 [09:52<13:51, 26.00s/it]yt : [INFO     ] 2025-05-19 09:22:49,376 Calculating time from 4.884e-01 to be 1.833e+17 seconds\n",
      "yt : [INFO     ] 2025-05-19 09:22:49,881 Making a fixed resolution buffer of (('hot_gas', 'xray_emissivity_0.5_2_keV')) 500 by 500\n",
      "yt : [INFO     ] 2025-05-19 09:22:49,889 Parameters: current_time              = 1.832656005258152e+17 s\n",
      "yt : [INFO     ] 2025-05-19 09:22:49,891 Parameters: domain_dimensions         = [1 1 1]\n",
      "yt : [INFO     ] 2025-05-19 09:22:49,976 Parameters: domain_left_edge          = [0. 0. 0.]\n",
      "yt : [INFO     ] 2025-05-19 09:22:49,977 Parameters: domain_right_edge         = [25000. 25000. 25000.]\n",
      "yt : [INFO     ] 2025-05-19 09:22:49,979 Parameters: cosmological_simulation   = True\n",
      "yt : [INFO     ] 2025-05-19 09:22:49,980 Parameters: current_redshift          = 1.0476023211521182\n",
      "yt : [INFO     ] 2025-05-19 09:22:49,980 Parameters: omega_lambda              = 0.7\n",
      "yt : [INFO     ] 2025-05-19 09:22:49,981 Parameters: omega_matter              = 0.3\n",
      "yt : [INFO     ] 2025-05-19 09:22:49,982 Parameters: omega_radiation           = 0.0\n",
      "yt : [INFO     ] 2025-05-19 09:22:49,983 Parameters: hubble_constant           = 0.6711\n",
      "yt : [WARNING  ] 2025-05-19 09:22:49,986 The hot_gas particle filter already exists. Overriding.\n",
      "yt : [INFO     ] 2025-05-19 09:22:50,278 Allocating for 1.189e+04 particles\n",
      "yt : [INFO     ] 2025-05-19 09:22:51,897 Calculating time from 4.884e-01 to be 1.833e+17 seconds\n",
      "yt : [INFO     ] 2025-05-19 09:22:52,575 Parameters: current_time              = 1.832656005258152e+17 s\n",
      "yt : [INFO     ] 2025-05-19 09:22:52,577 Parameters: domain_dimensions         = [1 1 1]\n",
      "yt : [INFO     ] 2025-05-19 09:22:52,578 Parameters: domain_left_edge          = [0. 0. 0.]\n",
      "yt : [INFO     ] 2025-05-19 09:22:52,579 Parameters: domain_right_edge         = [25000. 25000. 25000.]\n",
      "yt : [INFO     ] 2025-05-19 09:22:52,581 Parameters: cosmological_simulation   = True\n",
      "yt : [INFO     ] 2025-05-19 09:22:52,582 Parameters: current_redshift          = 1.0476023211521182\n",
      "yt : [INFO     ] 2025-05-19 09:22:52,583 Parameters: omega_lambda              = 0.7\n",
      "yt : [INFO     ] 2025-05-19 09:22:52,584 Parameters: omega_matter              = 0.3\n",
      "yt : [INFO     ] 2025-05-19 09:22:52,585 Parameters: omega_radiation           = 0.0\n",
      "yt : [INFO     ] 2025-05-19 09:22:52,585 Parameters: hubble_constant           = 0.6711\n",
      "yt : [WARNING  ] 2025-05-19 09:22:53,281 The hot_gas particle filter already exists. Overriding.\n",
      "yt : [INFO     ] 2025-05-19 09:22:54,480 Allocating for 1.125e+04 particles\n",
      "ex2 Halos:  33%|███▎      | 15/46 [09:59<10:26, 20.22s/it]yt : [INFO     ] 2025-05-19 09:22:59,276 Calculating time from 4.884e-01 to be 1.833e+17 seconds\n",
      "yt : [INFO     ] 2025-05-19 09:22:59,788 Parameters: current_time              = 1.832656005258152e+17 s\n",
      "yt : [INFO     ] 2025-05-19 09:22:59,791 Parameters: domain_dimensions         = [1 1 1]\n",
      "yt : [INFO     ] 2025-05-19 09:22:59,792 Parameters: domain_left_edge          = [0. 0. 0.]\n",
      "yt : [INFO     ] 2025-05-19 09:22:59,793 Parameters: domain_right_edge         = [25000. 25000. 25000.]\n",
      "yt : [INFO     ] 2025-05-19 09:22:59,794 Parameters: cosmological_simulation   = True\n",
      "yt : [INFO     ] 2025-05-19 09:22:59,875 Parameters: current_redshift          = 1.0476023211521182\n",
      "yt : [INFO     ] 2025-05-19 09:22:59,876 Parameters: omega_lambda              = 0.7\n",
      "yt : [INFO     ] 2025-05-19 09:22:59,877 Parameters: omega_matter              = 0.3\n",
      "yt : [INFO     ] 2025-05-19 09:22:59,878 Parameters: omega_radiation           = 0.0\n",
      "yt : [INFO     ] 2025-05-19 09:22:59,879 Parameters: hubble_constant           = 0.6711\n",
      "yt : [WARNING  ] 2025-05-19 09:22:59,881 The hot_gas particle filter already exists. Overriding.\n",
      "yt : [INFO     ] 2025-05-19 09:23:00,078 Allocating for 1.06e+04 particles\n",
      "pyxsim : [INFO     ] 2025-05-19 09:23:04,882 kT_min = 0.025 keV\n",
      "pyxsim : [INFO     ] 2025-05-19 09:23:04,885 kT_max = 64 keV\n",
      "pyxsim : [INFO     ] 2025-05-19 09:23:04,887 Using emission measure field '('hot_gas', 'emission_measure')'.\n",
      "pyxsim : [INFO     ] 2025-05-19 09:23:04,888 Using temperature field '('hot_gas', 'temperature')'.\n"
     ]
    },
    {
     "data": {
      "application/vnd.jupyter.widget-view+json": {
       "model_id": "6fddd63858714e4f82148e8a7b4335a8",
       "version_major": 2,
       "version_minor": 0
      },
      "text/plain": [
       "Preparing spectrum table :   0%|          | 0/138 [00:00<?, ?it/s]"
      ]
     },
     "metadata": {},
     "output_type": "display_data"
    },
    {
     "name": "stderr",
     "output_type": "stream",
     "text": [
      "pyxsim : [INFO     ] 2025-05-19 09:23:07,487 kT_min = 0.025 keV\n",
      "pyxsim : [INFO     ] 2025-05-19 09:23:07,489 kT_max = 64 keV\n",
      "pyxsim : [INFO     ] 2025-05-19 09:23:07,575 Using emission measure field '('hot_gas', 'emission_measure')'.\n",
      "pyxsim : [INFO     ] 2025-05-19 09:23:07,577 Using temperature field '('hot_gas', 'temperature')'.\n"
     ]
    },
    {
     "data": {
      "application/vnd.jupyter.widget-view+json": {
       "model_id": "f1c590374c4d42e2af0d10f297bc7e1a",
       "version_major": 2,
       "version_minor": 0
      },
      "text/plain": [
       "Preparing spectrum table :   0%|          | 0/138 [00:00<?, ?it/s]"
      ]
     },
     "metadata": {},
     "output_type": "display_data"
    },
    {
     "name": "stderr",
     "output_type": "stream",
     "text": [
      "pyxsim : [INFO     ] 2025-05-19 09:23:09,289 kT_min = 0.025 keV\n",
      "pyxsim : [INFO     ] 2025-05-19 09:23:09,374 kT_max = 64 keV\n",
      "pyxsim : [INFO     ] 2025-05-19 09:23:09,377 Using emission measure field '('hot_gas', 'emission_measure')'.\n",
      "pyxsim : [INFO     ] 2025-05-19 09:23:09,378 Using temperature field '('hot_gas', 'temperature')'.\n"
     ]
    },
    {
     "data": {
      "application/vnd.jupyter.widget-view+json": {
       "model_id": "61a4208c6ff842bc92e508621e012165",
       "version_major": 2,
       "version_minor": 0
      },
      "text/plain": [
       "Preparing spectrum table :   0%|          | 0/138 [00:00<?, ?it/s]"
      ]
     },
     "metadata": {},
     "output_type": "display_data"
    },
    {
     "name": "stderr",
     "output_type": "stream",
     "text": [
      "pyxsim : [INFO     ] 2025-05-19 09:23:13,178 kT_min = 0.025 keV\n",
      "pyxsim : [INFO     ] 2025-05-19 09:23:13,181 kT_max = 64 keV\n",
      "pyxsim : [INFO     ] 2025-05-19 09:23:13,183 Using emission measure field '('hot_gas', 'emission_measure')'.\n",
      "pyxsim : [INFO     ] 2025-05-19 09:23:13,184 Using temperature field '('hot_gas', 'temperature')'.\n"
     ]
    },
    {
     "data": {
      "application/vnd.jupyter.widget-view+json": {
       "model_id": "9b59a3b7d6244d68b4bace78b248086e",
       "version_major": 2,
       "version_minor": 0
      },
      "text/plain": [
       "Preparing spectrum table :   0%|          | 0/138 [00:00<?, ?it/s]"
      ]
     },
     "metadata": {},
     "output_type": "display_data"
    },
    {
     "name": "stderr",
     "output_type": "stream",
     "text": [
      "pyxsim : [INFO     ] 2025-05-19 09:23:18,788 kT_min = 0.025 keV\n",
      "pyxsim : [INFO     ] 2025-05-19 09:23:18,790 kT_max = 64 keV\n",
      "pyxsim : [INFO     ] 2025-05-19 09:23:18,875 Using emission measure field '('hot_gas', 'emission_measure')'.\n",
      "pyxsim : [INFO     ] 2025-05-19 09:23:18,876 Using temperature field '('hot_gas', 'temperature')'.\n"
     ]
    },
    {
     "data": {
      "application/vnd.jupyter.widget-view+json": {
       "model_id": "fcefd216f80944bcb929bc75851af09e",
       "version_major": 2,
       "version_minor": 0
      },
      "text/plain": [
       "Preparing spectrum table :   0%|          | 0/138 [00:00<?, ?it/s]"
      ]
     },
     "metadata": {},
     "output_type": "display_data"
    },
    {
     "name": "stderr",
     "output_type": "stream",
     "text": [
      "yt : [INFO     ] 2025-05-19 09:25:41,780 Making a fixed resolution buffer of (('hot_gas', 'xray_emissivity_0.5_2_keV')) 500 by 500\n",
      "yt : [INFO     ] 2025-05-19 09:25:45,880 Making a fixed resolution buffer of (('hot_gas', 'xray_emissivity_0.5_2_keV')) 500 by 500\n",
      "ex2 Halos:  35%|███▍      | 16/46 [12:51<32:48, 65.61s/it]yt : [INFO     ] 2025-05-19 09:25:48,788 Making a fixed resolution buffer of (('hot_gas', 'xray_emissivity_0.5_2_keV')) 500 by 500\n",
      "ex2 Halos:  37%|███▋      | 17/46 [12:55<22:54, 47.38s/it]yt : [INFO     ] 2025-05-19 09:25:52,396 Calculating time from 4.884e-01 to be 1.833e+17 seconds\n",
      "yt : [INFO     ] 2025-05-19 09:25:52,982 Parameters: current_time              = 1.832656005258152e+17 s\n",
      "yt : [INFO     ] 2025-05-19 09:25:52,984 Parameters: domain_dimensions         = [1 1 1]\n",
      "yt : [INFO     ] 2025-05-19 09:25:52,985 Parameters: domain_left_edge          = [0. 0. 0.]\n",
      "yt : [INFO     ] 2025-05-19 09:25:52,987 Parameters: domain_right_edge         = [25000. 25000. 25000.]\n",
      "yt : [INFO     ] 2025-05-19 09:25:52,988 Parameters: cosmological_simulation   = True\n",
      "yt : [INFO     ] 2025-05-19 09:25:52,989 Parameters: current_redshift          = 1.0476023211521182\n",
      "yt : [INFO     ] 2025-05-19 09:25:52,990 Parameters: omega_lambda              = 0.7\n",
      "yt : [INFO     ] 2025-05-19 09:25:53,074 Parameters: omega_matter              = 0.3\n",
      "yt : [INFO     ] 2025-05-19 09:25:53,077 Parameters: omega_radiation           = 0.0\n",
      "yt : [INFO     ] 2025-05-19 09:25:53,080 Parameters: hubble_constant           = 0.6711\n",
      "yt : [WARNING  ] 2025-05-19 09:25:53,084 The hot_gas particle filter already exists. Overriding.\n",
      "yt : [INFO     ] 2025-05-19 09:25:53,386 Allocating for 9759 particles\n",
      "ex2 Halos:  39%|███▉      | 18/46 [13:00<16:10, 34.64s/it]yt : [INFO     ] 2025-05-19 09:25:56,891 Calculating time from 4.884e-01 to be 1.833e+17 seconds\n",
      "yt : [INFO     ] 2025-05-19 09:25:57,383 Parameters: current_time              = 1.832656005258152e+17 s\n",
      "yt : [INFO     ] 2025-05-19 09:25:57,384 Making a fixed resolution buffer of (('hot_gas', 'xray_emissivity_0.5_2_keV')) 500 by 500\n",
      "yt : [INFO     ] 2025-05-19 09:25:57,385 Parameters: domain_dimensions         = [1 1 1]\n",
      "yt : [INFO     ] 2025-05-19 09:25:57,386 Parameters: domain_left_edge          = [0. 0. 0.]\n",
      "yt : [INFO     ] 2025-05-19 09:25:57,388 Parameters: domain_right_edge         = [25000. 25000. 25000.]\n",
      "yt : [INFO     ] 2025-05-19 09:25:57,389 Parameters: cosmological_simulation   = True\n",
      "yt : [INFO     ] 2025-05-19 09:25:57,390 Parameters: current_redshift          = 1.0476023211521182\n",
      "yt : [INFO     ] 2025-05-19 09:25:57,391 Parameters: omega_lambda              = 0.7\n",
      "yt : [INFO     ] 2025-05-19 09:25:57,475 Parameters: omega_matter              = 0.3\n",
      "yt : [INFO     ] 2025-05-19 09:25:57,476 Parameters: omega_radiation           = 0.0\n",
      "yt : [INFO     ] 2025-05-19 09:25:57,477 Parameters: hubble_constant           = 0.6711\n",
      "yt : [WARNING  ] 2025-05-19 09:25:57,480 The hot_gas particle filter already exists. Overriding.\n",
      "yt : [INFO     ] 2025-05-19 09:25:57,679 Allocating for 1.072e+04 particles\n",
      "yt : [INFO     ] 2025-05-19 09:26:00,181 Calculating time from 4.884e-01 to be 1.833e+17 seconds\n",
      "yt : [INFO     ] 2025-05-19 09:26:02,378 Parameters: current_time              = 1.832656005258152e+17 s\n",
      "yt : [INFO     ] 2025-05-19 09:26:02,381 Parameters: domain_dimensions         = [1 1 1]\n",
      "yt : [INFO     ] 2025-05-19 09:26:02,382 Parameters: domain_left_edge          = [0. 0. 0.]\n",
      "yt : [INFO     ] 2025-05-19 09:26:02,475 Parameters: domain_right_edge         = [25000. 25000. 25000.]\n",
      "yt : [INFO     ] 2025-05-19 09:26:02,478 Parameters: cosmological_simulation   = True\n",
      "yt : [INFO     ] 2025-05-19 09:26:02,479 Parameters: current_redshift          = 1.0476023211521182\n",
      "yt : [INFO     ] 2025-05-19 09:26:02,480 Parameters: omega_lambda              = 0.7\n",
      "yt : [INFO     ] 2025-05-19 09:26:02,481 Parameters: omega_matter              = 0.3\n",
      "yt : [INFO     ] 2025-05-19 09:26:02,482 Parameters: omega_radiation           = 0.0\n",
      "yt : [INFO     ] 2025-05-19 09:26:02,483 Parameters: hubble_constant           = 0.6711\n",
      "yt : [WARNING  ] 2025-05-19 09:26:02,578 The hot_gas particle filter already exists. Overriding.\n",
      "yt : [INFO     ] 2025-05-19 09:26:03,079 Allocating for 1.074e+04 particles\n",
      "ex2 Halos:  41%|████▏     | 19/46 [13:07<11:47, 26.20s/it]yt : [INFO     ] 2025-05-19 09:26:04,787 Making a fixed resolution buffer of (('hot_gas', 'xray_emissivity_0.5_2_keV')) 500 by 500\n",
      "yt : [INFO     ] 2025-05-19 09:26:06,776 Calculating time from 4.884e-01 to be 1.833e+17 seconds\n",
      "yt : [INFO     ] 2025-05-19 09:26:07,292 Parameters: current_time              = 1.832656005258152e+17 s\n",
      "yt : [INFO     ] 2025-05-19 09:26:07,376 Parameters: domain_dimensions         = [1 1 1]\n",
      "yt : [INFO     ] 2025-05-19 09:26:07,378 Parameters: domain_left_edge          = [0. 0. 0.]\n",
      "yt : [INFO     ] 2025-05-19 09:26:07,379 Parameters: domain_right_edge         = [25000. 25000. 25000.]\n",
      "yt : [INFO     ] 2025-05-19 09:26:07,380 Parameters: cosmological_simulation   = True\n",
      "yt : [INFO     ] 2025-05-19 09:26:07,381 Parameters: current_redshift          = 1.0476023211521182\n",
      "yt : [INFO     ] 2025-05-19 09:26:07,382 Parameters: omega_lambda              = 0.7\n",
      "yt : [INFO     ] 2025-05-19 09:26:07,383 Parameters: omega_matter              = 0.3\n",
      "yt : [INFO     ] 2025-05-19 09:26:07,383 Parameters: omega_radiation           = 0.0\n",
      "yt : [INFO     ] 2025-05-19 09:26:07,384 Parameters: hubble_constant           = 0.6711\n",
      "yt : [WARNING  ] 2025-05-19 09:26:07,389 The hot_gas particle filter already exists. Overriding.\n",
      "yt : [INFO     ] 2025-05-19 09:26:08,279 Allocating for 9669 particles\n",
      "ex2 Halos:  43%|████▎     | 20/46 [13:14<08:52, 20.47s/it]yt : [INFO     ] 2025-05-19 09:26:13,193 Calculating time from 4.884e-01 to be 1.833e+17 seconds\n",
      "yt : [INFO     ] 2025-05-19 09:26:13,692 Parameters: current_time              = 1.832656005258152e+17 s\n",
      "yt : [INFO     ] 2025-05-19 09:26:13,775 Parameters: domain_dimensions         = [1 1 1]\n",
      "yt : [INFO     ] 2025-05-19 09:26:13,776 Parameters: domain_left_edge          = [0. 0. 0.]\n",
      "yt : [INFO     ] 2025-05-19 09:26:13,777 Parameters: domain_right_edge         = [25000. 25000. 25000.]\n",
      "yt : [INFO     ] 2025-05-19 09:26:13,778 Parameters: cosmological_simulation   = True\n",
      "yt : [INFO     ] 2025-05-19 09:26:13,779 Parameters: current_redshift          = 1.0476023211521182\n",
      "yt : [INFO     ] 2025-05-19 09:26:13,780 Parameters: omega_lambda              = 0.7\n",
      "yt : [INFO     ] 2025-05-19 09:26:13,781 Parameters: omega_matter              = 0.3\n",
      "yt : [INFO     ] 2025-05-19 09:26:13,782 Parameters: omega_radiation           = 0.0\n",
      "yt : [INFO     ] 2025-05-19 09:26:13,782 Parameters: hubble_constant           = 0.6711\n",
      "yt : [WARNING  ] 2025-05-19 09:26:13,784 The hot_gas particle filter already exists. Overriding.\n",
      "yt : [INFO     ] 2025-05-19 09:26:13,977 Allocating for 9824 particles\n",
      "pyxsim : [INFO     ] 2025-05-19 09:26:16,985 kT_min = 0.025 keV\n",
      "pyxsim : [INFO     ] 2025-05-19 09:26:16,988 kT_max = 64 keV\n",
      "pyxsim : [INFO     ] 2025-05-19 09:26:16,990 Using emission measure field '('hot_gas', 'emission_measure')'.\n",
      "pyxsim : [INFO     ] 2025-05-19 09:26:16,991 Using temperature field '('hot_gas', 'temperature')'.\n"
     ]
    },
    {
     "data": {
      "application/vnd.jupyter.widget-view+json": {
       "model_id": "cd64b75a5fa04f03bbb13145bf62d7ca",
       "version_major": 2,
       "version_minor": 0
      },
      "text/plain": [
       "Preparing spectrum table :   0%|          | 0/138 [00:00<?, ?it/s]"
      ]
     },
     "metadata": {},
     "output_type": "display_data"
    },
    {
     "name": "stderr",
     "output_type": "stream",
     "text": [
      "pyxsim : [INFO     ] 2025-05-19 09:26:19,292 kT_min = 0.025 keV\n",
      "pyxsim : [INFO     ] 2025-05-19 09:26:19,375 kT_max = 64 keV\n",
      "pyxsim : [INFO     ] 2025-05-19 09:26:19,378 Using emission measure field '('hot_gas', 'emission_measure')'.\n",
      "pyxsim : [INFO     ] 2025-05-19 09:26:19,378 Using temperature field '('hot_gas', 'temperature')'.\n"
     ]
    },
    {
     "data": {
      "application/vnd.jupyter.widget-view+json": {
       "model_id": "3ef5a094d52c4edcb8690d82fff12105",
       "version_major": 2,
       "version_minor": 0
      },
      "text/plain": [
       "Preparing spectrum table :   0%|          | 0/138 [00:00<?, ?it/s]"
      ]
     },
     "metadata": {},
     "output_type": "display_data"
    },
    {
     "name": "stderr",
     "output_type": "stream",
     "text": [
      "pyxsim : [INFO     ] 2025-05-19 09:26:23,686 kT_min = 0.025 keV\n",
      "pyxsim : [INFO     ] 2025-05-19 09:26:23,688 kT_max = 64 keV\n",
      "pyxsim : [INFO     ] 2025-05-19 09:26:23,691 Using emission measure field '('hot_gas', 'emission_measure')'.\n",
      "pyxsim : [INFO     ] 2025-05-19 09:26:23,692 Using temperature field '('hot_gas', 'temperature')'.\n"
     ]
    },
    {
     "data": {
      "application/vnd.jupyter.widget-view+json": {
       "model_id": "016cc956ff65453790f41edc8589d5f6",
       "version_major": 2,
       "version_minor": 0
      },
      "text/plain": [
       "Preparing spectrum table :   0%|          | 0/138 [00:00<?, ?it/s]"
      ]
     },
     "metadata": {},
     "output_type": "display_data"
    },
    {
     "name": "stderr",
     "output_type": "stream",
     "text": [
      "pyxsim : [INFO     ] 2025-05-19 09:26:29,381 kT_min = 0.025 keV\n",
      "pyxsim : [INFO     ] 2025-05-19 09:26:29,383 kT_max = 64 keV\n",
      "pyxsim : [INFO     ] 2025-05-19 09:26:29,385 Using emission measure field '('hot_gas', 'emission_measure')'.\n",
      "pyxsim : [INFO     ] 2025-05-19 09:26:29,386 Using temperature field '('hot_gas', 'temperature')'.\n"
     ]
    },
    {
     "data": {
      "application/vnd.jupyter.widget-view+json": {
       "model_id": "e9af1db5b31f4c80b60cf62660fb2d32",
       "version_major": 2,
       "version_minor": 0
      },
      "text/plain": [
       "Preparing spectrum table :   0%|          | 0/138 [00:00<?, ?it/s]"
      ]
     },
     "metadata": {},
     "output_type": "display_data"
    },
    {
     "name": "stderr",
     "output_type": "stream",
     "text": [
      "pyxsim : [INFO     ] 2025-05-19 09:26:33,981 kT_min = 0.025 keV\n",
      "pyxsim : [INFO     ] 2025-05-19 09:26:33,982 kT_max = 64 keV\n",
      "pyxsim : [INFO     ] 2025-05-19 09:26:33,984 Using emission measure field '('hot_gas', 'emission_measure')'.\n",
      "pyxsim : [INFO     ] 2025-05-19 09:26:33,985 Using temperature field '('hot_gas', 'temperature')'.\n"
     ]
    },
    {
     "data": {
      "application/vnd.jupyter.widget-view+json": {
       "model_id": "390019956b8a41539fa7d22191a7db0b",
       "version_major": 2,
       "version_minor": 0
      },
      "text/plain": [
       "Preparing spectrum table :   0%|          | 0/138 [00:00<?, ?it/s]"
      ]
     },
     "metadata": {},
     "output_type": "display_data"
    },
    {
     "name": "stderr",
     "output_type": "stream",
     "text": [
      "yt : [INFO     ] 2025-05-19 09:28:52,593 Making a fixed resolution buffer of (('hot_gas', 'xray_emissivity_0.5_2_keV')) 500 by 500\n",
      "yt : [INFO     ] 2025-05-19 09:28:53,077 Making a fixed resolution buffer of (('hot_gas', 'xray_emissivity_0.5_2_keV')) 500 by 500\n",
      "ex2 Halos:  48%|████▊     | 22/46 [16:04<18:19, 45.81s/it]yt : [INFO     ] 2025-05-19 09:29:03,189 Calculating time from 4.884e-01 to be 1.833e+17 seconds\n",
      "yt : [INFO     ] 2025-05-19 09:29:03,289 Calculating time from 4.884e-01 to be 1.833e+17 seconds\n",
      "yt : [INFO     ] 2025-05-19 09:29:03,688 Parameters: current_time              = 1.832656005258152e+17 s\n",
      "yt : [INFO     ] 2025-05-19 09:29:03,691 Parameters: domain_dimensions         = [1 1 1]\n",
      "yt : [INFO     ] 2025-05-19 09:29:03,692 Parameters: domain_left_edge          = [0. 0. 0.]\n",
      "yt : [INFO     ] 2025-05-19 09:29:03,693 Parameters: domain_right_edge         = [25000. 25000. 25000.]\n",
      "yt : [INFO     ] 2025-05-19 09:29:03,694 Parameters: cosmological_simulation   = True\n",
      "yt : [INFO     ] 2025-05-19 09:29:03,775 Parameters: current_redshift          = 1.0476023211521182\n",
      "yt : [INFO     ] 2025-05-19 09:29:03,776 Parameters: omega_lambda              = 0.7\n",
      "yt : [INFO     ] 2025-05-19 09:29:03,777 Parameters: omega_matter              = 0.3\n",
      "yt : [INFO     ] 2025-05-19 09:29:03,777 Parameters: omega_radiation           = 0.0\n",
      "yt : [INFO     ] 2025-05-19 09:29:03,778 Parameters: hubble_constant           = 0.6711\n",
      "yt : [WARNING  ] 2025-05-19 09:29:03,780 The hot_gas particle filter already exists. Overriding.\n",
      "yt : [INFO     ] 2025-05-19 09:29:03,789 Parameters: current_time              = 1.832656005258152e+17 s\n",
      "yt : [INFO     ] 2025-05-19 09:29:03,875 Parameters: domain_dimensions         = [1 1 1]\n",
      "yt : [INFO     ] 2025-05-19 09:29:03,876 Parameters: domain_left_edge          = [0. 0. 0.]\n",
      "yt : [INFO     ] 2025-05-19 09:29:03,877 Parameters: domain_right_edge         = [25000. 25000. 25000.]\n",
      "yt : [INFO     ] 2025-05-19 09:29:03,879 Parameters: cosmological_simulation   = True\n",
      "yt : [INFO     ] 2025-05-19 09:29:03,880 Parameters: current_redshift          = 1.0476023211521182\n",
      "yt : [INFO     ] 2025-05-19 09:29:03,880 Parameters: omega_lambda              = 0.7\n",
      "yt : [INFO     ] 2025-05-19 09:29:03,881 Parameters: omega_matter              = 0.3\n",
      "yt : [INFO     ] 2025-05-19 09:29:03,882 Parameters: omega_radiation           = 0.0\n",
      "yt : [INFO     ] 2025-05-19 09:29:03,883 Parameters: hubble_constant           = 0.6711\n",
      "yt : [WARNING  ] 2025-05-19 09:29:03,885 The hot_gas particle filter already exists. Overriding.\n",
      "yt : [INFO     ] 2025-05-19 09:29:03,998 Allocating for 9399 particles\n",
      "yt : [INFO     ] 2025-05-19 09:29:04,175 Allocating for 1.077e+04 particles\n",
      "yt : [INFO     ] 2025-05-19 09:29:04,777 Making a fixed resolution buffer of (('hot_gas', 'xray_emissivity_0.5_2_keV')) 500 by 500\n",
      "ex2 Halos:  50%|█████     | 23/46 [16:13<13:23, 34.92s/it]yt : [INFO     ] 2025-05-19 09:29:12,993 Calculating time from 4.884e-01 to be 1.833e+17 seconds\n",
      "yt : [INFO     ] 2025-05-19 09:29:13,492 Parameters: current_time              = 1.832656005258152e+17 s\n",
      "yt : [INFO     ] 2025-05-19 09:29:13,576 Parameters: domain_dimensions         = [1 1 1]\n",
      "yt : [INFO     ] 2025-05-19 09:29:13,577 Parameters: domain_left_edge          = [0. 0. 0.]\n",
      "yt : [INFO     ] 2025-05-19 09:29:13,578 Parameters: domain_right_edge         = [25000. 25000. 25000.]\n",
      "yt : [INFO     ] 2025-05-19 09:29:13,579 Parameters: cosmological_simulation   = True\n",
      "yt : [INFO     ] 2025-05-19 09:29:13,580 Parameters: current_redshift          = 1.0476023211521182\n",
      "yt : [INFO     ] 2025-05-19 09:29:13,581 Parameters: omega_lambda              = 0.7\n",
      "yt : [INFO     ] 2025-05-19 09:29:13,582 Parameters: omega_matter              = 0.3\n",
      "yt : [INFO     ] 2025-05-19 09:29:13,583 Parameters: omega_radiation           = 0.0\n",
      "yt : [INFO     ] 2025-05-19 09:29:13,583 Parameters: hubble_constant           = 0.6711\n",
      "yt : [WARNING  ] 2025-05-19 09:29:13,585 The hot_gas particle filter already exists. Overriding.\n",
      "yt : [INFO     ] 2025-05-19 09:29:13,876 Allocating for 9275 particles\n",
      "yt : [INFO     ] 2025-05-19 09:29:17,591 Making a fixed resolution buffer of (('hot_gas', 'xray_emissivity_0.5_2_keV')) 500 by 500\n",
      "yt : [INFO     ] 2025-05-19 09:29:18,889 Making a fixed resolution buffer of (('hot_gas', 'xray_emissivity_0.5_2_keV')) 500 by 500\n",
      "ex2 Halos:  54%|█████▍    | 25/46 [16:30<07:17, 20.83s/it]pyxsim : [INFO     ] 2025-05-19 09:29:27,201 kT_min = 0.025 keV\n",
      "pyxsim : [INFO     ] 2025-05-19 09:29:27,276 kT_max = 64 keV\n",
      "pyxsim : [INFO     ] 2025-05-19 09:29:27,279 Using emission measure field '('hot_gas', 'emission_measure')'.\n",
      "pyxsim : [INFO     ] 2025-05-19 09:29:27,280 Using temperature field '('hot_gas', 'temperature')'.\n",
      "pyxsim : [INFO     ] 2025-05-19 09:29:27,382 kT_min = 0.025 keV\n",
      "pyxsim : [INFO     ] 2025-05-19 09:29:27,384 kT_max = 64 keV\n",
      "pyxsim : [INFO     ] 2025-05-19 09:29:27,387 Using emission measure field '('hot_gas', 'emission_measure')'.\n",
      "pyxsim : [INFO     ] 2025-05-19 09:29:27,388 Using temperature field '('hot_gas', 'temperature')'.\n"
     ]
    },
    {
     "data": {
      "application/vnd.jupyter.widget-view+json": {
       "model_id": "8d98949242ad495095d0ef75c9dc4c28",
       "version_major": 2,
       "version_minor": 0
      },
      "text/plain": [
       "Preparing spectrum table :   0%|          | 0/138 [00:00<?, ?it/s]"
      ]
     },
     "metadata": {},
     "output_type": "display_data"
    },
    {
     "data": {
      "application/vnd.jupyter.widget-view+json": {
       "model_id": "e01822bb7fd24faf9c1c97c7ca702abf",
       "version_major": 2,
       "version_minor": 0
      },
      "text/plain": [
       "Preparing spectrum table :   0%|          | 0/138 [00:00<?, ?it/s]"
      ]
     },
     "metadata": {},
     "output_type": "display_data"
    },
    {
     "name": "stderr",
     "output_type": "stream",
     "text": [
      "yt : [INFO     ] 2025-05-19 09:29:27,792 Calculating time from 4.884e-01 to be 1.833e+17 seconds\n",
      "yt : [INFO     ] 2025-05-19 09:29:28,285 Parameters: current_time              = 1.832656005258152e+17 s\n",
      "yt : [INFO     ] 2025-05-19 09:29:28,286 Parameters: domain_dimensions         = [1 1 1]\n",
      "yt : [INFO     ] 2025-05-19 09:29:28,287 Parameters: domain_left_edge          = [0. 0. 0.]\n",
      "yt : [INFO     ] 2025-05-19 09:29:28,288 Parameters: domain_right_edge         = [25000. 25000. 25000.]\n",
      "yt : [INFO     ] 2025-05-19 09:29:28,290 Parameters: cosmological_simulation   = True\n",
      "yt : [INFO     ] 2025-05-19 09:29:28,375 Parameters: current_redshift          = 1.0476023211521182\n",
      "yt : [INFO     ] 2025-05-19 09:29:28,375 Parameters: omega_lambda              = 0.7\n",
      "yt : [INFO     ] 2025-05-19 09:29:28,376 Parameters: omega_matter              = 0.3\n",
      "yt : [INFO     ] 2025-05-19 09:29:28,378 Parameters: omega_radiation           = 0.0\n",
      "yt : [INFO     ] 2025-05-19 09:29:28,379 Parameters: hubble_constant           = 0.6711\n",
      "yt : [WARNING  ] 2025-05-19 09:29:28,382 The hot_gas particle filter already exists. Overriding.\n",
      "yt : [INFO     ] 2025-05-19 09:29:28,677 Allocating for 8286 particles\n",
      "yt : [INFO     ] 2025-05-19 09:29:29,076 Calculating time from 4.884e-01 to be 1.833e+17 seconds\n",
      "yt : [INFO     ] 2025-05-19 09:29:29,686 Parameters: current_time              = 1.832656005258152e+17 s\n",
      "yt : [INFO     ] 2025-05-19 09:29:29,688 Parameters: domain_dimensions         = [1 1 1]\n",
      "yt : [INFO     ] 2025-05-19 09:29:29,775 Parameters: domain_left_edge          = [0. 0. 0.]\n",
      "yt : [INFO     ] 2025-05-19 09:29:29,776 Parameters: domain_right_edge         = [25000. 25000. 25000.]\n",
      "yt : [INFO     ] 2025-05-19 09:29:29,777 Parameters: cosmological_simulation   = True\n",
      "yt : [INFO     ] 2025-05-19 09:29:29,779 Parameters: current_redshift          = 1.0476023211521182\n",
      "yt : [INFO     ] 2025-05-19 09:29:29,779 Parameters: omega_lambda              = 0.7\n",
      "yt : [INFO     ] 2025-05-19 09:29:29,780 Parameters: omega_matter              = 0.3\n",
      "yt : [INFO     ] 2025-05-19 09:29:29,781 Parameters: omega_radiation           = 0.0\n",
      "yt : [INFO     ] 2025-05-19 09:29:29,782 Parameters: hubble_constant           = 0.6711\n",
      "yt : [WARNING  ] 2025-05-19 09:29:29,784 The hot_gas particle filter already exists. Overriding.\n",
      "yt : [INFO     ] 2025-05-19 09:29:30,077 Allocating for 9265 particles\n",
      "pyxsim : [INFO     ] 2025-05-19 09:29:35,479 kT_min = 0.025 keV\n",
      "pyxsim : [INFO     ] 2025-05-19 09:29:35,481 kT_max = 64 keV\n",
      "pyxsim : [INFO     ] 2025-05-19 09:29:35,483 Using emission measure field '('hot_gas', 'emission_measure')'.\n",
      "pyxsim : [INFO     ] 2025-05-19 09:29:35,484 Using temperature field '('hot_gas', 'temperature')'.\n"
     ]
    },
    {
     "data": {
      "application/vnd.jupyter.widget-view+json": {
       "model_id": "9f15be5efd134711a711acc248063889",
       "version_major": 2,
       "version_minor": 0
      },
      "text/plain": [
       "Preparing spectrum table :   0%|          | 0/138 [00:00<?, ?it/s]"
      ]
     },
     "metadata": {},
     "output_type": "display_data"
    },
    {
     "name": "stderr",
     "output_type": "stream",
     "text": [
      "pyxsim : [INFO     ] 2025-05-19 09:29:48,191 kT_min = 0.025 keV\n",
      "pyxsim : [INFO     ] 2025-05-19 09:29:48,193 kT_max = 64 keV\n",
      "pyxsim : [INFO     ] 2025-05-19 09:29:48,275 Using emission measure field '('hot_gas', 'emission_measure')'.\n",
      "pyxsim : [INFO     ] 2025-05-19 09:29:48,276 Using temperature field '('hot_gas', 'temperature')'.\n"
     ]
    },
    {
     "data": {
      "application/vnd.jupyter.widget-view+json": {
       "model_id": "a25b779f59774a8b8cc0184e1dbe81d9",
       "version_major": 2,
       "version_minor": 0
      },
      "text/plain": [
       "Preparing spectrum table :   0%|          | 0/138 [00:00<?, ?it/s]"
      ]
     },
     "metadata": {},
     "output_type": "display_data"
    },
    {
     "name": "stderr",
     "output_type": "stream",
     "text": [
      "pyxsim : [INFO     ] 2025-05-19 09:29:49,387 kT_min = 0.025 keV\n",
      "pyxsim : [INFO     ] 2025-05-19 09:29:49,476 kT_max = 64 keV\n",
      "pyxsim : [INFO     ] 2025-05-19 09:29:49,478 Using emission measure field '('hot_gas', 'emission_measure')'.\n",
      "pyxsim : [INFO     ] 2025-05-19 09:29:49,479 Using temperature field '('hot_gas', 'temperature')'.\n"
     ]
    },
    {
     "data": {
      "application/vnd.jupyter.widget-view+json": {
       "model_id": "e674a3859e4b40deab66b35d3180a057",
       "version_major": 2,
       "version_minor": 0
      },
      "text/plain": [
       "Preparing spectrum table :   0%|          | 0/138 [00:00<?, ?it/s]"
      ]
     },
     "metadata": {},
     "output_type": "display_data"
    },
    {
     "name": "stderr",
     "output_type": "stream",
     "text": [
      "yt : [INFO     ] 2025-05-19 09:32:03,390 Making a fixed resolution buffer of (('hot_gas', 'xray_emissivity_0.5_2_keV')) 500 by 500\n",
      "ex2 Halos:  57%|█████▋    | 26/46 [19:13<21:08, 63.42s/it]yt : [INFO     ] 2025-05-19 09:32:09,775 Making a fixed resolution buffer of (('hot_gas', 'xray_emissivity_0.5_2_keV')) 500 by 500\n",
      "yt : [INFO     ] 2025-05-19 09:32:12,074 Calculating time from 4.884e-01 to be 1.833e+17 seconds\n",
      "yt : [INFO     ] 2025-05-19 09:32:14,575 Parameters: current_time              = 1.832656005258152e+17 s\n",
      "yt : [INFO     ] 2025-05-19 09:32:14,579 Parameters: domain_dimensions         = [1 1 1]\n",
      "yt : [INFO     ] 2025-05-19 09:32:14,581 Parameters: domain_left_edge          = [0. 0. 0.]\n",
      "yt : [INFO     ] 2025-05-19 09:32:14,582 Parameters: domain_right_edge         = [25000. 25000. 25000.]\n",
      "yt : [INFO     ] 2025-05-19 09:32:14,583 Parameters: cosmological_simulation   = True\n",
      "yt : [INFO     ] 2025-05-19 09:32:14,675 Parameters: current_redshift          = 1.0476023211521182\n",
      "yt : [INFO     ] 2025-05-19 09:32:14,677 Parameters: omega_lambda              = 0.7\n",
      "yt : [INFO     ] 2025-05-19 09:32:14,678 Parameters: omega_matter              = 0.3\n",
      "yt : [INFO     ] 2025-05-19 09:32:14,679 Parameters: omega_radiation           = 0.0\n",
      "yt : [INFO     ] 2025-05-19 09:32:14,680 Parameters: hubble_constant           = 0.6711\n",
      "yt : [WARNING  ] 2025-05-19 09:32:14,776 The hot_gas particle filter already exists. Overriding.\n",
      "yt : [INFO     ] 2025-05-19 09:32:15,079 Allocating for 8161 particles\n",
      "ex2 Halos:  59%|█████▊    | 27/46 [19:19<14:42, 46.44s/it]yt : [INFO     ] 2025-05-19 09:32:17,981 Making a fixed resolution buffer of (('hot_gas', 'xray_emissivity_0.5_2_keV')) 500 by 500\n",
      "yt : [INFO     ] 2025-05-19 09:32:18,790 Calculating time from 4.884e-01 to be 1.833e+17 seconds\n",
      "yt : [INFO     ] 2025-05-19 09:32:19,293 Parameters: current_time              = 1.832656005258152e+17 s\n",
      "yt : [INFO     ] 2025-05-19 09:32:19,376 Parameters: domain_dimensions         = [1 1 1]\n",
      "yt : [INFO     ] 2025-05-19 09:32:19,377 Parameters: domain_left_edge          = [0. 0. 0.]\n",
      "yt : [INFO     ] 2025-05-19 09:32:19,378 Parameters: domain_right_edge         = [25000. 25000. 25000.]\n",
      "yt : [INFO     ] 2025-05-19 09:32:19,380 Parameters: cosmological_simulation   = True\n",
      "yt : [INFO     ] 2025-05-19 09:32:19,381 Parameters: current_redshift          = 1.0476023211521182\n",
      "yt : [INFO     ] 2025-05-19 09:32:19,382 Parameters: omega_lambda              = 0.7\n",
      "yt : [INFO     ] 2025-05-19 09:32:19,382 Parameters: omega_matter              = 0.3\n",
      "yt : [INFO     ] 2025-05-19 09:32:19,383 Parameters: omega_radiation           = 0.0\n",
      "yt : [INFO     ] 2025-05-19 09:32:19,384 Parameters: hubble_constant           = 0.6711\n",
      "yt : [WARNING  ] 2025-05-19 09:32:19,386 The hot_gas particle filter already exists. Overriding.\n",
      "yt : [INFO     ] 2025-05-19 09:32:19,578 Allocating for 7630 particles\n",
      "ex2 Halos:  61%|██████    | 28/46 [19:27<10:26, 34.78s/it]yt : [INFO     ] 2025-05-19 09:32:28,486 Calculating time from 4.884e-01 to be 1.833e+17 seconds\n",
      "yt : [INFO     ] 2025-05-19 09:32:29,481 Parameters: current_time              = 1.832656005258152e+17 s\n",
      "yt : [INFO     ] 2025-05-19 09:32:29,483 Parameters: domain_dimensions         = [1 1 1]\n",
      "yt : [INFO     ] 2025-05-19 09:32:29,485 Parameters: domain_left_edge          = [0. 0. 0.]\n",
      "yt : [INFO     ] 2025-05-19 09:32:29,486 Parameters: domain_right_edge         = [25000. 25000. 25000.]\n",
      "yt : [INFO     ] 2025-05-19 09:32:29,574 Parameters: cosmological_simulation   = True\n",
      "yt : [INFO     ] 2025-05-19 09:32:29,576 Parameters: current_redshift          = 1.0476023211521182\n",
      "yt : [INFO     ] 2025-05-19 09:32:29,577 Parameters: omega_lambda              = 0.7\n",
      "yt : [INFO     ] 2025-05-19 09:32:29,578 Parameters: omega_matter              = 0.3\n",
      "yt : [INFO     ] 2025-05-19 09:32:29,580 Parameters: omega_radiation           = 0.0\n",
      "yt : [INFO     ] 2025-05-19 09:32:29,581 Parameters: hubble_constant           = 0.6711\n",
      "yt : [WARNING  ] 2025-05-19 09:32:29,584 The hot_gas particle filter already exists. Overriding.\n",
      "yt : [INFO     ] 2025-05-19 09:32:29,977 Allocating for 7920 particles\n",
      "yt : [INFO     ] 2025-05-19 09:32:31,785 Making a fixed resolution buffer of (('hot_gas', 'xray_emissivity_0.5_2_keV')) 500 by 500\n",
      "yt : [INFO     ] 2025-05-19 09:32:33,377 Making a fixed resolution buffer of (('hot_gas', 'xray_emissivity_0.5_2_keV')) 500 by 500\n",
      "ex2 Halos:  65%|██████▌   | 30/46 [19:44<05:34, 20.88s/it]pyxsim : [INFO     ] 2025-05-19 09:32:40,380 kT_min = 0.025 keV\n",
      "pyxsim : [INFO     ] 2025-05-19 09:32:40,382 kT_max = 64 keV\n",
      "pyxsim : [INFO     ] 2025-05-19 09:32:40,384 Using emission measure field '('hot_gas', 'emission_measure')'.\n",
      "pyxsim : [INFO     ] 2025-05-19 09:32:40,384 Using temperature field '('hot_gas', 'temperature')'.\n"
     ]
    },
    {
     "data": {
      "application/vnd.jupyter.widget-view+json": {
       "model_id": "6d9a21549c79425083142d6f0c929f97",
       "version_major": 2,
       "version_minor": 0
      },
      "text/plain": [
       "Preparing spectrum table :   0%|          | 0/138 [00:00<?, ?it/s]"
      ]
     },
     "metadata": {},
     "output_type": "display_data"
    },
    {
     "name": "stderr",
     "output_type": "stream",
     "text": [
      "yt : [INFO     ] 2025-05-19 09:32:40,592 Calculating time from 4.884e-01 to be 1.833e+17 seconds\n",
      "yt : [INFO     ] 2025-05-19 09:32:41,086 Parameters: current_time              = 1.832656005258152e+17 s\n",
      "yt : [INFO     ] 2025-05-19 09:32:41,087 Parameters: domain_dimensions         = [1 1 1]\n",
      "yt : [INFO     ] 2025-05-19 09:32:41,089 Parameters: domain_left_edge          = [0. 0. 0.]\n",
      "yt : [INFO     ] 2025-05-19 09:32:41,089 Parameters: domain_right_edge         = [25000. 25000. 25000.]\n",
      "yt : [INFO     ] 2025-05-19 09:32:41,091 Parameters: cosmological_simulation   = True\n",
      "yt : [INFO     ] 2025-05-19 09:32:41,091 Parameters: current_redshift          = 1.0476023211521182\n",
      "yt : [INFO     ] 2025-05-19 09:32:41,174 Parameters: omega_lambda              = 0.7\n",
      "yt : [INFO     ] 2025-05-19 09:32:41,175 Parameters: omega_matter              = 0.3\n",
      "yt : [INFO     ] 2025-05-19 09:32:41,176 Parameters: omega_radiation           = 0.0\n",
      "yt : [INFO     ] 2025-05-19 09:32:41,177 Parameters: hubble_constant           = 0.6711\n",
      "yt : [WARNING  ] 2025-05-19 09:32:41,179 The hot_gas particle filter already exists. Overriding.\n",
      "yt : [INFO     ] 2025-05-19 09:32:41,377 Allocating for 8021 particles\n",
      "yt : [INFO     ] 2025-05-19 09:32:42,879 Calculating time from 4.884e-01 to be 1.833e+17 seconds\n",
      "yt : [INFO     ] 2025-05-19 09:32:43,381 Parameters: current_time              = 1.832656005258152e+17 s\n",
      "yt : [INFO     ] 2025-05-19 09:32:43,383 Parameters: domain_dimensions         = [1 1 1]\n",
      "yt : [INFO     ] 2025-05-19 09:32:43,384 Parameters: domain_left_edge          = [0. 0. 0.]\n",
      "yt : [INFO     ] 2025-05-19 09:32:43,385 Parameters: domain_right_edge         = [25000. 25000. 25000.]\n",
      "yt : [INFO     ] 2025-05-19 09:32:43,386 Parameters: cosmological_simulation   = True\n",
      "yt : [INFO     ] 2025-05-19 09:32:43,387 Parameters: current_redshift          = 1.0476023211521182\n",
      "yt : [INFO     ] 2025-05-19 09:32:43,388 Parameters: omega_lambda              = 0.7\n",
      "yt : [INFO     ] 2025-05-19 09:32:43,389 Parameters: omega_matter              = 0.3\n",
      "yt : [INFO     ] 2025-05-19 09:32:43,475 Parameters: omega_radiation           = 0.0\n",
      "yt : [INFO     ] 2025-05-19 09:32:43,476 Parameters: hubble_constant           = 0.6711\n",
      "yt : [WARNING  ] 2025-05-19 09:32:43,478 The hot_gas particle filter already exists. Overriding.\n",
      "yt : [INFO     ] 2025-05-19 09:32:43,677 Allocating for 7836 particles\n",
      "pyxsim : [INFO     ] 2025-05-19 09:32:44,379 kT_min = 0.025 keV\n",
      "pyxsim : [INFO     ] 2025-05-19 09:32:44,381 kT_max = 64 keV\n",
      "pyxsim : [INFO     ] 2025-05-19 09:32:44,383 Using emission measure field '('hot_gas', 'emission_measure')'.\n",
      "pyxsim : [INFO     ] 2025-05-19 09:32:44,384 Using temperature field '('hot_gas', 'temperature')'.\n"
     ]
    },
    {
     "data": {
      "application/vnd.jupyter.widget-view+json": {
       "model_id": "d22ed89cb353429bafc508aa46ea5f28",
       "version_major": 2,
       "version_minor": 0
      },
      "text/plain": [
       "Preparing spectrum table :   0%|          | 0/138 [00:00<?, ?it/s]"
      ]
     },
     "metadata": {},
     "output_type": "display_data"
    },
    {
     "name": "stderr",
     "output_type": "stream",
     "text": [
      "pyxsim : [INFO     ] 2025-05-19 09:32:54,089 kT_min = 0.025 keV\n",
      "pyxsim : [INFO     ] 2025-05-19 09:32:54,092 kT_max = 64 keV\n",
      "pyxsim : [INFO     ] 2025-05-19 09:32:54,176 Using emission measure field '('hot_gas', 'emission_measure')'.\n",
      "pyxsim : [INFO     ] 2025-05-19 09:32:54,177 Using temperature field '('hot_gas', 'temperature')'.\n"
     ]
    },
    {
     "data": {
      "application/vnd.jupyter.widget-view+json": {
       "model_id": "cbb2600cf72a4d739ede2e8fed69a694",
       "version_major": 2,
       "version_minor": 0
      },
      "text/plain": [
       "Preparing spectrum table :   0%|          | 0/138 [00:00<?, ?it/s]"
      ]
     },
     "metadata": {},
     "output_type": "display_data"
    },
    {
     "name": "stderr",
     "output_type": "stream",
     "text": [
      "pyxsim : [INFO     ] 2025-05-19 09:33:01,686 kT_min = 0.025 keV\n",
      "pyxsim : [INFO     ] 2025-05-19 09:33:01,688 kT_max = 64 keV\n",
      "pyxsim : [INFO     ] 2025-05-19 09:33:01,690 Using emission measure field '('hot_gas', 'emission_measure')'.\n",
      "pyxsim : [INFO     ] 2025-05-19 09:33:01,775 Using temperature field '('hot_gas', 'temperature')'.\n"
     ]
    },
    {
     "data": {
      "application/vnd.jupyter.widget-view+json": {
       "model_id": "a32010d194e54ea999979f0d6b0956ad",
       "version_major": 2,
       "version_minor": 0
      },
      "text/plain": [
       "Preparing spectrum table :   0%|          | 0/138 [00:00<?, ?it/s]"
      ]
     },
     "metadata": {},
     "output_type": "display_data"
    },
    {
     "name": "stderr",
     "output_type": "stream",
     "text": [
      "pyxsim : [INFO     ] 2025-05-19 09:33:04,784 kT_min = 0.025 keV\n",
      "pyxsim : [INFO     ] 2025-05-19 09:33:04,786 kT_max = 64 keV\n",
      "pyxsim : [INFO     ] 2025-05-19 09:33:04,788 Using emission measure field '('hot_gas', 'emission_measure')'.\n",
      "pyxsim : [INFO     ] 2025-05-19 09:33:04,875 Using temperature field '('hot_gas', 'temperature')'.\n"
     ]
    },
    {
     "data": {
      "application/vnd.jupyter.widget-view+json": {
       "model_id": "fb159d86ff0d44958ffaa2e75995e7b8",
       "version_major": 2,
       "version_minor": 0
      },
      "text/plain": [
       "Preparing spectrum table :   0%|          | 0/138 [00:00<?, ?it/s]"
      ]
     },
     "metadata": {},
     "output_type": "display_data"
    },
    {
     "name": "stderr",
     "output_type": "stream",
     "text": [
      "yt : [INFO     ] 2025-05-19 09:35:18,580 Making a fixed resolution buffer of (('hot_gas', 'xray_emissivity_0.5_2_keV')) 500 by 500\n",
      "ex2 Halos:  67%|██████▋   | 31/46 [22:27<15:55, 63.72s/it]yt : [INFO     ] 2025-05-19 09:35:26,594 Calculating time from 4.884e-01 to be 1.833e+17 seconds\n",
      "yt : [INFO     ] 2025-05-19 09:35:27,090 Parameters: current_time              = 1.832656005258152e+17 s\n",
      "yt : [INFO     ] 2025-05-19 09:35:27,091 Parameters: domain_dimensions         = [1 1 1]\n",
      "yt : [INFO     ] 2025-05-19 09:35:27,093 Parameters: domain_left_edge          = [0. 0. 0.]\n",
      "yt : [INFO     ] 2025-05-19 09:35:27,175 Parameters: domain_right_edge         = [25000. 25000. 25000.]\n",
      "yt : [INFO     ] 2025-05-19 09:35:27,176 Parameters: cosmological_simulation   = True\n",
      "yt : [INFO     ] 2025-05-19 09:35:27,177 Parameters: current_redshift          = 1.0476023211521182\n",
      "yt : [INFO     ] 2025-05-19 09:35:27,178 Parameters: omega_lambda              = 0.7\n",
      "yt : [INFO     ] 2025-05-19 09:35:27,179 Parameters: omega_matter              = 0.3\n",
      "yt : [INFO     ] 2025-05-19 09:35:27,180 Parameters: omega_radiation           = 0.0\n",
      "yt : [INFO     ] 2025-05-19 09:35:27,181 Parameters: hubble_constant           = 0.6711\n",
      "yt : [INFO     ] 2025-05-19 09:35:27,180 Making a fixed resolution buffer of (('hot_gas', 'xray_emissivity_0.5_2_keV')) 500 by 500\n",
      "yt : [WARNING  ] 2025-05-19 09:35:27,183 The hot_gas particle filter already exists. Overriding.\n",
      "yt : [INFO     ] 2025-05-19 09:35:27,378 Allocating for 7367 particles\n",
      "yt : [INFO     ] 2025-05-19 09:35:32,678 Making a fixed resolution buffer of (('hot_gas', 'xray_emissivity_0.5_2_keV')) 500 by 500\n",
      "ex2 Halos:  70%|██████▉   | 32/46 [22:36<11:01, 47.28s/it]yt : [INFO     ] 2025-05-19 09:35:37,277 Calculating time from 4.884e-01 to be 1.833e+17 seconds\n",
      "ex2 Halos:  72%|███████▏  | 33/46 [22:42<07:31, 34.71s/it]yt : [INFO     ] 2025-05-19 09:35:38,090 Parameters: current_time              = 1.832656005258152e+17 s\n",
      "yt : [INFO     ] 2025-05-19 09:35:38,174 Parameters: domain_dimensions         = [1 1 1]\n",
      "yt : [INFO     ] 2025-05-19 09:35:38,176 Parameters: domain_left_edge          = [0. 0. 0.]\n",
      "yt : [INFO     ] 2025-05-19 09:35:38,177 Parameters: domain_right_edge         = [25000. 25000. 25000.]\n",
      "yt : [INFO     ] 2025-05-19 09:35:38,178 Parameters: cosmological_simulation   = True\n",
      "yt : [INFO     ] 2025-05-19 09:35:38,179 Parameters: current_redshift          = 1.0476023211521182\n",
      "yt : [INFO     ] 2025-05-19 09:35:38,180 Parameters: omega_lambda              = 0.7\n",
      "yt : [INFO     ] 2025-05-19 09:35:38,180 Parameters: omega_matter              = 0.3\n",
      "yt : [INFO     ] 2025-05-19 09:35:38,181 Parameters: omega_radiation           = 0.0\n",
      "yt : [INFO     ] 2025-05-19 09:35:38,182 Parameters: hubble_constant           = 0.6711\n",
      "yt : [WARNING  ] 2025-05-19 09:35:38,185 The hot_gas particle filter already exists. Overriding.\n",
      "yt : [INFO     ] 2025-05-19 09:35:38,393 Allocating for 8077 particles\n",
      "yt : [INFO     ] 2025-05-19 09:35:40,891 Calculating time from 4.884e-01 to be 1.833e+17 seconds\n",
      "yt : [INFO     ] 2025-05-19 09:35:41,478 Parameters: current_time              = 1.832656005258152e+17 s\n",
      "yt : [INFO     ] 2025-05-19 09:35:41,481 Parameters: domain_dimensions         = [1 1 1]\n",
      "yt : [INFO     ] 2025-05-19 09:35:41,482 Parameters: domain_left_edge          = [0. 0. 0.]\n",
      "yt : [INFO     ] 2025-05-19 09:35:41,483 Parameters: domain_right_edge         = [25000. 25000. 25000.]\n",
      "yt : [INFO     ] 2025-05-19 09:35:41,485 Parameters: cosmological_simulation   = True\n",
      "yt : [INFO     ] 2025-05-19 09:35:41,486 Parameters: current_redshift          = 1.0476023211521182\n",
      "yt : [INFO     ] 2025-05-19 09:35:41,487 Parameters: omega_lambda              = 0.7\n",
      "yt : [INFO     ] 2025-05-19 09:35:41,488 Parameters: omega_matter              = 0.3\n",
      "yt : [INFO     ] 2025-05-19 09:35:41,574 Parameters: omega_radiation           = 0.0\n",
      "yt : [INFO     ] 2025-05-19 09:35:41,576 Parameters: hubble_constant           = 0.6711\n",
      "yt : [WARNING  ] 2025-05-19 09:35:41,578 The hot_gas particle filter already exists. Overriding.\n",
      "yt : [INFO     ] 2025-05-19 09:35:41,777 Allocating for 7100 particles\n",
      "yt : [INFO     ] 2025-05-19 09:35:41,978 Making a fixed resolution buffer of (('hot_gas', 'xray_emissivity_0.5_2_keV')) 500 by 500\n",
      "ex2 Halos:  74%|███████▍  | 34/46 [22:50<05:22, 26.91s/it]yt : [INFO     ] 2025-05-19 09:35:49,193 Calculating time from 4.884e-01 to be 1.833e+17 seconds\n",
      "yt : [INFO     ] 2025-05-19 09:35:49,689 Parameters: current_time              = 1.832656005258152e+17 s\n",
      "yt : [INFO     ] 2025-05-19 09:35:49,690 Parameters: domain_dimensions         = [1 1 1]\n",
      "yt : [INFO     ] 2025-05-19 09:35:49,691 Parameters: domain_left_edge          = [0. 0. 0.]\n",
      "yt : [INFO     ] 2025-05-19 09:35:49,775 Parameters: domain_right_edge         = [25000. 25000. 25000.]\n",
      "yt : [INFO     ] 2025-05-19 09:35:49,776 Parameters: cosmological_simulation   = True\n",
      "yt : [INFO     ] 2025-05-19 09:35:49,777 Parameters: current_redshift          = 1.0476023211521182\n",
      "yt : [INFO     ] 2025-05-19 09:35:49,778 Parameters: omega_lambda              = 0.7\n",
      "yt : [INFO     ] 2025-05-19 09:35:49,778 Parameters: omega_matter              = 0.3\n",
      "yt : [INFO     ] 2025-05-19 09:35:49,779 Parameters: omega_radiation           = 0.0\n",
      "yt : [INFO     ] 2025-05-19 09:35:49,780 Parameters: hubble_constant           = 0.6711\n",
      "yt : [WARNING  ] 2025-05-19 09:35:49,782 The hot_gas particle filter already exists. Overriding.\n",
      "yt : [INFO     ] 2025-05-19 09:35:49,977 Allocating for 6576 particles\n",
      "pyxsim : [INFO     ] 2025-05-19 09:35:52,284 kT_min = 0.025 keV\n",
      "pyxsim : [INFO     ] 2025-05-19 09:35:52,286 kT_max = 64 keV\n",
      "pyxsim : [INFO     ] 2025-05-19 09:35:52,374 Using emission measure field '('hot_gas', 'emission_measure')'.\n",
      "pyxsim : [INFO     ] 2025-05-19 09:35:52,375 Using temperature field '('hot_gas', 'temperature')'.\n"
     ]
    },
    {
     "data": {
      "application/vnd.jupyter.widget-view+json": {
       "model_id": "fadd2f3c8f9f46a1914ee82b96625fb9",
       "version_major": 2,
       "version_minor": 0
      },
      "text/plain": [
       "Preparing spectrum table :   0%|          | 0/138 [00:00<?, ?it/s]"
      ]
     },
     "metadata": {},
     "output_type": "display_data"
    },
    {
     "name": "stderr",
     "output_type": "stream",
     "text": [
      "yt : [INFO     ] 2025-05-19 09:35:54,592 Making a fixed resolution buffer of (('hot_gas', 'xray_emissivity_0.5_2_keV')) 500 by 500\n",
      "ex2 Halos:  76%|███████▌  | 35/46 [23:03<04:09, 22.71s/it]pyxsim : [INFO     ] 2025-05-19 09:36:01,885 kT_min = 0.025 keV\n",
      "pyxsim : [INFO     ] 2025-05-19 09:36:01,888 kT_max = 64 keV\n",
      "pyxsim : [INFO     ] 2025-05-19 09:36:01,890 Using emission measure field '('hot_gas', 'emission_measure')'.\n",
      "pyxsim : [INFO     ] 2025-05-19 09:36:01,891 Using temperature field '('hot_gas', 'temperature')'.\n"
     ]
    },
    {
     "data": {
      "application/vnd.jupyter.widget-view+json": {
       "model_id": "2f2d061b1cdb460094ad8ae78bee9efe",
       "version_major": 2,
       "version_minor": 0
      },
      "text/plain": [
       "Preparing spectrum table :   0%|          | 0/138 [00:00<?, ?it/s]"
      ]
     },
     "metadata": {},
     "output_type": "display_data"
    },
    {
     "name": "stderr",
     "output_type": "stream",
     "text": [
      "yt : [INFO     ] 2025-05-19 09:36:03,377 Calculating time from 4.884e-01 to be 1.833e+17 seconds\n",
      "yt : [INFO     ] 2025-05-19 09:36:03,881 Parameters: current_time              = 1.832656005258152e+17 s\n",
      "yt : [INFO     ] 2025-05-19 09:36:03,882 Parameters: domain_dimensions         = [1 1 1]\n",
      "yt : [INFO     ] 2025-05-19 09:36:03,884 Parameters: domain_left_edge          = [0. 0. 0.]\n",
      "yt : [INFO     ] 2025-05-19 09:36:03,885 Parameters: domain_right_edge         = [25000. 25000. 25000.]\n",
      "yt : [INFO     ] 2025-05-19 09:36:03,886 Parameters: cosmological_simulation   = True\n",
      "yt : [INFO     ] 2025-05-19 09:36:03,887 Parameters: current_redshift          = 1.0476023211521182\n",
      "yt : [INFO     ] 2025-05-19 09:36:03,974 Parameters: omega_lambda              = 0.7\n",
      "yt : [INFO     ] 2025-05-19 09:36:03,975 Parameters: omega_matter              = 0.3\n",
      "yt : [INFO     ] 2025-05-19 09:36:03,976 Parameters: omega_radiation           = 0.0\n",
      "yt : [INFO     ] 2025-05-19 09:36:03,977 Parameters: hubble_constant           = 0.6711\n",
      "yt : [WARNING  ] 2025-05-19 09:36:03,980 The hot_gas particle filter already exists. Overriding.\n",
      "yt : [INFO     ] 2025-05-19 09:36:04,179 Allocating for 7354 particles\n",
      "pyxsim : [INFO     ] 2025-05-19 09:36:04,983 kT_min = 0.025 keV\n",
      "pyxsim : [INFO     ] 2025-05-19 09:36:04,986 kT_max = 64 keV\n",
      "pyxsim : [INFO     ] 2025-05-19 09:36:04,988 Using emission measure field '('hot_gas', 'emission_measure')'.\n",
      "pyxsim : [INFO     ] 2025-05-19 09:36:05,074 Using temperature field '('hot_gas', 'temperature')'.\n"
     ]
    },
    {
     "data": {
      "application/vnd.jupyter.widget-view+json": {
       "model_id": "b13b768b3e884a408dd5de6bb119c48a",
       "version_major": 2,
       "version_minor": 0
      },
      "text/plain": [
       "Preparing spectrum table :   0%|          | 0/138 [00:00<?, ?it/s]"
      ]
     },
     "metadata": {},
     "output_type": "display_data"
    },
    {
     "name": "stderr",
     "output_type": "stream",
     "text": [
      "pyxsim : [INFO     ] 2025-05-19 09:36:12,993 kT_min = 0.025 keV\n",
      "pyxsim : [INFO     ] 2025-05-19 09:36:13,076 kT_max = 64 keV\n",
      "pyxsim : [INFO     ] 2025-05-19 09:36:13,078 Using emission measure field '('hot_gas', 'emission_measure')'.\n",
      "pyxsim : [INFO     ] 2025-05-19 09:36:13,079 Using temperature field '('hot_gas', 'temperature')'.\n"
     ]
    },
    {
     "data": {
      "application/vnd.jupyter.widget-view+json": {
       "model_id": "e5cc0f9b6b04413ba9ca9c325ebecda6",
       "version_major": 2,
       "version_minor": 0
      },
      "text/plain": [
       "Preparing spectrum table :   0%|          | 0/138 [00:00<?, ?it/s]"
      ]
     },
     "metadata": {},
     "output_type": "display_data"
    },
    {
     "name": "stderr",
     "output_type": "stream",
     "text": [
      "pyxsim : [INFO     ] 2025-05-19 09:36:25,689 kT_min = 0.025 keV\n",
      "pyxsim : [INFO     ] 2025-05-19 09:36:25,776 kT_max = 64 keV\n",
      "pyxsim : [INFO     ] 2025-05-19 09:36:25,782 Using emission measure field '('hot_gas', 'emission_measure')'.\n",
      "pyxsim : [INFO     ] 2025-05-19 09:36:25,783 Using temperature field '('hot_gas', 'temperature')'.\n"
     ]
    },
    {
     "data": {
      "application/vnd.jupyter.widget-view+json": {
       "model_id": "00c86dab659e42a995c7b8b0a2a1415c",
       "version_major": 2,
       "version_minor": 0
      },
      "text/plain": [
       "Preparing spectrum table :   0%|          | 0/138 [00:00<?, ?it/s]"
      ]
     },
     "metadata": {},
     "output_type": "display_data"
    },
    {
     "name": "stderr",
     "output_type": "stream",
     "text": [
      "yt : [INFO     ] 2025-05-19 09:38:33,382 Making a fixed resolution buffer of (('hot_gas', 'xray_emissivity_0.5_2_keV')) 500 by 500\n",
      "yt : [INFO     ] 2025-05-19 09:38:38,577 Making a fixed resolution buffer of (('hot_gas', 'xray_emissivity_0.5_2_keV')) 500 by 500\n",
      "ex2 Halos:  78%|███████▊  | 36/46 [25:42<10:35, 63.60s/it]yt : [INFO     ] 2025-05-19 09:38:43,075 Calculating time from 4.884e-01 to be 1.833e+17 seconds\n",
      "yt : [INFO     ] 2025-05-19 09:38:43,985 Parameters: current_time              = 1.832656005258152e+17 s\n",
      "yt : [INFO     ] 2025-05-19 09:38:43,987 Parameters: domain_dimensions         = [1 1 1]\n",
      "yt : [INFO     ] 2025-05-19 09:38:44,075 Parameters: domain_left_edge          = [0. 0. 0.]\n",
      "yt : [INFO     ] 2025-05-19 09:38:44,077 Parameters: domain_right_edge         = [25000. 25000. 25000.]\n",
      "yt : [INFO     ] 2025-05-19 09:38:44,078 Parameters: cosmological_simulation   = True\n",
      "yt : [INFO     ] 2025-05-19 09:38:44,079 Parameters: current_redshift          = 1.0476023211521182\n",
      "yt : [INFO     ] 2025-05-19 09:38:44,080 Parameters: omega_lambda              = 0.7\n",
      "yt : [INFO     ] 2025-05-19 09:38:44,081 Parameters: omega_matter              = 0.3\n",
      "yt : [INFO     ] 2025-05-19 09:38:44,082 Parameters: omega_radiation           = 0.0\n",
      "yt : [INFO     ] 2025-05-19 09:38:44,276 Parameters: hubble_constant           = 0.6711\n",
      "yt : [WARNING  ] 2025-05-19 09:38:44,281 The hot_gas particle filter already exists. Overriding.\n",
      "ex2 Halos:  80%|████████  | 37/46 [25:48<06:56, 46.25s/it]yt : [INFO     ] 2025-05-19 09:38:44,577 Allocating for 5925 particles\n",
      "yt : [INFO     ] 2025-05-19 09:38:45,075 Making a fixed resolution buffer of (('hot_gas', 'xray_emissivity_0.5_2_keV')) 500 by 500\n",
      "yt : [INFO     ] 2025-05-19 09:38:46,890 Calculating time from 4.884e-01 to be 1.833e+17 seconds\n",
      "yt : [INFO     ] 2025-05-19 09:38:47,389 Parameters: current_time              = 1.832656005258152e+17 s\n",
      "yt : [INFO     ] 2025-05-19 09:38:47,391 Parameters: domain_dimensions         = [1 1 1]\n",
      "yt : [INFO     ] 2025-05-19 09:38:47,475 Parameters: domain_left_edge          = [0. 0. 0.]\n",
      "yt : [INFO     ] 2025-05-19 09:38:47,975 Parameters: domain_right_edge         = [25000. 25000. 25000.]\n",
      "yt : [INFO     ] 2025-05-19 09:38:48,076 Parameters: cosmological_simulation   = True\n",
      "yt : [INFO     ] 2025-05-19 09:38:48,078 Parameters: current_redshift          = 1.0476023211521182\n",
      "yt : [INFO     ] 2025-05-19 09:38:48,078 Parameters: omega_lambda              = 0.7\n",
      "yt : [INFO     ] 2025-05-19 09:38:48,082 Parameters: omega_matter              = 0.3\n",
      "yt : [INFO     ] 2025-05-19 09:38:48,475 Parameters: omega_radiation           = 0.0\n",
      "yt : [INFO     ] 2025-05-19 09:38:48,676 Parameters: hubble_constant           = 0.6711\n",
      "yt : [WARNING  ] 2025-05-19 09:38:48,779 The hot_gas particle filter already exists. Overriding.\n",
      "yt : [INFO     ] 2025-05-19 09:38:49,079 Allocating for 6185 particles\n",
      "ex2 Halos:  83%|████████▎ | 38/46 [25:54<04:32, 34.09s/it]yt : [INFO     ] 2025-05-19 09:38:52,693 Calculating time from 4.884e-01 to be 1.833e+17 seconds\n",
      "yt : [INFO     ] 2025-05-19 09:38:53,191 Parameters: current_time              = 1.832656005258152e+17 s\n",
      "yt : [INFO     ] 2025-05-19 09:38:53,193 Parameters: domain_dimensions         = [1 1 1]\n",
      "yt : [INFO     ] 2025-05-19 09:38:53,275 Parameters: domain_left_edge          = [0. 0. 0.]\n",
      "yt : [INFO     ] 2025-05-19 09:38:53,276 Parameters: domain_right_edge         = [25000. 25000. 25000.]\n",
      "yt : [INFO     ] 2025-05-19 09:38:53,277 Parameters: cosmological_simulation   = True\n",
      "yt : [INFO     ] 2025-05-19 09:38:53,278 Parameters: current_redshift          = 1.0476023211521182\n",
      "yt : [INFO     ] 2025-05-19 09:38:53,279 Parameters: omega_lambda              = 0.7\n",
      "yt : [INFO     ] 2025-05-19 09:38:53,279 Parameters: omega_matter              = 0.3\n",
      "yt : [INFO     ] 2025-05-19 09:38:53,280 Parameters: omega_radiation           = 0.0\n",
      "yt : [INFO     ] 2025-05-19 09:38:53,281 Parameters: hubble_constant           = 0.6711\n",
      "yt : [WARNING  ] 2025-05-19 09:38:53,283 The hot_gas particle filter already exists. Overriding.\n",
      "yt : [INFO     ] 2025-05-19 09:38:53,476 Allocating for 5134 particles\n",
      "yt : [INFO     ] 2025-05-19 09:38:54,981 Making a fixed resolution buffer of (('hot_gas', 'xray_emissivity_0.5_2_keV')) 500 by 500\n",
      "ex2 Halos:  85%|████████▍ | 39/46 [26:03<03:06, 26.71s/it]yt : [INFO     ] 2025-05-19 09:39:01,689 Calculating time from 4.884e-01 to be 1.833e+17 seconds\n",
      "yt : [INFO     ] 2025-05-19 09:39:02,187 Parameters: current_time              = 1.832656005258152e+17 s\n",
      "yt : [INFO     ] 2025-05-19 09:39:02,189 Parameters: domain_dimensions         = [1 1 1]\n",
      "yt : [INFO     ] 2025-05-19 09:39:02,190 Parameters: domain_left_edge          = [0. 0. 0.]\n",
      "yt : [INFO     ] 2025-05-19 09:39:02,275 Parameters: domain_right_edge         = [25000. 25000. 25000.]\n",
      "yt : [INFO     ] 2025-05-19 09:39:02,276 Parameters: cosmological_simulation   = True\n",
      "yt : [INFO     ] 2025-05-19 09:39:02,277 Parameters: current_redshift          = 1.0476023211521182\n",
      "yt : [INFO     ] 2025-05-19 09:39:02,278 Parameters: omega_lambda              = 0.7\n",
      "yt : [INFO     ] 2025-05-19 09:39:02,279 Parameters: omega_matter              = 0.3\n",
      "yt : [INFO     ] 2025-05-19 09:39:02,279 Parameters: omega_radiation           = 0.0\n",
      "yt : [INFO     ] 2025-05-19 09:39:02,280 Parameters: hubble_constant           = 0.6711\n",
      "yt : [WARNING  ] 2025-05-19 09:39:02,282 The hot_gas particle filter already exists. Overriding.\n",
      "yt : [INFO     ] 2025-05-19 09:39:02,478 Allocating for 5373 particles\n",
      "pyxsim : [INFO     ] 2025-05-19 09:39:04,691 kT_min = 0.025 keV\n",
      "pyxsim : [INFO     ] 2025-05-19 09:39:04,693 kT_max = 64 keV\n",
      "pyxsim : [INFO     ] 2025-05-19 09:39:04,777 Using emission measure field '('hot_gas', 'emission_measure')'.\n",
      "pyxsim : [INFO     ] 2025-05-19 09:39:04,778 Using temperature field '('hot_gas', 'temperature')'.\n"
     ]
    },
    {
     "data": {
      "application/vnd.jupyter.widget-view+json": {
       "model_id": "b37ea431fe2442129a20d337facc3c4f",
       "version_major": 2,
       "version_minor": 0
      },
      "text/plain": [
       "Preparing spectrum table :   0%|          | 0/138 [00:00<?, ?it/s]"
      ]
     },
     "metadata": {},
     "output_type": "display_data"
    },
    {
     "name": "stderr",
     "output_type": "stream",
     "text": [
      "pyxsim : [INFO     ] 2025-05-19 09:39:08,876 kT_min = 0.025 keV\n",
      "pyxsim : [INFO     ] 2025-05-19 09:39:08,878 kT_max = 64 keV\n",
      "pyxsim : [INFO     ] 2025-05-19 09:39:08,881 Using emission measure field '('hot_gas', 'emission_measure')'.\n",
      "pyxsim : [INFO     ] 2025-05-19 09:39:08,882 Using temperature field '('hot_gas', 'temperature')'.\n"
     ]
    },
    {
     "data": {
      "application/vnd.jupyter.widget-view+json": {
       "model_id": "3e768014a389473c809285c9dc07e344",
       "version_major": 2,
       "version_minor": 0
      },
      "text/plain": [
       "Preparing spectrum table :   0%|          | 0/138 [00:00<?, ?it/s]"
      ]
     },
     "metadata": {},
     "output_type": "display_data"
    },
    {
     "name": "stderr",
     "output_type": "stream",
     "text": [
      "yt : [INFO     ] 2025-05-19 09:39:10,878 Making a fixed resolution buffer of (('hot_gas', 'xray_emissivity_0.5_2_keV')) 500 by 500\n",
      "ex2 Halos:  87%|████████▋ | 40/46 [26:19<02:21, 23.53s/it]pyxsim : [INFO     ] 2025-05-19 09:39:16,790 kT_min = 0.025 keV\n",
      "pyxsim : [INFO     ] 2025-05-19 09:39:16,792 kT_max = 64 keV\n",
      "pyxsim : [INFO     ] 2025-05-19 09:39:16,875 Using emission measure field '('hot_gas', 'emission_measure')'.\n",
      "pyxsim : [INFO     ] 2025-05-19 09:39:16,876 Using temperature field '('hot_gas', 'temperature')'.\n"
     ]
    },
    {
     "data": {
      "application/vnd.jupyter.widget-view+json": {
       "model_id": "7eb2deb46b3946b58d6224144daf8bb5",
       "version_major": 2,
       "version_minor": 0
      },
      "text/plain": [
       "Preparing spectrum table :   0%|          | 0/138 [00:00<?, ?it/s]"
      ]
     },
     "metadata": {},
     "output_type": "display_data"
    },
    {
     "name": "stderr",
     "output_type": "stream",
     "text": [
      "yt : [INFO     ] 2025-05-19 09:39:18,384 Calculating time from 4.884e-01 to be 1.833e+17 seconds\n",
      "yt : [INFO     ] 2025-05-19 09:39:18,887 Parameters: current_time              = 1.832656005258152e+17 s\n",
      "yt : [INFO     ] 2025-05-19 09:39:18,889 Parameters: domain_dimensions         = [1 1 1]\n",
      "yt : [INFO     ] 2025-05-19 09:39:18,890 Parameters: domain_left_edge          = [0. 0. 0.]\n",
      "yt : [INFO     ] 2025-05-19 09:39:18,891 Parameters: domain_right_edge         = [25000. 25000. 25000.]\n",
      "yt : [INFO     ] 2025-05-19 09:39:18,975 Parameters: cosmological_simulation   = True\n",
      "yt : [INFO     ] 2025-05-19 09:39:18,976 Parameters: current_redshift          = 1.0476023211521182\n",
      "yt : [INFO     ] 2025-05-19 09:39:18,977 Parameters: omega_lambda              = 0.7\n",
      "yt : [INFO     ] 2025-05-19 09:39:18,979 Parameters: omega_matter              = 0.3\n",
      "yt : [INFO     ] 2025-05-19 09:39:18,980 Parameters: omega_radiation           = 0.0\n",
      "yt : [INFO     ] 2025-05-19 09:39:18,981 Parameters: hubble_constant           = 0.6711\n",
      "yt : [WARNING  ] 2025-05-19 09:39:18,984 The hot_gas particle filter already exists. Overriding.\n",
      "yt : [INFO     ] 2025-05-19 09:39:19,191 Allocating for 5340 particles\n",
      "pyxsim : [INFO     ] 2025-05-19 09:39:22,981 kT_min = 0.025 keV\n",
      "pyxsim : [INFO     ] 2025-05-19 09:39:22,983 kT_max = 64 keV\n",
      "pyxsim : [INFO     ] 2025-05-19 09:39:22,986 Using emission measure field '('hot_gas', 'emission_measure')'.\n",
      "pyxsim : [INFO     ] 2025-05-19 09:39:22,987 Using temperature field '('hot_gas', 'temperature')'.\n"
     ]
    },
    {
     "data": {
      "application/vnd.jupyter.widget-view+json": {
       "model_id": "3a0c42c677604dcda81373a51f43408c",
       "version_major": 2,
       "version_minor": 0
      },
      "text/plain": [
       "Preparing spectrum table :   0%|          | 0/138 [00:00<?, ?it/s]"
      ]
     },
     "metadata": {},
     "output_type": "display_data"
    },
    {
     "name": "stderr",
     "output_type": "stream",
     "text": [
      "pyxsim : [INFO     ] 2025-05-19 09:39:38,192 kT_min = 0.025 keV\n",
      "pyxsim : [INFO     ] 2025-05-19 09:39:38,276 kT_max = 64 keV\n",
      "pyxsim : [INFO     ] 2025-05-19 09:39:38,278 Using emission measure field '('hot_gas', 'emission_measure')'.\n",
      "pyxsim : [INFO     ] 2025-05-19 09:39:38,279 Using temperature field '('hot_gas', 'temperature')'.\n"
     ]
    },
    {
     "data": {
      "application/vnd.jupyter.widget-view+json": {
       "model_id": "6bd14c3a4a8f4dc284039e387bf4d017",
       "version_major": 2,
       "version_minor": 0
      },
      "text/plain": [
       "Preparing spectrum table :   0%|          | 0/138 [00:00<?, ?it/s]"
      ]
     },
     "metadata": {},
     "output_type": "display_data"
    },
    {
     "name": "stderr",
     "output_type": "stream",
     "text": [
      "yt : [INFO     ] 2025-05-19 09:41:44,081 Making a fixed resolution buffer of (('hot_gas', 'xray_emissivity_0.5_2_keV')) 500 by 500\n",
      "yt : [INFO     ] 2025-05-19 09:41:45,888 Making a fixed resolution buffer of (('hot_gas', 'xray_emissivity_0.5_2_keV')) 500 by 500\n",
      "ex2 Halos:  91%|█████████▏| 42/46 [28:56<02:59, 44.85s/it]yt : [INFO     ] 2025-05-19 09:41:53,696 Calculating time from 4.884e-01 to be 1.833e+17 seconds\n",
      "yt : [INFO     ] 2025-05-19 09:41:54,195 Parameters: current_time              = 1.832656005258152e+17 s\n",
      "yt : [INFO     ] 2025-05-19 09:41:54,197 Parameters: domain_dimensions         = [1 1 1]\n",
      "yt : [INFO     ] 2025-05-19 09:41:54,198 Parameters: domain_left_edge          = [0. 0. 0.]\n",
      "yt : [INFO     ] 2025-05-19 09:41:54,276 Parameters: domain_right_edge         = [25000. 25000. 25000.]\n",
      "yt : [INFO     ] 2025-05-19 09:41:54,278 Parameters: cosmological_simulation   = True\n",
      "yt : [INFO     ] 2025-05-19 09:41:54,279 Parameters: current_redshift          = 1.0476023211521182\n",
      "yt : [INFO     ] 2025-05-19 09:41:54,280 Parameters: omega_lambda              = 0.7\n",
      "yt : [INFO     ] 2025-05-19 09:41:54,281 Parameters: omega_matter              = 0.3\n",
      "yt : [INFO     ] 2025-05-19 09:41:54,282 Parameters: omega_radiation           = 0.0\n",
      "yt : [INFO     ] 2025-05-19 09:41:54,282 Parameters: hubble_constant           = 0.6711\n",
      "yt : [WARNING  ] 2025-05-19 09:41:54,285 The hot_gas particle filter already exists. Overriding.\n",
      "yt : [INFO     ] 2025-05-19 09:41:54,298 Making a fixed resolution buffer of (('hot_gas', 'xray_emissivity_0.5_2_keV')) 500 by 500\n",
      "yt : [INFO     ] 2025-05-19 09:41:54,478 Allocating for 5172 particles\n",
      "ex2 Halos:  93%|█████████▎| 43/46 [29:02<01:39, 33.05s/it]yt : [INFO     ] 2025-05-19 09:42:02,894 Making a fixed resolution buffer of (('hot_gas', 'xray_emissivity_0.5_2_keV')) 500 by 500\n",
      "ex2 Halos:  96%|█████████▌| 44/46 [29:10<00:51, 25.56s/it]pyxsim : [INFO     ] 2025-05-19 09:42:09,403 kT_min = 0.025 keV\n",
      "pyxsim : [INFO     ] 2025-05-19 09:42:09,405 kT_max = 64 keV\n",
      "pyxsim : [INFO     ] 2025-05-19 09:42:09,408 Using emission measure field '('hot_gas', 'emission_measure')'.\n",
      "pyxsim : [INFO     ] 2025-05-19 09:42:09,408 Using temperature field '('hot_gas', 'temperature')'.\n"
     ]
    },
    {
     "data": {
      "application/vnd.jupyter.widget-view+json": {
       "model_id": "8c009caa7a9c4c21b47e46bd509526c2",
       "version_major": 2,
       "version_minor": 0
      },
      "text/plain": [
       "Preparing spectrum table :   0%|          | 0/138 [00:00<?, ?it/s]"
      ]
     },
     "metadata": {},
     "output_type": "display_data"
    },
    {
     "name": "stderr",
     "output_type": "stream",
     "text": [
      "yt : [INFO     ] 2025-05-19 09:42:10,002 Making a fixed resolution buffer of (('hot_gas', 'xray_emissivity_0.5_2_keV')) 500 by 500\n",
      "ex2 Halos:  98%|█████████▊| 45/46 [29:16<00:19, 19.78s/it]yt : [INFO     ] 2025-05-19 09:42:42,452 Making a fixed resolution buffer of (('hot_gas', 'xray_emissivity_0.5_2_keV')) 500 by 500\n",
      "ex2 Halos: 100%|██████████| 46/46 [29:48<00:00, 38.88s/it]\n"
     ]
    },
    {
     "name": "stdout",
     "output_type": "stream",
     "text": [
      "✅ Saved xray_profile100_ex2_3.npz\n"
     ]
    },
    {
     "name": "stderr",
     "output_type": "stream",
     "text": [
      "ex3 Halos:   0%|          | 0/51 [00:00<?, ?it/s]yt : [INFO     ] 2025-05-19 09:42:52,179 Calculating time from 4.884e-01 to be 1.833e+17 seconds\n",
      "yt : [INFO     ] 2025-05-19 09:42:52,290 Calculating time from 4.884e-01 to be 1.833e+17 seconds\n",
      "yt : [INFO     ] 2025-05-19 09:42:52,375 Calculating time from 4.884e-01 to be 1.833e+17 seconds\n",
      "yt : [INFO     ] 2025-05-19 09:42:52,378 Calculating time from 4.884e-01 to be 1.833e+17 seconds\n",
      "yt : [INFO     ] 2025-05-19 09:42:52,575 Calculating time from 4.884e-01 to be 1.833e+17 seconds\n",
      "yt : [INFO     ] 2025-05-19 09:42:52,983 Parameters: current_time              = 1.832656005258152e+17 s\n",
      "yt : [INFO     ] 2025-05-19 09:42:52,985 Parameters: domain_dimensions         = [1 1 1]\n",
      "yt : [INFO     ] 2025-05-19 09:42:52,986 Parameters: domain_left_edge          = [0. 0. 0.]\n",
      "yt : [INFO     ] 2025-05-19 09:42:52,987 Parameters: domain_right_edge         = [25000. 25000. 25000.]\n",
      "yt : [INFO     ] 2025-05-19 09:42:52,988 Parameters: cosmological_simulation   = True\n",
      "yt : [INFO     ] 2025-05-19 09:42:52,989 Parameters: current_redshift          = 1.0476023211521182\n",
      "yt : [INFO     ] 2025-05-19 09:42:53,075 Parameters: omega_lambda              = 0.7\n",
      "yt : [INFO     ] 2025-05-19 09:42:53,076 Parameters: omega_matter              = 0.3\n",
      "yt : [INFO     ] 2025-05-19 09:42:53,077 Parameters: omega_radiation           = 0.0\n",
      "yt : [INFO     ] 2025-05-19 09:42:53,078 Parameters: hubble_constant           = 0.6711\n",
      "yt : [INFO     ] 2025-05-19 09:42:53,089 Parameters: current_time              = 1.832656005258152e+17 s\n",
      "yt : [INFO     ] 2025-05-19 09:42:53,090 Parameters: domain_dimensions         = [1 1 1]\n",
      "yt : [INFO     ] 2025-05-19 09:42:53,175 Parameters: domain_left_edge          = [0. 0. 0.]\n",
      "yt : [INFO     ] 2025-05-19 09:42:53,176 Parameters: domain_right_edge         = [25000. 25000. 25000.]\n",
      "yt : [INFO     ] 2025-05-19 09:42:53,176 Parameters: current_time              = 1.832656005258152e+17 s\n",
      "yt : [INFO     ] 2025-05-19 09:42:53,177 Parameters: cosmological_simulation   = True\n",
      "yt : [INFO     ] 2025-05-19 09:42:53,178 Parameters: domain_dimensions         = [1 1 1]\n",
      "yt : [INFO     ] 2025-05-19 09:42:53,178 Parameters: current_redshift          = 1.0476023211521182\n",
      "yt : [INFO     ] 2025-05-19 09:42:53,179 Parameters: domain_left_edge          = [0. 0. 0.]\n",
      "yt : [INFO     ] 2025-05-19 09:42:53,179 Parameters: omega_lambda              = 0.7\n",
      "yt : [INFO     ] 2025-05-19 09:42:53,180 Parameters: omega_matter              = 0.3\n",
      "yt : [INFO     ] 2025-05-19 09:42:53,180 Parameters: domain_right_edge         = [25000. 25000. 25000.]\n",
      "yt : [INFO     ] 2025-05-19 09:42:53,181 Parameters: omega_radiation           = 0.0\n",
      "yt : [INFO     ] 2025-05-19 09:42:53,181 Parameters: cosmological_simulation   = True\n",
      "yt : [INFO     ] 2025-05-19 09:42:53,181 Parameters: hubble_constant           = 0.6711\n",
      "yt : [INFO     ] 2025-05-19 09:42:53,182 Parameters: current_redshift          = 1.0476023211521182\n",
      "yt : [INFO     ] 2025-05-19 09:42:53,182 Parameters: omega_lambda              = 0.7\n",
      "yt : [INFO     ] 2025-05-19 09:42:53,183 Parameters: omega_matter              = 0.3\n",
      "yt : [INFO     ] 2025-05-19 09:42:53,184 Parameters: omega_radiation           = 0.0\n",
      "yt : [INFO     ] 2025-05-19 09:42:53,185 Parameters: hubble_constant           = 0.6711\n",
      "yt : [INFO     ] 2025-05-19 09:42:53,282 Parameters: current_time              = 1.832656005258152e+17 s\n",
      "yt : [INFO     ] 2025-05-19 09:42:53,283 Parameters: domain_dimensions         = [1 1 1]\n",
      "yt : [INFO     ] 2025-05-19 09:42:53,284 Parameters: domain_left_edge          = [0. 0. 0.]\n",
      "yt : [INFO     ] 2025-05-19 09:42:53,286 Parameters: domain_right_edge         = [25000. 25000. 25000.]\n",
      "yt : [INFO     ] 2025-05-19 09:42:53,287 Parameters: cosmological_simulation   = True\n",
      "yt : [INFO     ] 2025-05-19 09:42:53,287 Parameters: current_redshift          = 1.0476023211521182\n",
      "yt : [INFO     ] 2025-05-19 09:42:53,288 Parameters: omega_lambda              = 0.7\n",
      "yt : [INFO     ] 2025-05-19 09:42:53,289 Parameters: omega_matter              = 0.3\n",
      "yt : [INFO     ] 2025-05-19 09:42:53,290 Parameters: omega_radiation           = 0.0\n",
      "yt : [INFO     ] 2025-05-19 09:42:53,291 Parameters: hubble_constant           = 0.6711\n",
      "yt : [INFO     ] 2025-05-19 09:42:53,293 Parameters: current_time              = 1.832656005258152e+17 s\n",
      "yt : [INFO     ] 2025-05-19 09:42:53,296 Parameters: domain_dimensions         = [1 1 1]\n",
      "yt : [INFO     ] 2025-05-19 09:42:53,376 Parameters: domain_left_edge          = [0. 0. 0.]\n",
      "yt : [INFO     ] 2025-05-19 09:42:53,377 Parameters: domain_right_edge         = [25000. 25000. 25000.]\n",
      "yt : [INFO     ] 2025-05-19 09:42:53,377 Allocating for 7206 particles\n",
      "yt : [INFO     ] 2025-05-19 09:42:53,378 Parameters: cosmological_simulation   = True\n",
      "yt : [INFO     ] 2025-05-19 09:42:53,379 Parameters: current_redshift          = 1.0476023211521182\n",
      "yt : [INFO     ] 2025-05-19 09:42:53,380 Parameters: omega_lambda              = 0.7\n",
      "yt : [INFO     ] 2025-05-19 09:42:53,382 Parameters: omega_matter              = 0.3\n",
      "yt : [INFO     ] 2025-05-19 09:42:53,383 Parameters: omega_radiation           = 0.0\n",
      "yt : [INFO     ] 2025-05-19 09:42:53,384 Parameters: hubble_constant           = 0.6711\n",
      "yt : [INFO     ] 2025-05-19 09:42:53,400 Allocating for 1.255e+04 particles\n",
      "yt : [INFO     ] 2025-05-19 09:42:53,430 Allocating for 2.178e+04 particles\n",
      "yt : [INFO     ] 2025-05-19 09:42:53,521 Allocating for 1.421e+04 particles\n",
      "yt : [INFO     ] 2025-05-19 09:42:53,549 Allocating for 1.206e+04 particles\n",
      "pyxsim : [INFO     ] 2025-05-19 09:43:12,176 kT_min = 0.025 keV\n",
      "pyxsim : [INFO     ] 2025-05-19 09:43:12,179 kT_max = 64 keV\n",
      "pyxsim : [INFO     ] 2025-05-19 09:43:12,181 Using emission measure field '('hot_gas', 'emission_measure')'.\n",
      "pyxsim : [INFO     ] 2025-05-19 09:43:12,182 Using temperature field '('hot_gas', 'temperature')'.\n"
     ]
    },
    {
     "data": {
      "application/vnd.jupyter.widget-view+json": {
       "model_id": "99c4268b49e94c988c410f2e3f54fc69",
       "version_major": 2,
       "version_minor": 0
      },
      "text/plain": [
       "Preparing spectrum table :   0%|          | 0/138 [00:00<?, ?it/s]"
      ]
     },
     "metadata": {},
     "output_type": "display_data"
    },
    {
     "name": "stderr",
     "output_type": "stream",
     "text": [
      "pyxsim : [INFO     ] 2025-05-19 09:43:12,475 kT_min = 0.025 keV\n",
      "pyxsim : [INFO     ] 2025-05-19 09:43:12,477 kT_max = 64 keV\n",
      "pyxsim : [INFO     ] 2025-05-19 09:43:12,478 Using emission measure field '('hot_gas', 'emission_measure')'.\n",
      "pyxsim : [INFO     ] 2025-05-19 09:43:12,479 Using temperature field '('hot_gas', 'temperature')'.\n",
      "pyxsim : [INFO     ] 2025-05-19 09:43:12,485 kT_min = 0.025 keV\n",
      "pyxsim : [INFO     ] 2025-05-19 09:43:12,487 kT_min = 0.025 keV\n",
      "pyxsim : [INFO     ] 2025-05-19 09:43:12,575 kT_max = 64 keV\n",
      "pyxsim : [INFO     ] 2025-05-19 09:43:12,577 kT_max = 64 keV\n",
      "pyxsim : [INFO     ] 2025-05-19 09:43:12,580 Using emission measure field '('hot_gas', 'emission_measure')'.\n",
      "pyxsim : [INFO     ] 2025-05-19 09:43:12,580 Using emission measure field '('hot_gas', 'emission_measure')'.\n",
      "pyxsim : [INFO     ] 2025-05-19 09:43:12,581 Using temperature field '('hot_gas', 'temperature')'.\n",
      "pyxsim : [INFO     ] 2025-05-19 09:43:12,582 Using temperature field '('hot_gas', 'temperature')'.\n"
     ]
    },
    {
     "data": {
      "application/vnd.jupyter.widget-view+json": {
       "model_id": "b960a38e67224a2ea932c06c64971672",
       "version_major": 2,
       "version_minor": 0
      },
      "text/plain": [
       "Preparing spectrum table :   0%|          | 0/138 [00:00<?, ?it/s]"
      ]
     },
     "metadata": {},
     "output_type": "display_data"
    },
    {
     "data": {
      "application/vnd.jupyter.widget-view+json": {
       "model_id": "ce1fcde10fe1474b836d00c986fee2cd",
       "version_major": 2,
       "version_minor": 0
      },
      "text/plain": [
       "Preparing spectrum table :   0%|          | 0/138 [00:00<?, ?it/s]"
      ]
     },
     "metadata": {},
     "output_type": "display_data"
    },
    {
     "data": {
      "application/vnd.jupyter.widget-view+json": {
       "model_id": "a48faa1b81ac44fcb4f8f0c2f5483f09",
       "version_major": 2,
       "version_minor": 0
      },
      "text/plain": [
       "Preparing spectrum table :   0%|          | 0/138 [00:00<?, ?it/s]"
      ]
     },
     "metadata": {},
     "output_type": "display_data"
    },
    {
     "name": "stderr",
     "output_type": "stream",
     "text": [
      "pyxsim : [INFO     ] 2025-05-19 09:43:13,083 kT_min = 0.025 keV\n",
      "pyxsim : [INFO     ] 2025-05-19 09:43:13,088 kT_max = 64 keV\n",
      "pyxsim : [INFO     ] 2025-05-19 09:43:13,177 Using emission measure field '('hot_gas', 'emission_measure')'.\n",
      "pyxsim : [INFO     ] 2025-05-19 09:43:13,180 Using temperature field '('hot_gas', 'temperature')'.\n"
     ]
    },
    {
     "data": {
      "application/vnd.jupyter.widget-view+json": {
       "model_id": "49cdafd1cf47480ab83c424d99c07eaa",
       "version_major": 2,
       "version_minor": 0
      },
      "text/plain": [
       "Preparing spectrum table :   0%|          | 0/138 [00:00<?, ?it/s]"
      ]
     },
     "metadata": {},
     "output_type": "display_data"
    },
    {
     "name": "stderr",
     "output_type": "stream",
     "text": [
      "yt : [INFO     ] 2025-05-19 09:45:47,387 Making a fixed resolution buffer of (('hot_gas', 'xray_emissivity_0.5_2_keV')) 500 by 500\n",
      "yt : [INFO     ] 2025-05-19 09:45:47,684 Making a fixed resolution buffer of (('hot_gas', 'xray_emissivity_0.5_2_keV')) 500 by 500\n",
      "yt : [INFO     ] 2025-05-19 09:45:48,089 Making a fixed resolution buffer of (('hot_gas', 'xray_emissivity_0.5_2_keV')) 500 by 500\n",
      "yt : [INFO     ] 2025-05-19 09:45:48,896 Making a fixed resolution buffer of (('hot_gas', 'xray_emissivity_0.5_2_keV')) 500 by 500\n",
      "yt : [INFO     ] 2025-05-19 09:45:49,409 Making a fixed resolution buffer of (('hot_gas', 'xray_emissivity_0.5_2_keV')) 500 by 500\n",
      "ex3 Halos:  10%|▉         | 5/51 [03:17<13:49, 18.04s/it]   yt : [INFO     ] 2025-05-19 09:46:02,689 Calculating time from 4.884e-01 to be 1.833e+17 seconds\n",
      "yt : [INFO     ] 2025-05-19 09:46:02,795 Calculating time from 4.884e-01 to be 1.833e+17 seconds\n",
      "yt : [INFO     ] 2025-05-19 09:46:03,294 Parameters: current_time              = 1.832656005258152e+17 s\n",
      "yt : [INFO     ] 2025-05-19 09:46:03,296 Parameters: domain_dimensions         = [1 1 1]\n",
      "yt : [INFO     ] 2025-05-19 09:46:03,297 Parameters: domain_left_edge          = [0. 0. 0.]\n",
      "yt : [INFO     ] 2025-05-19 09:46:03,298 Parameters: domain_right_edge         = [25000. 25000. 25000.]\n",
      "yt : [INFO     ] 2025-05-19 09:46:03,299 Parameters: cosmological_simulation   = True\n",
      "yt : [INFO     ] 2025-05-19 09:46:03,375 Parameters: current_redshift          = 1.0476023211521182\n",
      "yt : [INFO     ] 2025-05-19 09:46:03,376 Parameters: omega_lambda              = 0.7\n",
      "yt : [INFO     ] 2025-05-19 09:46:03,377 Parameters: omega_matter              = 0.3\n",
      "yt : [INFO     ] 2025-05-19 09:46:03,377 Parameters: omega_radiation           = 0.0\n",
      "yt : [INFO     ] 2025-05-19 09:46:03,378 Parameters: hubble_constant           = 0.6711\n",
      "yt : [WARNING  ] 2025-05-19 09:46:03,380 The hot_gas particle filter already exists. Overriding.\n",
      "yt : [INFO     ] 2025-05-19 09:46:03,475 Parameters: current_time              = 1.832656005258152e+17 s\n",
      "yt : [INFO     ] 2025-05-19 09:46:03,476 Parameters: domain_dimensions         = [1 1 1]\n",
      "yt : [INFO     ] 2025-05-19 09:46:03,477 Parameters: domain_left_edge          = [0. 0. 0.]\n",
      "yt : [INFO     ] 2025-05-19 09:46:03,478 Parameters: domain_right_edge         = [25000. 25000. 25000.]\n",
      "yt : [INFO     ] 2025-05-19 09:46:03,480 Parameters: cosmological_simulation   = True\n",
      "yt : [INFO     ] 2025-05-19 09:46:03,480 Parameters: current_redshift          = 1.0476023211521182\n",
      "yt : [INFO     ] 2025-05-19 09:46:03,481 Parameters: omega_lambda              = 0.7\n",
      "yt : [INFO     ] 2025-05-19 09:46:03,482 Parameters: omega_matter              = 0.3\n",
      "yt : [INFO     ] 2025-05-19 09:46:03,483 Parameters: omega_radiation           = 0.0\n",
      "yt : [INFO     ] 2025-05-19 09:46:03,484 Parameters: hubble_constant           = 0.6711\n",
      "yt : [WARNING  ] 2025-05-19 09:46:03,486 The hot_gas particle filter already exists. Overriding.\n",
      "yt : [INFO     ] 2025-05-19 09:46:03,603 Allocating for 1.154e+04 particles\n",
      "yt : [INFO     ] 2025-05-19 09:46:03,614 Calculating time from 4.884e-01 to be 1.833e+17 seconds\n",
      "yt : [INFO     ] 2025-05-19 09:46:03,696 Allocating for 9866 particles\n",
      "yt : [INFO     ] 2025-05-19 09:46:04,101 Parameters: current_time              = 1.832656005258152e+17 s\n",
      "yt : [INFO     ] 2025-05-19 09:46:04,102 Parameters: domain_dimensions         = [1 1 1]\n",
      "yt : [INFO     ] 2025-05-19 09:46:04,104 Parameters: domain_left_edge          = [0. 0. 0.]\n",
      "yt : [INFO     ] 2025-05-19 09:46:04,175 Parameters: domain_right_edge         = [25000. 25000. 25000.]\n",
      "yt : [INFO     ] 2025-05-19 09:46:04,176 Parameters: cosmological_simulation   = True\n",
      "yt : [INFO     ] 2025-05-19 09:46:04,177 Parameters: current_redshift          = 1.0476023211521182\n",
      "yt : [INFO     ] 2025-05-19 09:46:04,178 Parameters: omega_lambda              = 0.7\n",
      "yt : [INFO     ] 2025-05-19 09:46:04,179 Parameters: omega_matter              = 0.3\n",
      "yt : [INFO     ] 2025-05-19 09:46:04,179 Parameters: omega_radiation           = 0.0\n",
      "yt : [INFO     ] 2025-05-19 09:46:04,180 Parameters: hubble_constant           = 0.6711\n",
      "yt : [WARNING  ] 2025-05-19 09:46:04,182 The hot_gas particle filter already exists. Overriding.\n",
      "yt : [INFO     ] 2025-05-19 09:46:04,392 Allocating for 6163 particles\n",
      "yt : [INFO     ] 2025-05-19 09:46:04,780 Calculating time from 4.884e-01 to be 1.833e+17 seconds\n",
      "yt : [INFO     ] 2025-05-19 09:46:04,781 Calculating time from 4.884e-01 to be 1.833e+17 seconds\n",
      "yt : [INFO     ] 2025-05-19 09:46:05,389 Parameters: current_time              = 1.832656005258152e+17 s\n",
      "yt : [INFO     ] 2025-05-19 09:46:05,389 Parameters: current_time              = 1.832656005258152e+17 s\n",
      "yt : [INFO     ] 2025-05-19 09:46:05,390 Parameters: domain_dimensions         = [1 1 1]\n",
      "yt : [INFO     ] 2025-05-19 09:46:05,391 Parameters: domain_dimensions         = [1 1 1]\n",
      "yt : [INFO     ] 2025-05-19 09:46:05,391 Parameters: domain_left_edge          = [0. 0. 0.]\n",
      "yt : [INFO     ] 2025-05-19 09:46:05,392 Parameters: domain_left_edge          = [0. 0. 0.]\n",
      "yt : [INFO     ] 2025-05-19 09:46:05,392 Parameters: domain_right_edge         = [25000. 25000. 25000.]\n",
      "yt : [INFO     ] 2025-05-19 09:46:05,393 Parameters: cosmological_simulation   = True\n",
      "yt : [INFO     ] 2025-05-19 09:46:05,393 Parameters: domain_right_edge         = [25000. 25000. 25000.]\n",
      "yt : [INFO     ] 2025-05-19 09:46:05,475 Parameters: current_redshift          = 1.0476023211521182\n",
      "yt : [INFO     ] 2025-05-19 09:46:05,475 Parameters: cosmological_simulation   = True\n",
      "yt : [INFO     ] 2025-05-19 09:46:05,476 Parameters: omega_lambda              = 0.7\n",
      "yt : [INFO     ] 2025-05-19 09:46:05,476 Parameters: current_redshift          = 1.0476023211521182\n",
      "yt : [INFO     ] 2025-05-19 09:46:05,477 Parameters: omega_matter              = 0.3\n",
      "yt : [INFO     ] 2025-05-19 09:46:05,477 Parameters: omega_lambda              = 0.7\n",
      "yt : [INFO     ] 2025-05-19 09:46:05,477 Parameters: omega_radiation           = 0.0\n",
      "yt : [INFO     ] 2025-05-19 09:46:05,478 Parameters: omega_matter              = 0.3\n",
      "yt : [INFO     ] 2025-05-19 09:46:05,478 Parameters: hubble_constant           = 0.6711\n",
      "yt : [INFO     ] 2025-05-19 09:46:05,478 Parameters: omega_radiation           = 0.0\n",
      "yt : [INFO     ] 2025-05-19 09:46:05,479 Parameters: hubble_constant           = 0.6711\n",
      "yt : [WARNING  ] 2025-05-19 09:46:05,480 The hot_gas particle filter already exists. Overriding.\n",
      "yt : [WARNING  ] 2025-05-19 09:46:05,482 The hot_gas particle filter already exists. Overriding.\n",
      "yt : [INFO     ] 2025-05-19 09:46:05,677 Allocating for 8301 particles\n",
      "yt : [INFO     ] 2025-05-19 09:46:05,699 Allocating for 9841 particles\n",
      "pyxsim : [INFO     ] 2025-05-19 09:46:22,188 kT_min = 0.025 keV\n",
      "pyxsim : [INFO     ] 2025-05-19 09:46:22,190 kT_max = 64 keV\n",
      "pyxsim : [INFO     ] 2025-05-19 09:46:22,192 Using emission measure field '('hot_gas', 'emission_measure')'.\n",
      "pyxsim : [INFO     ] 2025-05-19 09:46:22,193 Using temperature field '('hot_gas', 'temperature')'.\n"
     ]
    },
    {
     "data": {
      "application/vnd.jupyter.widget-view+json": {
       "model_id": "634e7c2de753477c81c162795633b25a",
       "version_major": 2,
       "version_minor": 0
      },
      "text/plain": [
       "Preparing spectrum table :   0%|          | 0/138 [00:00<?, ?it/s]"
      ]
     },
     "metadata": {},
     "output_type": "display_data"
    },
    {
     "name": "stderr",
     "output_type": "stream",
     "text": [
      "pyxsim : [INFO     ] 2025-05-19 09:46:22,788 kT_min = 0.025 keV\n",
      "pyxsim : [INFO     ] 2025-05-19 09:46:22,790 kT_max = 64 keV\n",
      "pyxsim : [INFO     ] 2025-05-19 09:46:22,792 Using emission measure field '('hot_gas', 'emission_measure')'.\n",
      "pyxsim : [INFO     ] 2025-05-19 09:46:22,793 Using temperature field '('hot_gas', 'temperature')'.\n"
     ]
    },
    {
     "data": {
      "application/vnd.jupyter.widget-view+json": {
       "model_id": "a0db0f89380942af9650c5ea4ae5c643",
       "version_major": 2,
       "version_minor": 0
      },
      "text/plain": [
       "Preparing spectrum table :   0%|          | 0/138 [00:00<?, ?it/s]"
      ]
     },
     "metadata": {},
     "output_type": "display_data"
    },
    {
     "name": "stderr",
     "output_type": "stream",
     "text": [
      "pyxsim : [INFO     ] 2025-05-19 09:46:23,687 kT_min = 0.025 keV\n",
      "pyxsim : [INFO     ] 2025-05-19 09:46:23,689 kT_max = 64 keV\n",
      "pyxsim : [INFO     ] 2025-05-19 09:46:23,691 Using emission measure field '('hot_gas', 'emission_measure')'.\n",
      "pyxsim : [INFO     ] 2025-05-19 09:46:23,692 Using temperature field '('hot_gas', 'temperature')'.\n"
     ]
    },
    {
     "data": {
      "application/vnd.jupyter.widget-view+json": {
       "model_id": "db78c92fb3074a9ba9d11b3679d9c743",
       "version_major": 2,
       "version_minor": 0
      },
      "text/plain": [
       "Preparing spectrum table :   0%|          | 0/138 [00:00<?, ?it/s]"
      ]
     },
     "metadata": {},
     "output_type": "display_data"
    },
    {
     "name": "stderr",
     "output_type": "stream",
     "text": [
      "pyxsim : [INFO     ] 2025-05-19 09:46:25,075 kT_min = 0.025 keV\n",
      "pyxsim : [INFO     ] 2025-05-19 09:46:25,077 kT_max = 64 keV\n",
      "pyxsim : [INFO     ] 2025-05-19 09:46:25,079 Using emission measure field '('hot_gas', 'emission_measure')'.\n",
      "pyxsim : [INFO     ] 2025-05-19 09:46:25,080 Using temperature field '('hot_gas', 'temperature')'.\n"
     ]
    },
    {
     "data": {
      "application/vnd.jupyter.widget-view+json": {
       "model_id": "b14b1ac2fe97466f927a645d6c5003ff",
       "version_major": 2,
       "version_minor": 0
      },
      "text/plain": [
       "Preparing spectrum table :   0%|          | 0/138 [00:00<?, ?it/s]"
      ]
     },
     "metadata": {},
     "output_type": "display_data"
    },
    {
     "name": "stderr",
     "output_type": "stream",
     "text": [
      "pyxsim : [INFO     ] 2025-05-19 09:46:26,082 kT_min = 0.025 keV\n",
      "pyxsim : [INFO     ] 2025-05-19 09:46:26,086 kT_max = 64 keV\n",
      "pyxsim : [INFO     ] 2025-05-19 09:46:26,088 Using emission measure field '('hot_gas', 'emission_measure')'.\n",
      "pyxsim : [INFO     ] 2025-05-19 09:46:26,089 Using temperature field '('hot_gas', 'temperature')'.\n"
     ]
    },
    {
     "data": {
      "application/vnd.jupyter.widget-view+json": {
       "model_id": "6a5bcd53e1d241229b3f6b88beda6b19",
       "version_major": 2,
       "version_minor": 0
      },
      "text/plain": [
       "Preparing spectrum table :   0%|          | 0/138 [00:00<?, ?it/s]"
      ]
     },
     "metadata": {},
     "output_type": "display_data"
    },
    {
     "name": "stderr",
     "output_type": "stream",
     "text": [
      "yt : [INFO     ] 2025-05-19 09:48:59,692 Making a fixed resolution buffer of (('hot_gas', 'xray_emissivity_0.5_2_keV')) 500 by 500\n",
      "yt : [INFO     ] 2025-05-19 09:49:00,984 Making a fixed resolution buffer of (('hot_gas', 'xray_emissivity_0.5_2_keV')) 500 by 500\n",
      "ex3 Halos:  12%|█▏        | 6/51 [06:19<55:20, 73.78s/it]yt : [INFO     ] 2025-05-19 09:49:04,576 Making a fixed resolution buffer of (('hot_gas', 'xray_emissivity_0.5_2_keV')) 500 by 500\n",
      "yt : [INFO     ] 2025-05-19 09:49:07,888 Making a fixed resolution buffer of (('hot_gas', 'xray_emissivity_0.5_2_keV')) 500 by 500\n",
      "yt : [INFO     ] 2025-05-19 09:49:08,191 Making a fixed resolution buffer of (('hot_gas', 'xray_emissivity_0.5_2_keV')) 500 by 500\n",
      "ex3 Halos:  14%|█▎        | 7/51 [06:23<37:22, 50.97s/it]yt : [INFO     ] 2025-05-19 09:49:11,080 Calculating time from 4.884e-01 to be 1.833e+17 seconds\n",
      "ex3 Halos:  16%|█▌        | 8/51 [06:26<25:35, 35.70s/it]yt : [INFO     ] 2025-05-19 09:49:11,791 Parameters: current_time              = 1.832656005258152e+17 s\n",
      "yt : [INFO     ] 2025-05-19 09:49:11,793 Parameters: domain_dimensions         = [1 1 1]\n",
      "yt : [INFO     ] 2025-05-19 09:49:11,795 Parameters: domain_left_edge          = [0. 0. 0.]\n",
      "yt : [INFO     ] 2025-05-19 09:49:11,796 Parameters: domain_right_edge         = [25000. 25000. 25000.]\n",
      "yt : [INFO     ] 2025-05-19 09:49:11,797 Parameters: cosmological_simulation   = True\n",
      "yt : [INFO     ] 2025-05-19 09:49:11,798 Parameters: current_redshift          = 1.0476023211521182\n",
      "yt : [INFO     ] 2025-05-19 09:49:11,799 Parameters: omega_lambda              = 0.7\n",
      "yt : [INFO     ] 2025-05-19 09:49:11,800 Parameters: omega_matter              = 0.3\n",
      "yt : [INFO     ] 2025-05-19 09:49:11,800 Parameters: omega_radiation           = 0.0\n",
      "yt : [INFO     ] 2025-05-19 09:49:11,801 Parameters: hubble_constant           = 0.6711\n",
      "yt : [WARNING  ] 2025-05-19 09:49:11,879 The hot_gas particle filter already exists. Overriding.\n",
      "yt : [INFO     ] 2025-05-19 09:49:12,082 Allocating for 1.254e+04 particles\n",
      "yt : [INFO     ] 2025-05-19 09:49:12,975 Calculating time from 4.884e-01 to be 1.833e+17 seconds\n",
      "yt : [INFO     ] 2025-05-19 09:49:16,683 Parameters: current_time              = 1.832656005258152e+17 s\n",
      "yt : [INFO     ] 2025-05-19 09:49:16,685 Parameters: domain_dimensions         = [1 1 1]\n",
      "yt : [INFO     ] 2025-05-19 09:49:16,687 Parameters: domain_left_edge          = [0. 0. 0.]\n",
      "yt : [INFO     ] 2025-05-19 09:49:16,775 Parameters: domain_right_edge         = [25000. 25000. 25000.]\n",
      "yt : [INFO     ] 2025-05-19 09:49:16,777 Parameters: cosmological_simulation   = True\n",
      "yt : [INFO     ] 2025-05-19 09:49:16,778 Parameters: current_redshift          = 1.0476023211521182\n",
      "yt : [INFO     ] 2025-05-19 09:49:16,779 Parameters: omega_lambda              = 0.7\n",
      "yt : [INFO     ] 2025-05-19 09:49:16,780 Parameters: omega_matter              = 0.3\n",
      "yt : [INFO     ] 2025-05-19 09:49:16,781 Parameters: omega_radiation           = 0.0\n",
      "yt : [INFO     ] 2025-05-19 09:49:16,782 Parameters: hubble_constant           = 0.6711\n",
      "yt : [WARNING  ] 2025-05-19 09:49:16,875 The hot_gas particle filter already exists. Overriding.\n",
      "yt : [INFO     ] 2025-05-19 09:49:16,982 Calculating time from 4.884e-01 to be 1.833e+17 seconds\n",
      "yt : [INFO     ] 2025-05-19 09:49:17,275 Allocating for 8201 particles\n",
      "yt : [INFO     ] 2025-05-19 09:49:18,482 Parameters: current_time              = 1.832656005258152e+17 s\n",
      "yt : [INFO     ] 2025-05-19 09:49:18,484 Parameters: domain_dimensions         = [1 1 1]\n",
      "yt : [INFO     ] 2025-05-19 09:49:18,486 Parameters: domain_left_edge          = [0. 0. 0.]\n",
      "yt : [INFO     ] 2025-05-19 09:49:18,487 Parameters: domain_right_edge         = [25000. 25000. 25000.]\n",
      "yt : [INFO     ] 2025-05-19 09:49:18,575 Parameters: cosmological_simulation   = True\n",
      "yt : [INFO     ] 2025-05-19 09:49:18,576 Parameters: current_redshift          = 1.0476023211521182\n",
      "yt : [INFO     ] 2025-05-19 09:49:18,577 Parameters: omega_lambda              = 0.7\n",
      "yt : [INFO     ] 2025-05-19 09:49:18,578 Parameters: omega_matter              = 0.3\n",
      "yt : [INFO     ] 2025-05-19 09:49:18,579 Parameters: omega_radiation           = 0.0\n",
      "yt : [INFO     ] 2025-05-19 09:49:18,579 Parameters: hubble_constant           = 0.6711\n",
      "yt : [WARNING  ] 2025-05-19 09:49:18,581 The hot_gas particle filter already exists. Overriding.\n",
      "ex3 Halos:  18%|█▊        | 9/51 [06:33<18:43, 26.76s/it]yt : [INFO     ] 2025-05-19 09:49:18,802 Allocating for 9606 particles\n",
      "yt : [INFO     ] 2025-05-19 09:49:21,394 Calculating time from 4.884e-01 to be 1.833e+17 seconds\n",
      "yt : [INFO     ] 2025-05-19 09:49:21,574 Calculating time from 4.884e-01 to be 1.833e+17 seconds\n",
      "yt : [INFO     ] 2025-05-19 09:49:21,896 Parameters: current_time              = 1.832656005258152e+17 s\n",
      "yt : [INFO     ] 2025-05-19 09:49:21,975 Parameters: domain_dimensions         = [1 1 1]\n",
      "yt : [INFO     ] 2025-05-19 09:49:21,976 Parameters: domain_left_edge          = [0. 0. 0.]\n",
      "yt : [INFO     ] 2025-05-19 09:49:21,977 Parameters: domain_right_edge         = [25000. 25000. 25000.]\n",
      "yt : [INFO     ] 2025-05-19 09:49:21,978 Parameters: cosmological_simulation   = True\n",
      "yt : [INFO     ] 2025-05-19 09:49:21,979 Parameters: current_redshift          = 1.0476023211521182\n",
      "yt : [INFO     ] 2025-05-19 09:49:21,980 Parameters: omega_lambda              = 0.7\n",
      "yt : [INFO     ] 2025-05-19 09:49:21,980 Parameters: omega_matter              = 0.3\n",
      "yt : [INFO     ] 2025-05-19 09:49:21,981 Parameters: omega_radiation           = 0.0\n",
      "yt : [INFO     ] 2025-05-19 09:49:21,982 Parameters: hubble_constant           = 0.6711\n",
      "yt : [WARNING  ] 2025-05-19 09:49:21,985 The hot_gas particle filter already exists. Overriding.\n",
      "yt : [INFO     ] 2025-05-19 09:49:22,090 Parameters: current_time              = 1.832656005258152e+17 s\n",
      "yt : [INFO     ] 2025-05-19 09:49:22,092 Parameters: domain_dimensions         = [1 1 1]\n",
      "yt : [INFO     ] 2025-05-19 09:49:22,093 Parameters: domain_left_edge          = [0. 0. 0.]\n",
      "yt : [INFO     ] 2025-05-19 09:49:22,175 Parameters: domain_right_edge         = [25000. 25000. 25000.]\n",
      "yt : [INFO     ] 2025-05-19 09:49:22,176 Parameters: cosmological_simulation   = True\n",
      "yt : [INFO     ] 2025-05-19 09:49:22,178 Parameters: current_redshift          = 1.0476023211521182\n",
      "yt : [INFO     ] 2025-05-19 09:49:22,178 Parameters: omega_lambda              = 0.7\n",
      "yt : [INFO     ] 2025-05-19 09:49:22,179 Parameters: omega_matter              = 0.3\n",
      "yt : [INFO     ] 2025-05-19 09:49:22,180 Parameters: omega_radiation           = 0.0\n",
      "yt : [INFO     ] 2025-05-19 09:49:22,181 Parameters: hubble_constant           = 0.6711\n",
      "yt : [WARNING  ] 2025-05-19 09:49:22,184 The hot_gas particle filter already exists. Overriding.\n",
      "yt : [INFO     ] 2025-05-19 09:49:22,193 Allocating for 8692 particles\n",
      "yt : [INFO     ] 2025-05-19 09:49:22,378 Allocating for 7931 particles\n",
      "pyxsim : [INFO     ] 2025-05-19 09:49:33,276 kT_min = 0.025 keV\n",
      "pyxsim : [INFO     ] 2025-05-19 09:49:33,278 kT_max = 64 keV\n",
      "pyxsim : [INFO     ] 2025-05-19 09:49:33,281 Using emission measure field '('hot_gas', 'emission_measure')'.\n",
      "pyxsim : [INFO     ] 2025-05-19 09:49:33,282 Using temperature field '('hot_gas', 'temperature')'.\n"
     ]
    },
    {
     "data": {
      "application/vnd.jupyter.widget-view+json": {
       "model_id": "a1ce32a9ea0f408eb4f1ba60ecd26131",
       "version_major": 2,
       "version_minor": 0
      },
      "text/plain": [
       "Preparing spectrum table :   0%|          | 0/138 [00:00<?, ?it/s]"
      ]
     },
     "metadata": {},
     "output_type": "display_data"
    },
    {
     "name": "stderr",
     "output_type": "stream",
     "text": [
      "pyxsim : [INFO     ] 2025-05-19 09:49:35,182 kT_min = 0.025 keV\n",
      "pyxsim : [INFO     ] 2025-05-19 09:49:35,185 kT_max = 64 keV\n",
      "pyxsim : [INFO     ] 2025-05-19 09:49:35,187 Using emission measure field '('hot_gas', 'emission_measure')'.\n",
      "pyxsim : [INFO     ] 2025-05-19 09:49:35,188 Using temperature field '('hot_gas', 'temperature')'.\n"
     ]
    },
    {
     "data": {
      "application/vnd.jupyter.widget-view+json": {
       "model_id": "435341edfbe447bd97371fd02c957006",
       "version_major": 2,
       "version_minor": 0
      },
      "text/plain": [
       "Preparing spectrum table :   0%|          | 0/138 [00:00<?, ?it/s]"
      ]
     },
     "metadata": {},
     "output_type": "display_data"
    },
    {
     "name": "stderr",
     "output_type": "stream",
     "text": [
      "pyxsim : [INFO     ] 2025-05-19 09:49:36,277 kT_min = 0.025 keV\n",
      "pyxsim : [INFO     ] 2025-05-19 09:49:36,279 kT_max = 64 keV\n",
      "pyxsim : [INFO     ] 2025-05-19 09:49:36,281 Using emission measure field '('hot_gas', 'emission_measure')'.\n",
      "pyxsim : [INFO     ] 2025-05-19 09:49:36,281 Using temperature field '('hot_gas', 'temperature')'.\n"
     ]
    },
    {
     "data": {
      "application/vnd.jupyter.widget-view+json": {
       "model_id": "0cadbc9877b8446bbd8eabfc8140502b",
       "version_major": 2,
       "version_minor": 0
      },
      "text/plain": [
       "Preparing spectrum table :   0%|          | 0/138 [00:00<?, ?it/s]"
      ]
     },
     "metadata": {},
     "output_type": "display_data"
    },
    {
     "name": "stderr",
     "output_type": "stream",
     "text": [
      "pyxsim : [INFO     ] 2025-05-19 09:49:40,181 kT_min = 0.025 keV\n",
      "pyxsim : [INFO     ] 2025-05-19 09:49:40,183 kT_max = 64 keV\n",
      "pyxsim : [INFO     ] 2025-05-19 09:49:40,185 Using emission measure field '('hot_gas', 'emission_measure')'.\n",
      "pyxsim : [INFO     ] 2025-05-19 09:49:40,186 Using temperature field '('hot_gas', 'temperature')'.\n"
     ]
    },
    {
     "data": {
      "application/vnd.jupyter.widget-view+json": {
       "model_id": "dd53c2d130d54c92a9aee8c5b70dfed0",
       "version_major": 2,
       "version_minor": 0
      },
      "text/plain": [
       "Preparing spectrum table :   0%|          | 0/138 [00:00<?, ?it/s]"
      ]
     },
     "metadata": {},
     "output_type": "display_data"
    },
    {
     "name": "stderr",
     "output_type": "stream",
     "text": [
      "pyxsim : [INFO     ] 2025-05-19 09:49:40,786 kT_min = 0.025 keV\n",
      "pyxsim : [INFO     ] 2025-05-19 09:49:40,788 kT_max = 64 keV\n",
      "pyxsim : [INFO     ] 2025-05-19 09:49:40,791 Using emission measure field '('hot_gas', 'emission_measure')'.\n",
      "pyxsim : [INFO     ] 2025-05-19 09:49:40,792 Using temperature field '('hot_gas', 'temperature')'.\n"
     ]
    },
    {
     "data": {
      "application/vnd.jupyter.widget-view+json": {
       "model_id": "e123a283be1d4c0eb87b487c60fd9de5",
       "version_major": 2,
       "version_minor": 0
      },
      "text/plain": [
       "Preparing spectrum table :   0%|          | 0/138 [00:00<?, ?it/s]"
      ]
     },
     "metadata": {},
     "output_type": "display_data"
    },
    {
     "name": "stderr",
     "output_type": "stream",
     "text": [
      "yt : [INFO     ] 2025-05-19 09:52:13,985 Making a fixed resolution buffer of (('hot_gas', 'xray_emissivity_0.5_2_keV')) 500 by 500\n",
      "yt : [INFO     ] 2025-05-19 09:52:16,186 Making a fixed resolution buffer of (('hot_gas', 'xray_emissivity_0.5_2_keV')) 500 by 500\n",
      "ex3 Halos:  22%|██▏       | 11/51 [09:33<37:47, 56.69s/it]yt : [INFO     ] 2025-05-19 09:52:19,799 Making a fixed resolution buffer of (('hot_gas', 'xray_emissivity_0.5_2_keV')) 500 by 500\n",
      "ex3 Halos:  24%|██▎       | 12/51 [09:37<28:09, 43.31s/it]yt : [INFO     ] 2025-05-19 09:52:22,899 Making a fixed resolution buffer of (('hot_gas', 'xray_emissivity_0.5_2_keV')) 500 by 500\n",
      "yt : [INFO     ] 2025-05-19 09:52:23,592 Calculating time from 4.884e-01 to be 1.833e+17 seconds\n",
      "yt : [INFO     ] 2025-05-19 09:52:23,679 Making a fixed resolution buffer of (('hot_gas', 'xray_emissivity_0.5_2_keV')) 500 by 500\n",
      "yt : [INFO     ] 2025-05-19 09:52:25,388 Parameters: current_time              = 1.832656005258152e+17 s\n",
      "yt : [INFO     ] 2025-05-19 09:52:25,390 Parameters: domain_dimensions         = [1 1 1]\n",
      "yt : [INFO     ] 2025-05-19 09:52:25,475 Parameters: domain_left_edge          = [0. 0. 0.]\n",
      "yt : [INFO     ] 2025-05-19 09:52:25,476 Parameters: domain_right_edge         = [25000. 25000. 25000.]\n",
      "yt : [INFO     ] 2025-05-19 09:52:25,478 Parameters: cosmological_simulation   = True\n",
      "yt : [INFO     ] 2025-05-19 09:52:25,479 Parameters: current_redshift          = 1.0476023211521182\n",
      "yt : [INFO     ] 2025-05-19 09:52:25,480 Parameters: omega_lambda              = 0.7\n",
      "yt : [INFO     ] 2025-05-19 09:52:25,481 Parameters: omega_matter              = 0.3\n",
      "yt : [INFO     ] 2025-05-19 09:52:25,482 Parameters: omega_radiation           = 0.0\n",
      "yt : [INFO     ] 2025-05-19 09:52:25,483 Parameters: hubble_constant           = 0.6711\n",
      "yt : [WARNING  ] 2025-05-19 09:52:25,485 The hot_gas particle filter already exists. Overriding.\n",
      "yt : [INFO     ] 2025-05-19 09:52:25,778 Allocating for 9162 particles\n",
      "ex3 Halos:  25%|██▌       | 13/51 [09:40<20:44, 32.75s/it]yt : [INFO     ] 2025-05-19 09:52:26,591 Calculating time from 4.884e-01 to be 1.833e+17 seconds\n",
      "yt : [INFO     ] 2025-05-19 09:52:28,079 Parameters: current_time              = 1.832656005258152e+17 s\n",
      "yt : [INFO     ] 2025-05-19 09:52:28,176 Parameters: domain_dimensions         = [1 1 1]\n",
      "yt : [INFO     ] 2025-05-19 09:52:28,178 Parameters: domain_left_edge          = [0. 0. 0.]\n",
      "yt : [INFO     ] 2025-05-19 09:52:28,180 Parameters: domain_right_edge         = [25000. 25000. 25000.]\n",
      "yt : [INFO     ] 2025-05-19 09:52:28,181 Parameters: cosmological_simulation   = True\n",
      "yt : [INFO     ] 2025-05-19 09:52:28,276 Parameters: current_redshift          = 1.0476023211521182\n",
      "yt : [INFO     ] 2025-05-19 09:52:28,278 Parameters: omega_lambda              = 0.7\n",
      "yt : [INFO     ] 2025-05-19 09:52:28,279 Parameters: omega_matter              = 0.3\n",
      "yt : [INFO     ] 2025-05-19 09:52:28,280 Parameters: omega_radiation           = 0.0\n",
      "yt : [INFO     ] 2025-05-19 09:52:28,281 Parameters: hubble_constant           = 0.6711\n",
      "yt : [WARNING  ] 2025-05-19 09:52:28,284 The hot_gas particle filter already exists. Overriding.\n",
      "yt : [INFO     ] 2025-05-19 09:52:28,676 Allocating for 9093 particles\n",
      "ex3 Halos:  27%|██▋       | 14/51 [09:45<15:25, 25.01s/it]yt : [INFO     ] 2025-05-19 09:52:31,283 Calculating time from 4.884e-01 to be 1.833e+17 seconds\n",
      "ex3 Halos:  29%|██▉       | 15/51 [09:46<10:58, 18.28s/it]yt : [INFO     ] 2025-05-19 09:52:32,191 Parameters: current_time              = 1.832656005258152e+17 s\n",
      "yt : [INFO     ] 2025-05-19 09:52:32,275 Parameters: domain_dimensions         = [1 1 1]\n",
      "yt : [INFO     ] 2025-05-19 09:52:32,276 Parameters: domain_left_edge          = [0. 0. 0.]\n",
      "yt : [INFO     ] 2025-05-19 09:52:32,278 Parameters: domain_right_edge         = [25000. 25000. 25000.]\n",
      "yt : [INFO     ] 2025-05-19 09:52:32,279 Parameters: cosmological_simulation   = True\n",
      "yt : [INFO     ] 2025-05-19 09:52:32,280 Parameters: current_redshift          = 1.0476023211521182\n",
      "yt : [INFO     ] 2025-05-19 09:52:32,280 Parameters: omega_lambda              = 0.7\n",
      "yt : [INFO     ] 2025-05-19 09:52:32,281 Parameters: omega_matter              = 0.3\n",
      "yt : [INFO     ] 2025-05-19 09:52:32,282 Parameters: omega_radiation           = 0.0\n",
      "yt : [INFO     ] 2025-05-19 09:52:32,283 Parameters: hubble_constant           = 0.6711\n",
      "yt : [WARNING  ] 2025-05-19 09:52:32,286 The hot_gas particle filter already exists. Overriding.\n",
      "yt : [INFO     ] 2025-05-19 09:52:32,492 Allocating for 8090 particles\n",
      "yt : [INFO     ] 2025-05-19 09:52:33,995 Calculating time from 4.884e-01 to be 1.833e+17 seconds\n",
      "yt : [INFO     ] 2025-05-19 09:52:34,294 Calculating time from 4.884e-01 to be 1.833e+17 seconds\n",
      "yt : [INFO     ] 2025-05-19 09:52:34,482 Parameters: current_time              = 1.832656005258152e+17 s\n",
      "yt : [INFO     ] 2025-05-19 09:52:34,484 Parameters: domain_dimensions         = [1 1 1]\n",
      "yt : [INFO     ] 2025-05-19 09:52:34,485 Parameters: domain_left_edge          = [0. 0. 0.]\n",
      "yt : [INFO     ] 2025-05-19 09:52:34,486 Parameters: domain_right_edge         = [25000. 25000. 25000.]\n",
      "yt : [INFO     ] 2025-05-19 09:52:34,487 Parameters: cosmological_simulation   = True\n",
      "yt : [INFO     ] 2025-05-19 09:52:34,488 Parameters: current_redshift          = 1.0476023211521182\n",
      "yt : [INFO     ] 2025-05-19 09:52:34,489 Parameters: omega_lambda              = 0.7\n",
      "yt : [INFO     ] 2025-05-19 09:52:34,490 Parameters: omega_matter              = 0.3\n",
      "yt : [INFO     ] 2025-05-19 09:52:34,490 Parameters: omega_radiation           = 0.0\n",
      "yt : [INFO     ] 2025-05-19 09:52:34,574 Parameters: hubble_constant           = 0.6711\n",
      "yt : [WARNING  ] 2025-05-19 09:52:34,577 The hot_gas particle filter already exists. Overriding.\n",
      "yt : [INFO     ] 2025-05-19 09:52:34,776 Allocating for 8402 particles\n",
      "yt : [INFO     ] 2025-05-19 09:52:34,792 Parameters: current_time              = 1.832656005258152e+17 s\n",
      "yt : [INFO     ] 2025-05-19 09:52:34,875 Parameters: domain_dimensions         = [1 1 1]\n",
      "yt : [INFO     ] 2025-05-19 09:52:34,877 Parameters: domain_left_edge          = [0. 0. 0.]\n",
      "yt : [INFO     ] 2025-05-19 09:52:34,878 Parameters: domain_right_edge         = [25000. 25000. 25000.]\n",
      "yt : [INFO     ] 2025-05-19 09:52:34,879 Parameters: cosmological_simulation   = True\n",
      "yt : [INFO     ] 2025-05-19 09:52:34,880 Parameters: current_redshift          = 1.0476023211521182\n",
      "yt : [INFO     ] 2025-05-19 09:52:34,881 Parameters: omega_lambda              = 0.7\n",
      "yt : [INFO     ] 2025-05-19 09:52:34,882 Parameters: omega_matter              = 0.3\n",
      "yt : [INFO     ] 2025-05-19 09:52:34,883 Parameters: omega_radiation           = 0.0\n",
      "yt : [INFO     ] 2025-05-19 09:52:34,884 Parameters: hubble_constant           = 0.6711\n",
      "yt : [WARNING  ] 2025-05-19 09:52:34,886 The hot_gas particle filter already exists. Overriding.\n",
      "yt : [INFO     ] 2025-05-19 09:52:35,078 Allocating for 7542 particles\n",
      "pyxsim : [INFO     ] 2025-05-19 09:52:45,892 kT_min = 0.025 keV\n",
      "pyxsim : [INFO     ] 2025-05-19 09:52:45,976 kT_max = 64 keV\n",
      "pyxsim : [INFO     ] 2025-05-19 09:52:45,978 Using emission measure field '('hot_gas', 'emission_measure')'.\n",
      "pyxsim : [INFO     ] 2025-05-19 09:52:45,979 Using temperature field '('hot_gas', 'temperature')'.\n"
     ]
    },
    {
     "data": {
      "application/vnd.jupyter.widget-view+json": {
       "model_id": "c7c848c1d6dc46218bc690eae93ca317",
       "version_major": 2,
       "version_minor": 0
      },
      "text/plain": [
       "Preparing spectrum table :   0%|          | 0/138 [00:00<?, ?it/s]"
      ]
     },
     "metadata": {},
     "output_type": "display_data"
    },
    {
     "name": "stderr",
     "output_type": "stream",
     "text": [
      "pyxsim : [INFO     ] 2025-05-19 09:52:47,787 kT_min = 0.025 keV\n",
      "pyxsim : [INFO     ] 2025-05-19 09:52:47,789 kT_max = 64 keV\n",
      "pyxsim : [INFO     ] 2025-05-19 09:52:47,792 Using emission measure field '('hot_gas', 'emission_measure')'.\n",
      "pyxsim : [INFO     ] 2025-05-19 09:52:47,793 Using temperature field '('hot_gas', 'temperature')'.\n"
     ]
    },
    {
     "data": {
      "application/vnd.jupyter.widget-view+json": {
       "model_id": "ee69a44164f34aaf8db08ecc544af057",
       "version_major": 2,
       "version_minor": 0
      },
      "text/plain": [
       "Preparing spectrum table :   0%|          | 0/138 [00:00<?, ?it/s]"
      ]
     },
     "metadata": {},
     "output_type": "display_data"
    },
    {
     "name": "stderr",
     "output_type": "stream",
     "text": [
      "pyxsim : [INFO     ] 2025-05-19 09:52:49,884 kT_min = 0.025 keV\n",
      "pyxsim : [INFO     ] 2025-05-19 09:52:49,886 kT_max = 64 keV\n",
      "pyxsim : [INFO     ] 2025-05-19 09:52:49,889 Using emission measure field '('hot_gas', 'emission_measure')'.\n",
      "pyxsim : [INFO     ] 2025-05-19 09:52:49,889 Using temperature field '('hot_gas', 'temperature')'.\n"
     ]
    },
    {
     "data": {
      "application/vnd.jupyter.widget-view+json": {
       "model_id": "d69d767a42414d00ace54e28bfd29564",
       "version_major": 2,
       "version_minor": 0
      },
      "text/plain": [
       "Preparing spectrum table :   0%|          | 0/138 [00:00<?, ?it/s]"
      ]
     },
     "metadata": {},
     "output_type": "display_data"
    },
    {
     "name": "stderr",
     "output_type": "stream",
     "text": [
      "pyxsim : [INFO     ] 2025-05-19 09:52:53,485 kT_min = 0.025 keV\n",
      "pyxsim : [INFO     ] 2025-05-19 09:52:53,487 kT_max = 64 keV\n",
      "pyxsim : [INFO     ] 2025-05-19 09:52:53,490 Using emission measure field '('hot_gas', 'emission_measure')'.\n",
      "pyxsim : [INFO     ] 2025-05-19 09:52:53,491 Using temperature field '('hot_gas', 'temperature')'.\n"
     ]
    },
    {
     "data": {
      "application/vnd.jupyter.widget-view+json": {
       "model_id": "2cee51a54daa4665b76487257fc0eb41",
       "version_major": 2,
       "version_minor": 0
      },
      "text/plain": [
       "Preparing spectrum table :   0%|          | 0/138 [00:00<?, ?it/s]"
      ]
     },
     "metadata": {},
     "output_type": "display_data"
    },
    {
     "name": "stderr",
     "output_type": "stream",
     "text": [
      "pyxsim : [INFO     ] 2025-05-19 09:52:53,890 kT_min = 0.025 keV\n",
      "pyxsim : [INFO     ] 2025-05-19 09:52:53,975 kT_max = 64 keV\n",
      "pyxsim : [INFO     ] 2025-05-19 09:52:53,977 Using emission measure field '('hot_gas', 'emission_measure')'.\n",
      "pyxsim : [INFO     ] 2025-05-19 09:52:53,978 Using temperature field '('hot_gas', 'temperature')'.\n"
     ]
    },
    {
     "data": {
      "application/vnd.jupyter.widget-view+json": {
       "model_id": "1fd8648e389745f7b47f5d8cda2a3426",
       "version_major": 2,
       "version_minor": 0
      },
      "text/plain": [
       "Preparing spectrum table :   0%|          | 0/138 [00:00<?, ?it/s]"
      ]
     },
     "metadata": {},
     "output_type": "display_data"
    },
    {
     "name": "stderr",
     "output_type": "stream",
     "text": [
      "yt : [INFO     ] 2025-05-19 09:55:25,375 Making a fixed resolution buffer of (('hot_gas', 'xray_emissivity_0.5_2_keV')) 500 by 500\n",
      "yt : [INFO     ] 2025-05-19 09:55:26,784 Making a fixed resolution buffer of (('hot_gas', 'xray_emissivity_0.5_2_keV')) 500 by 500\n",
      "yt : [INFO     ] 2025-05-19 09:55:27,185 Making a fixed resolution buffer of (('hot_gas', 'xray_emissivity_0.5_2_keV')) 500 by 500\n",
      "ex3 Halos:  31%|███▏      | 16/51 [12:45<37:30, 64.30s/it]yt : [INFO     ] 2025-05-19 09:55:32,587 Making a fixed resolution buffer of (('hot_gas', 'xray_emissivity_0.5_2_keV')) 500 by 500\n",
      "ex3 Halos:  33%|███▎      | 17/51 [12:49<26:38, 47.01s/it]yt : [INFO     ] 2025-05-19 09:55:35,784 Making a fixed resolution buffer of (('hot_gas', 'xray_emissivity_0.5_2_keV')) 500 by 500\n",
      "ex3 Halos:  35%|███▌      | 18/51 [12:50<18:20, 33.36s/it]yt : [INFO     ] 2025-05-19 09:55:35,975 Calculating time from 4.884e-01 to be 1.833e+17 seconds\n",
      "yt : [INFO     ] 2025-05-19 09:55:36,386 Parameters: current_time              = 1.832656005258152e+17 s\n",
      "yt : [INFO     ] 2025-05-19 09:55:36,388 Parameters: domain_dimensions         = [1 1 1]\n",
      "yt : [INFO     ] 2025-05-19 09:55:36,389 Parameters: domain_left_edge          = [0. 0. 0.]\n",
      "yt : [INFO     ] 2025-05-19 09:55:36,390 Parameters: domain_right_edge         = [25000. 25000. 25000.]\n",
      "yt : [INFO     ] 2025-05-19 09:55:36,391 Parameters: cosmological_simulation   = True\n",
      "yt : [INFO     ] 2025-05-19 09:55:36,392 Parameters: current_redshift          = 1.0476023211521182\n",
      "yt : [INFO     ] 2025-05-19 09:55:36,393 Parameters: omega_lambda              = 0.7\n",
      "yt : [INFO     ] 2025-05-19 09:55:36,394 Parameters: omega_matter              = 0.3\n",
      "yt : [INFO     ] 2025-05-19 09:55:36,395 Parameters: omega_radiation           = 0.0\n",
      "yt : [INFO     ] 2025-05-19 09:55:36,475 Parameters: hubble_constant           = 0.6711\n",
      "yt : [WARNING  ] 2025-05-19 09:55:36,479 The hot_gas particle filter already exists. Overriding.\n",
      "yt : [INFO     ] 2025-05-19 09:55:36,606 Allocating for 4708 particles\n",
      "ex3 Halos:  37%|███▋      | 19/51 [12:53<13:02, 24.45s/it]yt : [INFO     ] 2025-05-19 09:55:38,990 Calculating time from 4.884e-01 to be 1.833e+17 seconds\n",
      "yt : [INFO     ] 2025-05-19 09:55:38,999 Calculating time from 4.884e-01 to be 1.833e+17 seconds\n",
      "yt : [INFO     ] 2025-05-19 09:55:40,677 Parameters: current_time              = 1.832656005258152e+17 s\n",
      "yt : [INFO     ] 2025-05-19 09:55:40,680 Parameters: domain_dimensions         = [1 1 1]\n",
      "yt : [INFO     ] 2025-05-19 09:55:40,682 Parameters: domain_left_edge          = [0. 0. 0.]\n",
      "yt : [INFO     ] 2025-05-19 09:55:40,775 Parameters: domain_right_edge         = [25000. 25000. 25000.]\n",
      "yt : [INFO     ] 2025-05-19 09:55:40,778 Parameters: cosmological_simulation   = True\n",
      "yt : [INFO     ] 2025-05-19 09:55:40,778 Parameters: current_time              = 1.832656005258152e+17 s\n",
      "yt : [INFO     ] 2025-05-19 09:55:40,779 Parameters: current_redshift          = 1.0476023211521182\n",
      "yt : [INFO     ] 2025-05-19 09:55:40,780 Parameters: domain_dimensions         = [1 1 1]\n",
      "yt : [INFO     ] 2025-05-19 09:55:40,780 Parameters: omega_lambda              = 0.7\n",
      "yt : [INFO     ] 2025-05-19 09:55:40,782 Parameters: omega_matter              = 0.3\n",
      "yt : [INFO     ] 2025-05-19 09:55:40,782 Parameters: domain_left_edge          = [0. 0. 0.]\n",
      "yt : [INFO     ] 2025-05-19 09:55:40,783 Parameters: omega_radiation           = 0.0\n",
      "yt : [INFO     ] 2025-05-19 09:55:40,783 Parameters: domain_right_edge         = [25000. 25000. 25000.]\n",
      "yt : [INFO     ] 2025-05-19 09:55:40,784 Parameters: cosmological_simulation   = True\n",
      "yt : [INFO     ] 2025-05-19 09:55:40,784 Parameters: hubble_constant           = 0.6711\n",
      "yt : [INFO     ] 2025-05-19 09:55:40,876 Parameters: current_redshift          = 1.0476023211521182\n",
      "yt : [INFO     ] 2025-05-19 09:55:40,878 Parameters: omega_lambda              = 0.7\n",
      "yt : [INFO     ] 2025-05-19 09:55:40,878 Parameters: omega_matter              = 0.3\n",
      "yt : [INFO     ] 2025-05-19 09:55:40,880 Parameters: omega_radiation           = 0.0\n",
      "yt : [WARNING  ] 2025-05-19 09:55:40,880 The hot_gas particle filter already exists. Overriding.\n",
      "yt : [INFO     ] 2025-05-19 09:55:40,881 Parameters: hubble_constant           = 0.6711\n",
      "yt : [WARNING  ] 2025-05-19 09:55:40,884 The hot_gas particle filter already exists. Overriding.\n",
      "yt : [INFO     ] 2025-05-19 09:55:41,186 Allocating for 6230 particles\n",
      "yt : [INFO     ] 2025-05-19 09:55:41,274 Allocating for 6975 particles\n",
      "ex3 Halos:  39%|███▉      | 20/51 [12:56<09:21, 18.12s/it]yt : [INFO     ] 2025-05-19 09:55:44,085 Calculating time from 4.884e-01 to be 1.833e+17 seconds\n",
      "yt : [INFO     ] 2025-05-19 09:55:44,883 Parameters: current_time              = 1.832656005258152e+17 s\n",
      "yt : [INFO     ] 2025-05-19 09:55:44,885 Parameters: domain_dimensions         = [1 1 1]\n",
      "yt : [INFO     ] 2025-05-19 09:55:44,887 Parameters: domain_left_edge          = [0. 0. 0.]\n",
      "yt : [INFO     ] 2025-05-19 09:55:44,888 Parameters: domain_right_edge         = [25000. 25000. 25000.]\n",
      "yt : [INFO     ] 2025-05-19 09:55:44,890 Parameters: cosmological_simulation   = True\n",
      "yt : [INFO     ] 2025-05-19 09:55:44,891 Parameters: current_redshift          = 1.0476023211521182\n",
      "yt : [INFO     ] 2025-05-19 09:55:44,892 Parameters: omega_lambda              = 0.7\n",
      "yt : [INFO     ] 2025-05-19 09:55:44,893 Parameters: omega_matter              = 0.3\n",
      "yt : [INFO     ] 2025-05-19 09:55:44,975 Parameters: omega_radiation           = 0.0\n",
      "yt : [INFO     ] 2025-05-19 09:55:44,976 Parameters: hubble_constant           = 0.6711\n",
      "yt : [WARNING  ] 2025-05-19 09:55:44,979 The hot_gas particle filter already exists. Overriding.\n",
      "yt : [INFO     ] 2025-05-19 09:55:44,992 Calculating time from 4.884e-01 to be 1.833e+17 seconds\n",
      "yt : [INFO     ] 2025-05-19 09:55:45,178 Allocating for 7213 particles\n",
      "yt : [INFO     ] 2025-05-19 09:55:45,478 Parameters: current_time              = 1.832656005258152e+17 s\n",
      "yt : [INFO     ] 2025-05-19 09:55:45,480 Parameters: domain_dimensions         = [1 1 1]\n",
      "yt : [INFO     ] 2025-05-19 09:55:45,481 Parameters: domain_left_edge          = [0. 0. 0.]\n",
      "yt : [INFO     ] 2025-05-19 09:55:45,482 Parameters: domain_right_edge         = [25000. 25000. 25000.]\n",
      "yt : [INFO     ] 2025-05-19 09:55:45,483 Parameters: cosmological_simulation   = True\n",
      "yt : [INFO     ] 2025-05-19 09:55:45,484 Parameters: current_redshift          = 1.0476023211521182\n",
      "yt : [INFO     ] 2025-05-19 09:55:45,485 Parameters: omega_lambda              = 0.7\n",
      "yt : [INFO     ] 2025-05-19 09:55:45,486 Parameters: omega_matter              = 0.3\n",
      "yt : [INFO     ] 2025-05-19 09:55:45,487 Parameters: omega_radiation           = 0.0\n",
      "yt : [INFO     ] 2025-05-19 09:55:45,488 Parameters: hubble_constant           = 0.6711\n",
      "yt : [WARNING  ] 2025-05-19 09:55:45,576 The hot_gas particle filter already exists. Overriding.\n",
      "yt : [INFO     ] 2025-05-19 09:55:45,776 Allocating for 8686 particles\n",
      "pyxsim : [INFO     ] 2025-05-19 09:55:58,087 kT_min = 0.025 keV\n",
      "pyxsim : [INFO     ] 2025-05-19 09:55:58,090 kT_max = 64 keV\n",
      "pyxsim : [INFO     ] 2025-05-19 09:55:58,092 Using emission measure field '('hot_gas', 'emission_measure')'.\n",
      "pyxsim : [INFO     ] 2025-05-19 09:55:58,093 Using temperature field '('hot_gas', 'temperature')'.\n"
     ]
    },
    {
     "data": {
      "application/vnd.jupyter.widget-view+json": {
       "model_id": "bbb9b5700f42450ba2b9965b7d577d18",
       "version_major": 2,
       "version_minor": 0
      },
      "text/plain": [
       "Preparing spectrum table :   0%|          | 0/138 [00:00<?, ?it/s]"
      ]
     },
     "metadata": {},
     "output_type": "display_data"
    },
    {
     "name": "stderr",
     "output_type": "stream",
     "text": [
      "pyxsim : [INFO     ] 2025-05-19 09:56:00,078 kT_min = 0.025 keV\n",
      "pyxsim : [INFO     ] 2025-05-19 09:56:00,081 kT_max = 64 keV\n",
      "pyxsim : [INFO     ] 2025-05-19 09:56:00,083 Using emission measure field '('hot_gas', 'emission_measure')'.\n",
      "pyxsim : [INFO     ] 2025-05-19 09:56:00,084 Using temperature field '('hot_gas', 'temperature')'.\n"
     ]
    },
    {
     "data": {
      "application/vnd.jupyter.widget-view+json": {
       "model_id": "a0d0df068a6544db890bd66fcd907eb2",
       "version_major": 2,
       "version_minor": 0
      },
      "text/plain": [
       "Preparing spectrum table :   0%|          | 0/138 [00:00<?, ?it/s]"
      ]
     },
     "metadata": {},
     "output_type": "display_data"
    },
    {
     "name": "stderr",
     "output_type": "stream",
     "text": [
      "pyxsim : [INFO     ] 2025-05-19 09:56:03,284 kT_min = 0.025 keV\n",
      "pyxsim : [INFO     ] 2025-05-19 09:56:03,286 kT_max = 64 keV\n",
      "pyxsim : [INFO     ] 2025-05-19 09:56:03,289 Using emission measure field '('hot_gas', 'emission_measure')'.\n",
      "pyxsim : [INFO     ] 2025-05-19 09:56:03,375 Using temperature field '('hot_gas', 'temperature')'.\n"
     ]
    },
    {
     "data": {
      "application/vnd.jupyter.widget-view+json": {
       "model_id": "631e9c57d4e749af85ec2b91cbf7349b",
       "version_major": 2,
       "version_minor": 0
      },
      "text/plain": [
       "Preparing spectrum table :   0%|          | 0/138 [00:00<?, ?it/s]"
      ]
     },
     "metadata": {},
     "output_type": "display_data"
    },
    {
     "name": "stderr",
     "output_type": "stream",
     "text": [
      "pyxsim : [INFO     ] 2025-05-19 09:56:05,081 kT_min = 0.025 keV\n",
      "pyxsim : [INFO     ] 2025-05-19 09:56:05,084 kT_max = 64 keV\n",
      "pyxsim : [INFO     ] 2025-05-19 09:56:05,086 Using emission measure field '('hot_gas', 'emission_measure')'.\n",
      "pyxsim : [INFO     ] 2025-05-19 09:56:05,087 Using temperature field '('hot_gas', 'temperature')'.\n"
     ]
    },
    {
     "data": {
      "application/vnd.jupyter.widget-view+json": {
       "model_id": "eb9f4371df0945efa46cd69f2f16a076",
       "version_major": 2,
       "version_minor": 0
      },
      "text/plain": [
       "Preparing spectrum table :   0%|          | 0/138 [00:00<?, ?it/s]"
      ]
     },
     "metadata": {},
     "output_type": "display_data"
    },
    {
     "name": "stderr",
     "output_type": "stream",
     "text": [
      "pyxsim : [INFO     ] 2025-05-19 09:56:05,675 kT_min = 0.025 keV\n",
      "pyxsim : [INFO     ] 2025-05-19 09:56:05,677 kT_max = 64 keV\n",
      "pyxsim : [INFO     ] 2025-05-19 09:56:05,680 Using emission measure field '('hot_gas', 'emission_measure')'.\n",
      "pyxsim : [INFO     ] 2025-05-19 09:56:05,681 Using temperature field '('hot_gas', 'temperature')'.\n"
     ]
    },
    {
     "data": {
      "application/vnd.jupyter.widget-view+json": {
       "model_id": "1979ba6ac0444183bfe198ce23d0a7c6",
       "version_major": 2,
       "version_minor": 0
      },
      "text/plain": [
       "Preparing spectrum table :   0%|          | 0/138 [00:00<?, ?it/s]"
      ]
     },
     "metadata": {},
     "output_type": "display_data"
    },
    {
     "name": "stderr",
     "output_type": "stream",
     "text": [
      "yt : [INFO     ] 2025-05-19 09:58:34,277 Making a fixed resolution buffer of (('hot_gas', 'xray_emissivity_0.5_2_keV')) 500 by 500\n",
      "ex3 Halos:  41%|████      | 21/51 [15:53<32:38, 65.30s/it]yt : [INFO     ] 2025-05-19 09:58:41,175 Calculating time from 4.884e-01 to be 1.833e+17 seconds\n",
      "yt : [INFO     ] 2025-05-19 09:58:41,592 Parameters: current_time              = 1.832656005258152e+17 s\n",
      "yt : [INFO     ] 2025-05-19 09:58:41,675 Parameters: domain_dimensions         = [1 1 1]\n",
      "yt : [INFO     ] 2025-05-19 09:58:41,676 Parameters: domain_left_edge          = [0. 0. 0.]\n",
      "yt : [INFO     ] 2025-05-19 09:58:41,677 Parameters: domain_right_edge         = [25000. 25000. 25000.]\n",
      "yt : [INFO     ] 2025-05-19 09:58:41,678 Parameters: cosmological_simulation   = True\n",
      "yt : [INFO     ] 2025-05-19 09:58:41,679 Parameters: current_redshift          = 1.0476023211521182\n",
      "yt : [INFO     ] 2025-05-19 09:58:41,680 Parameters: omega_lambda              = 0.7\n",
      "yt : [INFO     ] 2025-05-19 09:58:41,681 Parameters: omega_matter              = 0.3\n",
      "yt : [INFO     ] 2025-05-19 09:58:41,682 Parameters: omega_radiation           = 0.0\n",
      "yt : [INFO     ] 2025-05-19 09:58:41,683 Parameters: hubble_constant           = 0.6711\n",
      "yt : [WARNING  ] 2025-05-19 09:58:41,685 The hot_gas particle filter already exists. Overriding.\n",
      "yt : [INFO     ] 2025-05-19 09:58:41,888 Making a fixed resolution buffer of (('hot_gas', 'xray_emissivity_0.5_2_keV')) 500 by 500\n",
      "yt : [INFO     ] 2025-05-19 09:58:41,890 Allocating for 4566 particles\n",
      "yt : [INFO     ] 2025-05-19 09:58:43,775 Making a fixed resolution buffer of (('hot_gas', 'xray_emissivity_0.5_2_keV')) 500 by 500\n",
      "ex3 Halos:  43%|████▎     | 22/51 [16:01<23:16, 48.17s/it]yt : [INFO     ] 2025-05-19 09:58:46,679 Making a fixed resolution buffer of (('hot_gas', 'xray_emissivity_0.5_2_keV')) 500 by 500\n",
      "ex3 Halos:  45%|████▌     | 23/51 [16:04<16:13, 34.76s/it]yt : [INFO     ] 2025-05-19 09:58:50,485 Calculating time from 4.884e-01 to be 1.833e+17 seconds\n",
      "yt : [INFO     ] 2025-05-19 09:58:51,877 Making a fixed resolution buffer of (('hot_gas', 'xray_emissivity_0.5_2_keV')) 500 by 500\n",
      "yt : [INFO     ] 2025-05-19 09:58:52,476 Parameters: current_time              = 1.832656005258152e+17 s\n",
      "yt : [INFO     ] 2025-05-19 09:58:52,478 Parameters: domain_dimensions         = [1 1 1]\n",
      "yt : [INFO     ] 2025-05-19 09:58:52,480 Parameters: domain_left_edge          = [0. 0. 0.]\n",
      "yt : [INFO     ] 2025-05-19 09:58:52,481 Parameters: domain_right_edge         = [25000. 25000. 25000.]\n",
      "yt : [INFO     ] 2025-05-19 09:58:52,574 Parameters: cosmological_simulation   = True\n",
      "yt : [INFO     ] 2025-05-19 09:58:52,577 Parameters: current_redshift          = 1.0476023211521182\n",
      "yt : [INFO     ] 2025-05-19 09:58:52,578 Parameters: omega_lambda              = 0.7\n",
      "yt : [INFO     ] 2025-05-19 09:58:52,579 Parameters: omega_matter              = 0.3\n",
      "yt : [INFO     ] 2025-05-19 09:58:52,580 Parameters: omega_radiation           = 0.0\n",
      "yt : [INFO     ] 2025-05-19 09:58:52,581 Parameters: hubble_constant           = 0.6711\n",
      "yt : [WARNING  ] 2025-05-19 09:58:52,584 The hot_gas particle filter already exists. Overriding.\n",
      "ex3 Halos:  47%|████▋     | 24/51 [16:07<11:23, 25.31s/it]yt : [INFO     ] 2025-05-19 09:58:53,077 Allocating for 5726 particles\n",
      "yt : [INFO     ] 2025-05-19 09:58:53,597 Calculating time from 4.884e-01 to be 1.833e+17 seconds\n",
      "yt : [INFO     ] 2025-05-19 09:58:54,088 Parameters: current_time              = 1.832656005258152e+17 s\n",
      "yt : [INFO     ] 2025-05-19 09:58:54,090 Parameters: domain_dimensions         = [1 1 1]\n",
      "yt : [INFO     ] 2025-05-19 09:58:54,092 Parameters: domain_left_edge          = [0. 0. 0.]\n",
      "yt : [INFO     ] 2025-05-19 09:58:54,093 Parameters: domain_right_edge         = [25000. 25000. 25000.]\n",
      "yt : [INFO     ] 2025-05-19 09:58:54,094 Parameters: cosmological_simulation   = True\n",
      "yt : [INFO     ] 2025-05-19 09:58:54,095 Parameters: current_redshift          = 1.0476023211521182\n",
      "yt : [INFO     ] 2025-05-19 09:58:54,175 Parameters: omega_lambda              = 0.7\n",
      "yt : [INFO     ] 2025-05-19 09:58:54,176 Parameters: omega_matter              = 0.3\n",
      "yt : [INFO     ] 2025-05-19 09:58:54,177 Parameters: omega_radiation           = 0.0\n",
      "yt : [INFO     ] 2025-05-19 09:58:54,178 Parameters: hubble_constant           = 0.6711\n",
      "yt : [WARNING  ] 2025-05-19 09:58:54,180 The hot_gas particle filter already exists. Overriding.\n",
      "yt : [INFO     ] 2025-05-19 09:58:54,377 Allocating for 5997 particles\n",
      "yt : [INFO     ] 2025-05-19 09:58:56,381 Calculating time from 4.884e-01 to be 1.833e+17 seconds\n",
      "ex3 Halos:  49%|████▉     | 25/51 [16:11<08:09, 18.84s/it]yt : [INFO     ] 2025-05-19 09:58:57,080 Parameters: current_time              = 1.832656005258152e+17 s\n",
      "yt : [INFO     ] 2025-05-19 09:58:57,083 Parameters: domain_dimensions         = [1 1 1]\n",
      "yt : [INFO     ] 2025-05-19 09:58:57,084 Parameters: domain_left_edge          = [0. 0. 0.]\n",
      "yt : [INFO     ] 2025-05-19 09:58:57,085 Parameters: domain_right_edge         = [25000. 25000. 25000.]\n",
      "yt : [INFO     ] 2025-05-19 09:58:57,086 Parameters: cosmological_simulation   = True\n",
      "yt : [INFO     ] 2025-05-19 09:58:57,087 Parameters: current_redshift          = 1.0476023211521182\n",
      "yt : [INFO     ] 2025-05-19 09:58:57,088 Parameters: omega_lambda              = 0.7\n",
      "yt : [INFO     ] 2025-05-19 09:58:57,089 Parameters: omega_matter              = 0.3\n",
      "yt : [INFO     ] 2025-05-19 09:58:57,090 Parameters: omega_radiation           = 0.0\n",
      "yt : [INFO     ] 2025-05-19 09:58:57,091 Parameters: hubble_constant           = 0.6711\n",
      "yt : [WARNING  ] 2025-05-19 09:58:57,177 The hot_gas particle filter already exists. Overriding.\n",
      "yt : [INFO     ] 2025-05-19 09:58:57,375 Allocating for 4763 particles\n",
      "yt : [INFO     ] 2025-05-19 09:58:58,892 Calculating time from 4.884e-01 to be 1.833e+17 seconds\n",
      "yt : [INFO     ] 2025-05-19 09:58:59,581 Parameters: current_time              = 1.832656005258152e+17 s\n",
      "yt : [INFO     ] 2025-05-19 09:58:59,584 Parameters: domain_dimensions         = [1 1 1]\n",
      "yt : [INFO     ] 2025-05-19 09:58:59,585 Parameters: domain_left_edge          = [0. 0. 0.]\n",
      "yt : [INFO     ] 2025-05-19 09:58:59,586 Parameters: domain_right_edge         = [25000. 25000. 25000.]\n",
      "yt : [INFO     ] 2025-05-19 09:58:59,587 Parameters: cosmological_simulation   = True\n",
      "yt : [INFO     ] 2025-05-19 09:58:59,674 Parameters: current_redshift          = 1.0476023211521182\n",
      "yt : [INFO     ] 2025-05-19 09:58:59,675 Parameters: omega_lambda              = 0.7\n",
      "yt : [INFO     ] 2025-05-19 09:58:59,676 Parameters: omega_matter              = 0.3\n",
      "yt : [INFO     ] 2025-05-19 09:58:59,677 Parameters: omega_radiation           = 0.0\n",
      "yt : [INFO     ] 2025-05-19 09:58:59,678 Parameters: hubble_constant           = 0.6711\n",
      "yt : [WARNING  ] 2025-05-19 09:58:59,680 The hot_gas particle filter already exists. Overriding.\n",
      "yt : [INFO     ] 2025-05-19 09:58:59,877 Allocating for 6842 particles\n",
      "pyxsim : [INFO     ] 2025-05-19 09:59:04,077 kT_min = 0.025 keV\n",
      "pyxsim : [INFO     ] 2025-05-19 09:59:04,079 kT_max = 64 keV\n",
      "pyxsim : [INFO     ] 2025-05-19 09:59:04,081 Using emission measure field '('hot_gas', 'emission_measure')'.\n",
      "pyxsim : [INFO     ] 2025-05-19 09:59:04,083 Using temperature field '('hot_gas', 'temperature')'.\n"
     ]
    },
    {
     "data": {
      "application/vnd.jupyter.widget-view+json": {
       "model_id": "e9ee6e11431f4bd08075ec30a17fa08f",
       "version_major": 2,
       "version_minor": 0
      },
      "text/plain": [
       "Preparing spectrum table :   0%|          | 0/138 [00:00<?, ?it/s]"
      ]
     },
     "metadata": {},
     "output_type": "display_data"
    },
    {
     "name": "stderr",
     "output_type": "stream",
     "text": [
      "pyxsim : [INFO     ] 2025-05-19 09:59:11,978 kT_min = 0.025 keV\n",
      "pyxsim : [INFO     ] 2025-05-19 09:59:11,980 kT_max = 64 keV\n",
      "pyxsim : [INFO     ] 2025-05-19 09:59:11,983 Using emission measure field '('hot_gas', 'emission_measure')'.\n",
      "pyxsim : [INFO     ] 2025-05-19 09:59:11,984 Using temperature field '('hot_gas', 'temperature')'.\n"
     ]
    },
    {
     "data": {
      "application/vnd.jupyter.widget-view+json": {
       "model_id": "3554c7febdb74191a6e9d457469ebe5f",
       "version_major": 2,
       "version_minor": 0
      },
      "text/plain": [
       "Preparing spectrum table :   0%|          | 0/138 [00:00<?, ?it/s]"
      ]
     },
     "metadata": {},
     "output_type": "display_data"
    },
    {
     "name": "stderr",
     "output_type": "stream",
     "text": [
      "pyxsim : [INFO     ] 2025-05-19 09:59:15,989 kT_min = 0.025 keV\n",
      "pyxsim : [INFO     ] 2025-05-19 09:59:15,992 kT_max = 64 keV\n",
      "pyxsim : [INFO     ] 2025-05-19 09:59:16,077 Using emission measure field '('hot_gas', 'emission_measure')'.\n",
      "pyxsim : [INFO     ] 2025-05-19 09:59:16,079 Using temperature field '('hot_gas', 'temperature')'.\n"
     ]
    },
    {
     "data": {
      "application/vnd.jupyter.widget-view+json": {
       "model_id": "9bbf256c66a34147910bf16576827e76",
       "version_major": 2,
       "version_minor": 0
      },
      "text/plain": [
       "Preparing spectrum table :   0%|          | 0/138 [00:00<?, ?it/s]"
      ]
     },
     "metadata": {},
     "output_type": "display_data"
    },
    {
     "name": "stderr",
     "output_type": "stream",
     "text": [
      "pyxsim : [INFO     ] 2025-05-19 09:59:16,876 kT_min = 0.025 keV\n",
      "pyxsim : [INFO     ] 2025-05-19 09:59:16,878 kT_max = 64 keV\n",
      "pyxsim : [INFO     ] 2025-05-19 09:59:16,881 Using emission measure field '('hot_gas', 'emission_measure')'.\n",
      "pyxsim : [INFO     ] 2025-05-19 09:59:16,882 Using temperature field '('hot_gas', 'temperature')'.\n"
     ]
    },
    {
     "data": {
      "application/vnd.jupyter.widget-view+json": {
       "model_id": "7e8c8400688447ae99ab4108a0c8431d",
       "version_major": 2,
       "version_minor": 0
      },
      "text/plain": [
       "Preparing spectrum table :   0%|          | 0/138 [00:00<?, ?it/s]"
      ]
     },
     "metadata": {},
     "output_type": "display_data"
    },
    {
     "name": "stderr",
     "output_type": "stream",
     "text": [
      "pyxsim : [INFO     ] 2025-05-19 09:59:19,179 kT_min = 0.025 keV\n",
      "pyxsim : [INFO     ] 2025-05-19 09:59:19,180 kT_max = 64 keV\n",
      "pyxsim : [INFO     ] 2025-05-19 09:59:19,182 Using emission measure field '('hot_gas', 'emission_measure')'.\n",
      "pyxsim : [INFO     ] 2025-05-19 09:59:19,183 Using temperature field '('hot_gas', 'temperature')'.\n"
     ]
    },
    {
     "data": {
      "application/vnd.jupyter.widget-view+json": {
       "model_id": "1db8a16009514c0f90a0a54a07e120ed",
       "version_major": 2,
       "version_minor": 0
      },
      "text/plain": [
       "Preparing spectrum table :   0%|          | 0/138 [00:00<?, ?it/s]"
      ]
     },
     "metadata": {},
     "output_type": "display_data"
    },
    {
     "name": "stderr",
     "output_type": "stream",
     "text": [
      "yt : [INFO     ] 2025-05-19 10:01:39,380 Making a fixed resolution buffer of (('hot_gas', 'xray_emissivity_0.5_2_keV')) 500 by 500\n",
      "ex3 Halos:  51%|█████     | 26/51 [18:58<26:24, 63.38s/it]yt : [INFO     ] 2025-05-19 10:01:46,781 Calculating time from 4.884e-01 to be 1.833e+17 seconds\n",
      "yt : [INFO     ] 2025-05-19 10:01:47,483 Parameters: current_time              = 1.832656005258152e+17 s\n",
      "yt : [INFO     ] 2025-05-19 10:01:47,486 Parameters: domain_dimensions         = [1 1 1]\n",
      "yt : [INFO     ] 2025-05-19 10:01:47,487 Parameters: domain_left_edge          = [0. 0. 0.]\n",
      "yt : [INFO     ] 2025-05-19 10:01:47,488 Parameters: domain_right_edge         = [25000. 25000. 25000.]\n",
      "yt : [INFO     ] 2025-05-19 10:01:47,489 Parameters: cosmological_simulation   = True\n",
      "yt : [INFO     ] 2025-05-19 10:01:47,575 Parameters: current_redshift          = 1.0476023211521182\n",
      "yt : [INFO     ] 2025-05-19 10:01:47,576 Parameters: omega_lambda              = 0.7\n",
      "yt : [INFO     ] 2025-05-19 10:01:47,577 Parameters: omega_matter              = 0.3\n",
      "yt : [INFO     ] 2025-05-19 10:01:47,578 Parameters: omega_radiation           = 0.0\n",
      "yt : [INFO     ] 2025-05-19 10:01:47,579 Parameters: hubble_constant           = 0.6711\n",
      "yt : [WARNING  ] 2025-05-19 10:01:47,581 The hot_gas particle filter already exists. Overriding.\n",
      "yt : [INFO     ] 2025-05-19 10:01:47,788 Allocating for 5537 particles\n",
      "yt : [INFO     ] 2025-05-19 10:01:52,880 Making a fixed resolution buffer of (('hot_gas', 'xray_emissivity_0.5_2_keV')) 500 by 500\n",
      "yt : [INFO     ] 2025-05-19 10:01:54,187 Making a fixed resolution buffer of (('hot_gas', 'xray_emissivity_0.5_2_keV')) 500 by 500\n",
      "ex3 Halos:  53%|█████▎    | 27/51 [19:12<19:21, 48.40s/it]yt : [INFO     ] 2025-05-19 10:02:00,587 Making a fixed resolution buffer of (('hot_gas', 'xray_emissivity_0.5_2_keV')) 500 by 500\n",
      "ex3 Halos:  55%|█████▍    | 28/51 [19:15<13:21, 34.85s/it]yt : [INFO     ] 2025-05-19 10:02:01,795 Calculating time from 4.884e-01 to be 1.833e+17 seconds\n",
      "yt : [INFO     ] 2025-05-19 10:02:02,290 Parameters: current_time              = 1.832656005258152e+17 s\n",
      "yt : [INFO     ] 2025-05-19 10:02:02,293 Parameters: domain_dimensions         = [1 1 1]\n",
      "yt : [INFO     ] 2025-05-19 10:02:02,295 Parameters: domain_left_edge          = [0. 0. 0.]\n",
      "yt : [INFO     ] 2025-05-19 10:02:02,296 Parameters: domain_right_edge         = [25000. 25000. 25000.]\n",
      "yt : [INFO     ] 2025-05-19 10:02:02,297 Parameters: cosmological_simulation   = True\n",
      "yt : [INFO     ] 2025-05-19 10:02:02,298 Parameters: current_redshift          = 1.0476023211521182\n",
      "yt : [INFO     ] 2025-05-19 10:02:02,375 Parameters: omega_lambda              = 0.7\n",
      "yt : [INFO     ] 2025-05-19 10:02:02,377 Parameters: omega_matter              = 0.3\n",
      "yt : [INFO     ] 2025-05-19 10:02:02,378 Parameters: omega_radiation           = 0.0\n",
      "yt : [INFO     ] 2025-05-19 10:02:02,379 Parameters: hubble_constant           = 0.6711\n",
      "yt : [WARNING  ] 2025-05-19 10:02:02,382 The hot_gas particle filter already exists. Overriding.\n",
      "yt : [INFO     ] 2025-05-19 10:02:02,578 Allocating for 5894 particles\n",
      "yt : [INFO     ] 2025-05-19 10:02:04,176 Calculating time from 4.884e-01 to be 1.833e+17 seconds\n",
      "yt : [INFO     ] 2025-05-19 10:02:05,281 Parameters: current_time              = 1.832656005258152e+17 s\n",
      "yt : [INFO     ] 2025-05-19 10:02:05,283 Parameters: domain_dimensions         = [1 1 1]\n",
      "yt : [INFO     ] 2025-05-19 10:02:05,284 Parameters: domain_left_edge          = [0. 0. 0.]\n",
      "yt : [INFO     ] 2025-05-19 10:02:05,285 Parameters: domain_right_edge         = [25000. 25000. 25000.]\n",
      "yt : [INFO     ] 2025-05-19 10:02:05,287 Parameters: cosmological_simulation   = True\n",
      "ex3 Halos:  57%|█████▋    | 29/51 [19:19<09:25, 25.72s/it]yt : [INFO     ] 2025-05-19 10:02:05,287 Parameters: current_redshift          = 1.0476023211521182\n",
      "yt : [INFO     ] 2025-05-19 10:02:05,375 Parameters: omega_lambda              = 0.7\n",
      "yt : [INFO     ] 2025-05-19 10:02:05,376 Parameters: omega_matter              = 0.3\n",
      "yt : [INFO     ] 2025-05-19 10:02:05,377 Parameters: omega_radiation           = 0.0\n",
      "yt : [INFO     ] 2025-05-19 10:02:05,377 Parameters: hubble_constant           = 0.6711\n",
      "yt : [WARNING  ] 2025-05-19 10:02:05,380 The hot_gas particle filter already exists. Overriding.\n",
      "yt : [INFO     ] 2025-05-19 10:02:05,579 Allocating for 6673 particles\n",
      "yt : [INFO     ] 2025-05-19 10:02:05,984 Making a fixed resolution buffer of (('hot_gas', 'xray_emissivity_0.5_2_keV')) 500 by 500\n",
      "yt : [INFO     ] 2025-05-19 10:02:07,403 Calculating time from 4.884e-01 to be 1.833e+17 seconds\n",
      "yt : [INFO     ] 2025-05-19 10:02:07,879 Parameters: current_time              = 1.832656005258152e+17 s\n",
      "yt : [INFO     ] 2025-05-19 10:02:07,881 Parameters: domain_dimensions         = [1 1 1]\n",
      "yt : [INFO     ] 2025-05-19 10:02:07,882 Parameters: domain_left_edge          = [0. 0. 0.]\n",
      "yt : [INFO     ] 2025-05-19 10:02:07,883 Parameters: domain_right_edge         = [25000. 25000. 25000.]\n",
      "yt : [INFO     ] 2025-05-19 10:02:07,885 Parameters: cosmological_simulation   = True\n",
      "yt : [INFO     ] 2025-05-19 10:02:07,886 Parameters: current_redshift          = 1.0476023211521182\n",
      "yt : [INFO     ] 2025-05-19 10:02:07,886 Parameters: omega_lambda              = 0.7\n",
      "yt : [INFO     ] 2025-05-19 10:02:07,887 Parameters: omega_matter              = 0.3\n",
      "yt : [INFO     ] 2025-05-19 10:02:07,888 Parameters: omega_radiation           = 0.0\n",
      "yt : [INFO     ] 2025-05-19 10:02:07,889 Parameters: hubble_constant           = 0.6711\n",
      "yt : [WARNING  ] 2025-05-19 10:02:07,891 The hot_gas particle filter already exists. Overriding.\n",
      "yt : [INFO     ] 2025-05-19 10:02:09,275 Allocating for 5106 particles\n",
      "ex3 Halos:  59%|█████▉    | 30/51 [19:25<06:53, 19.68s/it]yt : [INFO     ] 2025-05-19 10:02:13,079 Calculating time from 4.884e-01 to be 1.833e+17 seconds\n",
      "pyxsim : [INFO     ] 2025-05-19 10:02:13,486 kT_min = 0.025 keV\n",
      "pyxsim : [INFO     ] 2025-05-19 10:02:13,488 kT_max = 64 keV\n",
      "pyxsim : [INFO     ] 2025-05-19 10:02:13,490 Using emission measure field '('hot_gas', 'emission_measure')'.\n",
      "pyxsim : [INFO     ] 2025-05-19 10:02:13,491 Using temperature field '('hot_gas', 'temperature')'.\n",
      "yt : [INFO     ] 2025-05-19 10:02:13,585 Parameters: current_time              = 1.832656005258152e+17 s\n",
      "yt : [INFO     ] 2025-05-19 10:02:13,586 Parameters: domain_dimensions         = [1 1 1]\n",
      "yt : [INFO     ] 2025-05-19 10:02:13,588 Parameters: domain_left_edge          = [0. 0. 0.]\n",
      "yt : [INFO     ] 2025-05-19 10:02:13,589 Parameters: domain_right_edge         = [25000. 25000. 25000.]\n",
      "yt : [INFO     ] 2025-05-19 10:02:13,590 Parameters: cosmological_simulation   = True\n",
      "yt : [INFO     ] 2025-05-19 10:02:13,591 Parameters: current_redshift          = 1.0476023211521182\n",
      "yt : [INFO     ] 2025-05-19 10:02:13,675 Parameters: omega_lambda              = 0.7\n",
      "yt : [INFO     ] 2025-05-19 10:02:13,676 Parameters: omega_matter              = 0.3\n",
      "yt : [INFO     ] 2025-05-19 10:02:13,677 Parameters: omega_radiation           = 0.0\n",
      "yt : [INFO     ] 2025-05-19 10:02:13,678 Parameters: hubble_constant           = 0.6711\n",
      "yt : [WARNING  ] 2025-05-19 10:02:13,680 The hot_gas particle filter already exists. Overriding.\n"
     ]
    },
    {
     "data": {
      "application/vnd.jupyter.widget-view+json": {
       "model_id": "d1c9652b5cb24413b2f46347466df874",
       "version_major": 2,
       "version_minor": 0
      },
      "text/plain": [
       "Preparing spectrum table :   0%|          | 0/138 [00:00<?, ?it/s]"
      ]
     },
     "metadata": {},
     "output_type": "display_data"
    },
    {
     "name": "stderr",
     "output_type": "stream",
     "text": [
      "yt : [INFO     ] 2025-05-19 10:02:13,877 Allocating for 5296 particles\n",
      "pyxsim : [INFO     ] 2025-05-19 10:02:24,675 kT_min = 0.025 keV\n",
      "pyxsim : [INFO     ] 2025-05-19 10:02:24,678 kT_max = 64 keV\n",
      "pyxsim : [INFO     ] 2025-05-19 10:02:24,680 Using emission measure field '('hot_gas', 'emission_measure')'.\n",
      "pyxsim : [INFO     ] 2025-05-19 10:02:24,681 Using temperature field '('hot_gas', 'temperature')'.\n"
     ]
    },
    {
     "data": {
      "application/vnd.jupyter.widget-view+json": {
       "model_id": "a32d612b429e42189354fb9394db789f",
       "version_major": 2,
       "version_minor": 0
      },
      "text/plain": [
       "Preparing spectrum table :   0%|          | 0/138 [00:00<?, ?it/s]"
      ]
     },
     "metadata": {},
     "output_type": "display_data"
    },
    {
     "name": "stderr",
     "output_type": "stream",
     "text": [
      "pyxsim : [INFO     ] 2025-05-19 10:02:26,891 kT_min = 0.025 keV\n",
      "pyxsim : [INFO     ] 2025-05-19 10:02:26,974 kT_max = 64 keV\n",
      "pyxsim : [INFO     ] 2025-05-19 10:02:26,976 Using emission measure field '('hot_gas', 'emission_measure')'.\n",
      "pyxsim : [INFO     ] 2025-05-19 10:02:26,977 Using temperature field '('hot_gas', 'temperature')'.\n"
     ]
    },
    {
     "data": {
      "application/vnd.jupyter.widget-view+json": {
       "model_id": "5f92253354014e7b9e55aded0a8bbdff",
       "version_major": 2,
       "version_minor": 0
      },
      "text/plain": [
       "Preparing spectrum table :   0%|          | 0/138 [00:00<?, ?it/s]"
      ]
     },
     "metadata": {},
     "output_type": "display_data"
    },
    {
     "name": "stderr",
     "output_type": "stream",
     "text": [
      "pyxsim : [INFO     ] 2025-05-19 10:02:29,677 kT_min = 0.025 keV\n",
      "pyxsim : [INFO     ] 2025-05-19 10:02:29,679 kT_max = 64 keV\n",
      "pyxsim : [INFO     ] 2025-05-19 10:02:29,681 Using emission measure field '('hot_gas', 'emission_measure')'.\n",
      "pyxsim : [INFO     ] 2025-05-19 10:02:29,682 Using temperature field '('hot_gas', 'temperature')'.\n"
     ]
    },
    {
     "data": {
      "application/vnd.jupyter.widget-view+json": {
       "model_id": "bf80211e65a74095b3dbd030109a6dd7",
       "version_major": 2,
       "version_minor": 0
      },
      "text/plain": [
       "Preparing spectrum table :   0%|          | 0/138 [00:00<?, ?it/s]"
      ]
     },
     "metadata": {},
     "output_type": "display_data"
    },
    {
     "name": "stderr",
     "output_type": "stream",
     "text": [
      "pyxsim : [INFO     ] 2025-05-19 10:02:34,679 kT_min = 0.025 keV\n",
      "pyxsim : [INFO     ] 2025-05-19 10:02:34,681 kT_max = 64 keV\n",
      "pyxsim : [INFO     ] 2025-05-19 10:02:34,683 Using emission measure field '('hot_gas', 'emission_measure')'.\n",
      "pyxsim : [INFO     ] 2025-05-19 10:02:34,684 Using temperature field '('hot_gas', 'temperature')'.\n"
     ]
    },
    {
     "data": {
      "application/vnd.jupyter.widget-view+json": {
       "model_id": "cd8d3605e319496b9b69e1e04925a3df",
       "version_major": 2,
       "version_minor": 0
      },
      "text/plain": [
       "Preparing spectrum table :   0%|          | 0/138 [00:00<?, ?it/s]"
      ]
     },
     "metadata": {},
     "output_type": "display_data"
    },
    {
     "name": "stderr",
     "output_type": "stream",
     "text": [
      "yt : [INFO     ] 2025-05-19 10:04:50,875 Making a fixed resolution buffer of (('hot_gas', 'xray_emissivity_0.5_2_keV')) 500 by 500\n",
      "ex3 Halos:  61%|██████    | 31/51 [22:09<21:01, 63.06s/it]yt : [INFO     ] 2025-05-19 10:04:57,474 Calculating time from 4.884e-01 to be 1.833e+17 seconds\n",
      "yt : [INFO     ] 2025-05-19 10:04:57,978 Parameters: current_time              = 1.832656005258152e+17 s\n",
      "yt : [INFO     ] 2025-05-19 10:04:57,980 Parameters: domain_dimensions         = [1 1 1]\n",
      "yt : [INFO     ] 2025-05-19 10:04:57,981 Parameters: domain_left_edge          = [0. 0. 0.]\n",
      "yt : [INFO     ] 2025-05-19 10:04:57,982 Parameters: domain_right_edge         = [25000. 25000. 25000.]\n",
      "yt : [INFO     ] 2025-05-19 10:04:57,983 Parameters: cosmological_simulation   = True\n",
      "yt : [INFO     ] 2025-05-19 10:04:57,984 Parameters: current_redshift          = 1.0476023211521182\n",
      "yt : [INFO     ] 2025-05-19 10:04:57,985 Parameters: omega_lambda              = 0.7\n",
      "yt : [INFO     ] 2025-05-19 10:04:57,986 Parameters: omega_matter              = 0.3\n",
      "yt : [INFO     ] 2025-05-19 10:04:57,987 Parameters: omega_radiation           = 0.0\n",
      "yt : [INFO     ] 2025-05-19 10:04:58,074 Parameters: hubble_constant           = 0.6711\n",
      "yt : [WARNING  ] 2025-05-19 10:04:58,077 The hot_gas particle filter already exists. Overriding.\n",
      "yt : [INFO     ] 2025-05-19 10:04:58,277 Allocating for 4758 particles\n",
      "yt : [INFO     ] 2025-05-19 10:05:03,481 Making a fixed resolution buffer of (('hot_gas', 'xray_emissivity_0.5_2_keV')) 500 by 500\n",
      "yt : [INFO     ] 2025-05-19 10:05:03,683 Making a fixed resolution buffer of (('hot_gas', 'xray_emissivity_0.5_2_keV')) 500 by 500\n",
      "yt : [INFO     ] 2025-05-19 10:05:08,386 Making a fixed resolution buffer of (('hot_gas', 'xray_emissivity_0.5_2_keV')) 500 by 500\n",
      "ex3 Halos:  65%|██████▍   | 33/51 [22:24<10:13, 34.07s/it]yt : [INFO     ] 2025-05-19 10:05:13,775 Calculating time from 4.884e-01 to be 1.833e+17 seconds\n",
      "yt : [INFO     ] 2025-05-19 10:05:13,781 Calculating time from 4.884e-01 to be 1.833e+17 seconds\n",
      "ex3 Halos:  67%|██████▋   | 34/51 [22:28<07:05, 25.02s/it]yt : [INFO     ] 2025-05-19 10:05:14,281 Parameters: current_time              = 1.832656005258152e+17 s\n",
      "yt : [INFO     ] 2025-05-19 10:05:14,283 Parameters: domain_dimensions         = [1 1 1]\n",
      "yt : [INFO     ] 2025-05-19 10:05:14,284 Parameters: domain_left_edge          = [0. 0. 0.]\n",
      "yt : [INFO     ] 2025-05-19 10:05:14,285 Parameters: domain_right_edge         = [25000. 25000. 25000.]\n",
      "yt : [INFO     ] 2025-05-19 10:05:14,286 Parameters: cosmological_simulation   = True\n",
      "yt : [INFO     ] 2025-05-19 10:05:14,287 Parameters: current_redshift          = 1.0476023211521182\n",
      "yt : [INFO     ] 2025-05-19 10:05:14,288 Parameters: omega_lambda              = 0.7\n",
      "yt : [INFO     ] 2025-05-19 10:05:14,289 Parameters: omega_matter              = 0.3\n",
      "yt : [INFO     ] 2025-05-19 10:05:14,289 Parameters: omega_radiation           = 0.0\n",
      "yt : [INFO     ] 2025-05-19 10:05:14,374 Parameters: hubble_constant           = 0.6711\n",
      "yt : [INFO     ] 2025-05-19 10:05:14,377 Parameters: current_time              = 1.832656005258152e+17 s\n",
      "yt : [WARNING  ] 2025-05-19 10:05:14,378 The hot_gas particle filter already exists. Overriding.\n",
      "yt : [INFO     ] 2025-05-19 10:05:14,379 Parameters: domain_dimensions         = [1 1 1]\n",
      "yt : [INFO     ] 2025-05-19 10:05:14,380 Parameters: domain_left_edge          = [0. 0. 0.]\n",
      "yt : [INFO     ] 2025-05-19 10:05:14,381 Parameters: domain_right_edge         = [25000. 25000. 25000.]\n",
      "yt : [INFO     ] 2025-05-19 10:05:14,382 Parameters: cosmological_simulation   = True\n",
      "yt : [INFO     ] 2025-05-19 10:05:14,383 Parameters: current_redshift          = 1.0476023211521182\n",
      "yt : [INFO     ] 2025-05-19 10:05:14,384 Parameters: omega_lambda              = 0.7\n",
      "yt : [INFO     ] 2025-05-19 10:05:14,385 Parameters: omega_matter              = 0.3\n",
      "yt : [INFO     ] 2025-05-19 10:05:14,386 Parameters: omega_radiation           = 0.0\n",
      "yt : [INFO     ] 2025-05-19 10:05:14,387 Parameters: hubble_constant           = 0.6711\n",
      "yt : [WARNING  ] 2025-05-19 10:05:14,390 The hot_gas particle filter already exists. Overriding.\n",
      "yt : [INFO     ] 2025-05-19 10:05:14,499 Allocating for 5385 particles\n",
      "yt : [INFO     ] 2025-05-19 10:05:14,588 Allocating for 5290 particles\n",
      "yt : [INFO     ] 2025-05-19 10:05:15,883 Calculating time from 4.884e-01 to be 1.833e+17 seconds\n",
      "yt : [INFO     ] 2025-05-19 10:05:16,285 Making a fixed resolution buffer of (('hot_gas', 'xray_emissivity_0.5_2_keV')) 500 by 500\n",
      "yt : [INFO     ] 2025-05-19 10:05:16,488 Parameters: current_time              = 1.832656005258152e+17 s\n",
      "yt : [INFO     ] 2025-05-19 10:05:16,490 Parameters: domain_dimensions         = [1 1 1]\n",
      "yt : [INFO     ] 2025-05-19 10:05:16,492 Parameters: domain_left_edge          = [0. 0. 0.]\n",
      "yt : [INFO     ] 2025-05-19 10:05:16,575 Parameters: domain_right_edge         = [25000. 25000. 25000.]\n",
      "yt : [INFO     ] 2025-05-19 10:05:16,576 Parameters: cosmological_simulation   = True\n",
      "yt : [INFO     ] 2025-05-19 10:05:16,577 Parameters: current_redshift          = 1.0476023211521182\n",
      "yt : [INFO     ] 2025-05-19 10:05:16,578 Parameters: omega_lambda              = 0.7\n",
      "yt : [INFO     ] 2025-05-19 10:05:16,579 Parameters: omega_matter              = 0.3\n",
      "yt : [INFO     ] 2025-05-19 10:05:16,580 Parameters: omega_radiation           = 0.0\n",
      "yt : [INFO     ] 2025-05-19 10:05:16,581 Parameters: hubble_constant           = 0.6711\n",
      "yt : [WARNING  ] 2025-05-19 10:05:16,583 The hot_gas particle filter already exists. Overriding.\n",
      "yt : [INFO     ] 2025-05-19 10:05:16,785 Allocating for 4308 particles\n",
      "ex3 Halos:  69%|██████▊   | 35/51 [22:35<05:13, 19.59s/it]pyxsim : [INFO     ] 2025-05-19 10:05:21,383 kT_min = 0.025 keV\n",
      "pyxsim : [INFO     ] 2025-05-19 10:05:21,386 kT_max = 64 keV\n",
      "pyxsim : [INFO     ] 2025-05-19 10:05:21,388 Using emission measure field '('hot_gas', 'emission_measure')'.\n",
      "pyxsim : [INFO     ] 2025-05-19 10:05:21,389 Using temperature field '('hot_gas', 'temperature')'.\n"
     ]
    },
    {
     "data": {
      "application/vnd.jupyter.widget-view+json": {
       "model_id": "deb1d001108e4c40b146000da35a45d5",
       "version_major": 2,
       "version_minor": 0
      },
      "text/plain": [
       "Preparing spectrum table :   0%|          | 0/138 [00:00<?, ?it/s]"
      ]
     },
     "metadata": {},
     "output_type": "display_data"
    },
    {
     "name": "stderr",
     "output_type": "stream",
     "text": [
      "yt : [INFO     ] 2025-05-19 10:05:22,875 Calculating time from 4.884e-01 to be 1.833e+17 seconds\n",
      "yt : [INFO     ] 2025-05-19 10:05:23,383 Parameters: current_time              = 1.832656005258152e+17 s\n",
      "yt : [INFO     ] 2025-05-19 10:05:23,384 Parameters: domain_dimensions         = [1 1 1]\n",
      "yt : [INFO     ] 2025-05-19 10:05:23,385 Parameters: domain_left_edge          = [0. 0. 0.]\n",
      "yt : [INFO     ] 2025-05-19 10:05:23,386 Parameters: domain_right_edge         = [25000. 25000. 25000.]\n",
      "yt : [INFO     ] 2025-05-19 10:05:23,387 Parameters: cosmological_simulation   = True\n",
      "yt : [INFO     ] 2025-05-19 10:05:23,474 Parameters: current_redshift          = 1.0476023211521182\n",
      "yt : [INFO     ] 2025-05-19 10:05:23,475 Parameters: omega_lambda              = 0.7\n",
      "yt : [INFO     ] 2025-05-19 10:05:23,476 Parameters: omega_matter              = 0.3\n",
      "yt : [INFO     ] 2025-05-19 10:05:23,477 Parameters: omega_radiation           = 0.0\n",
      "yt : [INFO     ] 2025-05-19 10:05:23,478 Parameters: hubble_constant           = 0.6711\n",
      "yt : [WARNING  ] 2025-05-19 10:05:23,480 The hot_gas particle filter already exists. Overriding.\n",
      "yt : [INFO     ] 2025-05-19 10:05:23,685 Allocating for 4625 particles\n",
      "pyxsim : [INFO     ] 2025-05-19 10:05:34,689 kT_min = 0.025 keV\n",
      "pyxsim : [INFO     ] 2025-05-19 10:05:34,692 kT_max = 64 keV\n",
      "pyxsim : [INFO     ] 2025-05-19 10:05:34,776 Using emission measure field '('hot_gas', 'emission_measure')'.\n",
      "pyxsim : [INFO     ] 2025-05-19 10:05:34,778 Using temperature field '('hot_gas', 'temperature')'.\n"
     ]
    },
    {
     "data": {
      "application/vnd.jupyter.widget-view+json": {
       "model_id": "42b8428b9df748f0a731db329cc3df65",
       "version_major": 2,
       "version_minor": 0
      },
      "text/plain": [
       "Preparing spectrum table :   0%|          | 0/138 [00:00<?, ?it/s]"
      ]
     },
     "metadata": {},
     "output_type": "display_data"
    },
    {
     "name": "stderr",
     "output_type": "stream",
     "text": [
      "pyxsim : [INFO     ] 2025-05-19 10:05:35,889 kT_min = 0.025 keV\n",
      "pyxsim : [INFO     ] 2025-05-19 10:05:35,891 kT_max = 64 keV\n",
      "pyxsim : [INFO     ] 2025-05-19 10:05:35,977 Using emission measure field '('hot_gas', 'emission_measure')'.\n",
      "pyxsim : [INFO     ] 2025-05-19 10:05:35,978 Using temperature field '('hot_gas', 'temperature')'.\n"
     ]
    },
    {
     "data": {
      "application/vnd.jupyter.widget-view+json": {
       "model_id": "bf41a61e7649406ba18fd2049458a632",
       "version_major": 2,
       "version_minor": 0
      },
      "text/plain": [
       "Preparing spectrum table :   0%|          | 0/138 [00:00<?, ?it/s]"
      ]
     },
     "metadata": {},
     "output_type": "display_data"
    },
    {
     "name": "stderr",
     "output_type": "stream",
     "text": [
      "pyxsim : [INFO     ] 2025-05-19 10:05:36,876 kT_min = 0.025 keV\n",
      "pyxsim : [INFO     ] 2025-05-19 10:05:36,879 kT_max = 64 keV\n",
      "pyxsim : [INFO     ] 2025-05-19 10:05:36,881 Using emission measure field '('hot_gas', 'emission_measure')'.\n",
      "pyxsim : [INFO     ] 2025-05-19 10:05:36,882 Using temperature field '('hot_gas', 'temperature')'.\n"
     ]
    },
    {
     "data": {
      "application/vnd.jupyter.widget-view+json": {
       "model_id": "8a1850be731e4f20bd95e8946978f34f",
       "version_major": 2,
       "version_minor": 0
      },
      "text/plain": [
       "Preparing spectrum table :   0%|          | 0/138 [00:00<?, ?it/s]"
      ]
     },
     "metadata": {},
     "output_type": "display_data"
    },
    {
     "name": "stderr",
     "output_type": "stream",
     "text": [
      "pyxsim : [INFO     ] 2025-05-19 10:05:44,284 kT_min = 0.025 keV\n",
      "pyxsim : [INFO     ] 2025-05-19 10:05:44,285 kT_max = 64 keV\n",
      "pyxsim : [INFO     ] 2025-05-19 10:05:44,375 Using emission measure field '('hot_gas', 'emission_measure')'.\n",
      "pyxsim : [INFO     ] 2025-05-19 10:05:44,376 Using temperature field '('hot_gas', 'temperature')'.\n"
     ]
    },
    {
     "data": {
      "application/vnd.jupyter.widget-view+json": {
       "model_id": "9f2e48105f3d430b891359780978a693",
       "version_major": 2,
       "version_minor": 0
      },
      "text/plain": [
       "Preparing spectrum table :   0%|          | 0/138 [00:00<?, ?it/s]"
      ]
     },
     "metadata": {},
     "output_type": "display_data"
    },
    {
     "name": "stderr",
     "output_type": "stream",
     "text": [
      "yt : [INFO     ] 2025-05-19 10:08:04,189 Making a fixed resolution buffer of (('hot_gas', 'xray_emissivity_0.5_2_keV')) 500 by 500\n",
      "ex3 Halos:  71%|███████   | 36/51 [25:23<16:02, 64.14s/it]yt : [INFO     ] 2025-05-19 10:08:11,587 Calculating time from 4.884e-01 to be 1.833e+17 seconds\n",
      "yt : [INFO     ] 2025-05-19 10:08:12,277 Parameters: current_time              = 1.832656005258152e+17 s\n",
      "yt : [INFO     ] 2025-05-19 10:08:12,279 Parameters: domain_dimensions         = [1 1 1]\n",
      "yt : [INFO     ] 2025-05-19 10:08:12,281 Parameters: domain_left_edge          = [0. 0. 0.]\n",
      "yt : [INFO     ] 2025-05-19 10:08:12,282 Parameters: domain_right_edge         = [25000. 25000. 25000.]\n",
      "yt : [INFO     ] 2025-05-19 10:08:12,283 Parameters: cosmological_simulation   = True\n",
      "yt : [INFO     ] 2025-05-19 10:08:12,284 Parameters: current_redshift          = 1.0476023211521182\n",
      "yt : [INFO     ] 2025-05-19 10:08:12,285 Parameters: omega_lambda              = 0.7\n",
      "yt : [INFO     ] 2025-05-19 10:08:12,286 Parameters: omega_matter              = 0.3\n",
      "yt : [INFO     ] 2025-05-19 10:08:12,375 Parameters: omega_radiation           = 0.0\n",
      "yt : [INFO     ] 2025-05-19 10:08:12,377 Parameters: hubble_constant           = 0.6711\n",
      "yt : [WARNING  ] 2025-05-19 10:08:12,380 The hot_gas particle filter already exists. Overriding.\n",
      "yt : [INFO     ] 2025-05-19 10:08:12,675 Allocating for 5022 particles\n",
      "yt : [INFO     ] 2025-05-19 10:08:15,083 Making a fixed resolution buffer of (('hot_gas', 'xray_emissivity_0.5_2_keV')) 500 by 500\n",
      "yt : [INFO     ] 2025-05-19 10:08:16,676 Making a fixed resolution buffer of (('hot_gas', 'xray_emissivity_0.5_2_keV')) 500 by 500\n",
      "ex3 Halos:  73%|███████▎  | 37/51 [25:34<11:13, 48.14s/it]yt : [INFO     ] 2025-05-19 10:08:20,295 Making a fixed resolution buffer of (('hot_gas', 'xray_emissivity_0.5_2_keV')) 500 by 500\n",
      "ex3 Halos:  75%|███████▍  | 38/51 [25:37<07:30, 34.65s/it]yt : [INFO     ] 2025-05-19 10:08:23,289 Calculating time from 4.884e-01 to be 1.833e+17 seconds\n",
      "yt : [INFO     ] 2025-05-19 10:08:24,776 Parameters: current_time              = 1.832656005258152e+17 s\n",
      "yt : [INFO     ] 2025-05-19 10:08:24,778 Parameters: domain_dimensions         = [1 1 1]\n",
      "yt : [INFO     ] 2025-05-19 10:08:24,779 Parameters: domain_left_edge          = [0. 0. 0.]\n",
      "yt : [INFO     ] 2025-05-19 10:08:24,780 Parameters: domain_right_edge         = [25000. 25000. 25000.]\n",
      "yt : [INFO     ] 2025-05-19 10:08:24,875 Parameters: cosmological_simulation   = True\n",
      "yt : [INFO     ] 2025-05-19 10:08:24,876 Parameters: current_redshift          = 1.0476023211521182\n",
      "yt : [INFO     ] 2025-05-19 10:08:24,877 Parameters: omega_lambda              = 0.7\n",
      "yt : [INFO     ] 2025-05-19 10:08:24,878 Parameters: omega_matter              = 0.3\n",
      "yt : [INFO     ] 2025-05-19 10:08:24,879 Parameters: omega_radiation           = 0.0\n",
      "yt : [INFO     ] 2025-05-19 10:08:24,880 Parameters: hubble_constant           = 0.6711\n",
      "yt : [WARNING  ] 2025-05-19 10:08:24,882 The hot_gas particle filter already exists. Overriding.\n",
      "yt : [INFO     ] 2025-05-19 10:08:25,185 Allocating for 4487 particles\n",
      "ex3 Halos:  76%|███████▋  | 39/51 [25:40<05:03, 25.31s/it]yt : [INFO     ] 2025-05-19 10:08:26,990 Calculating time from 4.884e-01 to be 1.833e+17 seconds\n",
      "yt : [INFO     ] 2025-05-19 10:08:27,488 Parameters: current_time              = 1.832656005258152e+17 s\n",
      "yt : [INFO     ] 2025-05-19 10:08:27,490 Parameters: domain_dimensions         = [1 1 1]\n",
      "yt : [INFO     ] 2025-05-19 10:08:27,491 Parameters: domain_left_edge          = [0. 0. 0.]\n",
      "yt : [INFO     ] 2025-05-19 10:08:27,492 Parameters: domain_right_edge         = [25000. 25000. 25000.]\n",
      "yt : [INFO     ] 2025-05-19 10:08:27,493 Parameters: cosmological_simulation   = True\n",
      "yt : [INFO     ] 2025-05-19 10:08:27,575 Parameters: current_redshift          = 1.0476023211521182\n",
      "yt : [INFO     ] 2025-05-19 10:08:27,576 Parameters: omega_lambda              = 0.7\n",
      "yt : [INFO     ] 2025-05-19 10:08:27,577 Parameters: omega_matter              = 0.3\n",
      "yt : [INFO     ] 2025-05-19 10:08:27,577 Parameters: omega_radiation           = 0.0\n",
      "yt : [INFO     ] 2025-05-19 10:08:27,578 Parameters: hubble_constant           = 0.6711\n",
      "yt : [WARNING  ] 2025-05-19 10:08:27,581 The hot_gas particle filter already exists. Overriding.\n",
      "yt : [INFO     ] 2025-05-19 10:08:27,789 Allocating for 6421 particles\n",
      "yt : [INFO     ] 2025-05-19 10:08:29,677 Calculating time from 4.884e-01 to be 1.833e+17 seconds\n",
      "yt : [INFO     ] 2025-05-19 10:08:30,488 Parameters: current_time              = 1.832656005258152e+17 s\n",
      "yt : [INFO     ] 2025-05-19 10:08:30,490 Parameters: domain_dimensions         = [1 1 1]\n",
      "yt : [INFO     ] 2025-05-19 10:08:30,491 Parameters: domain_left_edge          = [0. 0. 0.]\n",
      "yt : [INFO     ] 2025-05-19 10:08:30,574 Parameters: domain_right_edge         = [25000. 25000. 25000.]\n",
      "yt : [INFO     ] 2025-05-19 10:08:30,576 Parameters: cosmological_simulation   = True\n",
      "yt : [INFO     ] 2025-05-19 10:08:30,577 Parameters: current_redshift          = 1.0476023211521182\n",
      "yt : [INFO     ] 2025-05-19 10:08:30,578 Parameters: omega_lambda              = 0.7\n",
      "yt : [INFO     ] 2025-05-19 10:08:30,579 Parameters: omega_matter              = 0.3\n",
      "yt : [INFO     ] 2025-05-19 10:08:30,580 Parameters: omega_radiation           = 0.0\n",
      "yt : [INFO     ] 2025-05-19 10:08:30,581 Parameters: hubble_constant           = 0.6711\n",
      "yt : [WARNING  ] 2025-05-19 10:08:30,584 The hot_gas particle filter already exists. Overriding.\n",
      "yt : [INFO     ] 2025-05-19 10:08:30,788 Allocating for 5896 particles\n",
      "yt : [INFO     ] 2025-05-19 10:08:33,183 Making a fixed resolution buffer of (('hot_gas', 'xray_emissivity_0.5_2_keV')) 500 by 500\n",
      "pyxsim : [INFO     ] 2025-05-19 10:08:34,486 kT_min = 0.025 keV\n",
      "pyxsim : [INFO     ] 2025-05-19 10:08:34,488 kT_max = 64 keV\n",
      "pyxsim : [INFO     ] 2025-05-19 10:08:34,491 Using emission measure field '('hot_gas', 'emission_measure')'.\n",
      "pyxsim : [INFO     ] 2025-05-19 10:08:34,492 Using temperature field '('hot_gas', 'temperature')'.\n"
     ]
    },
    {
     "data": {
      "application/vnd.jupyter.widget-view+json": {
       "model_id": "d7ce4856fea14b149a1c027cb7138d16",
       "version_major": 2,
       "version_minor": 0
      },
      "text/plain": [
       "Preparing spectrum table :   0%|          | 0/138 [00:00<?, ?it/s]"
      ]
     },
     "metadata": {},
     "output_type": "display_data"
    },
    {
     "name": "stderr",
     "output_type": "stream",
     "text": [
      "ex3 Halos:  78%|███████▊  | 40/51 [25:52<03:53, 21.23s/it]yt : [INFO     ] 2025-05-19 10:08:40,192 Calculating time from 4.884e-01 to be 1.833e+17 seconds\n",
      "yt : [INFO     ] 2025-05-19 10:08:40,686 Parameters: current_time              = 1.832656005258152e+17 s\n",
      "yt : [INFO     ] 2025-05-19 10:08:40,688 Parameters: domain_dimensions         = [1 1 1]\n",
      "yt : [INFO     ] 2025-05-19 10:08:40,689 Parameters: domain_left_edge          = [0. 0. 0.]\n",
      "yt : [INFO     ] 2025-05-19 10:08:40,690 Parameters: domain_right_edge         = [25000. 25000. 25000.]\n",
      "yt : [INFO     ] 2025-05-19 10:08:40,691 Parameters: cosmological_simulation   = True\n",
      "yt : [INFO     ] 2025-05-19 10:08:40,774 Parameters: current_redshift          = 1.0476023211521182\n",
      "yt : [INFO     ] 2025-05-19 10:08:40,775 Parameters: omega_lambda              = 0.7\n",
      "yt : [INFO     ] 2025-05-19 10:08:40,776 Parameters: omega_matter              = 0.3\n",
      "yt : [INFO     ] 2025-05-19 10:08:40,777 Parameters: omega_radiation           = 0.0\n",
      "yt : [INFO     ] 2025-05-19 10:08:40,778 Parameters: hubble_constant           = 0.6711\n",
      "yt : [WARNING  ] 2025-05-19 10:08:40,780 The hot_gas particle filter already exists. Overriding.\n",
      "yt : [INFO     ] 2025-05-19 10:08:40,894 Allocating for 4497 particles\n",
      "pyxsim : [INFO     ] 2025-05-19 10:08:44,591 kT_min = 0.025 keV\n",
      "pyxsim : [INFO     ] 2025-05-19 10:08:44,593 kT_max = 64 keV\n",
      "pyxsim : [INFO     ] 2025-05-19 10:08:44,675 Using emission measure field '('hot_gas', 'emission_measure')'.\n",
      "pyxsim : [INFO     ] 2025-05-19 10:08:44,676 Using temperature field '('hot_gas', 'temperature')'.\n"
     ]
    },
    {
     "data": {
      "application/vnd.jupyter.widget-view+json": {
       "model_id": "20906122c6904cc4831453a978deba86",
       "version_major": 2,
       "version_minor": 0
      },
      "text/plain": [
       "Preparing spectrum table :   0%|          | 0/138 [00:00<?, ?it/s]"
      ]
     },
     "metadata": {},
     "output_type": "display_data"
    },
    {
     "name": "stderr",
     "output_type": "stream",
     "text": [
      "pyxsim : [INFO     ] 2025-05-19 10:08:46,384 kT_min = 0.025 keV\n",
      "pyxsim : [INFO     ] 2025-05-19 10:08:46,386 kT_max = 64 keV\n",
      "pyxsim : [INFO     ] 2025-05-19 10:08:46,388 Using emission measure field '('hot_gas', 'emission_measure')'.\n",
      "pyxsim : [INFO     ] 2025-05-19 10:08:46,389 Using temperature field '('hot_gas', 'temperature')'.\n"
     ]
    },
    {
     "data": {
      "application/vnd.jupyter.widget-view+json": {
       "model_id": "bdc3e005bd94465288541618103ac4fc",
       "version_major": 2,
       "version_minor": 0
      },
      "text/plain": [
       "Preparing spectrum table :   0%|          | 0/138 [00:00<?, ?it/s]"
      ]
     },
     "metadata": {},
     "output_type": "display_data"
    },
    {
     "name": "stderr",
     "output_type": "stream",
     "text": [
      "pyxsim : [INFO     ] 2025-05-19 10:08:52,486 kT_min = 0.025 keV\n",
      "pyxsim : [INFO     ] 2025-05-19 10:08:52,488 kT_max = 64 keV\n",
      "pyxsim : [INFO     ] 2025-05-19 10:08:52,491 Using emission measure field '('hot_gas', 'emission_measure')'.\n",
      "pyxsim : [INFO     ] 2025-05-19 10:08:52,575 Using temperature field '('hot_gas', 'temperature')'.\n"
     ]
    },
    {
     "data": {
      "application/vnd.jupyter.widget-view+json": {
       "model_id": "c1270e710fc242169f3179a0b1c03ec3",
       "version_major": 2,
       "version_minor": 0
      },
      "text/plain": [
       "Preparing spectrum table :   0%|          | 0/138 [00:00<?, ?it/s]"
      ]
     },
     "metadata": {},
     "output_type": "display_data"
    },
    {
     "name": "stderr",
     "output_type": "stream",
     "text": [
      "pyxsim : [INFO     ] 2025-05-19 10:08:59,687 kT_min = 0.025 keV\n",
      "pyxsim : [INFO     ] 2025-05-19 10:08:59,689 kT_max = 64 keV\n",
      "pyxsim : [INFO     ] 2025-05-19 10:08:59,776 Using emission measure field '('hot_gas', 'emission_measure')'.\n",
      "pyxsim : [INFO     ] 2025-05-19 10:08:59,777 Using temperature field '('hot_gas', 'temperature')'.\n"
     ]
    },
    {
     "data": {
      "application/vnd.jupyter.widget-view+json": {
       "model_id": "41293a3c1cbb441facf93d322edfca9b",
       "version_major": 2,
       "version_minor": 0
      },
      "text/plain": [
       "Preparing spectrum table :   0%|          | 0/138 [00:00<?, ?it/s]"
      ]
     },
     "metadata": {},
     "output_type": "display_data"
    },
    {
     "name": "stderr",
     "output_type": "stream",
     "text": [
      "yt : [INFO     ] 2025-05-19 10:11:12,193 Making a fixed resolution buffer of (('hot_gas', 'xray_emissivity_0.5_2_keV')) 500 by 500\n",
      "ex3 Halos:  80%|████████  | 41/51 [28:31<10:25, 62.59s/it]yt : [INFO     ] 2025-05-19 10:11:19,389 Calculating time from 4.884e-01 to be 1.833e+17 seconds\n",
      "yt : [INFO     ] 2025-05-19 10:11:19,981 Parameters: current_time              = 1.832656005258152e+17 s\n",
      "yt : [INFO     ] 2025-05-19 10:11:19,983 Parameters: domain_dimensions         = [1 1 1]\n",
      "yt : [INFO     ] 2025-05-19 10:11:19,984 Parameters: domain_left_edge          = [0. 0. 0.]\n",
      "yt : [INFO     ] 2025-05-19 10:11:19,985 Parameters: domain_right_edge         = [25000. 25000. 25000.]\n",
      "yt : [INFO     ] 2025-05-19 10:11:19,986 Parameters: cosmological_simulation   = True\n",
      "yt : [INFO     ] 2025-05-19 10:11:19,987 Parameters: current_redshift          = 1.0476023211521182\n",
      "yt : [INFO     ] 2025-05-19 10:11:20,075 Parameters: omega_lambda              = 0.7\n",
      "yt : [INFO     ] 2025-05-19 10:11:20,077 Parameters: omega_matter              = 0.3\n",
      "yt : [INFO     ] 2025-05-19 10:11:20,078 Parameters: omega_radiation           = 0.0\n",
      "yt : [INFO     ] 2025-05-19 10:11:20,078 Parameters: hubble_constant           = 0.6711\n",
      "yt : [WARNING  ] 2025-05-19 10:11:20,081 The hot_gas particle filter already exists. Overriding.\n",
      "yt : [INFO     ] 2025-05-19 10:11:20,378 Allocating for 5093 particles\n",
      "yt : [INFO     ] 2025-05-19 10:11:25,879 Making a fixed resolution buffer of (('hot_gas', 'xray_emissivity_0.5_2_keV')) 500 by 500\n",
      "yt : [INFO     ] 2025-05-19 10:11:26,086 Making a fixed resolution buffer of (('hot_gas', 'xray_emissivity_0.5_2_keV')) 500 by 500\n",
      "ex3 Halos:  82%|████████▏ | 42/51 [28:47<07:15, 48.43s/it]yt : [INFO     ] 2025-05-19 10:11:34,297 Making a fixed resolution buffer of (('hot_gas', 'xray_emissivity_0.5_2_keV')) 500 by 500\n",
      "yt : [INFO     ] 2025-05-19 10:11:34,795 Calculating time from 4.884e-01 to be 1.833e+17 seconds\n",
      "yt : [INFO     ] 2025-05-19 10:11:34,897 Calculating time from 4.884e-01 to be 1.833e+17 seconds\n",
      "yt : [INFO     ] 2025-05-19 10:11:35,276 Parameters: current_time              = 1.832656005258152e+17 s\n",
      "yt : [INFO     ] 2025-05-19 10:11:35,278 Parameters: domain_dimensions         = [1 1 1]\n",
      "yt : [INFO     ] 2025-05-19 10:11:35,279 Parameters: domain_left_edge          = [0. 0. 0.]\n",
      "yt : [INFO     ] 2025-05-19 10:11:35,280 Parameters: domain_right_edge         = [25000. 25000. 25000.]\n",
      "yt : [INFO     ] 2025-05-19 10:11:35,281 Parameters: cosmological_simulation   = True\n",
      "yt : [INFO     ] 2025-05-19 10:11:35,282 Parameters: current_redshift          = 1.0476023211521182\n",
      "yt : [INFO     ] 2025-05-19 10:11:35,283 Parameters: omega_lambda              = 0.7\n",
      "yt : [INFO     ] 2025-05-19 10:11:35,284 Parameters: omega_matter              = 0.3\n",
      "yt : [INFO     ] 2025-05-19 10:11:35,285 Parameters: omega_radiation           = 0.0\n",
      "yt : [INFO     ] 2025-05-19 10:11:35,285 Parameters: hubble_constant           = 0.6711\n",
      "yt : [WARNING  ] 2025-05-19 10:11:35,288 The hot_gas particle filter already exists. Overriding.\n",
      "yt : [INFO     ] 2025-05-19 10:11:35,388 Parameters: current_time              = 1.832656005258152e+17 s\n",
      "yt : [INFO     ] 2025-05-19 10:11:35,390 Parameters: domain_dimensions         = [1 1 1]\n",
      "yt : [INFO     ] 2025-05-19 10:11:35,391 Parameters: domain_left_edge          = [0. 0. 0.]\n",
      "yt : [INFO     ] 2025-05-19 10:11:35,392 Parameters: domain_right_edge         = [25000. 25000. 25000.]\n",
      "yt : [INFO     ] 2025-05-19 10:11:35,393 Parameters: cosmological_simulation   = True\n",
      "yt : [INFO     ] 2025-05-19 10:11:35,394 Parameters: current_redshift          = 1.0476023211521182\n",
      "yt : [INFO     ] 2025-05-19 10:11:35,475 Parameters: omega_lambda              = 0.7\n",
      "yt : [INFO     ] 2025-05-19 10:11:35,476 Parameters: omega_matter              = 0.3\n",
      "yt : [INFO     ] 2025-05-19 10:11:35,477 Parameters: omega_radiation           = 0.0\n",
      "yt : [INFO     ] 2025-05-19 10:11:35,477 Parameters: hubble_constant           = 0.6711\n",
      "yt : [WARNING  ] 2025-05-19 10:11:35,480 The hot_gas particle filter already exists. Overriding.\n",
      "yt : [INFO     ] 2025-05-19 10:11:35,484 Allocating for 4117 particles\n",
      "yt : [INFO     ] 2025-05-19 10:11:35,596 Allocating for 4476 particles\n",
      "ex3 Halos:  86%|████████▋ | 44/51 [28:52<03:11, 27.37s/it]yt : [INFO     ] 2025-05-19 10:11:40,387 Calculating time from 4.884e-01 to be 1.833e+17 seconds\n",
      "yt : [INFO     ] 2025-05-19 10:11:41,078 Parameters: current_time              = 1.832656005258152e+17 s\n",
      "yt : [INFO     ] 2025-05-19 10:11:41,080 Parameters: domain_dimensions         = [1 1 1]\n",
      "yt : [INFO     ] 2025-05-19 10:11:41,081 Parameters: domain_left_edge          = [0. 0. 0.]\n",
      "yt : [INFO     ] 2025-05-19 10:11:41,082 Parameters: domain_right_edge         = [25000. 25000. 25000.]\n",
      "yt : [INFO     ] 2025-05-19 10:11:41,083 Parameters: cosmological_simulation   = True\n",
      "yt : [INFO     ] 2025-05-19 10:11:41,084 Parameters: current_redshift          = 1.0476023211521182\n",
      "yt : [INFO     ] 2025-05-19 10:11:41,085 Parameters: omega_lambda              = 0.7\n",
      "yt : [INFO     ] 2025-05-19 10:11:41,086 Parameters: omega_matter              = 0.3\n",
      "yt : [INFO     ] 2025-05-19 10:11:41,087 Parameters: omega_radiation           = 0.0\n",
      "yt : [INFO     ] 2025-05-19 10:11:41,087 Parameters: hubble_constant           = 0.6711\n",
      "yt : [WARNING  ] 2025-05-19 10:11:41,176 The hot_gas particle filter already exists. Overriding.\n",
      "yt : [INFO     ] 2025-05-19 10:11:41,292 Allocating for 4452 particles\n",
      "yt : [INFO     ] 2025-05-19 10:11:42,889 Making a fixed resolution buffer of (('hot_gas', 'xray_emissivity_0.5_2_keV')) 500 by 500\n",
      "pyxsim : [INFO     ] 2025-05-19 10:11:46,881 kT_min = 0.025 keV\n",
      "pyxsim : [INFO     ] 2025-05-19 10:11:46,883 kT_max = 64 keV\n",
      "pyxsim : [INFO     ] 2025-05-19 10:11:46,975 Using emission measure field '('hot_gas', 'emission_measure')'.\n",
      "pyxsim : [INFO     ] 2025-05-19 10:11:46,977 Using temperature field '('hot_gas', 'temperature')'.\n"
     ]
    },
    {
     "data": {
      "application/vnd.jupyter.widget-view+json": {
       "model_id": "2e44181e93b545a6899a424eaa459eca",
       "version_major": 2,
       "version_minor": 0
      },
      "text/plain": [
       "Preparing spectrum table :   0%|          | 0/138 [00:00<?, ?it/s]"
      ]
     },
     "metadata": {},
     "output_type": "display_data"
    },
    {
     "name": "stderr",
     "output_type": "stream",
     "text": [
      "ex3 Halos:  88%|████████▊ | 45/51 [29:02<02:17, 22.89s/it]yt : [INFO     ] 2025-05-19 10:11:49,786 Calculating time from 4.884e-01 to be 1.833e+17 seconds\n",
      "yt : [INFO     ] 2025-05-19 10:11:50,287 Parameters: current_time              = 1.832656005258152e+17 s\n",
      "yt : [INFO     ] 2025-05-19 10:11:50,289 Parameters: domain_dimensions         = [1 1 1]\n",
      "yt : [INFO     ] 2025-05-19 10:11:50,290 Parameters: domain_left_edge          = [0. 0. 0.]\n",
      "yt : [INFO     ] 2025-05-19 10:11:50,291 Parameters: domain_right_edge         = [25000. 25000. 25000.]\n",
      "yt : [INFO     ] 2025-05-19 10:11:50,293 Parameters: cosmological_simulation   = True\n",
      "yt : [INFO     ] 2025-05-19 10:11:50,375 Parameters: current_redshift          = 1.0476023211521182\n",
      "yt : [INFO     ] 2025-05-19 10:11:50,375 Parameters: omega_lambda              = 0.7\n",
      "yt : [INFO     ] 2025-05-19 10:11:50,376 Parameters: omega_matter              = 0.3\n",
      "yt : [INFO     ] 2025-05-19 10:11:50,377 Parameters: omega_radiation           = 0.0\n",
      "yt : [INFO     ] 2025-05-19 10:11:50,378 Parameters: hubble_constant           = 0.6711\n",
      "yt : [WARNING  ] 2025-05-19 10:11:50,380 The hot_gas particle filter already exists. Overriding.\n",
      "yt : [INFO     ] 2025-05-19 10:11:50,576 Allocating for 4165 particles\n",
      "pyxsim : [INFO     ] 2025-05-19 10:11:58,187 kT_min = 0.025 keV\n",
      "pyxsim : [INFO     ] 2025-05-19 10:11:58,189 kT_max = 64 keV\n",
      "pyxsim : [INFO     ] 2025-05-19 10:11:58,275 Using emission measure field '('hot_gas', 'emission_measure')'.\n",
      "pyxsim : [INFO     ] 2025-05-19 10:11:58,276 Using temperature field '('hot_gas', 'temperature')'.\n"
     ]
    },
    {
     "data": {
      "application/vnd.jupyter.widget-view+json": {
       "model_id": "5c777b4f9fcf4f43aaf1b2dac3c35083",
       "version_major": 2,
       "version_minor": 0
      },
      "text/plain": [
       "Preparing spectrum table :   0%|          | 0/138 [00:00<?, ?it/s]"
      ]
     },
     "metadata": {},
     "output_type": "display_data"
    },
    {
     "name": "stderr",
     "output_type": "stream",
     "text": [
      "pyxsim : [INFO     ] 2025-05-19 10:11:59,384 kT_min = 0.025 keV\n",
      "pyxsim : [INFO     ] 2025-05-19 10:11:59,386 kT_max = 64 keV\n",
      "pyxsim : [INFO     ] 2025-05-19 10:11:59,388 Using emission measure field '('hot_gas', 'emission_measure')'.\n",
      "pyxsim : [INFO     ] 2025-05-19 10:11:59,475 Using temperature field '('hot_gas', 'temperature')'.\n"
     ]
    },
    {
     "data": {
      "application/vnd.jupyter.widget-view+json": {
       "model_id": "a596ead7d942473f89d491a8bb07dfa0",
       "version_major": 2,
       "version_minor": 0
      },
      "text/plain": [
       "Preparing spectrum table :   0%|          | 0/138 [00:00<?, ?it/s]"
      ]
     },
     "metadata": {},
     "output_type": "display_data"
    },
    {
     "name": "stderr",
     "output_type": "stream",
     "text": [
      "pyxsim : [INFO     ] 2025-05-19 10:12:02,893 kT_min = 0.025 keV\n",
      "pyxsim : [INFO     ] 2025-05-19 10:12:02,976 kT_max = 64 keV\n",
      "pyxsim : [INFO     ] 2025-05-19 10:12:02,978 Using emission measure field '('hot_gas', 'emission_measure')'.\n",
      "pyxsim : [INFO     ] 2025-05-19 10:12:02,979 Using temperature field '('hot_gas', 'temperature')'.\n"
     ]
    },
    {
     "data": {
      "application/vnd.jupyter.widget-view+json": {
       "model_id": "8d318aa89dbb4b319c264c50ccd2003c",
       "version_major": 2,
       "version_minor": 0
      },
      "text/plain": [
       "Preparing spectrum table :   0%|          | 0/138 [00:00<?, ?it/s]"
      ]
     },
     "metadata": {},
     "output_type": "display_data"
    },
    {
     "name": "stderr",
     "output_type": "stream",
     "text": [
      "pyxsim : [INFO     ] 2025-05-19 10:12:11,380 kT_min = 0.025 keV\n",
      "pyxsim : [INFO     ] 2025-05-19 10:12:11,383 kT_max = 64 keV\n",
      "pyxsim : [INFO     ] 2025-05-19 10:12:11,385 Using emission measure field '('hot_gas', 'emission_measure')'.\n",
      "pyxsim : [INFO     ] 2025-05-19 10:12:11,386 Using temperature field '('hot_gas', 'temperature')'.\n"
     ]
    },
    {
     "data": {
      "application/vnd.jupyter.widget-view+json": {
       "model_id": "cff6f3257b0b44ceb540d66544cbf679",
       "version_major": 2,
       "version_minor": 0
      },
      "text/plain": [
       "Preparing spectrum table :   0%|          | 0/138 [00:00<?, ?it/s]"
      ]
     },
     "metadata": {},
     "output_type": "display_data"
    },
    {
     "name": "stderr",
     "output_type": "stream",
     "text": [
      "yt : [INFO     ] 2025-05-19 10:14:20,891 Making a fixed resolution buffer of (('hot_gas', 'xray_emissivity_0.5_2_keV')) 500 by 500\n",
      "ex3 Halos:  90%|█████████ | 46/51 [31:40<04:51, 58.23s/it]yt : [INFO     ] 2025-05-19 10:14:27,585 Calculating time from 4.884e-01 to be 1.833e+17 seconds\n",
      "yt : [INFO     ] 2025-05-19 10:14:28,177 Parameters: current_time              = 1.832656005258152e+17 s\n",
      "yt : [INFO     ] 2025-05-19 10:14:28,179 Parameters: domain_dimensions         = [1 1 1]\n",
      "yt : [INFO     ] 2025-05-19 10:14:28,180 Parameters: domain_left_edge          = [0. 0. 0.]\n",
      "yt : [INFO     ] 2025-05-19 10:14:28,181 Parameters: domain_right_edge         = [25000. 25000. 25000.]\n",
      "yt : [INFO     ] 2025-05-19 10:14:28,182 Parameters: cosmological_simulation   = True\n",
      "yt : [INFO     ] 2025-05-19 10:14:28,183 Parameters: current_redshift          = 1.0476023211521182\n",
      "yt : [INFO     ] 2025-05-19 10:14:28,184 Parameters: omega_lambda              = 0.7\n",
      "yt : [INFO     ] 2025-05-19 10:14:28,185 Parameters: omega_matter              = 0.3\n",
      "yt : [INFO     ] 2025-05-19 10:14:28,186 Parameters: omega_radiation           = 0.0\n",
      "yt : [INFO     ] 2025-05-19 10:14:28,187 Parameters: hubble_constant           = 0.6711\n",
      "yt : [WARNING  ] 2025-05-19 10:14:28,275 The hot_gas particle filter already exists. Overriding.\n",
      "yt : [INFO     ] 2025-05-19 10:14:28,393 Allocating for 3589 particles\n",
      "yt : [INFO     ] 2025-05-19 10:14:38,981 Making a fixed resolution buffer of (('hot_gas', 'xray_emissivity_0.5_2_keV')) 500 by 500\n",
      "yt : [INFO     ] 2025-05-19 10:14:42,878 Making a fixed resolution buffer of (('hot_gas', 'xray_emissivity_0.5_2_keV')) 500 by 500\n",
      "ex3 Halos:  94%|█████████▍| 48/51 [32:01<01:45, 35.09s/it]yt : [INFO     ] 2025-05-19 10:14:48,278 Making a fixed resolution buffer of (('hot_gas', 'xray_emissivity_0.5_2_keV')) 500 by 500\n",
      "pyxsim : [INFO     ] 2025-05-19 10:14:50,475 kT_min = 0.025 keV\n",
      "pyxsim : [INFO     ] 2025-05-19 10:14:50,478 kT_max = 64 keV\n",
      "pyxsim : [INFO     ] 2025-05-19 10:14:50,481 Using emission measure field '('hot_gas', 'emission_measure')'.\n",
      "pyxsim : [INFO     ] 2025-05-19 10:14:50,482 Using temperature field '('hot_gas', 'temperature')'.\n"
     ]
    },
    {
     "data": {
      "application/vnd.jupyter.widget-view+json": {
       "model_id": "757ef6b6edd34edfbeab0cf4b7c5c9a3",
       "version_major": 2,
       "version_minor": 0
      },
      "text/plain": [
       "Preparing spectrum table :   0%|          | 0/138 [00:00<?, ?it/s]"
      ]
     },
     "metadata": {},
     "output_type": "display_data"
    },
    {
     "name": "stderr",
     "output_type": "stream",
     "text": [
      "ex3 Halos:  96%|█████████▌| 49/51 [32:05<00:52, 26.27s/it]yt : [INFO     ] 2025-05-19 10:14:52,016 Making a fixed resolution buffer of (('hot_gas', 'xray_emissivity_0.5_2_keV')) 500 by 500\n",
      "ex3 Halos:  98%|█████████▊| 50/51 [32:08<00:19, 19.53s/it]yt : [INFO     ] 2025-05-19 10:15:23,805 Making a fixed resolution buffer of (('hot_gas', 'xray_emissivity_0.5_2_keV')) 500 by 500\n",
      "ex3 Halos: 100%|██████████| 51/51 [32:40<00:00, 38.44s/it]\n"
     ]
    },
    {
     "name": "stdout",
     "output_type": "stream",
     "text": [
      "✅ Saved xray_profile100_ex3_3.npz\n"
     ]
    },
    {
     "data": {
      "text/plain": [
       "'\\ndata0 = np.load(\"ex0.npz\")\\ncombined_xray_profiles(data0[\"ex0_1011\"], ex[0], hm[0])\\ncombined_xray_profiles(data0[\"ex0_1112\"], ex[0], hm[1])\\n#combined_xray_profiles(data0[\"ex0_1213\"], ex[0], hm[2])\\n\\n\\ndata1 = np.load(\"ex1.npz\")\\ncombined_xray_profiles(data1[\"ex1_1011\"], ex[1], hm[0])\\ncombined_xray_profiles(data1[\"ex1_1112\"], ex[1], hm[1])\\n#combined_xray_profiles(data1[\"ex1_1213\"], ex[1], hm[2])\\n\\ndata2 = np.load(\"ex2.npz\")\\ncombined_xray_profiles(data2[\"ex2_1011\"], ex[2], hm[0])\\ncombined_xray_profiles(data2[\"ex2_1112\"], ex[2], hm[1])\\n#combined_xray_profiles(data2[\"ex2_1213\"], ex[2], hm[2])\\n\\ndata3 = np.load(\"ex3.npz\")\\n#combined_xray_profiles(data3[\"ex3_1011\"], ex[3], hm[0])\\n#combined_xray_profiles(data3[\"ex3_1112\"], ex[3], hm[1])\\ncombined_xray_profiles(data3[\"ex3_1213\"], ex[3], hm[2])\\n'"
      ]
     },
     "execution_count": 7,
     "metadata": {},
     "output_type": "execute_result"
    }
   ],
   "source": [
    "data0 = np.load(\"ex0_4bins.npz\")\n",
    "combined_xray_profiles(data0[f\"ex0_{hm}\"], ex[0], 0)\n",
    "\n",
    "data1 = np.load(\"ex1_4bins.npz\")\n",
    "combined_xray_profiles(data1[f\"ex1_{hm}\"], ex[1], 1)\n",
    "\n",
    "data2 = np.load(\"ex2_4bins.npz\")\n",
    "combined_xray_profiles(data2[f\"ex2_{hm}\"], ex[2], 2)\n",
    "\n",
    "data3 = np.load(\"ex3_4bins.npz\")\n",
    "combined_xray_profiles(data3[f\"ex3_{hm}\"], ex[3], 3)\n",
    "\n",
    "\n",
    "'''\n",
    "data0 = np.load(\"ex0.npz\")\n",
    "combined_xray_profiles(data0[\"ex0_1011\"], ex[0], hm[0])\n",
    "combined_xray_profiles(data0[\"ex0_1112\"], ex[0], hm[1])\n",
    "#combined_xray_profiles(data0[\"ex0_1213\"], ex[0], hm[2])\n",
    "\n",
    "\n",
    "data1 = np.load(\"ex1.npz\")\n",
    "combined_xray_profiles(data1[\"ex1_1011\"], ex[1], hm[0])\n",
    "combined_xray_profiles(data1[\"ex1_1112\"], ex[1], hm[1])\n",
    "#combined_xray_profiles(data1[\"ex1_1213\"], ex[1], hm[2])\n",
    "\n",
    "data2 = np.load(\"ex2.npz\")\n",
    "combined_xray_profiles(data2[\"ex2_1011\"], ex[2], hm[0])\n",
    "combined_xray_profiles(data2[\"ex2_1112\"], ex[2], hm[1])\n",
    "#combined_xray_profiles(data2[\"ex2_1213\"], ex[2], hm[2])\n",
    "\n",
    "data3 = np.load(\"ex3.npz\")\n",
    "#combined_xray_profiles(data3[\"ex3_1011\"], ex[3], hm[0])\n",
    "#combined_xray_profiles(data3[\"ex3_1112\"], ex[3], hm[1])\n",
    "combined_xray_profiles(data3[\"ex3_1213\"], ex[3], hm[2])\n",
    "'''"
   ]
  },
  {
   "cell_type": "code",
   "execution_count": 11,
   "id": "862a865c-ae3e-47bc-b5e5-c790fc4f464c",
   "metadata": {},
   "outputs": [
    {
     "data": {
      "image/png": "[encoded data removed]",
      "text/plain": [
       "<Figure size 800x600 with 1 Axes>"
      ]
     },
     "metadata": {},
     "output_type": "display_data"
    }
   ],
   "source": [
    "import numpy as np\n",
    "import pylab as plt\n",
    "\n",
    "#bin_edges = np.linspace(0, r_norm_max, nbins + 1)\n",
    "#bin_centers = 0.5 * (bin_edges[:-1] + bin_edges[1:])\n",
    "\n",
    "bin_edges = np.logspace(np.log10(r_norm_min), np.log10(r_norm_max), nbins + 1)\n",
    "bin_centers = np.sqrt(bin_edges[:-1] * bin_edges[1:])\n",
    "#print(bin_centers)\n",
    "data0 = np.load(\"ex0_4bins.npz\")\n",
    "data1 = np.load(\"ex1_4bins.npz\")\n",
    "data2 = np.load(\"ex2_4bins.npz\")\n",
    "data3 = np.load(\"ex3_4bins.npz\")\n",
    "\n",
    "N0 = len(data0[\"ex0_3\"])\n",
    "N1 = len(data1[\"ex1_3\"])\n",
    "N2 = len(data2[\"ex2_3\"])\n",
    "N3 = len(data3[\"ex3_3\"])\n",
    "\n",
    "meaning = [\n",
    "    f\"TNG (N = {N0})\",\n",
    "    f\"AGN Kinetic Feedback (N = {N1})\",\n",
    "    f\"SN Feedback (N = {N2})\",\n",
    "    f\"No Feedback (N = {N3})\"]\n",
    "\n",
    "colors = [\"black\", \"crimson\", \"lightseagreen\", \"grey\"]\n",
    "\n",
    "hmv = \"3\"\n",
    "plt.figure(figsize=(8, 6))\n",
    "label = \"ex1\"\n",
    "for label, color, model in zip(ex, colors, meaning):\n",
    "    filename = f\"xray_profile100_{label}_{hmv}.npz\"\n",
    "    data = np.load(filename)\n",
    "                        \n",
    "    xray_mean = data[\"xray_mean\"]\n",
    "    xray_sem = data[\"xray_sem\"]\n",
    "                        \n",
    "    plt.plot(bin_centers, xray_mean, label=model, color=color)\n",
    "    plt.fill_between(bin_centers, xray_mean - xray_sem, xray_mean + xray_sem, alpha=0.15, color=color)\n",
    "    \n",
    "plt.xscale(\"log\")\n",
    "plt.yscale(\"log\")\n",
    "#plt.xlim(1e-2, 1)\n",
    "#plt.ylim(10**-(10.5), 10**-(5.5))\n",
    "plt.xlabel(\"r / r200\")\n",
    "plt.ylabel(\"X-ray Emissivity [erg cm$^{-2}$ s$^{-1}$]\")\n",
    "plt.title(f\"X-ray Profile for Halo Mass {hmv} (CAMELS, z=1, $10^{{12}} \\\\leq M_{{\\\\mathrm{{halo}}}} < 10^{{12.5}} \\\\, M_\\\\odot$)\")\n",
    "plt.legend(fontsize=12)\n",
    "plt.grid(alpha=0.3)\n",
    "plt.tight_layout()\n",
    "plt.savefig(f\"xray100_CAMELS_{hmv}.png\", dpi=900)\n",
    "plt.show()"
   ]
  },
  {
   "cell_type": "markdown",
   "id": "f0138fb3-54be-4362-ad64-4d86b5e4f25a",
   "metadata": {},
   "source": [
    "## X-ray radial profile for one halo only"
   ]
  },
  {
   "cell_type": "code",
   "execution_count": 13,
   "id": "9e82377f-869c-42b1-ac91-111998bd1852",
   "metadata": {},
   "outputs": [
    {
     "name": "stderr",
     "output_type": "stream",
     "text": [
      "yt : [INFO     ] 2025-05-19 01:47:17,555 Calculating time from 4.884e-01 to be 1.833e+17 seconds\n",
      "yt : [INFO     ] 2025-05-19 01:47:17,652 Parameters: current_time              = 1.832656005258152e+17 s\n",
      "yt : [INFO     ] 2025-05-19 01:47:17,653 Parameters: domain_dimensions         = [1 1 1]\n",
      "yt : [INFO     ] 2025-05-19 01:47:17,654 Parameters: domain_left_edge          = [0. 0. 0.]\n",
      "yt : [INFO     ] 2025-05-19 01:47:17,655 Parameters: domain_right_edge         = [25000. 25000. 25000.]\n",
      "yt : [INFO     ] 2025-05-19 01:47:17,656 Parameters: cosmological_simulation   = True\n",
      "yt : [INFO     ] 2025-05-19 01:47:17,657 Parameters: current_redshift          = 1.0476023211521182\n",
      "yt : [INFO     ] 2025-05-19 01:47:17,657 Parameters: omega_lambda              = 0.7\n",
      "yt : [INFO     ] 2025-05-19 01:47:17,658 Parameters: omega_matter              = 0.3\n",
      "yt : [INFO     ] 2025-05-19 01:47:17,658 Parameters: omega_radiation           = 0.0\n",
      "yt : [INFO     ] 2025-05-19 01:47:17,659 Parameters: hubble_constant           = 0.6711\n",
      "yt : [WARNING  ] 2025-05-19 01:47:17,663 The hot_gas particle filter already exists. Overriding.\n",
      "yt : [INFO     ] 2025-05-19 01:47:17,742 Allocating for 3.31e+05 particles\n",
      "Initializing coarse index : 100%|██████████| 2/2 [00:00<00:00,  9.90it/s]\n",
      "Initializing refined index: 100%|██████████| 2/2 [00:00<00:00,  3.85it/s]\n",
      "pyxsim : [INFO     ] 2025-05-19 01:47:22,157 kT_min = 0.025 keV\n",
      "pyxsim : [INFO     ] 2025-05-19 01:47:22,158 kT_max = 64 keV\n",
      "pyxsim : [INFO     ] 2025-05-19 01:47:22,219 Using emission measure field '('hot_gas', 'emission_measure')'.\n",
      "pyxsim : [INFO     ] 2025-05-19 01:47:22,220 Using temperature field '('hot_gas', 'temperature')'.\n"
     ]
    },
    {
     "data": {
      "application/vnd.jupyter.widget-view+json": {
       "model_id": "726262b5e75c44e2afd5dad4ee6a1252",
       "version_major": 2,
       "version_minor": 0
      },
      "text/plain": [
       "Preparing spectrum table :   0%|          | 0/138 [00:00<?, ?it/s]"
      ]
     },
     "metadata": {},
     "output_type": "display_data"
    },
    {
     "name": "stderr",
     "output_type": "stream",
     "text": [
      "yt : [INFO     ] 2025-05-19 01:47:51,563 Making a fixed resolution buffer of (('hot_gas', 'xray_emissivity_0.5_2_keV')) 500 by 500\n"
     ]
    },
    {
     "data": {
      "image/png": "[encoded data removed]",
      "text/plain": [
       "<Figure size 640x480 with 1 Axes>"
      ]
     },
     "metadata": {},
     "output_type": "display_data"
    }
   ],
   "source": [
    "import numpy as np\n",
    "import pylab as plt\n",
    "\n",
    "num = 2\n",
    "snap = \"060\"\n",
    "haloID = 0\n",
    "r_norm_min = 1e-2\n",
    "r_norm_max = 1\n",
    "nbins = 10\n",
    "label = \"puchi\"\n",
    "\n",
    "f_snapshot = f'/home/jovyan/Data/Sims/IllustrisTNG/EX/EX_{num}/snapshot_{snap}.hdf5'\n",
    "f_catalog  = f'/home/jovyan/Data/FOF_Subfind/IllustrisTNG/EX/EX_{num}/groups_{snap}.hdf5'\n",
    "\n",
    "f = h5py.File(f_catalog, 'r')\n",
    "lentype_h = f['Group/GroupLenType'][:]\n",
    "r200_all = f['Group/Group_R_Crit200'][:]\n",
    "c_all = f['Group/GroupPos'][:]\n",
    "f.close()\n",
    "\n",
    "r2001 = r200_all[haloID]\n",
    "center = c_all[haloID]\n",
    "\n",
    "offset = np.sum(lentype_h[:haloID], axis=0)\n",
    "start = offset[0]\n",
    "end = offset[0] + lentype_h[haloID, 0]\n",
    "indices = np.arange(start, end)\n",
    "\n",
    "with h5py.File(f_snapshot, \"r\") as f_in:\n",
    "    header_snap = dict(f_in['Header'].attrs)\n",
    "    parttype0 = f_in[\"PartType0\"]\n",
    "    keys = list(parttype0.keys())\n",
    "\n",
    "    filename = f\"halo_{label}_{haloID}.hdf5\"\n",
    "    with h5py.File(filename, \"w\") as f_out:\n",
    "        grp = f_out.create_group(\"PartType0\")\n",
    "        for key in keys:\n",
    "            data = parttype0[key][indices]\n",
    "            grp.create_dataset(key, data=data)\n",
    "\n",
    "        header_grp = f_out.create_group('Header')\n",
    "        header_grp.attrs['NumFilesPerSnapshot'] = 1\n",
    "        header_grp.attrs['MassTable'] = header_snap['MassTable']\n",
    "        header_grp.attrs['BoxSize'] = header_snap['BoxSize']\n",
    "        header_grp.attrs['Time'] = header_snap['Time']\n",
    "        header_grp.attrs['Redshift'] = header_snap['Redshift']\n",
    "        gas_count = len(grp['Density'][:])\n",
    "        header_grp.attrs['NumPart_ThisFile'] = np.array([gas_count,0,0,0,0,0])\n",
    "        header_grp.attrs['HubbleParam'] = header_snap['HubbleParam']\n",
    "        header_grp.attrs['Omega0'] = header_snap['Omega0']\n",
    "        header_grp.attrs['OmegaLambda'] = header_snap['OmegaLambda']\n",
    "        header_grp.attrs['UnitLength_in_cm'] = header_snap['UnitLength_in_cm']\n",
    "        header_grp.attrs['UnitMass_in_g'] = header_snap['UnitMass_in_g']\n",
    "        header_grp.attrs['UnitVelocity_in_cm_per_s'] = header_snap['UnitVelocity_in_cm_per_s']\n",
    "\n",
    "ds = yt.load(filename)\n",
    "\n",
    "def hot_gas(pfilter, data):\n",
    "    pfilter1 = data[pfilter.filtered_type, \"temperature\"] > 3.0e5\n",
    "    pfilter2 = data[\"PartType0\", \"StarFormationRate\"] == 0.0\n",
    "    pfilter3 = data[\"PartType0\", \"GFM_CoolingRate\"] < 0.0\n",
    "    return (pfilter1 & pfilter2) & pfilter3\n",
    "\n",
    "yt.add_particle_filter(\"hot_gas\", function=hot_gas,\n",
    "                       filtered_type='gas', requires=[\"temperature\",\"density\"])\n",
    "ds.add_particle_filter(\"hot_gas\")\n",
    "\n",
    "source_model = pyxsim.CIESourceModel(\n",
    "    \"apec\", 0.5, 2.0, 10000,\n",
    "    (\"hot_gas\", \"metallicity\"),\n",
    "    temperature_field=(\"hot_gas\", \"temperature\"),\n",
    "    emission_measure_field=(\"hot_gas\", \"emission_measure\"),\n",
    ")\n",
    "\n",
    "c = ds.arr(center, \"code_length\").to(\"kpc\")\n",
    "r200 = ds.arr(r2001, \"code_length\").to(\"kpc\")\n",
    "\n",
    "xray_fields = source_model.make_source_fields(ds, 0.5, 2)\n",
    "proj2 = ds.proj(xray_fields[0], axis='z', center=c)\n",
    "frb2 = proj2.to_frb(2* r_norm_max * r200, (500, 500), center=c)\n",
    "xray_data = frb2[xray_fields[0]]\n",
    "\n",
    "ny, nx = xray_data.shape\n",
    "center_x, center_y = nx // 2, ny // 2\n",
    "y, x = np.indices((ny, nx))\n",
    "rp = (np.sqrt((x - center_x)**2 + (y - center_y)**2))/r200\n",
    "radii = rp * (2* r_norm_max * r200/500.0)\n",
    "#r_bins = np.linspace(0, r_norm_max, nbins + 1)\n",
    "r_bins = np.logspace(np.log10(r_norm_min), np.log10(r_norm_max), nbins + 1)\n",
    "\n",
    "def bin_profile(quantity):\n",
    "    binned = np.array([\n",
    "        np.mean(quantity[(radii >= r_bins[i]) & (radii < r_bins[i+1])])\n",
    "        if np.any((radii >= r_bins[i]) & (radii < r_bins[i+1])) else np.nan\n",
    "        for i in range(nbins)\n",
    "    ])\n",
    "    return np.nan_to_num(binned, nan=0.0)\n",
    "\n",
    "profile = bin_profile(xray_data)\n",
    "bin_centers = np.sqrt(r_bins[:-1] * r_bins[1:])\n",
    "plt.plot(bin_centers, profile)\n",
    "plt.xscale(\"log\")\n",
    "plt.yscale(\"log\")\n",
    "plt.show()"
   ]
  }
 ],
 "metadata": {
  "kernelspec": {
   "display_name": "Python 3 (ipykernel)",
   "language": "python",
   "name": "python3"
  },
  "language_info": {
   "codemirror_mode": {
    "name": "ipython",
    "version": 3
   },
   "file_extension": ".py",
   "mimetype": "text/x-python",
   "name": "python",
   "nbconvert_exporter": "python",
   "pygments_lexer": "ipython3",
   "version": "3.9.15"
  }
 },
 "nbformat": 4,
 "nbformat_minor": 5
}
