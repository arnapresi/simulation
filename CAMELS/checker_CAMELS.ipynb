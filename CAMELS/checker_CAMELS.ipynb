{
 "cells": [
  {
   "cell_type": "markdown",
   "id": "c954516a-47fd-4dbd-86b9-60388054e458",
   "metadata": {},
   "source": [
    "# Given specific conditions give haloIDs that fulfill them (CAMELS)"
   ]
  },
  {
   "cell_type": "code",
   "execution_count": 4,
   "id": "ca8d090e-4865-4139-96a3-55a21662ad4c",
   "metadata": {},
   "outputs": [
    {
     "name": "stderr",
     "output_type": "stream",
     "text": [
      "soxs : [WARNING  ] 2025-05-11 17:16:54,260 Setting 'soxs_data_dir' to /home/jovyan/.cache/soxs for this session. Please update your configuration if you want it somewhere else.\n"
     ]
    }
   ],
   "source": [
    "import yt\n",
    "import pyxsim\n",
    "\n",
    "import h5py\n",
    "import numpy as np\n",
    "\n",
    "import os\n",
    "from regions import RectangleSkyRegion\n",
    "from astropy.coordinates import SkyCoord\n",
    "import astropy.units as u\n",
    "from astropy import wcs\n",
    "from astropy.io import fits\n",
    "\n",
    "from soxs.utils import soxs_cfg\n",
    "soxs_cfg.set(\"soxs\", \"bkgnd_nH\", \"0.018\") # avoid configparser error by specifying here\n",
    "import soxs"
   ]
  },
  {
   "cell_type": "code",
   "execution_count": 9,
   "id": "6ae5f5a8-d96c-4c42-8983-b5a71e28075b",
   "metadata": {},
   "outputs": [],
   "source": [
    "snap = \"060\"\n",
    "num = 3"
   ]
  },
  {
   "cell_type": "code",
   "execution_count": 10,
   "id": "2e7975df-2fbf-4997-aee1-91057d63978a",
   "metadata": {},
   "outputs": [],
   "source": [
    "f_snapshot = f'/home/jovyan/Data/Sims/IllustrisTNG/EX/EX_{num}/snapshot_{snap}.hdf5'\n",
    "f_catalog  = f'/home/jovyan/Data/FOF_Subfind/IllustrisTNG/EX/EX_{num}/groups_{snap}.hdf5'"
   ]
  },
  {
   "cell_type": "code",
   "execution_count": 16,
   "id": "30401b5a-b18d-46e7-9c47-5ffb43422e5b",
   "metadata": {},
   "outputs": [
    {
     "name": "stdout",
     "output_type": "stream",
     "text": [
      "Total halos: 267\n",
      "High accretor Central AGNs: 3\n",
      "High accretor Central Non-AGNs: 0\n",
      "Non-accretor Central AGNs: 96\n",
      "Non-accretor Central Non-AGNs: 168\n"
     ]
    }
   ],
   "source": [
    "f = h5py.File(f_catalog, 'r')\n",
    "\n",
    "c = 299792458  # speed of light in m/s\n",
    "mp = 1.67 * 1e-27  # kg\n",
    "G = 6.674 * 1e-11  # N m^2 kg^-2\n",
    "sigma_t = 6.652 * 1e-29  # m^2\n",
    "h = 0.6774\n",
    "e_r = 0.2\n",
    "\n",
    "Mhalo = f['Group/Group_M_Crit200'][:] * 1e10/ h\n",
    "M = f['Subhalo/SubhaloBHMass'][:] * 1e10 / h\n",
    "subID = np.arange(len(Mbh))\n",
    "phid = f['Subhalo/SubhaloGrNr'][:]\n",
    "phm = Mhalo[phid[subID]]\n",
    "Mdot = f['Subhalo/SubhaloBHMdot'][:] * 10.22\n",
    "\n",
    "group_firstsub = f['Group/GroupFirstSub'][:]\n",
    "group_firstsub = group_firstsub[group_firstsub != -1]\n",
    "halo_centralID = np.array(group_firstsub)\n",
    "\n",
    "central = np.zeros(len(M))\n",
    "central[halo_centralID] = 1\n",
    "\n",
    "indices = np.where((M > 1e6) & (phm > 10**10) & (phm < 10**11) & (central == 1))\n",
    "\n",
    "Mdot_filtered = Mdot[indices]\n",
    "M_filtered = M[indices]\n",
    "subID_filtered = subID[indices]\n",
    "\n",
    "Mdot_edd = (4 * np.pi * G * M_filtered * mp) / (e_r * c * sigma_t) / 3.16887646e-8  # M_sun/yr\n",
    "\n",
    "edd_ratio = Mdot_filtered / Mdot_edd\n",
    "\n",
    "efficiency = 10 * edd_ratio * e_r\n",
    "efficiency[edd_ratio > 0.1] = e_r /(1-e_r)\n",
    "Lbol = efficiency * Mdot_filtered * (1.989e+30 / 3.154e+7) * c**2 * 1e+7         #ergs/s\n",
    "\n",
    "threshold = 0.1\n",
    "Lcut = 1e41\n",
    "\n",
    "sa_agn = subID_filtered[np.where((edd_ratio > threshold) & (Lbol > Lcut))]\n",
    "sa_non = subID_filtered[np.where((edd_ratio > threshold) & (Lbol <= Lcut))]\n",
    "sn_agn = subID_filtered[np.where((edd_ratio <= threshold) & (Lbol > Lcut))]\n",
    "sn_non = subID_filtered[np.where((edd_ratio <= threshold) & (Lbol <= Lcut))]\n",
    "\n",
    "\n",
    "ha_agn = phid[sa_agn]\n",
    "ha_non = phid[sa_non]\n",
    "hn_agn = phid[sn_agn]\n",
    "hn_non = phid[sn_non]\n",
    "\n",
    "np.savez(\"accretor_agn50_1011.npz\", ha_agn = ha_agn, ha_non = ha_non, hn_agn = hn_agn, hn_non = hn_non)\n",
    "\n",
    "# Print stats\n",
    "total = len(subID_filtered)\n",
    "print(\"Total halos:\", total)\n",
    "print(\"High accretor Central AGNs:\", len(ha_agn))\n",
    "print(\"High accretor Central Non-AGNs:\", len(ha_non))\n",
    "print(\"Non-accretor Central AGNs:\", len(hn_agn))\n",
    "print(\"Non-accretor Central Non-AGNs:\", len(hn_non))"
   ]
  }
 ],
 "metadata": {
  "kernelspec": {
   "display_name": "Python 3 (ipykernel)",
   "language": "python",
   "name": "python3"
  },
  "language_info": {
   "codemirror_mode": {
    "name": "ipython",
    "version": 3
   },
   "file_extension": ".py",
   "mimetype": "text/x-python",
   "name": "python",
   "nbconvert_exporter": "python",
   "pygments_lexer": "ipython3",
   "version": "3.9.15"
  }
 },
 "nbformat": 4,
 "nbformat_minor": 5
}
