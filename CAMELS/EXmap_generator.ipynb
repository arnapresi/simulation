{
 "cells": [
  {
   "cell_type": "markdown",
   "id": "5b3b7153-f1a0-4028-8adf-42cce59a5d4e",
   "metadata": {},
   "source": [
    "# Plotting maps for all EX parameters (haloID = 0)"
   ]
  },
  {
   "cell_type": "code",
   "execution_count": 1,
   "id": "8faf5419-cf19-4743-bff3-2da19a1f8d64",
   "metadata": {},
   "outputs": [
    {
     "name": "stdout",
     "output_type": "stream",
     "text": [
      "Requirement already satisfied: regions in /srv/conda/envs/notebook/lib/python3.9/site-packages (0.8)\n",
      "Requirement already satisfied: numpy>=1.22 in /srv/conda/envs/notebook/lib/python3.9/site-packages (from regions) (1.26.4)\n",
      "Requirement already satisfied: astropy>=5.0 in /srv/conda/envs/notebook/lib/python3.9/site-packages (from regions) (6.0.1)\n",
      "Requirement already satisfied: pyerfa>=2.0.1.1 in /srv/conda/envs/notebook/lib/python3.9/site-packages (from astropy>=5.0->regions) (2.0.1.5)\n",
      "Requirement already satisfied: astropy-iers-data>=0.2024.2.26.0.28.55 in /srv/conda/envs/notebook/lib/python3.9/site-packages (from astropy>=5.0->regions) (0.2025.2.10.0.33.26)\n",
      "Requirement already satisfied: PyYAML>=3.13 in /srv/conda/envs/notebook/lib/python3.9/site-packages (from astropy>=5.0->regions) (6.0.1)\n",
      "Requirement already satisfied: packaging>=19.0 in /srv/conda/envs/notebook/lib/python3.9/site-packages (from astropy>=5.0->regions) (24.0)\n",
      "Note: you may need to restart the kernel to use updated packages.\n"
     ]
    }
   ],
   "source": [
    "pip install regions"
   ]
  },
  {
   "cell_type": "code",
   "execution_count": 2,
   "id": "8de91ba2-9d8b-433f-bbc8-d5f01b0a9bd0",
   "metadata": {},
   "outputs": [
    {
     "name": "stdout",
     "output_type": "stream",
     "text": [
      "Requirement already satisfied: soxs in /srv/conda/envs/notebook/lib/python3.9/site-packages (4.8.5)\n",
      "Requirement already satisfied: numpy<2 in /srv/conda/envs/notebook/lib/python3.9/site-packages (from soxs) (1.26.4)\n",
      "Requirement already satisfied: astropy>=4.0 in /srv/conda/envs/notebook/lib/python3.9/site-packages (from soxs) (6.0.1)\n",
      "Requirement already satisfied: tqdm in /srv/conda/envs/notebook/lib/python3.9/site-packages (from soxs) (4.67.1)\n",
      "Requirement already satisfied: pooch in /srv/conda/envs/notebook/lib/python3.9/site-packages (from soxs) (1.8.2)\n",
      "Requirement already satisfied: h5py>=3.0 in /srv/conda/envs/notebook/lib/python3.9/site-packages (from soxs) (3.12.1)\n",
      "Requirement already satisfied: scipy in /srv/conda/envs/notebook/lib/python3.9/site-packages (from soxs) (1.13.1)\n",
      "Requirement already satisfied: pyyaml in /srv/conda/envs/notebook/lib/python3.9/site-packages (from soxs) (6.0.1)\n",
      "Requirement already satisfied: regions in /srv/conda/envs/notebook/lib/python3.9/site-packages (from soxs) (0.8)\n",
      "Requirement already satisfied: appdirs in /srv/conda/envs/notebook/lib/python3.9/site-packages (from soxs) (1.4.4)\n",
      "Requirement already satisfied: pyerfa>=2.0.1.1 in /srv/conda/envs/notebook/lib/python3.9/site-packages (from astropy>=4.0->soxs) (2.0.1.5)\n",
      "Requirement already satisfied: astropy-iers-data>=0.2024.2.26.0.28.55 in /srv/conda/envs/notebook/lib/python3.9/site-packages (from astropy>=4.0->soxs) (0.2025.2.10.0.33.26)\n",
      "Requirement already satisfied: packaging>=19.0 in /srv/conda/envs/notebook/lib/python3.9/site-packages (from astropy>=4.0->soxs) (24.0)\n",
      "Requirement already satisfied: platformdirs>=2.5.0 in /srv/conda/envs/notebook/lib/python3.9/site-packages (from pooch->soxs) (4.2.0)\n",
      "Requirement already satisfied: requests>=2.19.0 in /srv/conda/envs/notebook/lib/python3.9/site-packages (from pooch->soxs) (2.31.0)\n",
      "Requirement already satisfied: charset-normalizer<4,>=2 in /srv/conda/envs/notebook/lib/python3.9/site-packages (from requests>=2.19.0->pooch->soxs) (3.3.2)\n",
      "Requirement already satisfied: idna<4,>=2.5 in /srv/conda/envs/notebook/lib/python3.9/site-packages (from requests>=2.19.0->pooch->soxs) (3.6)\n",
      "Requirement already satisfied: urllib3<3,>=1.21.1 in /srv/conda/envs/notebook/lib/python3.9/site-packages (from requests>=2.19.0->pooch->soxs) (2.2.1)\n",
      "Requirement already satisfied: certifi>=2017.4.17 in /srv/conda/envs/notebook/lib/python3.9/site-packages (from requests>=2.19.0->pooch->soxs) (2024.12.14)\n",
      "Note: you may need to restart the kernel to use updated packages.\n"
     ]
    }
   ],
   "source": [
    "pip install soxs"
   ]
  },
  {
   "cell_type": "code",
   "execution_count": 3,
   "id": "db6b446b-6e1c-40e3-abe7-3d5da955ef2e",
   "metadata": {},
   "outputs": [
    {
     "name": "stderr",
     "output_type": "stream",
     "text": [
      "soxs : [WARNING  ] 2025-04-10 09:49:46,361 Setting 'soxs_data_dir' to /home/jovyan/.cache/soxs for this session. Please update your configuration if you want it somewhere else.\n"
     ]
    }
   ],
   "source": [
    "import os\n",
    "from astropy.io import fits\n",
    "from astropy.coordinates import SkyCoord\n",
    "import astropy.units as u\n",
    "from regions import RectangleSkyRegion\n",
    "from astropy import wcs\n",
    "import soxs\n",
    "import matplotlib.pyplot as plt"
   ]
  },
  {
   "cell_type": "code",
   "execution_count": 4,
   "id": "07fd14fa-8bdb-4bab-b987-9e9aa3540790",
   "metadata": {},
   "outputs": [
    {
     "name": "stdout",
     "output_type": "stream",
     "text": [
      "4\n"
     ]
    }
   ],
   "source": [
    "instrument =  \"lem_outer_array\" #\"chandra_acisi_cy0\"\n",
    "sky_center = (0.0, 0.0)\n",
    "#~~~~~~~~~~~~~~~~~~~~~~~~~~~~~~~~~~~~~~~~~~~~~~~~~~~~~~~~~~~~~~~~~~~~~~~~~~~~~~~~~~~~~HERE!!\n",
    "filenames = [\"EX_0\", \"EX_1\", \"EX_2\", \"EX_3\"]\n",
    "print(len(filenames))"
   ]
  },
  {
   "cell_type": "code",
   "execution_count": 5,
   "id": "528a3a59-81a2-4ddd-883e-648b667719d7",
   "metadata": {},
   "outputs": [
    {
     "name": "stderr",
     "output_type": "stream",
     "text": [
      "soxs : [INFO     ] 2025-04-10 09:49:47,166 Making observation of source in evt_0_EX_0.fits.\n"
     ]
    },
    {
     "name": "stdout",
     "output_type": "stream",
     "text": [
      "🔄 Simulating for IllustrisTNG.EX_0.snap_032.halo_000.100ks.z0.05.z_simput.fits...\n"
     ]
    },
    {
     "name": "stderr",
     "output_type": "stream",
     "text": [
      "soxs : [INFO     ] 2025-04-10 09:49:49,634 Detecting events from source IllustrisTNG.EX_0.snap_032.halo_000.100ks.z0.05.z.\n",
      "soxs : [INFO     ] 2025-04-10 09:49:49,636 Applying energy-dependent effective area from lem_300522.arf.\n",
      "soxs : [INFO     ] 2025-04-10 09:49:49,940 Pixeling events.\n",
      "soxs : [INFO     ] 2025-04-10 09:49:49,981 Scattering events with a gaussian-based PSF.\n",
      "soxs : [INFO     ] 2025-04-10 09:49:49,989 100561 events were detected from the source.\n",
      "soxs : [INFO     ] 2025-04-10 09:49:49,996 Scattering energies with RMF lem_2.5ev_110422.rmf.\n"
     ]
    },
    {
     "data": {
      "application/vnd.jupyter.widget-view+json": {
       "model_id": "b38a2288220341398ef09522fe034140",
       "version_major": 2,
       "version_minor": 0
      },
      "text/plain": [
       "Scattering energies :   0%|          | 0/100561 [00:00<?, ?it/s]"
      ]
     },
     "metadata": {},
     "output_type": "display_data"
    },
    {
     "name": "stderr",
     "output_type": "stream",
     "text": [
      "soxs : [INFO     ] 2025-04-10 09:49:54,947 Adding background events.\n",
      "soxs : [INFO     ] 2025-04-10 09:49:56,398 Adding in instrumental background.\n",
      "soxs : [INFO     ] 2025-04-10 09:49:56,532 Making 34271 events from the instrumental background.\n",
      "soxs : [INFO     ] 2025-04-10 09:49:56,543 Writing events to file evt_0_EX_0.fits.\n",
      "soxs : [INFO     ] 2025-04-10 09:49:56,708 Observation complete.\n",
      "soxs : [INFO     ] 2025-04-10 09:49:58,562 Making observation of source in evt_1_EX_1.fits.\n"
     ]
    },
    {
     "name": "stdout",
     "output_type": "stream",
     "text": [
      "✅ Saved: plot_0_EX_0.png\n",
      "🔄 Simulating for IllustrisTNG.EX_1.snap_032.halo_000.100ks.z0.05.z_simput.fits...\n"
     ]
    },
    {
     "name": "stderr",
     "output_type": "stream",
     "text": [
      "soxs : [INFO     ] 2025-04-10 09:50:00,430 Detecting events from source IllustrisTNG.EX_1.snap_032.halo_000.100ks.z0.05.z.\n",
      "soxs : [INFO     ] 2025-04-10 09:50:00,431 Applying energy-dependent effective area from lem_300522.arf.\n",
      "soxs : [INFO     ] 2025-04-10 09:50:00,589 Pixeling events.\n",
      "soxs : [INFO     ] 2025-04-10 09:50:00,611 Scattering events with a gaussian-based PSF.\n",
      "soxs : [INFO     ] 2025-04-10 09:50:00,618 50180 events were detected from the source.\n",
      "soxs : [INFO     ] 2025-04-10 09:50:00,622 Scattering energies with RMF lem_2.5ev_110422.rmf.\n"
     ]
    },
    {
     "data": {
      "application/vnd.jupyter.widget-view+json": {
       "model_id": "b22463fd640e4a069d88f253e4f6b662",
       "version_major": 2,
       "version_minor": 0
      },
      "text/plain": [
       "Scattering energies :   0%|          | 0/50180 [00:00<?, ?it/s]"
      ]
     },
     "metadata": {},
     "output_type": "display_data"
    },
    {
     "name": "stderr",
     "output_type": "stream",
     "text": [
      "soxs : [INFO     ] 2025-04-10 09:50:04,690 Adding background events.\n",
      "soxs : [INFO     ] 2025-04-10 09:50:06,010 Adding in instrumental background.\n",
      "soxs : [INFO     ] 2025-04-10 09:50:06,141 Making 34050 events from the instrumental background.\n",
      "soxs : [INFO     ] 2025-04-10 09:50:06,150 Writing events to file evt_1_EX_1.fits.\n",
      "soxs : [INFO     ] 2025-04-10 09:50:06,258 Observation complete.\n",
      "soxs : [INFO     ] 2025-04-10 09:50:07,971 Making observation of source in evt_2_EX_2.fits.\n"
     ]
    },
    {
     "name": "stdout",
     "output_type": "stream",
     "text": [
      "✅ Saved: plot_1_EX_1.png\n",
      "🔄 Simulating for IllustrisTNG.EX_2.snap_032.halo_000.100ks.z0.05.z_simput.fits...\n"
     ]
    },
    {
     "name": "stderr",
     "output_type": "stream",
     "text": [
      "soxs : [INFO     ] 2025-04-10 09:50:14,034 Detecting events from source IllustrisTNG.EX_2.snap_032.halo_000.100ks.z0.05.z.\n",
      "soxs : [INFO     ] 2025-04-10 09:50:14,036 Applying energy-dependent effective area from lem_300522.arf.\n",
      "soxs : [INFO     ] 2025-04-10 09:50:16,512 Pixeling events.\n",
      "soxs : [INFO     ] 2025-04-10 09:50:16,940 Scattering events with a gaussian-based PSF.\n",
      "soxs : [INFO     ] 2025-04-10 09:50:17,056 831622 events were detected from the source.\n",
      "soxs : [INFO     ] 2025-04-10 09:50:17,296 Scattering energies with RMF lem_2.5ev_110422.rmf.\n"
     ]
    },
    {
     "data": {
      "application/vnd.jupyter.widget-view+json": {
       "model_id": "f02bbfc886434f828956f375d89d8f32",
       "version_major": 2,
       "version_minor": 0
      },
      "text/plain": [
       "Scattering energies :   0%|          | 0/831622 [00:00<?, ?it/s]"
      ]
     },
     "metadata": {},
     "output_type": "display_data"
    },
    {
     "name": "stderr",
     "output_type": "stream",
     "text": [
      "soxs : [INFO     ] 2025-04-10 09:50:27,388 Adding background events.\n",
      "soxs : [INFO     ] 2025-04-10 09:50:28,786 Adding in instrumental background.\n",
      "soxs : [INFO     ] 2025-04-10 09:50:28,934 Making 34011 events from the instrumental background.\n",
      "soxs : [INFO     ] 2025-04-10 09:50:28,977 Writing events to file evt_2_EX_2.fits.\n",
      "soxs : [INFO     ] 2025-04-10 09:50:29,845 Observation complete.\n",
      "soxs : [INFO     ] 2025-04-10 09:50:31,711 Making observation of source in evt_3_EX_3.fits.\n"
     ]
    },
    {
     "name": "stdout",
     "output_type": "stream",
     "text": [
      "✅ Saved: plot_2_EX_2.png\n",
      "🔄 Simulating for IllustrisTNG.EX_3.snap_032.halo_000.100ks.z0.05.z_simput.fits...\n"
     ]
    },
    {
     "name": "stderr",
     "output_type": "stream",
     "text": [
      "soxs : [INFO     ] 2025-04-10 09:50:34,291 Detecting events from source IllustrisTNG.EX_3.snap_032.halo_000.100ks.z0.05.z.\n",
      "soxs : [INFO     ] 2025-04-10 09:50:34,293 Applying energy-dependent effective area from lem_300522.arf.\n",
      "soxs : [INFO     ] 2025-04-10 09:50:34,635 Pixeling events.\n",
      "soxs : [INFO     ] 2025-04-10 09:50:34,678 Scattering events with a gaussian-based PSF.\n",
      "soxs : [INFO     ] 2025-04-10 09:50:34,690 124793 events were detected from the source.\n",
      "soxs : [INFO     ] 2025-04-10 09:50:34,700 Scattering energies with RMF lem_2.5ev_110422.rmf.\n"
     ]
    },
    {
     "data": {
      "application/vnd.jupyter.widget-view+json": {
       "model_id": "656d88afc49e472f8882b615274ec712",
       "version_major": 2,
       "version_minor": 0
      },
      "text/plain": [
       "Scattering energies :   0%|          | 0/124793 [00:00<?, ?it/s]"
      ]
     },
     "metadata": {},
     "output_type": "display_data"
    },
    {
     "name": "stderr",
     "output_type": "stream",
     "text": [
      "soxs : [INFO     ] 2025-04-10 09:50:40,060 Adding background events.\n",
      "soxs : [INFO     ] 2025-04-10 09:50:41,400 Adding in instrumental background.\n",
      "soxs : [INFO     ] 2025-04-10 09:50:41,537 Making 34094 events from the instrumental background.\n",
      "soxs : [INFO     ] 2025-04-10 09:50:41,549 Writing events to file evt_3_EX_3.fits.\n",
      "soxs : [INFO     ] 2025-04-10 09:50:41,727 Observation complete.\n"
     ]
    },
    {
     "name": "stdout",
     "output_type": "stream",
     "text": [
      "✅ Saved: plot_3_EX_3.png\n"
     ]
    }
   ],
   "source": [
    "# Loop over filenames and corresponding numbers (starting from 5)\n",
    "for number, base in zip(range(0, len(filenames)), filenames):\n",
    "    halo_str = \"000\"\n",
    "    gigi = \"EX\"        #~~~~~~~~~~~~~~~~~~~~~~~~~~~~~~~~~~~~~~~~~~~~~~~~~~~~~~~~~~~~~HERE!!\n",
    "    base_path = f\"../../Data/X-rays/IllustrisTNG/{gigi}/{base}/snap_032/\"\n",
    "    simput_file = f\"IllustrisTNG.{gigi}_{number}.snap_032.halo_{halo_str}.100ks.z0.05.z_simput.fits\"\n",
    "    simput_path = os.path.join(base_path, simput_file)\n",
    "\n",
    "    if not os.path.exists(simput_path):\n",
    "        print(f\"❌ File not found: {simput_path}\")\n",
    "        continue\n",
    "\n",
    "    try:\n",
    "        print(f\"🔄 Simulating for {simput_file}...\")\n",
    "        evt_file = f\"evt_{number}_{base}.fits\"\n",
    "        img_file = f\"img_{number}_{base}.fits\"\n",
    "        plot_file = f\"plot_{number}_{base}.png\"\n",
    "\n",
    "        # Run SOXS simulator\n",
    "        soxs.instrument_simulator(\n",
    "            simput_path, evt_file, (10.0, \"ks\"), instrument,\n",
    "            sky_center, overwrite=True, foreground=False, ptsrc_bkgnd=False\n",
    "        )\n",
    "\n",
    "        # Check if there are any events\n",
    "        with fits.open(evt_file) as f_evt:\n",
    "            if f_evt[1].data is None or len(f_evt[1].data) == 0:\n",
    "                print(f\"⚠️ No events detected in {evt_file}. Skipping image and plot.\")\n",
    "                continue\n",
    "\n",
    "        # Write image\n",
    "        soxs.write_image(evt_file, img_file, emin=0.5, emax=2.0, reblock=1, overwrite=True)\n",
    "\n",
    "        # Plot image\n",
    "        center_sky = SkyCoord(*sky_center, unit='deg', frame='fk5')\n",
    "        region_sky = RectangleSkyRegion(center=center_sky, width=30*u.arcmin, height=30*u.arcmin)\n",
    "\n",
    "        with fits.open(img_file) as f_img:\n",
    "            w = wcs.WCS(header=f_img[0].header)\n",
    "            fig, ax = soxs.plot_image(img_file, stretch='log', cmap='magma', vmax=3000.0, width=0.5)\n",
    "            ax.add_artist(region_sky.to_pixel(w).as_artist())\n",
    "            plt.title(f\"{number} - {base}\")\n",
    "            plt.savefig(plot_file, dpi=300)\n",
    "            plt.close()\n",
    "\n",
    "        print(f\"✅ Saved: {plot_file}\")\n",
    "\n",
    "    except Exception as e:\n",
    "        print(f\"❌ Error with {number} in {base}: {e}\")"
   ]
  },
  {
   "cell_type": "code",
   "execution_count": null,
   "id": "e6fa882a-48c8-483e-92fa-98658b374675",
   "metadata": {},
   "outputs": [],
   "source": []
  }
 ],
 "metadata": {
  "kernelspec": {
   "display_name": "Python 3 (ipykernel)",
   "language": "python",
   "name": "python3"
  },
  "language_info": {
   "codemirror_mode": {
    "name": "ipython",
    "version": 3
   },
   "file_extension": ".py",
   "mimetype": "text/x-python",
   "name": "python",
   "nbconvert_exporter": "python",
   "pygments_lexer": "ipython3",
   "version": "3.9.15"
  }
 },
 "nbformat": 4,
 "nbformat_minor": 5
}
