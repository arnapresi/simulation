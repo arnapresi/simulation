{
 "cells": [
  {
   "cell_type": "markdown",
   "id": "2b845e6f-89c5-4a30-87d9-caa3f13616ec",
   "metadata": {},
   "source": [
    "# Given a folder from CAMEL's Xray files, plotting all the halo"
   ]
  },
  {
   "cell_type": "code",
   "execution_count": 6,
   "id": "db6b446b-6e1c-40e3-abe7-3d5da955ef2e",
   "metadata": {},
   "outputs": [],
   "source": [
    "import os\n",
    "from astropy.io import fits\n",
    "from astropy.coordinates import SkyCoord\n",
    "import astropy.units as u\n",
    "from regions import RectangleSkyRegion\n",
    "from astropy import wcs\n",
    "import soxs\n",
    "import matplotlib.pyplot as plt"
   ]
  },
  {
   "cell_type": "code",
   "execution_count": 7,
   "id": "7eb3cdd3-b231-4946-bb63-80682df19844",
   "metadata": {},
   "outputs": [],
   "source": [
    "instrument = \"lem_outer_array\"\n",
    "sky_center = (0.0, 0.0)\n",
    "base_path = \"../../Data/X-rays/IllustrisTNG/1P/1P_1_0/snap_032/\""
   ]
  },
  {
   "cell_type": "code",
   "execution_count": 8,
   "id": "5480e361-4f91-4988-9d18-b8511b39898d",
   "metadata": {},
   "outputs": [
    {
     "name": "stderr",
     "output_type": "stream",
     "text": [
      "soxs : [INFO     ] 2025-04-07 04:29:59,675 Making observation of source in evt_000.fits.\n"
     ]
    },
    {
     "name": "stdout",
     "output_type": "stream",
     "text": [
      "🔄 Simulating for IllustrisTNG.1P_5.snap_032.halo_000.100ks.z0.05.z_simput.fits...\n"
     ]
    },
    {
     "name": "stderr",
     "output_type": "stream",
     "text": [
      "soxs : [INFO     ] 2025-04-07 04:30:01,274 Detecting events from source IllustrisTNG.1P_5.snap_032.halo_000.100ks.z0.05.z.\n",
      "soxs : [INFO     ] 2025-04-07 04:30:01,275 Applying energy-dependent effective area from lem_300522.arf.\n",
      "soxs : [INFO     ] 2025-04-07 04:30:01,671 Pixeling events.\n",
      "soxs : [INFO     ] 2025-04-07 04:30:02,289 Scattering events with a gaussian-based PSF.\n",
      "soxs : [INFO     ] 2025-04-07 04:30:02,434 1077998 events were detected from the source.\n",
      "soxs : [INFO     ] 2025-04-07 04:30:02,714 Scattering energies with RMF lem_2.5ev_110422.rmf.\n"
     ]
    },
    {
     "data": {
      "application/vnd.jupyter.widget-view+json": {
       "model_id": "5a07b6b07bf54487851726f87a861c75",
       "version_major": 2,
       "version_minor": 0
      },
      "text/plain": [
       "Scattering energies :   0%|          | 0/1077998 [00:00<?, ?it/s]"
      ]
     },
     "metadata": {},
     "output_type": "display_data"
    },
    {
     "name": "stderr",
     "output_type": "stream",
     "text": [
      "soxs : [INFO     ] 2025-04-07 04:30:15,441 Adding background events.\n",
      "soxs : [INFO     ] 2025-04-07 04:30:16,843 Adding in instrumental background.\n",
      "soxs : [INFO     ] 2025-04-07 04:30:17,013 Making 340819 events from the instrumental background.\n",
      "soxs : [INFO     ] 2025-04-07 04:30:17,211 Writing events to file evt_000.fits.\n",
      "soxs : [INFO     ] 2025-04-07 04:30:18,973 Observation complete.\n",
      "soxs : [INFO     ] 2025-04-07 04:30:20,817 Making observation of source in evt_001.fits.\n"
     ]
    },
    {
     "name": "stdout",
     "output_type": "stream",
     "text": [
      "✅ Saved: plot_000.png\n",
      "🔄 Simulating for IllustrisTNG.1P_5.snap_032.halo_001.100ks.z0.05.z_simput.fits...\n"
     ]
    },
    {
     "name": "stderr",
     "output_type": "stream",
     "text": [
      "soxs : [INFO     ] 2025-04-07 04:30:22,311 Detecting events from source IllustrisTNG.1P_5.snap_032.halo_001.100ks.z0.05.z.\n",
      "soxs : [INFO     ] 2025-04-07 04:30:22,312 Applying energy-dependent effective area from lem_300522.arf.\n",
      "soxs : [INFO     ] 2025-04-07 04:30:22,321 Pixeling events.\n",
      "soxs : [INFO     ] 2025-04-07 04:30:22,330 Scattering events with a gaussian-based PSF.\n",
      "soxs : [INFO     ] 2025-04-07 04:30:22,333 22945 events were detected from the source.\n",
      "soxs : [INFO     ] 2025-04-07 04:30:22,336 Scattering energies with RMF lem_2.5ev_110422.rmf.\n"
     ]
    },
    {
     "data": {
      "application/vnd.jupyter.widget-view+json": {
       "model_id": "9cc0b92ea0a24fa78e196a35ef9ebefe",
       "version_major": 2,
       "version_minor": 0
      },
      "text/plain": [
       "Scattering energies :   0%|          | 0/22945 [00:00<?, ?it/s]"
      ]
     },
     "metadata": {},
     "output_type": "display_data"
    },
    {
     "name": "stderr",
     "output_type": "stream",
     "text": [
      "soxs : [INFO     ] 2025-04-07 04:30:25,059 Adding background events.\n",
      "soxs : [INFO     ] 2025-04-07 04:30:26,452 Adding in instrumental background.\n",
      "soxs : [INFO     ] 2025-04-07 04:30:26,622 Making 340488 events from the instrumental background.\n",
      "soxs : [INFO     ] 2025-04-07 04:30:26,779 Writing events to file evt_001.fits.\n",
      "soxs : [INFO     ] 2025-04-07 04:30:27,288 Observation complete.\n",
      "soxs : [INFO     ] 2025-04-07 04:30:29,112 Making observation of source in evt_002.fits.\n"
     ]
    },
    {
     "name": "stdout",
     "output_type": "stream",
     "text": [
      "✅ Saved: plot_001.png\n",
      "🔄 Simulating for IllustrisTNG.1P_5.snap_032.halo_002.100ks.z0.05.z_simput.fits...\n"
     ]
    },
    {
     "name": "stderr",
     "output_type": "stream",
     "text": [
      "soxs : [INFO     ] 2025-04-07 04:30:30,598 Detecting events from source IllustrisTNG.1P_5.snap_032.halo_002.100ks.z0.05.z.\n",
      "soxs : [INFO     ] 2025-04-07 04:30:30,600 Applying energy-dependent effective area from lem_300522.arf.\n",
      "soxs : [INFO     ] 2025-04-07 04:30:30,610 Pixeling events.\n",
      "soxs : [INFO     ] 2025-04-07 04:30:30,620 Scattering events with a gaussian-based PSF.\n",
      "soxs : [INFO     ] 2025-04-07 04:30:30,624 28184 events were detected from the source.\n",
      "soxs : [INFO     ] 2025-04-07 04:30:30,626 Scattering energies with RMF lem_2.5ev_110422.rmf.\n"
     ]
    },
    {
     "data": {
      "application/vnd.jupyter.widget-view+json": {
       "model_id": "7a14f655b12e489199976764cbf3f453",
       "version_major": 2,
       "version_minor": 0
      },
      "text/plain": [
       "Scattering energies :   0%|          | 0/28184 [00:00<?, ?it/s]"
      ]
     },
     "metadata": {},
     "output_type": "display_data"
    },
    {
     "name": "stderr",
     "output_type": "stream",
     "text": [
      "soxs : [INFO     ] 2025-04-07 04:30:33,383 Adding background events.\n",
      "soxs : [INFO     ] 2025-04-07 04:30:34,803 Adding in instrumental background.\n",
      "soxs : [INFO     ] 2025-04-07 04:30:34,955 Making 341337 events from the instrumental background.\n",
      "soxs : [INFO     ] 2025-04-07 04:30:35,085 Writing events to file evt_002.fits.\n",
      "soxs : [INFO     ] 2025-04-07 04:30:35,540 Observation complete.\n",
      "soxs : [INFO     ] 2025-04-07 04:30:37,390 Making observation of source in evt_003.fits.\n"
     ]
    },
    {
     "name": "stdout",
     "output_type": "stream",
     "text": [
      "✅ Saved: plot_002.png\n",
      "🔄 Simulating for IllustrisTNG.1P_5.snap_032.halo_003.100ks.z0.05.z_simput.fits...\n"
     ]
    },
    {
     "name": "stderr",
     "output_type": "stream",
     "text": [
      "soxs : [INFO     ] 2025-04-07 04:30:38,825 Detecting events from source IllustrisTNG.1P_5.snap_032.halo_003.100ks.z0.05.z.\n",
      "soxs : [INFO     ] 2025-04-07 04:30:38,827 Applying energy-dependent effective area from lem_300522.arf.\n",
      "soxs : [INFO     ] 2025-04-07 04:30:38,831 Pixeling events.\n",
      "soxs : [INFO     ] 2025-04-07 04:30:38,836 Scattering events with a gaussian-based PSF.\n",
      "soxs : [INFO     ] 2025-04-07 04:30:38,838 9727 events were detected from the source.\n",
      "soxs : [INFO     ] 2025-04-07 04:30:38,839 Scattering energies with RMF lem_2.5ev_110422.rmf.\n"
     ]
    },
    {
     "data": {
      "application/vnd.jupyter.widget-view+json": {
       "model_id": "3cc6b89af4734c14836e79e233d1e761",
       "version_major": 2,
       "version_minor": 0
      },
      "text/plain": [
       "Scattering energies :   0%|          | 0/9727 [00:00<?, ?it/s]"
      ]
     },
     "metadata": {},
     "output_type": "display_data"
    },
    {
     "name": "stderr",
     "output_type": "stream",
     "text": [
      "soxs : [INFO     ] 2025-04-07 04:30:40,890 Adding background events.\n",
      "soxs : [INFO     ] 2025-04-07 04:30:42,298 Adding in instrumental background.\n",
      "soxs : [INFO     ] 2025-04-07 04:30:42,468 Making 341044 events from the instrumental background.\n",
      "soxs : [INFO     ] 2025-04-07 04:30:42,581 Writing events to file evt_003.fits.\n",
      "soxs : [INFO     ] 2025-04-07 04:30:43,016 Observation complete.\n",
      "soxs : [INFO     ] 2025-04-07 04:30:44,842 Making observation of source in evt_004.fits.\n"
     ]
    },
    {
     "name": "stdout",
     "output_type": "stream",
     "text": [
      "✅ Saved: plot_003.png\n",
      "🔄 Simulating for IllustrisTNG.1P_5.snap_032.halo_004.100ks.z0.05.z_simput.fits...\n"
     ]
    },
    {
     "name": "stderr",
     "output_type": "stream",
     "text": [
      "soxs : [INFO     ] 2025-04-07 04:30:46,211 Detecting events from source IllustrisTNG.1P_5.snap_032.halo_004.100ks.z0.05.z.\n",
      "soxs : [INFO     ] 2025-04-07 04:30:46,213 Applying energy-dependent effective area from lem_300522.arf.\n",
      "soxs : [INFO     ] 2025-04-07 04:30:46,215 Pixeling events.\n",
      "soxs : [INFO     ] 2025-04-07 04:30:46,218 Scattering events with a gaussian-based PSF.\n",
      "soxs : [INFO     ] 2025-04-07 04:30:46,220 4793 events were detected from the source.\n",
      "soxs : [INFO     ] 2025-04-07 04:30:46,221 Scattering energies with RMF lem_2.5ev_110422.rmf.\n"
     ]
    },
    {
     "data": {
      "application/vnd.jupyter.widget-view+json": {
       "model_id": "4b9d4dcc1d394af4b933ef7cde4bede4",
       "version_major": 2,
       "version_minor": 0
      },
      "text/plain": [
       "Scattering energies :   0%|          | 0/4793 [00:00<?, ?it/s]"
      ]
     },
     "metadata": {},
     "output_type": "display_data"
    },
    {
     "name": "stderr",
     "output_type": "stream",
     "text": [
      "soxs : [INFO     ] 2025-04-07 04:30:47,639 Adding background events.\n",
      "soxs : [INFO     ] 2025-04-07 04:30:48,987 Adding in instrumental background.\n",
      "soxs : [INFO     ] 2025-04-07 04:30:49,139 Making 341251 events from the instrumental background.\n",
      "soxs : [INFO     ] 2025-04-07 04:30:49,278 Writing events to file evt_004.fits.\n",
      "soxs : [INFO     ] 2025-04-07 04:30:49,575 Observation complete.\n",
      "soxs : [INFO     ] 2025-04-07 04:30:51,182 Making observation of source in evt_005.fits.\n"
     ]
    },
    {
     "name": "stdout",
     "output_type": "stream",
     "text": [
      "✅ Saved: plot_004.png\n",
      "🔄 Simulating for IllustrisTNG.1P_5.snap_032.halo_005.100ks.z0.05.z_simput.fits...\n"
     ]
    },
    {
     "name": "stderr",
     "output_type": "stream",
     "text": [
      "soxs : [INFO     ] 2025-04-07 04:30:52,545 Detecting events from source IllustrisTNG.1P_5.snap_032.halo_005.100ks.z0.05.z.\n",
      "soxs : [INFO     ] 2025-04-07 04:30:52,547 Applying energy-dependent effective area from lem_300522.arf.\n",
      "soxs : [INFO     ] 2025-04-07 04:30:52,549 Pixeling events.\n",
      "soxs : [INFO     ] 2025-04-07 04:30:52,551 Scattering events with a gaussian-based PSF.\n",
      "soxs : [INFO     ] 2025-04-07 04:30:52,553 2224 events were detected from the source.\n",
      "soxs : [INFO     ] 2025-04-07 04:30:52,554 Scattering energies with RMF lem_2.5ev_110422.rmf.\n"
     ]
    },
    {
     "data": {
      "application/vnd.jupyter.widget-view+json": {
       "model_id": "62c45d0885874cd49054c5f687410794",
       "version_major": 2,
       "version_minor": 0
      },
      "text/plain": [
       "Scattering energies :   0%|          | 0/2224 [00:00<?, ?it/s]"
      ]
     },
     "metadata": {},
     "output_type": "display_data"
    },
    {
     "name": "stderr",
     "output_type": "stream",
     "text": [
      "soxs : [INFO     ] 2025-04-07 04:30:53,506 Adding background events.\n",
      "soxs : [INFO     ] 2025-04-07 04:30:54,892 Adding in instrumental background.\n",
      "soxs : [INFO     ] 2025-04-07 04:30:55,050 Making 342173 events from the instrumental background.\n",
      "soxs : [INFO     ] 2025-04-07 04:30:55,185 Writing events to file evt_005.fits.\n",
      "soxs : [INFO     ] 2025-04-07 04:30:55,572 Observation complete.\n",
      "soxs : [INFO     ] 2025-04-07 04:30:57,171 Making observation of source in evt_006.fits.\n"
     ]
    },
    {
     "name": "stdout",
     "output_type": "stream",
     "text": [
      "✅ Saved: plot_005.png\n",
      "🔄 Simulating for IllustrisTNG.1P_5.snap_032.halo_006.100ks.z0.05.z_simput.fits...\n"
     ]
    },
    {
     "name": "stderr",
     "output_type": "stream",
     "text": [
      "soxs : [INFO     ] 2025-04-07 04:30:58,633 Detecting events from source IllustrisTNG.1P_5.snap_032.halo_006.100ks.z0.05.z.\n",
      "soxs : [INFO     ] 2025-04-07 04:30:58,634 Applying energy-dependent effective area from lem_300522.arf.\n",
      "soxs : [INFO     ] 2025-04-07 04:30:58,638 Pixeling events.\n",
      "soxs : [INFO     ] 2025-04-07 04:30:58,640 Scattering events with a gaussian-based PSF.\n",
      "soxs : [INFO     ] 2025-04-07 04:30:58,642 3212 events were detected from the source.\n",
      "soxs : [INFO     ] 2025-04-07 04:30:58,643 Scattering energies with RMF lem_2.5ev_110422.rmf.\n"
     ]
    },
    {
     "data": {
      "application/vnd.jupyter.widget-view+json": {
       "model_id": "9ed3510728c64c1a93c2143493e450ea",
       "version_major": 2,
       "version_minor": 0
      },
      "text/plain": [
       "Scattering energies :   0%|          | 0/3212 [00:00<?, ?it/s]"
      ]
     },
     "metadata": {},
     "output_type": "display_data"
    },
    {
     "name": "stderr",
     "output_type": "stream",
     "text": [
      "soxs : [INFO     ] 2025-04-07 04:30:59,810 Adding background events.\n",
      "soxs : [INFO     ] 2025-04-07 04:31:01,176 Adding in instrumental background.\n",
      "soxs : [INFO     ] 2025-04-07 04:31:01,359 Making 341891 events from the instrumental background.\n",
      "soxs : [INFO     ] 2025-04-07 04:31:01,485 Writing events to file evt_006.fits.\n",
      "soxs : [INFO     ] 2025-04-07 04:31:01,883 Observation complete.\n",
      "soxs : [INFO     ] 2025-04-07 04:31:03,857 Making observation of source in evt_007.fits.\n"
     ]
    },
    {
     "name": "stdout",
     "output_type": "stream",
     "text": [
      "✅ Saved: plot_006.png\n",
      "🔄 Simulating for IllustrisTNG.1P_5.snap_032.halo_007.100ks.z0.05.z_simput.fits...\n"
     ]
    },
    {
     "name": "stderr",
     "output_type": "stream",
     "text": [
      "soxs : [INFO     ] 2025-04-07 04:31:05,361 Detecting events from source IllustrisTNG.1P_5.snap_032.halo_007.100ks.z0.05.z.\n",
      "soxs : [INFO     ] 2025-04-07 04:31:05,362 Applying energy-dependent effective area from lem_300522.arf.\n",
      "soxs : [INFO     ] 2025-04-07 04:31:05,366 Pixeling events.\n",
      "soxs : [INFO     ] 2025-04-07 04:31:05,369 Scattering events with a gaussian-based PSF.\n",
      "soxs : [INFO     ] 2025-04-07 04:31:05,370 5597 events were detected from the source.\n",
      "soxs : [INFO     ] 2025-04-07 04:31:05,375 Scattering energies with RMF lem_2.5ev_110422.rmf.\n"
     ]
    },
    {
     "data": {
      "application/vnd.jupyter.widget-view+json": {
       "model_id": "22a3c83bbb92488886ea2dba6825e3ff",
       "version_major": 2,
       "version_minor": 0
      },
      "text/plain": [
       "Scattering energies :   0%|          | 0/5597 [00:00<?, ?it/s]"
      ]
     },
     "metadata": {},
     "output_type": "display_data"
    },
    {
     "name": "stderr",
     "output_type": "stream",
     "text": [
      "soxs : [INFO     ] 2025-04-07 04:31:06,970 Adding background events.\n",
      "soxs : [INFO     ] 2025-04-07 04:31:08,340 Adding in instrumental background.\n",
      "soxs : [INFO     ] 2025-04-07 04:31:08,507 Making 342208 events from the instrumental background.\n",
      "soxs : [INFO     ] 2025-04-07 04:31:08,592 Writing events to file evt_007.fits.\n",
      "soxs : [INFO     ] 2025-04-07 04:31:08,983 Observation complete.\n",
      "soxs : [INFO     ] 2025-04-07 04:31:10,630 Making observation of source in evt_008.fits.\n"
     ]
    },
    {
     "name": "stdout",
     "output_type": "stream",
     "text": [
      "✅ Saved: plot_007.png\n",
      "🔄 Simulating for IllustrisTNG.1P_5.snap_032.halo_008.100ks.z0.05.z_simput.fits...\n"
     ]
    },
    {
     "name": "stderr",
     "output_type": "stream",
     "text": [
      "soxs : [INFO     ] 2025-04-07 04:31:11,984 Detecting events from source IllustrisTNG.1P_5.snap_032.halo_008.100ks.z0.05.z.\n",
      "soxs : [INFO     ] 2025-04-07 04:31:11,986 Applying energy-dependent effective area from lem_300522.arf.\n",
      "soxs : [INFO     ] 2025-04-07 04:31:11,988 Pixeling events.\n",
      "soxs : [INFO     ] 2025-04-07 04:31:11,989 Scattering events with a gaussian-based PSF.\n",
      "soxs : [INFO     ] 2025-04-07 04:31:11,991 771 events were detected from the source.\n",
      "soxs : [INFO     ] 2025-04-07 04:31:11,992 Scattering energies with RMF lem_2.5ev_110422.rmf.\n"
     ]
    },
    {
     "data": {
      "application/vnd.jupyter.widget-view+json": {
       "model_id": "6823a6652488446784cf45729061fdbf",
       "version_major": 2,
       "version_minor": 0
      },
      "text/plain": [
       "Scattering energies :   0%|          | 0/771 [00:00<?, ?it/s]"
      ]
     },
     "metadata": {},
     "output_type": "display_data"
    },
    {
     "name": "stderr",
     "output_type": "stream",
     "text": [
      "soxs : [INFO     ] 2025-04-07 04:31:12,479 Adding background events.\n",
      "soxs : [INFO     ] 2025-04-07 04:31:13,815 Adding in instrumental background.\n",
      "soxs : [INFO     ] 2025-04-07 04:31:13,972 Making 341002 events from the instrumental background.\n",
      "soxs : [INFO     ] 2025-04-07 04:31:14,079 Writing events to file evt_008.fits.\n",
      "soxs : [INFO     ] 2025-04-07 04:31:14,447 Observation complete.\n",
      "soxs : [INFO     ] 2025-04-07 04:31:16,045 Making observation of source in evt_009.fits.\n"
     ]
    },
    {
     "name": "stdout",
     "output_type": "stream",
     "text": [
      "✅ Saved: plot_008.png\n",
      "🔄 Simulating for IllustrisTNG.1P_5.snap_032.halo_009.100ks.z0.05.z_simput.fits...\n"
     ]
    },
    {
     "name": "stderr",
     "output_type": "stream",
     "text": [
      "soxs : [INFO     ] 2025-04-07 04:31:17,422 Detecting events from source IllustrisTNG.1P_5.snap_032.halo_009.100ks.z0.05.z.\n",
      "soxs : [INFO     ] 2025-04-07 04:31:17,423 Applying energy-dependent effective area from lem_300522.arf.\n",
      "soxs : [INFO     ] 2025-04-07 04:31:17,428 Pixeling events.\n",
      "soxs : [INFO     ] 2025-04-07 04:31:17,431 Scattering events with a gaussian-based PSF.\n",
      "soxs : [INFO     ] 2025-04-07 04:31:17,433 7014 events were detected from the source.\n",
      "soxs : [INFO     ] 2025-04-07 04:31:17,434 Scattering energies with RMF lem_2.5ev_110422.rmf.\n"
     ]
    },
    {
     "data": {
      "application/vnd.jupyter.widget-view+json": {
       "model_id": "d7569d265b4b41f0bacb7d13ae38f3f4",
       "version_major": 2,
       "version_minor": 0
      },
      "text/plain": [
       "Scattering energies :   0%|          | 0/7014 [00:00<?, ?it/s]"
      ]
     },
     "metadata": {},
     "output_type": "display_data"
    },
    {
     "name": "stderr",
     "output_type": "stream",
     "text": [
      "soxs : [INFO     ] 2025-04-07 04:31:18,961 Adding background events.\n",
      "soxs : [INFO     ] 2025-04-07 04:31:20,324 Adding in instrumental background.\n",
      "soxs : [INFO     ] 2025-04-07 04:31:20,478 Making 342157 events from the instrumental background.\n",
      "soxs : [INFO     ] 2025-04-07 04:31:20,588 Writing events to file evt_009.fits.\n",
      "soxs : [INFO     ] 2025-04-07 04:31:20,995 Observation complete.\n",
      "soxs : [INFO     ] 2025-04-07 04:31:22,615 Making observation of source in evt_010.fits.\n"
     ]
    },
    {
     "name": "stdout",
     "output_type": "stream",
     "text": [
      "✅ Saved: plot_009.png\n",
      "🔄 Simulating for IllustrisTNG.1P_5.snap_032.halo_010.100ks.z0.05.z_simput.fits...\n"
     ]
    },
    {
     "name": "stderr",
     "output_type": "stream",
     "text": [
      "soxs : [INFO     ] 2025-04-07 04:31:23,990 Detecting events from source IllustrisTNG.1P_5.snap_032.halo_010.100ks.z0.05.z.\n",
      "soxs : [INFO     ] 2025-04-07 04:31:23,992 Applying energy-dependent effective area from lem_300522.arf.\n",
      "soxs : [INFO     ] 2025-04-07 04:31:23,994 Pixeling events.\n",
      "soxs : [INFO     ] 2025-04-07 04:31:23,995 Scattering events with a gaussian-based PSF.\n",
      "soxs : [INFO     ] 2025-04-07 04:31:23,997 1196 events were detected from the source.\n",
      "soxs : [INFO     ] 2025-04-07 04:31:23,998 Scattering energies with RMF lem_2.5ev_110422.rmf.\n"
     ]
    },
    {
     "data": {
      "application/vnd.jupyter.widget-view+json": {
       "model_id": "a7994e96c31f4ec8b2988cba46fc3f74",
       "version_major": 2,
       "version_minor": 0
      },
      "text/plain": [
       "Scattering energies :   0%|          | 0/1196 [00:00<?, ?it/s]"
      ]
     },
     "metadata": {},
     "output_type": "display_data"
    },
    {
     "name": "stderr",
     "output_type": "stream",
     "text": [
      "soxs : [INFO     ] 2025-04-07 04:31:24,598 Adding background events.\n",
      "soxs : [INFO     ] 2025-04-07 04:31:25,939 Adding in instrumental background.\n",
      "soxs : [INFO     ] 2025-04-07 04:31:26,101 Making 340595 events from the instrumental background.\n",
      "soxs : [INFO     ] 2025-04-07 04:31:26,192 Writing events to file evt_010.fits.\n",
      "soxs : [INFO     ] 2025-04-07 04:31:26,584 Observation complete.\n",
      "soxs : [INFO     ] 2025-04-07 04:31:28,253 Making observation of source in evt_011.fits.\n"
     ]
    },
    {
     "name": "stdout",
     "output_type": "stream",
     "text": [
      "✅ Saved: plot_010.png\n",
      "🔄 Simulating for IllustrisTNG.1P_5.snap_032.halo_011.100ks.z0.05.z_simput.fits...\n"
     ]
    },
    {
     "name": "stderr",
     "output_type": "stream",
     "text": [
      "soxs : [INFO     ] 2025-04-07 04:31:29,575 Detecting events from source IllustrisTNG.1P_5.snap_032.halo_011.100ks.z0.05.z.\n",
      "soxs : [INFO     ] 2025-04-07 04:31:29,576 Applying energy-dependent effective area from lem_300522.arf.\n",
      "soxs : [INFO     ] 2025-04-07 04:31:29,579 Pixeling events.\n",
      "soxs : [INFO     ] 2025-04-07 04:31:29,582 Scattering events with a gaussian-based PSF.\n",
      "soxs : [INFO     ] 2025-04-07 04:31:29,584 5350 events were detected from the source.\n",
      "soxs : [INFO     ] 2025-04-07 04:31:29,585 Scattering energies with RMF lem_2.5ev_110422.rmf.\n"
     ]
    },
    {
     "data": {
      "application/vnd.jupyter.widget-view+json": {
       "model_id": "1879c549df5d4cf892612b695a8864ac",
       "version_major": 2,
       "version_minor": 0
      },
      "text/plain": [
       "Scattering energies :   0%|          | 0/5350 [00:00<?, ?it/s]"
      ]
     },
     "metadata": {},
     "output_type": "display_data"
    },
    {
     "name": "stderr",
     "output_type": "stream",
     "text": [
      "soxs : [INFO     ] 2025-04-07 04:31:30,995 Adding background events.\n",
      "soxs : [INFO     ] 2025-04-07 04:31:32,321 Adding in instrumental background.\n",
      "soxs : [INFO     ] 2025-04-07 04:31:32,473 Making 341951 events from the instrumental background.\n",
      "soxs : [INFO     ] 2025-04-07 04:31:32,583 Writing events to file evt_011.fits.\n",
      "soxs : [INFO     ] 2025-04-07 04:31:32,968 Observation complete.\n",
      "soxs : [INFO     ] 2025-04-07 04:31:34,526 Making observation of source in evt_012.fits.\n"
     ]
    },
    {
     "name": "stdout",
     "output_type": "stream",
     "text": [
      "✅ Saved: plot_011.png\n",
      "🔄 Simulating for IllustrisTNG.1P_5.snap_032.halo_012.100ks.z0.05.z_simput.fits...\n"
     ]
    },
    {
     "name": "stderr",
     "output_type": "stream",
     "text": [
      "soxs : [INFO     ] 2025-04-07 04:31:35,858 Detecting events from source IllustrisTNG.1P_5.snap_032.halo_012.100ks.z0.05.z.\n",
      "soxs : [INFO     ] 2025-04-07 04:31:35,859 Applying energy-dependent effective area from lem_300522.arf.\n",
      "soxs : [INFO     ] 2025-04-07 04:31:35,862 Pixeling events.\n",
      "soxs : [INFO     ] 2025-04-07 04:31:35,864 Scattering events with a gaussian-based PSF.\n",
      "soxs : [INFO     ] 2025-04-07 04:31:35,865 2644 events were detected from the source.\n",
      "soxs : [INFO     ] 2025-04-07 04:31:35,867 Scattering energies with RMF lem_2.5ev_110422.rmf.\n"
     ]
    },
    {
     "data": {
      "application/vnd.jupyter.widget-view+json": {
       "model_id": "da1dc075f48e4a5e91841f2722e817c1",
       "version_major": 2,
       "version_minor": 0
      },
      "text/plain": [
       "Scattering energies :   0%|          | 0/2644 [00:00<?, ?it/s]"
      ]
     },
     "metadata": {},
     "output_type": "display_data"
    },
    {
     "name": "stderr",
     "output_type": "stream",
     "text": [
      "soxs : [INFO     ] 2025-04-07 04:31:36,926 Adding background events.\n",
      "soxs : [INFO     ] 2025-04-07 04:31:38,296 Adding in instrumental background.\n",
      "soxs : [INFO     ] 2025-04-07 04:31:38,442 Making 341179 events from the instrumental background.\n",
      "soxs : [INFO     ] 2025-04-07 04:31:38,576 Writing events to file evt_012.fits.\n",
      "soxs : [INFO     ] 2025-04-07 04:31:38,933 Observation complete.\n",
      "soxs : [INFO     ] 2025-04-07 04:31:40,516 Making observation of source in evt_013.fits.\n"
     ]
    },
    {
     "name": "stdout",
     "output_type": "stream",
     "text": [
      "✅ Saved: plot_012.png\n",
      "🔄 Simulating for IllustrisTNG.1P_5.snap_032.halo_013.100ks.z0.05.z_simput.fits...\n"
     ]
    },
    {
     "name": "stderr",
     "output_type": "stream",
     "text": [
      "soxs : [INFO     ] 2025-04-07 04:31:41,841 Detecting events from source IllustrisTNG.1P_5.snap_032.halo_013.100ks.z0.05.z.\n",
      "soxs : [INFO     ] 2025-04-07 04:31:41,842 Applying energy-dependent effective area from lem_300522.arf.\n",
      "soxs : [INFO     ] 2025-04-07 04:31:41,844 Pixeling events.\n",
      "soxs : [INFO     ] 2025-04-07 04:31:41,845 Scattering events with a gaussian-based PSF.\n",
      "soxs : [INFO     ] 2025-04-07 04:31:41,846 454 events were detected from the source.\n",
      "soxs : [INFO     ] 2025-04-07 04:31:41,847 Scattering energies with RMF lem_2.5ev_110422.rmf.\n"
     ]
    },
    {
     "data": {
      "application/vnd.jupyter.widget-view+json": {
       "model_id": "ffc3893954694897bc3e33bc9c66b923",
       "version_major": 2,
       "version_minor": 0
      },
      "text/plain": [
       "Scattering energies :   0%|          | 0/454 [00:00<?, ?it/s]"
      ]
     },
     "metadata": {},
     "output_type": "display_data"
    },
    {
     "name": "stderr",
     "output_type": "stream",
     "text": [
      "soxs : [INFO     ] 2025-04-07 04:31:42,218 Adding background events.\n",
      "soxs : [INFO     ] 2025-04-07 04:31:43,524 Adding in instrumental background.\n",
      "soxs : [INFO     ] 2025-04-07 04:31:43,669 Making 341505 events from the instrumental background.\n",
      "soxs : [INFO     ] 2025-04-07 04:31:43,783 Writing events to file evt_013.fits.\n",
      "soxs : [INFO     ] 2025-04-07 04:31:44,161 Observation complete.\n",
      "soxs : [INFO     ] 2025-04-07 04:31:45,738 Making observation of source in evt_014.fits.\n"
     ]
    },
    {
     "name": "stdout",
     "output_type": "stream",
     "text": [
      "✅ Saved: plot_013.png\n",
      "🔄 Simulating for IllustrisTNG.1P_5.snap_032.halo_014.100ks.z0.05.z_simput.fits...\n"
     ]
    },
    {
     "name": "stderr",
     "output_type": "stream",
     "text": [
      "soxs : [INFO     ] 2025-04-07 04:31:47,057 Detecting events from source IllustrisTNG.1P_5.snap_032.halo_014.100ks.z0.05.z.\n",
      "soxs : [INFO     ] 2025-04-07 04:31:47,058 Applying energy-dependent effective area from lem_300522.arf.\n",
      "soxs : [INFO     ] 2025-04-07 04:31:47,060 Pixeling events.\n",
      "soxs : [INFO     ] 2025-04-07 04:31:47,061 Scattering events with a gaussian-based PSF.\n",
      "soxs : [INFO     ] 2025-04-07 04:31:47,063 1959 events were detected from the source.\n",
      "soxs : [INFO     ] 2025-04-07 04:31:47,064 Scattering energies with RMF lem_2.5ev_110422.rmf.\n"
     ]
    },
    {
     "data": {
      "application/vnd.jupyter.widget-view+json": {
       "model_id": "3b4b34b7f5dd48e3be18e780336ae200",
       "version_major": 2,
       "version_minor": 0
      },
      "text/plain": [
       "Scattering energies :   0%|          | 0/1959 [00:00<?, ?it/s]"
      ]
     },
     "metadata": {},
     "output_type": "display_data"
    },
    {
     "name": "stderr",
     "output_type": "stream",
     "text": [
      "soxs : [INFO     ] 2025-04-07 04:31:47,880 Adding background events.\n",
      "soxs : [INFO     ] 2025-04-07 04:31:49,181 Adding in instrumental background.\n",
      "soxs : [INFO     ] 2025-04-07 04:31:49,344 Making 339988 events from the instrumental background.\n",
      "soxs : [INFO     ] 2025-04-07 04:31:49,480 Writing events to file evt_014.fits.\n",
      "soxs : [INFO     ] 2025-04-07 04:31:49,859 Observation complete.\n",
      "soxs : [INFO     ] 2025-04-07 04:31:51,454 Making observation of source in evt_015.fits.\n"
     ]
    },
    {
     "name": "stdout",
     "output_type": "stream",
     "text": [
      "✅ Saved: plot_014.png\n",
      "🔄 Simulating for IllustrisTNG.1P_5.snap_032.halo_015.100ks.z0.05.z_simput.fits...\n"
     ]
    },
    {
     "name": "stderr",
     "output_type": "stream",
     "text": [
      "soxs : [INFO     ] 2025-04-07 04:31:52,827 Detecting events from source IllustrisTNG.1P_5.snap_032.halo_015.100ks.z0.05.z.\n",
      "soxs : [INFO     ] 2025-04-07 04:31:52,828 Applying energy-dependent effective area from lem_300522.arf.\n",
      "soxs : [INFO     ] 2025-04-07 04:31:52,830 Pixeling events.\n",
      "soxs : [INFO     ] 2025-04-07 04:31:52,831 Scattering events with a gaussian-based PSF.\n",
      "soxs : [INFO     ] 2025-04-07 04:31:52,832 852 events were detected from the source.\n",
      "soxs : [INFO     ] 2025-04-07 04:31:52,834 Scattering energies with RMF lem_2.5ev_110422.rmf.\n"
     ]
    },
    {
     "data": {
      "application/vnd.jupyter.widget-view+json": {
       "model_id": "1c59e7d2c25542428a722123d6d03851",
       "version_major": 2,
       "version_minor": 0
      },
      "text/plain": [
       "Scattering energies :   0%|          | 0/852 [00:00<?, ?it/s]"
      ]
     },
     "metadata": {},
     "output_type": "display_data"
    },
    {
     "name": "stderr",
     "output_type": "stream",
     "text": [
      "soxs : [INFO     ] 2025-04-07 04:31:53,327 Adding background events.\n",
      "soxs : [INFO     ] 2025-04-07 04:31:54,661 Adding in instrumental background.\n",
      "soxs : [INFO     ] 2025-04-07 04:31:54,819 Making 341810 events from the instrumental background.\n",
      "soxs : [INFO     ] 2025-04-07 04:31:54,975 Writing events to file evt_015.fits.\n",
      "soxs : [INFO     ] 2025-04-07 04:31:55,289 Observation complete.\n",
      "soxs : [INFO     ] 2025-04-07 04:31:57,219 Making observation of source in evt_016.fits.\n"
     ]
    },
    {
     "name": "stdout",
     "output_type": "stream",
     "text": [
      "✅ Saved: plot_015.png\n",
      "🔄 Simulating for IllustrisTNG.1P_5.snap_032.halo_016.100ks.z0.05.z_simput.fits...\n"
     ]
    },
    {
     "name": "stderr",
     "output_type": "stream",
     "text": [
      "soxs : [INFO     ] 2025-04-07 04:31:58,595 Detecting events from source IllustrisTNG.1P_5.snap_032.halo_016.100ks.z0.05.z.\n",
      "soxs : [INFO     ] 2025-04-07 04:31:58,596 Applying energy-dependent effective area from lem_300522.arf.\n",
      "soxs : [INFO     ] 2025-04-07 04:31:58,598 Pixeling events.\n",
      "soxs : [INFO     ] 2025-04-07 04:31:58,599 Scattering events with a gaussian-based PSF.\n",
      "soxs : [INFO     ] 2025-04-07 04:31:58,601 921 events were detected from the source.\n",
      "soxs : [INFO     ] 2025-04-07 04:31:58,602 Scattering energies with RMF lem_2.5ev_110422.rmf.\n"
     ]
    },
    {
     "data": {
      "application/vnd.jupyter.widget-view+json": {
       "model_id": "8e971dbb1ff54ca69b46219a3cd0c9e3",
       "version_major": 2,
       "version_minor": 0
      },
      "text/plain": [
       "Scattering energies :   0%|          | 0/921 [00:00<?, ?it/s]"
      ]
     },
     "metadata": {},
     "output_type": "display_data"
    },
    {
     "name": "stderr",
     "output_type": "stream",
     "text": [
      "soxs : [INFO     ] 2025-04-07 04:31:59,191 Adding background events.\n",
      "soxs : [INFO     ] 2025-04-07 04:32:00,549 Adding in instrumental background.\n",
      "soxs : [INFO     ] 2025-04-07 04:32:00,709 Making 340963 events from the instrumental background.\n",
      "soxs : [INFO     ] 2025-04-07 04:32:00,790 Writing events to file evt_016.fits.\n",
      "soxs : [INFO     ] 2025-04-07 04:32:01,170 Observation complete.\n",
      "soxs : [INFO     ] 2025-04-07 04:32:02,781 Making observation of source in evt_017.fits.\n"
     ]
    },
    {
     "name": "stdout",
     "output_type": "stream",
     "text": [
      "✅ Saved: plot_016.png\n",
      "🔄 Simulating for IllustrisTNG.1P_5.snap_032.halo_017.100ks.z0.05.z_simput.fits...\n"
     ]
    },
    {
     "name": "stderr",
     "output_type": "stream",
     "text": [
      "soxs : [INFO     ] 2025-04-07 04:32:04,165 Detecting events from source IllustrisTNG.1P_5.snap_032.halo_017.100ks.z0.05.z.\n",
      "soxs : [INFO     ] 2025-04-07 04:32:04,166 Applying energy-dependent effective area from lem_300522.arf.\n",
      "soxs : [INFO     ] 2025-04-07 04:32:04,168 Pixeling events.\n",
      "soxs : [INFO     ] 2025-04-07 04:32:04,170 Scattering events with a gaussian-based PSF.\n",
      "soxs : [INFO     ] 2025-04-07 04:32:04,172 2392 events were detected from the source.\n",
      "soxs : [INFO     ] 2025-04-07 04:32:04,173 Scattering energies with RMF lem_2.5ev_110422.rmf.\n"
     ]
    },
    {
     "data": {
      "application/vnd.jupyter.widget-view+json": {
       "model_id": "820d88ed8b0343f8a9483c0498d3ae0a",
       "version_major": 2,
       "version_minor": 0
      },
      "text/plain": [
       "Scattering energies :   0%|          | 0/2392 [00:00<?, ?it/s]"
      ]
     },
     "metadata": {},
     "output_type": "display_data"
    },
    {
     "name": "stderr",
     "output_type": "stream",
     "text": [
      "soxs : [INFO     ] 2025-04-07 04:32:05,124 Adding background events.\n",
      "soxs : [INFO     ] 2025-04-07 04:32:06,468 Adding in instrumental background.\n",
      "soxs : [INFO     ] 2025-04-07 04:32:06,633 Making 340815 events from the instrumental background.\n",
      "soxs : [INFO     ] 2025-04-07 04:32:06,776 Writing events to file evt_017.fits.\n",
      "soxs : [INFO     ] 2025-04-07 04:32:07,198 Observation complete.\n",
      "soxs : [INFO     ] 2025-04-07 04:32:09,000 Making observation of source in evt_018.fits.\n"
     ]
    },
    {
     "name": "stdout",
     "output_type": "stream",
     "text": [
      "✅ Saved: plot_017.png\n",
      "🔄 Simulating for IllustrisTNG.1P_5.snap_032.halo_018.100ks.z0.05.z_simput.fits...\n"
     ]
    },
    {
     "name": "stderr",
     "output_type": "stream",
     "text": [
      "soxs : [INFO     ] 2025-04-07 04:32:10,482 Detecting events from source IllustrisTNG.1P_5.snap_032.halo_018.100ks.z0.05.z.\n",
      "soxs : [INFO     ] 2025-04-07 04:32:10,483 Applying energy-dependent effective area from lem_300522.arf.\n",
      "soxs : [INFO     ] 2025-04-07 04:32:10,486 Pixeling events.\n",
      "soxs : [INFO     ] 2025-04-07 04:32:10,487 Scattering events with a gaussian-based PSF.\n",
      "soxs : [INFO     ] 2025-04-07 04:32:10,489 1121 events were detected from the source.\n",
      "soxs : [INFO     ] 2025-04-07 04:32:10,490 Scattering energies with RMF lem_2.5ev_110422.rmf.\n"
     ]
    },
    {
     "data": {
      "application/vnd.jupyter.widget-view+json": {
       "model_id": "3370fc8903bd4d37b7d140a77da9c016",
       "version_major": 2,
       "version_minor": 0
      },
      "text/plain": [
       "Scattering energies :   0%|          | 0/1121 [00:00<?, ?it/s]"
      ]
     },
     "metadata": {},
     "output_type": "display_data"
    },
    {
     "name": "stderr",
     "output_type": "stream",
     "text": [
      "soxs : [INFO     ] 2025-04-07 04:32:11,086 Adding background events.\n",
      "soxs : [INFO     ] 2025-04-07 04:32:12,490 Adding in instrumental background.\n",
      "soxs : [INFO     ] 2025-04-07 04:32:12,666 Making 342054 events from the instrumental background.\n",
      "soxs : [INFO     ] 2025-04-07 04:32:12,784 Writing events to file evt_018.fits.\n",
      "soxs : [INFO     ] 2025-04-07 04:32:13,173 Observation complete.\n",
      "soxs : [INFO     ] 2025-04-07 04:32:14,903 Making observation of source in evt_019.fits.\n"
     ]
    },
    {
     "name": "stdout",
     "output_type": "stream",
     "text": [
      "✅ Saved: plot_018.png\n",
      "🔄 Simulating for IllustrisTNG.1P_5.snap_032.halo_019.100ks.z0.05.z_simput.fits...\n"
     ]
    },
    {
     "name": "stderr",
     "output_type": "stream",
     "text": [
      "soxs : [INFO     ] 2025-04-07 04:32:16,371 Detecting events from source IllustrisTNG.1P_5.snap_032.halo_019.100ks.z0.05.z.\n",
      "soxs : [INFO     ] 2025-04-07 04:32:16,372 Applying energy-dependent effective area from lem_300522.arf.\n",
      "soxs : [INFO     ] 2025-04-07 04:32:16,374 Pixeling events.\n",
      "soxs : [INFO     ] 2025-04-07 04:32:16,376 Scattering events with a gaussian-based PSF.\n",
      "soxs : [INFO     ] 2025-04-07 04:32:16,377 445 events were detected from the source.\n",
      "soxs : [INFO     ] 2025-04-07 04:32:16,378 Scattering energies with RMF lem_2.5ev_110422.rmf.\n"
     ]
    },
    {
     "data": {
      "application/vnd.jupyter.widget-view+json": {
       "model_id": "d3d91b1acf5c4720918492d185c07e1a",
       "version_major": 2,
       "version_minor": 0
      },
      "text/plain": [
       "Scattering energies :   0%|          | 0/445 [00:00<?, ?it/s]"
      ]
     },
     "metadata": {},
     "output_type": "display_data"
    },
    {
     "name": "stderr",
     "output_type": "stream",
     "text": [
      "soxs : [INFO     ] 2025-04-07 04:32:16,734 Adding background events.\n",
      "soxs : [INFO     ] 2025-04-07 04:32:18,122 Adding in instrumental background.\n",
      "soxs : [INFO     ] 2025-04-07 04:32:18,292 Making 342313 events from the instrumental background.\n",
      "soxs : [INFO     ] 2025-04-07 04:32:18,474 Writing events to file evt_019.fits.\n",
      "soxs : [INFO     ] 2025-04-07 04:32:18,935 Observation complete.\n",
      "soxs : [INFO     ] 2025-04-07 04:32:20,797 Making observation of source in evt_020.fits.\n"
     ]
    },
    {
     "name": "stdout",
     "output_type": "stream",
     "text": [
      "✅ Saved: plot_019.png\n",
      "🔄 Simulating for IllustrisTNG.1P_5.snap_032.halo_020.100ks.z0.05.z_simput.fits...\n"
     ]
    },
    {
     "name": "stderr",
     "output_type": "stream",
     "text": [
      "soxs : [INFO     ] 2025-04-07 04:32:22,240 Detecting events from source IllustrisTNG.1P_5.snap_032.halo_020.100ks.z0.05.z.\n",
      "soxs : [INFO     ] 2025-04-07 04:32:22,241 Applying energy-dependent effective area from lem_300522.arf.\n",
      "soxs : [INFO     ] 2025-04-07 04:32:22,242 Pixeling events.\n",
      "soxs : [INFO     ] 2025-04-07 04:32:22,244 Scattering events with a gaussian-based PSF.\n",
      "soxs : [INFO     ] 2025-04-07 04:32:22,245 618 events were detected from the source.\n",
      "soxs : [INFO     ] 2025-04-07 04:32:22,246 Scattering energies with RMF lem_2.5ev_110422.rmf.\n"
     ]
    },
    {
     "data": {
      "application/vnd.jupyter.widget-view+json": {
       "model_id": "00aa6ac069524cd48103851f2fc65849",
       "version_major": 2,
       "version_minor": 0
      },
      "text/plain": [
       "Scattering energies :   0%|          | 0/618 [00:00<?, ?it/s]"
      ]
     },
     "metadata": {},
     "output_type": "display_data"
    },
    {
     "name": "stderr",
     "output_type": "stream",
     "text": [
      "soxs : [INFO     ] 2025-04-07 04:32:22,658 Adding background events.\n",
      "soxs : [INFO     ] 2025-04-07 04:32:24,041 Adding in instrumental background.\n",
      "soxs : [INFO     ] 2025-04-07 04:32:24,233 Making 340640 events from the instrumental background.\n",
      "soxs : [INFO     ] 2025-04-07 04:32:24,379 Writing events to file evt_020.fits.\n",
      "soxs : [INFO     ] 2025-04-07 04:32:24,863 Observation complete.\n",
      "soxs : [INFO     ] 2025-04-07 04:32:26,740 Making observation of source in evt_021.fits.\n"
     ]
    },
    {
     "name": "stdout",
     "output_type": "stream",
     "text": [
      "✅ Saved: plot_020.png\n",
      "🔄 Simulating for IllustrisTNG.1P_5.snap_032.halo_021.100ks.z0.05.z_simput.fits...\n"
     ]
    },
    {
     "name": "stderr",
     "output_type": "stream",
     "text": [
      "soxs : [INFO     ] 2025-04-07 04:32:28,362 Detecting events from source IllustrisTNG.1P_5.snap_032.halo_021.100ks.z0.05.z.\n",
      "soxs : [INFO     ] 2025-04-07 04:32:28,363 Applying energy-dependent effective area from lem_300522.arf.\n",
      "soxs : [INFO     ] 2025-04-07 04:32:28,365 Pixeling events.\n",
      "soxs : [INFO     ] 2025-04-07 04:32:28,366 Scattering events with a gaussian-based PSF.\n",
      "soxs : [INFO     ] 2025-04-07 04:32:28,368 791 events were detected from the source.\n",
      "soxs : [INFO     ] 2025-04-07 04:32:28,369 Scattering energies with RMF lem_2.5ev_110422.rmf.\n"
     ]
    },
    {
     "data": {
      "application/vnd.jupyter.widget-view+json": {
       "model_id": "6eeab7b9c61e4622bc5ffbf5ac784c9e",
       "version_major": 2,
       "version_minor": 0
      },
      "text/plain": [
       "Scattering energies :   0%|          | 0/791 [00:00<?, ?it/s]"
      ]
     },
     "metadata": {},
     "output_type": "display_data"
    },
    {
     "name": "stderr",
     "output_type": "stream",
     "text": [
      "soxs : [INFO     ] 2025-04-07 04:32:28,829 Adding background events.\n",
      "soxs : [INFO     ] 2025-04-07 04:32:30,220 Adding in instrumental background.\n",
      "soxs : [INFO     ] 2025-04-07 04:32:30,386 Making 341163 events from the instrumental background.\n",
      "soxs : [INFO     ] 2025-04-07 04:32:30,490 Writing events to file evt_021.fits.\n",
      "soxs : [INFO     ] 2025-04-07 04:32:30,956 Observation complete.\n",
      "soxs : [INFO     ] 2025-04-07 04:32:32,792 Making observation of source in evt_022.fits.\n"
     ]
    },
    {
     "name": "stdout",
     "output_type": "stream",
     "text": [
      "✅ Saved: plot_021.png\n",
      "🔄 Simulating for IllustrisTNG.1P_5.snap_032.halo_022.100ks.z0.05.z_simput.fits...\n"
     ]
    },
    {
     "name": "stderr",
     "output_type": "stream",
     "text": [
      "soxs : [INFO     ] 2025-04-07 04:32:34,185 Detecting events from source IllustrisTNG.1P_5.snap_032.halo_022.100ks.z0.05.z.\n",
      "soxs : [INFO     ] 2025-04-07 04:32:34,186 Applying energy-dependent effective area from lem_300522.arf.\n",
      "soxs : [INFO     ] 2025-04-07 04:32:34,190 Pixeling events.\n",
      "soxs : [INFO     ] 2025-04-07 04:32:34,193 Scattering events with a gaussian-based PSF.\n",
      "soxs : [INFO     ] 2025-04-07 04:32:34,195 3117 events were detected from the source.\n",
      "soxs : [INFO     ] 2025-04-07 04:32:34,196 Scattering energies with RMF lem_2.5ev_110422.rmf.\n"
     ]
    },
    {
     "data": {
      "application/vnd.jupyter.widget-view+json": {
       "model_id": "af7382f8b21340288ab2a6d3c45e62d8",
       "version_major": 2,
       "version_minor": 0
      },
      "text/plain": [
       "Scattering energies :   0%|          | 0/3117 [00:00<?, ?it/s]"
      ]
     },
     "metadata": {},
     "output_type": "display_data"
    },
    {
     "name": "stderr",
     "output_type": "stream",
     "text": [
      "soxs : [INFO     ] 2025-04-07 04:32:35,347 Adding background events.\n",
      "soxs : [INFO     ] 2025-04-07 04:32:36,726 Adding in instrumental background.\n",
      "soxs : [INFO     ] 2025-04-07 04:32:36,894 Making 341033 events from the instrumental background.\n",
      "soxs : [INFO     ] 2025-04-07 04:32:36,992 Writing events to file evt_022.fits.\n",
      "soxs : [INFO     ] 2025-04-07 04:32:37,466 Observation complete.\n",
      "soxs : [INFO     ] 2025-04-07 04:32:39,305 Making observation of source in evt_023.fits.\n"
     ]
    },
    {
     "name": "stdout",
     "output_type": "stream",
     "text": [
      "✅ Saved: plot_022.png\n",
      "🔄 Simulating for IllustrisTNG.1P_5.snap_032.halo_023.100ks.z0.05.z_simput.fits...\n"
     ]
    },
    {
     "name": "stderr",
     "output_type": "stream",
     "text": [
      "soxs : [INFO     ] 2025-04-07 04:32:40,771 Detecting events from source IllustrisTNG.1P_5.snap_032.halo_023.100ks.z0.05.z.\n",
      "soxs : [INFO     ] 2025-04-07 04:32:40,773 Applying energy-dependent effective area from lem_300522.arf.\n",
      "soxs : [INFO     ] 2025-04-07 04:32:40,774 Pixeling events.\n",
      "soxs : [INFO     ] 2025-04-07 04:32:40,776 Scattering events with a gaussian-based PSF.\n",
      "soxs : [INFO     ] 2025-04-07 04:32:40,777 524 events were detected from the source.\n",
      "soxs : [INFO     ] 2025-04-07 04:32:40,778 Scattering energies with RMF lem_2.5ev_110422.rmf.\n"
     ]
    },
    {
     "data": {
      "application/vnd.jupyter.widget-view+json": {
       "model_id": "7c6d7304ade84922a83a62f3266e462e",
       "version_major": 2,
       "version_minor": 0
      },
      "text/plain": [
       "Scattering energies :   0%|          | 0/524 [00:00<?, ?it/s]"
      ]
     },
     "metadata": {},
     "output_type": "display_data"
    },
    {
     "name": "stderr",
     "output_type": "stream",
     "text": [
      "soxs : [INFO     ] 2025-04-07 04:32:41,179 Adding background events.\n",
      "soxs : [INFO     ] 2025-04-07 04:32:42,704 Adding in instrumental background.\n",
      "soxs : [INFO     ] 2025-04-07 04:32:42,874 Making 341215 events from the instrumental background.\n",
      "soxs : [INFO     ] 2025-04-07 04:32:42,986 Writing events to file evt_023.fits.\n",
      "soxs : [INFO     ] 2025-04-07 04:32:43,423 Observation complete.\n",
      "soxs : [INFO     ] 2025-04-07 04:32:45,221 Making observation of source in evt_024.fits.\n"
     ]
    },
    {
     "name": "stdout",
     "output_type": "stream",
     "text": [
      "✅ Saved: plot_023.png\n",
      "🔄 Simulating for IllustrisTNG.1P_5.snap_032.halo_024.100ks.z0.05.z_simput.fits...\n"
     ]
    },
    {
     "name": "stderr",
     "output_type": "stream",
     "text": [
      "soxs : [INFO     ] 2025-04-07 04:32:46,643 Detecting events from source IllustrisTNG.1P_5.snap_032.halo_024.100ks.z0.05.z.\n",
      "soxs : [INFO     ] 2025-04-07 04:32:46,644 Applying energy-dependent effective area from lem_300522.arf.\n",
      "soxs : [INFO     ] 2025-04-07 04:32:46,647 Pixeling events.\n",
      "soxs : [INFO     ] 2025-04-07 04:32:46,649 Scattering events with a gaussian-based PSF.\n",
      "soxs : [INFO     ] 2025-04-07 04:32:46,651 4219 events were detected from the source.\n",
      "soxs : [INFO     ] 2025-04-07 04:32:46,653 Scattering energies with RMF lem_2.5ev_110422.rmf.\n"
     ]
    },
    {
     "data": {
      "application/vnd.jupyter.widget-view+json": {
       "model_id": "c62109c44afd4c91a61c3ddd1f308914",
       "version_major": 2,
       "version_minor": 0
      },
      "text/plain": [
       "Scattering energies :   0%|          | 0/4219 [00:00<?, ?it/s]"
      ]
     },
     "metadata": {},
     "output_type": "display_data"
    },
    {
     "name": "stderr",
     "output_type": "stream",
     "text": [
      "soxs : [INFO     ] 2025-04-07 04:32:47,957 Adding background events.\n",
      "soxs : [INFO     ] 2025-04-07 04:32:49,337 Adding in instrumental background.\n",
      "soxs : [INFO     ] 2025-04-07 04:32:49,504 Making 340276 events from the instrumental background.\n",
      "soxs : [INFO     ] 2025-04-07 04:32:49,593 Writing events to file evt_024.fits.\n",
      "soxs : [INFO     ] 2025-04-07 04:32:50,003 Observation complete.\n",
      "soxs : [INFO     ] 2025-04-07 04:32:51,699 Making observation of source in evt_025.fits.\n"
     ]
    },
    {
     "name": "stdout",
     "output_type": "stream",
     "text": [
      "✅ Saved: plot_024.png\n",
      "🔄 Simulating for IllustrisTNG.1P_5.snap_032.halo_025.100ks.z0.05.z_simput.fits...\n"
     ]
    },
    {
     "name": "stderr",
     "output_type": "stream",
     "text": [
      "soxs : [INFO     ] 2025-04-07 04:32:53,283 Detecting events from source IllustrisTNG.1P_5.snap_032.halo_025.100ks.z0.05.z.\n",
      "soxs : [INFO     ] 2025-04-07 04:32:53,284 Applying energy-dependent effective area from lem_300522.arf.\n",
      "soxs : [INFO     ] 2025-04-07 04:32:53,287 Pixeling events.\n",
      "soxs : [INFO     ] 2025-04-07 04:32:53,289 Scattering events with a gaussian-based PSF.\n",
      "soxs : [INFO     ] 2025-04-07 04:32:53,292 2708 events were detected from the source.\n",
      "soxs : [INFO     ] 2025-04-07 04:32:53,293 Scattering energies with RMF lem_2.5ev_110422.rmf.\n"
     ]
    },
    {
     "data": {
      "application/vnd.jupyter.widget-view+json": {
       "model_id": "3ed78d3106f74bbea35fe3500d3c8cb5",
       "version_major": 2,
       "version_minor": 0
      },
      "text/plain": [
       "Scattering energies :   0%|          | 0/2708 [00:00<?, ?it/s]"
      ]
     },
     "metadata": {},
     "output_type": "display_data"
    },
    {
     "name": "stderr",
     "output_type": "stream",
     "text": [
      "soxs : [INFO     ] 2025-04-07 04:32:54,254 Adding background events.\n",
      "soxs : [INFO     ] 2025-04-07 04:32:55,630 Adding in instrumental background.\n",
      "soxs : [INFO     ] 2025-04-07 04:32:55,787 Making 340520 events from the instrumental background.\n",
      "soxs : [INFO     ] 2025-04-07 04:32:55,890 Writing events to file evt_025.fits.\n",
      "soxs : [INFO     ] 2025-04-07 04:32:56,410 Observation complete.\n",
      "soxs : [INFO     ] 2025-04-07 04:32:58,555 Making observation of source in evt_026.fits.\n"
     ]
    },
    {
     "name": "stdout",
     "output_type": "stream",
     "text": [
      "✅ Saved: plot_025.png\n",
      "🔄 Simulating for IllustrisTNG.1P_5.snap_032.halo_026.100ks.z0.05.z_simput.fits...\n"
     ]
    },
    {
     "name": "stderr",
     "output_type": "stream",
     "text": [
      "soxs : [INFO     ] 2025-04-07 04:32:59,976 Detecting events from source IllustrisTNG.1P_5.snap_032.halo_026.100ks.z0.05.z.\n",
      "soxs : [INFO     ] 2025-04-07 04:32:59,977 Applying energy-dependent effective area from lem_300522.arf.\n",
      "soxs : [INFO     ] 2025-04-07 04:32:59,979 Pixeling events.\n",
      "soxs : [INFO     ] 2025-04-07 04:32:59,980 Scattering events with a gaussian-based PSF.\n",
      "soxs : [INFO     ] 2025-04-07 04:32:59,982 2032 events were detected from the source.\n",
      "soxs : [INFO     ] 2025-04-07 04:32:59,983 Scattering energies with RMF lem_2.5ev_110422.rmf.\n"
     ]
    },
    {
     "data": {
      "application/vnd.jupyter.widget-view+json": {
       "model_id": "a5df696aa84b4ca69cb47ca783d7730c",
       "version_major": 2,
       "version_minor": 0
      },
      "text/plain": [
       "Scattering energies :   0%|          | 0/2032 [00:00<?, ?it/s]"
      ]
     },
     "metadata": {},
     "output_type": "display_data"
    },
    {
     "name": "stderr",
     "output_type": "stream",
     "text": [
      "soxs : [INFO     ] 2025-04-07 04:33:00,843 Adding background events.\n",
      "soxs : [INFO     ] 2025-04-07 04:33:02,213 Adding in instrumental background.\n",
      "soxs : [INFO     ] 2025-04-07 04:33:02,369 Making 340044 events from the instrumental background.\n",
      "soxs : [INFO     ] 2025-04-07 04:33:02,480 Writing events to file evt_026.fits.\n",
      "soxs : [INFO     ] 2025-04-07 04:33:02,862 Observation complete.\n",
      "soxs : [INFO     ] 2025-04-07 04:33:04,601 Making observation of source in evt_027.fits.\n"
     ]
    },
    {
     "name": "stdout",
     "output_type": "stream",
     "text": [
      "✅ Saved: plot_026.png\n",
      "🔄 Simulating for IllustrisTNG.1P_5.snap_032.halo_027.100ks.z0.05.z_simput.fits...\n"
     ]
    },
    {
     "name": "stderr",
     "output_type": "stream",
     "text": [
      "soxs : [INFO     ] 2025-04-07 04:33:05,978 Detecting events from source IllustrisTNG.1P_5.snap_032.halo_027.100ks.z0.05.z.\n",
      "soxs : [INFO     ] 2025-04-07 04:33:05,979 Applying energy-dependent effective area from lem_300522.arf.\n",
      "soxs : [INFO     ] 2025-04-07 04:33:05,981 Pixeling events.\n",
      "soxs : [INFO     ] 2025-04-07 04:33:05,982 Scattering events with a gaussian-based PSF.\n",
      "soxs : [INFO     ] 2025-04-07 04:33:05,984 586 events were detected from the source.\n",
      "soxs : [INFO     ] 2025-04-07 04:33:05,985 Scattering energies with RMF lem_2.5ev_110422.rmf.\n"
     ]
    },
    {
     "data": {
      "application/vnd.jupyter.widget-view+json": {
       "model_id": "0d288063a77d45f787c50432dedb2a5a",
       "version_major": 2,
       "version_minor": 0
      },
      "text/plain": [
       "Scattering energies :   0%|          | 0/586 [00:00<?, ?it/s]"
      ]
     },
     "metadata": {},
     "output_type": "display_data"
    },
    {
     "name": "stderr",
     "output_type": "stream",
     "text": [
      "soxs : [INFO     ] 2025-04-07 04:33:06,455 Adding background events.\n",
      "soxs : [INFO     ] 2025-04-07 04:33:07,792 Adding in instrumental background.\n",
      "soxs : [INFO     ] 2025-04-07 04:33:07,953 Making 341227 events from the instrumental background.\n",
      "soxs : [INFO     ] 2025-04-07 04:33:08,079 Writing events to file evt_027.fits.\n",
      "soxs : [INFO     ] 2025-04-07 04:33:08,451 Observation complete.\n",
      "soxs : [INFO     ] 2025-04-07 04:33:10,035 Making observation of source in evt_028.fits.\n"
     ]
    },
    {
     "name": "stdout",
     "output_type": "stream",
     "text": [
      "✅ Saved: plot_027.png\n",
      "🔄 Simulating for IllustrisTNG.1P_5.snap_032.halo_028.100ks.z0.05.z_simput.fits...\n"
     ]
    },
    {
     "name": "stderr",
     "output_type": "stream",
     "text": [
      "soxs : [INFO     ] 2025-04-07 04:33:11,461 Detecting events from source IllustrisTNG.1P_5.snap_032.halo_028.100ks.z0.05.z.\n",
      "soxs : [INFO     ] 2025-04-07 04:33:11,462 Applying energy-dependent effective area from lem_300522.arf.\n",
      "soxs : [INFO     ] 2025-04-07 04:33:11,464 Pixeling events.\n",
      "soxs : [INFO     ] 2025-04-07 04:33:11,465 Scattering events with a gaussian-based PSF.\n",
      "soxs : [INFO     ] 2025-04-07 04:33:11,467 1035 events were detected from the source.\n",
      "soxs : [INFO     ] 2025-04-07 04:33:11,468 Scattering energies with RMF lem_2.5ev_110422.rmf.\n"
     ]
    },
    {
     "data": {
      "application/vnd.jupyter.widget-view+json": {
       "model_id": "4f72b5058ca840e8a704357f406fd3e9",
       "version_major": 2,
       "version_minor": 0
      },
      "text/plain": [
       "Scattering energies :   0%|          | 0/1035 [00:00<?, ?it/s]"
      ]
     },
     "metadata": {},
     "output_type": "display_data"
    },
    {
     "name": "stderr",
     "output_type": "stream",
     "text": [
      "soxs : [INFO     ] 2025-04-07 04:33:12,013 Adding background events.\n",
      "soxs : [INFO     ] 2025-04-07 04:33:13,351 Adding in instrumental background.\n",
      "soxs : [INFO     ] 2025-04-07 04:33:13,513 Making 340267 events from the instrumental background.\n",
      "soxs : [INFO     ] 2025-04-07 04:33:13,690 Writing events to file evt_028.fits.\n",
      "soxs : [INFO     ] 2025-04-07 04:33:14,128 Observation complete.\n",
      "soxs : [INFO     ] 2025-04-07 04:33:15,770 Making observation of source in evt_029.fits.\n"
     ]
    },
    {
     "name": "stdout",
     "output_type": "stream",
     "text": [
      "✅ Saved: plot_028.png\n",
      "🔄 Simulating for IllustrisTNG.1P_5.snap_032.halo_029.100ks.z0.05.z_simput.fits...\n"
     ]
    },
    {
     "name": "stderr",
     "output_type": "stream",
     "text": [
      "soxs : [INFO     ] 2025-04-07 04:33:17,147 Detecting events from source IllustrisTNG.1P_5.snap_032.halo_029.100ks.z0.05.z.\n",
      "soxs : [INFO     ] 2025-04-07 04:33:17,148 Applying energy-dependent effective area from lem_300522.arf.\n",
      "soxs : [INFO     ] 2025-04-07 04:33:17,150 Pixeling events.\n",
      "soxs : [INFO     ] 2025-04-07 04:33:17,151 Scattering events with a gaussian-based PSF.\n",
      "soxs : [INFO     ] 2025-04-07 04:33:17,153 1600 events were detected from the source.\n",
      "soxs : [INFO     ] 2025-04-07 04:33:17,154 Scattering energies with RMF lem_2.5ev_110422.rmf.\n"
     ]
    },
    {
     "data": {
      "application/vnd.jupyter.widget-view+json": {
       "model_id": "692786e1434f46b5836655e9db75cfe6",
       "version_major": 2,
       "version_minor": 0
      },
      "text/plain": [
       "Scattering energies :   0%|          | 0/1600 [00:00<?, ?it/s]"
      ]
     },
     "metadata": {},
     "output_type": "display_data"
    },
    {
     "name": "stderr",
     "output_type": "stream",
     "text": [
      "soxs : [INFO     ] 2025-04-07 04:33:18,093 Adding background events.\n",
      "soxs : [INFO     ] 2025-04-07 04:33:19,475 Adding in instrumental background.\n",
      "soxs : [INFO     ] 2025-04-07 04:33:19,628 Making 341947 events from the instrumental background.\n",
      "soxs : [INFO     ] 2025-04-07 04:33:19,775 Writing events to file evt_029.fits.\n",
      "soxs : [INFO     ] 2025-04-07 04:33:20,083 Observation complete.\n",
      "soxs : [INFO     ] 2025-04-07 04:33:21,742 Making observation of source in evt_030.fits.\n"
     ]
    },
    {
     "name": "stdout",
     "output_type": "stream",
     "text": [
      "✅ Saved: plot_029.png\n",
      "🔄 Simulating for IllustrisTNG.1P_5.snap_032.halo_030.100ks.z0.05.z_simput.fits...\n"
     ]
    },
    {
     "name": "stderr",
     "output_type": "stream",
     "text": [
      "soxs : [INFO     ] 2025-04-07 04:33:23,123 Detecting events from source IllustrisTNG.1P_5.snap_032.halo_030.100ks.z0.05.z.\n",
      "soxs : [INFO     ] 2025-04-07 04:33:23,124 Applying energy-dependent effective area from lem_300522.arf.\n",
      "soxs : [INFO     ] 2025-04-07 04:33:23,126 Pixeling events.\n",
      "soxs : [INFO     ] 2025-04-07 04:33:23,127 Scattering events with a gaussian-based PSF.\n",
      "soxs : [INFO     ] 2025-04-07 04:33:23,129 438 events were detected from the source.\n",
      "soxs : [INFO     ] 2025-04-07 04:33:23,130 Scattering energies with RMF lem_2.5ev_110422.rmf.\n"
     ]
    },
    {
     "data": {
      "application/vnd.jupyter.widget-view+json": {
       "model_id": "286ea0a0fd304560ab6b31d9028633ae",
       "version_major": 2,
       "version_minor": 0
      },
      "text/plain": [
       "Scattering energies :   0%|          | 0/438 [00:00<?, ?it/s]"
      ]
     },
     "metadata": {},
     "output_type": "display_data"
    },
    {
     "name": "stderr",
     "output_type": "stream",
     "text": [
      "soxs : [INFO     ] 2025-04-07 04:33:23,450 Adding background events.\n",
      "soxs : [INFO     ] 2025-04-07 04:33:24,946 Adding in instrumental background.\n",
      "soxs : [INFO     ] 2025-04-07 04:33:25,094 Making 340122 events from the instrumental background.\n",
      "soxs : [INFO     ] 2025-04-07 04:33:25,188 Writing events to file evt_030.fits.\n",
      "soxs : [INFO     ] 2025-04-07 04:33:25,564 Observation complete.\n",
      "soxs : [INFO     ] 2025-04-07 04:33:27,140 Making observation of source in evt_031.fits.\n"
     ]
    },
    {
     "name": "stdout",
     "output_type": "stream",
     "text": [
      "✅ Saved: plot_030.png\n",
      "🔄 Simulating for IllustrisTNG.1P_5.snap_032.halo_031.100ks.z0.05.z_simput.fits...\n"
     ]
    },
    {
     "name": "stderr",
     "output_type": "stream",
     "text": [
      "soxs : [INFO     ] 2025-04-07 04:33:28,494 Detecting events from source IllustrisTNG.1P_5.snap_032.halo_031.100ks.z0.05.z.\n",
      "soxs : [INFO     ] 2025-04-07 04:33:28,496 Applying energy-dependent effective area from lem_300522.arf.\n",
      "soxs : [INFO     ] 2025-04-07 04:33:28,498 Pixeling events.\n",
      "soxs : [INFO     ] 2025-04-07 04:33:28,500 Scattering events with a gaussian-based PSF.\n",
      "soxs : [INFO     ] 2025-04-07 04:33:28,502 1672 events were detected from the source.\n",
      "soxs : [INFO     ] 2025-04-07 04:33:28,503 Scattering energies with RMF lem_2.5ev_110422.rmf.\n"
     ]
    },
    {
     "data": {
      "application/vnd.jupyter.widget-view+json": {
       "model_id": "da5800d19fff4799bedd0ed92f585521",
       "version_major": 2,
       "version_minor": 0
      },
      "text/plain": [
       "Scattering energies :   0%|          | 0/1672 [00:00<?, ?it/s]"
      ]
     },
     "metadata": {},
     "output_type": "display_data"
    },
    {
     "name": "stderr",
     "output_type": "stream",
     "text": [
      "soxs : [INFO     ] 2025-04-07 04:33:29,299 Adding background events.\n",
      "soxs : [INFO     ] 2025-04-07 04:33:30,629 Adding in instrumental background.\n",
      "soxs : [INFO     ] 2025-04-07 04:33:30,785 Making 341681 events from the instrumental background.\n",
      "soxs : [INFO     ] 2025-04-07 04:33:30,976 Writing events to file evt_031.fits.\n",
      "soxs : [INFO     ] 2025-04-07 04:33:31,277 Observation complete.\n",
      "soxs : [INFO     ] 2025-04-07 04:33:32,886 Making observation of source in evt_032.fits.\n"
     ]
    },
    {
     "name": "stdout",
     "output_type": "stream",
     "text": [
      "✅ Saved: plot_031.png\n",
      "🔄 Simulating for IllustrisTNG.1P_5.snap_032.halo_032.100ks.z0.05.z_simput.fits...\n"
     ]
    },
    {
     "name": "stderr",
     "output_type": "stream",
     "text": [
      "soxs : [INFO     ] 2025-04-07 04:33:34,217 Detecting events from source IllustrisTNG.1P_5.snap_032.halo_032.100ks.z0.05.z.\n",
      "soxs : [INFO     ] 2025-04-07 04:33:34,219 Applying energy-dependent effective area from lem_300522.arf.\n",
      "soxs : [INFO     ] 2025-04-07 04:33:34,221 Pixeling events.\n",
      "soxs : [INFO     ] 2025-04-07 04:33:34,222 Scattering events with a gaussian-based PSF.\n",
      "soxs : [INFO     ] 2025-04-07 04:33:34,224 753 events were detected from the source.\n",
      "soxs : [INFO     ] 2025-04-07 04:33:34,225 Scattering energies with RMF lem_2.5ev_110422.rmf.\n"
     ]
    },
    {
     "data": {
      "application/vnd.jupyter.widget-view+json": {
       "model_id": "e1551efc3b5541af9785372b5e975751",
       "version_major": 2,
       "version_minor": 0
      },
      "text/plain": [
       "Scattering energies :   0%|          | 0/753 [00:00<?, ?it/s]"
      ]
     },
     "metadata": {},
     "output_type": "display_data"
    },
    {
     "name": "stderr",
     "output_type": "stream",
     "text": [
      "soxs : [INFO     ] 2025-04-07 04:33:34,719 Adding background events.\n",
      "soxs : [INFO     ] 2025-04-07 04:33:36,218 Adding in instrumental background.\n",
      "soxs : [INFO     ] 2025-04-07 04:33:36,401 Making 341072 events from the instrumental background.\n",
      "soxs : [INFO     ] 2025-04-07 04:33:36,489 Writing events to file evt_032.fits.\n",
      "soxs : [INFO     ] 2025-04-07 04:33:36,862 Observation complete.\n",
      "soxs : [INFO     ] 2025-04-07 04:33:38,454 Making observation of source in evt_033.fits.\n"
     ]
    },
    {
     "name": "stdout",
     "output_type": "stream",
     "text": [
      "✅ Saved: plot_032.png\n",
      "🔄 Simulating for IllustrisTNG.1P_5.snap_032.halo_033.100ks.z0.05.z_simput.fits...\n"
     ]
    },
    {
     "name": "stderr",
     "output_type": "stream",
     "text": [
      "soxs : [INFO     ] 2025-04-07 04:33:39,814 Detecting events from source IllustrisTNG.1P_5.snap_032.halo_033.100ks.z0.05.z.\n",
      "soxs : [INFO     ] 2025-04-07 04:33:39,816 Applying energy-dependent effective area from lem_300522.arf.\n",
      "soxs : [INFO     ] 2025-04-07 04:33:39,818 Pixeling events.\n",
      "soxs : [INFO     ] 2025-04-07 04:33:39,820 Scattering events with a gaussian-based PSF.\n",
      "soxs : [INFO     ] 2025-04-07 04:33:39,822 3078 events were detected from the source.\n",
      "soxs : [INFO     ] 2025-04-07 04:33:39,823 Scattering energies with RMF lem_2.5ev_110422.rmf.\n"
     ]
    },
    {
     "data": {
      "application/vnd.jupyter.widget-view+json": {
       "model_id": "289d704a06e7429a84efe64bbcff86d0",
       "version_major": 2,
       "version_minor": 0
      },
      "text/plain": [
       "Scattering energies :   0%|          | 0/3078 [00:00<?, ?it/s]"
      ]
     },
     "metadata": {},
     "output_type": "display_data"
    },
    {
     "name": "stderr",
     "output_type": "stream",
     "text": [
      "soxs : [INFO     ] 2025-04-07 04:33:41,028 Adding background events.\n",
      "soxs : [INFO     ] 2025-04-07 04:33:42,377 Adding in instrumental background.\n",
      "soxs : [INFO     ] 2025-04-07 04:33:42,528 Making 341204 events from the instrumental background.\n",
      "soxs : [INFO     ] 2025-04-07 04:33:42,676 Writing events to file evt_033.fits.\n",
      "soxs : [INFO     ] 2025-04-07 04:33:42,982 Observation complete.\n",
      "soxs : [INFO     ] 2025-04-07 04:33:44,550 Making observation of source in evt_034.fits.\n"
     ]
    },
    {
     "name": "stdout",
     "output_type": "stream",
     "text": [
      "✅ Saved: plot_033.png\n",
      "🔄 Simulating for IllustrisTNG.1P_5.snap_032.halo_034.100ks.z0.05.z_simput.fits...\n"
     ]
    },
    {
     "name": "stderr",
     "output_type": "stream",
     "text": [
      "soxs : [INFO     ] 2025-04-07 04:33:45,876 Detecting events from source IllustrisTNG.1P_5.snap_032.halo_034.100ks.z0.05.z.\n",
      "soxs : [INFO     ] 2025-04-07 04:33:45,877 Applying energy-dependent effective area from lem_300522.arf.\n",
      "soxs : [INFO     ] 2025-04-07 04:33:45,879 Pixeling events.\n",
      "soxs : [INFO     ] 2025-04-07 04:33:45,880 Scattering events with a gaussian-based PSF.\n",
      "soxs : [INFO     ] 2025-04-07 04:33:45,882 838 events were detected from the source.\n",
      "soxs : [INFO     ] 2025-04-07 04:33:45,883 Scattering energies with RMF lem_2.5ev_110422.rmf.\n"
     ]
    },
    {
     "data": {
      "application/vnd.jupyter.widget-view+json": {
       "model_id": "3ba47b7728324f7a9f2fedf7cf9e34be",
       "version_major": 2,
       "version_minor": 0
      },
      "text/plain": [
       "Scattering energies :   0%|          | 0/838 [00:00<?, ?it/s]"
      ]
     },
     "metadata": {},
     "output_type": "display_data"
    },
    {
     "name": "stderr",
     "output_type": "stream",
     "text": [
      "soxs : [INFO     ] 2025-04-07 04:33:46,380 Adding background events.\n",
      "soxs : [INFO     ] 2025-04-07 04:33:47,755 Adding in instrumental background.\n",
      "soxs : [INFO     ] 2025-04-07 04:33:48,080 Making 341372 events from the instrumental background.\n",
      "soxs : [INFO     ] 2025-04-07 04:33:48,280 Writing events to file evt_034.fits.\n",
      "soxs : [INFO     ] 2025-04-07 04:33:48,661 Observation complete.\n",
      "soxs : [INFO     ] 2025-04-07 04:33:50,290 Making observation of source in evt_035.fits.\n"
     ]
    },
    {
     "name": "stdout",
     "output_type": "stream",
     "text": [
      "✅ Saved: plot_034.png\n",
      "🔄 Simulating for IllustrisTNG.1P_5.snap_032.halo_035.100ks.z0.05.z_simput.fits...\n"
     ]
    },
    {
     "name": "stderr",
     "output_type": "stream",
     "text": [
      "soxs : [INFO     ] 2025-04-07 04:33:51,863 Detecting events from source IllustrisTNG.1P_5.snap_032.halo_035.100ks.z0.05.z.\n",
      "soxs : [INFO     ] 2025-04-07 04:33:51,865 Applying energy-dependent effective area from lem_300522.arf.\n",
      "soxs : [INFO     ] 2025-04-07 04:33:51,866 Pixeling events.\n",
      "soxs : [INFO     ] 2025-04-07 04:33:51,867 Scattering events with a gaussian-based PSF.\n",
      "soxs : [INFO     ] 2025-04-07 04:33:51,869 301 events were detected from the source.\n",
      "soxs : [INFO     ] 2025-04-07 04:33:51,870 Scattering energies with RMF lem_2.5ev_110422.rmf.\n"
     ]
    },
    {
     "data": {
      "application/vnd.jupyter.widget-view+json": {
       "model_id": "ac9b9113776e445992aa8adf1aa9ccdf",
       "version_major": 2,
       "version_minor": 0
      },
      "text/plain": [
       "Scattering energies :   0%|          | 0/301 [00:00<?, ?it/s]"
      ]
     },
     "metadata": {},
     "output_type": "display_data"
    },
    {
     "name": "stderr",
     "output_type": "stream",
     "text": [
      "soxs : [INFO     ] 2025-04-07 04:33:52,245 Adding background events.\n",
      "soxs : [INFO     ] 2025-04-07 04:33:53,641 Adding in instrumental background.\n",
      "soxs : [INFO     ] 2025-04-07 04:33:53,799 Making 340056 events from the instrumental background.\n",
      "soxs : [INFO     ] 2025-04-07 04:33:53,891 Writing events to file evt_035.fits.\n",
      "soxs : [INFO     ] 2025-04-07 04:33:54,286 Observation complete.\n",
      "soxs : [INFO     ] 2025-04-07 04:33:55,914 Making observation of source in evt_036.fits.\n"
     ]
    },
    {
     "name": "stdout",
     "output_type": "stream",
     "text": [
      "✅ Saved: plot_035.png\n",
      "🔄 Simulating for IllustrisTNG.1P_5.snap_032.halo_036.100ks.z0.05.z_simput.fits...\n"
     ]
    },
    {
     "name": "stderr",
     "output_type": "stream",
     "text": [
      "soxs : [INFO     ] 2025-04-07 04:33:57,297 Detecting events from source IllustrisTNG.1P_5.snap_032.halo_036.100ks.z0.05.z.\n",
      "soxs : [INFO     ] 2025-04-07 04:33:57,298 Applying energy-dependent effective area from lem_300522.arf.\n",
      "soxs : [INFO     ] 2025-04-07 04:33:57,300 Pixeling events.\n",
      "soxs : [INFO     ] 2025-04-07 04:33:57,301 Scattering events with a gaussian-based PSF.\n",
      "soxs : [INFO     ] 2025-04-07 04:33:57,303 810 events were detected from the source.\n",
      "soxs : [INFO     ] 2025-04-07 04:33:57,304 Scattering energies with RMF lem_2.5ev_110422.rmf.\n"
     ]
    },
    {
     "data": {
      "application/vnd.jupyter.widget-view+json": {
       "model_id": "02ba9f1386a847409a1854c178fb2b0c",
       "version_major": 2,
       "version_minor": 0
      },
      "text/plain": [
       "Scattering energies :   0%|          | 0/810 [00:00<?, ?it/s]"
      ]
     },
     "metadata": {},
     "output_type": "display_data"
    },
    {
     "name": "stderr",
     "output_type": "stream",
     "text": [
      "soxs : [INFO     ] 2025-04-07 04:33:57,832 Adding background events.\n",
      "soxs : [INFO     ] 2025-04-07 04:33:59,224 Adding in instrumental background.\n",
      "soxs : [INFO     ] 2025-04-07 04:33:59,378 Making 340822 events from the instrumental background.\n",
      "soxs : [INFO     ] 2025-04-07 04:33:59,489 Writing events to file evt_036.fits.\n",
      "soxs : [INFO     ] 2025-04-07 04:33:59,872 Observation complete.\n",
      "soxs : [INFO     ] 2025-04-07 04:34:01,511 Making observation of source in evt_037.fits.\n"
     ]
    },
    {
     "name": "stdout",
     "output_type": "stream",
     "text": [
      "✅ Saved: plot_036.png\n",
      "🔄 Simulating for IllustrisTNG.1P_5.snap_032.halo_037.100ks.z0.05.z_simput.fits...\n"
     ]
    },
    {
     "name": "stderr",
     "output_type": "stream",
     "text": [
      "soxs : [INFO     ] 2025-04-07 04:34:03,180 Detecting events from source IllustrisTNG.1P_5.snap_032.halo_037.100ks.z0.05.z.\n",
      "soxs : [INFO     ] 2025-04-07 04:34:03,182 Applying energy-dependent effective area from lem_300522.arf.\n",
      "soxs : [INFO     ] 2025-04-07 04:34:03,183 Pixeling events.\n",
      "soxs : [INFO     ] 2025-04-07 04:34:03,185 Scattering events with a gaussian-based PSF.\n",
      "soxs : [INFO     ] 2025-04-07 04:34:03,186 466 events were detected from the source.\n",
      "soxs : [INFO     ] 2025-04-07 04:34:03,188 Scattering energies with RMF lem_2.5ev_110422.rmf.\n"
     ]
    },
    {
     "data": {
      "application/vnd.jupyter.widget-view+json": {
       "model_id": "b8e841a069ea4e4aa564b3d56a4da474",
       "version_major": 2,
       "version_minor": 0
      },
      "text/plain": [
       "Scattering energies :   0%|          | 0/466 [00:00<?, ?it/s]"
      ]
     },
     "metadata": {},
     "output_type": "display_data"
    },
    {
     "name": "stderr",
     "output_type": "stream",
     "text": [
      "soxs : [INFO     ] 2025-04-07 04:34:03,588 Adding background events.\n",
      "soxs : [INFO     ] 2025-04-07 04:34:04,996 Adding in instrumental background.\n",
      "soxs : [INFO     ] 2025-04-07 04:34:05,151 Making 341349 events from the instrumental background.\n",
      "soxs : [INFO     ] 2025-04-07 04:34:05,289 Writing events to file evt_037.fits.\n",
      "soxs : [INFO     ] 2025-04-07 04:34:05,672 Observation complete.\n",
      "soxs : [INFO     ] 2025-04-07 04:34:07,353 Making observation of source in evt_038.fits.\n"
     ]
    },
    {
     "name": "stdout",
     "output_type": "stream",
     "text": [
      "✅ Saved: plot_037.png\n",
      "🔄 Simulating for IllustrisTNG.1P_5.snap_032.halo_038.100ks.z0.05.z_simput.fits...\n"
     ]
    },
    {
     "name": "stderr",
     "output_type": "stream",
     "text": [
      "soxs : [INFO     ] 2025-04-07 04:34:08,753 Detecting events from source IllustrisTNG.1P_5.snap_032.halo_038.100ks.z0.05.z.\n",
      "soxs : [INFO     ] 2025-04-07 04:34:08,754 Applying energy-dependent effective area from lem_300522.arf.\n",
      "soxs : [INFO     ] 2025-04-07 04:34:08,756 Pixeling events.\n",
      "soxs : [INFO     ] 2025-04-07 04:34:08,757 Scattering events with a gaussian-based PSF.\n",
      "soxs : [INFO     ] 2025-04-07 04:34:08,760 580 events were detected from the source.\n",
      "soxs : [INFO     ] 2025-04-07 04:34:08,761 Scattering energies with RMF lem_2.5ev_110422.rmf.\n"
     ]
    },
    {
     "data": {
      "application/vnd.jupyter.widget-view+json": {
       "model_id": "6c8c21cd1ee0499cb2bedb6a97db9b8a",
       "version_major": 2,
       "version_minor": 0
      },
      "text/plain": [
       "Scattering energies :   0%|          | 0/580 [00:00<?, ?it/s]"
      ]
     },
     "metadata": {},
     "output_type": "display_data"
    },
    {
     "name": "stderr",
     "output_type": "stream",
     "text": [
      "soxs : [INFO     ] 2025-04-07 04:34:09,151 Adding background events.\n",
      "soxs : [INFO     ] 2025-04-07 04:34:10,549 Adding in instrumental background.\n",
      "soxs : [INFO     ] 2025-04-07 04:34:10,704 Making 340812 events from the instrumental background.\n",
      "soxs : [INFO     ] 2025-04-07 04:34:10,789 Writing events to file evt_038.fits.\n",
      "soxs : [INFO     ] 2025-04-07 04:34:11,180 Observation complete.\n",
      "soxs : [INFO     ] 2025-04-07 04:34:13,305 Making observation of source in evt_039.fits.\n"
     ]
    },
    {
     "name": "stdout",
     "output_type": "stream",
     "text": [
      "✅ Saved: plot_038.png\n",
      "🔄 Simulating for IllustrisTNG.1P_5.snap_032.halo_039.100ks.z0.05.z_simput.fits...\n"
     ]
    },
    {
     "name": "stderr",
     "output_type": "stream",
     "text": [
      "soxs : [INFO     ] 2025-04-07 04:34:14,843 Detecting events from source IllustrisTNG.1P_5.snap_032.halo_039.100ks.z0.05.z.\n",
      "soxs : [INFO     ] 2025-04-07 04:34:14,844 Applying energy-dependent effective area from lem_300522.arf.\n",
      "soxs : [INFO     ] 2025-04-07 04:34:14,846 Pixeling events.\n",
      "soxs : [INFO     ] 2025-04-07 04:34:14,848 Scattering events with a gaussian-based PSF.\n",
      "soxs : [INFO     ] 2025-04-07 04:34:14,850 1338 events were detected from the source.\n",
      "soxs : [INFO     ] 2025-04-07 04:34:14,851 Scattering energies with RMF lem_2.5ev_110422.rmf.\n"
     ]
    },
    {
     "data": {
      "application/vnd.jupyter.widget-view+json": {
       "model_id": "202972c051924f34a8a2106e3ee380fb",
       "version_major": 2,
       "version_minor": 0
      },
      "text/plain": [
       "Scattering energies :   0%|          | 0/1338 [00:00<?, ?it/s]"
      ]
     },
     "metadata": {},
     "output_type": "display_data"
    },
    {
     "name": "stderr",
     "output_type": "stream",
     "text": [
      "soxs : [INFO     ] 2025-04-07 04:34:15,462 Adding background events.\n",
      "soxs : [INFO     ] 2025-04-07 04:34:16,816 Adding in instrumental background.\n",
      "soxs : [INFO     ] 2025-04-07 04:34:16,976 Making 341333 events from the instrumental background.\n",
      "soxs : [INFO     ] 2025-04-07 04:34:17,083 Writing events to file evt_039.fits.\n",
      "soxs : [INFO     ] 2025-04-07 04:34:17,472 Observation complete.\n",
      "soxs : [INFO     ] 2025-04-07 04:34:19,144 Making observation of source in evt_040.fits.\n"
     ]
    },
    {
     "name": "stdout",
     "output_type": "stream",
     "text": [
      "✅ Saved: plot_039.png\n",
      "🔄 Simulating for IllustrisTNG.1P_5.snap_032.halo_040.100ks.z0.05.z_simput.fits...\n"
     ]
    },
    {
     "name": "stderr",
     "output_type": "stream",
     "text": [
      "soxs : [INFO     ] 2025-04-07 04:34:20,618 Detecting events from source IllustrisTNG.1P_5.snap_032.halo_040.100ks.z0.05.z.\n",
      "soxs : [INFO     ] 2025-04-07 04:34:20,619 Applying energy-dependent effective area from lem_300522.arf.\n",
      "soxs : [INFO     ] 2025-04-07 04:34:20,621 Pixeling events.\n",
      "soxs : [INFO     ] 2025-04-07 04:34:20,622 Scattering events with a gaussian-based PSF.\n",
      "soxs : [INFO     ] 2025-04-07 04:34:20,624 440 events were detected from the source.\n",
      "soxs : [INFO     ] 2025-04-07 04:34:20,625 Scattering energies with RMF lem_2.5ev_110422.rmf.\n"
     ]
    },
    {
     "data": {
      "application/vnd.jupyter.widget-view+json": {
       "model_id": "bf2b6c60216d4fa6b44e325d59556a93",
       "version_major": 2,
       "version_minor": 0
      },
      "text/plain": [
       "Scattering energies :   0%|          | 0/440 [00:00<?, ?it/s]"
      ]
     },
     "metadata": {},
     "output_type": "display_data"
    },
    {
     "name": "stderr",
     "output_type": "stream",
     "text": [
      "soxs : [INFO     ] 2025-04-07 04:34:20,976 Adding background events.\n",
      "soxs : [INFO     ] 2025-04-07 04:34:22,368 Adding in instrumental background.\n",
      "soxs : [INFO     ] 2025-04-07 04:34:22,536 Making 340680 events from the instrumental background.\n",
      "soxs : [INFO     ] 2025-04-07 04:34:22,595 Writing events to file evt_040.fits.\n",
      "soxs : [INFO     ] 2025-04-07 04:34:23,018 Observation complete.\n",
      "soxs : [INFO     ] 2025-04-07 04:34:24,673 Making observation of source in evt_041.fits.\n"
     ]
    },
    {
     "name": "stdout",
     "output_type": "stream",
     "text": [
      "✅ Saved: plot_040.png\n",
      "🔄 Simulating for IllustrisTNG.1P_5.snap_032.halo_041.100ks.z0.05.z_simput.fits...\n"
     ]
    },
    {
     "name": "stderr",
     "output_type": "stream",
     "text": [
      "soxs : [INFO     ] 2025-04-07 04:34:26,132 Detecting events from source IllustrisTNG.1P_5.snap_032.halo_041.100ks.z0.05.z.\n",
      "soxs : [INFO     ] 2025-04-07 04:34:26,133 Applying energy-dependent effective area from lem_300522.arf.\n",
      "soxs : [INFO     ] 2025-04-07 04:34:26,136 Pixeling events.\n",
      "soxs : [INFO     ] 2025-04-07 04:34:26,138 Scattering events with a gaussian-based PSF.\n",
      "soxs : [INFO     ] 2025-04-07 04:34:26,140 2619 events were detected from the source.\n",
      "soxs : [INFO     ] 2025-04-07 04:34:26,141 Scattering energies with RMF lem_2.5ev_110422.rmf.\n"
     ]
    },
    {
     "data": {
      "application/vnd.jupyter.widget-view+json": {
       "model_id": "b351ca1a35e34770b1f0b303fd5e8aca",
       "version_major": 2,
       "version_minor": 0
      },
      "text/plain": [
       "Scattering energies :   0%|          | 0/2619 [00:00<?, ?it/s]"
      ]
     },
     "metadata": {},
     "output_type": "display_data"
    },
    {
     "name": "stderr",
     "output_type": "stream",
     "text": [
      "soxs : [INFO     ] 2025-04-07 04:34:27,203 Adding background events.\n",
      "soxs : [INFO     ] 2025-04-07 04:34:28,570 Adding in instrumental background.\n",
      "soxs : [INFO     ] 2025-04-07 04:34:28,722 Making 341089 events from the instrumental background.\n",
      "soxs : [INFO     ] 2025-04-07 04:34:28,880 Writing events to file evt_041.fits.\n",
      "soxs : [INFO     ] 2025-04-07 04:34:29,231 Observation complete.\n",
      "soxs : [INFO     ] 2025-04-07 04:34:31,033 Making observation of source in evt_042.fits.\n"
     ]
    },
    {
     "name": "stdout",
     "output_type": "stream",
     "text": [
      "✅ Saved: plot_041.png\n",
      "🔄 Simulating for IllustrisTNG.1P_5.snap_032.halo_042.100ks.z0.05.z_simput.fits...\n"
     ]
    },
    {
     "name": "stderr",
     "output_type": "stream",
     "text": [
      "soxs : [INFO     ] 2025-04-07 04:34:32,493 Detecting events from source IllustrisTNG.1P_5.snap_032.halo_042.100ks.z0.05.z.\n",
      "soxs : [INFO     ] 2025-04-07 04:34:32,494 Applying energy-dependent effective area from lem_300522.arf.\n",
      "soxs : [INFO     ] 2025-04-07 04:34:32,496 Pixeling events.\n",
      "soxs : [INFO     ] 2025-04-07 04:34:32,497 Scattering events with a gaussian-based PSF.\n",
      "soxs : [INFO     ] 2025-04-07 04:34:32,499 832 events were detected from the source.\n",
      "soxs : [INFO     ] 2025-04-07 04:34:32,500 Scattering energies with RMF lem_2.5ev_110422.rmf.\n"
     ]
    },
    {
     "data": {
      "application/vnd.jupyter.widget-view+json": {
       "model_id": "d1aba09a529c4ad9bf1443753a4d652e",
       "version_major": 2,
       "version_minor": 0
      },
      "text/plain": [
       "Scattering energies :   0%|          | 0/832 [00:00<?, ?it/s]"
      ]
     },
     "metadata": {},
     "output_type": "display_data"
    },
    {
     "name": "stderr",
     "output_type": "stream",
     "text": [
      "soxs : [INFO     ] 2025-04-07 04:34:33,012 Adding background events.\n",
      "soxs : [INFO     ] 2025-04-07 04:34:34,362 Adding in instrumental background.\n",
      "soxs : [INFO     ] 2025-04-07 04:34:34,539 Making 340837 events from the instrumental background.\n",
      "soxs : [INFO     ] 2025-04-07 04:34:34,678 Writing events to file evt_042.fits.\n",
      "soxs : [INFO     ] 2025-04-07 04:34:35,051 Observation complete.\n",
      "soxs : [INFO     ] 2025-04-07 04:34:36,851 Making observation of source in evt_043.fits.\n"
     ]
    },
    {
     "name": "stdout",
     "output_type": "stream",
     "text": [
      "✅ Saved: plot_042.png\n",
      "🔄 Simulating for IllustrisTNG.1P_5.snap_032.halo_043.100ks.z0.05.z_simput.fits...\n"
     ]
    },
    {
     "name": "stderr",
     "output_type": "stream",
     "text": [
      "soxs : [INFO     ] 2025-04-07 04:34:38,288 Detecting events from source IllustrisTNG.1P_5.snap_032.halo_043.100ks.z0.05.z.\n",
      "soxs : [INFO     ] 2025-04-07 04:34:38,289 Applying energy-dependent effective area from lem_300522.arf.\n",
      "soxs : [INFO     ] 2025-04-07 04:34:38,291 Pixeling events.\n",
      "soxs : [INFO     ] 2025-04-07 04:34:38,293 Scattering events with a gaussian-based PSF.\n",
      "soxs : [INFO     ] 2025-04-07 04:34:38,294 403 events were detected from the source.\n",
      "soxs : [INFO     ] 2025-04-07 04:34:38,296 Scattering energies with RMF lem_2.5ev_110422.rmf.\n"
     ]
    },
    {
     "data": {
      "application/vnd.jupyter.widget-view+json": {
       "model_id": "20d51a462ece43718ff4fedf28d6742d",
       "version_major": 2,
       "version_minor": 0
      },
      "text/plain": [
       "Scattering energies :   0%|          | 0/403 [00:00<?, ?it/s]"
      ]
     },
     "metadata": {},
     "output_type": "display_data"
    },
    {
     "name": "stderr",
     "output_type": "stream",
     "text": [
      "soxs : [INFO     ] 2025-04-07 04:34:38,626 Adding background events.\n",
      "soxs : [INFO     ] 2025-04-07 04:34:39,972 Adding in instrumental background.\n",
      "soxs : [INFO     ] 2025-04-07 04:34:40,132 Making 341552 events from the instrumental background.\n",
      "soxs : [INFO     ] 2025-04-07 04:34:40,279 Writing events to file evt_043.fits.\n",
      "soxs : [INFO     ] 2025-04-07 04:34:40,629 Observation complete.\n",
      "soxs : [INFO     ] 2025-04-07 04:34:42,437 Making observation of source in evt_044.fits.\n"
     ]
    },
    {
     "name": "stdout",
     "output_type": "stream",
     "text": [
      "✅ Saved: plot_043.png\n",
      "🔄 Simulating for IllustrisTNG.1P_5.snap_032.halo_044.100ks.z0.05.z_simput.fits...\n"
     ]
    },
    {
     "name": "stderr",
     "output_type": "stream",
     "text": [
      "soxs : [INFO     ] 2025-04-07 04:34:43,975 Detecting events from source IllustrisTNG.1P_5.snap_032.halo_044.100ks.z0.05.z.\n",
      "soxs : [INFO     ] 2025-04-07 04:34:43,976 Applying energy-dependent effective area from lem_300522.arf.\n",
      "soxs : [INFO     ] 2025-04-07 04:34:43,979 Pixeling events.\n",
      "soxs : [INFO     ] 2025-04-07 04:34:43,981 Scattering events with a gaussian-based PSF.\n",
      "soxs : [INFO     ] 2025-04-07 04:34:43,983 2030 events were detected from the source.\n",
      "soxs : [INFO     ] 2025-04-07 04:34:43,984 Scattering energies with RMF lem_2.5ev_110422.rmf.\n"
     ]
    },
    {
     "data": {
      "application/vnd.jupyter.widget-view+json": {
       "model_id": "b05520cd957b4c89b76acd719c0f028b",
       "version_major": 2,
       "version_minor": 0
      },
      "text/plain": [
       "Scattering energies :   0%|          | 0/2030 [00:00<?, ?it/s]"
      ]
     },
     "metadata": {},
     "output_type": "display_data"
    },
    {
     "name": "stderr",
     "output_type": "stream",
     "text": [
      "soxs : [INFO     ] 2025-04-07 04:34:44,782 Adding background events.\n",
      "soxs : [INFO     ] 2025-04-07 04:34:46,180 Adding in instrumental background.\n",
      "soxs : [INFO     ] 2025-04-07 04:34:46,344 Making 341443 events from the instrumental background.\n",
      "soxs : [INFO     ] 2025-04-07 04:34:46,478 Writing events to file evt_044.fits.\n",
      "soxs : [INFO     ] 2025-04-07 04:34:46,963 Observation complete.\n",
      "soxs : [INFO     ] 2025-04-07 04:34:48,821 Making observation of source in evt_045.fits.\n"
     ]
    },
    {
     "name": "stdout",
     "output_type": "stream",
     "text": [
      "✅ Saved: plot_044.png\n",
      "🔄 Simulating for IllustrisTNG.1P_5.snap_032.halo_045.100ks.z0.05.z_simput.fits...\n"
     ]
    },
    {
     "name": "stderr",
     "output_type": "stream",
     "text": [
      "soxs : [INFO     ] 2025-04-07 04:34:50,283 Detecting events from source IllustrisTNG.1P_5.snap_032.halo_045.100ks.z0.05.z.\n",
      "soxs : [INFO     ] 2025-04-07 04:34:50,284 Applying energy-dependent effective area from lem_300522.arf.\n",
      "soxs : [INFO     ] 2025-04-07 04:34:50,286 Pixeling events.\n",
      "soxs : [INFO     ] 2025-04-07 04:34:50,287 Scattering events with a gaussian-based PSF.\n",
      "soxs : [INFO     ] 2025-04-07 04:34:50,289 245 events were detected from the source.\n",
      "soxs : [INFO     ] 2025-04-07 04:34:50,290 Scattering energies with RMF lem_2.5ev_110422.rmf.\n"
     ]
    },
    {
     "data": {
      "application/vnd.jupyter.widget-view+json": {
       "model_id": "595414c0deb34022a8236c900042ee4c",
       "version_major": 2,
       "version_minor": 0
      },
      "text/plain": [
       "Scattering energies :   0%|          | 0/245 [00:00<?, ?it/s]"
      ]
     },
     "metadata": {},
     "output_type": "display_data"
    },
    {
     "name": "stderr",
     "output_type": "stream",
     "text": [
      "soxs : [INFO     ] 2025-04-07 04:34:50,535 Adding background events.\n",
      "soxs : [INFO     ] 2025-04-07 04:34:51,937 Adding in instrumental background.\n",
      "soxs : [INFO     ] 2025-04-07 04:34:52,107 Making 340811 events from the instrumental background.\n",
      "soxs : [INFO     ] 2025-04-07 04:34:52,277 Writing events to file evt_045.fits.\n",
      "soxs : [INFO     ] 2025-04-07 04:34:52,636 Observation complete.\n",
      "soxs : [INFO     ] 2025-04-07 04:34:54,509 Making observation of source in evt_046.fits.\n"
     ]
    },
    {
     "name": "stdout",
     "output_type": "stream",
     "text": [
      "✅ Saved: plot_045.png\n",
      "🔄 Simulating for IllustrisTNG.1P_5.snap_032.halo_046.100ks.z0.05.z_simput.fits...\n"
     ]
    },
    {
     "name": "stderr",
     "output_type": "stream",
     "text": [
      "soxs : [INFO     ] 2025-04-07 04:34:55,983 Detecting events from source IllustrisTNG.1P_5.snap_032.halo_046.100ks.z0.05.z.\n",
      "soxs : [INFO     ] 2025-04-07 04:34:55,984 Applying energy-dependent effective area from lem_300522.arf.\n",
      "soxs : [INFO     ] 2025-04-07 04:34:55,987 Pixeling events.\n",
      "soxs : [INFO     ] 2025-04-07 04:34:55,991 Scattering events with a gaussian-based PSF.\n",
      "soxs : [INFO     ] 2025-04-07 04:34:55,994 8672 events were detected from the source.\n",
      "soxs : [INFO     ] 2025-04-07 04:34:55,995 Scattering energies with RMF lem_2.5ev_110422.rmf.\n"
     ]
    },
    {
     "data": {
      "application/vnd.jupyter.widget-view+json": {
       "model_id": "56c909ecf7e9409db63abdeb2a157131",
       "version_major": 2,
       "version_minor": 0
      },
      "text/plain": [
       "Scattering energies :   0%|          | 0/8672 [00:00<?, ?it/s]"
      ]
     },
     "metadata": {},
     "output_type": "display_data"
    },
    {
     "name": "stderr",
     "output_type": "stream",
     "text": [
      "soxs : [INFO     ] 2025-04-07 04:34:58,185 Adding background events.\n",
      "soxs : [INFO     ] 2025-04-07 04:34:59,580 Adding in instrumental background.\n",
      "soxs : [INFO     ] 2025-04-07 04:34:59,743 Making 341125 events from the instrumental background.\n",
      "soxs : [INFO     ] 2025-04-07 04:34:59,881 Writing events to file evt_046.fits.\n",
      "soxs : [INFO     ] 2025-04-07 04:35:00,391 Observation complete.\n",
      "soxs : [INFO     ] 2025-04-07 04:35:02,282 Making observation of source in evt_047.fits.\n"
     ]
    },
    {
     "name": "stdout",
     "output_type": "stream",
     "text": [
      "✅ Saved: plot_046.png\n",
      "🔄 Simulating for IllustrisTNG.1P_5.snap_032.halo_047.100ks.z0.05.z_simput.fits...\n"
     ]
    },
    {
     "name": "stderr",
     "output_type": "stream",
     "text": [
      "soxs : [INFO     ] 2025-04-07 04:35:03,763 Detecting events from source IllustrisTNG.1P_5.snap_032.halo_047.100ks.z0.05.z.\n",
      "soxs : [INFO     ] 2025-04-07 04:35:03,764 Applying energy-dependent effective area from lem_300522.arf.\n",
      "soxs : [INFO     ] 2025-04-07 04:35:03,766 Pixeling events.\n",
      "soxs : [INFO     ] 2025-04-07 04:35:03,767 Scattering events with a gaussian-based PSF.\n",
      "soxs : [INFO     ] 2025-04-07 04:35:03,769 941 events were detected from the source.\n",
      "soxs : [INFO     ] 2025-04-07 04:35:03,770 Scattering energies with RMF lem_2.5ev_110422.rmf.\n"
     ]
    },
    {
     "data": {
      "application/vnd.jupyter.widget-view+json": {
       "model_id": "ff126ebaf6c44c3699ed8556937c6030",
       "version_major": 2,
       "version_minor": 0
      },
      "text/plain": [
       "Scattering energies :   0%|          | 0/941 [00:00<?, ?it/s]"
      ]
     },
     "metadata": {},
     "output_type": "display_data"
    },
    {
     "name": "stderr",
     "output_type": "stream",
     "text": [
      "soxs : [INFO     ] 2025-04-07 04:35:04,321 Adding background events.\n",
      "soxs : [INFO     ] 2025-04-07 04:35:05,697 Adding in instrumental background.\n",
      "soxs : [INFO     ] 2025-04-07 04:35:05,858 Making 341545 events from the instrumental background.\n",
      "soxs : [INFO     ] 2025-04-07 04:35:05,984 Writing events to file evt_047.fits.\n",
      "soxs : [INFO     ] 2025-04-07 04:35:06,383 Observation complete.\n",
      "soxs : [INFO     ] 2025-04-07 04:35:08,044 Making observation of source in evt_048.fits.\n"
     ]
    },
    {
     "name": "stdout",
     "output_type": "stream",
     "text": [
      "✅ Saved: plot_047.png\n",
      "🔄 Simulating for IllustrisTNG.1P_5.snap_032.halo_048.100ks.z0.05.z_simput.fits...\n"
     ]
    },
    {
     "name": "stderr",
     "output_type": "stream",
     "text": [
      "soxs : [INFO     ] 2025-04-07 04:35:09,385 Detecting events from source IllustrisTNG.1P_5.snap_032.halo_048.100ks.z0.05.z.\n",
      "soxs : [INFO     ] 2025-04-07 04:35:09,386 Applying energy-dependent effective area from lem_300522.arf.\n",
      "soxs : [INFO     ] 2025-04-07 04:35:09,388 Pixeling events.\n",
      "soxs : [INFO     ] 2025-04-07 04:35:09,389 Scattering events with a gaussian-based PSF.\n",
      "soxs : [INFO     ] 2025-04-07 04:35:09,391 1025 events were detected from the source.\n",
      "soxs : [INFO     ] 2025-04-07 04:35:09,392 Scattering energies with RMF lem_2.5ev_110422.rmf.\n"
     ]
    },
    {
     "data": {
      "application/vnd.jupyter.widget-view+json": {
       "model_id": "a900808b55c04212aadbbd783649f3d0",
       "version_major": 2,
       "version_minor": 0
      },
      "text/plain": [
       "Scattering energies :   0%|          | 0/1025 [00:00<?, ?it/s]"
      ]
     },
     "metadata": {},
     "output_type": "display_data"
    },
    {
     "name": "stderr",
     "output_type": "stream",
     "text": [
      "soxs : [INFO     ] 2025-04-07 04:35:09,960 Adding background events.\n",
      "soxs : [INFO     ] 2025-04-07 04:35:11,286 Adding in instrumental background.\n",
      "soxs : [INFO     ] 2025-04-07 04:35:11,443 Making 341366 events from the instrumental background.\n",
      "soxs : [INFO     ] 2025-04-07 04:35:11,578 Writing events to file evt_048.fits.\n",
      "soxs : [INFO     ] 2025-04-07 04:35:11,954 Observation complete.\n",
      "soxs : [INFO     ] 2025-04-07 04:35:13,648 Making observation of source in evt_049.fits.\n"
     ]
    },
    {
     "name": "stdout",
     "output_type": "stream",
     "text": [
      "✅ Saved: plot_048.png\n",
      "🔄 Simulating for IllustrisTNG.1P_5.snap_032.halo_049.100ks.z0.05.z_simput.fits...\n"
     ]
    },
    {
     "name": "stderr",
     "output_type": "stream",
     "text": [
      "soxs : [INFO     ] 2025-04-07 04:35:15,016 Detecting events from source IllustrisTNG.1P_5.snap_032.halo_049.100ks.z0.05.z.\n",
      "soxs : [INFO     ] 2025-04-07 04:35:15,018 Applying energy-dependent effective area from lem_300522.arf.\n",
      "soxs : [INFO     ] 2025-04-07 04:35:15,020 Pixeling events.\n",
      "soxs : [INFO     ] 2025-04-07 04:35:15,021 Scattering events with a gaussian-based PSF.\n",
      "soxs : [INFO     ] 2025-04-07 04:35:15,022 319 events were detected from the source.\n",
      "soxs : [INFO     ] 2025-04-07 04:35:15,023 Scattering energies with RMF lem_2.5ev_110422.rmf.\n"
     ]
    },
    {
     "data": {
      "application/vnd.jupyter.widget-view+json": {
       "model_id": "a1740cbdf75a4f6f81d5ce30bf1ed15c",
       "version_major": 2,
       "version_minor": 0
      },
      "text/plain": [
       "Scattering energies :   0%|          | 0/319 [00:00<?, ?it/s]"
      ]
     },
     "metadata": {},
     "output_type": "display_data"
    },
    {
     "name": "stderr",
     "output_type": "stream",
     "text": [
      "soxs : [INFO     ] 2025-04-07 04:35:15,300 Adding background events.\n",
      "soxs : [INFO     ] 2025-04-07 04:35:16,627 Adding in instrumental background.\n",
      "soxs : [INFO     ] 2025-04-07 04:35:16,782 Making 341684 events from the instrumental background.\n",
      "soxs : [INFO     ] 2025-04-07 04:35:16,887 Writing events to file evt_049.fits.\n",
      "soxs : [INFO     ] 2025-04-07 04:35:17,286 Observation complete.\n",
      "soxs : [INFO     ] 2025-04-07 04:35:18,936 Making observation of source in evt_050.fits.\n"
     ]
    },
    {
     "name": "stdout",
     "output_type": "stream",
     "text": [
      "✅ Saved: plot_049.png\n",
      "🔄 Simulating for IllustrisTNG.1P_5.snap_032.halo_050.100ks.z0.05.z_simput.fits...\n"
     ]
    },
    {
     "name": "stderr",
     "output_type": "stream",
     "text": [
      "soxs : [INFO     ] 2025-04-07 04:35:20,299 Detecting events from source IllustrisTNG.1P_5.snap_032.halo_050.100ks.z0.05.z.\n",
      "soxs : [INFO     ] 2025-04-07 04:35:20,301 Applying energy-dependent effective area from lem_300522.arf.\n",
      "soxs : [INFO     ] 2025-04-07 04:35:20,302 Pixeling events.\n",
      "soxs : [INFO     ] 2025-04-07 04:35:20,303 Scattering events with a gaussian-based PSF.\n",
      "soxs : [INFO     ] 2025-04-07 04:35:20,305 714 events were detected from the source.\n",
      "soxs : [INFO     ] 2025-04-07 04:35:20,306 Scattering energies with RMF lem_2.5ev_110422.rmf.\n"
     ]
    },
    {
     "data": {
      "application/vnd.jupyter.widget-view+json": {
       "model_id": "be8f56c505fd443ba97f6b91a6cb33b9",
       "version_major": 2,
       "version_minor": 0
      },
      "text/plain": [
       "Scattering energies :   0%|          | 0/714 [00:00<?, ?it/s]"
      ]
     },
     "metadata": {},
     "output_type": "display_data"
    },
    {
     "name": "stderr",
     "output_type": "stream",
     "text": [
      "soxs : [INFO     ] 2025-04-07 04:35:20,736 Adding background events.\n",
      "soxs : [INFO     ] 2025-04-07 04:35:22,065 Adding in instrumental background.\n",
      "soxs : [INFO     ] 2025-04-07 04:35:22,224 Making 341718 events from the instrumental background.\n",
      "soxs : [INFO     ] 2025-04-07 04:35:22,376 Writing events to file evt_050.fits.\n",
      "soxs : [INFO     ] 2025-04-07 04:35:22,679 Observation complete.\n",
      "soxs : [INFO     ] 2025-04-07 04:35:24,270 Making observation of source in evt_051.fits.\n"
     ]
    },
    {
     "name": "stdout",
     "output_type": "stream",
     "text": [
      "✅ Saved: plot_050.png\n",
      "🔄 Simulating for IllustrisTNG.1P_5.snap_032.halo_051.100ks.z0.05.z_simput.fits...\n"
     ]
    },
    {
     "name": "stderr",
     "output_type": "stream",
     "text": [
      "soxs : [INFO     ] 2025-04-07 04:35:25,566 Detecting events from source IllustrisTNG.1P_5.snap_032.halo_051.100ks.z0.05.z.\n",
      "soxs : [INFO     ] 2025-04-07 04:35:25,567 Applying energy-dependent effective area from lem_300522.arf.\n",
      "soxs : [INFO     ] 2025-04-07 04:35:25,570 Pixeling events.\n",
      "soxs : [INFO     ] 2025-04-07 04:35:25,571 Scattering events with a gaussian-based PSF.\n",
      "soxs : [INFO     ] 2025-04-07 04:35:25,573 2739 events were detected from the source.\n",
      "soxs : [INFO     ] 2025-04-07 04:35:25,574 Scattering energies with RMF lem_2.5ev_110422.rmf.\n"
     ]
    },
    {
     "data": {
      "application/vnd.jupyter.widget-view+json": {
       "model_id": "6e7bf9cdcff447e1a576b8f235cc30cd",
       "version_major": 2,
       "version_minor": 0
      },
      "text/plain": [
       "Scattering energies :   0%|          | 0/2739 [00:00<?, ?it/s]"
      ]
     },
     "metadata": {},
     "output_type": "display_data"
    },
    {
     "name": "stderr",
     "output_type": "stream",
     "text": [
      "soxs : [INFO     ] 2025-04-07 04:35:26,745 Adding background events.\n",
      "soxs : [INFO     ] 2025-04-07 04:35:28,043 Adding in instrumental background.\n",
      "soxs : [INFO     ] 2025-04-07 04:35:28,196 Making 341166 events from the instrumental background.\n",
      "soxs : [INFO     ] 2025-04-07 04:35:28,289 Writing events to file evt_051.fits.\n",
      "soxs : [INFO     ] 2025-04-07 04:35:28,663 Observation complete.\n",
      "soxs : [INFO     ] 2025-04-07 04:35:30,194 Making observation of source in evt_052.fits.\n"
     ]
    },
    {
     "name": "stdout",
     "output_type": "stream",
     "text": [
      "✅ Saved: plot_051.png\n",
      "🔄 Simulating for IllustrisTNG.1P_5.snap_032.halo_052.100ks.z0.05.z_simput.fits...\n"
     ]
    },
    {
     "name": "stderr",
     "output_type": "stream",
     "text": [
      "soxs : [INFO     ] 2025-04-07 04:35:31,499 Detecting events from source IllustrisTNG.1P_5.snap_032.halo_052.100ks.z0.05.z.\n",
      "soxs : [INFO     ] 2025-04-07 04:35:31,500 Applying energy-dependent effective area from lem_300522.arf.\n",
      "soxs : [INFO     ] 2025-04-07 04:35:31,502 Pixeling events.\n",
      "soxs : [INFO     ] 2025-04-07 04:35:31,503 Scattering events with a gaussian-based PSF.\n",
      "soxs : [INFO     ] 2025-04-07 04:35:31,504 116 events were detected from the source.\n",
      "soxs : [INFO     ] 2025-04-07 04:35:31,505 Scattering energies with RMF lem_2.5ev_110422.rmf.\n"
     ]
    },
    {
     "data": {
      "application/vnd.jupyter.widget-view+json": {
       "model_id": "e823b2bcf910438abd2fe7e16b036cc5",
       "version_major": 2,
       "version_minor": 0
      },
      "text/plain": [
       "Scattering energies :   0%|          | 0/116 [00:00<?, ?it/s]"
      ]
     },
     "metadata": {},
     "output_type": "display_data"
    },
    {
     "name": "stderr",
     "output_type": "stream",
     "text": [
      "soxs : [INFO     ] 2025-04-07 04:35:31,666 Adding background events.\n",
      "soxs : [INFO     ] 2025-04-07 04:35:32,964 Adding in instrumental background.\n",
      "soxs : [INFO     ] 2025-04-07 04:35:33,112 Making 341515 events from the instrumental background.\n",
      "soxs : [INFO     ] 2025-04-07 04:35:33,275 Writing events to file evt_052.fits.\n",
      "soxs : [INFO     ] 2025-04-07 04:35:33,573 Observation complete.\n",
      "soxs : [INFO     ] 2025-04-07 04:35:35,119 Making observation of source in evt_053.fits.\n"
     ]
    },
    {
     "name": "stdout",
     "output_type": "stream",
     "text": [
      "✅ Saved: plot_052.png\n",
      "🔄 Simulating for IllustrisTNG.1P_5.snap_032.halo_053.100ks.z0.05.z_simput.fits...\n"
     ]
    },
    {
     "name": "stderr",
     "output_type": "stream",
     "text": [
      "soxs : [INFO     ] 2025-04-07 04:35:36,432 Detecting events from source IllustrisTNG.1P_5.snap_032.halo_053.100ks.z0.05.z.\n",
      "soxs : [INFO     ] 2025-04-07 04:35:36,434 Applying energy-dependent effective area from lem_300522.arf.\n",
      "soxs : [INFO     ] 2025-04-07 04:35:36,435 Pixeling events.\n",
      "soxs : [INFO     ] 2025-04-07 04:35:36,436 Scattering events with a gaussian-based PSF.\n",
      "soxs : [INFO     ] 2025-04-07 04:35:36,438 137 events were detected from the source.\n",
      "soxs : [INFO     ] 2025-04-07 04:35:36,439 Scattering energies with RMF lem_2.5ev_110422.rmf.\n"
     ]
    },
    {
     "data": {
      "application/vnd.jupyter.widget-view+json": {
       "model_id": "2e7fb3196c7f4d47b87a9d121bdc9fc3",
       "version_major": 2,
       "version_minor": 0
      },
      "text/plain": [
       "Scattering energies :   0%|          | 0/137 [00:00<?, ?it/s]"
      ]
     },
     "metadata": {},
     "output_type": "display_data"
    },
    {
     "name": "stderr",
     "output_type": "stream",
     "text": [
      "soxs : [INFO     ] 2025-04-07 04:35:36,627 Adding background events.\n",
      "soxs : [INFO     ] 2025-04-07 04:35:37,924 Adding in instrumental background.\n",
      "soxs : [INFO     ] 2025-04-07 04:35:38,079 Making 342550 events from the instrumental background.\n",
      "soxs : [INFO     ] 2025-04-07 04:35:38,189 Writing events to file evt_053.fits.\n",
      "soxs : [INFO     ] 2025-04-07 04:35:38,569 Observation complete.\n",
      "soxs : [INFO     ] 2025-04-07 04:35:40,674 Making observation of source in evt_055.fits.\n"
     ]
    },
    {
     "name": "stdout",
     "output_type": "stream",
     "text": [
      "✅ Saved: plot_053.png\n",
      "❌ File not found: ../../Data/X-rays/IllustrisTNG/1P/1P_1_0/snap_032/IllustrisTNG.1P_5.snap_032.halo_054.100ks.z0.05.z_simput.fits\n",
      "🔄 Simulating for IllustrisTNG.1P_5.snap_032.halo_055.100ks.z0.05.z_simput.fits...\n"
     ]
    },
    {
     "name": "stderr",
     "output_type": "stream",
     "text": [
      "soxs : [INFO     ] 2025-04-07 04:35:41,979 Detecting events from source IllustrisTNG.1P_5.snap_032.halo_055.100ks.z0.05.z.\n",
      "soxs : [INFO     ] 2025-04-07 04:35:41,980 Applying energy-dependent effective area from lem_300522.arf.\n",
      "soxs : [INFO     ] 2025-04-07 04:35:41,982 Pixeling events.\n",
      "soxs : [INFO     ] 2025-04-07 04:35:41,984 Scattering events with a gaussian-based PSF.\n",
      "soxs : [INFO     ] 2025-04-07 04:35:41,986 2151 events were detected from the source.\n",
      "soxs : [INFO     ] 2025-04-07 04:35:41,987 Scattering energies with RMF lem_2.5ev_110422.rmf.\n"
     ]
    },
    {
     "data": {
      "application/vnd.jupyter.widget-view+json": {
       "model_id": "d65354369fbe41c6a9cdc93ae940e512",
       "version_major": 2,
       "version_minor": 0
      },
      "text/plain": [
       "Scattering energies :   0%|          | 0/2151 [00:00<?, ?it/s]"
      ]
     },
     "metadata": {},
     "output_type": "display_data"
    },
    {
     "name": "stderr",
     "output_type": "stream",
     "text": [
      "soxs : [INFO     ] 2025-04-07 04:35:42,916 Adding background events.\n",
      "soxs : [INFO     ] 2025-04-07 04:35:44,199 Adding in instrumental background.\n",
      "soxs : [INFO     ] 2025-04-07 04:35:44,357 Making 339767 events from the instrumental background.\n",
      "soxs : [INFO     ] 2025-04-07 04:35:44,480 Writing events to file evt_055.fits.\n",
      "soxs : [INFO     ] 2025-04-07 04:35:44,848 Observation complete.\n",
      "soxs : [INFO     ] 2025-04-07 04:35:46,378 Making observation of source in evt_056.fits.\n"
     ]
    },
    {
     "name": "stdout",
     "output_type": "stream",
     "text": [
      "✅ Saved: plot_055.png\n",
      "🔄 Simulating for IllustrisTNG.1P_5.snap_032.halo_056.100ks.z0.05.z_simput.fits...\n"
     ]
    },
    {
     "name": "stderr",
     "output_type": "stream",
     "text": [
      "soxs : [INFO     ] 2025-04-07 04:35:47,706 Detecting events from source IllustrisTNG.1P_5.snap_032.halo_056.100ks.z0.05.z.\n",
      "soxs : [INFO     ] 2025-04-07 04:35:47,708 Applying energy-dependent effective area from lem_300522.arf.\n",
      "soxs : [INFO     ] 2025-04-07 04:35:47,710 Pixeling events.\n",
      "soxs : [INFO     ] 2025-04-07 04:35:47,711 Scattering events with a gaussian-based PSF.\n",
      "soxs : [INFO     ] 2025-04-07 04:35:47,713 1066 events were detected from the source.\n",
      "soxs : [INFO     ] 2025-04-07 04:35:47,714 Scattering energies with RMF lem_2.5ev_110422.rmf.\n"
     ]
    },
    {
     "data": {
      "application/vnd.jupyter.widget-view+json": {
       "model_id": "63283b3182d1462e890aa563404834fd",
       "version_major": 2,
       "version_minor": 0
      },
      "text/plain": [
       "Scattering energies :   0%|          | 0/1066 [00:00<?, ?it/s]"
      ]
     },
     "metadata": {},
     "output_type": "display_data"
    },
    {
     "name": "stderr",
     "output_type": "stream",
     "text": [
      "soxs : [INFO     ] 2025-04-07 04:35:48,310 Adding background events.\n",
      "soxs : [INFO     ] 2025-04-07 04:35:49,651 Adding in instrumental background.\n",
      "soxs : [INFO     ] 2025-04-07 04:35:49,803 Making 340949 events from the instrumental background.\n",
      "soxs : [INFO     ] 2025-04-07 04:35:49,890 Writing events to file evt_056.fits.\n",
      "soxs : [INFO     ] 2025-04-07 04:35:50,273 Observation complete.\n",
      "soxs : [INFO     ] 2025-04-07 04:35:51,881 Making observation of source in evt_057.fits.\n"
     ]
    },
    {
     "name": "stdout",
     "output_type": "stream",
     "text": [
      "✅ Saved: plot_056.png\n",
      "🔄 Simulating for IllustrisTNG.1P_5.snap_032.halo_057.100ks.z0.05.z_simput.fits...\n"
     ]
    },
    {
     "name": "stderr",
     "output_type": "stream",
     "text": [
      "soxs : [INFO     ] 2025-04-07 04:35:53,236 Detecting events from source IllustrisTNG.1P_5.snap_032.halo_057.100ks.z0.05.z.\n",
      "soxs : [INFO     ] 2025-04-07 04:35:53,237 Applying energy-dependent effective area from lem_300522.arf.\n",
      "soxs : [INFO     ] 2025-04-07 04:35:53,239 Pixeling events.\n",
      "soxs : [INFO     ] 2025-04-07 04:35:53,241 Scattering events with a gaussian-based PSF.\n",
      "soxs : [INFO     ] 2025-04-07 04:35:53,242 920 events were detected from the source.\n",
      "soxs : [INFO     ] 2025-04-07 04:35:53,243 Scattering energies with RMF lem_2.5ev_110422.rmf.\n"
     ]
    },
    {
     "data": {
      "application/vnd.jupyter.widget-view+json": {
       "model_id": "fe2aa43c153042cabc008a3e95c0072c",
       "version_major": 2,
       "version_minor": 0
      },
      "text/plain": [
       "Scattering energies :   0%|          | 0/920 [00:00<?, ?it/s]"
      ]
     },
     "metadata": {},
     "output_type": "display_data"
    },
    {
     "name": "stderr",
     "output_type": "stream",
     "text": [
      "soxs : [INFO     ] 2025-04-07 04:35:53,833 Adding background events.\n",
      "soxs : [INFO     ] 2025-04-07 04:35:55,197 Adding in instrumental background.\n",
      "soxs : [INFO     ] 2025-04-07 04:35:55,350 Making 341700 events from the instrumental background.\n",
      "soxs : [INFO     ] 2025-04-07 04:35:55,474 Writing events to file evt_057.fits.\n",
      "soxs : [INFO     ] 2025-04-07 04:35:55,823 Observation complete.\n",
      "soxs : [INFO     ] 2025-04-07 04:35:57,480 Making observation of source in evt_058.fits.\n"
     ]
    },
    {
     "name": "stdout",
     "output_type": "stream",
     "text": [
      "✅ Saved: plot_057.png\n",
      "🔄 Simulating for IllustrisTNG.1P_5.snap_032.halo_058.100ks.z0.05.z_simput.fits...\n"
     ]
    },
    {
     "name": "stderr",
     "output_type": "stream",
     "text": [
      "soxs : [INFO     ] 2025-04-07 04:35:58,848 Detecting events from source IllustrisTNG.1P_5.snap_032.halo_058.100ks.z0.05.z.\n",
      "soxs : [INFO     ] 2025-04-07 04:35:58,850 Applying energy-dependent effective area from lem_300522.arf.\n",
      "soxs : [INFO     ] 2025-04-07 04:35:58,852 Pixeling events.\n",
      "soxs : [INFO     ] 2025-04-07 04:35:58,853 Scattering events with a gaussian-based PSF.\n",
      "soxs : [INFO     ] 2025-04-07 04:35:58,854 416 events were detected from the source.\n",
      "soxs : [INFO     ] 2025-04-07 04:35:58,856 Scattering energies with RMF lem_2.5ev_110422.rmf.\n"
     ]
    },
    {
     "data": {
      "application/vnd.jupyter.widget-view+json": {
       "model_id": "f0b60e704c26473d872ef6e7cf7e54d3",
       "version_major": 2,
       "version_minor": 0
      },
      "text/plain": [
       "Scattering energies :   0%|          | 0/416 [00:00<?, ?it/s]"
      ]
     },
     "metadata": {},
     "output_type": "display_data"
    },
    {
     "name": "stderr",
     "output_type": "stream",
     "text": [
      "soxs : [INFO     ] 2025-04-07 04:35:59,158 Adding background events.\n",
      "soxs : [INFO     ] 2025-04-07 04:36:00,506 Adding in instrumental background.\n",
      "soxs : [INFO     ] 2025-04-07 04:36:00,663 Making 341882 events from the instrumental background.\n",
      "soxs : [INFO     ] 2025-04-07 04:36:00,783 Writing events to file evt_058.fits.\n",
      "soxs : [INFO     ] 2025-04-07 04:36:01,169 Observation complete.\n",
      "soxs : [INFO     ] 2025-04-07 04:36:02,911 Making observation of source in evt_060.fits.\n"
     ]
    },
    {
     "name": "stdout",
     "output_type": "stream",
     "text": [
      "✅ Saved: plot_058.png\n",
      "❌ File not found: ../../Data/X-rays/IllustrisTNG/1P/1P_1_0/snap_032/IllustrisTNG.1P_5.snap_032.halo_059.100ks.z0.05.z_simput.fits\n",
      "🔄 Simulating for IllustrisTNG.1P_5.snap_032.halo_060.100ks.z0.05.z_simput.fits...\n"
     ]
    },
    {
     "name": "stderr",
     "output_type": "stream",
     "text": [
      "soxs : [INFO     ] 2025-04-07 04:36:04,293 Detecting events from source IllustrisTNG.1P_5.snap_032.halo_060.100ks.z0.05.z.\n",
      "soxs : [INFO     ] 2025-04-07 04:36:04,295 Applying energy-dependent effective area from lem_300522.arf.\n",
      "soxs : [INFO     ] 2025-04-07 04:36:04,296 Pixeling events.\n",
      "soxs : [INFO     ] 2025-04-07 04:36:04,298 Scattering events with a gaussian-based PSF.\n",
      "soxs : [INFO     ] 2025-04-07 04:36:04,299 410 events were detected from the source.\n",
      "soxs : [INFO     ] 2025-04-07 04:36:04,300 Scattering energies with RMF lem_2.5ev_110422.rmf.\n"
     ]
    },
    {
     "data": {
      "application/vnd.jupyter.widget-view+json": {
       "model_id": "084791a6b39a4412b2c951a817f84f95",
       "version_major": 2,
       "version_minor": 0
      },
      "text/plain": [
       "Scattering energies :   0%|          | 0/410 [00:00<?, ?it/s]"
      ]
     },
     "metadata": {},
     "output_type": "display_data"
    },
    {
     "name": "stderr",
     "output_type": "stream",
     "text": [
      "soxs : [INFO     ] 2025-04-07 04:36:04,648 Adding background events.\n",
      "soxs : [INFO     ] 2025-04-07 04:36:05,983 Adding in instrumental background.\n",
      "soxs : [INFO     ] 2025-04-07 04:36:06,143 Making 341106 events from the instrumental background.\n",
      "soxs : [INFO     ] 2025-04-07 04:36:06,275 Writing events to file evt_060.fits.\n",
      "soxs : [INFO     ] 2025-04-07 04:36:06,605 Observation complete.\n",
      "soxs : [INFO     ] 2025-04-07 04:36:08,265 Making observation of source in evt_061.fits.\n"
     ]
    },
    {
     "name": "stdout",
     "output_type": "stream",
     "text": [
      "✅ Saved: plot_060.png\n",
      "🔄 Simulating for IllustrisTNG.1P_5.snap_032.halo_061.100ks.z0.05.z_simput.fits...\n"
     ]
    },
    {
     "name": "stderr",
     "output_type": "stream",
     "text": [
      "soxs : [INFO     ] 2025-04-07 04:36:09,658 Detecting events from source IllustrisTNG.1P_5.snap_032.halo_061.100ks.z0.05.z.\n",
      "soxs : [INFO     ] 2025-04-07 04:36:09,660 Applying energy-dependent effective area from lem_300522.arf.\n",
      "soxs : [INFO     ] 2025-04-07 04:36:09,661 Pixeling events.\n",
      "soxs : [INFO     ] 2025-04-07 04:36:09,663 Scattering events with a gaussian-based PSF.\n",
      "soxs : [INFO     ] 2025-04-07 04:36:09,665 1192 events were detected from the source.\n",
      "soxs : [INFO     ] 2025-04-07 04:36:09,666 Scattering energies with RMF lem_2.5ev_110422.rmf.\n"
     ]
    },
    {
     "data": {
      "application/vnd.jupyter.widget-view+json": {
       "model_id": "823b5356545449a8a6021dd1aa93dafd",
       "version_major": 2,
       "version_minor": 0
      },
      "text/plain": [
       "Scattering energies :   0%|          | 0/1192 [00:00<?, ?it/s]"
      ]
     },
     "metadata": {},
     "output_type": "display_data"
    },
    {
     "name": "stderr",
     "output_type": "stream",
     "text": [
      "soxs : [INFO     ] 2025-04-07 04:36:10,280 Adding background events.\n",
      "soxs : [INFO     ] 2025-04-07 04:36:11,638 Adding in instrumental background.\n",
      "soxs : [INFO     ] 2025-04-07 04:36:11,798 Making 340822 events from the instrumental background.\n",
      "soxs : [INFO     ] 2025-04-07 04:36:11,886 Writing events to file evt_061.fits.\n",
      "soxs : [INFO     ] 2025-04-07 04:36:12,275 Observation complete.\n",
      "soxs : [INFO     ] 2025-04-07 04:36:13,922 Making observation of source in evt_062.fits.\n"
     ]
    },
    {
     "name": "stdout",
     "output_type": "stream",
     "text": [
      "✅ Saved: plot_061.png\n",
      "🔄 Simulating for IllustrisTNG.1P_5.snap_032.halo_062.100ks.z0.05.z_simput.fits...\n"
     ]
    },
    {
     "name": "stderr",
     "output_type": "stream",
     "text": [
      "soxs : [INFO     ] 2025-04-07 04:36:15,273 Detecting events from source IllustrisTNG.1P_5.snap_032.halo_062.100ks.z0.05.z.\n",
      "soxs : [INFO     ] 2025-04-07 04:36:15,275 Applying energy-dependent effective area from lem_300522.arf.\n",
      "soxs : [INFO     ] 2025-04-07 04:36:15,276 Pixeling events.\n",
      "soxs : [INFO     ] 2025-04-07 04:36:15,277 Scattering events with a gaussian-based PSF.\n",
      "soxs : [INFO     ] 2025-04-07 04:36:15,279 102 events were detected from the source.\n",
      "soxs : [INFO     ] 2025-04-07 04:36:15,280 Scattering energies with RMF lem_2.5ev_110422.rmf.\n"
     ]
    },
    {
     "data": {
      "application/vnd.jupyter.widget-view+json": {
       "model_id": "918e0c64f5ae40b0a4fbfe946c5dfedf",
       "version_major": 2,
       "version_minor": 0
      },
      "text/plain": [
       "Scattering energies :   0%|          | 0/102 [00:00<?, ?it/s]"
      ]
     },
     "metadata": {},
     "output_type": "display_data"
    },
    {
     "name": "stderr",
     "output_type": "stream",
     "text": [
      "soxs : [INFO     ] 2025-04-07 04:36:15,447 Adding background events.\n",
      "soxs : [INFO     ] 2025-04-07 04:36:16,748 Adding in instrumental background.\n",
      "soxs : [INFO     ] 2025-04-07 04:36:16,904 Making 340549 events from the instrumental background.\n",
      "soxs : [INFO     ] 2025-04-07 04:36:16,992 Writing events to file evt_062.fits.\n",
      "soxs : [INFO     ] 2025-04-07 04:36:17,372 Observation complete.\n",
      "soxs : [INFO     ] 2025-04-07 04:36:18,958 Making observation of source in evt_064.fits.\n"
     ]
    },
    {
     "name": "stdout",
     "output_type": "stream",
     "text": [
      "✅ Saved: plot_062.png\n",
      "❌ File not found: ../../Data/X-rays/IllustrisTNG/1P/1P_1_0/snap_032/IllustrisTNG.1P_5.snap_032.halo_063.100ks.z0.05.z_simput.fits\n",
      "🔄 Simulating for IllustrisTNG.1P_5.snap_032.halo_064.100ks.z0.05.z_simput.fits...\n"
     ]
    },
    {
     "name": "stderr",
     "output_type": "stream",
     "text": [
      "soxs : [INFO     ] 2025-04-07 04:36:20,317 Detecting events from source IllustrisTNG.1P_5.snap_032.halo_064.100ks.z0.05.z.\n",
      "soxs : [INFO     ] 2025-04-07 04:36:20,319 Applying energy-dependent effective area from lem_300522.arf.\n",
      "soxs : [INFO     ] 2025-04-07 04:36:20,320 Pixeling events.\n",
      "soxs : [INFO     ] 2025-04-07 04:36:20,321 Scattering events with a gaussian-based PSF.\n",
      "soxs : [INFO     ] 2025-04-07 04:36:20,323 203 events were detected from the source.\n",
      "soxs : [INFO     ] 2025-04-07 04:36:20,324 Scattering energies with RMF lem_2.5ev_110422.rmf.\n"
     ]
    },
    {
     "data": {
      "application/vnd.jupyter.widget-view+json": {
       "model_id": "052fcb84a91f4444a3dfcccd267e0a1e",
       "version_major": 2,
       "version_minor": 0
      },
      "text/plain": [
       "Scattering energies :   0%|          | 0/203 [00:00<?, ?it/s]"
      ]
     },
     "metadata": {},
     "output_type": "display_data"
    },
    {
     "name": "stderr",
     "output_type": "stream",
     "text": [
      "soxs : [INFO     ] 2025-04-07 04:36:20,549 Adding background events.\n",
      "soxs : [INFO     ] 2025-04-07 04:36:21,880 Adding in instrumental background.\n",
      "soxs : [INFO     ] 2025-04-07 04:36:22,030 Making 340567 events from the instrumental background.\n",
      "soxs : [INFO     ] 2025-04-07 04:36:22,176 Writing events to file evt_064.fits.\n",
      "soxs : [INFO     ] 2025-04-07 04:36:22,477 Observation complete.\n",
      "soxs : [INFO     ] 2025-04-07 04:36:24,017 Making observation of source in evt_065.fits.\n"
     ]
    },
    {
     "name": "stdout",
     "output_type": "stream",
     "text": [
      "✅ Saved: plot_064.png\n",
      "🔄 Simulating for IllustrisTNG.1P_5.snap_032.halo_065.100ks.z0.05.z_simput.fits...\n"
     ]
    },
    {
     "name": "stderr",
     "output_type": "stream",
     "text": [
      "soxs : [INFO     ] 2025-04-07 04:36:25,347 Detecting events from source IllustrisTNG.1P_5.snap_032.halo_065.100ks.z0.05.z.\n",
      "soxs : [INFO     ] 2025-04-07 04:36:25,348 Applying energy-dependent effective area from lem_300522.arf.\n",
      "soxs : [INFO     ] 2025-04-07 04:36:25,350 Pixeling events.\n",
      "soxs : [INFO     ] 2025-04-07 04:36:25,351 Scattering events with a gaussian-based PSF.\n",
      "soxs : [INFO     ] 2025-04-07 04:36:25,352 104 events were detected from the source.\n",
      "soxs : [INFO     ] 2025-04-07 04:36:25,353 Scattering energies with RMF lem_2.5ev_110422.rmf.\n"
     ]
    },
    {
     "data": {
      "application/vnd.jupyter.widget-view+json": {
       "model_id": "e701ddd6017245c49f953d2a47b5d712",
       "version_major": 2,
       "version_minor": 0
      },
      "text/plain": [
       "Scattering energies :   0%|          | 0/104 [00:00<?, ?it/s]"
      ]
     },
     "metadata": {},
     "output_type": "display_data"
    },
    {
     "name": "stderr",
     "output_type": "stream",
     "text": [
      "soxs : [INFO     ] 2025-04-07 04:36:25,502 Adding background events.\n",
      "soxs : [INFO     ] 2025-04-07 04:36:26,815 Adding in instrumental background.\n",
      "soxs : [INFO     ] 2025-04-07 04:36:26,986 Making 341133 events from the instrumental background.\n",
      "soxs : [INFO     ] 2025-04-07 04:36:27,091 Writing events to file evt_065.fits.\n",
      "soxs : [INFO     ] 2025-04-07 04:36:27,509 Observation complete.\n",
      "soxs : [INFO     ] 2025-04-07 04:36:29,296 Making observation of source in evt_066.fits.\n"
     ]
    },
    {
     "name": "stdout",
     "output_type": "stream",
     "text": [
      "✅ Saved: plot_065.png\n",
      "🔄 Simulating for IllustrisTNG.1P_5.snap_032.halo_066.100ks.z0.05.z_simput.fits...\n"
     ]
    },
    {
     "name": "stderr",
     "output_type": "stream",
     "text": [
      "soxs : [INFO     ] 2025-04-07 04:36:30,782 Detecting events from source IllustrisTNG.1P_5.snap_032.halo_066.100ks.z0.05.z.\n",
      "soxs : [INFO     ] 2025-04-07 04:36:30,784 Applying energy-dependent effective area from lem_300522.arf.\n",
      "soxs : [INFO     ] 2025-04-07 04:36:30,786 Pixeling events.\n",
      "soxs : [INFO     ] 2025-04-07 04:36:30,787 Scattering events with a gaussian-based PSF.\n",
      "soxs : [INFO     ] 2025-04-07 04:36:30,789 953 events were detected from the source.\n",
      "soxs : [INFO     ] 2025-04-07 04:36:30,790 Scattering energies with RMF lem_2.5ev_110422.rmf.\n"
     ]
    },
    {
     "data": {
      "application/vnd.jupyter.widget-view+json": {
       "model_id": "aca48251b28e4e3692d39eaa5011a276",
       "version_major": 2,
       "version_minor": 0
      },
      "text/plain": [
       "Scattering energies :   0%|          | 0/953 [00:00<?, ?it/s]"
      ]
     },
     "metadata": {},
     "output_type": "display_data"
    },
    {
     "name": "stderr",
     "output_type": "stream",
     "text": [
      "soxs : [INFO     ] 2025-04-07 04:36:31,315 Adding background events.\n",
      "soxs : [INFO     ] 2025-04-07 04:36:32,629 Adding in instrumental background.\n",
      "soxs : [INFO     ] 2025-04-07 04:36:32,779 Making 341530 events from the instrumental background.\n",
      "soxs : [INFO     ] 2025-04-07 04:36:32,885 Writing events to file evt_066.fits.\n",
      "soxs : [INFO     ] 2025-04-07 04:36:33,320 Observation complete.\n",
      "soxs : [INFO     ] 2025-04-07 04:36:35,035 Making observation of source in evt_067.fits.\n"
     ]
    },
    {
     "name": "stdout",
     "output_type": "stream",
     "text": [
      "✅ Saved: plot_066.png\n",
      "🔄 Simulating for IllustrisTNG.1P_5.snap_032.halo_067.100ks.z0.05.z_simput.fits...\n"
     ]
    },
    {
     "name": "stderr",
     "output_type": "stream",
     "text": [
      "soxs : [INFO     ] 2025-04-07 04:36:36,494 Detecting events from source IllustrisTNG.1P_5.snap_032.halo_067.100ks.z0.05.z.\n",
      "soxs : [INFO     ] 2025-04-07 04:36:36,495 Applying energy-dependent effective area from lem_300522.arf.\n",
      "soxs : [INFO     ] 2025-04-07 04:36:36,497 Pixeling events.\n",
      "soxs : [INFO     ] 2025-04-07 04:36:36,498 Scattering events with a gaussian-based PSF.\n",
      "soxs : [INFO     ] 2025-04-07 04:36:36,500 537 events were detected from the source.\n",
      "soxs : [INFO     ] 2025-04-07 04:36:36,501 Scattering energies with RMF lem_2.5ev_110422.rmf.\n"
     ]
    },
    {
     "data": {
      "application/vnd.jupyter.widget-view+json": {
       "model_id": "19c5a5b40a65472dae2625993d063c19",
       "version_major": 2,
       "version_minor": 0
      },
      "text/plain": [
       "Scattering energies :   0%|          | 0/537 [00:00<?, ?it/s]"
      ]
     },
     "metadata": {},
     "output_type": "display_data"
    },
    {
     "name": "stderr",
     "output_type": "stream",
     "text": [
      "soxs : [INFO     ] 2025-04-07 04:36:36,916 Adding background events.\n",
      "soxs : [INFO     ] 2025-04-07 04:36:38,308 Adding in instrumental background.\n",
      "soxs : [INFO     ] 2025-04-07 04:36:38,472 Making 342048 events from the instrumental background.\n",
      "soxs : [INFO     ] 2025-04-07 04:36:38,586 Writing events to file evt_067.fits.\n",
      "soxs : [INFO     ] 2025-04-07 04:36:39,125 Observation complete.\n",
      "soxs : [INFO     ] 2025-04-07 04:36:40,838 Making observation of source in evt_068.fits.\n"
     ]
    },
    {
     "name": "stdout",
     "output_type": "stream",
     "text": [
      "✅ Saved: plot_067.png\n",
      "🔄 Simulating for IllustrisTNG.1P_5.snap_032.halo_068.100ks.z0.05.z_simput.fits...\n"
     ]
    },
    {
     "name": "stderr",
     "output_type": "stream",
     "text": [
      "soxs : [INFO     ] 2025-04-07 04:36:42,304 Detecting events from source IllustrisTNG.1P_5.snap_032.halo_068.100ks.z0.05.z.\n",
      "soxs : [INFO     ] 2025-04-07 04:36:42,305 Applying energy-dependent effective area from lem_300522.arf.\n",
      "soxs : [INFO     ] 2025-04-07 04:36:42,307 Pixeling events.\n",
      "soxs : [INFO     ] 2025-04-07 04:36:42,308 Scattering events with a gaussian-based PSF.\n",
      "soxs : [INFO     ] 2025-04-07 04:36:42,310 612 events were detected from the source.\n",
      "soxs : [INFO     ] 2025-04-07 04:36:42,311 Scattering energies with RMF lem_2.5ev_110422.rmf.\n"
     ]
    },
    {
     "data": {
      "application/vnd.jupyter.widget-view+json": {
       "model_id": "3543d4d7e16d4484a323c6da4940a497",
       "version_major": 2,
       "version_minor": 0
      },
      "text/plain": [
       "Scattering energies :   0%|          | 0/612 [00:00<?, ?it/s]"
      ]
     },
     "metadata": {},
     "output_type": "display_data"
    },
    {
     "name": "stderr",
     "output_type": "stream",
     "text": [
      "soxs : [INFO     ] 2025-04-07 04:36:42,724 Adding background events.\n",
      "soxs : [INFO     ] 2025-04-07 04:36:44,099 Adding in instrumental background.\n",
      "soxs : [INFO     ] 2025-04-07 04:36:44,269 Making 341092 events from the instrumental background.\n",
      "soxs : [INFO     ] 2025-04-07 04:36:44,385 Writing events to file evt_068.fits.\n",
      "soxs : [INFO     ] 2025-04-07 04:36:44,898 Observation complete.\n",
      "soxs : [INFO     ] 2025-04-07 04:36:46,747 Making observation of source in evt_069.fits.\n"
     ]
    },
    {
     "name": "stdout",
     "output_type": "stream",
     "text": [
      "✅ Saved: plot_068.png\n",
      "🔄 Simulating for IllustrisTNG.1P_5.snap_032.halo_069.100ks.z0.05.z_simput.fits...\n"
     ]
    },
    {
     "name": "stderr",
     "output_type": "stream",
     "text": [
      "soxs : [INFO     ] 2025-04-07 04:36:48,208 Detecting events from source IllustrisTNG.1P_5.snap_032.halo_069.100ks.z0.05.z.\n",
      "soxs : [INFO     ] 2025-04-07 04:36:48,210 Applying energy-dependent effective area from lem_300522.arf.\n",
      "soxs : [INFO     ] 2025-04-07 04:36:48,211 Pixeling events.\n",
      "soxs : [INFO     ] 2025-04-07 04:36:48,212 Scattering events with a gaussian-based PSF.\n",
      "soxs : [INFO     ] 2025-04-07 04:36:48,214 56 events were detected from the source.\n",
      "soxs : [INFO     ] 2025-04-07 04:36:48,215 Scattering energies with RMF lem_2.5ev_110422.rmf.\n"
     ]
    },
    {
     "data": {
      "application/vnd.jupyter.widget-view+json": {
       "model_id": "fe7d050114ea4fb8a8318e4c54e4da48",
       "version_major": 2,
       "version_minor": 0
      },
      "text/plain": [
       "Scattering energies :   0%|          | 0/56 [00:00<?, ?it/s]"
      ]
     },
     "metadata": {},
     "output_type": "display_data"
    },
    {
     "name": "stderr",
     "output_type": "stream",
     "text": [
      "soxs : [INFO     ] 2025-04-07 04:36:48,342 Adding background events.\n",
      "soxs : [INFO     ] 2025-04-07 04:36:49,726 Adding in instrumental background.\n",
      "soxs : [INFO     ] 2025-04-07 04:36:49,895 Making 340664 events from the instrumental background.\n",
      "soxs : [INFO     ] 2025-04-07 04:36:49,992 Writing events to file evt_069.fits.\n",
      "soxs : [INFO     ] 2025-04-07 04:36:50,504 Observation complete.\n",
      "soxs : [INFO     ] 2025-04-07 04:36:52,439 Making observation of source in evt_070.fits.\n"
     ]
    },
    {
     "name": "stdout",
     "output_type": "stream",
     "text": [
      "✅ Saved: plot_069.png\n",
      "🔄 Simulating for IllustrisTNG.1P_5.snap_032.halo_070.100ks.z0.05.z_simput.fits...\n"
     ]
    },
    {
     "name": "stderr",
     "output_type": "stream",
     "text": [
      "soxs : [INFO     ] 2025-04-07 04:36:53,966 Detecting events from source IllustrisTNG.1P_5.snap_032.halo_070.100ks.z0.05.z.\n",
      "soxs : [INFO     ] 2025-04-07 04:36:53,968 Applying energy-dependent effective area from lem_300522.arf.\n",
      "soxs : [INFO     ] 2025-04-07 04:36:53,970 Pixeling events.\n",
      "soxs : [INFO     ] 2025-04-07 04:36:53,971 Scattering events with a gaussian-based PSF.\n",
      "soxs : [INFO     ] 2025-04-07 04:36:53,973 803 events were detected from the source.\n",
      "soxs : [INFO     ] 2025-04-07 04:36:53,974 Scattering energies with RMF lem_2.5ev_110422.rmf.\n"
     ]
    },
    {
     "data": {
      "application/vnd.jupyter.widget-view+json": {
       "model_id": "6a92f421b1974ad0b72701c2ed43a470",
       "version_major": 2,
       "version_minor": 0
      },
      "text/plain": [
       "Scattering energies :   0%|          | 0/803 [00:00<?, ?it/s]"
      ]
     },
     "metadata": {},
     "output_type": "display_data"
    },
    {
     "name": "stderr",
     "output_type": "stream",
     "text": [
      "soxs : [INFO     ] 2025-04-07 04:36:54,480 Adding background events.\n",
      "soxs : [INFO     ] 2025-04-07 04:36:55,841 Adding in instrumental background.\n",
      "soxs : [INFO     ] 2025-04-07 04:36:56,007 Making 340956 events from the instrumental background.\n",
      "soxs : [INFO     ] 2025-04-07 04:36:56,176 Writing events to file evt_070.fits.\n",
      "soxs : [INFO     ] 2025-04-07 04:36:56,632 Observation complete.\n",
      "soxs : [INFO     ] 2025-04-07 04:36:58,600 Making observation of source in evt_072.fits.\n"
     ]
    },
    {
     "name": "stdout",
     "output_type": "stream",
     "text": [
      "✅ Saved: plot_070.png\n",
      "❌ File not found: ../../Data/X-rays/IllustrisTNG/1P/1P_1_0/snap_032/IllustrisTNG.1P_5.snap_032.halo_071.100ks.z0.05.z_simput.fits\n",
      "🔄 Simulating for IllustrisTNG.1P_5.snap_032.halo_072.100ks.z0.05.z_simput.fits...\n"
     ]
    },
    {
     "name": "stderr",
     "output_type": "stream",
     "text": [
      "soxs : [INFO     ] 2025-04-07 04:37:00,072 Detecting events from source IllustrisTNG.1P_5.snap_032.halo_072.100ks.z0.05.z.\n",
      "soxs : [INFO     ] 2025-04-07 04:37:00,073 Applying energy-dependent effective area from lem_300522.arf.\n",
      "soxs : [INFO     ] 2025-04-07 04:37:00,075 Pixeling events.\n",
      "soxs : [INFO     ] 2025-04-07 04:37:00,076 Scattering events with a gaussian-based PSF.\n",
      "soxs : [INFO     ] 2025-04-07 04:37:00,077 373 events were detected from the source.\n",
      "soxs : [INFO     ] 2025-04-07 04:37:00,079 Scattering energies with RMF lem_2.5ev_110422.rmf.\n"
     ]
    },
    {
     "data": {
      "application/vnd.jupyter.widget-view+json": {
       "model_id": "1e82b71af2534c43b08fb83681942692",
       "version_major": 2,
       "version_minor": 0
      },
      "text/plain": [
       "Scattering energies :   0%|          | 0/373 [00:00<?, ?it/s]"
      ]
     },
     "metadata": {},
     "output_type": "display_data"
    },
    {
     "name": "stderr",
     "output_type": "stream",
     "text": [
      "soxs : [INFO     ] 2025-04-07 04:37:00,399 Adding background events.\n",
      "soxs : [INFO     ] 2025-04-07 04:37:01,774 Adding in instrumental background.\n",
      "soxs : [INFO     ] 2025-04-07 04:37:01,933 Making 340766 events from the instrumental background.\n",
      "soxs : [INFO     ] 2025-04-07 04:37:02,081 Writing events to file evt_072.fits.\n",
      "soxs : [INFO     ] 2025-04-07 04:37:02,536 Observation complete.\n",
      "soxs : [INFO     ] 2025-04-07 04:37:04,388 Making observation of source in evt_073.fits.\n"
     ]
    },
    {
     "name": "stdout",
     "output_type": "stream",
     "text": [
      "✅ Saved: plot_072.png\n",
      "🔄 Simulating for IllustrisTNG.1P_5.snap_032.halo_073.100ks.z0.05.z_simput.fits...\n"
     ]
    },
    {
     "name": "stderr",
     "output_type": "stream",
     "text": [
      "soxs : [INFO     ] 2025-04-07 04:37:05,859 Detecting events from source IllustrisTNG.1P_5.snap_032.halo_073.100ks.z0.05.z.\n",
      "soxs : [INFO     ] 2025-04-07 04:37:05,860 Applying energy-dependent effective area from lem_300522.arf.\n",
      "soxs : [INFO     ] 2025-04-07 04:37:05,862 Pixeling events.\n",
      "soxs : [INFO     ] 2025-04-07 04:37:05,863 Scattering events with a gaussian-based PSF.\n",
      "soxs : [INFO     ] 2025-04-07 04:37:05,864 246 events were detected from the source.\n",
      "soxs : [INFO     ] 2025-04-07 04:37:05,865 Scattering energies with RMF lem_2.5ev_110422.rmf.\n"
     ]
    },
    {
     "data": {
      "application/vnd.jupyter.widget-view+json": {
       "model_id": "838ddc80d5af4c85a8645a7bf8febab3",
       "version_major": 2,
       "version_minor": 0
      },
      "text/plain": [
       "Scattering energies :   0%|          | 0/246 [00:00<?, ?it/s]"
      ]
     },
     "metadata": {},
     "output_type": "display_data"
    },
    {
     "name": "stderr",
     "output_type": "stream",
     "text": [
      "soxs : [INFO     ] 2025-04-07 04:37:06,134 Adding background events.\n",
      "soxs : [INFO     ] 2025-04-07 04:37:07,525 Adding in instrumental background.\n",
      "soxs : [INFO     ] 2025-04-07 04:37:07,693 Making 340656 events from the instrumental background.\n",
      "soxs : [INFO     ] 2025-04-07 04:37:07,792 Writing events to file evt_073.fits.\n",
      "soxs : [INFO     ] 2025-04-07 04:37:08,339 Observation complete.\n",
      "soxs : [INFO     ] 2025-04-07 04:37:10,133 Making observation of source in evt_074.fits.\n"
     ]
    },
    {
     "name": "stdout",
     "output_type": "stream",
     "text": [
      "✅ Saved: plot_073.png\n",
      "🔄 Simulating for IllustrisTNG.1P_5.snap_032.halo_074.100ks.z0.05.z_simput.fits...\n"
     ]
    },
    {
     "name": "stderr",
     "output_type": "stream",
     "text": [
      "soxs : [INFO     ] 2025-04-07 04:37:11,590 Detecting events from source IllustrisTNG.1P_5.snap_032.halo_074.100ks.z0.05.z.\n",
      "soxs : [INFO     ] 2025-04-07 04:37:11,591 Applying energy-dependent effective area from lem_300522.arf.\n",
      "soxs : [INFO     ] 2025-04-07 04:37:11,593 Pixeling events.\n",
      "soxs : [INFO     ] 2025-04-07 04:37:11,594 Scattering events with a gaussian-based PSF.\n",
      "soxs : [INFO     ] 2025-04-07 04:37:11,596 396 events were detected from the source.\n",
      "soxs : [INFO     ] 2025-04-07 04:37:11,597 Scattering energies with RMF lem_2.5ev_110422.rmf.\n"
     ]
    },
    {
     "data": {
      "application/vnd.jupyter.widget-view+json": {
       "model_id": "54367c3311134897b6a194d2a246cc25",
       "version_major": 2,
       "version_minor": 0
      },
      "text/plain": [
       "Scattering energies :   0%|          | 0/396 [00:00<?, ?it/s]"
      ]
     },
     "metadata": {},
     "output_type": "display_data"
    },
    {
     "name": "stderr",
     "output_type": "stream",
     "text": [
      "soxs : [INFO     ] 2025-04-07 04:37:11,951 Adding background events.\n",
      "soxs : [INFO     ] 2025-04-07 04:37:13,340 Adding in instrumental background.\n",
      "soxs : [INFO     ] 2025-04-07 04:37:13,500 Making 341436 events from the instrumental background.\n",
      "soxs : [INFO     ] 2025-04-07 04:37:13,675 Writing events to file evt_074.fits.\n",
      "soxs : [INFO     ] 2025-04-07 04:37:14,146 Observation complete.\n",
      "soxs : [INFO     ] 2025-04-07 04:37:16,007 Making observation of source in evt_075.fits.\n"
     ]
    },
    {
     "name": "stdout",
     "output_type": "stream",
     "text": [
      "✅ Saved: plot_074.png\n",
      "🔄 Simulating for IllustrisTNG.1P_5.snap_032.halo_075.100ks.z0.05.z_simput.fits...\n"
     ]
    },
    {
     "name": "stderr",
     "output_type": "stream",
     "text": [
      "soxs : [INFO     ] 2025-04-07 04:37:17,437 Detecting events from source IllustrisTNG.1P_5.snap_032.halo_075.100ks.z0.05.z.\n",
      "soxs : [INFO     ] 2025-04-07 04:37:17,438 Applying energy-dependent effective area from lem_300522.arf.\n",
      "soxs : [INFO     ] 2025-04-07 04:37:17,440 Pixeling events.\n",
      "soxs : [INFO     ] 2025-04-07 04:37:17,441 Scattering events with a gaussian-based PSF.\n",
      "soxs : [INFO     ] 2025-04-07 04:37:17,442 280 events were detected from the source.\n",
      "soxs : [INFO     ] 2025-04-07 04:37:17,443 Scattering energies with RMF lem_2.5ev_110422.rmf.\n"
     ]
    },
    {
     "data": {
      "application/vnd.jupyter.widget-view+json": {
       "model_id": "72c834d64f9446878d944c65f2ca1805",
       "version_major": 2,
       "version_minor": 0
      },
      "text/plain": [
       "Scattering energies :   0%|          | 0/280 [00:00<?, ?it/s]"
      ]
     },
     "metadata": {},
     "output_type": "display_data"
    },
    {
     "name": "stderr",
     "output_type": "stream",
     "text": [
      "soxs : [INFO     ] 2025-04-07 04:37:17,715 Adding background events.\n",
      "soxs : [INFO     ] 2025-04-07 04:37:19,105 Adding in instrumental background.\n",
      "soxs : [INFO     ] 2025-04-07 04:37:19,273 Making 342749 events from the instrumental background.\n",
      "soxs : [INFO     ] 2025-04-07 04:37:19,388 Writing events to file evt_075.fits.\n",
      "soxs : [INFO     ] 2025-04-07 04:37:19,822 Observation complete.\n",
      "soxs : [INFO     ] 2025-04-07 04:37:22,277 Making observation of source in evt_076.fits.\n"
     ]
    },
    {
     "name": "stdout",
     "output_type": "stream",
     "text": [
      "✅ Saved: plot_075.png\n",
      "🔄 Simulating for IllustrisTNG.1P_5.snap_032.halo_076.100ks.z0.05.z_simput.fits...\n"
     ]
    },
    {
     "name": "stderr",
     "output_type": "stream",
     "text": [
      "soxs : [INFO     ] 2025-04-07 04:37:23,632 Detecting events from source IllustrisTNG.1P_5.snap_032.halo_076.100ks.z0.05.z.\n",
      "soxs : [INFO     ] 2025-04-07 04:37:23,633 Applying energy-dependent effective area from lem_300522.arf.\n",
      "soxs : [INFO     ] 2025-04-07 04:37:23,634 Pixeling events.\n",
      "soxs : [INFO     ] 2025-04-07 04:37:23,635 Scattering events with a gaussian-based PSF.\n",
      "soxs : [INFO     ] 2025-04-07 04:37:23,637 78 events were detected from the source.\n",
      "soxs : [INFO     ] 2025-04-07 04:37:23,638 Scattering energies with RMF lem_2.5ev_110422.rmf.\n"
     ]
    },
    {
     "data": {
      "application/vnd.jupyter.widget-view+json": {
       "model_id": "403c7d6f0966425e86d9c8ad5c730d7f",
       "version_major": 2,
       "version_minor": 0
      },
      "text/plain": [
       "Scattering energies :   0%|          | 0/78 [00:00<?, ?it/s]"
      ]
     },
     "metadata": {},
     "output_type": "display_data"
    },
    {
     "name": "stderr",
     "output_type": "stream",
     "text": [
      "soxs : [INFO     ] 2025-04-07 04:37:23,823 Adding background events.\n",
      "soxs : [INFO     ] 2025-04-07 04:37:25,121 Adding in instrumental background.\n",
      "soxs : [INFO     ] 2025-04-07 04:37:25,275 Making 341372 events from the instrumental background.\n",
      "soxs : [INFO     ] 2025-04-07 04:37:25,381 Writing events to file evt_076.fits.\n",
      "soxs : [INFO     ] 2025-04-07 04:37:25,751 Observation complete.\n",
      "soxs : [INFO     ] 2025-04-07 04:37:27,257 Making observation of source in evt_077.fits.\n"
     ]
    },
    {
     "name": "stdout",
     "output_type": "stream",
     "text": [
      "✅ Saved: plot_076.png\n",
      "🔄 Simulating for IllustrisTNG.1P_5.snap_032.halo_077.100ks.z0.05.z_simput.fits...\n"
     ]
    },
    {
     "name": "stderr",
     "output_type": "stream",
     "text": [
      "soxs : [INFO     ] 2025-04-07 04:37:28,580 Detecting events from source IllustrisTNG.1P_5.snap_032.halo_077.100ks.z0.05.z.\n",
      "soxs : [INFO     ] 2025-04-07 04:37:28,581 Applying energy-dependent effective area from lem_300522.arf.\n",
      "soxs : [INFO     ] 2025-04-07 04:37:28,584 Pixeling events.\n",
      "soxs : [INFO     ] 2025-04-07 04:37:28,586 Scattering events with a gaussian-based PSF.\n",
      "soxs : [INFO     ] 2025-04-07 04:37:28,588 4734 events were detected from the source.\n",
      "soxs : [INFO     ] 2025-04-07 04:37:28,590 Scattering energies with RMF lem_2.5ev_110422.rmf.\n"
     ]
    },
    {
     "data": {
      "application/vnd.jupyter.widget-view+json": {
       "model_id": "45a14320702e49c2afef45b52e8c4fbf",
       "version_major": 2,
       "version_minor": 0
      },
      "text/plain": [
       "Scattering energies :   0%|          | 0/4734 [00:00<?, ?it/s]"
      ]
     },
     "metadata": {},
     "output_type": "display_data"
    },
    {
     "name": "stderr",
     "output_type": "stream",
     "text": [
      "soxs : [INFO     ] 2025-04-07 04:37:30,081 Adding background events.\n",
      "soxs : [INFO     ] 2025-04-07 04:37:31,359 Adding in instrumental background.\n",
      "soxs : [INFO     ] 2025-04-07 04:37:31,503 Making 340651 events from the instrumental background.\n",
      "soxs : [INFO     ] 2025-04-07 04:37:31,592 Writing events to file evt_077.fits.\n",
      "soxs : [INFO     ] 2025-04-07 04:37:31,966 Observation complete.\n",
      "soxs : [INFO     ] 2025-04-07 04:37:33,486 Making observation of source in evt_078.fits.\n"
     ]
    },
    {
     "name": "stdout",
     "output_type": "stream",
     "text": [
      "✅ Saved: plot_077.png\n",
      "🔄 Simulating for IllustrisTNG.1P_5.snap_032.halo_078.100ks.z0.05.z_simput.fits...\n"
     ]
    },
    {
     "name": "stderr",
     "output_type": "stream",
     "text": [
      "soxs : [INFO     ] 2025-04-07 04:37:34,804 Detecting events from source IllustrisTNG.1P_5.snap_032.halo_078.100ks.z0.05.z.\n",
      "soxs : [INFO     ] 2025-04-07 04:37:34,806 Applying energy-dependent effective area from lem_300522.arf.\n",
      "soxs : [INFO     ] 2025-04-07 04:37:34,808 Pixeling events.\n",
      "soxs : [INFO     ] 2025-04-07 04:37:34,809 Scattering events with a gaussian-based PSF.\n",
      "soxs : [INFO     ] 2025-04-07 04:37:34,810 288 events were detected from the source.\n",
      "soxs : [INFO     ] 2025-04-07 04:37:34,811 Scattering energies with RMF lem_2.5ev_110422.rmf.\n"
     ]
    },
    {
     "data": {
      "application/vnd.jupyter.widget-view+json": {
       "model_id": "025ce646508e463b9cae295a16faea59",
       "version_major": 2,
       "version_minor": 0
      },
      "text/plain": [
       "Scattering energies :   0%|          | 0/288 [00:00<?, ?it/s]"
      ]
     },
     "metadata": {},
     "output_type": "display_data"
    },
    {
     "name": "stderr",
     "output_type": "stream",
     "text": [
      "soxs : [INFO     ] 2025-04-07 04:37:35,100 Adding background events.\n",
      "soxs : [INFO     ] 2025-04-07 04:37:36,424 Adding in instrumental background.\n",
      "soxs : [INFO     ] 2025-04-07 04:37:36,580 Making 341157 events from the instrumental background.\n",
      "soxs : [INFO     ] 2025-04-07 04:37:36,685 Writing events to file evt_078.fits.\n",
      "soxs : [INFO     ] 2025-04-07 04:37:37,056 Observation complete.\n",
      "soxs : [INFO     ] 2025-04-07 04:37:38,596 Making observation of source in evt_079.fits.\n"
     ]
    },
    {
     "name": "stdout",
     "output_type": "stream",
     "text": [
      "✅ Saved: plot_078.png\n",
      "🔄 Simulating for IllustrisTNG.1P_5.snap_032.halo_079.100ks.z0.05.z_simput.fits...\n"
     ]
    },
    {
     "name": "stderr",
     "output_type": "stream",
     "text": [
      "soxs : [INFO     ] 2025-04-07 04:37:39,918 Detecting events from source IllustrisTNG.1P_5.snap_032.halo_079.100ks.z0.05.z.\n",
      "soxs : [INFO     ] 2025-04-07 04:37:39,919 Applying energy-dependent effective area from lem_300522.arf.\n",
      "soxs : [INFO     ] 2025-04-07 04:37:39,921 Pixeling events.\n",
      "soxs : [INFO     ] 2025-04-07 04:37:39,923 Scattering events with a gaussian-based PSF.\n",
      "soxs : [INFO     ] 2025-04-07 04:37:39,925 2748 events were detected from the source.\n",
      "soxs : [INFO     ] 2025-04-07 04:37:39,927 Scattering energies with RMF lem_2.5ev_110422.rmf.\n"
     ]
    },
    {
     "data": {
      "application/vnd.jupyter.widget-view+json": {
       "model_id": "c5b2e041b93b437ab4e1ba3f1973d1f9",
       "version_major": 2,
       "version_minor": 0
      },
      "text/plain": [
       "Scattering energies :   0%|          | 0/2748 [00:00<?, ?it/s]"
      ]
     },
     "metadata": {},
     "output_type": "display_data"
    },
    {
     "name": "stderr",
     "output_type": "stream",
     "text": [
      "soxs : [INFO     ] 2025-04-07 04:37:40,944 Adding background events.\n",
      "soxs : [INFO     ] 2025-04-07 04:37:42,307 Adding in instrumental background.\n",
      "soxs : [INFO     ] 2025-04-07 04:37:42,460 Making 341461 events from the instrumental background.\n",
      "soxs : [INFO     ] 2025-04-07 04:37:42,583 Writing events to file evt_079.fits.\n",
      "soxs : [INFO     ] 2025-04-07 04:37:42,950 Observation complete.\n",
      "soxs : [INFO     ] 2025-04-07 04:37:44,529 Making observation of source in evt_080.fits.\n"
     ]
    },
    {
     "name": "stdout",
     "output_type": "stream",
     "text": [
      "✅ Saved: plot_079.png\n",
      "🔄 Simulating for IllustrisTNG.1P_5.snap_032.halo_080.100ks.z0.05.z_simput.fits...\n"
     ]
    },
    {
     "name": "stderr",
     "output_type": "stream",
     "text": [
      "soxs : [INFO     ] 2025-04-07 04:37:45,943 Detecting events from source IllustrisTNG.1P_5.snap_032.halo_080.100ks.z0.05.z.\n",
      "soxs : [INFO     ] 2025-04-07 04:37:45,945 Applying energy-dependent effective area from lem_300522.arf.\n",
      "soxs : [INFO     ] 2025-04-07 04:37:45,947 Pixeling events.\n",
      "soxs : [INFO     ] 2025-04-07 04:37:45,949 Scattering events with a gaussian-based PSF.\n",
      "soxs : [INFO     ] 2025-04-07 04:37:45,951 2655 events were detected from the source.\n",
      "soxs : [INFO     ] 2025-04-07 04:37:45,952 Scattering energies with RMF lem_2.5ev_110422.rmf.\n"
     ]
    },
    {
     "data": {
      "application/vnd.jupyter.widget-view+json": {
       "model_id": "db670ca3e2644d4e98f74ec3f87ade45",
       "version_major": 2,
       "version_minor": 0
      },
      "text/plain": [
       "Scattering energies :   0%|          | 0/2655 [00:00<?, ?it/s]"
      ]
     },
     "metadata": {},
     "output_type": "display_data"
    },
    {
     "name": "stderr",
     "output_type": "stream",
     "text": [
      "soxs : [INFO     ] 2025-04-07 04:37:46,982 Adding background events.\n",
      "soxs : [INFO     ] 2025-04-07 04:37:48,331 Adding in instrumental background.\n",
      "soxs : [INFO     ] 2025-04-07 04:37:48,487 Making 342048 events from the instrumental background.\n",
      "soxs : [INFO     ] 2025-04-07 04:37:48,590 Writing events to file evt_080.fits.\n",
      "soxs : [INFO     ] 2025-04-07 04:37:48,974 Observation complete.\n",
      "soxs : [INFO     ] 2025-04-07 04:37:50,615 Making observation of source in evt_081.fits.\n"
     ]
    },
    {
     "name": "stdout",
     "output_type": "stream",
     "text": [
      "✅ Saved: plot_080.png\n",
      "🔄 Simulating for IllustrisTNG.1P_5.snap_032.halo_081.100ks.z0.05.z_simput.fits...\n"
     ]
    },
    {
     "name": "stderr",
     "output_type": "stream",
     "text": [
      "soxs : [INFO     ] 2025-04-07 04:37:52,023 Detecting events from source IllustrisTNG.1P_5.snap_032.halo_081.100ks.z0.05.z.\n",
      "soxs : [INFO     ] 2025-04-07 04:37:52,024 Applying energy-dependent effective area from lem_300522.arf.\n",
      "soxs : [INFO     ] 2025-04-07 04:37:52,026 Pixeling events.\n",
      "soxs : [INFO     ] 2025-04-07 04:37:52,027 Scattering events with a gaussian-based PSF.\n",
      "soxs : [INFO     ] 2025-04-07 04:37:52,029 91 events were detected from the source.\n",
      "soxs : [INFO     ] 2025-04-07 04:37:52,030 Scattering energies with RMF lem_2.5ev_110422.rmf.\n"
     ]
    },
    {
     "data": {
      "application/vnd.jupyter.widget-view+json": {
       "model_id": "076e46e05ce842f8a3ff2bf865fc5d5b",
       "version_major": 2,
       "version_minor": 0
      },
      "text/plain": [
       "Scattering energies :   0%|          | 0/91 [00:00<?, ?it/s]"
      ]
     },
     "metadata": {},
     "output_type": "display_data"
    },
    {
     "name": "stderr",
     "output_type": "stream",
     "text": [
      "soxs : [INFO     ] 2025-04-07 04:37:52,187 Adding background events.\n",
      "soxs : [INFO     ] 2025-04-07 04:37:53,603 Adding in instrumental background.\n",
      "soxs : [INFO     ] 2025-04-07 04:37:53,766 Making 340898 events from the instrumental background.\n",
      "soxs : [INFO     ] 2025-04-07 04:37:53,888 Writing events to file evt_081.fits.\n",
      "soxs : [INFO     ] 2025-04-07 04:37:54,270 Observation complete.\n",
      "soxs : [INFO     ] 2025-04-07 04:37:55,957 Making observation of source in evt_083.fits.\n"
     ]
    },
    {
     "name": "stdout",
     "output_type": "stream",
     "text": [
      "✅ Saved: plot_081.png\n",
      "❌ File not found: ../../Data/X-rays/IllustrisTNG/1P/1P_1_0/snap_032/IllustrisTNG.1P_5.snap_032.halo_082.100ks.z0.05.z_simput.fits\n",
      "🔄 Simulating for IllustrisTNG.1P_5.snap_032.halo_083.100ks.z0.05.z_simput.fits...\n"
     ]
    },
    {
     "name": "stderr",
     "output_type": "stream",
     "text": [
      "soxs : [INFO     ] 2025-04-07 04:37:57,428 Detecting events from source IllustrisTNG.1P_5.snap_032.halo_083.100ks.z0.05.z.\n",
      "soxs : [INFO     ] 2025-04-07 04:37:57,429 Applying energy-dependent effective area from lem_300522.arf.\n",
      "soxs : [INFO     ] 2025-04-07 04:37:57,432 Pixeling events.\n",
      "soxs : [INFO     ] 2025-04-07 04:37:57,433 Scattering events with a gaussian-based PSF.\n",
      "soxs : [INFO     ] 2025-04-07 04:37:57,435 1318 events were detected from the source.\n",
      "soxs : [INFO     ] 2025-04-07 04:37:57,436 Scattering energies with RMF lem_2.5ev_110422.rmf.\n"
     ]
    },
    {
     "data": {
      "application/vnd.jupyter.widget-view+json": {
       "model_id": "6cabd0b7c3924d19b19de116d2f33b7a",
       "version_major": 2,
       "version_minor": 0
      },
      "text/plain": [
       "Scattering energies :   0%|          | 0/1318 [00:00<?, ?it/s]"
      ]
     },
     "metadata": {},
     "output_type": "display_data"
    },
    {
     "name": "stderr",
     "output_type": "stream",
     "text": [
      "soxs : [INFO     ] 2025-04-07 04:37:58,077 Adding background events.\n",
      "soxs : [INFO     ] 2025-04-07 04:37:59,405 Adding in instrumental background.\n",
      "soxs : [INFO     ] 2025-04-07 04:37:59,562 Making 341442 events from the instrumental background.\n",
      "soxs : [INFO     ] 2025-04-07 04:37:59,681 Writing events to file evt_083.fits.\n",
      "soxs : [INFO     ] 2025-04-07 04:38:00,061 Observation complete.\n",
      "soxs : [INFO     ] 2025-04-07 04:38:01,642 Making observation of source in evt_084.fits.\n"
     ]
    },
    {
     "name": "stdout",
     "output_type": "stream",
     "text": [
      "✅ Saved: plot_083.png\n",
      "🔄 Simulating for IllustrisTNG.1P_5.snap_032.halo_084.100ks.z0.05.z_simput.fits...\n"
     ]
    },
    {
     "name": "stderr",
     "output_type": "stream",
     "text": [
      "soxs : [INFO     ] 2025-04-07 04:38:03,264 Detecting events from source IllustrisTNG.1P_5.snap_032.halo_084.100ks.z0.05.z.\n",
      "soxs : [INFO     ] 2025-04-07 04:38:03,266 Applying energy-dependent effective area from lem_300522.arf.\n",
      "soxs : [INFO     ] 2025-04-07 04:38:03,267 Pixeling events.\n",
      "soxs : [INFO     ] 2025-04-07 04:38:03,269 Scattering events with a gaussian-based PSF.\n",
      "soxs : [INFO     ] 2025-04-07 04:38:03,271 1030 events were detected from the source.\n",
      "soxs : [INFO     ] 2025-04-07 04:38:03,272 Scattering energies with RMF lem_2.5ev_110422.rmf.\n"
     ]
    },
    {
     "data": {
      "application/vnd.jupyter.widget-view+json": {
       "model_id": "03f1d639b2da43019715d0b0ff63fb5d",
       "version_major": 2,
       "version_minor": 0
      },
      "text/plain": [
       "Scattering energies :   0%|          | 0/1030 [00:00<?, ?it/s]"
      ]
     },
     "metadata": {},
     "output_type": "display_data"
    },
    {
     "name": "stderr",
     "output_type": "stream",
     "text": [
      "soxs : [INFO     ] 2025-04-07 04:38:03,919 Adding background events.\n",
      "soxs : [INFO     ] 2025-04-07 04:38:05,428 Adding in instrumental background.\n",
      "soxs : [INFO     ] 2025-04-07 04:38:05,592 Making 341260 events from the instrumental background.\n",
      "soxs : [INFO     ] 2025-04-07 04:38:05,689 Writing events to file evt_084.fits.\n",
      "soxs : [INFO     ] 2025-04-07 04:38:06,098 Observation complete.\n",
      "soxs : [INFO     ] 2025-04-07 04:38:07,839 Making observation of source in evt_085.fits.\n"
     ]
    },
    {
     "name": "stdout",
     "output_type": "stream",
     "text": [
      "✅ Saved: plot_084.png\n",
      "🔄 Simulating for IllustrisTNG.1P_5.snap_032.halo_085.100ks.z0.05.z_simput.fits...\n"
     ]
    },
    {
     "name": "stderr",
     "output_type": "stream",
     "text": [
      "soxs : [INFO     ] 2025-04-07 04:38:09,282 Detecting events from source IllustrisTNG.1P_5.snap_032.halo_085.100ks.z0.05.z.\n",
      "soxs : [INFO     ] 2025-04-07 04:38:09,284 Applying energy-dependent effective area from lem_300522.arf.\n",
      "soxs : [INFO     ] 2025-04-07 04:38:09,286 Pixeling events.\n",
      "soxs : [INFO     ] 2025-04-07 04:38:09,288 Scattering events with a gaussian-based PSF.\n",
      "soxs : [INFO     ] 2025-04-07 04:38:09,290 3558 events were detected from the source.\n",
      "soxs : [INFO     ] 2025-04-07 04:38:09,291 Scattering energies with RMF lem_2.5ev_110422.rmf.\n"
     ]
    },
    {
     "data": {
      "application/vnd.jupyter.widget-view+json": {
       "model_id": "35fc8da27fb641ae9e0424e9ed0edcde",
       "version_major": 2,
       "version_minor": 0
      },
      "text/plain": [
       "Scattering energies :   0%|          | 0/3558 [00:00<?, ?it/s]"
      ]
     },
     "metadata": {},
     "output_type": "display_data"
    },
    {
     "name": "stderr",
     "output_type": "stream",
     "text": [
      "soxs : [INFO     ] 2025-04-07 04:38:10,198 Adding background events.\n",
      "soxs : [INFO     ] 2025-04-07 04:38:11,467 Adding in instrumental background.\n",
      "soxs : [INFO     ] 2025-04-07 04:38:11,615 Making 342121 events from the instrumental background.\n",
      "soxs : [INFO     ] 2025-04-07 04:38:11,689 Writing events to file evt_085.fits.\n",
      "soxs : [INFO     ] 2025-04-07 04:38:12,068 Observation complete.\n",
      "soxs : [INFO     ] 2025-04-07 04:38:13,644 Making observation of source in evt_086.fits.\n"
     ]
    },
    {
     "name": "stdout",
     "output_type": "stream",
     "text": [
      "✅ Saved: plot_085.png\n",
      "🔄 Simulating for IllustrisTNG.1P_5.snap_032.halo_086.100ks.z0.05.z_simput.fits...\n"
     ]
    },
    {
     "name": "stderr",
     "output_type": "stream",
     "text": [
      "soxs : [INFO     ] 2025-04-07 04:38:14,980 Detecting events from source IllustrisTNG.1P_5.snap_032.halo_086.100ks.z0.05.z.\n",
      "soxs : [INFO     ] 2025-04-07 04:38:14,982 Applying energy-dependent effective area from lem_300522.arf.\n",
      "soxs : [INFO     ] 2025-04-07 04:38:14,984 Pixeling events.\n",
      "soxs : [INFO     ] 2025-04-07 04:38:14,985 Scattering events with a gaussian-based PSF.\n",
      "soxs : [INFO     ] 2025-04-07 04:38:14,987 710 events were detected from the source.\n",
      "soxs : [INFO     ] 2025-04-07 04:38:14,988 Scattering energies with RMF lem_2.5ev_110422.rmf.\n"
     ]
    },
    {
     "data": {
      "application/vnd.jupyter.widget-view+json": {
       "model_id": "dd859f9f92c0415298525fc4af20844c",
       "version_major": 2,
       "version_minor": 0
      },
      "text/plain": [
       "Scattering energies :   0%|          | 0/710 [00:00<?, ?it/s]"
      ]
     },
     "metadata": {},
     "output_type": "display_data"
    },
    {
     "name": "stderr",
     "output_type": "stream",
     "text": [
      "soxs : [INFO     ] 2025-04-07 04:38:15,451 Adding background events.\n",
      "soxs : [INFO     ] 2025-04-07 04:38:16,725 Adding in instrumental background.\n",
      "soxs : [INFO     ] 2025-04-07 04:38:16,870 Making 341145 events from the instrumental background.\n",
      "soxs : [INFO     ] 2025-04-07 04:38:16,984 Writing events to file evt_086.fits.\n",
      "soxs : [INFO     ] 2025-04-07 04:38:17,357 Observation complete.\n",
      "soxs : [INFO     ] 2025-04-07 04:38:18,898 Making observation of source in evt_089.fits.\n"
     ]
    },
    {
     "name": "stdout",
     "output_type": "stream",
     "text": [
      "✅ Saved: plot_086.png\n",
      "❌ File not found: ../../Data/X-rays/IllustrisTNG/1P/1P_1_0/snap_032/IllustrisTNG.1P_5.snap_032.halo_087.100ks.z0.05.z_simput.fits\n",
      "❌ File not found: ../../Data/X-rays/IllustrisTNG/1P/1P_1_0/snap_032/IllustrisTNG.1P_5.snap_032.halo_088.100ks.z0.05.z_simput.fits\n",
      "🔄 Simulating for IllustrisTNG.1P_5.snap_032.halo_089.100ks.z0.05.z_simput.fits...\n"
     ]
    },
    {
     "name": "stderr",
     "output_type": "stream",
     "text": [
      "soxs : [INFO     ] 2025-04-07 04:38:20,251 Detecting events from source IllustrisTNG.1P_5.snap_032.halo_089.100ks.z0.05.z.\n",
      "soxs : [INFO     ] 2025-04-07 04:38:20,253 Applying energy-dependent effective area from lem_300522.arf.\n",
      "soxs : [INFO     ] 2025-04-07 04:38:20,255 Pixeling events.\n",
      "soxs : [INFO     ] 2025-04-07 04:38:20,256 Scattering events with a gaussian-based PSF.\n",
      "soxs : [INFO     ] 2025-04-07 04:38:20,257 84 events were detected from the source.\n",
      "soxs : [INFO     ] 2025-04-07 04:38:20,258 Scattering energies with RMF lem_2.5ev_110422.rmf.\n"
     ]
    },
    {
     "data": {
      "application/vnd.jupyter.widget-view+json": {
       "model_id": "290c76a417334274aecd798a873e5f5a",
       "version_major": 2,
       "version_minor": 0
      },
      "text/plain": [
       "Scattering energies :   0%|          | 0/84 [00:00<?, ?it/s]"
      ]
     },
     "metadata": {},
     "output_type": "display_data"
    },
    {
     "name": "stderr",
     "output_type": "stream",
     "text": [
      "soxs : [INFO     ] 2025-04-07 04:38:20,393 Adding background events.\n",
      "soxs : [INFO     ] 2025-04-07 04:38:21,688 Adding in instrumental background.\n",
      "soxs : [INFO     ] 2025-04-07 04:38:21,846 Making 340490 events from the instrumental background.\n",
      "soxs : [INFO     ] 2025-04-07 04:38:21,979 Writing events to file evt_089.fits.\n",
      "soxs : [INFO     ] 2025-04-07 04:38:22,325 Observation complete.\n",
      "soxs : [INFO     ] 2025-04-07 04:38:23,889 Making observation of source in evt_090.fits.\n"
     ]
    },
    {
     "name": "stdout",
     "output_type": "stream",
     "text": [
      "✅ Saved: plot_089.png\n",
      "🔄 Simulating for IllustrisTNG.1P_5.snap_032.halo_090.100ks.z0.05.z_simput.fits...\n"
     ]
    },
    {
     "name": "stderr",
     "output_type": "stream",
     "text": [
      "soxs : [INFO     ] 2025-04-07 04:38:25,316 Detecting events from source IllustrisTNG.1P_5.snap_032.halo_090.100ks.z0.05.z.\n",
      "soxs : [INFO     ] 2025-04-07 04:38:25,318 Applying energy-dependent effective area from lem_300522.arf.\n",
      "soxs : [INFO     ] 2025-04-07 04:38:25,320 Pixeling events.\n",
      "soxs : [INFO     ] 2025-04-07 04:38:25,322 Scattering events with a gaussian-based PSF.\n",
      "soxs : [INFO     ] 2025-04-07 04:38:25,324 2503 events were detected from the source.\n",
      "soxs : [INFO     ] 2025-04-07 04:38:25,325 Scattering energies with RMF lem_2.5ev_110422.rmf.\n"
     ]
    },
    {
     "data": {
      "application/vnd.jupyter.widget-view+json": {
       "model_id": "82e5f3784a9f4bd28dc5a145ebffcf85",
       "version_major": 2,
       "version_minor": 0
      },
      "text/plain": [
       "Scattering energies :   0%|          | 0/2503 [00:00<?, ?it/s]"
      ]
     },
     "metadata": {},
     "output_type": "display_data"
    },
    {
     "name": "stderr",
     "output_type": "stream",
     "text": [
      "soxs : [INFO     ] 2025-04-07 04:38:26,447 Adding background events.\n",
      "soxs : [INFO     ] 2025-04-07 04:38:27,733 Adding in instrumental background.\n",
      "soxs : [INFO     ] 2025-04-07 04:38:27,881 Making 341938 events from the instrumental background.\n",
      "soxs : [INFO     ] 2025-04-07 04:38:27,990 Writing events to file evt_090.fits.\n",
      "soxs : [INFO     ] 2025-04-07 04:38:28,373 Observation complete.\n",
      "soxs : [INFO     ] 2025-04-07 04:38:29,955 Making observation of source in evt_091.fits.\n"
     ]
    },
    {
     "name": "stdout",
     "output_type": "stream",
     "text": [
      "✅ Saved: plot_090.png\n",
      "🔄 Simulating for IllustrisTNG.1P_5.snap_032.halo_091.100ks.z0.05.z_simput.fits...\n"
     ]
    },
    {
     "name": "stderr",
     "output_type": "stream",
     "text": [
      "soxs : [INFO     ] 2025-04-07 04:38:31,375 Detecting events from source IllustrisTNG.1P_5.snap_032.halo_091.100ks.z0.05.z.\n",
      "soxs : [INFO     ] 2025-04-07 04:38:31,376 Applying energy-dependent effective area from lem_300522.arf.\n",
      "soxs : [INFO     ] 2025-04-07 04:38:31,379 Pixeling events.\n",
      "soxs : [INFO     ] 2025-04-07 04:38:31,385 Scattering events with a gaussian-based PSF.\n",
      "soxs : [INFO     ] 2025-04-07 04:38:31,387 15513 events were detected from the source.\n",
      "soxs : [INFO     ] 2025-04-07 04:38:31,389 Scattering energies with RMF lem_2.5ev_110422.rmf.\n"
     ]
    },
    {
     "data": {
      "application/vnd.jupyter.widget-view+json": {
       "model_id": "0910ff525bfb4879aa983fcc90e19dc2",
       "version_major": 2,
       "version_minor": 0
      },
      "text/plain": [
       "Scattering energies :   0%|          | 0/15513 [00:00<?, ?it/s]"
      ]
     },
     "metadata": {},
     "output_type": "display_data"
    },
    {
     "name": "stderr",
     "output_type": "stream",
     "text": [
      "soxs : [INFO     ] 2025-04-07 04:38:33,757 Adding background events.\n",
      "soxs : [INFO     ] 2025-04-07 04:38:35,228 Adding in instrumental background.\n",
      "soxs : [INFO     ] 2025-04-07 04:38:35,420 Making 341461 events from the instrumental background.\n",
      "soxs : [INFO     ] 2025-04-07 04:38:35,576 Writing events to file evt_091.fits.\n",
      "soxs : [INFO     ] 2025-04-07 04:38:35,897 Observation complete.\n",
      "soxs : [INFO     ] 2025-04-07 04:38:37,553 Making observation of source in evt_092.fits.\n"
     ]
    },
    {
     "name": "stdout",
     "output_type": "stream",
     "text": [
      "✅ Saved: plot_091.png\n",
      "🔄 Simulating for IllustrisTNG.1P_5.snap_032.halo_092.100ks.z0.05.z_simput.fits...\n"
     ]
    },
    {
     "name": "stderr",
     "output_type": "stream",
     "text": [
      "soxs : [INFO     ] 2025-04-07 04:38:38,957 Detecting events from source IllustrisTNG.1P_5.snap_032.halo_092.100ks.z0.05.z.\n",
      "soxs : [INFO     ] 2025-04-07 04:38:38,958 Applying energy-dependent effective area from lem_300522.arf.\n",
      "soxs : [INFO     ] 2025-04-07 04:38:38,960 Pixeling events.\n",
      "soxs : [INFO     ] 2025-04-07 04:38:38,961 Scattering events with a gaussian-based PSF.\n",
      "soxs : [INFO     ] 2025-04-07 04:38:38,963 82 events were detected from the source.\n",
      "soxs : [INFO     ] 2025-04-07 04:38:38,963 Scattering energies with RMF lem_2.5ev_110422.rmf.\n"
     ]
    },
    {
     "data": {
      "application/vnd.jupyter.widget-view+json": {
       "model_id": "280a15229eb648f3a9dcd81f9fdb4488",
       "version_major": 2,
       "version_minor": 0
      },
      "text/plain": [
       "Scattering energies :   0%|          | 0/82 [00:00<?, ?it/s]"
      ]
     },
     "metadata": {},
     "output_type": "display_data"
    },
    {
     "name": "stderr",
     "output_type": "stream",
     "text": [
      "soxs : [INFO     ] 2025-04-07 04:38:39,083 Adding background events.\n",
      "soxs : [INFO     ] 2025-04-07 04:38:40,399 Adding in instrumental background.\n",
      "soxs : [INFO     ] 2025-04-07 04:38:40,555 Making 340596 events from the instrumental background.\n",
      "soxs : [INFO     ] 2025-04-07 04:38:40,679 Writing events to file evt_092.fits.\n",
      "soxs : [INFO     ] 2025-04-07 04:38:41,111 Observation complete.\n",
      "soxs : [INFO     ] 2025-04-07 04:38:42,935 Making observation of source in evt_093.fits.\n"
     ]
    },
    {
     "name": "stdout",
     "output_type": "stream",
     "text": [
      "✅ Saved: plot_092.png\n",
      "🔄 Simulating for IllustrisTNG.1P_5.snap_032.halo_093.100ks.z0.05.z_simput.fits...\n"
     ]
    },
    {
     "name": "stderr",
     "output_type": "stream",
     "text": [
      "soxs : [INFO     ] 2025-04-07 04:38:44,505 Detecting events from source IllustrisTNG.1P_5.snap_032.halo_093.100ks.z0.05.z.\n",
      "soxs : [INFO     ] 2025-04-07 04:38:44,506 Applying energy-dependent effective area from lem_300522.arf.\n",
      "soxs : [INFO     ] 2025-04-07 04:38:44,508 Pixeling events.\n",
      "soxs : [INFO     ] 2025-04-07 04:38:44,509 Scattering events with a gaussian-based PSF.\n",
      "soxs : [INFO     ] 2025-04-07 04:38:44,511 325 events were detected from the source.\n",
      "soxs : [INFO     ] 2025-04-07 04:38:44,512 Scattering energies with RMF lem_2.5ev_110422.rmf.\n"
     ]
    },
    {
     "data": {
      "application/vnd.jupyter.widget-view+json": {
       "model_id": "c46a78a59c444b529009f2afbe20898b",
       "version_major": 2,
       "version_minor": 0
      },
      "text/plain": [
       "Scattering energies :   0%|          | 0/325 [00:00<?, ?it/s]"
      ]
     },
     "metadata": {},
     "output_type": "display_data"
    },
    {
     "name": "stderr",
     "output_type": "stream",
     "text": [
      "soxs : [INFO     ] 2025-04-07 04:38:44,783 Adding background events.\n",
      "soxs : [INFO     ] 2025-04-07 04:38:46,155 Adding in instrumental background.\n",
      "soxs : [INFO     ] 2025-04-07 04:38:46,325 Making 341113 events from the instrumental background.\n",
      "soxs : [INFO     ] 2025-04-07 04:38:46,476 Writing events to file evt_093.fits.\n",
      "soxs : [INFO     ] 2025-04-07 04:38:46,838 Observation complete.\n",
      "soxs : [INFO     ] 2025-04-07 04:38:48,726 Making observation of source in evt_095.fits.\n"
     ]
    },
    {
     "name": "stdout",
     "output_type": "stream",
     "text": [
      "✅ Saved: plot_093.png\n",
      "❌ File not found: ../../Data/X-rays/IllustrisTNG/1P/1P_1_0/snap_032/IllustrisTNG.1P_5.snap_032.halo_094.100ks.z0.05.z_simput.fits\n",
      "🔄 Simulating for IllustrisTNG.1P_5.snap_032.halo_095.100ks.z0.05.z_simput.fits...\n"
     ]
    },
    {
     "name": "stderr",
     "output_type": "stream",
     "text": [
      "soxs : [INFO     ] 2025-04-07 04:38:50,283 Detecting events from source IllustrisTNG.1P_5.snap_032.halo_095.100ks.z0.05.z.\n",
      "soxs : [INFO     ] 2025-04-07 04:38:50,284 Applying energy-dependent effective area from lem_300522.arf.\n",
      "soxs : [INFO     ] 2025-04-07 04:38:50,286 Pixeling events.\n",
      "soxs : [INFO     ] 2025-04-07 04:38:50,288 Scattering events with a gaussian-based PSF.\n",
      "soxs : [INFO     ] 2025-04-07 04:38:50,290 2684 events were detected from the source.\n",
      "soxs : [INFO     ] 2025-04-07 04:38:50,291 Scattering energies with RMF lem_2.5ev_110422.rmf.\n"
     ]
    },
    {
     "data": {
      "application/vnd.jupyter.widget-view+json": {
       "model_id": "31013730399a415aafa7c71439e2f165",
       "version_major": 2,
       "version_minor": 0
      },
      "text/plain": [
       "Scattering energies :   0%|          | 0/2684 [00:00<?, ?it/s]"
      ]
     },
     "metadata": {},
     "output_type": "display_data"
    },
    {
     "name": "stderr",
     "output_type": "stream",
     "text": [
      "soxs : [INFO     ] 2025-04-07 04:38:51,158 Adding background events.\n",
      "soxs : [INFO     ] 2025-04-07 04:38:52,543 Adding in instrumental background.\n",
      "soxs : [INFO     ] 2025-04-07 04:38:52,727 Making 340397 events from the instrumental background.\n",
      "soxs : [INFO     ] 2025-04-07 04:38:52,881 Writing events to file evt_095.fits.\n",
      "soxs : [INFO     ] 2025-04-07 04:38:53,376 Observation complete.\n",
      "soxs : [INFO     ] 2025-04-07 04:38:55,345 Making observation of source in evt_099.fits.\n"
     ]
    },
    {
     "name": "stdout",
     "output_type": "stream",
     "text": [
      "✅ Saved: plot_095.png\n",
      "❌ File not found: ../../Data/X-rays/IllustrisTNG/1P/1P_1_0/snap_032/IllustrisTNG.1P_5.snap_032.halo_096.100ks.z0.05.z_simput.fits\n",
      "❌ File not found: ../../Data/X-rays/IllustrisTNG/1P/1P_1_0/snap_032/IllustrisTNG.1P_5.snap_032.halo_097.100ks.z0.05.z_simput.fits\n",
      "❌ File not found: ../../Data/X-rays/IllustrisTNG/1P/1P_1_0/snap_032/IllustrisTNG.1P_5.snap_032.halo_098.100ks.z0.05.z_simput.fits\n",
      "🔄 Simulating for IllustrisTNG.1P_5.snap_032.halo_099.100ks.z0.05.z_simput.fits...\n"
     ]
    },
    {
     "name": "stderr",
     "output_type": "stream",
     "text": [
      "soxs : [INFO     ] 2025-04-07 04:38:56,899 Detecting events from source IllustrisTNG.1P_5.snap_032.halo_099.100ks.z0.05.z.\n",
      "soxs : [INFO     ] 2025-04-07 04:38:56,900 Applying energy-dependent effective area from lem_300522.arf.\n",
      "soxs : [INFO     ] 2025-04-07 04:38:56,902 Pixeling events.\n",
      "soxs : [INFO     ] 2025-04-07 04:38:56,903 Scattering events with a gaussian-based PSF.\n",
      "soxs : [INFO     ] 2025-04-07 04:38:56,905 141 events were detected from the source.\n",
      "soxs : [INFO     ] 2025-04-07 04:38:56,905 Scattering energies with RMF lem_2.5ev_110422.rmf.\n"
     ]
    },
    {
     "data": {
      "application/vnd.jupyter.widget-view+json": {
       "model_id": "fc3f81c878b64aec834c10a591823416",
       "version_major": 2,
       "version_minor": 0
      },
      "text/plain": [
       "Scattering energies :   0%|          | 0/141 [00:00<?, ?it/s]"
      ]
     },
     "metadata": {},
     "output_type": "display_data"
    },
    {
     "name": "stderr",
     "output_type": "stream",
     "text": [
      "soxs : [INFO     ] 2025-04-07 04:38:57,094 Adding background events.\n",
      "soxs : [INFO     ] 2025-04-07 04:38:58,480 Adding in instrumental background.\n",
      "soxs : [INFO     ] 2025-04-07 04:38:58,662 Making 341570 events from the instrumental background.\n",
      "soxs : [INFO     ] 2025-04-07 04:38:58,785 Writing events to file evt_099.fits.\n",
      "soxs : [INFO     ] 2025-04-07 04:38:59,308 Observation complete.\n",
      "soxs : [INFO     ] 2025-04-07 04:39:00,971 Making observation of source in evt_100.fits.\n"
     ]
    },
    {
     "name": "stdout",
     "output_type": "stream",
     "text": [
      "✅ Saved: plot_099.png\n",
      "🔄 Simulating for IllustrisTNG.1P_5.snap_032.halo_100.100ks.z0.05.z_simput.fits...\n"
     ]
    },
    {
     "name": "stderr",
     "output_type": "stream",
     "text": [
      "soxs : [INFO     ] 2025-04-07 04:39:02,537 Detecting events from source IllustrisTNG.1P_5.snap_032.halo_100.100ks.z0.05.z.\n",
      "soxs : [INFO     ] 2025-04-07 04:39:02,538 Applying energy-dependent effective area from lem_300522.arf.\n",
      "soxs : [INFO     ] 2025-04-07 04:39:02,540 Pixeling events.\n",
      "soxs : [INFO     ] 2025-04-07 04:39:02,541 Scattering events with a gaussian-based PSF.\n",
      "soxs : [INFO     ] 2025-04-07 04:39:02,542 53 events were detected from the source.\n",
      "soxs : [INFO     ] 2025-04-07 04:39:02,543 Scattering energies with RMF lem_2.5ev_110422.rmf.\n"
     ]
    },
    {
     "data": {
      "application/vnd.jupyter.widget-view+json": {
       "model_id": "51f561e1de7243928edce71a53aea70c",
       "version_major": 2,
       "version_minor": 0
      },
      "text/plain": [
       "Scattering energies :   0%|          | 0/53 [00:00<?, ?it/s]"
      ]
     },
     "metadata": {},
     "output_type": "display_data"
    },
    {
     "name": "stderr",
     "output_type": "stream",
     "text": [
      "soxs : [INFO     ] 2025-04-07 04:39:02,651 Adding background events.\n",
      "soxs : [INFO     ] 2025-04-07 04:39:03,983 Adding in instrumental background.\n",
      "soxs : [INFO     ] 2025-04-07 04:39:04,160 Making 342021 events from the instrumental background.\n",
      "soxs : [INFO     ] 2025-04-07 04:39:04,283 Writing events to file evt_100.fits.\n",
      "soxs : [INFO     ] 2025-04-07 04:39:04,804 Observation complete.\n",
      "soxs : [INFO     ] 2025-04-07 04:39:06,754 Making observation of source in evt_104.fits.\n"
     ]
    },
    {
     "name": "stdout",
     "output_type": "stream",
     "text": [
      "✅ Saved: plot_100.png\n",
      "❌ File not found: ../../Data/X-rays/IllustrisTNG/1P/1P_1_0/snap_032/IllustrisTNG.1P_5.snap_032.halo_101.100ks.z0.05.z_simput.fits\n",
      "❌ File not found: ../../Data/X-rays/IllustrisTNG/1P/1P_1_0/snap_032/IllustrisTNG.1P_5.snap_032.halo_102.100ks.z0.05.z_simput.fits\n",
      "❌ File not found: ../../Data/X-rays/IllustrisTNG/1P/1P_1_0/snap_032/IllustrisTNG.1P_5.snap_032.halo_103.100ks.z0.05.z_simput.fits\n",
      "🔄 Simulating for IllustrisTNG.1P_5.snap_032.halo_104.100ks.z0.05.z_simput.fits...\n"
     ]
    },
    {
     "name": "stderr",
     "output_type": "stream",
     "text": [
      "soxs : [INFO     ] 2025-04-07 04:39:08,276 Detecting events from source IllustrisTNG.1P_5.snap_032.halo_104.100ks.z0.05.z.\n",
      "soxs : [INFO     ] 2025-04-07 04:39:08,277 Applying energy-dependent effective area from lem_300522.arf.\n",
      "soxs : [INFO     ] 2025-04-07 04:39:08,279 Pixeling events.\n",
      "soxs : [INFO     ] 2025-04-07 04:39:08,280 Scattering events with a gaussian-based PSF.\n",
      "soxs : [INFO     ] 2025-04-07 04:39:08,282 307 events were detected from the source.\n",
      "soxs : [INFO     ] 2025-04-07 04:39:08,282 Scattering energies with RMF lem_2.5ev_110422.rmf.\n"
     ]
    },
    {
     "data": {
      "application/vnd.jupyter.widget-view+json": {
       "model_id": "6a8fc7caf3494eb58f660d1b80bb22db",
       "version_major": 2,
       "version_minor": 0
      },
      "text/plain": [
       "Scattering energies :   0%|          | 0/307 [00:00<?, ?it/s]"
      ]
     },
     "metadata": {},
     "output_type": "display_data"
    },
    {
     "name": "stderr",
     "output_type": "stream",
     "text": [
      "soxs : [INFO     ] 2025-04-07 04:39:08,559 Adding background events.\n",
      "soxs : [INFO     ] 2025-04-07 04:39:09,980 Adding in instrumental background.\n",
      "soxs : [INFO     ] 2025-04-07 04:39:10,152 Making 342024 events from the instrumental background.\n",
      "soxs : [INFO     ] 2025-04-07 04:39:10,284 Writing events to file evt_104.fits.\n",
      "soxs : [INFO     ] 2025-04-07 04:39:10,668 Observation complete.\n",
      "soxs : [INFO     ] 2025-04-07 04:39:12,402 Making observation of source in evt_106.fits.\n"
     ]
    },
    {
     "name": "stdout",
     "output_type": "stream",
     "text": [
      "✅ Saved: plot_104.png\n",
      "❌ File not found: ../../Data/X-rays/IllustrisTNG/1P/1P_1_0/snap_032/IllustrisTNG.1P_5.snap_032.halo_105.100ks.z0.05.z_simput.fits\n",
      "🔄 Simulating for IllustrisTNG.1P_5.snap_032.halo_106.100ks.z0.05.z_simput.fits...\n"
     ]
    },
    {
     "name": "stderr",
     "output_type": "stream",
     "text": [
      "soxs : [INFO     ] 2025-04-07 04:39:13,952 Detecting events from source IllustrisTNG.1P_5.snap_032.halo_106.100ks.z0.05.z.\n",
      "soxs : [INFO     ] 2025-04-07 04:39:13,953 Applying energy-dependent effective area from lem_300522.arf.\n",
      "soxs : [INFO     ] 2025-04-07 04:39:13,955 Pixeling events.\n",
      "soxs : [INFO     ] 2025-04-07 04:39:13,956 Scattering events with a gaussian-based PSF.\n",
      "soxs : [INFO     ] 2025-04-07 04:39:13,958 171 events were detected from the source.\n",
      "soxs : [INFO     ] 2025-04-07 04:39:13,958 Scattering energies with RMF lem_2.5ev_110422.rmf.\n"
     ]
    },
    {
     "data": {
      "application/vnd.jupyter.widget-view+json": {
       "model_id": "ed4987c4d5df4616b5c090ecb13b7f1a",
       "version_major": 2,
       "version_minor": 0
      },
      "text/plain": [
       "Scattering energies :   0%|          | 0/171 [00:00<?, ?it/s]"
      ]
     },
     "metadata": {},
     "output_type": "display_data"
    },
    {
     "name": "stderr",
     "output_type": "stream",
     "text": [
      "soxs : [INFO     ] 2025-04-07 04:39:14,132 Adding background events.\n",
      "soxs : [INFO     ] 2025-04-07 04:39:15,542 Adding in instrumental background.\n",
      "soxs : [INFO     ] 2025-04-07 04:39:15,712 Making 340307 events from the instrumental background.\n",
      "soxs : [INFO     ] 2025-04-07 04:39:15,877 Writing events to file evt_106.fits.\n",
      "soxs : [INFO     ] 2025-04-07 04:39:16,184 Observation complete.\n"
     ]
    },
    {
     "name": "stdout",
     "output_type": "stream",
     "text": [
      "✅ Saved: plot_106.png\n"
     ]
    }
   ],
   "source": [
    "for halo_num in range(0, 107):  # halo_001 to halo_106\n",
    "    halo_str = f\"{halo_num:03d}\"\n",
    "    simput_file = f\"IllustrisTNG.1P_5.snap_032.halo_{halo_str}.100ks.z0.05.z_simput.fits\"\n",
    "    simput_path = os.path.join(base_path, simput_file)\n",
    "\n",
    "    if not os.path.exists(simput_path):\n",
    "        print(f\"❌ File not found: {simput_path}\")\n",
    "        continue\n",
    "\n",
    "    try:\n",
    "        print(f\"🔄 Simulating for {simput_file}...\")\n",
    "        evt_file = f\"evt_{halo_str}.fits\"\n",
    "        img_file = f\"img_{halo_str}.fits\"\n",
    "        plot_file = f\"plot_{halo_str}.png\"\n",
    "\n",
    "        # Run SOXS simulator\n",
    "        soxs.instrument_simulator(\n",
    "            simput_path, evt_file, (100.0, \"ks\"), instrument,\n",
    "            sky_center, overwrite=True, foreground=False, ptsrc_bkgnd=False\n",
    "        )\n",
    "\n",
    "        # Check if there are any events\n",
    "        with fits.open(evt_file) as f_evt:\n",
    "            if f_evt[1].data is None or len(f_evt[1].data) == 0:\n",
    "                print(f\"⚠️ No events detected in {evt_file}. Skipping image and plot.\")\n",
    "                continue\n",
    "\n",
    "        # Write image\n",
    "        soxs.write_image(evt_file, img_file, emin=0.5, emax=2.0, reblock=1, overwrite=True)\n",
    "\n",
    "        # Plot image\n",
    "        center_sky = SkyCoord(*sky_center, unit='deg', frame='fk5')\n",
    "        region_sky = RectangleSkyRegion(center=center_sky, width=30*u.arcmin, height=30*u.arcmin)\n",
    "\n",
    "        with fits.open(img_file) as f_img:\n",
    "            w = wcs.WCS(header=f_img[0].header)\n",
    "            fig, ax = soxs.plot_image(img_file, stretch='log', cmap='magma', vmax=3000.0, width=0.5)\n",
    "            ax.add_artist(region_sky.to_pixel(w).as_artist())\n",
    "            plt.title(f\"Halo {halo_str}\")\n",
    "            plt.savefig(plot_file, dpi=300)\n",
    "            plt.close()\n",
    "\n",
    "        print(f\"✅ Saved: {plot_file}\")\n",
    "\n",
    "    except Exception as e:\n",
    "        print(f\"❌ Error with halo {halo_str}: {e}\")"
   ]
  }
 ],
 "metadata": {
  "kernelspec": {
   "display_name": "Python 3 (ipykernel)",
   "language": "python",
   "name": "python3"
  },
  "language_info": {
   "codemirror_mode": {
    "name": "ipython",
    "version": 3
   },
   "file_extension": ".py",
   "mimetype": "text/x-python",
   "name": "python",
   "nbconvert_exporter": "python",
   "pygments_lexer": "ipython3",
   "version": "3.9.15"
  }
 },
 "nbformat": 4,
 "nbformat_minor": 5
}
