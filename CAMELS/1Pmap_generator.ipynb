{
 "cells": [
  {
   "cell_type": "markdown",
   "id": "3df415d8-26de-48c4-be22-7f1a8ac47506",
   "metadata": {},
   "source": [
    "# Plotting maps for all 1P parameters (haloID = 0)"
   ]
  },
  {
   "cell_type": "code",
   "execution_count": 1,
   "id": "8faf5419-cf19-4743-bff3-2da19a1f8d64",
   "metadata": {},
   "outputs": [
    {
     "name": "stdout",
     "output_type": "stream",
     "text": [
      "Collecting regions\n",
      "  Downloading regions-0.8-cp39-cp39-manylinux_2_5_x86_64.manylinux1_x86_64.manylinux_2_17_x86_64.manylinux2014_x86_64.whl.metadata (5.8 kB)\n",
      "Requirement already satisfied: numpy>=1.22 in /srv/conda/envs/notebook/lib/python3.9/site-packages (from regions) (1.26.4)\n",
      "Requirement already satisfied: astropy>=5.0 in /srv/conda/envs/notebook/lib/python3.9/site-packages (from regions) (6.0.1)\n",
      "Requirement already satisfied: pyerfa>=2.0.1.1 in /srv/conda/envs/notebook/lib/python3.9/site-packages (from astropy>=5.0->regions) (2.0.1.5)\n",
      "Requirement already satisfied: astropy-iers-data>=0.2024.2.26.0.28.55 in /srv/conda/envs/notebook/lib/python3.9/site-packages (from astropy>=5.0->regions) (0.2025.2.10.0.33.26)\n",
      "Requirement already satisfied: PyYAML>=3.13 in /srv/conda/envs/notebook/lib/python3.9/site-packages (from astropy>=5.0->regions) (6.0.1)\n",
      "Requirement already satisfied: packaging>=19.0 in /srv/conda/envs/notebook/lib/python3.9/site-packages (from astropy>=5.0->regions) (24.0)\n",
      "Downloading regions-0.8-cp39-cp39-manylinux_2_5_x86_64.manylinux1_x86_64.manylinux_2_17_x86_64.manylinux2014_x86_64.whl (931 kB)\n",
      "\u001b[2K   \u001b[90m━━━━━━━━━━━━━━━━━━━━━━━━━━━━━━━━━━━━━━━━\u001b[0m \u001b[32m931.6/931.6 kB\u001b[0m \u001b[31m66.4 MB/s\u001b[0m eta \u001b[36m0:00:00\u001b[0m\n",
      "\u001b[?25hInstalling collected packages: regions\n",
      "Successfully installed regions-0.8\n",
      "Note: you may need to restart the kernel to use updated packages.\n"
     ]
    }
   ],
   "source": [
    "pip install regions"
   ]
  },
  {
   "cell_type": "code",
   "execution_count": 40,
   "id": "8de91ba2-9d8b-433f-bbc8-d5f01b0a9bd0",
   "metadata": {},
   "outputs": [
    {
     "name": "stdout",
     "output_type": "stream",
     "text": [
      "Requirement already satisfied: soxs in /srv/conda/envs/notebook/lib/python3.9/site-packages (4.8.5)\n",
      "Requirement already satisfied: numpy<2 in /srv/conda/envs/notebook/lib/python3.9/site-packages (from soxs) (1.26.4)\n",
      "Requirement already satisfied: astropy>=4.0 in /srv/conda/envs/notebook/lib/python3.9/site-packages (from soxs) (6.0.1)\n",
      "Requirement already satisfied: tqdm in /srv/conda/envs/notebook/lib/python3.9/site-packages (from soxs) (4.67.1)\n",
      "Requirement already satisfied: pooch in /srv/conda/envs/notebook/lib/python3.9/site-packages (from soxs) (1.8.2)\n",
      "Requirement already satisfied: h5py>=3.0 in /srv/conda/envs/notebook/lib/python3.9/site-packages (from soxs) (3.12.1)\n",
      "Requirement already satisfied: scipy in /srv/conda/envs/notebook/lib/python3.9/site-packages (from soxs) (1.13.1)\n",
      "Requirement already satisfied: pyyaml in /srv/conda/envs/notebook/lib/python3.9/site-packages (from soxs) (6.0.1)\n",
      "Requirement already satisfied: regions in /srv/conda/envs/notebook/lib/python3.9/site-packages (from soxs) (0.8)\n",
      "Requirement already satisfied: appdirs in /srv/conda/envs/notebook/lib/python3.9/site-packages (from soxs) (1.4.4)\n",
      "Requirement already satisfied: pyerfa>=2.0.1.1 in /srv/conda/envs/notebook/lib/python3.9/site-packages (from astropy>=4.0->soxs) (2.0.1.5)\n",
      "Requirement already satisfied: astropy-iers-data>=0.2024.2.26.0.28.55 in /srv/conda/envs/notebook/lib/python3.9/site-packages (from astropy>=4.0->soxs) (0.2025.2.10.0.33.26)\n",
      "Requirement already satisfied: packaging>=19.0 in /srv/conda/envs/notebook/lib/python3.9/site-packages (from astropy>=4.0->soxs) (24.0)\n",
      "Requirement already satisfied: platformdirs>=2.5.0 in /srv/conda/envs/notebook/lib/python3.9/site-packages (from pooch->soxs) (4.2.0)\n",
      "Requirement already satisfied: requests>=2.19.0 in /srv/conda/envs/notebook/lib/python3.9/site-packages (from pooch->soxs) (2.31.0)\n",
      "Requirement already satisfied: charset-normalizer<4,>=2 in /srv/conda/envs/notebook/lib/python3.9/site-packages (from requests>=2.19.0->pooch->soxs) (3.3.2)\n",
      "Requirement already satisfied: idna<4,>=2.5 in /srv/conda/envs/notebook/lib/python3.9/site-packages (from requests>=2.19.0->pooch->soxs) (3.6)\n",
      "Requirement already satisfied: urllib3<3,>=1.21.1 in /srv/conda/envs/notebook/lib/python3.9/site-packages (from requests>=2.19.0->pooch->soxs) (2.2.1)\n",
      "Requirement already satisfied: certifi>=2017.4.17 in /srv/conda/envs/notebook/lib/python3.9/site-packages (from requests>=2.19.0->pooch->soxs) (2024.12.14)\n",
      "Note: you may need to restart the kernel to use updated packages.\n"
     ]
    }
   ],
   "source": [
    "pip install soxs"
   ]
  },
  {
   "cell_type": "code",
   "execution_count": 41,
   "id": "db6b446b-6e1c-40e3-abe7-3d5da955ef2e",
   "metadata": {},
   "outputs": [],
   "source": [
    "import os\n",
    "from astropy.io import fits\n",
    "from astropy.coordinates import SkyCoord\n",
    "import astropy.units as u\n",
    "from regions import RectangleSkyRegion\n",
    "from astropy import wcs\n",
    "import soxs\n",
    "import matplotlib.pyplot as plt"
   ]
  },
  {
   "cell_type": "code",
   "execution_count": 42,
   "id": "07fd14fa-8bdb-4bab-b987-9e9aa3540790",
   "metadata": {},
   "outputs": [
    {
     "name": "stdout",
     "output_type": "stream",
     "text": [
      "66\n"
     ]
    }
   ],
   "source": [
    "instrument =  \"lem_outer_array\" #\"chandra_acisi_cy0\"\n",
    "sky_center = (0.0, 0.0)\n",
    "filenames = [\n",
    "    \"1P_1_n5\", \"1P_1_n4\", \"1P_1_n3\", \"1P_1_n2\", \"1P_1_n1\", \"1P_1_0\", \"1P_1_1\", \"1P_1_2\", \"1P_1_3\", \"1P_1_4\", \"1P_1_5\",\n",
    "    \"1P_2_n5\", \"1P_2_n4\", \"1P_2_n3\", \"1P_2_n2\", \"1P_2_n1\", \"1P_2_0\", \"1P_2_1\", \"1P_2_2\", \"1P_2_3\", \"1P_2_4\", \"1P_2_5\",\n",
    "    \"1P_3_n5\", \"1P_3_n4\", \"1P_3_n3\", \"1P_3_n2\", \"1P_3_n1\", \"1P_3_0\", \"1P_3_1\", \"1P_3_2\", \"1P_3_3\", \"1P_3_4\", \"1P_3_5\",\n",
    "    \"1P_4_n5\", \"1P_4_n4\", \"1P_4_n3\", \"1P_4_n2\", \"1P_4_n1\", \"1P_4_0\", \"1P_4_1\", \"1P_4_2\", \"1P_4_3\", \"1P_4_4\", \"1P_4_5\",\n",
    "    \"1P_5_n5\", \"1P_5_n4\", \"1P_5_n3\", \"1P_5_n2\", \"1P_5_n1\", \"1P_5_0\", \"1P_5_1\", \"1P_5_2\", \"1P_5_3\", \"1P_5_4\", \"1P_5_5\",\n",
    "    \"1P_6_n5\", \"1P_6_n4\", \"1P_6_n3\", \"1P_6_n2\", \"1P_6_n1\", \"1P_6_0\", \"1P_6_1\", \"1P_6_2\", \"1P_6_3\", \"1P_6_4\", \"1P_6_5\"\n",
    "]\n",
    "print(len(filenames))"
   ]
  },
  {
   "cell_type": "code",
   "execution_count": 43,
   "id": "528a3a59-81a2-4ddd-883e-648b667719d7",
   "metadata": {},
   "outputs": [
    {
     "name": "stderr",
     "output_type": "stream",
     "text": [
      "soxs : [INFO     ] 2025-04-10 02:40:06,161 Making observation of source in evt_0_1P_1_n5.fits.\n"
     ]
    },
    {
     "name": "stdout",
     "output_type": "stream",
     "text": [
      "🔄 Simulating for IllustrisTNG.1P_0.snap_032.halo_000.100ks.z0.05.z_simput.fits...\n"
     ]
    },
    {
     "name": "stderr",
     "output_type": "stream",
     "text": [
      "soxs : [INFO     ] 2025-04-10 02:40:07,622 Detecting events from source IllustrisTNG.1P_0.snap_032.halo_000.100ks.z0.05.z.\n",
      "soxs : [INFO     ] 2025-04-10 02:40:07,625 Applying energy-dependent effective area from lem_300522.arf.\n",
      "soxs : [INFO     ] 2025-04-10 02:40:07,696 Pixeling events.\n",
      "soxs : [INFO     ] 2025-04-10 02:40:07,706 Scattering events with a gaussian-based PSF.\n",
      "soxs : [INFO     ] 2025-04-10 02:40:07,709 22379 events were detected from the source.\n",
      "soxs : [INFO     ] 2025-04-10 02:40:07,711 Scattering energies with RMF lem_2.5ev_110422.rmf.\n"
     ]
    },
    {
     "data": {
      "application/vnd.jupyter.widget-view+json": {
       "model_id": "c10d1a279e4d41c18d5a46c8e727c401",
       "version_major": 2,
       "version_minor": 0
      },
      "text/plain": [
       "Scattering energies :   0%|          | 0/22379 [00:00<?, ?it/s]"
      ]
     },
     "metadata": {},
     "output_type": "display_data"
    },
    {
     "name": "stderr",
     "output_type": "stream",
     "text": [
      "soxs : [INFO     ] 2025-04-10 02:40:10,448 Adding background events.\n",
      "soxs : [INFO     ] 2025-04-10 02:40:11,799 Adding in instrumental background.\n",
      "soxs : [INFO     ] 2025-04-10 02:40:11,935 Making 34149 events from the instrumental background.\n",
      "soxs : [INFO     ] 2025-04-10 02:40:11,945 Writing events to file evt_0_1P_1_n5.fits.\n",
      "soxs : [INFO     ] 2025-04-10 02:40:12,035 Observation complete.\n",
      "soxs : [INFO     ] 2025-04-10 02:40:13,722 Making observation of source in evt_1_1P_1_n4.fits.\n"
     ]
    },
    {
     "name": "stdout",
     "output_type": "stream",
     "text": [
      "✅ Saved: plot_0_1P_1_n5.png\n",
      "🔄 Simulating for IllustrisTNG.1P_1.snap_032.halo_000.100ks.z0.05.z_simput.fits...\n"
     ]
    },
    {
     "name": "stderr",
     "output_type": "stream",
     "text": [
      "soxs : [INFO     ] 2025-04-10 02:40:15,156 Detecting events from source IllustrisTNG.1P_1.snap_032.halo_000.100ks.z0.05.z.\n",
      "soxs : [INFO     ] 2025-04-10 02:40:15,158 Applying energy-dependent effective area from lem_300522.arf.\n",
      "soxs : [INFO     ] 2025-04-10 02:40:15,300 Pixeling events.\n",
      "soxs : [INFO     ] 2025-04-10 02:40:15,318 Scattering events with a gaussian-based PSF.\n",
      "soxs : [INFO     ] 2025-04-10 02:40:15,323 46257 events were detected from the source.\n",
      "soxs : [INFO     ] 2025-04-10 02:40:15,326 Scattering energies with RMF lem_2.5ev_110422.rmf.\n"
     ]
    },
    {
     "data": {
      "application/vnd.jupyter.widget-view+json": {
       "model_id": "5c9753e5bba347c399e2f2f677df41cf",
       "version_major": 2,
       "version_minor": 0
      },
      "text/plain": [
       "Scattering energies :   0%|          | 0/46257 [00:00<?, ?it/s]"
      ]
     },
     "metadata": {},
     "output_type": "display_data"
    },
    {
     "name": "stderr",
     "output_type": "stream",
     "text": [
      "soxs : [INFO     ] 2025-04-10 02:40:18,785 Adding background events.\n",
      "soxs : [INFO     ] 2025-04-10 02:40:20,188 Adding in instrumental background.\n",
      "soxs : [INFO     ] 2025-04-10 02:40:20,322 Making 34067 events from the instrumental background.\n",
      "soxs : [INFO     ] 2025-04-10 02:40:20,332 Writing events to file evt_1_1P_1_n4.fits.\n",
      "soxs : [INFO     ] 2025-04-10 02:40:20,438 Observation complete.\n",
      "soxs : [INFO     ] 2025-04-10 02:40:22,096 Making observation of source in evt_2_1P_1_n3.fits.\n"
     ]
    },
    {
     "name": "stdout",
     "output_type": "stream",
     "text": [
      "✅ Saved: plot_1_1P_1_n4.png\n",
      "🔄 Simulating for IllustrisTNG.1P_2.snap_032.halo_000.100ks.z0.05.z_simput.fits...\n"
     ]
    },
    {
     "name": "stderr",
     "output_type": "stream",
     "text": [
      "soxs : [INFO     ] 2025-04-10 02:40:23,563 Detecting events from source IllustrisTNG.1P_2.snap_032.halo_000.100ks.z0.05.z.\n",
      "soxs : [INFO     ] 2025-04-10 02:40:23,564 Applying energy-dependent effective area from lem_300522.arf.\n",
      "soxs : [INFO     ] 2025-04-10 02:40:23,824 Pixeling events.\n",
      "soxs : [INFO     ] 2025-04-10 02:40:23,856 Scattering events with a gaussian-based PSF.\n",
      "soxs : [INFO     ] 2025-04-10 02:40:23,863 89255 events were detected from the source.\n",
      "soxs : [INFO     ] 2025-04-10 02:40:23,868 Scattering energies with RMF lem_2.5ev_110422.rmf.\n"
     ]
    },
    {
     "data": {
      "application/vnd.jupyter.widget-view+json": {
       "model_id": "0966f23bca664d668f00e14b3f45985d",
       "version_major": 2,
       "version_minor": 0
      },
      "text/plain": [
       "Scattering energies :   0%|          | 0/89255 [00:00<?, ?it/s]"
      ]
     },
     "metadata": {},
     "output_type": "display_data"
    },
    {
     "name": "stderr",
     "output_type": "stream",
     "text": [
      "soxs : [INFO     ] 2025-04-10 02:40:28,162 Adding background events.\n",
      "soxs : [INFO     ] 2025-04-10 02:40:29,469 Adding in instrumental background.\n",
      "soxs : [INFO     ] 2025-04-10 02:40:29,601 Making 33905 events from the instrumental background.\n",
      "soxs : [INFO     ] 2025-04-10 02:40:29,612 Writing events to file evt_2_1P_1_n3.fits.\n",
      "soxs : [INFO     ] 2025-04-10 02:40:29,743 Observation complete.\n",
      "soxs : [INFO     ] 2025-04-10 02:40:31,404 Making observation of source in evt_3_1P_1_n2.fits.\n"
     ]
    },
    {
     "name": "stdout",
     "output_type": "stream",
     "text": [
      "✅ Saved: plot_2_1P_1_n3.png\n",
      "🔄 Simulating for IllustrisTNG.1P_3.snap_032.halo_000.100ks.z0.05.z_simput.fits...\n"
     ]
    },
    {
     "name": "stderr",
     "output_type": "stream",
     "text": [
      "soxs : [INFO     ] 2025-04-10 02:40:32,855 Detecting events from source IllustrisTNG.1P_3.snap_032.halo_000.100ks.z0.05.z.\n",
      "soxs : [INFO     ] 2025-04-10 02:40:32,857 Applying energy-dependent effective area from lem_300522.arf.\n",
      "soxs : [INFO     ] 2025-04-10 02:40:33,177 Pixeling events.\n",
      "soxs : [INFO     ] 2025-04-10 02:40:33,215 Scattering events with a gaussian-based PSF.\n",
      "soxs : [INFO     ] 2025-04-10 02:40:33,224 107879 events were detected from the source.\n",
      "soxs : [INFO     ] 2025-04-10 02:40:33,230 Scattering energies with RMF lem_2.5ev_110422.rmf.\n"
     ]
    },
    {
     "data": {
      "application/vnd.jupyter.widget-view+json": {
       "model_id": "c312a0d87bb8418fbc0094433346fcf2",
       "version_major": 2,
       "version_minor": 0
      },
      "text/plain": [
       "Scattering energies :   0%|          | 0/107879 [00:00<?, ?it/s]"
      ]
     },
     "metadata": {},
     "output_type": "display_data"
    },
    {
     "name": "stderr",
     "output_type": "stream",
     "text": [
      "soxs : [INFO     ] 2025-04-10 02:40:37,996 Adding background events.\n",
      "soxs : [INFO     ] 2025-04-10 02:40:39,338 Adding in instrumental background.\n",
      "soxs : [INFO     ] 2025-04-10 02:40:39,468 Making 34268 events from the instrumental background.\n",
      "soxs : [INFO     ] 2025-04-10 02:40:39,478 Writing events to file evt_3_1P_1_n2.fits.\n",
      "soxs : [INFO     ] 2025-04-10 02:40:39,638 Observation complete.\n",
      "soxs : [INFO     ] 2025-04-10 02:40:41,383 Making observation of source in evt_4_1P_1_n1.fits.\n"
     ]
    },
    {
     "name": "stdout",
     "output_type": "stream",
     "text": [
      "✅ Saved: plot_3_1P_1_n2.png\n",
      "🔄 Simulating for IllustrisTNG.1P_4.snap_032.halo_000.100ks.z0.05.z_simput.fits...\n"
     ]
    },
    {
     "name": "stderr",
     "output_type": "stream",
     "text": [
      "soxs : [INFO     ] 2025-04-10 02:40:42,849 Detecting events from source IllustrisTNG.1P_4.snap_032.halo_000.100ks.z0.05.z.\n",
      "soxs : [INFO     ] 2025-04-10 02:40:42,851 Applying energy-dependent effective area from lem_300522.arf.\n",
      "soxs : [INFO     ] 2025-04-10 02:40:43,169 Pixeling events.\n",
      "soxs : [INFO     ] 2025-04-10 02:40:43,207 Scattering events with a gaussian-based PSF.\n",
      "soxs : [INFO     ] 2025-04-10 02:40:43,215 105589 events were detected from the source.\n",
      "soxs : [INFO     ] 2025-04-10 02:40:43,222 Scattering energies with RMF lem_2.5ev_110422.rmf.\n"
     ]
    },
    {
     "data": {
      "application/vnd.jupyter.widget-view+json": {
       "model_id": "ce71ea1883b24cc0aad8f1c0e3b485be",
       "version_major": 2,
       "version_minor": 0
      },
      "text/plain": [
       "Scattering energies :   0%|          | 0/105589 [00:00<?, ?it/s]"
      ]
     },
     "metadata": {},
     "output_type": "display_data"
    },
    {
     "name": "stderr",
     "output_type": "stream",
     "text": [
      "soxs : [INFO     ] 2025-04-10 02:40:48,008 Adding background events.\n",
      "soxs : [INFO     ] 2025-04-10 02:40:49,336 Adding in instrumental background.\n",
      "soxs : [INFO     ] 2025-04-10 02:40:49,469 Making 34220 events from the instrumental background.\n",
      "soxs : [INFO     ] 2025-04-10 02:40:49,479 Writing events to file evt_4_1P_1_n1.fits.\n",
      "soxs : [INFO     ] 2025-04-10 02:40:49,631 Observation complete.\n",
      "soxs : [INFO     ] 2025-04-10 02:40:51,303 Making observation of source in evt_5_1P_1_0.fits.\n"
     ]
    },
    {
     "name": "stdout",
     "output_type": "stream",
     "text": [
      "✅ Saved: plot_4_1P_1_n1.png\n",
      "🔄 Simulating for IllustrisTNG.1P_5.snap_032.halo_000.100ks.z0.05.z_simput.fits...\n"
     ]
    },
    {
     "name": "stderr",
     "output_type": "stream",
     "text": [
      "soxs : [INFO     ] 2025-04-10 02:40:52,772 Detecting events from source IllustrisTNG.1P_5.snap_032.halo_000.100ks.z0.05.z.\n",
      "soxs : [INFO     ] 2025-04-10 02:40:52,773 Applying energy-dependent effective area from lem_300522.arf.\n",
      "soxs : [INFO     ] 2025-04-10 02:40:53,111 Pixeling events.\n",
      "soxs : [INFO     ] 2025-04-10 02:40:53,150 Scattering events with a gaussian-based PSF.\n",
      "soxs : [INFO     ] 2025-04-10 02:40:53,159 107423 events were detected from the source.\n",
      "soxs : [INFO     ] 2025-04-10 02:40:53,165 Scattering energies with RMF lem_2.5ev_110422.rmf.\n"
     ]
    },
    {
     "data": {
      "application/vnd.jupyter.widget-view+json": {
       "model_id": "38a1bc02aaef41059041a9fa3f03e78b",
       "version_major": 2,
       "version_minor": 0
      },
      "text/plain": [
       "Scattering energies :   0%|          | 0/107423 [00:00<?, ?it/s]"
      ]
     },
     "metadata": {},
     "output_type": "display_data"
    },
    {
     "name": "stderr",
     "output_type": "stream",
     "text": [
      "soxs : [INFO     ] 2025-04-10 02:40:58,251 Adding background events.\n",
      "soxs : [INFO     ] 2025-04-10 02:40:59,575 Adding in instrumental background.\n",
      "soxs : [INFO     ] 2025-04-10 02:40:59,706 Making 34291 events from the instrumental background.\n",
      "soxs : [INFO     ] 2025-04-10 02:40:59,717 Writing events to file evt_5_1P_1_0.fits.\n",
      "soxs : [INFO     ] 2025-04-10 02:40:59,862 Observation complete.\n",
      "soxs : [INFO     ] 2025-04-10 02:41:01,601 Making observation of source in evt_6_1P_1_1.fits.\n"
     ]
    },
    {
     "name": "stdout",
     "output_type": "stream",
     "text": [
      "✅ Saved: plot_5_1P_1_0.png\n",
      "🔄 Simulating for IllustrisTNG.1P_6.snap_032.halo_000.100ks.z0.05.z_simput.fits...\n"
     ]
    },
    {
     "name": "stderr",
     "output_type": "stream",
     "text": [
      "soxs : [INFO     ] 2025-04-10 02:41:03,138 Detecting events from source IllustrisTNG.1P_6.snap_032.halo_000.100ks.z0.05.z.\n",
      "soxs : [INFO     ] 2025-04-10 02:41:03,139 Applying energy-dependent effective area from lem_300522.arf.\n",
      "soxs : [INFO     ] 2025-04-10 02:41:03,619 Pixeling events.\n",
      "soxs : [INFO     ] 2025-04-10 02:41:03,981 Scattering events with a gaussian-based PSF.\n",
      "soxs : [INFO     ] 2025-04-10 02:41:04,184 148886 events were detected from the source.\n",
      "soxs : [INFO     ] 2025-04-10 02:41:04,195 Scattering energies with RMF lem_2.5ev_110422.rmf.\n"
     ]
    },
    {
     "data": {
      "application/vnd.jupyter.widget-view+json": {
       "model_id": "1eae6f557eb7456a959d72b76a6767b3",
       "version_major": 2,
       "version_minor": 0
      },
      "text/plain": [
       "Scattering energies :   0%|          | 0/148886 [00:00<?, ?it/s]"
      ]
     },
     "metadata": {},
     "output_type": "display_data"
    },
    {
     "name": "stderr",
     "output_type": "stream",
     "text": [
      "soxs : [INFO     ] 2025-04-10 02:41:09,727 Adding background events.\n",
      "soxs : [INFO     ] 2025-04-10 02:41:11,043 Adding in instrumental background.\n",
      "soxs : [INFO     ] 2025-04-10 02:41:11,177 Making 34363 events from the instrumental background.\n",
      "soxs : [INFO     ] 2025-04-10 02:41:11,190 Writing events to file evt_6_1P_1_1.fits.\n",
      "soxs : [INFO     ] 2025-04-10 02:41:11,364 Observation complete.\n",
      "soxs : [INFO     ] 2025-04-10 02:41:13,140 Making observation of source in evt_7_1P_1_2.fits.\n"
     ]
    },
    {
     "name": "stdout",
     "output_type": "stream",
     "text": [
      "✅ Saved: plot_6_1P_1_1.png\n",
      "🔄 Simulating for IllustrisTNG.1P_7.snap_032.halo_000.100ks.z0.05.z_simput.fits...\n"
     ]
    },
    {
     "name": "stderr",
     "output_type": "stream",
     "text": [
      "soxs : [INFO     ] 2025-04-10 02:41:14,627 Detecting events from source IllustrisTNG.1P_7.snap_032.halo_000.100ks.z0.05.z.\n",
      "soxs : [INFO     ] 2025-04-10 02:41:14,629 Applying energy-dependent effective area from lem_300522.arf.\n",
      "soxs : [INFO     ] 2025-04-10 02:41:15,093 Pixeling events.\n",
      "soxs : [INFO     ] 2025-04-10 02:41:15,145 Scattering events with a gaussian-based PSF.\n",
      "soxs : [INFO     ] 2025-04-10 02:41:15,177 149040 events were detected from the source.\n",
      "soxs : [INFO     ] 2025-04-10 02:41:15,188 Scattering energies with RMF lem_2.5ev_110422.rmf.\n"
     ]
    },
    {
     "data": {
      "application/vnd.jupyter.widget-view+json": {
       "model_id": "140e6d3312e7475c880ed5fef6d8c362",
       "version_major": 2,
       "version_minor": 0
      },
      "text/plain": [
       "Scattering energies :   0%|          | 0/149040 [00:00<?, ?it/s]"
      ]
     },
     "metadata": {},
     "output_type": "display_data"
    },
    {
     "name": "stderr",
     "output_type": "stream",
     "text": [
      "soxs : [INFO     ] 2025-04-10 02:41:20,934 Adding background events.\n",
      "soxs : [INFO     ] 2025-04-10 02:41:22,326 Adding in instrumental background.\n",
      "soxs : [INFO     ] 2025-04-10 02:41:22,469 Making 33737 events from the instrumental background.\n",
      "soxs : [INFO     ] 2025-04-10 02:41:22,484 Writing events to file evt_7_1P_1_2.fits.\n",
      "soxs : [INFO     ] 2025-04-10 02:41:22,673 Observation complete.\n",
      "soxs : [INFO     ] 2025-04-10 02:41:24,394 Making observation of source in evt_8_1P_1_3.fits.\n"
     ]
    },
    {
     "name": "stdout",
     "output_type": "stream",
     "text": [
      "✅ Saved: plot_7_1P_1_2.png\n",
      "🔄 Simulating for IllustrisTNG.1P_8.snap_032.halo_000.100ks.z0.05.z_simput.fits...\n"
     ]
    },
    {
     "name": "stderr",
     "output_type": "stream",
     "text": [
      "soxs : [INFO     ] 2025-04-10 02:41:25,944 Detecting events from source IllustrisTNG.1P_8.snap_032.halo_000.100ks.z0.05.z.\n",
      "soxs : [INFO     ] 2025-04-10 02:41:25,945 Applying energy-dependent effective area from lem_300522.arf.\n",
      "soxs : [INFO     ] 2025-04-10 02:41:26,517 Pixeling events.\n",
      "soxs : [INFO     ] 2025-04-10 02:41:26,583 Scattering events with a gaussian-based PSF.\n",
      "soxs : [INFO     ] 2025-04-10 02:41:26,597 176804 events were detected from the source.\n",
      "soxs : [INFO     ] 2025-04-10 02:41:26,610 Scattering energies with RMF lem_2.5ev_110422.rmf.\n"
     ]
    },
    {
     "data": {
      "application/vnd.jupyter.widget-view+json": {
       "model_id": "1f5d581abac84941a6bd11663f3087dc",
       "version_major": 2,
       "version_minor": 0
      },
      "text/plain": [
       "Scattering energies :   0%|          | 0/176804 [00:00<?, ?it/s]"
      ]
     },
     "metadata": {},
     "output_type": "display_data"
    },
    {
     "name": "stderr",
     "output_type": "stream",
     "text": [
      "soxs : [INFO     ] 2025-04-10 02:41:32,977 Adding background events.\n",
      "soxs : [INFO     ] 2025-04-10 02:41:34,395 Adding in instrumental background.\n",
      "soxs : [INFO     ] 2025-04-10 02:41:34,532 Making 34148 events from the instrumental background.\n",
      "soxs : [INFO     ] 2025-04-10 02:41:34,546 Writing events to file evt_8_1P_1_3.fits.\n",
      "soxs : [INFO     ] 2025-04-10 02:41:34,760 Observation complete.\n",
      "soxs : [INFO     ] 2025-04-10 02:41:36,479 Making observation of source in evt_9_1P_1_4.fits.\n"
     ]
    },
    {
     "name": "stdout",
     "output_type": "stream",
     "text": [
      "✅ Saved: plot_8_1P_1_3.png\n",
      "🔄 Simulating for IllustrisTNG.1P_9.snap_032.halo_000.100ks.z0.05.z_simput.fits...\n"
     ]
    },
    {
     "name": "stderr",
     "output_type": "stream",
     "text": [
      "soxs : [INFO     ] 2025-04-10 02:41:38,135 Detecting events from source IllustrisTNG.1P_9.snap_032.halo_000.100ks.z0.05.z.\n",
      "soxs : [INFO     ] 2025-04-10 02:41:38,137 Applying energy-dependent effective area from lem_300522.arf.\n",
      "soxs : [INFO     ] 2025-04-10 02:41:38,869 Pixeling events.\n",
      "soxs : [INFO     ] 2025-04-10 02:41:38,976 Scattering events with a gaussian-based PSF.\n",
      "soxs : [INFO     ] 2025-04-10 02:41:38,993 220974 events were detected from the source.\n",
      "soxs : [INFO     ] 2025-04-10 02:41:39,080 Scattering energies with RMF lem_2.5ev_110422.rmf.\n"
     ]
    },
    {
     "data": {
      "application/vnd.jupyter.widget-view+json": {
       "model_id": "7137279db16c46f699bfa28e4a004797",
       "version_major": 2,
       "version_minor": 0
      },
      "text/plain": [
       "Scattering energies :   0%|          | 0/220974 [00:00<?, ?it/s]"
      ]
     },
     "metadata": {},
     "output_type": "display_data"
    },
    {
     "name": "stderr",
     "output_type": "stream",
     "text": [
      "soxs : [INFO     ] 2025-04-10 02:41:46,030 Adding background events.\n",
      "soxs : [INFO     ] 2025-04-10 02:41:47,601 Adding in instrumental background.\n",
      "soxs : [INFO     ] 2025-04-10 02:41:47,729 Making 34238 events from the instrumental background.\n",
      "soxs : [INFO     ] 2025-04-10 02:41:47,744 Writing events to file evt_9_1P_1_4.fits.\n",
      "soxs : [INFO     ] 2025-04-10 02:41:47,975 Observation complete.\n",
      "soxs : [INFO     ] 2025-04-10 02:41:49,638 Making observation of source in evt_10_1P_1_5.fits.\n"
     ]
    },
    {
     "name": "stdout",
     "output_type": "stream",
     "text": [
      "✅ Saved: plot_9_1P_1_4.png\n",
      "🔄 Simulating for IllustrisTNG.1P_10.snap_032.halo_000.100ks.z0.05.z_simput.fits...\n"
     ]
    },
    {
     "name": "stderr",
     "output_type": "stream",
     "text": [
      "soxs : [INFO     ] 2025-04-10 02:41:51,360 Detecting events from source IllustrisTNG.1P_10.snap_032.halo_000.100ks.z0.05.z.\n",
      "soxs : [INFO     ] 2025-04-10 02:41:51,362 Applying energy-dependent effective area from lem_300522.arf.\n",
      "soxs : [INFO     ] 2025-04-10 02:41:52,000 Pixeling events.\n",
      "soxs : [INFO     ] 2025-04-10 02:41:52,082 Scattering events with a gaussian-based PSF.\n",
      "soxs : [INFO     ] 2025-04-10 02:41:52,098 201513 events were detected from the source.\n",
      "soxs : [INFO     ] 2025-04-10 02:41:52,183 Scattering energies with RMF lem_2.5ev_110422.rmf.\n"
     ]
    },
    {
     "data": {
      "application/vnd.jupyter.widget-view+json": {
       "model_id": "4cb55835567e4060b03a3fc835e38cb7",
       "version_major": 2,
       "version_minor": 0
      },
      "text/plain": [
       "Scattering energies :   0%|          | 0/201513 [00:00<?, ?it/s]"
      ]
     },
     "metadata": {},
     "output_type": "display_data"
    },
    {
     "name": "stderr",
     "output_type": "stream",
     "text": [
      "soxs : [INFO     ] 2025-04-10 02:41:58,939 Adding background events.\n",
      "soxs : [INFO     ] 2025-04-10 02:42:00,299 Adding in instrumental background.\n",
      "soxs : [INFO     ] 2025-04-10 02:42:00,430 Making 34036 events from the instrumental background.\n",
      "soxs : [INFO     ] 2025-04-10 02:42:00,445 Writing events to file evt_10_1P_1_5.fits.\n",
      "soxs : [INFO     ] 2025-04-10 02:42:00,661 Observation complete.\n",
      "soxs : [INFO     ] 2025-04-10 02:42:02,918 Making observation of source in evt_11_1P_2_n5.fits.\n"
     ]
    },
    {
     "name": "stdout",
     "output_type": "stream",
     "text": [
      "✅ Saved: plot_10_1P_1_5.png\n",
      "🔄 Simulating for IllustrisTNG.1P_11.snap_032.halo_000.100ks.z0.05.z_simput.fits...\n"
     ]
    },
    {
     "name": "stderr",
     "output_type": "stream",
     "text": [
      "soxs : [INFO     ] 2025-04-10 02:42:04,804 Detecting events from source IllustrisTNG.1P_11.snap_032.halo_000.100ks.z0.05.z.\n",
      "soxs : [INFO     ] 2025-04-10 02:42:04,807 Applying energy-dependent effective area from lem_300522.arf.\n",
      "soxs : [INFO     ] 2025-04-10 02:42:05,033 Pixeling events.\n",
      "soxs : [INFO     ] 2025-04-10 02:42:05,063 Scattering events with a gaussian-based PSF.\n",
      "soxs : [INFO     ] 2025-04-10 02:42:05,076 75421 events were detected from the source.\n",
      "soxs : [INFO     ] 2025-04-10 02:42:05,083 Scattering energies with RMF lem_2.5ev_110422.rmf.\n"
     ]
    },
    {
     "data": {
      "application/vnd.jupyter.widget-view+json": {
       "model_id": "e4ff35faa1c74f918d86b168aecd6515",
       "version_major": 2,
       "version_minor": 0
      },
      "text/plain": [
       "Scattering energies :   0%|          | 0/75421 [00:00<?, ?it/s]"
      ]
     },
     "metadata": {},
     "output_type": "display_data"
    },
    {
     "name": "stderr",
     "output_type": "stream",
     "text": [
      "soxs : [INFO     ] 2025-04-10 02:42:09,748 Adding background events.\n",
      "soxs : [INFO     ] 2025-04-10 02:42:11,137 Adding in instrumental background.\n",
      "soxs : [INFO     ] 2025-04-10 02:42:11,273 Making 33968 events from the instrumental background.\n",
      "soxs : [INFO     ] 2025-04-10 02:42:11,286 Writing events to file evt_11_1P_2_n5.fits.\n",
      "soxs : [INFO     ] 2025-04-10 02:42:11,415 Observation complete.\n",
      "soxs : [INFO     ] 2025-04-10 02:42:13,119 Making observation of source in evt_12_1P_2_n4.fits.\n"
     ]
    },
    {
     "name": "stdout",
     "output_type": "stream",
     "text": [
      "✅ Saved: plot_11_1P_2_n5.png\n",
      "🔄 Simulating for IllustrisTNG.1P_12.snap_032.halo_000.100ks.z0.05.z_simput.fits...\n"
     ]
    },
    {
     "name": "stderr",
     "output_type": "stream",
     "text": [
      "soxs : [INFO     ] 2025-04-10 02:42:15,093 Detecting events from source IllustrisTNG.1P_12.snap_032.halo_000.100ks.z0.05.z.\n",
      "soxs : [INFO     ] 2025-04-10 02:42:15,094 Applying energy-dependent effective area from lem_300522.arf.\n",
      "soxs : [INFO     ] 2025-04-10 02:42:15,298 Pixeling events.\n",
      "soxs : [INFO     ] 2025-04-10 02:42:15,324 Scattering events with a gaussian-based PSF.\n",
      "soxs : [INFO     ] 2025-04-10 02:42:15,330 69304 events were detected from the source.\n",
      "soxs : [INFO     ] 2025-04-10 02:42:15,335 Scattering energies with RMF lem_2.5ev_110422.rmf.\n"
     ]
    },
    {
     "data": {
      "application/vnd.jupyter.widget-view+json": {
       "model_id": "eb744d867ba4466c9b59e1deb05437c1",
       "version_major": 2,
       "version_minor": 0
      },
      "text/plain": [
       "Scattering energies :   0%|          | 0/69304 [00:00<?, ?it/s]"
      ]
     },
     "metadata": {},
     "output_type": "display_data"
    },
    {
     "name": "stderr",
     "output_type": "stream",
     "text": [
      "soxs : [INFO     ] 2025-04-10 02:42:19,923 Adding background events.\n",
      "soxs : [INFO     ] 2025-04-10 02:42:21,287 Adding in instrumental background.\n",
      "soxs : [INFO     ] 2025-04-10 02:42:21,421 Making 34066 events from the instrumental background.\n",
      "soxs : [INFO     ] 2025-04-10 02:42:21,437 Writing events to file evt_12_1P_2_n4.fits.\n",
      "soxs : [INFO     ] 2025-04-10 02:42:21,567 Observation complete.\n",
      "soxs : [INFO     ] 2025-04-10 02:42:23,248 Making observation of source in evt_13_1P_2_n3.fits.\n"
     ]
    },
    {
     "name": "stdout",
     "output_type": "stream",
     "text": [
      "✅ Saved: plot_12_1P_2_n4.png\n",
      "🔄 Simulating for IllustrisTNG.1P_13.snap_032.halo_000.100ks.z0.05.z_simput.fits...\n"
     ]
    },
    {
     "name": "stderr",
     "output_type": "stream",
     "text": [
      "soxs : [INFO     ] 2025-04-10 02:42:25,438 Detecting events from source IllustrisTNG.1P_13.snap_032.halo_000.100ks.z0.05.z.\n",
      "soxs : [INFO     ] 2025-04-10 02:42:25,440 Applying energy-dependent effective area from lem_300522.arf.\n",
      "soxs : [INFO     ] 2025-04-10 02:42:25,705 Pixeling events.\n",
      "soxs : [INFO     ] 2025-04-10 02:42:25,738 Scattering events with a gaussian-based PSF.\n",
      "soxs : [INFO     ] 2025-04-10 02:42:25,745 89441 events were detected from the source.\n",
      "soxs : [INFO     ] 2025-04-10 02:42:25,751 Scattering energies with RMF lem_2.5ev_110422.rmf.\n"
     ]
    },
    {
     "data": {
      "application/vnd.jupyter.widget-view+json": {
       "model_id": "50588bbbce064f888a25c13ab41ae01c",
       "version_major": 2,
       "version_minor": 0
      },
      "text/plain": [
       "Scattering energies :   0%|          | 0/89441 [00:00<?, ?it/s]"
      ]
     },
     "metadata": {},
     "output_type": "display_data"
    },
    {
     "name": "stderr",
     "output_type": "stream",
     "text": [
      "soxs : [INFO     ] 2025-04-10 02:42:30,459 Adding background events.\n",
      "soxs : [INFO     ] 2025-04-10 02:42:31,804 Adding in instrumental background.\n",
      "soxs : [INFO     ] 2025-04-10 02:42:31,935 Making 34141 events from the instrumental background.\n",
      "soxs : [INFO     ] 2025-04-10 02:42:31,948 Writing events to file evt_13_1P_2_n3.fits.\n",
      "soxs : [INFO     ] 2025-04-10 02:42:32,087 Observation complete.\n",
      "soxs : [INFO     ] 2025-04-10 02:42:33,759 Making observation of source in evt_14_1P_2_n2.fits.\n"
     ]
    },
    {
     "name": "stdout",
     "output_type": "stream",
     "text": [
      "✅ Saved: plot_13_1P_2_n3.png\n",
      "🔄 Simulating for IllustrisTNG.1P_14.snap_032.halo_000.100ks.z0.05.z_simput.fits...\n"
     ]
    },
    {
     "name": "stderr",
     "output_type": "stream",
     "text": [
      "soxs : [INFO     ] 2025-04-10 02:42:35,712 Detecting events from source IllustrisTNG.1P_14.snap_032.halo_000.100ks.z0.05.z.\n",
      "soxs : [INFO     ] 2025-04-10 02:42:35,714 Applying energy-dependent effective area from lem_300522.arf.\n",
      "soxs : [INFO     ] 2025-04-10 02:42:35,975 Pixeling events.\n",
      "soxs : [INFO     ] 2025-04-10 02:42:36,009 Scattering events with a gaussian-based PSF.\n",
      "soxs : [INFO     ] 2025-04-10 02:42:36,017 90184 events were detected from the source.\n",
      "soxs : [INFO     ] 2025-04-10 02:42:36,022 Scattering energies with RMF lem_2.5ev_110422.rmf.\n"
     ]
    },
    {
     "data": {
      "application/vnd.jupyter.widget-view+json": {
       "model_id": "023c43623cfb48a5b20f58cc0a049968",
       "version_major": 2,
       "version_minor": 0
      },
      "text/plain": [
       "Scattering energies :   0%|          | 0/90184 [00:00<?, ?it/s]"
      ]
     },
     "metadata": {},
     "output_type": "display_data"
    },
    {
     "name": "stderr",
     "output_type": "stream",
     "text": [
      "soxs : [INFO     ] 2025-04-10 02:42:40,641 Adding background events.\n",
      "soxs : [INFO     ] 2025-04-10 02:42:41,960 Adding in instrumental background.\n",
      "soxs : [INFO     ] 2025-04-10 02:42:42,091 Making 33956 events from the instrumental background.\n",
      "soxs : [INFO     ] 2025-04-10 02:42:42,103 Writing events to file evt_14_1P_2_n2.fits.\n",
      "soxs : [INFO     ] 2025-04-10 02:42:42,240 Observation complete.\n",
      "soxs : [INFO     ] 2025-04-10 02:42:43,850 Making observation of source in evt_15_1P_2_n1.fits.\n"
     ]
    },
    {
     "name": "stdout",
     "output_type": "stream",
     "text": [
      "✅ Saved: plot_14_1P_2_n2.png\n",
      "🔄 Simulating for IllustrisTNG.1P_15.snap_032.halo_000.100ks.z0.05.z_simput.fits...\n"
     ]
    },
    {
     "name": "stderr",
     "output_type": "stream",
     "text": [
      "soxs : [INFO     ] 2025-04-10 02:42:45,923 Detecting events from source IllustrisTNG.1P_15.snap_032.halo_000.100ks.z0.05.z.\n",
      "soxs : [INFO     ] 2025-04-10 02:42:45,925 Applying energy-dependent effective area from lem_300522.arf.\n",
      "soxs : [INFO     ] 2025-04-10 02:42:46,272 Pixeling events.\n",
      "soxs : [INFO     ] 2025-04-10 02:42:46,311 Scattering events with a gaussian-based PSF.\n",
      "soxs : [INFO     ] 2025-04-10 02:42:46,320 114459 events were detected from the source.\n",
      "soxs : [INFO     ] 2025-04-10 02:42:46,327 Scattering energies with RMF lem_2.5ev_110422.rmf.\n"
     ]
    },
    {
     "data": {
      "application/vnd.jupyter.widget-view+json": {
       "model_id": "9aa5f26c5d07455e969fcd61512d87a7",
       "version_major": 2,
       "version_minor": 0
      },
      "text/plain": [
       "Scattering energies :   0%|          | 0/114459 [00:00<?, ?it/s]"
      ]
     },
     "metadata": {},
     "output_type": "display_data"
    },
    {
     "name": "stderr",
     "output_type": "stream",
     "text": [
      "soxs : [INFO     ] 2025-04-10 02:42:51,326 Adding background events.\n",
      "soxs : [INFO     ] 2025-04-10 02:42:52,701 Adding in instrumental background.\n",
      "soxs : [INFO     ] 2025-04-10 02:42:52,831 Making 33907 events from the instrumental background.\n",
      "soxs : [INFO     ] 2025-04-10 02:42:52,843 Writing events to file evt_15_1P_2_n1.fits.\n",
      "soxs : [INFO     ] 2025-04-10 02:42:52,995 Observation complete.\n",
      "soxs : [INFO     ] 2025-04-10 02:42:54,583 Making observation of source in evt_16_1P_2_0.fits.\n"
     ]
    },
    {
     "name": "stdout",
     "output_type": "stream",
     "text": [
      "✅ Saved: plot_15_1P_2_n1.png\n",
      "🔄 Simulating for IllustrisTNG.1P_16.snap_032.halo_000.100ks.z0.05.z_simput.fits...\n"
     ]
    },
    {
     "name": "stderr",
     "output_type": "stream",
     "text": [
      "soxs : [INFO     ] 2025-04-10 02:42:56,118 Detecting events from source IllustrisTNG.1P_16.snap_032.halo_000.100ks.z0.05.z.\n",
      "soxs : [INFO     ] 2025-04-10 02:42:56,119 Applying energy-dependent effective area from lem_300522.arf.\n",
      "soxs : [INFO     ] 2025-04-10 02:42:56,438 Pixeling events.\n",
      "soxs : [INFO     ] 2025-04-10 02:42:56,478 Scattering events with a gaussian-based PSF.\n",
      "soxs : [INFO     ] 2025-04-10 02:42:56,487 107961 events were detected from the source.\n",
      "soxs : [INFO     ] 2025-04-10 02:42:56,494 Scattering energies with RMF lem_2.5ev_110422.rmf.\n"
     ]
    },
    {
     "data": {
      "application/vnd.jupyter.widget-view+json": {
       "model_id": "d508d1c6ac3049c188efb1d1d093bb3f",
       "version_major": 2,
       "version_minor": 0
      },
      "text/plain": [
       "Scattering energies :   0%|          | 0/107961 [00:00<?, ?it/s]"
      ]
     },
     "metadata": {},
     "output_type": "display_data"
    },
    {
     "name": "stderr",
     "output_type": "stream",
     "text": [
      "soxs : [INFO     ] 2025-04-10 02:43:01,525 Adding background events.\n",
      "soxs : [INFO     ] 2025-04-10 02:43:02,883 Adding in instrumental background.\n",
      "soxs : [INFO     ] 2025-04-10 02:43:03,016 Making 33721 events from the instrumental background.\n",
      "soxs : [INFO     ] 2025-04-10 02:43:03,027 Writing events to file evt_16_1P_2_0.fits.\n",
      "soxs : [INFO     ] 2025-04-10 02:43:03,175 Observation complete.\n",
      "soxs : [INFO     ] 2025-04-10 02:43:04,855 Making observation of source in evt_17_1P_2_1.fits.\n"
     ]
    },
    {
     "name": "stdout",
     "output_type": "stream",
     "text": [
      "✅ Saved: plot_16_1P_2_0.png\n",
      "🔄 Simulating for IllustrisTNG.1P_17.snap_032.halo_000.100ks.z0.05.z_simput.fits...\n"
     ]
    },
    {
     "name": "stderr",
     "output_type": "stream",
     "text": [
      "soxs : [INFO     ] 2025-04-10 02:43:06,340 Detecting events from source IllustrisTNG.1P_17.snap_032.halo_000.100ks.z0.05.z.\n",
      "soxs : [INFO     ] 2025-04-10 02:43:06,341 Applying energy-dependent effective area from lem_300522.arf.\n",
      "soxs : [INFO     ] 2025-04-10 02:43:06,700 Pixeling events.\n",
      "soxs : [INFO     ] 2025-04-10 02:43:06,742 Scattering events with a gaussian-based PSF.\n",
      "soxs : [INFO     ] 2025-04-10 02:43:06,752 119114 events were detected from the source.\n",
      "soxs : [INFO     ] 2025-04-10 02:43:06,760 Scattering energies with RMF lem_2.5ev_110422.rmf.\n"
     ]
    },
    {
     "data": {
      "application/vnd.jupyter.widget-view+json": {
       "model_id": "d9365f6940c645b5bd24290adf82cd3c",
       "version_major": 2,
       "version_minor": 0
      },
      "text/plain": [
       "Scattering energies :   0%|          | 0/119114 [00:00<?, ?it/s]"
      ]
     },
     "metadata": {},
     "output_type": "display_data"
    },
    {
     "name": "stderr",
     "output_type": "stream",
     "text": [
      "soxs : [INFO     ] 2025-04-10 02:43:11,931 Adding background events.\n",
      "soxs : [INFO     ] 2025-04-10 02:43:13,274 Adding in instrumental background.\n",
      "soxs : [INFO     ] 2025-04-10 02:43:13,405 Making 34341 events from the instrumental background.\n",
      "soxs : [INFO     ] 2025-04-10 02:43:13,417 Writing events to file evt_17_1P_2_1.fits.\n",
      "soxs : [INFO     ] 2025-04-10 02:43:13,585 Observation complete.\n",
      "soxs : [INFO     ] 2025-04-10 02:43:15,288 Making observation of source in evt_18_1P_2_2.fits.\n"
     ]
    },
    {
     "name": "stdout",
     "output_type": "stream",
     "text": [
      "✅ Saved: plot_17_1P_2_1.png\n",
      "🔄 Simulating for IllustrisTNG.1P_18.snap_032.halo_000.100ks.z0.05.z_simput.fits...\n"
     ]
    },
    {
     "name": "stderr",
     "output_type": "stream",
     "text": [
      "soxs : [INFO     ] 2025-04-10 02:43:17,801 Detecting events from source IllustrisTNG.1P_18.snap_032.halo_000.100ks.z0.05.z.\n",
      "soxs : [INFO     ] 2025-04-10 02:43:17,803 Applying energy-dependent effective area from lem_300522.arf.\n",
      "soxs : [INFO     ] 2025-04-10 02:43:18,269 Pixeling events.\n",
      "soxs : [INFO     ] 2025-04-10 02:43:18,322 Scattering events with a gaussian-based PSF.\n",
      "soxs : [INFO     ] 2025-04-10 02:43:18,334 150756 events were detected from the source.\n",
      "soxs : [INFO     ] 2025-04-10 02:43:18,376 Scattering energies with RMF lem_2.5ev_110422.rmf.\n"
     ]
    },
    {
     "data": {
      "application/vnd.jupyter.widget-view+json": {
       "model_id": "9afbb457a3674d819149bcbd1553dda7",
       "version_major": 2,
       "version_minor": 0
      },
      "text/plain": [
       "Scattering energies :   0%|          | 0/150756 [00:00<?, ?it/s]"
      ]
     },
     "metadata": {},
     "output_type": "display_data"
    },
    {
     "name": "stderr",
     "output_type": "stream",
     "text": [
      "soxs : [INFO     ] 2025-04-10 02:43:24,171 Adding background events.\n",
      "soxs : [INFO     ] 2025-04-10 02:43:25,534 Adding in instrumental background.\n",
      "soxs : [INFO     ] 2025-04-10 02:43:25,665 Making 34124 events from the instrumental background.\n",
      "soxs : [INFO     ] 2025-04-10 02:43:25,679 Writing events to file evt_18_1P_2_2.fits.\n",
      "soxs : [INFO     ] 2025-04-10 02:43:25,859 Observation complete.\n",
      "soxs : [INFO     ] 2025-04-10 02:43:27,565 Making observation of source in evt_19_1P_2_3.fits.\n"
     ]
    },
    {
     "name": "stdout",
     "output_type": "stream",
     "text": [
      "✅ Saved: plot_18_1P_2_2.png\n",
      "🔄 Simulating for IllustrisTNG.1P_19.snap_032.halo_000.100ks.z0.05.z_simput.fits...\n"
     ]
    },
    {
     "name": "stderr",
     "output_type": "stream",
     "text": [
      "soxs : [INFO     ] 2025-04-10 02:43:30,144 Detecting events from source IllustrisTNG.1P_19.snap_032.halo_000.100ks.z0.05.z.\n",
      "soxs : [INFO     ] 2025-04-10 02:43:30,145 Applying energy-dependent effective area from lem_300522.arf.\n",
      "soxs : [INFO     ] 2025-04-10 02:43:30,820 Pixeling events.\n",
      "soxs : [INFO     ] 2025-04-10 02:43:30,894 Scattering events with a gaussian-based PSF.\n",
      "soxs : [INFO     ] 2025-04-10 02:43:30,909 216776 events were detected from the source.\n",
      "soxs : [INFO     ] 2025-04-10 02:43:30,988 Scattering energies with RMF lem_2.5ev_110422.rmf.\n"
     ]
    },
    {
     "data": {
      "application/vnd.jupyter.widget-view+json": {
       "model_id": "8d000c3e72b64474af69795a12672979",
       "version_major": 2,
       "version_minor": 0
      },
      "text/plain": [
       "Scattering energies :   0%|          | 0/216776 [00:00<?, ?it/s]"
      ]
     },
     "metadata": {},
     "output_type": "display_data"
    },
    {
     "name": "stderr",
     "output_type": "stream",
     "text": [
      "soxs : [INFO     ] 2025-04-10 02:43:37,529 Adding background events.\n",
      "soxs : [INFO     ] 2025-04-10 02:43:38,933 Adding in instrumental background.\n",
      "soxs : [INFO     ] 2025-04-10 02:43:39,073 Making 34416 events from the instrumental background.\n",
      "soxs : [INFO     ] 2025-04-10 02:43:39,088 Writing events to file evt_19_1P_2_3.fits.\n",
      "soxs : [INFO     ] 2025-04-10 02:43:39,311 Observation complete.\n",
      "soxs : [INFO     ] 2025-04-10 02:43:40,946 Making observation of source in evt_20_1P_2_4.fits.\n"
     ]
    },
    {
     "name": "stdout",
     "output_type": "stream",
     "text": [
      "✅ Saved: plot_19_1P_2_3.png\n",
      "🔄 Simulating for IllustrisTNG.1P_20.snap_032.halo_000.100ks.z0.05.z_simput.fits...\n"
     ]
    },
    {
     "name": "stderr",
     "output_type": "stream",
     "text": [
      "soxs : [INFO     ] 2025-04-10 02:43:43,784 Detecting events from source IllustrisTNG.1P_20.snap_032.halo_000.100ks.z0.05.z.\n",
      "soxs : [INFO     ] 2025-04-10 02:43:43,786 Applying energy-dependent effective area from lem_300522.arf.\n",
      "soxs : [INFO     ] 2025-04-10 02:43:44,452 Pixeling events.\n",
      "soxs : [INFO     ] 2025-04-10 02:43:44,526 Scattering events with a gaussian-based PSF.\n",
      "soxs : [INFO     ] 2025-04-10 02:43:44,581 214855 events were detected from the source.\n",
      "soxs : [INFO     ] 2025-04-10 02:43:44,598 Scattering energies with RMF lem_2.5ev_110422.rmf.\n"
     ]
    },
    {
     "data": {
      "application/vnd.jupyter.widget-view+json": {
       "model_id": "44243303f64b4b07a044e00dfbc64960",
       "version_major": 2,
       "version_minor": 0
      },
      "text/plain": [
       "Scattering energies :   0%|          | 0/214855 [00:00<?, ?it/s]"
      ]
     },
     "metadata": {},
     "output_type": "display_data"
    },
    {
     "name": "stderr",
     "output_type": "stream",
     "text": [
      "soxs : [INFO     ] 2025-04-10 02:43:51,185 Adding background events.\n",
      "soxs : [INFO     ] 2025-04-10 02:43:52,559 Adding in instrumental background.\n",
      "soxs : [INFO     ] 2025-04-10 02:43:52,692 Making 34114 events from the instrumental background.\n",
      "soxs : [INFO     ] 2025-04-10 02:43:52,706 Writing events to file evt_20_1P_2_4.fits.\n",
      "soxs : [INFO     ] 2025-04-10 02:43:52,939 Observation complete.\n",
      "soxs : [INFO     ] 2025-04-10 02:43:54,620 Making observation of source in evt_21_1P_2_5.fits.\n"
     ]
    },
    {
     "name": "stdout",
     "output_type": "stream",
     "text": [
      "✅ Saved: plot_20_1P_2_4.png\n",
      "🔄 Simulating for IllustrisTNG.1P_21.snap_032.halo_000.100ks.z0.05.z_simput.fits...\n"
     ]
    },
    {
     "name": "stderr",
     "output_type": "stream",
     "text": [
      "soxs : [INFO     ] 2025-04-10 02:43:58,782 Detecting events from source IllustrisTNG.1P_21.snap_032.halo_000.100ks.z0.05.z.\n",
      "soxs : [INFO     ] 2025-04-10 02:43:58,784 Applying energy-dependent effective area from lem_300522.arf.\n",
      "soxs : [INFO     ] 2025-04-10 02:43:59,847 Pixeling events.\n",
      "soxs : [INFO     ] 2025-04-10 02:44:00,077 Scattering events with a gaussian-based PSF.\n",
      "soxs : [INFO     ] 2025-04-10 02:44:00,101 325301 events were detected from the source.\n",
      "soxs : [INFO     ] 2025-04-10 02:44:00,127 Scattering energies with RMF lem_2.5ev_110422.rmf.\n"
     ]
    },
    {
     "data": {
      "application/vnd.jupyter.widget-view+json": {
       "model_id": "952d0c1c8d0444b180f1410355a21853",
       "version_major": 2,
       "version_minor": 0
      },
      "text/plain": [
       "Scattering energies :   0%|          | 0/325301 [00:00<?, ?it/s]"
      ]
     },
     "metadata": {},
     "output_type": "display_data"
    },
    {
     "name": "stderr",
     "output_type": "stream",
     "text": [
      "soxs : [INFO     ] 2025-04-10 02:44:07,781 Adding background events.\n",
      "soxs : [INFO     ] 2025-04-10 02:44:09,161 Adding in instrumental background.\n",
      "soxs : [INFO     ] 2025-04-10 02:44:09,306 Making 34509 events from the instrumental background.\n",
      "soxs : [INFO     ] 2025-04-10 02:44:09,331 Writing events to file evt_21_1P_2_5.fits.\n",
      "soxs : [INFO     ] 2025-04-10 02:44:09,698 Observation complete.\n",
      "soxs : [INFO     ] 2025-04-10 02:44:11,587 Making observation of source in evt_22_1P_3_n5.fits.\n"
     ]
    },
    {
     "name": "stdout",
     "output_type": "stream",
     "text": [
      "✅ Saved: plot_21_1P_2_5.png\n",
      "🔄 Simulating for IllustrisTNG.1P_22.snap_032.halo_000.100ks.z0.05.z_simput.fits...\n"
     ]
    },
    {
     "name": "stderr",
     "output_type": "stream",
     "text": [
      "soxs : [INFO     ] 2025-04-10 02:44:16,049 Detecting events from source IllustrisTNG.1P_22.snap_032.halo_000.100ks.z0.05.z.\n",
      "soxs : [INFO     ] 2025-04-10 02:44:16,052 Applying energy-dependent effective area from lem_300522.arf.\n",
      "soxs : [INFO     ] 2025-04-10 02:44:16,314 Pixeling events.\n",
      "soxs : [INFO     ] 2025-04-10 02:44:16,348 Scattering events with a gaussian-based PSF.\n",
      "soxs : [INFO     ] 2025-04-10 02:44:16,357 86678 events were detected from the source.\n",
      "soxs : [INFO     ] 2025-04-10 02:44:16,363 Scattering energies with RMF lem_2.5ev_110422.rmf.\n"
     ]
    },
    {
     "data": {
      "application/vnd.jupyter.widget-view+json": {
       "model_id": "55ac080455514a28865f319b107db807",
       "version_major": 2,
       "version_minor": 0
      },
      "text/plain": [
       "Scattering energies :   0%|          | 0/86678 [00:00<?, ?it/s]"
      ]
     },
     "metadata": {},
     "output_type": "display_data"
    },
    {
     "name": "stderr",
     "output_type": "stream",
     "text": [
      "soxs : [INFO     ] 2025-04-10 02:44:21,068 Adding background events.\n",
      "soxs : [INFO     ] 2025-04-10 02:44:22,434 Adding in instrumental background.\n",
      "soxs : [INFO     ] 2025-04-10 02:44:22,581 Making 34556 events from the instrumental background.\n",
      "soxs : [INFO     ] 2025-04-10 02:44:22,596 Writing events to file evt_22_1P_3_n5.fits.\n",
      "soxs : [INFO     ] 2025-04-10 02:44:22,766 Observation complete.\n",
      "soxs : [INFO     ] 2025-04-10 02:44:24,590 Making observation of source in evt_23_1P_3_n4.fits.\n"
     ]
    },
    {
     "name": "stdout",
     "output_type": "stream",
     "text": [
      "✅ Saved: plot_22_1P_3_n5.png\n",
      "🔄 Simulating for IllustrisTNG.1P_23.snap_032.halo_000.100ks.z0.05.z_simput.fits...\n"
     ]
    },
    {
     "name": "stderr",
     "output_type": "stream",
     "text": [
      "soxs : [INFO     ] 2025-04-10 02:44:28,527 Detecting events from source IllustrisTNG.1P_23.snap_032.halo_000.100ks.z0.05.z.\n",
      "soxs : [INFO     ] 2025-04-10 02:44:28,529 Applying energy-dependent effective area from lem_300522.arf.\n",
      "soxs : [INFO     ] 2025-04-10 02:44:28,785 Pixeling events.\n",
      "soxs : [INFO     ] 2025-04-10 02:44:28,815 Scattering events with a gaussian-based PSF.\n",
      "soxs : [INFO     ] 2025-04-10 02:44:28,823 83428 events were detected from the source.\n",
      "soxs : [INFO     ] 2025-04-10 02:44:28,828 Scattering energies with RMF lem_2.5ev_110422.rmf.\n"
     ]
    },
    {
     "data": {
      "application/vnd.jupyter.widget-view+json": {
       "model_id": "dfc466a1566d429d8d0ff8fdb180f0ec",
       "version_major": 2,
       "version_minor": 0
      },
      "text/plain": [
       "Scattering energies :   0%|          | 0/83428 [00:00<?, ?it/s]"
      ]
     },
     "metadata": {},
     "output_type": "display_data"
    },
    {
     "name": "stderr",
     "output_type": "stream",
     "text": [
      "soxs : [INFO     ] 2025-04-10 02:44:33,524 Adding background events.\n",
      "soxs : [INFO     ] 2025-04-10 02:44:34,862 Adding in instrumental background.\n",
      "soxs : [INFO     ] 2025-04-10 02:44:34,994 Making 34190 events from the instrumental background.\n",
      "soxs : [INFO     ] 2025-04-10 02:44:35,005 Writing events to file evt_23_1P_3_n4.fits.\n",
      "soxs : [INFO     ] 2025-04-10 02:44:35,136 Observation complete.\n",
      "soxs : [INFO     ] 2025-04-10 02:44:36,792 Making observation of source in evt_24_1P_3_n3.fits.\n"
     ]
    },
    {
     "name": "stdout",
     "output_type": "stream",
     "text": [
      "✅ Saved: plot_23_1P_3_n4.png\n",
      "🔄 Simulating for IllustrisTNG.1P_24.snap_032.halo_000.100ks.z0.05.z_simput.fits...\n"
     ]
    },
    {
     "name": "stderr",
     "output_type": "stream",
     "text": [
      "soxs : [INFO     ] 2025-04-10 02:44:38,718 Detecting events from source IllustrisTNG.1P_24.snap_032.halo_000.100ks.z0.05.z.\n",
      "soxs : [INFO     ] 2025-04-10 02:44:38,719 Applying energy-dependent effective area from lem_300522.arf.\n",
      "soxs : [INFO     ] 2025-04-10 02:44:39,033 Pixeling events.\n",
      "soxs : [INFO     ] 2025-04-10 02:44:39,070 Scattering events with a gaussian-based PSF.\n",
      "soxs : [INFO     ] 2025-04-10 02:44:39,080 101864 events were detected from the source.\n",
      "soxs : [INFO     ] 2025-04-10 02:44:39,088 Scattering energies with RMF lem_2.5ev_110422.rmf.\n"
     ]
    },
    {
     "data": {
      "application/vnd.jupyter.widget-view+json": {
       "model_id": "a7096de082634a179e5f29eac5d4cc41",
       "version_major": 2,
       "version_minor": 0
      },
      "text/plain": [
       "Scattering energies :   0%|          | 0/101864 [00:00<?, ?it/s]"
      ]
     },
     "metadata": {},
     "output_type": "display_data"
    },
    {
     "name": "stderr",
     "output_type": "stream",
     "text": [
      "soxs : [INFO     ] 2025-04-10 02:44:44,080 Adding background events.\n",
      "soxs : [INFO     ] 2025-04-10 02:44:45,414 Adding in instrumental background.\n",
      "soxs : [INFO     ] 2025-04-10 02:44:45,544 Making 34055 events from the instrumental background.\n",
      "soxs : [INFO     ] 2025-04-10 02:44:45,554 Writing events to file evt_24_1P_3_n3.fits.\n",
      "soxs : [INFO     ] 2025-04-10 02:44:45,695 Observation complete.\n",
      "soxs : [INFO     ] 2025-04-10 02:44:47,869 Making observation of source in evt_25_1P_3_n2.fits.\n"
     ]
    },
    {
     "name": "stdout",
     "output_type": "stream",
     "text": [
      "✅ Saved: plot_24_1P_3_n3.png\n",
      "🔄 Simulating for IllustrisTNG.1P_25.snap_032.halo_000.100ks.z0.05.z_simput.fits...\n"
     ]
    },
    {
     "name": "stderr",
     "output_type": "stream",
     "text": [
      "soxs : [INFO     ] 2025-04-10 02:44:49,810 Detecting events from source IllustrisTNG.1P_25.snap_032.halo_000.100ks.z0.05.z.\n",
      "soxs : [INFO     ] 2025-04-10 02:44:49,812 Applying energy-dependent effective area from lem_300522.arf.\n",
      "soxs : [INFO     ] 2025-04-10 02:44:50,069 Pixeling events.\n",
      "soxs : [INFO     ] 2025-04-10 02:44:50,101 Scattering events with a gaussian-based PSF.\n",
      "soxs : [INFO     ] 2025-04-10 02:44:50,108 87206 events were detected from the source.\n",
      "soxs : [INFO     ] 2025-04-10 02:44:50,114 Scattering energies with RMF lem_2.5ev_110422.rmf.\n"
     ]
    },
    {
     "data": {
      "application/vnd.jupyter.widget-view+json": {
       "model_id": "112b1b45401e4a67845b96ec2d517ba6",
       "version_major": 2,
       "version_minor": 0
      },
      "text/plain": [
       "Scattering energies :   0%|          | 0/87206 [00:00<?, ?it/s]"
      ]
     },
     "metadata": {},
     "output_type": "display_data"
    },
    {
     "name": "stderr",
     "output_type": "stream",
     "text": [
      "soxs : [INFO     ] 2025-04-10 02:44:55,029 Adding background events.\n",
      "soxs : [INFO     ] 2025-04-10 02:44:56,403 Adding in instrumental background.\n",
      "soxs : [INFO     ] 2025-04-10 02:44:56,544 Making 33960 events from the instrumental background.\n",
      "soxs : [INFO     ] 2025-04-10 02:44:56,557 Writing events to file evt_25_1P_3_n2.fits.\n",
      "soxs : [INFO     ] 2025-04-10 02:44:56,691 Observation complete.\n",
      "soxs : [INFO     ] 2025-04-10 02:44:58,342 Making observation of source in evt_26_1P_3_n1.fits.\n"
     ]
    },
    {
     "name": "stdout",
     "output_type": "stream",
     "text": [
      "✅ Saved: plot_25_1P_3_n2.png\n",
      "🔄 Simulating for IllustrisTNG.1P_26.snap_032.halo_000.100ks.z0.05.z_simput.fits...\n"
     ]
    },
    {
     "name": "stderr",
     "output_type": "stream",
     "text": [
      "soxs : [INFO     ] 2025-04-10 02:45:00,460 Detecting events from source IllustrisTNG.1P_26.snap_032.halo_000.100ks.z0.05.z.\n",
      "soxs : [INFO     ] 2025-04-10 02:45:00,461 Applying energy-dependent effective area from lem_300522.arf.\n",
      "soxs : [INFO     ] 2025-04-10 02:45:00,742 Pixeling events.\n",
      "soxs : [INFO     ] 2025-04-10 02:45:00,775 Scattering events with a gaussian-based PSF.\n",
      "soxs : [INFO     ] 2025-04-10 02:45:00,783 92261 events were detected from the source.\n",
      "soxs : [INFO     ] 2025-04-10 02:45:00,789 Scattering energies with RMF lem_2.5ev_110422.rmf.\n"
     ]
    },
    {
     "data": {
      "application/vnd.jupyter.widget-view+json": {
       "model_id": "84c6c8cce9274dbf92544b47d788097f",
       "version_major": 2,
       "version_minor": 0
      },
      "text/plain": [
       "Scattering energies :   0%|          | 0/92261 [00:00<?, ?it/s]"
      ]
     },
     "metadata": {},
     "output_type": "display_data"
    },
    {
     "name": "stderr",
     "output_type": "stream",
     "text": [
      "soxs : [INFO     ] 2025-04-10 02:45:05,500 Adding background events.\n",
      "soxs : [INFO     ] 2025-04-10 02:45:06,812 Adding in instrumental background.\n",
      "soxs : [INFO     ] 2025-04-10 02:45:06,943 Making 34155 events from the instrumental background.\n",
      "soxs : [INFO     ] 2025-04-10 02:45:06,954 Writing events to file evt_26_1P_3_n1.fits.\n",
      "soxs : [INFO     ] 2025-04-10 02:45:07,102 Observation complete.\n",
      "soxs : [INFO     ] 2025-04-10 02:45:08,774 Making observation of source in evt_27_1P_3_0.fits.\n"
     ]
    },
    {
     "name": "stdout",
     "output_type": "stream",
     "text": [
      "✅ Saved: plot_26_1P_3_n1.png\n",
      "🔄 Simulating for IllustrisTNG.1P_27.snap_032.halo_000.100ks.z0.05.z_simput.fits...\n"
     ]
    },
    {
     "name": "stderr",
     "output_type": "stream",
     "text": [
      "soxs : [INFO     ] 2025-04-10 02:45:11,070 Detecting events from source IllustrisTNG.1P_27.snap_032.halo_000.100ks.z0.05.z.\n",
      "soxs : [INFO     ] 2025-04-10 02:45:11,072 Applying energy-dependent effective area from lem_300522.arf.\n",
      "soxs : [INFO     ] 2025-04-10 02:45:11,388 Pixeling events.\n",
      "soxs : [INFO     ] 2025-04-10 02:45:11,428 Scattering events with a gaussian-based PSF.\n",
      "soxs : [INFO     ] 2025-04-10 02:45:11,437 107588 events were detected from the source.\n",
      "soxs : [INFO     ] 2025-04-10 02:45:11,443 Scattering energies with RMF lem_2.5ev_110422.rmf.\n"
     ]
    },
    {
     "data": {
      "application/vnd.jupyter.widget-view+json": {
       "model_id": "80ded594ef914936bd8f531a55cda36d",
       "version_major": 2,
       "version_minor": 0
      },
      "text/plain": [
       "Scattering energies :   0%|          | 0/107588 [00:00<?, ?it/s]"
      ]
     },
     "metadata": {},
     "output_type": "display_data"
    },
    {
     "name": "stderr",
     "output_type": "stream",
     "text": [
      "soxs : [INFO     ] 2025-04-10 02:45:16,358 Adding background events.\n",
      "soxs : [INFO     ] 2025-04-10 02:45:17,672 Adding in instrumental background.\n",
      "soxs : [INFO     ] 2025-04-10 02:45:17,800 Making 34406 events from the instrumental background.\n",
      "soxs : [INFO     ] 2025-04-10 02:45:17,811 Writing events to file evt_27_1P_3_0.fits.\n",
      "soxs : [INFO     ] 2025-04-10 02:45:17,955 Observation complete.\n",
      "soxs : [INFO     ] 2025-04-10 02:45:19,545 Making observation of source in evt_28_1P_3_1.fits.\n"
     ]
    },
    {
     "name": "stdout",
     "output_type": "stream",
     "text": [
      "✅ Saved: plot_27_1P_3_0.png\n",
      "🔄 Simulating for IllustrisTNG.1P_28.snap_032.halo_000.100ks.z0.05.z_simput.fits...\n"
     ]
    },
    {
     "name": "stderr",
     "output_type": "stream",
     "text": [
      "soxs : [INFO     ] 2025-04-10 02:45:21,617 Detecting events from source IllustrisTNG.1P_28.snap_032.halo_000.100ks.z0.05.z.\n",
      "soxs : [INFO     ] 2025-04-10 02:45:21,618 Applying energy-dependent effective area from lem_300522.arf.\n",
      "soxs : [INFO     ] 2025-04-10 02:45:22,003 Pixeling events.\n",
      "soxs : [INFO     ] 2025-04-10 02:45:22,049 Scattering events with a gaussian-based PSF.\n",
      "soxs : [INFO     ] 2025-04-10 02:45:22,059 128178 events were detected from the source.\n",
      "soxs : [INFO     ] 2025-04-10 02:45:22,068 Scattering energies with RMF lem_2.5ev_110422.rmf.\n"
     ]
    },
    {
     "data": {
      "application/vnd.jupyter.widget-view+json": {
       "model_id": "dda944e215b148efa51fb0eacee6e1a1",
       "version_major": 2,
       "version_minor": 0
      },
      "text/plain": [
       "Scattering energies :   0%|          | 0/128178 [00:00<?, ?it/s]"
      ]
     },
     "metadata": {},
     "output_type": "display_data"
    },
    {
     "name": "stderr",
     "output_type": "stream",
     "text": [
      "soxs : [INFO     ] 2025-04-10 02:45:27,234 Adding background events.\n",
      "soxs : [INFO     ] 2025-04-10 02:45:28,540 Adding in instrumental background.\n",
      "soxs : [INFO     ] 2025-04-10 02:45:28,667 Making 34319 events from the instrumental background.\n",
      "soxs : [INFO     ] 2025-04-10 02:45:28,680 Writing events to file evt_28_1P_3_1.fits.\n",
      "soxs : [INFO     ] 2025-04-10 02:45:28,838 Observation complete.\n",
      "soxs : [INFO     ] 2025-04-10 02:45:30,430 Making observation of source in evt_29_1P_3_2.fits.\n"
     ]
    },
    {
     "name": "stdout",
     "output_type": "stream",
     "text": [
      "✅ Saved: plot_28_1P_3_1.png\n",
      "🔄 Simulating for IllustrisTNG.1P_29.snap_032.halo_000.100ks.z0.05.z_simput.fits...\n"
     ]
    },
    {
     "name": "stderr",
     "output_type": "stream",
     "text": [
      "soxs : [INFO     ] 2025-04-10 02:45:32,776 Detecting events from source IllustrisTNG.1P_29.snap_032.halo_000.100ks.z0.05.z.\n",
      "soxs : [INFO     ] 2025-04-10 02:45:32,778 Applying energy-dependent effective area from lem_300522.arf.\n",
      "soxs : [INFO     ] 2025-04-10 02:45:33,221 Pixeling events.\n",
      "soxs : [INFO     ] 2025-04-10 02:45:33,279 Scattering events with a gaussian-based PSF.\n",
      "soxs : [INFO     ] 2025-04-10 02:45:33,290 143389 events were detected from the source.\n",
      "soxs : [INFO     ] 2025-04-10 02:45:33,300 Scattering energies with RMF lem_2.5ev_110422.rmf.\n"
     ]
    },
    {
     "data": {
      "application/vnd.jupyter.widget-view+json": {
       "model_id": "67eceb3851d54a519b3f4e4b9309caa5",
       "version_major": 2,
       "version_minor": 0
      },
      "text/plain": [
       "Scattering energies :   0%|          | 0/143389 [00:00<?, ?it/s]"
      ]
     },
     "metadata": {},
     "output_type": "display_data"
    },
    {
     "name": "stderr",
     "output_type": "stream",
     "text": [
      "soxs : [INFO     ] 2025-04-10 02:45:38,827 Adding background events.\n",
      "soxs : [INFO     ] 2025-04-10 02:45:40,186 Adding in instrumental background.\n",
      "soxs : [INFO     ] 2025-04-10 02:45:40,314 Making 34194 events from the instrumental background.\n",
      "soxs : [INFO     ] 2025-04-10 02:45:40,327 Writing events to file evt_29_1P_3_2.fits.\n",
      "soxs : [INFO     ] 2025-04-10 02:45:40,501 Observation complete.\n",
      "soxs : [INFO     ] 2025-04-10 02:45:42,134 Making observation of source in evt_30_1P_3_3.fits.\n"
     ]
    },
    {
     "name": "stdout",
     "output_type": "stream",
     "text": [
      "✅ Saved: plot_29_1P_3_2.png\n",
      "🔄 Simulating for IllustrisTNG.1P_30.snap_032.halo_000.100ks.z0.05.z_simput.fits...\n"
     ]
    },
    {
     "name": "stderr",
     "output_type": "stream",
     "text": [
      "soxs : [INFO     ] 2025-04-10 02:45:44,901 Detecting events from source IllustrisTNG.1P_30.snap_032.halo_000.100ks.z0.05.z.\n",
      "soxs : [INFO     ] 2025-04-10 02:45:44,903 Applying energy-dependent effective area from lem_300522.arf.\n",
      "soxs : [INFO     ] 2025-04-10 02:45:45,412 Pixeling events.\n",
      "soxs : [INFO     ] 2025-04-10 02:45:45,479 Scattering events with a gaussian-based PSF.\n",
      "soxs : [INFO     ] 2025-04-10 02:45:45,492 169010 events were detected from the source.\n",
      "soxs : [INFO     ] 2025-04-10 02:45:45,504 Scattering energies with RMF lem_2.5ev_110422.rmf.\n"
     ]
    },
    {
     "data": {
      "application/vnd.jupyter.widget-view+json": {
       "model_id": "65cdf3271af441a3af4780f9bfa14287",
       "version_major": 2,
       "version_minor": 0
      },
      "text/plain": [
       "Scattering energies :   0%|          | 0/169010 [00:00<?, ?it/s]"
      ]
     },
     "metadata": {},
     "output_type": "display_data"
    },
    {
     "name": "stderr",
     "output_type": "stream",
     "text": [
      "soxs : [INFO     ] 2025-04-10 02:45:51,236 Adding background events.\n",
      "soxs : [INFO     ] 2025-04-10 02:45:52,595 Adding in instrumental background.\n",
      "soxs : [INFO     ] 2025-04-10 02:45:52,725 Making 33573 events from the instrumental background.\n",
      "soxs : [INFO     ] 2025-04-10 02:45:52,740 Writing events to file evt_30_1P_3_3.fits.\n",
      "soxs : [INFO     ] 2025-04-10 02:45:52,946 Observation complete.\n",
      "soxs : [INFO     ] 2025-04-10 02:45:54,632 Making observation of source in evt_31_1P_3_4.fits.\n"
     ]
    },
    {
     "name": "stdout",
     "output_type": "stream",
     "text": [
      "✅ Saved: plot_30_1P_3_3.png\n",
      "🔄 Simulating for IllustrisTNG.1P_31.snap_032.halo_000.100ks.z0.05.z_simput.fits...\n"
     ]
    },
    {
     "name": "stderr",
     "output_type": "stream",
     "text": [
      "soxs : [INFO     ] 2025-04-10 02:45:57,862 Detecting events from source IllustrisTNG.1P_31.snap_032.halo_000.100ks.z0.05.z.\n",
      "soxs : [INFO     ] 2025-04-10 02:45:57,863 Applying energy-dependent effective area from lem_300522.arf.\n",
      "soxs : [INFO     ] 2025-04-10 02:45:58,490 Pixeling events.\n",
      "soxs : [INFO     ] 2025-04-10 02:45:58,582 Scattering events with a gaussian-based PSF.\n",
      "soxs : [INFO     ] 2025-04-10 02:45:58,596 201219 events were detected from the source.\n",
      "soxs : [INFO     ] 2025-04-10 02:45:58,680 Scattering energies with RMF lem_2.5ev_110422.rmf.\n"
     ]
    },
    {
     "data": {
      "application/vnd.jupyter.widget-view+json": {
       "model_id": "5f2d10341aed4c9e8a15ec0e4e8412b3",
       "version_major": 2,
       "version_minor": 0
      },
      "text/plain": [
       "Scattering energies :   0%|          | 0/201219 [00:00<?, ?it/s]"
      ]
     },
     "metadata": {},
     "output_type": "display_data"
    },
    {
     "name": "stderr",
     "output_type": "stream",
     "text": [
      "soxs : [INFO     ] 2025-04-10 02:46:04,683 Adding background events.\n",
      "soxs : [INFO     ] 2025-04-10 02:46:06,020 Adding in instrumental background.\n",
      "soxs : [INFO     ] 2025-04-10 02:46:06,153 Making 34015 events from the instrumental background.\n",
      "soxs : [INFO     ] 2025-04-10 02:46:06,169 Writing events to file evt_31_1P_3_4.fits.\n",
      "soxs : [INFO     ] 2025-04-10 02:46:06,381 Observation complete.\n",
      "soxs : [INFO     ] 2025-04-10 02:46:08,022 Making observation of source in evt_32_1P_3_5.fits.\n"
     ]
    },
    {
     "name": "stdout",
     "output_type": "stream",
     "text": [
      "✅ Saved: plot_31_1P_3_4.png\n",
      "🔄 Simulating for IllustrisTNG.1P_32.snap_032.halo_000.100ks.z0.05.z_simput.fits...\n"
     ]
    },
    {
     "name": "stderr",
     "output_type": "stream",
     "text": [
      "soxs : [INFO     ] 2025-04-10 02:46:11,046 Detecting events from source IllustrisTNG.1P_32.snap_032.halo_000.100ks.z0.05.z.\n",
      "soxs : [INFO     ] 2025-04-10 02:46:11,048 Applying energy-dependent effective area from lem_300522.arf.\n",
      "soxs : [INFO     ] 2025-04-10 02:46:11,838 Pixeling events.\n",
      "soxs : [INFO     ] 2025-04-10 02:46:11,927 Scattering events with a gaussian-based PSF.\n",
      "soxs : [INFO     ] 2025-04-10 02:46:11,991 251933 events were detected from the source.\n",
      "soxs : [INFO     ] 2025-04-10 02:46:12,078 Scattering energies with RMF lem_2.5ev_110422.rmf.\n"
     ]
    },
    {
     "data": {
      "application/vnd.jupyter.widget-view+json": {
       "model_id": "73aded32c3ee43b6aea5c66853f6ca0e",
       "version_major": 2,
       "version_minor": 0
      },
      "text/plain": [
       "Scattering energies :   0%|          | 0/251933 [00:00<?, ?it/s]"
      ]
     },
     "metadata": {},
     "output_type": "display_data"
    },
    {
     "name": "stderr",
     "output_type": "stream",
     "text": [
      "soxs : [INFO     ] 2025-04-10 02:46:18,619 Adding background events.\n",
      "soxs : [INFO     ] 2025-04-10 02:46:19,960 Adding in instrumental background.\n",
      "soxs : [INFO     ] 2025-04-10 02:46:20,091 Making 34065 events from the instrumental background.\n",
      "soxs : [INFO     ] 2025-04-10 02:46:20,108 Writing events to file evt_32_1P_3_5.fits.\n",
      "soxs : [INFO     ] 2025-04-10 02:46:20,357 Observation complete.\n",
      "soxs : [INFO     ] 2025-04-10 02:46:22,018 Making observation of source in evt_33_1P_4_n5.fits.\n"
     ]
    },
    {
     "name": "stdout",
     "output_type": "stream",
     "text": [
      "✅ Saved: plot_32_1P_3_5.png\n",
      "🔄 Simulating for IllustrisTNG.1P_33.snap_032.halo_000.100ks.z0.05.z_simput.fits...\n"
     ]
    },
    {
     "name": "stderr",
     "output_type": "stream",
     "text": [
      "soxs : [INFO     ] 2025-04-10 02:46:24,467 Detecting events from source IllustrisTNG.1P_33.snap_032.halo_000.100ks.z0.05.z.\n",
      "soxs : [INFO     ] 2025-04-10 02:46:24,469 Applying energy-dependent effective area from lem_300522.arf.\n",
      "soxs : [INFO     ] 2025-04-10 02:46:24,906 Pixeling events.\n",
      "soxs : [INFO     ] 2025-04-10 02:46:24,959 Scattering events with a gaussian-based PSF.\n",
      "soxs : [INFO     ] 2025-04-10 02:46:24,983 146308 events were detected from the source.\n",
      "soxs : [INFO     ] 2025-04-10 02:46:24,993 Scattering energies with RMF lem_2.5ev_110422.rmf.\n"
     ]
    },
    {
     "data": {
      "application/vnd.jupyter.widget-view+json": {
       "model_id": "82612ac42be8477dafbc1eef784a34c5",
       "version_major": 2,
       "version_minor": 0
      },
      "text/plain": [
       "Scattering energies :   0%|          | 0/146308 [00:00<?, ?it/s]"
      ]
     },
     "metadata": {},
     "output_type": "display_data"
    },
    {
     "name": "stderr",
     "output_type": "stream",
     "text": [
      "soxs : [INFO     ] 2025-04-10 02:46:30,524 Adding background events.\n",
      "soxs : [INFO     ] 2025-04-10 02:46:31,869 Adding in instrumental background.\n",
      "soxs : [INFO     ] 2025-04-10 02:46:32,001 Making 34171 events from the instrumental background.\n",
      "soxs : [INFO     ] 2025-04-10 02:46:32,015 Writing events to file evt_33_1P_4_n5.fits.\n",
      "soxs : [INFO     ] 2025-04-10 02:46:32,203 Observation complete.\n",
      "soxs : [INFO     ] 2025-04-10 02:46:33,862 Making observation of source in evt_34_1P_4_n4.fits.\n"
     ]
    },
    {
     "name": "stdout",
     "output_type": "stream",
     "text": [
      "✅ Saved: plot_33_1P_4_n5.png\n",
      "🔄 Simulating for IllustrisTNG.1P_34.snap_032.halo_000.100ks.z0.05.z_simput.fits...\n"
     ]
    },
    {
     "name": "stderr",
     "output_type": "stream",
     "text": [
      "soxs : [INFO     ] 2025-04-10 02:46:36,546 Detecting events from source IllustrisTNG.1P_34.snap_032.halo_000.100ks.z0.05.z.\n",
      "soxs : [INFO     ] 2025-04-10 02:46:36,547 Applying energy-dependent effective area from lem_300522.arf.\n",
      "soxs : [INFO     ] 2025-04-10 02:46:36,968 Pixeling events.\n",
      "soxs : [INFO     ] 2025-04-10 02:46:37,015 Scattering events with a gaussian-based PSF.\n",
      "soxs : [INFO     ] 2025-04-10 02:46:37,025 132139 events were detected from the source.\n",
      "soxs : [INFO     ] 2025-04-10 02:46:37,035 Scattering energies with RMF lem_2.5ev_110422.rmf.\n"
     ]
    },
    {
     "data": {
      "application/vnd.jupyter.widget-view+json": {
       "model_id": "9358638cc8be42dcb622c1b46759cf33",
       "version_major": 2,
       "version_minor": 0
      },
      "text/plain": [
       "Scattering energies :   0%|          | 0/132139 [00:00<?, ?it/s]"
      ]
     },
     "metadata": {},
     "output_type": "display_data"
    },
    {
     "name": "stderr",
     "output_type": "stream",
     "text": [
      "soxs : [INFO     ] 2025-04-10 02:46:42,372 Adding background events.\n",
      "soxs : [INFO     ] 2025-04-10 02:46:43,712 Adding in instrumental background.\n",
      "soxs : [INFO     ] 2025-04-10 02:46:43,848 Making 34060 events from the instrumental background.\n",
      "soxs : [INFO     ] 2025-04-10 02:46:43,863 Writing events to file evt_34_1P_4_n4.fits.\n",
      "soxs : [INFO     ] 2025-04-10 02:46:44,047 Observation complete.\n",
      "soxs : [INFO     ] 2025-04-10 02:46:45,745 Making observation of source in evt_35_1P_4_n3.fits.\n"
     ]
    },
    {
     "name": "stdout",
     "output_type": "stream",
     "text": [
      "✅ Saved: plot_34_1P_4_n4.png\n",
      "🔄 Simulating for IllustrisTNG.1P_35.snap_032.halo_000.100ks.z0.05.z_simput.fits...\n"
     ]
    },
    {
     "name": "stderr",
     "output_type": "stream",
     "text": [
      "soxs : [INFO     ] 2025-04-10 02:46:47,901 Detecting events from source IllustrisTNG.1P_35.snap_032.halo_000.100ks.z0.05.z.\n",
      "soxs : [INFO     ] 2025-04-10 02:46:47,902 Applying energy-dependent effective area from lem_300522.arf.\n",
      "soxs : [INFO     ] 2025-04-10 02:46:48,335 Pixeling events.\n",
      "soxs : [INFO     ] 2025-04-10 02:46:48,385 Scattering events with a gaussian-based PSF.\n",
      "soxs : [INFO     ] 2025-04-10 02:46:48,395 142174 events were detected from the source.\n",
      "soxs : [INFO     ] 2025-04-10 02:46:48,405 Scattering energies with RMF lem_2.5ev_110422.rmf.\n"
     ]
    },
    {
     "data": {
      "application/vnd.jupyter.widget-view+json": {
       "model_id": "3b543a1295454f4ba6c113fea667c1a0",
       "version_major": 2,
       "version_minor": 0
      },
      "text/plain": [
       "Scattering energies :   0%|          | 0/142174 [00:00<?, ?it/s]"
      ]
     },
     "metadata": {},
     "output_type": "display_data"
    },
    {
     "name": "stderr",
     "output_type": "stream",
     "text": [
      "soxs : [INFO     ] 2025-04-10 02:46:53,842 Adding background events.\n",
      "soxs : [INFO     ] 2025-04-10 02:46:55,180 Adding in instrumental background.\n",
      "soxs : [INFO     ] 2025-04-10 02:46:55,312 Making 34021 events from the instrumental background.\n",
      "soxs : [INFO     ] 2025-04-10 02:46:55,325 Writing events to file evt_35_1P_4_n3.fits.\n",
      "soxs : [INFO     ] 2025-04-10 02:46:55,497 Observation complete.\n",
      "soxs : [INFO     ] 2025-04-10 02:46:57,146 Making observation of source in evt_36_1P_4_n2.fits.\n"
     ]
    },
    {
     "name": "stdout",
     "output_type": "stream",
     "text": [
      "✅ Saved: plot_35_1P_4_n3.png\n",
      "🔄 Simulating for IllustrisTNG.1P_36.snap_032.halo_000.100ks.z0.05.z_simput.fits...\n"
     ]
    },
    {
     "name": "stderr",
     "output_type": "stream",
     "text": [
      "soxs : [INFO     ] 2025-04-10 02:46:59,150 Detecting events from source IllustrisTNG.1P_36.snap_032.halo_000.100ks.z0.05.z.\n",
      "soxs : [INFO     ] 2025-04-10 02:46:59,152 Applying energy-dependent effective area from lem_300522.arf.\n",
      "soxs : [INFO     ] 2025-04-10 02:46:59,502 Pixeling events.\n",
      "soxs : [INFO     ] 2025-04-10 02:46:59,545 Scattering events with a gaussian-based PSF.\n",
      "soxs : [INFO     ] 2025-04-10 02:46:59,554 117831 events were detected from the source.\n",
      "soxs : [INFO     ] 2025-04-10 02:46:59,561 Scattering energies with RMF lem_2.5ev_110422.rmf.\n"
     ]
    },
    {
     "data": {
      "application/vnd.jupyter.widget-view+json": {
       "model_id": "a737ebb8727447c38dbe07961e0d6b45",
       "version_major": 2,
       "version_minor": 0
      },
      "text/plain": [
       "Scattering energies :   0%|          | 0/117831 [00:00<?, ?it/s]"
      ]
     },
     "metadata": {},
     "output_type": "display_data"
    },
    {
     "name": "stderr",
     "output_type": "stream",
     "text": [
      "soxs : [INFO     ] 2025-04-10 02:47:04,695 Adding background events.\n",
      "soxs : [INFO     ] 2025-04-10 02:47:06,097 Adding in instrumental background.\n",
      "soxs : [INFO     ] 2025-04-10 02:47:06,243 Making 34301 events from the instrumental background.\n",
      "soxs : [INFO     ] 2025-04-10 02:47:06,258 Writing events to file evt_36_1P_4_n2.fits.\n",
      "soxs : [INFO     ] 2025-04-10 02:47:06,413 Observation complete.\n",
      "soxs : [INFO     ] 2025-04-10 02:47:08,054 Making observation of source in evt_37_1P_4_n1.fits.\n"
     ]
    },
    {
     "name": "stdout",
     "output_type": "stream",
     "text": [
      "✅ Saved: plot_36_1P_4_n2.png\n",
      "🔄 Simulating for IllustrisTNG.1P_37.snap_032.halo_000.100ks.z0.05.z_simput.fits...\n"
     ]
    },
    {
     "name": "stderr",
     "output_type": "stream",
     "text": [
      "soxs : [INFO     ] 2025-04-10 02:47:10,289 Detecting events from source IllustrisTNG.1P_37.snap_032.halo_000.100ks.z0.05.z.\n",
      "soxs : [INFO     ] 2025-04-10 02:47:10,291 Applying energy-dependent effective area from lem_300522.arf.\n",
      "soxs : [INFO     ] 2025-04-10 02:47:10,682 Pixeling events.\n",
      "soxs : [INFO     ] 2025-04-10 02:47:10,725 Scattering events with a gaussian-based PSF.\n",
      "soxs : [INFO     ] 2025-04-10 02:47:10,735 119640 events were detected from the source.\n",
      "soxs : [INFO     ] 2025-04-10 02:47:10,743 Scattering energies with RMF lem_2.5ev_110422.rmf.\n"
     ]
    },
    {
     "data": {
      "application/vnd.jupyter.widget-view+json": {
       "model_id": "9dfadb2e6eb84e5e99f3edd48110132c",
       "version_major": 2,
       "version_minor": 0
      },
      "text/plain": [
       "Scattering energies :   0%|          | 0/119640 [00:00<?, ?it/s]"
      ]
     },
     "metadata": {},
     "output_type": "display_data"
    },
    {
     "name": "stderr",
     "output_type": "stream",
     "text": [
      "soxs : [INFO     ] 2025-04-10 02:47:15,790 Adding background events.\n",
      "soxs : [INFO     ] 2025-04-10 02:47:17,135 Adding in instrumental background.\n",
      "soxs : [INFO     ] 2025-04-10 02:47:17,264 Making 34105 events from the instrumental background.\n",
      "soxs : [INFO     ] 2025-04-10 02:47:17,275 Writing events to file evt_37_1P_4_n1.fits.\n",
      "soxs : [INFO     ] 2025-04-10 02:47:17,438 Observation complete.\n",
      "soxs : [INFO     ] 2025-04-10 02:47:19,126 Making observation of source in evt_38_1P_4_0.fits.\n"
     ]
    },
    {
     "name": "stdout",
     "output_type": "stream",
     "text": [
      "✅ Saved: plot_37_1P_4_n1.png\n",
      "🔄 Simulating for IllustrisTNG.1P_38.snap_032.halo_000.100ks.z0.05.z_simput.fits...\n"
     ]
    },
    {
     "name": "stderr",
     "output_type": "stream",
     "text": [
      "soxs : [INFO     ] 2025-04-10 02:47:21,146 Detecting events from source IllustrisTNG.1P_38.snap_032.halo_000.100ks.z0.05.z.\n",
      "soxs : [INFO     ] 2025-04-10 02:47:21,148 Applying energy-dependent effective area from lem_300522.arf.\n",
      "soxs : [INFO     ] 2025-04-10 02:47:21,547 Pixeling events.\n",
      "soxs : [INFO     ] 2025-04-10 02:47:21,589 Scattering events with a gaussian-based PSF.\n",
      "soxs : [INFO     ] 2025-04-10 02:47:21,600 107650 events were detected from the source.\n",
      "soxs : [INFO     ] 2025-04-10 02:47:21,610 Scattering energies with RMF lem_2.5ev_110422.rmf.\n"
     ]
    },
    {
     "data": {
      "application/vnd.jupyter.widget-view+json": {
       "model_id": "7ae96c6bc0c74042b7dc5f45543de863",
       "version_major": 2,
       "version_minor": 0
      },
      "text/plain": [
       "Scattering energies :   0%|          | 0/107650 [00:00<?, ?it/s]"
      ]
     },
     "metadata": {},
     "output_type": "display_data"
    },
    {
     "name": "stderr",
     "output_type": "stream",
     "text": [
      "soxs : [INFO     ] 2025-04-10 02:47:26,709 Adding background events.\n",
      "soxs : [INFO     ] 2025-04-10 02:47:28,070 Adding in instrumental background.\n",
      "soxs : [INFO     ] 2025-04-10 02:47:28,210 Making 34300 events from the instrumental background.\n",
      "soxs : [INFO     ] 2025-04-10 02:47:28,223 Writing events to file evt_38_1P_4_0.fits.\n",
      "soxs : [INFO     ] 2025-04-10 02:47:28,384 Observation complete.\n",
      "soxs : [INFO     ] 2025-04-10 02:47:30,033 Making observation of source in evt_39_1P_4_1.fits.\n"
     ]
    },
    {
     "name": "stdout",
     "output_type": "stream",
     "text": [
      "✅ Saved: plot_38_1P_4_0.png\n",
      "🔄 Simulating for IllustrisTNG.1P_39.snap_032.halo_000.100ks.z0.05.z_simput.fits...\n"
     ]
    },
    {
     "name": "stderr",
     "output_type": "stream",
     "text": [
      "soxs : [INFO     ] 2025-04-10 02:47:32,251 Detecting events from source IllustrisTNG.1P_39.snap_032.halo_000.100ks.z0.05.z.\n",
      "soxs : [INFO     ] 2025-04-10 02:47:32,253 Applying energy-dependent effective area from lem_300522.arf.\n",
      "soxs : [INFO     ] 2025-04-10 02:47:32,584 Pixeling events.\n",
      "soxs : [INFO     ] 2025-04-10 02:47:32,621 Scattering events with a gaussian-based PSF.\n",
      "soxs : [INFO     ] 2025-04-10 02:47:32,630 105084 events were detected from the source.\n",
      "soxs : [INFO     ] 2025-04-10 02:47:32,636 Scattering energies with RMF lem_2.5ev_110422.rmf.\n"
     ]
    },
    {
     "data": {
      "application/vnd.jupyter.widget-view+json": {
       "model_id": "679398ffe86b4da89483b44deab2d202",
       "version_major": 2,
       "version_minor": 0
      },
      "text/plain": [
       "Scattering energies :   0%|          | 0/105084 [00:00<?, ?it/s]"
      ]
     },
     "metadata": {},
     "output_type": "display_data"
    },
    {
     "name": "stderr",
     "output_type": "stream",
     "text": [
      "soxs : [INFO     ] 2025-04-10 02:47:37,618 Adding background events.\n",
      "soxs : [INFO     ] 2025-04-10 02:47:38,978 Adding in instrumental background.\n",
      "soxs : [INFO     ] 2025-04-10 02:47:39,110 Making 34576 events from the instrumental background.\n",
      "soxs : [INFO     ] 2025-04-10 02:47:39,121 Writing events to file evt_39_1P_4_1.fits.\n",
      "soxs : [INFO     ] 2025-04-10 02:47:39,265 Observation complete.\n",
      "soxs : [INFO     ] 2025-04-10 02:47:40,907 Making observation of source in evt_40_1P_4_2.fits.\n"
     ]
    },
    {
     "name": "stdout",
     "output_type": "stream",
     "text": [
      "✅ Saved: plot_39_1P_4_1.png\n",
      "🔄 Simulating for IllustrisTNG.1P_40.snap_032.halo_000.100ks.z0.05.z_simput.fits...\n"
     ]
    },
    {
     "name": "stderr",
     "output_type": "stream",
     "text": [
      "soxs : [INFO     ] 2025-04-10 02:47:42,858 Detecting events from source IllustrisTNG.1P_40.snap_032.halo_000.100ks.z0.05.z.\n",
      "soxs : [INFO     ] 2025-04-10 02:47:42,860 Applying energy-dependent effective area from lem_300522.arf.\n",
      "soxs : [INFO     ] 2025-04-10 02:47:43,181 Pixeling events.\n",
      "soxs : [INFO     ] 2025-04-10 02:47:43,218 Scattering events with a gaussian-based PSF.\n",
      "soxs : [INFO     ] 2025-04-10 02:47:43,227 100220 events were detected from the source.\n",
      "soxs : [INFO     ] 2025-04-10 02:47:43,233 Scattering energies with RMF lem_2.5ev_110422.rmf.\n"
     ]
    },
    {
     "data": {
      "application/vnd.jupyter.widget-view+json": {
       "model_id": "ce5436d98bc443fba85ad8d2b7a33f01",
       "version_major": 2,
       "version_minor": 0
      },
      "text/plain": [
       "Scattering energies :   0%|          | 0/100220 [00:00<?, ?it/s]"
      ]
     },
     "metadata": {},
     "output_type": "display_data"
    },
    {
     "name": "stderr",
     "output_type": "stream",
     "text": [
      "soxs : [INFO     ] 2025-04-10 02:47:48,170 Adding background events.\n",
      "soxs : [INFO     ] 2025-04-10 02:47:49,519 Adding in instrumental background.\n",
      "soxs : [INFO     ] 2025-04-10 02:47:49,651 Making 34119 events from the instrumental background.\n",
      "soxs : [INFO     ] 2025-04-10 02:47:49,661 Writing events to file evt_40_1P_4_2.fits.\n",
      "soxs : [INFO     ] 2025-04-10 02:47:49,810 Observation complete.\n",
      "soxs : [INFO     ] 2025-04-10 02:47:51,448 Making observation of source in evt_41_1P_4_3.fits.\n"
     ]
    },
    {
     "name": "stdout",
     "output_type": "stream",
     "text": [
      "✅ Saved: plot_40_1P_4_2.png\n",
      "🔄 Simulating for IllustrisTNG.1P_41.snap_032.halo_000.100ks.z0.05.z_simput.fits...\n"
     ]
    },
    {
     "name": "stderr",
     "output_type": "stream",
     "text": [
      "soxs : [INFO     ] 2025-04-10 02:47:53,543 Detecting events from source IllustrisTNG.1P_41.snap_032.halo_000.100ks.z0.05.z.\n",
      "soxs : [INFO     ] 2025-04-10 02:47:53,545 Applying energy-dependent effective area from lem_300522.arf.\n",
      "soxs : [INFO     ] 2025-04-10 02:47:53,857 Pixeling events.\n",
      "soxs : [INFO     ] 2025-04-10 02:47:53,893 Scattering events with a gaussian-based PSF.\n",
      "soxs : [INFO     ] 2025-04-10 02:47:53,901 101306 events were detected from the source.\n",
      "soxs : [INFO     ] 2025-04-10 02:47:53,908 Scattering energies with RMF lem_2.5ev_110422.rmf.\n"
     ]
    },
    {
     "data": {
      "application/vnd.jupyter.widget-view+json": {
       "model_id": "4f05e3f90a4e4658a1bf82a366fd6be9",
       "version_major": 2,
       "version_minor": 0
      },
      "text/plain": [
       "Scattering energies :   0%|          | 0/101306 [00:00<?, ?it/s]"
      ]
     },
     "metadata": {},
     "output_type": "display_data"
    },
    {
     "name": "stderr",
     "output_type": "stream",
     "text": [
      "soxs : [INFO     ] 2025-04-10 02:47:58,842 Adding background events.\n",
      "soxs : [INFO     ] 2025-04-10 02:48:00,154 Adding in instrumental background.\n",
      "soxs : [INFO     ] 2025-04-10 02:48:00,283 Making 34131 events from the instrumental background.\n",
      "soxs : [INFO     ] 2025-04-10 02:48:00,294 Writing events to file evt_41_1P_4_3.fits.\n",
      "soxs : [INFO     ] 2025-04-10 02:48:00,440 Observation complete.\n",
      "soxs : [INFO     ] 2025-04-10 02:48:02,778 Making observation of source in evt_42_1P_4_4.fits.\n"
     ]
    },
    {
     "name": "stdout",
     "output_type": "stream",
     "text": [
      "✅ Saved: plot_41_1P_4_3.png\n",
      "🔄 Simulating for IllustrisTNG.1P_42.snap_032.halo_000.100ks.z0.05.z_simput.fits...\n"
     ]
    },
    {
     "name": "stderr",
     "output_type": "stream",
     "text": [
      "soxs : [INFO     ] 2025-04-10 02:48:05,018 Detecting events from source IllustrisTNG.1P_42.snap_032.halo_000.100ks.z0.05.z.\n",
      "soxs : [INFO     ] 2025-04-10 02:48:05,019 Applying energy-dependent effective area from lem_300522.arf.\n",
      "soxs : [INFO     ] 2025-04-10 02:48:05,329 Pixeling events.\n",
      "soxs : [INFO     ] 2025-04-10 02:48:05,365 Scattering events with a gaussian-based PSF.\n",
      "soxs : [INFO     ] 2025-04-10 02:48:05,374 101620 events were detected from the source.\n",
      "soxs : [INFO     ] 2025-04-10 02:48:05,381 Scattering energies with RMF lem_2.5ev_110422.rmf.\n"
     ]
    },
    {
     "data": {
      "application/vnd.jupyter.widget-view+json": {
       "model_id": "89e51d6079cd4eea9ad736740af42aed",
       "version_major": 2,
       "version_minor": 0
      },
      "text/plain": [
       "Scattering energies :   0%|          | 0/101620 [00:00<?, ?it/s]"
      ]
     },
     "metadata": {},
     "output_type": "display_data"
    },
    {
     "name": "stderr",
     "output_type": "stream",
     "text": [
      "soxs : [INFO     ] 2025-04-10 02:48:10,540 Adding background events.\n",
      "soxs : [INFO     ] 2025-04-10 02:48:11,903 Adding in instrumental background.\n",
      "soxs : [INFO     ] 2025-04-10 02:48:12,034 Making 34394 events from the instrumental background.\n",
      "soxs : [INFO     ] 2025-04-10 02:48:12,044 Writing events to file evt_42_1P_4_4.fits.\n",
      "soxs : [INFO     ] 2025-04-10 02:48:12,200 Observation complete.\n",
      "soxs : [INFO     ] 2025-04-10 02:48:13,867 Making observation of source in evt_43_1P_4_5.fits.\n"
     ]
    },
    {
     "name": "stdout",
     "output_type": "stream",
     "text": [
      "✅ Saved: plot_42_1P_4_4.png\n",
      "🔄 Simulating for IllustrisTNG.1P_43.snap_032.halo_000.100ks.z0.05.z_simput.fits...\n"
     ]
    },
    {
     "name": "stderr",
     "output_type": "stream",
     "text": [
      "soxs : [INFO     ] 2025-04-10 02:48:16,129 Detecting events from source IllustrisTNG.1P_43.snap_032.halo_000.100ks.z0.05.z.\n",
      "soxs : [INFO     ] 2025-04-10 02:48:16,131 Applying energy-dependent effective area from lem_300522.arf.\n",
      "soxs : [INFO     ] 2025-04-10 02:48:16,462 Pixeling events.\n",
      "soxs : [INFO     ] 2025-04-10 02:48:16,503 Scattering events with a gaussian-based PSF.\n",
      "soxs : [INFO     ] 2025-04-10 02:48:16,512 110437 events were detected from the source.\n",
      "soxs : [INFO     ] 2025-04-10 02:48:16,519 Scattering energies with RMF lem_2.5ev_110422.rmf.\n"
     ]
    },
    {
     "data": {
      "application/vnd.jupyter.widget-view+json": {
       "model_id": "0ee1dd74439e48afab7091ca256fcee3",
       "version_major": 2,
       "version_minor": 0
      },
      "text/plain": [
       "Scattering energies :   0%|          | 0/110437 [00:00<?, ?it/s]"
      ]
     },
     "metadata": {},
     "output_type": "display_data"
    },
    {
     "name": "stderr",
     "output_type": "stream",
     "text": [
      "soxs : [INFO     ] 2025-04-10 02:48:21,631 Adding background events.\n",
      "soxs : [INFO     ] 2025-04-10 02:48:22,997 Adding in instrumental background.\n",
      "soxs : [INFO     ] 2025-04-10 02:48:23,141 Making 33837 events from the instrumental background.\n",
      "soxs : [INFO     ] 2025-04-10 02:48:23,153 Writing events to file evt_43_1P_4_5.fits.\n",
      "soxs : [INFO     ] 2025-04-10 02:48:23,305 Observation complete.\n",
      "soxs : [INFO     ] 2025-04-10 02:48:24,893 Making observation of source in evt_44_1P_5_n5.fits.\n"
     ]
    },
    {
     "name": "stdout",
     "output_type": "stream",
     "text": [
      "✅ Saved: plot_43_1P_4_5.png\n",
      "🔄 Simulating for IllustrisTNG.1P_44.snap_032.halo_000.100ks.z0.05.z_simput.fits...\n"
     ]
    },
    {
     "name": "stderr",
     "output_type": "stream",
     "text": [
      "soxs : [INFO     ] 2025-04-10 02:48:26,854 Detecting events from source IllustrisTNG.1P_44.snap_032.halo_000.100ks.z0.05.z.\n",
      "soxs : [INFO     ] 2025-04-10 02:48:26,856 Applying energy-dependent effective area from lem_300522.arf.\n",
      "soxs : [INFO     ] 2025-04-10 02:48:27,119 Pixeling events.\n",
      "soxs : [INFO     ] 2025-04-10 02:48:27,152 Scattering events with a gaussian-based PSF.\n",
      "soxs : [INFO     ] 2025-04-10 02:48:27,160 89415 events were detected from the source.\n",
      "soxs : [INFO     ] 2025-04-10 02:48:27,166 Scattering energies with RMF lem_2.5ev_110422.rmf.\n"
     ]
    },
    {
     "data": {
      "application/vnd.jupyter.widget-view+json": {
       "model_id": "bac1a3a7af4c4f70b87a857fc27dc1e4",
       "version_major": 2,
       "version_minor": 0
      },
      "text/plain": [
       "Scattering energies :   0%|          | 0/89415 [00:00<?, ?it/s]"
      ]
     },
     "metadata": {},
     "output_type": "display_data"
    },
    {
     "name": "stderr",
     "output_type": "stream",
     "text": [
      "soxs : [INFO     ] 2025-04-10 02:48:32,049 Adding background events.\n",
      "soxs : [INFO     ] 2025-04-10 02:48:33,462 Adding in instrumental background.\n",
      "soxs : [INFO     ] 2025-04-10 02:48:33,610 Making 33887 events from the instrumental background.\n",
      "soxs : [INFO     ] 2025-04-10 02:48:33,622 Writing events to file evt_44_1P_5_n5.fits.\n",
      "soxs : [INFO     ] 2025-04-10 02:48:33,756 Observation complete.\n",
      "soxs : [INFO     ] 2025-04-10 02:48:35,358 Making observation of source in evt_45_1P_5_n4.fits.\n"
     ]
    },
    {
     "name": "stdout",
     "output_type": "stream",
     "text": [
      "✅ Saved: plot_44_1P_5_n5.png\n",
      "🔄 Simulating for IllustrisTNG.1P_45.snap_032.halo_000.100ks.z0.05.z_simput.fits...\n"
     ]
    },
    {
     "name": "stderr",
     "output_type": "stream",
     "text": [
      "soxs : [INFO     ] 2025-04-10 02:48:37,262 Detecting events from source IllustrisTNG.1P_45.snap_032.halo_000.100ks.z0.05.z.\n",
      "soxs : [INFO     ] 2025-04-10 02:48:37,264 Applying energy-dependent effective area from lem_300522.arf.\n",
      "soxs : [INFO     ] 2025-04-10 02:48:37,504 Pixeling events.\n",
      "soxs : [INFO     ] 2025-04-10 02:48:37,535 Scattering events with a gaussian-based PSF.\n",
      "soxs : [INFO     ] 2025-04-10 02:48:37,542 82145 events were detected from the source.\n",
      "soxs : [INFO     ] 2025-04-10 02:48:37,547 Scattering energies with RMF lem_2.5ev_110422.rmf.\n"
     ]
    },
    {
     "data": {
      "application/vnd.jupyter.widget-view+json": {
       "model_id": "f2c46242356a4ef9a5466dde98c61cfd",
       "version_major": 2,
       "version_minor": 0
      },
      "text/plain": [
       "Scattering energies :   0%|          | 0/82145 [00:00<?, ?it/s]"
      ]
     },
     "metadata": {},
     "output_type": "display_data"
    },
    {
     "name": "stderr",
     "output_type": "stream",
     "text": [
      "soxs : [INFO     ] 2025-04-10 02:48:42,202 Adding background events.\n",
      "soxs : [INFO     ] 2025-04-10 02:48:43,593 Adding in instrumental background.\n",
      "soxs : [INFO     ] 2025-04-10 02:48:43,728 Making 34295 events from the instrumental background.\n",
      "soxs : [INFO     ] 2025-04-10 02:48:43,738 Writing events to file evt_45_1P_5_n4.fits.\n",
      "soxs : [INFO     ] 2025-04-10 02:48:43,873 Observation complete.\n",
      "soxs : [INFO     ] 2025-04-10 02:48:45,481 Making observation of source in evt_46_1P_5_n3.fits.\n"
     ]
    },
    {
     "name": "stdout",
     "output_type": "stream",
     "text": [
      "✅ Saved: plot_45_1P_5_n4.png\n",
      "🔄 Simulating for IllustrisTNG.1P_46.snap_032.halo_000.100ks.z0.05.z_simput.fits...\n"
     ]
    },
    {
     "name": "stderr",
     "output_type": "stream",
     "text": [
      "soxs : [INFO     ] 2025-04-10 02:48:47,747 Detecting events from source IllustrisTNG.1P_46.snap_032.halo_000.100ks.z0.05.z.\n",
      "soxs : [INFO     ] 2025-04-10 02:48:47,748 Applying energy-dependent effective area from lem_300522.arf.\n",
      "soxs : [INFO     ] 2025-04-10 02:48:48,012 Pixeling events.\n",
      "soxs : [INFO     ] 2025-04-10 02:48:48,045 Scattering events with a gaussian-based PSF.\n",
      "soxs : [INFO     ] 2025-04-10 02:48:48,052 92179 events were detected from the source.\n",
      "soxs : [INFO     ] 2025-04-10 02:48:48,059 Scattering energies with RMF lem_2.5ev_110422.rmf.\n"
     ]
    },
    {
     "data": {
      "application/vnd.jupyter.widget-view+json": {
       "model_id": "3c554cbee8744d81a80677a7383badd4",
       "version_major": 2,
       "version_minor": 0
      },
      "text/plain": [
       "Scattering energies :   0%|          | 0/92179 [00:00<?, ?it/s]"
      ]
     },
     "metadata": {},
     "output_type": "display_data"
    },
    {
     "name": "stderr",
     "output_type": "stream",
     "text": [
      "soxs : [INFO     ] 2025-04-10 02:48:52,756 Adding background events.\n",
      "soxs : [INFO     ] 2025-04-10 02:48:54,090 Adding in instrumental background.\n",
      "soxs : [INFO     ] 2025-04-10 02:48:54,226 Making 33903 events from the instrumental background.\n",
      "soxs : [INFO     ] 2025-04-10 02:48:54,237 Writing events to file evt_46_1P_5_n3.fits.\n",
      "soxs : [INFO     ] 2025-04-10 02:48:54,380 Observation complete.\n",
      "soxs : [INFO     ] 2025-04-10 02:48:55,984 Making observation of source in evt_47_1P_5_n2.fits.\n"
     ]
    },
    {
     "name": "stdout",
     "output_type": "stream",
     "text": [
      "✅ Saved: plot_46_1P_5_n3.png\n",
      "🔄 Simulating for IllustrisTNG.1P_47.snap_032.halo_000.100ks.z0.05.z_simput.fits...\n"
     ]
    },
    {
     "name": "stderr",
     "output_type": "stream",
     "text": [
      "soxs : [INFO     ] 2025-04-10 02:48:58,566 Detecting events from source IllustrisTNG.1P_47.snap_032.halo_000.100ks.z0.05.z.\n",
      "soxs : [INFO     ] 2025-04-10 02:48:58,568 Applying energy-dependent effective area from lem_300522.arf.\n",
      "soxs : [INFO     ] 2025-04-10 02:48:58,851 Pixeling events.\n",
      "soxs : [INFO     ] 2025-04-10 02:48:58,886 Scattering events with a gaussian-based PSF.\n",
      "soxs : [INFO     ] 2025-04-10 02:48:58,894 98140 events were detected from the source.\n",
      "soxs : [INFO     ] 2025-04-10 02:48:58,900 Scattering energies with RMF lem_2.5ev_110422.rmf.\n"
     ]
    },
    {
     "data": {
      "application/vnd.jupyter.widget-view+json": {
       "model_id": "d0c23c85bdfa4f838821c3c2e811e567",
       "version_major": 2,
       "version_minor": 0
      },
      "text/plain": [
       "Scattering energies :   0%|          | 0/98140 [00:00<?, ?it/s]"
      ]
     },
     "metadata": {},
     "output_type": "display_data"
    },
    {
     "name": "stderr",
     "output_type": "stream",
     "text": [
      "soxs : [INFO     ] 2025-04-10 02:49:03,704 Adding background events.\n",
      "soxs : [INFO     ] 2025-04-10 02:49:05,039 Adding in instrumental background.\n",
      "soxs : [INFO     ] 2025-04-10 02:49:05,169 Making 34340 events from the instrumental background.\n",
      "soxs : [INFO     ] 2025-04-10 02:49:05,180 Writing events to file evt_47_1P_5_n2.fits.\n",
      "soxs : [INFO     ] 2025-04-10 02:49:05,318 Observation complete.\n",
      "soxs : [INFO     ] 2025-04-10 02:49:06,914 Making observation of source in evt_48_1P_5_n1.fits.\n"
     ]
    },
    {
     "name": "stdout",
     "output_type": "stream",
     "text": [
      "✅ Saved: plot_47_1P_5_n2.png\n",
      "🔄 Simulating for IllustrisTNG.1P_48.snap_032.halo_000.100ks.z0.05.z_simput.fits...\n"
     ]
    },
    {
     "name": "stderr",
     "output_type": "stream",
     "text": [
      "soxs : [INFO     ] 2025-04-10 02:49:08,932 Detecting events from source IllustrisTNG.1P_48.snap_032.halo_000.100ks.z0.05.z.\n",
      "soxs : [INFO     ] 2025-04-10 02:49:08,933 Applying energy-dependent effective area from lem_300522.arf.\n",
      "soxs : [INFO     ] 2025-04-10 02:49:09,222 Pixeling events.\n",
      "soxs : [INFO     ] 2025-04-10 02:49:09,258 Scattering events with a gaussian-based PSF.\n",
      "soxs : [INFO     ] 2025-04-10 02:49:09,266 98091 events were detected from the source.\n",
      "soxs : [INFO     ] 2025-04-10 02:49:09,272 Scattering energies with RMF lem_2.5ev_110422.rmf.\n"
     ]
    },
    {
     "data": {
      "application/vnd.jupyter.widget-view+json": {
       "model_id": "c9f7cf57323f45fc96aafc00f66ee64a",
       "version_major": 2,
       "version_minor": 0
      },
      "text/plain": [
       "Scattering energies :   0%|          | 0/98091 [00:00<?, ?it/s]"
      ]
     },
     "metadata": {},
     "output_type": "display_data"
    },
    {
     "name": "stderr",
     "output_type": "stream",
     "text": [
      "soxs : [INFO     ] 2025-04-10 02:49:14,168 Adding background events.\n",
      "soxs : [INFO     ] 2025-04-10 02:49:15,496 Adding in instrumental background.\n",
      "soxs : [INFO     ] 2025-04-10 02:49:15,624 Making 34044 events from the instrumental background.\n",
      "soxs : [INFO     ] 2025-04-10 02:49:15,638 Writing events to file evt_48_1P_5_n1.fits.\n",
      "soxs : [INFO     ] 2025-04-10 02:49:15,778 Observation complete.\n",
      "soxs : [INFO     ] 2025-04-10 02:49:17,370 Making observation of source in evt_49_1P_5_0.fits.\n"
     ]
    },
    {
     "name": "stdout",
     "output_type": "stream",
     "text": [
      "✅ Saved: plot_48_1P_5_n1.png\n",
      "🔄 Simulating for IllustrisTNG.1P_49.snap_032.halo_000.100ks.z0.05.z_simput.fits...\n"
     ]
    },
    {
     "name": "stderr",
     "output_type": "stream",
     "text": [
      "soxs : [INFO     ] 2025-04-10 02:49:19,349 Detecting events from source IllustrisTNG.1P_49.snap_032.halo_000.100ks.z0.05.z.\n",
      "soxs : [INFO     ] 2025-04-10 02:49:19,351 Applying energy-dependent effective area from lem_300522.arf.\n",
      "soxs : [INFO     ] 2025-04-10 02:49:19,664 Pixeling events.\n",
      "soxs : [INFO     ] 2025-04-10 02:49:19,702 Scattering events with a gaussian-based PSF.\n",
      "soxs : [INFO     ] 2025-04-10 02:49:19,711 107891 events were detected from the source.\n",
      "soxs : [INFO     ] 2025-04-10 02:49:19,717 Scattering energies with RMF lem_2.5ev_110422.rmf.\n"
     ]
    },
    {
     "data": {
      "application/vnd.jupyter.widget-view+json": {
       "model_id": "59f85e205b974a1c9c1d8a01b85dee4a",
       "version_major": 2,
       "version_minor": 0
      },
      "text/plain": [
       "Scattering energies :   0%|          | 0/107891 [00:00<?, ?it/s]"
      ]
     },
     "metadata": {},
     "output_type": "display_data"
    },
    {
     "name": "stderr",
     "output_type": "stream",
     "text": [
      "soxs : [INFO     ] 2025-04-10 02:49:24,701 Adding background events.\n",
      "soxs : [INFO     ] 2025-04-10 02:49:26,044 Adding in instrumental background.\n",
      "soxs : [INFO     ] 2025-04-10 02:49:26,173 Making 34151 events from the instrumental background.\n",
      "soxs : [INFO     ] 2025-04-10 02:49:26,183 Writing events to file evt_49_1P_5_0.fits.\n",
      "soxs : [INFO     ] 2025-04-10 02:49:26,328 Observation complete.\n",
      "soxs : [INFO     ] 2025-04-10 02:49:27,944 Making observation of source in evt_50_1P_5_1.fits.\n"
     ]
    },
    {
     "name": "stdout",
     "output_type": "stream",
     "text": [
      "✅ Saved: plot_49_1P_5_0.png\n",
      "🔄 Simulating for IllustrisTNG.1P_50.snap_032.halo_000.100ks.z0.05.z_simput.fits...\n"
     ]
    },
    {
     "name": "stderr",
     "output_type": "stream",
     "text": [
      "soxs : [INFO     ] 2025-04-10 02:49:30,715 Detecting events from source IllustrisTNG.1P_50.snap_032.halo_000.100ks.z0.05.z.\n",
      "soxs : [INFO     ] 2025-04-10 02:49:30,717 Applying energy-dependent effective area from lem_300522.arf.\n",
      "soxs : [INFO     ] 2025-04-10 02:49:31,089 Pixeling events.\n",
      "soxs : [INFO     ] 2025-04-10 02:49:31,133 Scattering events with a gaussian-based PSF.\n",
      "soxs : [INFO     ] 2025-04-10 02:49:31,143 127788 events were detected from the source.\n",
      "soxs : [INFO     ] 2025-04-10 02:49:31,152 Scattering energies with RMF lem_2.5ev_110422.rmf.\n"
     ]
    },
    {
     "data": {
      "application/vnd.jupyter.widget-view+json": {
       "model_id": "a1eeb339787f40fd84c4558e8b6062c5",
       "version_major": 2,
       "version_minor": 0
      },
      "text/plain": [
       "Scattering energies :   0%|          | 0/127788 [00:00<?, ?it/s]"
      ]
     },
     "metadata": {},
     "output_type": "display_data"
    },
    {
     "name": "stderr",
     "output_type": "stream",
     "text": [
      "soxs : [INFO     ] 2025-04-10 02:49:36,358 Adding background events.\n",
      "soxs : [INFO     ] 2025-04-10 02:49:37,683 Adding in instrumental background.\n",
      "soxs : [INFO     ] 2025-04-10 02:49:37,810 Making 34213 events from the instrumental background.\n",
      "soxs : [INFO     ] 2025-04-10 02:49:37,822 Writing events to file evt_50_1P_5_1.fits.\n",
      "soxs : [INFO     ] 2025-04-10 02:49:37,996 Observation complete.\n",
      "soxs : [INFO     ] 2025-04-10 02:49:39,651 Making observation of source in evt_51_1P_5_2.fits.\n"
     ]
    },
    {
     "name": "stdout",
     "output_type": "stream",
     "text": [
      "✅ Saved: plot_50_1P_5_1.png\n",
      "🔄 Simulating for IllustrisTNG.1P_51.snap_032.halo_000.100ks.z0.05.z_simput.fits...\n"
     ]
    },
    {
     "name": "stderr",
     "output_type": "stream",
     "text": [
      "soxs : [INFO     ] 2025-04-10 02:49:42,042 Detecting events from source IllustrisTNG.1P_51.snap_032.halo_000.100ks.z0.05.z.\n",
      "soxs : [INFO     ] 2025-04-10 02:49:42,043 Applying energy-dependent effective area from lem_300522.arf.\n",
      "soxs : [INFO     ] 2025-04-10 02:49:42,431 Pixeling events.\n",
      "soxs : [INFO     ] 2025-04-10 02:49:42,477 Scattering events with a gaussian-based PSF.\n",
      "soxs : [INFO     ] 2025-04-10 02:49:42,488 128081 events were detected from the source.\n",
      "soxs : [INFO     ] 2025-04-10 02:49:42,497 Scattering energies with RMF lem_2.5ev_110422.rmf.\n"
     ]
    },
    {
     "data": {
      "application/vnd.jupyter.widget-view+json": {
       "model_id": "19409323a712483fb0ee83bd729a003c",
       "version_major": 2,
       "version_minor": 0
      },
      "text/plain": [
       "Scattering energies :   0%|          | 0/128081 [00:00<?, ?it/s]"
      ]
     },
     "metadata": {},
     "output_type": "display_data"
    },
    {
     "name": "stderr",
     "output_type": "stream",
     "text": [
      "soxs : [INFO     ] 2025-04-10 02:49:47,699 Adding background events.\n",
      "soxs : [INFO     ] 2025-04-10 02:49:49,050 Adding in instrumental background.\n",
      "soxs : [INFO     ] 2025-04-10 02:49:49,179 Making 34084 events from the instrumental background.\n",
      "soxs : [INFO     ] 2025-04-10 02:49:49,192 Writing events to file evt_51_1P_5_2.fits.\n",
      "soxs : [INFO     ] 2025-04-10 02:49:49,370 Observation complete.\n",
      "soxs : [INFO     ] 2025-04-10 02:49:51,011 Making observation of source in evt_52_1P_5_3.fits.\n"
     ]
    },
    {
     "name": "stdout",
     "output_type": "stream",
     "text": [
      "✅ Saved: plot_51_1P_5_2.png\n",
      "🔄 Simulating for IllustrisTNG.1P_52.snap_032.halo_000.100ks.z0.05.z_simput.fits...\n"
     ]
    },
    {
     "name": "stderr",
     "output_type": "stream",
     "text": [
      "soxs : [INFO     ] 2025-04-10 02:49:53,415 Detecting events from source IllustrisTNG.1P_52.snap_032.halo_000.100ks.z0.05.z.\n",
      "soxs : [INFO     ] 2025-04-10 02:49:53,416 Applying energy-dependent effective area from lem_300522.arf.\n",
      "soxs : [INFO     ] 2025-04-10 02:49:53,857 Pixeling events.\n",
      "soxs : [INFO     ] 2025-04-10 02:49:53,907 Scattering events with a gaussian-based PSF.\n",
      "soxs : [INFO     ] 2025-04-10 02:49:53,918 144968 events were detected from the source.\n",
      "soxs : [INFO     ] 2025-04-10 02:49:53,928 Scattering energies with RMF lem_2.5ev_110422.rmf.\n"
     ]
    },
    {
     "data": {
      "application/vnd.jupyter.widget-view+json": {
       "model_id": "c505b230ab56467588ec4742c2584936",
       "version_major": 2,
       "version_minor": 0
      },
      "text/plain": [
       "Scattering energies :   0%|          | 0/144968 [00:00<?, ?it/s]"
      ]
     },
     "metadata": {},
     "output_type": "display_data"
    },
    {
     "name": "stderr",
     "output_type": "stream",
     "text": [
      "soxs : [INFO     ] 2025-04-10 02:49:59,387 Adding background events.\n",
      "soxs : [INFO     ] 2025-04-10 02:50:00,725 Adding in instrumental background.\n",
      "soxs : [INFO     ] 2025-04-10 02:50:00,858 Making 34350 events from the instrumental background.\n",
      "soxs : [INFO     ] 2025-04-10 02:50:00,870 Writing events to file evt_52_1P_5_3.fits.\n",
      "soxs : [INFO     ] 2025-04-10 02:50:01,041 Observation complete.\n",
      "soxs : [INFO     ] 2025-04-10 02:50:02,688 Making observation of source in evt_53_1P_5_4.fits.\n"
     ]
    },
    {
     "name": "stdout",
     "output_type": "stream",
     "text": [
      "✅ Saved: plot_52_1P_5_3.png\n",
      "🔄 Simulating for IllustrisTNG.1P_53.snap_032.halo_000.100ks.z0.05.z_simput.fits...\n"
     ]
    },
    {
     "name": "stderr",
     "output_type": "stream",
     "text": [
      "soxs : [INFO     ] 2025-04-10 02:50:04,989 Detecting events from source IllustrisTNG.1P_53.snap_032.halo_000.100ks.z0.05.z.\n",
      "soxs : [INFO     ] 2025-04-10 02:50:04,992 Applying energy-dependent effective area from lem_300522.arf.\n",
      "soxs : [INFO     ] 2025-04-10 02:50:05,428 Pixeling events.\n",
      "soxs : [INFO     ] 2025-04-10 02:50:05,481 Scattering events with a gaussian-based PSF.\n",
      "soxs : [INFO     ] 2025-04-10 02:50:05,493 141842 events were detected from the source.\n",
      "soxs : [INFO     ] 2025-04-10 02:50:05,503 Scattering energies with RMF lem_2.5ev_110422.rmf.\n"
     ]
    },
    {
     "data": {
      "application/vnd.jupyter.widget-view+json": {
       "model_id": "9297dcf7a70c4a91926a4ebaf1cfe0c9",
       "version_major": 2,
       "version_minor": 0
      },
      "text/plain": [
       "Scattering energies :   0%|          | 0/141842 [00:00<?, ?it/s]"
      ]
     },
     "metadata": {},
     "output_type": "display_data"
    },
    {
     "name": "stderr",
     "output_type": "stream",
     "text": [
      "soxs : [INFO     ] 2025-04-10 02:50:11,068 Adding background events.\n",
      "soxs : [INFO     ] 2025-04-10 02:50:12,450 Adding in instrumental background.\n",
      "soxs : [INFO     ] 2025-04-10 02:50:12,584 Making 34055 events from the instrumental background.\n",
      "soxs : [INFO     ] 2025-04-10 02:50:12,597 Writing events to file evt_53_1P_5_4.fits.\n",
      "soxs : [INFO     ] 2025-04-10 02:50:12,767 Observation complete.\n",
      "soxs : [INFO     ] 2025-04-10 02:50:14,427 Making observation of source in evt_54_1P_5_5.fits.\n"
     ]
    },
    {
     "name": "stdout",
     "output_type": "stream",
     "text": [
      "✅ Saved: plot_53_1P_5_4.png\n",
      "🔄 Simulating for IllustrisTNG.1P_54.snap_032.halo_000.100ks.z0.05.z_simput.fits...\n"
     ]
    },
    {
     "name": "stderr",
     "output_type": "stream",
     "text": [
      "soxs : [INFO     ] 2025-04-10 02:50:16,947 Detecting events from source IllustrisTNG.1P_54.snap_032.halo_000.100ks.z0.05.z.\n",
      "soxs : [INFO     ] 2025-04-10 02:50:16,948 Applying energy-dependent effective area from lem_300522.arf.\n",
      "soxs : [INFO     ] 2025-04-10 02:50:17,401 Pixeling events.\n",
      "soxs : [INFO     ] 2025-04-10 02:50:17,451 Scattering events with a gaussian-based PSF.\n",
      "soxs : [INFO     ] 2025-04-10 02:50:17,479 142918 events were detected from the source.\n",
      "soxs : [INFO     ] 2025-04-10 02:50:17,490 Scattering energies with RMF lem_2.5ev_110422.rmf.\n"
     ]
    },
    {
     "data": {
      "application/vnd.jupyter.widget-view+json": {
       "model_id": "f9b3492e0f284e47abe1f58b35d599a8",
       "version_major": 2,
       "version_minor": 0
      },
      "text/plain": [
       "Scattering energies :   0%|          | 0/142918 [00:00<?, ?it/s]"
      ]
     },
     "metadata": {},
     "output_type": "display_data"
    },
    {
     "name": "stderr",
     "output_type": "stream",
     "text": [
      "soxs : [INFO     ] 2025-04-10 02:50:23,080 Adding background events.\n",
      "soxs : [INFO     ] 2025-04-10 02:50:24,451 Adding in instrumental background.\n",
      "soxs : [INFO     ] 2025-04-10 02:50:24,586 Making 34463 events from the instrumental background.\n",
      "soxs : [INFO     ] 2025-04-10 02:50:24,600 Writing events to file evt_54_1P_5_5.fits.\n",
      "soxs : [INFO     ] 2025-04-10 02:50:24,782 Observation complete.\n",
      "soxs : [INFO     ] 2025-04-10 02:50:26,476 Making observation of source in evt_55_1P_6_n5.fits.\n"
     ]
    },
    {
     "name": "stdout",
     "output_type": "stream",
     "text": [
      "✅ Saved: plot_54_1P_5_5.png\n",
      "🔄 Simulating for IllustrisTNG.1P_55.snap_032.halo_000.100ks.z0.05.z_simput.fits...\n"
     ]
    },
    {
     "name": "stderr",
     "output_type": "stream",
     "text": [
      "soxs : [INFO     ] 2025-04-10 02:50:29,048 Detecting events from source IllustrisTNG.1P_55.snap_032.halo_000.100ks.z0.05.z.\n",
      "soxs : [INFO     ] 2025-04-10 02:50:29,050 Applying energy-dependent effective area from lem_300522.arf.\n",
      "soxs : [INFO     ] 2025-04-10 02:50:29,456 Pixeling events.\n",
      "soxs : [INFO     ] 2025-04-10 02:50:29,504 Scattering events with a gaussian-based PSF.\n",
      "soxs : [INFO     ] 2025-04-10 02:50:29,515 136419 events were detected from the source.\n",
      "soxs : [INFO     ] 2025-04-10 02:50:29,525 Scattering energies with RMF lem_2.5ev_110422.rmf.\n"
     ]
    },
    {
     "data": {
      "application/vnd.jupyter.widget-view+json": {
       "model_id": "0648b19e4f174d0f909abad57003e00e",
       "version_major": 2,
       "version_minor": 0
      },
      "text/plain": [
       "Scattering energies :   0%|          | 0/136419 [00:00<?, ?it/s]"
      ]
     },
     "metadata": {},
     "output_type": "display_data"
    },
    {
     "name": "stderr",
     "output_type": "stream",
     "text": [
      "soxs : [INFO     ] 2025-04-10 02:50:35,047 Adding background events.\n",
      "soxs : [INFO     ] 2025-04-10 02:50:36,438 Adding in instrumental background.\n",
      "soxs : [INFO     ] 2025-04-10 02:50:36,569 Making 33925 events from the instrumental background.\n",
      "soxs : [INFO     ] 2025-04-10 02:50:36,581 Writing events to file evt_55_1P_6_n5.fits.\n",
      "soxs : [INFO     ] 2025-04-10 02:50:36,752 Observation complete.\n",
      "soxs : [INFO     ] 2025-04-10 02:50:38,439 Making observation of source in evt_56_1P_6_n4.fits.\n"
     ]
    },
    {
     "name": "stdout",
     "output_type": "stream",
     "text": [
      "✅ Saved: plot_55_1P_6_n5.png\n",
      "🔄 Simulating for IllustrisTNG.1P_56.snap_032.halo_000.100ks.z0.05.z_simput.fits...\n"
     ]
    },
    {
     "name": "stderr",
     "output_type": "stream",
     "text": [
      "soxs : [INFO     ] 2025-04-10 02:50:40,657 Detecting events from source IllustrisTNG.1P_56.snap_032.halo_000.100ks.z0.05.z.\n",
      "soxs : [INFO     ] 2025-04-10 02:50:40,658 Applying energy-dependent effective area from lem_300522.arf.\n",
      "soxs : [INFO     ] 2025-04-10 02:50:41,105 Pixeling events.\n",
      "soxs : [INFO     ] 2025-04-10 02:50:41,155 Scattering events with a gaussian-based PSF.\n",
      "soxs : [INFO     ] 2025-04-10 02:50:41,183 146948 events were detected from the source.\n",
      "soxs : [INFO     ] 2025-04-10 02:50:41,193 Scattering energies with RMF lem_2.5ev_110422.rmf.\n"
     ]
    },
    {
     "data": {
      "application/vnd.jupyter.widget-view+json": {
       "model_id": "57eccb3ba98944648e161eb6adce3f51",
       "version_major": 2,
       "version_minor": 0
      },
      "text/plain": [
       "Scattering energies :   0%|          | 0/146948 [00:00<?, ?it/s]"
      ]
     },
     "metadata": {},
     "output_type": "display_data"
    },
    {
     "name": "stderr",
     "output_type": "stream",
     "text": [
      "soxs : [INFO     ] 2025-04-10 02:50:46,849 Adding background events.\n",
      "soxs : [INFO     ] 2025-04-10 02:50:48,207 Adding in instrumental background.\n",
      "soxs : [INFO     ] 2025-04-10 02:50:48,337 Making 33869 events from the instrumental background.\n",
      "soxs : [INFO     ] 2025-04-10 02:50:48,350 Writing events to file evt_56_1P_6_n4.fits.\n",
      "soxs : [INFO     ] 2025-04-10 02:50:48,520 Observation complete.\n",
      "soxs : [INFO     ] 2025-04-10 02:50:50,124 Making observation of source in evt_57_1P_6_n3.fits.\n"
     ]
    },
    {
     "name": "stdout",
     "output_type": "stream",
     "text": [
      "✅ Saved: plot_56_1P_6_n4.png\n",
      "🔄 Simulating for IllustrisTNG.1P_57.snap_032.halo_000.100ks.z0.05.z_simput.fits...\n"
     ]
    },
    {
     "name": "stderr",
     "output_type": "stream",
     "text": [
      "soxs : [INFO     ] 2025-04-10 02:50:52,229 Detecting events from source IllustrisTNG.1P_57.snap_032.halo_000.100ks.z0.05.z.\n",
      "soxs : [INFO     ] 2025-04-10 02:50:52,230 Applying energy-dependent effective area from lem_300522.arf.\n",
      "soxs : [INFO     ] 2025-04-10 02:50:52,660 Pixeling events.\n",
      "soxs : [INFO     ] 2025-04-10 02:50:52,710 Scattering events with a gaussian-based PSF.\n",
      "soxs : [INFO     ] 2025-04-10 02:50:52,721 141807 events were detected from the source.\n",
      "soxs : [INFO     ] 2025-04-10 02:50:52,732 Scattering energies with RMF lem_2.5ev_110422.rmf.\n"
     ]
    },
    {
     "data": {
      "application/vnd.jupyter.widget-view+json": {
       "model_id": "c2f2ae4b405844a1bf3728720f32f87e",
       "version_major": 2,
       "version_minor": 0
      },
      "text/plain": [
       "Scattering energies :   0%|          | 0/141807 [00:00<?, ?it/s]"
      ]
     },
     "metadata": {},
     "output_type": "display_data"
    },
    {
     "name": "stderr",
     "output_type": "stream",
     "text": [
      "soxs : [INFO     ] 2025-04-10 02:50:58,240 Adding background events.\n",
      "soxs : [INFO     ] 2025-04-10 02:50:59,573 Adding in instrumental background.\n",
      "soxs : [INFO     ] 2025-04-10 02:50:59,701 Making 34433 events from the instrumental background.\n",
      "soxs : [INFO     ] 2025-04-10 02:50:59,714 Writing events to file evt_57_1P_6_n3.fits.\n",
      "soxs : [INFO     ] 2025-04-10 02:50:59,883 Observation complete.\n",
      "soxs : [INFO     ] 2025-04-10 02:51:01,522 Making observation of source in evt_58_1P_6_n2.fits.\n"
     ]
    },
    {
     "name": "stdout",
     "output_type": "stream",
     "text": [
      "✅ Saved: plot_57_1P_6_n3.png\n",
      "🔄 Simulating for IllustrisTNG.1P_58.snap_032.halo_000.100ks.z0.05.z_simput.fits...\n"
     ]
    },
    {
     "name": "stderr",
     "output_type": "stream",
     "text": [
      "soxs : [INFO     ] 2025-04-10 02:51:03,610 Detecting events from source IllustrisTNG.1P_58.snap_032.halo_000.100ks.z0.05.z.\n",
      "soxs : [INFO     ] 2025-04-10 02:51:03,611 Applying energy-dependent effective area from lem_300522.arf.\n",
      "soxs : [INFO     ] 2025-04-10 02:51:03,974 Pixeling events.\n",
      "soxs : [INFO     ] 2025-04-10 02:51:04,016 Scattering events with a gaussian-based PSF.\n",
      "soxs : [INFO     ] 2025-04-10 02:51:04,025 120426 events were detected from the source.\n",
      "soxs : [INFO     ] 2025-04-10 02:51:04,033 Scattering energies with RMF lem_2.5ev_110422.rmf.\n"
     ]
    },
    {
     "data": {
      "application/vnd.jupyter.widget-view+json": {
       "model_id": "212df0eafef141dc8658d013107cbe57",
       "version_major": 2,
       "version_minor": 0
      },
      "text/plain": [
       "Scattering energies :   0%|          | 0/120426 [00:00<?, ?it/s]"
      ]
     },
     "metadata": {},
     "output_type": "display_data"
    },
    {
     "name": "stderr",
     "output_type": "stream",
     "text": [
      "soxs : [INFO     ] 2025-04-10 02:51:09,211 Adding background events.\n",
      "soxs : [INFO     ] 2025-04-10 02:51:10,549 Adding in instrumental background.\n",
      "soxs : [INFO     ] 2025-04-10 02:51:10,677 Making 34070 events from the instrumental background.\n",
      "soxs : [INFO     ] 2025-04-10 02:51:10,688 Writing events to file evt_58_1P_6_n2.fits.\n",
      "soxs : [INFO     ] 2025-04-10 02:51:10,851 Observation complete.\n",
      "soxs : [INFO     ] 2025-04-10 02:51:12,520 Making observation of source in evt_59_1P_6_n1.fits.\n"
     ]
    },
    {
     "name": "stdout",
     "output_type": "stream",
     "text": [
      "✅ Saved: plot_58_1P_6_n2.png\n",
      "🔄 Simulating for IllustrisTNG.1P_59.snap_032.halo_000.100ks.z0.05.z_simput.fits...\n"
     ]
    },
    {
     "name": "stderr",
     "output_type": "stream",
     "text": [
      "soxs : [INFO     ] 2025-04-10 02:51:15,000 Detecting events from source IllustrisTNG.1P_59.snap_032.halo_000.100ks.z0.05.z.\n",
      "soxs : [INFO     ] 2025-04-10 02:51:15,002 Applying energy-dependent effective area from lem_300522.arf.\n",
      "soxs : [INFO     ] 2025-04-10 02:51:15,384 Pixeling events.\n",
      "soxs : [INFO     ] 2025-04-10 02:51:15,430 Scattering events with a gaussian-based PSF.\n",
      "soxs : [INFO     ] 2025-04-10 02:51:15,440 127169 events were detected from the source.\n",
      "soxs : [INFO     ] 2025-04-10 02:51:15,449 Scattering energies with RMF lem_2.5ev_110422.rmf.\n"
     ]
    },
    {
     "data": {
      "application/vnd.jupyter.widget-view+json": {
       "model_id": "a0e0c3327ee14447817eca50287fdffb",
       "version_major": 2,
       "version_minor": 0
      },
      "text/plain": [
       "Scattering energies :   0%|          | 0/127169 [00:00<?, ?it/s]"
      ]
     },
     "metadata": {},
     "output_type": "display_data"
    },
    {
     "name": "stderr",
     "output_type": "stream",
     "text": [
      "soxs : [INFO     ] 2025-04-10 02:51:20,692 Adding background events.\n",
      "soxs : [INFO     ] 2025-04-10 02:51:22,030 Adding in instrumental background.\n",
      "soxs : [INFO     ] 2025-04-10 02:51:22,159 Making 33980 events from the instrumental background.\n",
      "soxs : [INFO     ] 2025-04-10 02:51:22,171 Writing events to file evt_59_1P_6_n1.fits.\n",
      "soxs : [INFO     ] 2025-04-10 02:51:22,347 Observation complete.\n",
      "soxs : [INFO     ] 2025-04-10 02:51:24,051 Making observation of source in evt_60_1P_6_0.fits.\n"
     ]
    },
    {
     "name": "stdout",
     "output_type": "stream",
     "text": [
      "✅ Saved: plot_59_1P_6_n1.png\n",
      "🔄 Simulating for IllustrisTNG.1P_60.snap_032.halo_000.100ks.z0.05.z_simput.fits...\n"
     ]
    },
    {
     "name": "stderr",
     "output_type": "stream",
     "text": [
      "soxs : [INFO     ] 2025-04-10 02:51:26,372 Detecting events from source IllustrisTNG.1P_60.snap_032.halo_000.100ks.z0.05.z.\n",
      "soxs : [INFO     ] 2025-04-10 02:51:26,373 Applying energy-dependent effective area from lem_300522.arf.\n",
      "soxs : [INFO     ] 2025-04-10 02:51:26,706 Pixeling events.\n",
      "soxs : [INFO     ] 2025-04-10 02:51:26,744 Scattering events with a gaussian-based PSF.\n",
      "soxs : [INFO     ] 2025-04-10 02:51:26,753 107418 events were detected from the source.\n",
      "soxs : [INFO     ] 2025-04-10 02:51:26,760 Scattering energies with RMF lem_2.5ev_110422.rmf.\n"
     ]
    },
    {
     "data": {
      "application/vnd.jupyter.widget-view+json": {
       "model_id": "ea9f374c70624f25b726c2a4a9fdf4af",
       "version_major": 2,
       "version_minor": 0
      },
      "text/plain": [
       "Scattering energies :   0%|          | 0/107418 [00:00<?, ?it/s]"
      ]
     },
     "metadata": {},
     "output_type": "display_data"
    },
    {
     "name": "stderr",
     "output_type": "stream",
     "text": [
      "soxs : [INFO     ] 2025-04-10 02:51:31,756 Adding background events.\n",
      "soxs : [INFO     ] 2025-04-10 02:51:33,095 Adding in instrumental background.\n",
      "soxs : [INFO     ] 2025-04-10 02:51:33,221 Making 33902 events from the instrumental background.\n",
      "soxs : [INFO     ] 2025-04-10 02:51:33,234 Writing events to file evt_60_1P_6_0.fits.\n",
      "soxs : [INFO     ] 2025-04-10 02:51:33,377 Observation complete.\n",
      "soxs : [INFO     ] 2025-04-10 02:51:35,016 Making observation of source in evt_61_1P_6_1.fits.\n"
     ]
    },
    {
     "name": "stdout",
     "output_type": "stream",
     "text": [
      "✅ Saved: plot_60_1P_6_0.png\n",
      "🔄 Simulating for IllustrisTNG.1P_61.snap_032.halo_000.100ks.z0.05.z_simput.fits...\n"
     ]
    },
    {
     "name": "stderr",
     "output_type": "stream",
     "text": [
      "soxs : [INFO     ] 2025-04-10 02:51:36,988 Detecting events from source IllustrisTNG.1P_61.snap_032.halo_000.100ks.z0.05.z.\n",
      "soxs : [INFO     ] 2025-04-10 02:51:36,990 Applying energy-dependent effective area from lem_300522.arf.\n",
      "soxs : [INFO     ] 2025-04-10 02:51:37,288 Pixeling events.\n",
      "soxs : [INFO     ] 2025-04-10 02:51:37,322 Scattering events with a gaussian-based PSF.\n",
      "soxs : [INFO     ] 2025-04-10 02:51:37,330 95033 events were detected from the source.\n",
      "soxs : [INFO     ] 2025-04-10 02:51:37,335 Scattering energies with RMF lem_2.5ev_110422.rmf.\n"
     ]
    },
    {
     "data": {
      "application/vnd.jupyter.widget-view+json": {
       "model_id": "3c413d91520e4874bc36485028835fcf",
       "version_major": 2,
       "version_minor": 0
      },
      "text/plain": [
       "Scattering energies :   0%|          | 0/95033 [00:00<?, ?it/s]"
      ]
     },
     "metadata": {},
     "output_type": "display_data"
    },
    {
     "name": "stderr",
     "output_type": "stream",
     "text": [
      "soxs : [INFO     ] 2025-04-10 02:51:42,149 Adding background events.\n",
      "soxs : [INFO     ] 2025-04-10 02:51:43,491 Adding in instrumental background.\n",
      "soxs : [INFO     ] 2025-04-10 02:51:43,626 Making 34071 events from the instrumental background.\n",
      "soxs : [INFO     ] 2025-04-10 02:51:43,637 Writing events to file evt_61_1P_6_1.fits.\n",
      "soxs : [INFO     ] 2025-04-10 02:51:43,775 Observation complete.\n",
      "soxs : [INFO     ] 2025-04-10 02:51:45,424 Making observation of source in evt_62_1P_6_2.fits.\n"
     ]
    },
    {
     "name": "stdout",
     "output_type": "stream",
     "text": [
      "✅ Saved: plot_61_1P_6_1.png\n",
      "🔄 Simulating for IllustrisTNG.1P_62.snap_032.halo_000.100ks.z0.05.z_simput.fits...\n"
     ]
    },
    {
     "name": "stderr",
     "output_type": "stream",
     "text": [
      "soxs : [INFO     ] 2025-04-10 02:51:47,436 Detecting events from source IllustrisTNG.1P_62.snap_032.halo_000.100ks.z0.05.z.\n",
      "soxs : [INFO     ] 2025-04-10 02:51:47,438 Applying energy-dependent effective area from lem_300522.arf.\n",
      "soxs : [INFO     ] 2025-04-10 02:51:47,723 Pixeling events.\n",
      "soxs : [INFO     ] 2025-04-10 02:51:47,757 Scattering events with a gaussian-based PSF.\n",
      "soxs : [INFO     ] 2025-04-10 02:51:47,766 94895 events were detected from the source.\n",
      "soxs : [INFO     ] 2025-04-10 02:51:47,772 Scattering energies with RMF lem_2.5ev_110422.rmf.\n"
     ]
    },
    {
     "data": {
      "application/vnd.jupyter.widget-view+json": {
       "model_id": "be7d7486211b49b297c394a62fda8a74",
       "version_major": 2,
       "version_minor": 0
      },
      "text/plain": [
       "Scattering energies :   0%|          | 0/94895 [00:00<?, ?it/s]"
      ]
     },
     "metadata": {},
     "output_type": "display_data"
    },
    {
     "name": "stderr",
     "output_type": "stream",
     "text": [
      "soxs : [INFO     ] 2025-04-10 02:51:52,562 Adding background events.\n",
      "soxs : [INFO     ] 2025-04-10 02:51:53,904 Adding in instrumental background.\n",
      "soxs : [INFO     ] 2025-04-10 02:51:54,038 Making 34028 events from the instrumental background.\n",
      "soxs : [INFO     ] 2025-04-10 02:51:54,049 Writing events to file evt_62_1P_6_2.fits.\n",
      "soxs : [INFO     ] 2025-04-10 02:51:54,197 Observation complete.\n",
      "soxs : [INFO     ] 2025-04-10 02:51:56,686 Making observation of source in evt_63_1P_6_3.fits.\n"
     ]
    },
    {
     "name": "stdout",
     "output_type": "stream",
     "text": [
      "✅ Saved: plot_62_1P_6_2.png\n",
      "🔄 Simulating for IllustrisTNG.1P_63.snap_032.halo_000.100ks.z0.05.z_simput.fits...\n"
     ]
    },
    {
     "name": "stderr",
     "output_type": "stream",
     "text": [
      "soxs : [INFO     ] 2025-04-10 02:51:58,648 Detecting events from source IllustrisTNG.1P_63.snap_032.halo_000.100ks.z0.05.z.\n",
      "soxs : [INFO     ] 2025-04-10 02:51:58,649 Applying energy-dependent effective area from lem_300522.arf.\n",
      "soxs : [INFO     ] 2025-04-10 02:51:58,906 Pixeling events.\n",
      "soxs : [INFO     ] 2025-04-10 02:51:58,937 Scattering events with a gaussian-based PSF.\n",
      "soxs : [INFO     ] 2025-04-10 02:51:58,945 84669 events were detected from the source.\n",
      "soxs : [INFO     ] 2025-04-10 02:51:58,950 Scattering energies with RMF lem_2.5ev_110422.rmf.\n"
     ]
    },
    {
     "data": {
      "application/vnd.jupyter.widget-view+json": {
       "model_id": "9e30f104f7fb4a43812c7de315ac12a6",
       "version_major": 2,
       "version_minor": 0
      },
      "text/plain": [
       "Scattering energies :   0%|          | 0/84669 [00:00<?, ?it/s]"
      ]
     },
     "metadata": {},
     "output_type": "display_data"
    },
    {
     "name": "stderr",
     "output_type": "stream",
     "text": [
      "soxs : [INFO     ] 2025-04-10 02:52:03,738 Adding background events.\n",
      "soxs : [INFO     ] 2025-04-10 02:52:05,110 Adding in instrumental background.\n",
      "soxs : [INFO     ] 2025-04-10 02:52:05,245 Making 34098 events from the instrumental background.\n",
      "soxs : [INFO     ] 2025-04-10 02:52:05,256 Writing events to file evt_63_1P_6_3.fits.\n",
      "soxs : [INFO     ] 2025-04-10 02:52:05,396 Observation complete.\n",
      "soxs : [INFO     ] 2025-04-10 02:52:07,046 Making observation of source in evt_64_1P_6_4.fits.\n"
     ]
    },
    {
     "name": "stdout",
     "output_type": "stream",
     "text": [
      "✅ Saved: plot_63_1P_6_3.png\n",
      "🔄 Simulating for IllustrisTNG.1P_64.snap_032.halo_000.100ks.z0.05.z_simput.fits...\n"
     ]
    },
    {
     "name": "stderr",
     "output_type": "stream",
     "text": [
      "soxs : [INFO     ] 2025-04-10 02:52:09,329 Detecting events from source IllustrisTNG.1P_64.snap_032.halo_000.100ks.z0.05.z.\n",
      "soxs : [INFO     ] 2025-04-10 02:52:09,331 Applying energy-dependent effective area from lem_300522.arf.\n",
      "soxs : [INFO     ] 2025-04-10 02:52:09,598 Pixeling events.\n",
      "soxs : [INFO     ] 2025-04-10 02:52:09,631 Scattering events with a gaussian-based PSF.\n",
      "soxs : [INFO     ] 2025-04-10 02:52:09,638 88665 events were detected from the source.\n",
      "soxs : [INFO     ] 2025-04-10 02:52:09,644 Scattering energies with RMF lem_2.5ev_110422.rmf.\n"
     ]
    },
    {
     "data": {
      "application/vnd.jupyter.widget-view+json": {
       "model_id": "51b20679e1204c9a929c40f9a553c253",
       "version_major": 2,
       "version_minor": 0
      },
      "text/plain": [
       "Scattering energies :   0%|          | 0/88665 [00:00<?, ?it/s]"
      ]
     },
     "metadata": {},
     "output_type": "display_data"
    },
    {
     "name": "stderr",
     "output_type": "stream",
     "text": [
      "soxs : [INFO     ] 2025-04-10 02:52:14,396 Adding background events.\n",
      "soxs : [INFO     ] 2025-04-10 02:52:15,738 Adding in instrumental background.\n",
      "soxs : [INFO     ] 2025-04-10 02:52:15,872 Making 34238 events from the instrumental background.\n",
      "soxs : [INFO     ] 2025-04-10 02:52:15,883 Writing events to file evt_64_1P_6_4.fits.\n",
      "soxs : [INFO     ] 2025-04-10 02:52:16,028 Observation complete.\n",
      "soxs : [INFO     ] 2025-04-10 02:52:17,676 Making observation of source in evt_65_1P_6_5.fits.\n"
     ]
    },
    {
     "name": "stdout",
     "output_type": "stream",
     "text": [
      "✅ Saved: plot_64_1P_6_4.png\n",
      "🔄 Simulating for IllustrisTNG.1P_65.snap_032.halo_000.100ks.z0.05.z_simput.fits...\n"
     ]
    },
    {
     "name": "stderr",
     "output_type": "stream",
     "text": [
      "soxs : [INFO     ] 2025-04-10 02:52:19,508 Detecting events from source IllustrisTNG.1P_65.snap_032.halo_000.100ks.z0.05.z.\n",
      "soxs : [INFO     ] 2025-04-10 02:52:19,510 Applying energy-dependent effective area from lem_300522.arf.\n",
      "soxs : [INFO     ] 2025-04-10 02:52:19,751 Pixeling events.\n",
      "soxs : [INFO     ] 2025-04-10 02:52:19,780 Scattering events with a gaussian-based PSF.\n",
      "soxs : [INFO     ] 2025-04-10 02:52:19,787 77629 events were detected from the source.\n",
      "soxs : [INFO     ] 2025-04-10 02:52:19,792 Scattering energies with RMF lem_2.5ev_110422.rmf.\n"
     ]
    },
    {
     "data": {
      "application/vnd.jupyter.widget-view+json": {
       "model_id": "df650ea0ac8d418a980955fd78bb2a49",
       "version_major": 2,
       "version_minor": 0
      },
      "text/plain": [
       "Scattering energies :   0%|          | 0/77629 [00:00<?, ?it/s]"
      ]
     },
     "metadata": {},
     "output_type": "display_data"
    },
    {
     "name": "stderr",
     "output_type": "stream",
     "text": [
      "soxs : [INFO     ] 2025-04-10 02:52:24,517 Adding background events.\n",
      "soxs : [INFO     ] 2025-04-10 02:52:25,889 Adding in instrumental background.\n",
      "soxs : [INFO     ] 2025-04-10 02:52:26,021 Making 34245 events from the instrumental background.\n",
      "soxs : [INFO     ] 2025-04-10 02:52:26,031 Writing events to file evt_65_1P_6_5.fits.\n",
      "soxs : [INFO     ] 2025-04-10 02:52:26,155 Observation complete.\n"
     ]
    },
    {
     "name": "stdout",
     "output_type": "stream",
     "text": [
      "✅ Saved: plot_65_1P_6_5.png\n"
     ]
    }
   ],
   "source": [
    "# Loop over filenames and corresponding numbers (starting from 5)\n",
    "for number, base in zip(range(0, len(filenames)), filenames):\n",
    "    halo_str = \"000\"\n",
    "    base_path = f\"../../Data/X-rays/IllustrisTNG/1P/{base}/snap_032/\"\n",
    "    simput_file = f\"IllustrisTNG.1P_{number}.snap_032.halo_{halo_str}.100ks.z0.05.z_simput.fits\"\n",
    "    simput_path = os.path.join(base_path, simput_file)\n",
    "\n",
    "    if not os.path.exists(simput_path):\n",
    "        print(f\"❌ File not found: {simput_path}\")\n",
    "        continue\n",
    "\n",
    "    try:\n",
    "        print(f\"🔄 Simulating for {simput_file}...\")\n",
    "        evt_file = f\"evt_{number}_{base}.fits\"\n",
    "        img_file = f\"img_{number}_{base}.fits\"\n",
    "        plot_file = f\"plot_{number}_{base}.png\"\n",
    "\n",
    "        # Run SOXS simulator\n",
    "        soxs.instrument_simulator(\n",
    "            simput_path, evt_file, (10.0, \"ks\"), instrument,\n",
    "            sky_center, overwrite=True, foreground=False, ptsrc_bkgnd=False\n",
    "        )\n",
    "\n",
    "        # Check if there are any events\n",
    "        with fits.open(evt_file) as f_evt:\n",
    "            if f_evt[1].data is None or len(f_evt[1].data) == 0:\n",
    "                print(f\"⚠️ No events detected in {evt_file}. Skipping image and plot.\")\n",
    "                continue\n",
    "\n",
    "        # Write image\n",
    "        soxs.write_image(evt_file, img_file, emin=0.5, emax=2.0, reblock=1, overwrite=True)\n",
    "\n",
    "        # Plot image\n",
    "        center_sky = SkyCoord(*sky_center, unit='deg', frame='fk5')\n",
    "        region_sky = RectangleSkyRegion(center=center_sky, width=30*u.arcmin, height=30*u.arcmin)\n",
    "\n",
    "        with fits.open(img_file) as f_img:\n",
    "            w = wcs.WCS(header=f_img[0].header)\n",
    "            fig, ax = soxs.plot_image(img_file, stretch='log', cmap='magma', vmax=3000.0, width=0.5)\n",
    "            ax.add_artist(region_sky.to_pixel(w).as_artist())\n",
    "            plt.title(f\"1P_{number} - {base}\")\n",
    "            plt.savefig(plot_file, dpi=300)\n",
    "            plt.close()\n",
    "\n",
    "        print(f\"✅ Saved: {plot_file}\")\n",
    "\n",
    "    except Exception as e:\n",
    "        print(f\"❌ Error with 1P_{number} in {base}: {e}\")"
   ]
  },
  {
   "cell_type": "code",
   "execution_count": null,
   "id": "e6fa882a-48c8-483e-92fa-98658b374675",
   "metadata": {},
   "outputs": [],
   "source": []
  }
 ],
 "metadata": {
  "kernelspec": {
   "display_name": "Python 3 (ipykernel)",
   "language": "python",
   "name": "python3"
  },
  "language_info": {
   "codemirror_mode": {
    "name": "ipython",
    "version": 3
   },
   "file_extension": ".py",
   "mimetype": "text/x-python",
   "name": "python",
   "nbconvert_exporter": "python",
   "pygments_lexer": "ipython3",
   "version": "3.9.15"
  }
 },
 "nbformat": 4,
 "nbformat_minor": 5
}
