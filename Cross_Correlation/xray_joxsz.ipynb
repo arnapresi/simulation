{
 "cells": [
  {
   "cell_type": "markdown",
   "metadata": {},
   "source": [
    "# Generating Formatted X-ray Maps for JoXSZ"
   ]
  },
  {
   "cell_type": "code",
   "execution_count": 2,
   "metadata": {
    "tags": []
   },
   "outputs": [],
   "source": [
    "from soxs.utils import soxs_cfg\n",
    "soxs_cfg.set(\"soxs\", \"bkgnd_nH\", \"0.018\") # avoid configparser error by specifying here\n",
    "import soxs"
   ]
  },
  {
   "cell_type": "code",
   "execution_count": 3,
   "metadata": {},
   "outputs": [],
   "source": [
    "import yt\n",
    "import pyxsim\n",
    "\n",
    "import h5py\n",
    "import numpy as np\n",
    "import illustris_python as il\n",
    "\n",
    "import os\n",
    "from regions import RectangleSkyRegion\n",
    "from astropy.coordinates import SkyCoord\n",
    "import astropy.units as u\n",
    "from astropy import wcs\n",
    "from astropy.io import fits"
   ]
  },
  {
   "cell_type": "markdown",
   "metadata": {},
   "source": [
    "## Pick a galaxy, load the data, and prepare it for yt"
   ]
  },
  {
   "cell_type": "code",
   "execution_count": 4,
   "metadata": {
    "tags": []
   },
   "outputs": [],
   "source": [
    "instrument = \"athena_wfi\"     #\"lynx_lxm\", \"axis\", \"star-x\", \"lem_outer_array\", \"chandra_acisi_cy0\", \"athena_wfi\"\n",
    "area = (1.0, \"m**2\")"
   ]
  },
  {
   "cell_type": "code",
   "execution_count": 5,
   "metadata": {},
   "outputs": [],
   "source": [
    "basePath = \"../../../../sims.TNG/TNG50-1/output/\"\n",
    "snap = 91\n",
    "z = 0.1\n",
    "haloID = 166\n",
    "emin = 0.7\n",
    "emax = 7.0"
   ]
  },
  {
   "cell_type": "code",
   "execution_count": 6,
   "metadata": {},
   "outputs": [],
   "source": [
    "halo = il.groupcat.loadSingle(basePath, snap, haloID=haloID)"
   ]
  },
  {
   "cell_type": "code",
   "execution_count": 7,
   "metadata": {},
   "outputs": [],
   "source": [
    "fields = [\"Coordinates\", \"GFM_CoolingRate\", \"Density\", \"InternalEnergy\", \"ElectronAbundance\", \"StarFormationRate\", \"Masses\", \"GFM_Metallicity\", \"Velocities\"]\n",
    "\n",
    "gas = il.snapshot.loadHalo(basePath, snap, haloID, 'gas')"
   ]
  },
  {
   "cell_type": "code",
   "execution_count": 8,
   "metadata": {},
   "outputs": [],
   "source": [
    "header = il.groupcat.loadHeader(basePath, snap)\n",
    "\n",
    "with h5py.File(il.snapshot.snapPath(basePath, snap),'r') as f:\n",
    "    header_snap = dict(f['Header'].attrs)"
   ]
  },
  {
   "cell_type": "code",
   "execution_count": 9,
   "metadata": {},
   "outputs": [],
   "source": [
    "filename = \"halo_%d.hdf5\" % haloID\n",
    "with h5py.File(filename,'w') as f:\n",
    "    for key in gas.keys():\n",
    "        f['PartType0/' + key] = gas[key]\n",
    "        \n",
    "    # some metadata that yt demands\n",
    "    f.create_group('Header')\n",
    "    f['Header'].attrs['NumFilesPerSnapshot'] = 1\n",
    "    f['Header'].attrs['MassTable'] = header_snap['MassTable']\n",
    "    f['Header'].attrs['BoxSize'] = header['BoxSize']\n",
    "    f['Header'].attrs['Time'] = header['Time']\n",
    "    f['Header'].attrs['NumPart_ThisFile'] = np.array([gas['count'],0,0,0,0,0])\n",
    "    f['Header'].attrs['Redshift'] = header['Redshift']\n",
    "    \n",
    "    \n",
    "    # Must have the next six for correct units\n",
    "    f[\"Header\"].attrs[\"HubbleParam\"] = header[\"HubbleParam\"]\n",
    "    f[\"Header\"].attrs[\"Omega0\"] = header[\"Omega0\"]\n",
    "    f[\"Header\"].attrs[\"OmegaLambda\"] = header[\"OmegaLambda\"]\n",
    "\n",
    "    # These correspond to the values from the TNG simulations\n",
    "    f[\"Header\"].attrs[\"UnitLength_in_cm\"] = header_snap['UnitLength_in_cm']\n",
    "    f[\"Header\"].attrs[\"UnitMass_in_g\"] = header_snap['UnitMass_in_g']\n",
    "    f[\"Header\"].attrs[\"UnitVelocity_in_cm_per_s\"] = header_snap['UnitVelocity_in_cm_per_s']"
   ]
  },
  {
   "cell_type": "markdown",
   "metadata": {},
   "source": [
    "## Load the data into yt"
   ]
  },
  {
   "cell_type": "code",
   "execution_count": 10,
   "metadata": {},
   "outputs": [
    {
     "name": "stderr",
     "output_type": "stream",
     "text": [
      "yt : [INFO     ] 2025-08-11 06:55:32,530 Calculating time from 9.096e-01 to be 3.934e+17 seconds\n",
      "yt : [INFO     ] 2025-08-11 06:55:32,675 Parameters: current_time              = 3.934088884834162e+17 s\n",
      "yt : [INFO     ] 2025-08-11 06:55:32,684 Parameters: domain_dimensions         = [1 1 1]\n",
      "yt : [INFO     ] 2025-08-11 06:55:32,685 Parameters: domain_left_edge          = [0. 0. 0.]\n",
      "yt : [INFO     ] 2025-08-11 06:55:32,686 Parameters: domain_right_edge         = [35000. 35000. 35000.]\n",
      "yt : [INFO     ] 2025-08-11 06:55:32,688 Parameters: cosmological_simulation   = True\n",
      "yt : [INFO     ] 2025-08-11 06:55:32,689 Parameters: current_redshift          = 0.09940180263022191\n",
      "yt : [INFO     ] 2025-08-11 06:55:32,689 Parameters: omega_lambda              = 0.6911\n",
      "yt : [INFO     ] 2025-08-11 06:55:32,690 Parameters: omega_matter              = 0.3089\n",
      "yt : [INFO     ] 2025-08-11 06:55:32,690 Parameters: omega_radiation           = 0.0\n",
      "yt : [INFO     ] 2025-08-11 06:55:32,691 Parameters: hubble_constant           = 0.6774\n"
     ]
    }
   ],
   "source": [
    "ds = yt.load(filename)"
   ]
  },
  {
   "cell_type": "code",
   "execution_count": 11,
   "metadata": {},
   "outputs": [],
   "source": [
    "c = ds.arr([halo[\"GroupPos\"][0], halo[\"GroupPos\"][1], halo[\"GroupPos\"][2]], \"code_length\")"
   ]
  },
  {
   "cell_type": "code",
   "execution_count": 12,
   "metadata": {},
   "outputs": [],
   "source": [
    "del header, gas, halo"
   ]
  },
  {
   "cell_type": "code",
   "execution_count": 13,
   "metadata": {},
   "outputs": [],
   "source": [
    "def hot_gas(pfilter, data):\n",
    "    pfilter1 = data[pfilter.filtered_type, \"temperature\"] > 3.0e5\n",
    "    pfilter2 = data[\"PartType0\", \"StarFormationRate\"] == 0.0\n",
    "    pfilter3 = data[\"PartType0\", \"GFM_CoolingRate\"] < 0.0\n",
    "    return (pfilter1 & pfilter2) & pfilter3\n",
    "\n",
    "yt.add_particle_filter(\"hot_gas\", function=hot_gas,\n",
    "                       filtered_type='gas', requires=[\"temperature\",\"density\"])"
   ]
  },
  {
   "cell_type": "code",
   "execution_count": 14,
   "metadata": {},
   "outputs": [
    {
     "name": "stderr",
     "output_type": "stream",
     "text": [
      "yt : [INFO     ] 2025-08-11 06:55:32,865 Allocating for 1.562e+06 particles\n",
      "Initializing coarse index : 100%|██████████| 6/6 [00:00<00:00,  9.14it/s]\n",
      "Initializing refined index: 100%|██████████| 6/6 [00:05<00:00,  1.09it/s]\n"
     ]
    },
    {
     "data": {
      "text/plain": [
       "True"
      ]
     },
     "execution_count": 14,
     "metadata": {},
     "output_type": "execute_result"
    }
   ],
   "source": [
    "ds.add_particle_filter(\"hot_gas\")"
   ]
  },
  {
   "cell_type": "code",
   "execution_count": 15,
   "metadata": {
    "tags": []
   },
   "outputs": [
    {
     "name": "stderr",
     "output_type": "stream",
     "text": [
      "pyxsim : [INFO     ] 2025-08-11 06:55:42,932 kT_min = 0.025 keV\n",
      "pyxsim : [INFO     ] 2025-08-11 06:55:42,934 kT_max = 64 keV\n"
     ]
    }
   ],
   "source": [
    "nbins = 10000\n",
    "source_model = pyxsim.CIESourceModel(\n",
    "    \"apec\", emin, emax, nbins, (\"hot_gas\",\"metallicity\"),\n",
    "    temperature_field=(\"hot_gas\",\"temperature\"),\n",
    "    emission_measure_field=(\"hot_gas\", \"emission_measure\"),\n",
    ")"
   ]
  },
  {
   "cell_type": "markdown",
   "metadata": {
    "tags": []
   },
   "source": [
    "## X-ray Emissivity and Intensity Plot"
   ]
  },
  {
   "cell_type": "raw",
   "metadata": {
    "tags": []
   },
   "source": [
    "xray_fields = source_model.make_source_fields(ds, emin, emax)"
   ]
  },
  {
   "cell_type": "raw",
   "metadata": {
    "tags": []
   },
   "source": [
    "prj = yt.ProjectionPlot(ds, \"z\", xray_fields[0], width = (0.2, \"Mpc\"), center = c, buff_size = (1000,1000))\n",
    "#prj.set_zlim(xray_fields[0], 1.0e3, 1.0e7)\n",
    "prj.set_cmap(xray_fields[0], \"magma\")\n",
    "prj.save(f\"xray_emissivity_{haloID}.png\")"
   ]
  },
  {
   "cell_type": "raw",
   "metadata": {
    "tags": []
   },
   "source": [
    "frb = prj.frb[xray_fields[0]]\n",
    "data_array = np.array(frb)\n",
    "np.savetxt(f\"xray_emissivity_{haloID}.txt\", data_array)"
   ]
  },
  {
   "cell_type": "markdown",
   "metadata": {},
   "source": [
    "## Generate the mock x-ray emission"
   ]
  },
  {
   "cell_type": "code",
   "execution_count": 16,
   "metadata": {},
   "outputs": [],
   "source": [
    "exp_time = (1e6, \"s\") # exposure time\n",
    "redshift = z"
   ]
  },
  {
   "cell_type": "code",
   "execution_count": 17,
   "metadata": {},
   "outputs": [],
   "source": [
    "width = ds.quan(1.0, \"Mpc\")\n",
    "le = c - 0.5*width\n",
    "re = c + 0.5*width\n",
    "box = ds.box(le, re)"
   ]
  },
  {
   "cell_type": "code",
   "execution_count": 18,
   "metadata": {},
   "outputs": [
    {
     "name": "stderr",
     "output_type": "stream",
     "text": [
      "pyxsim : [INFO     ] 2025-08-11 06:55:43,010 Cosmology: h = 0.6774, omega_matter = 0.3089, omega_lambda = 0.6911\n",
      "pyxsim : [INFO     ] 2025-08-11 06:55:43,013 Using emission measure field '('hot_gas', 'emission_measure')'.\n",
      "pyxsim : [INFO     ] 2025-08-11 06:55:43,014 Using temperature field '('hot_gas', 'temperature')'.\n"
     ]
    },
    {
     "data": {
      "application/vnd.jupyter.widget-view+json": {
       "model_id": "16b9dd7c1c2f4fe8ab83db3240539533",
       "version_major": 2,
       "version_minor": 0
      },
      "text/plain": [
       "Preparing spectrum table :   0%|          | 0/138 [00:00<?, ?it/s]"
      ]
     },
     "metadata": {},
     "output_type": "display_data"
    },
    {
     "data": {
      "application/vnd.jupyter.widget-view+json": {
       "model_id": "b5f77fd54dd14db1a38098e81cd2b544",
       "version_major": 2,
       "version_minor": 0
      },
      "text/plain": [
       "Processing cells/particles :   0%|          | 0/963078 [00:00<?, ?it/s]"
      ]
     },
     "metadata": {},
     "output_type": "display_data"
    },
    {
     "name": "stderr",
     "output_type": "stream",
     "text": [
      "pyxsim : [INFO     ] 2025-08-11 06:59:51,452 Finished generating photons.\n",
      "pyxsim : [INFO     ] 2025-08-11 06:59:51,454 Number of photons generated: 122117\n",
      "pyxsim : [INFO     ] 2025-08-11 06:59:51,455 Number of cells with photons: 1879\n"
     ]
    }
   ],
   "source": [
    "n_photons, n_cells = pyxsim.make_photons(f\"halo_{haloID}_photons\", box, redshift, area, exp_time, source_model)"
   ]
  },
  {
   "cell_type": "code",
   "execution_count": 19,
   "metadata": {},
   "outputs": [
    {
     "name": "stderr",
     "output_type": "stream",
     "text": [
      "pyxsim : [INFO     ] 2025-08-11 06:59:51,473 Foreground galactic absorption: using the wabs model and nH = 0.01.\n"
     ]
    },
    {
     "data": {
      "application/vnd.jupyter.widget-view+json": {
       "model_id": "1ed35148279c4beda4402abfe4a9cf85",
       "version_major": 2,
       "version_minor": 0
      },
      "text/plain": [
       "Projecting photons from cells/particles :   0%|          | 0/1879 [00:00<?, ?it/s]"
      ]
     },
     "metadata": {},
     "output_type": "display_data"
    },
    {
     "name": "stderr",
     "output_type": "stream",
     "text": [
      "pyxsim : [INFO     ] 2025-08-11 06:59:52,175 Detected 117953 events.\n"
     ]
    }
   ],
   "source": [
    "n_events = pyxsim.project_photons(f\"halo_{haloID}_photons\", f\"halo_{haloID}_events\", \"z\", (45.,30.),\n",
    "                                  absorb_model=\"wabs\", nH=0.01)"
   ]
  },
  {
   "cell_type": "code",
   "execution_count": 20,
   "metadata": {},
   "outputs": [
    {
     "name": "stderr",
     "output_type": "stream",
     "text": [
      "soxs : [INFO     ] 2025-08-11 06:59:52,319 Writing source 'halo_166' to halo_166_phlist.fits.\n"
     ]
    }
   ],
   "source": [
    "events = pyxsim.EventList(f\"halo_{haloID}_events.h5\")\n",
    "events.write_to_simput(f\"halo_{haloID}\", overwrite=True)"
   ]
  },
  {
   "cell_type": "markdown",
   "metadata": {},
   "source": [
    "## Create a synthetic observation of these x-rays with Instrument"
   ]
  },
  {
   "cell_type": "raw",
   "metadata": {},
   "source": [
    "soxs.make_background_file("
   ]
  },
  {
   "cell_type": "code",
   "execution_count": 21,
   "metadata": {},
   "outputs": [
    {
     "name": "stderr",
     "output_type": "stream",
     "text": [
      "soxs : [INFO     ] 2025-08-11 06:59:52,345 Making observation of source in halo_166_evt_athena_wfi_0.7_7.0.fits.\n",
      "soxs : [INFO     ] 2025-08-11 06:59:52,797 Detecting events from source halo_166.\n",
      "soxs : [INFO     ] 2025-08-11 06:59:52,799 Applying energy-dependent effective area from athena_sixte_wfi_wo_filter_v20190122.arf.\n",
      "soxs : [INFO     ] 2025-08-11 06:59:52,811 Pixeling events.\n",
      "soxs : [INFO     ] 2025-08-11 06:59:52,823 Scattering events with a multi_image-based PSF.\n",
      "soxs : [INFO     ] 2025-08-11 06:59:52,978 15049 events were detected from the source.\n",
      "soxs : [INFO     ] 2025-08-11 06:59:52,982 Scattering energies with RMF athena_wfi_sixte_v20150504.rmf.\n"
     ]
    },
    {
     "data": {
      "application/vnd.jupyter.widget-view+json": {
       "model_id": "5af0ca46d472436a8c2d0413b65497ff",
       "version_major": 2,
       "version_minor": 0
      },
      "text/plain": [
       "Scattering energies :   0%|          | 0/15049 [00:00<?, ?it/s]"
      ]
     },
     "metadata": {},
     "output_type": "display_data"
    },
    {
     "name": "stderr",
     "output_type": "stream",
     "text": [
      "soxs : [INFO     ] 2025-08-11 06:59:53,105 Adding background events.\n",
      "soxs : [INFO     ] 2025-08-11 06:59:53,176 Adding in instrumental background.\n",
      "soxs : [INFO     ] 2025-08-11 06:59:54,293 Making 1370975 events from the instrumental background.\n",
      "soxs : [INFO     ] 2025-08-11 06:59:54,467 Writing events to file halo_166_evt_athena_wfi_0.7_7.0.fits.\n",
      "soxs : [INFO     ] 2025-08-11 06:59:55,458 Observation complete.\n"
     ]
    }
   ],
   "source": [
    "key = \"full\"\n",
    "soxs.instrument_simulator(f\"halo_{haloID}_simput.fits\", f\"halo_{haloID}_evt_{instrument}_{emin}_{emax}.fits\", (10**5, \"s\"), instrument, (45.,30.), overwrite=True, instr_bkgnd=True, foreground=False, ptsrc_bkgnd=False)"
   ]
  },
  {
   "cell_type": "raw",
   "metadata": {
    "tags": []
   },
   "source": [
    "soxs.write_image(f\"halo_{haloID}_evt_{key}.fits\", f\"halo_{haloID}_img_{key}.fits\", emin=emin, emax=emax, reblock=1, overwrite=True)\n",
    "center_sky = SkyCoord(45, 30, unit='deg', frame='fk5')\n",
    "region_sky = RectangleSkyRegion(center=center_sky, width=5* u.arcmin, height=5*u.arcmin)\n",
    "print(\"working\")\n",
    "with fits.open(f\"halo_{haloID}_img_{key}.fits\") as f:\n",
    "    w = wcs.WCS(header=f[0].header)\n",
    "    print(\"working still\")\n",
    "    fig, ax = soxs.plot_image(f\"halo_{haloID}_img_{key}.fits\", stretch='log', cmap='magma', width= 0.01)\n",
    "    print(\"working now\")\n",
    "ax.add_artist(region_sky.to_pixel(w).as_artist())\n",
    "print(\"coming soon\")\n",
    "ax.set_title(f\"Observational X-ray Map ({instrument}, {emin}–{emax} keV, TNG50, z=0.1)\", fontsize=13)\n",
    "#fig.savefig(f\"ObsMap_{haloID}_{instrument}.png\", dpi=900, bbox_inches='tight')"
   ]
  },
  {
   "cell_type": "markdown",
   "metadata": {},
   "source": [
    "# Generating Background Files"
   ]
  },
  {
   "cell_type": "code",
   "execution_count": 22,
   "metadata": {},
   "outputs": [
    {
     "name": "stderr",
     "output_type": "stream",
     "text": [
      "soxs : [INFO     ] 2025-08-11 06:59:55,566 Adding in instrumental background.\n",
      "soxs : [INFO     ] 2025-08-11 06:59:55,836 Making 1369268 events from the instrumental background.\n",
      "soxs : [INFO     ] 2025-08-11 06:59:56,060 Writing events to file halo_166_bkg_evt_full_athena_wfi.fits.\n"
     ]
    }
   ],
   "source": [
    "from soxs.instrument import make_background_file\n",
    "\n",
    "haloID = 166\n",
    "make_background_file(\n",
    "    out_file=f\"halo_{haloID}_bkg_evt_full_{instrument}.fits\",\n",
    "    exp_time=(1e5, \"s\"),  # Match exposure used in science simulation\n",
    "    instrument=instrument,\n",
    "    sky_center=(45.0, 30.0),\n",
    "    overwrite=True,\n",
    "    foreground=False,        # Paper uses CIAO blanksky only (instrumental)\n",
    "    instr_bkgnd=True,        # ✅ Required\n",
    "    ptsrc_bkgnd=False       # No point source background\n",
    ")\n"
   ]
  },
  {
   "cell_type": "code",
   "execution_count": 23,
   "metadata": {
    "tags": []
   },
   "outputs": [],
   "source": [
    "os.remove(f\"halo_{haloID}_events.h5\")\n",
    "os.remove(f\"halo_{haloID}_photons.h5\")\n",
    "os.remove(f\"halo_{haloID}_simput.fits\")\n",
    "os.remove(f\"halo_{haloID}_phlist.fits\")\n",
    "os.remove(f\"halo_{haloID}.hdf5\")\n",
    "os.remove(f\"halo_{haloID}.hdf5.ewah\")"
   ]
  }
 ],
 "metadata": {
  "kernelspec": {
   "display_name": "Python 3 (ipykernel)",
   "language": "python",
   "name": "python3"
  },
  "language_info": {
   "codemirror_mode": {
    "name": "ipython",
    "version": 3
   },
   "file_extension": ".py",
   "mimetype": "text/x-python",
   "name": "python",
   "nbconvert_exporter": "python",
   "pygments_lexer": "ipython3",
   "version": "3.11.4"
  }
 },
 "nbformat": 4,
 "nbformat_minor": 4
}
