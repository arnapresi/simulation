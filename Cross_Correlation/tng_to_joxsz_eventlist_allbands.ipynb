{
 "cells": [
  {
   "cell_type": "code",
   "execution_count": 4,
   "id": "8b12dc2c",
   "metadata": {},
   "outputs": [],
   "source": [
    "from astropy.io import fits\n",
    "import numpy as np\n",
    "from astropy.coordinates import SkyCoord\n",
    "import astropy.units as u\n",
    "import pandas as pd"
   ]
  },
  {
   "cell_type": "code",
   "execution_count": 5,
   "id": "27d5d502",
   "metadata": {},
   "outputs": [
    {
     "name": "stdout",
     "output_type": "stream",
     "text": [
      "0.020015366 14.999991\n"
     ]
    }
   ],
   "source": [
    "haloid = 166\n",
    "instrument = \"athena_wfi\"\n",
    "hdul_bkg = fits.open(f\"halo_{haloid}_evt_{instrument}_0.7_7.0.fits\")\n",
    "data_bkg = hdul_bkg['EVENTS'].data\n",
    "header = hdul_bkg['EVENTS'].header\n",
    "\n",
    "x = data_bkg['X']\n",
    "y = data_bkg['Y']\n",
    "energy = data_bkg[\"Energy\"]*1e-3\n",
    "\n",
    "print(min(energy), max(energy))"
   ]
  },
  {
   "cell_type": "code",
   "execution_count": 6,
   "id": "39d1e009",
   "metadata": {},
   "outputs": [],
   "source": [
    "# Center from header\n",
    "x0 = header['TCRPX2']  # 4096.5\n",
    "y0 = header['TCRPX3']  # 4096.5\n",
    "\n",
    "# Pixel scale (in arcmin/pixel)\n",
    "pixscale_deg = abs(header['TCDLT2'])  # or TCDLT3, they're equal in mag\n",
    "pixscale_arcmin = pixscale_deg * 60.0  # deg → arcmin\n",
    "\n",
    "# Radial distance in pixels → arcmin\n",
    "radii = np.sqrt((x - x0)**2 + (y - y0)**2) * pixscale_arcmin"
   ]
  },
  {
   "cell_type": "code",
   "execution_count": 7,
   "id": "da5ee6ba",
   "metadata": {},
   "outputs": [],
   "source": [
    "# Annular bin edges\n",
    "edges = np.array([0, 0.05, 0.1, 0.15, 0.2, 0.25, 0.3, 0.4, 0.5, 1., 1.3333337, 2.0000003, 2.6666663, 4.3333333, 6.0000003, 7.6666663])\n",
    "trarcmin = (edges[:-1] + edges[1:]) / 2\n",
    "trwidth = (edges[1:] - edges[:-1]) / 2"
   ]
  },
  {
   "cell_type": "code",
   "execution_count": 8,
   "id": "bf787e54",
   "metadata": {},
   "outputs": [
    {
     "name": "stdout",
     "output_type": "stream",
     "text": [
      "Done generating files for all bands.\n"
     ]
    }
   ],
   "source": [
    "# Energy bands in keV\n",
    "energy_bands = [\n",
    "    (0.7, 1.0),\n",
    "    (1.0, 1.3),\n",
    "    (1.3, 1.6),\n",
    "    (1.6, 2.0),\n",
    "    (2.0, 2.7),\n",
    "    (2.7, 3.4),\n",
    "    (3.4, 3.8),\n",
    "    (3.8, 4.3),\n",
    "    (4.3, 5.0),\n",
    "    (5.0, 7.0),\n",
    "]\n",
    "\n",
    "# Convert to eV if needed (assuming energy is in eV)\n",
    "for idx, (emin, emax) in enumerate(energy_bands, start=1):\n",
    "\n",
    "    # Filter photons by energy\n",
    "    in_band = (energy >= emin) & (energy < emax)\n",
    "\n",
    "    band_radii = radii[in_band]\n",
    "\n",
    "    tcounts = []\n",
    "    tarea = []\n",
    "    ttexp = []\n",
    "\n",
    "    for i in range(len(edges) - 1):\n",
    "        in_annulus = (band_radii >= edges[i]) & (band_radii < edges[i+1])\n",
    "        count = np.sum(in_annulus)\n",
    "        area = np.pi * (edges[i+1]**2 - edges[i]**2)\n",
    "        exposure = 1e5  # Replace with actual exposure if spatially varying\n",
    "        tcounts.append(count)\n",
    "        tarea.append(area)\n",
    "        ttexp.append(exposure)\n",
    "\n",
    "    df = pd.DataFrame({\n",
    "        'trarcmin': trarcmin,\n",
    "        'trwidth': trwidth,\n",
    "        'tcounts': tcounts,\n",
    "        'tarea': tarea,\n",
    "        'ttexp': ttexp\n",
    "    })\n",
    "\n",
    "    header_lines = \"# trarcmin    trwidth    tcounts      tarea        ttexp\\n#\\n\"\n",
    "    outname = f\"fgbg/fg_profnew_{int(emin*1000):04d}_{int(emax*1000):04d}.dat\"\n",
    "\n",
    "\n",
    "    with open(outname, \"w\") as f:\n",
    "        f.write(header_lines)\n",
    "        df.to_string(f, index=False, header=False, float_format=\"%.6e\")\n",
    "\n",
    "print(\"Done generating files for all bands.\")"
   ]
  }
 ],
 "metadata": {
  "kernelspec": {
   "display_name": "base",
   "language": "python",
   "name": "python3"
  },
  "language_info": {
   "codemirror_mode": {
    "name": "ipython",
    "version": 3
   },
   "file_extension": ".py",
   "mimetype": "text/x-python",
   "name": "python",
   "nbconvert_exporter": "python",
   "pygments_lexer": "ipython3",
   "version": "3.11.5"
  }
 },
 "nbformat": 4,
 "nbformat_minor": 5
}
