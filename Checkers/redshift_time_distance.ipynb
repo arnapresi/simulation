{
 "cells": [
  {
   "cell_type": "markdown",
   "id": "b0e55661-04cf-4d11-b733-f7c18dc037de",
   "metadata": {},
   "source": [
    "# Given redshift get comoving distance and lookback time"
   ]
  },
  {
   "cell_type": "code",
   "execution_count": 3,
   "id": "b6eb9739-774d-4f56-bcf9-0faefa5c06c4",
   "metadata": {
    "tags": []
   },
   "outputs": [
    {
     "name": "stdout",
     "output_type": "stream",
     "text": [
      "The lookback time at redshift 2:  10.513662124935514 Gyr\n",
      "The comoving distance at redshift 2 is: 1.73e+10 lyr\n"
     ]
    }
   ],
   "source": [
    "from astropy.cosmology import Planck15 as cosmo\n",
    "import astropy.units as u\n",
    "\n",
    "z = 2\n",
    "t = cosmo.lookback_time(z)\n",
    "d = cosmo.comoving_distance(z).to(u.lyr)\n",
    "print(f\"The lookback time at redshift {z}: \", t)\n",
    "print(f\"The comoving distance at redshift {z} is: {d:.2e}\")"
   ]
  },
  {
   "cell_type": "code",
   "execution_count": null,
   "id": "6d789b6b-b31e-4da0-b458-b0a7badd5541",
   "metadata": {},
   "outputs": [],
   "source": []
  }
 ],
 "metadata": {
  "kernelspec": {
   "display_name": "Python 3 (ipykernel)",
   "language": "python",
   "name": "python3"
  },
  "language_info": {
   "codemirror_mode": {
    "name": "ipython",
    "version": 3
   },
   "file_extension": ".py",
   "mimetype": "text/x-python",
   "name": "python",
   "nbconvert_exporter": "python",
   "pygments_lexer": "ipython3",
   "version": "3.11.4"
  }
 },
 "nbformat": 4,
 "nbformat_minor": 5
}
