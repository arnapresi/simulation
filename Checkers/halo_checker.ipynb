{
 "cells": [
  {
   "cell_type": "markdown",
   "id": "5445daf9-4513-4892-a623-ed2360a53a8b",
   "metadata": {
    "tags": []
   },
   "source": [
    "# Given haloid get its central subhalo information"
   ]
  },
  {
   "cell_type": "code",
   "execution_count": 1,
   "id": "18320ceb-e43f-4eb3-b2a0-889bd4ba6903",
   "metadata": {},
   "outputs": [],
   "source": [
    "import illustris_python as il\n",
    "import numpy as np\n",
    "from illustris_python import groupcat"
   ]
  },
  {
   "cell_type": "code",
   "execution_count": 2,
   "id": "f0af3a37-6279-43f8-8c80-5a1b1b1c5445",
   "metadata": {},
   "outputs": [],
   "source": [
    "basePath = \"../../../sims.TNG/TNG50-1/output/\""
   ]
  },
  {
   "cell_type": "code",
   "execution_count": 3,
   "id": "cf2d717e-a6cd-4739-8611-431d7e3e8ccb",
   "metadata": {
    "tags": []
   },
   "outputs": [],
   "source": [
    "haloID = 2\n",
    "snap = 99  # z = 1"
   ]
  },
  {
   "cell_type": "code",
   "execution_count": 7,
   "id": "a4659f7f-6488-4d2d-8116-f6420d6b25b5",
   "metadata": {
    "tags": []
   },
   "outputs": [],
   "source": [
    "halo = il.groupcat.loadSingle(basePath, snap, haloID=haloID)\n",
    "subID = halo[\"GroupFirstSub\"]\n",
    "subhalo = il.groupcat.loadSingle(basePath, snap, subhaloID=subID)"
   ]
  },
  {
   "cell_type": "code",
   "execution_count": 8,
   "id": "76cb866a-9e25-4a89-b208-c671494a05bc",
   "metadata": {
    "tags": []
   },
   "outputs": [
    {
     "name": "stdout",
     "output_type": "stream",
     "text": [
      "Halo mass:  13.810420732070085\n",
      "BH mass:  9.564818376402718\n",
      "BH luminosity:  43.883857249194804\n",
      "SubID:  96762\n"
     ]
    }
   ],
   "source": [
    "halomass = halo[\"Group_M_Crit200\"] * 1e10 / 0.6774  # in Msun\n",
    "bhmass = subhalo[\"SubhaloBHMass\"] * 1e10 / 0.6774  # in Msun\n",
    "bhlum = subhalo[\"SubhaloBHMdot\"]* 0.1 * 1e10 * 1.989e33 * (3e10)**2 / (0.978 * 1e9 * 365.25 * 24 * 3600)  # in erg/s\n",
    "#starmass = subhalo[\"SubhaloMassInHalfRadType\"]\n",
    "\n",
    "print(\"Halo mass: \", np.log10(halomass))\n",
    "print(\"BH mass: \", np.log10(bhmass))\n",
    "print(\"BH luminosity: \", np.log10(bhlum))\n",
    "print(\"SubID: \", subID)"
   ]
  },
  {
   "cell_type": "code",
   "execution_count": null,
   "id": "6ddf81fb-0584-494b-8781-eea340da5973",
   "metadata": {},
   "outputs": [],
   "source": []
  }
 ],
 "metadata": {
  "kernelspec": {
   "display_name": "Python 3 (ipykernel)",
   "language": "python",
   "name": "python3"
  },
  "language_info": {
   "codemirror_mode": {
    "name": "ipython",
    "version": 3
   },
   "file_extension": ".py",
   "mimetype": "text/x-python",
   "name": "python",
   "nbconvert_exporter": "python",
   "pygments_lexer": "ipython3",
   "version": "3.11.4"
  }
 },
 "nbformat": 4,
 "nbformat_minor": 5
}
