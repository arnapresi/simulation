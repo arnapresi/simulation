{
 "cells": [
  {
   "cell_type": "code",
   "execution_count": 63,
   "id": "18320ceb-e43f-4eb3-b2a0-889bd4ba6903",
   "metadata": {},
   "outputs": [],
   "source": [
    "import illustris_python as il\n",
    "import numpy as np\n",
    "from illustris_python import groupcat"
   ]
  },
  {
   "cell_type": "code",
   "execution_count": 64,
   "id": "f0af3a37-6279-43f8-8c80-5a1b1b1c5445",
   "metadata": {},
   "outputs": [],
   "source": [
    "basePath = \"../../../sims.TNG/TNG50-1/output/\""
   ]
  },
  {
   "cell_type": "code",
   "execution_count": 65,
   "id": "cf2d717e-a6cd-4739-8611-431d7e3e8ccb",
   "metadata": {
    "tags": []
   },
   "outputs": [],
   "source": [
    "subID = 53386\n",
    "snap = 99 # z = 1"
   ]
  },
  {
   "cell_type": "code",
   "execution_count": 66,
   "id": "1447c433-ce41-4ef2-9453-4712c6286e6f",
   "metadata": {
    "tags": []
   },
   "outputs": [],
   "source": [
    "subhalo = il.groupcat.loadSingle(basePath, snap, subhaloID=subID)\n",
    "haloID = subhalo[\"SubhaloGrNr\"]\n",
    "halo = il.groupcat.loadSingle(basePath, snap, haloID=haloID)"
   ]
  },
  {
   "cell_type": "code",
   "execution_count": 67,
   "id": "76cb866a-9e25-4a89-b208-c671494a05bc",
   "metadata": {
    "tags": []
   },
   "outputs": [
    {
     "name": "stdout",
     "output_type": "stream",
     "text": [
      "Halo mass:  14.263621944236046\n",
      "BH mass:  -inf\n",
      "BH luminosity:  -inf\n",
      "haloID:  0\n",
      "Group first subID:  0\n",
      "Oops! The BH is Satellite!\n"
     ]
    },
    {
     "name": "stderr",
     "output_type": "stream",
     "text": [
      "/tmp/ipykernel_103/1575112842.py:9: RuntimeWarning: divide by zero encountered in log10\n",
      "  print(\"BH mass: \", np.log10(bhmass))\n",
      "/tmp/ipykernel_103/1575112842.py:10: RuntimeWarning: divide by zero encountered in log10\n",
      "  print(\"BH luminosity: \", np.log10(bhlum))\n"
     ]
    }
   ],
   "source": [
    "halomass = halo[\"Group_M_Crit200\"] * 1e10 / 0.6774  # in Msun\n",
    "bhmass = subhalo[\"SubhaloBHMass\"] * 1e10 / 0.6774  # in Msun\n",
    "bhlum = subhalo[\"SubhaloBHMdot\"]* 0.1 * 1e10 * 1.989e33 * (3e10)**2 / (0.978 * 1e9 * 365.25 * 24 * 3600)  # in erg/s\n",
    "central = subhalo[\"SubhaloParent\"]\n",
    "gfs = halo[\"GroupFirstSub\"]\n",
    "#starmass = subhalo[\"SubhaloMassInHalfRadType\"]\n",
    "\n",
    "print(\"Halo mass: \", np.log10(halomass))\n",
    "print(\"BH mass: \", np.log10(bhmass))\n",
    "print(\"BH luminosity: \", np.log10(bhlum))\n",
    "print(\"haloID: \", haloID)\n",
    "print(\"Group first subID: \", gfs)\n",
    "# use with caution\n",
    "#print(central)\n",
    "if subID == gfs:\n",
    "    print(\"The BH is central\")\n",
    "else:\n",
    "    print(\"Oops! The BH is Satellite!\")"
   ]
  },
  {
   "cell_type": "code",
   "execution_count": null,
   "id": "79ca98bc-894e-47c7-8947-02ade2fa4374",
   "metadata": {},
   "outputs": [],
   "source": []
  }
 ],
 "metadata": {
  "kernelspec": {
   "display_name": "Python 3 (ipykernel)",
   "language": "python",
   "name": "python3"
  },
  "language_info": {
   "codemirror_mode": {
    "name": "ipython",
    "version": 3
   },
   "file_extension": ".py",
   "mimetype": "text/x-python",
   "name": "python",
   "nbconvert_exporter": "python",
   "pygments_lexer": "ipython3",
   "version": "3.11.4"
  }
 },
 "nbformat": 4,
 "nbformat_minor": 5
}
