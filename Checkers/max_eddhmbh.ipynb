{
 "cells": [
  {
   "cell_type": "markdown",
   "id": "04370013-92d1-40d4-8adf-42c324911731",
   "metadata": {},
   "source": [
    "# Given Some Conditions find Max halo mass, bh mass, eddington ratio"
   ]
  },
  {
   "cell_type": "code",
   "execution_count": 1,
   "id": "8ce05add-3f27-4b3b-af9f-1b0eaf922dbd",
   "metadata": {
    "tags": []
   },
   "outputs": [],
   "source": [
    "import illustris_python as il\n",
    "import numpy as np\n",
    "from illustris_python import groupcat"
   ]
  },
  {
   "cell_type": "code",
   "execution_count": 5,
   "id": "3ec8408b-7eb4-4fc3-b7bf-40df1291e149",
   "metadata": {
    "tags": []
   },
   "outputs": [],
   "source": [
    "basePath = \"../../../sims.TNG/TNG50-1/output/\"\n",
    "snap = 91"
   ]
  },
  {
   "cell_type": "code",
   "execution_count": 6,
   "id": "383cedcc-6675-4f43-a62c-4af52a496fe9",
   "metadata": {
    "tags": []
   },
   "outputs": [],
   "source": [
    "shalo = il.groupcat.loadSubhalos(basePath, snap, fields=['SubhaloGrNr', 'SubhaloBHMdot', 'SubhaloBHMass'])\n",
    "halo = il.groupcat.loadHalos(basePath, snap, fields =['Group_M_Crit500', 'GroupFirstSub'])"
   ]
  },
  {
   "cell_type": "code",
   "execution_count": 7,
   "id": "dbac3d59-8ce0-497d-8e4e-6fe5cb8c258f",
   "metadata": {
    "tags": []
   },
   "outputs": [],
   "source": [
    "c = 299792458  # speed of light in m/s\n",
    "mp = 1.67 * 1e-27  # kg\n",
    "G = 6.674 * 1e-11  # N m^2 kg^-2\n",
    "sigma_t = 6.652 * 1e-29  # m^2\n",
    "h = 0.6774\n",
    "e_r = 0.2\n",
    "\n",
    "Mhalo = halo['Group_M_Crit500'] * 1e10 / h  #Msun\n",
    "Mdot = shalo[\"SubhaloBHMdot\"] * 10.22       #Msun / yr\n",
    "M = shalo[\"SubhaloBHMass\"]* 1e10 / h        #Msun\n",
    "subID = np.arange(len(Mdot))\n",
    "phid = shalo['SubhaloGrNr']\n",
    "phm = Mhalo[phid[subID]]\n",
    "\n",
    "\n",
    "group_firstsub = halo['GroupFirstSub']\n",
    "group_firstsub = group_firstsub[group_firstsub != -1]\n",
    "halo_centralID = np.array(group_firstsub)\n",
    "\n",
    "central = np.zeros(len(M))\n",
    "central[halo_centralID] = 1\n",
    "\n",
    "\n",
    "indices = np.where((M > 1e6) & (phm > 1e10) & (central == 1))\n",
    "#indices = np.where((M > 1e6) & (central == 1))\n",
    "\n",
    "Mdot_filtered = Mdot[indices]\n",
    "M_filtered = M[indices]\n",
    "subID_filtered = subID[indices]\n",
    "\n",
    "Mdot_edd = (4 * np.pi * G * M_filtered * mp) / (e_r * c * sigma_t) / 3.16887646e-8  # M_sun/yr\n",
    "\n",
    "edd_ratio = Mdot_filtered / Mdot_edd"
   ]
  },
  {
   "cell_type": "code",
   "execution_count": 10,
   "id": "ef51ba8e-eb26-4e5c-9e7f-61971f0e4b27",
   "metadata": {
    "tags": []
   },
   "outputs": [
    {
     "name": "stdout",
     "output_type": "stream",
     "text": [
      "Maximum eddington ratio is:  0.17735349 with index:  630\n",
      "Maximum bh mass is:  8466701000.0 with index:  0\n",
      "Maximum halo mass is:  14.116345 with index:  0\n"
     ]
    }
   ],
   "source": [
    "print(\"Maximum eddington ratio is: \", edd_ratio[np.argmax(edd_ratio)], \"with halo index: \", phid[subID_filtered[np.argmax(edd_ratio)]])\n",
    "print(\"Maximum bh mass is: \", np.log10(np.max(M_filtered)), \"with halo index: \", phid[subID_filtered[np.argmax(M_filtered)]])\n",
    "print(\"Maximum halo mass is: \", np.log10(np.max(Mhalo)), \"with halo index: \", np.argmax(Mhalo))"
   ]
  }
 ],
 "metadata": {
  "kernelspec": {
   "display_name": "Python 3 (ipykernel)",
   "language": "python",
   "name": "python3"
  },
  "language_info": {
   "codemirror_mode": {
    "name": "ipython",
    "version": 3
   },
   "file_extension": ".py",
   "mimetype": "text/x-python",
   "name": "python",
   "nbconvert_exporter": "python",
   "pygments_lexer": "ipython3",
   "version": "3.11.4"
  }
 },
 "nbformat": 4,
 "nbformat_minor": 5
}
