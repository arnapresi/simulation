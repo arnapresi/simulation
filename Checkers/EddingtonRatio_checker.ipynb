{
 "cells": [
  {
   "cell_type": "markdown",
   "id": "783b977c-5cfb-44d6-a667-ab68bab4473b",
   "metadata": {},
   "source": [
    "# Eddington Ratio Checker"
   ]
  },
  {
   "cell_type": "code",
   "execution_count": 1,
   "id": "18a3494a-a874-4f38-be96-b8cbc7e2c98d",
   "metadata": {},
   "outputs": [],
   "source": [
    "import illustris_python as il\n",
    "import numpy as np\n",
    "from illustris_python import groupcat"
   ]
  },
  {
   "cell_type": "code",
   "execution_count": 2,
   "id": "52074e9b-23ad-4cac-a6d6-726608642feb",
   "metadata": {},
   "outputs": [],
   "source": [
    "basePath = \"../../../sims.TNG/TNG50-1/output/\"\n",
    "snap = 91\n",
    "haloid = 5"
   ]
  },
  {
   "cell_type": "code",
   "execution_count": 3,
   "id": "e807f052-6523-4732-9328-b1b348872d4e",
   "metadata": {},
   "outputs": [],
   "source": [
    "halo = il.groupcat.loadSingle(basePath, snap, haloID=haloid)\n",
    "central_subhalo_ID = halo[\"GroupFirstSub\"]\n",
    "bh = il.snapshot.loadSubhalo(basePath, snap, central_subhalo_ID, \"bh\", fields=[\"BH_Mdot\", \"BH_MdotEddington\"])"
   ]
  },
  {
   "cell_type": "code",
   "execution_count": 4,
   "id": "3b419aec-22ef-4cb8-8713-1845097be7e8",
   "metadata": {
    "tags": []
   },
   "outputs": [
    {
     "name": "stdout",
     "output_type": "stream",
     "text": [
      "BH_Mdot: [0.00043183]\n",
      "BH_Mdot Eddington: [0.77078104]\n"
     ]
    }
   ],
   "source": [
    "print(\"BH_Mdot:\", bh[\"BH_Mdot\"])\n",
    "print(\"BH_Mdot Eddington:\", bh[\"BH_MdotEddington\"])"
   ]
  },
  {
   "cell_type": "code",
   "execution_count": 5,
   "id": "1a614021-41de-4bf8-a7a1-36a570144640",
   "metadata": {
    "tags": []
   },
   "outputs": [
    {
     "name": "stdout",
     "output_type": "stream",
     "text": [
      "0.00056025333\n"
     ]
    }
   ],
   "source": [
    "print((bh[\"BH_Mdot\"][0] / bh[\"BH_MdotEddington\"][0]))"
   ]
  },
  {
   "cell_type": "code",
   "execution_count": null,
   "id": "64922dd3-7bae-4ffc-88a8-64a0384d7b82",
   "metadata": {},
   "outputs": [],
   "source": []
  }
 ],
 "metadata": {
  "kernelspec": {
   "display_name": "Python 3 (ipykernel)",
   "language": "python",
   "name": "python3"
  },
  "language_info": {
   "codemirror_mode": {
    "name": "ipython",
    "version": 3
   },
   "file_extension": ".py",
   "mimetype": "text/x-python",
   "name": "python",
   "nbconvert_exporter": "python",
   "pygments_lexer": "ipython3",
   "version": "3.11.4"
  }
 },
 "nbformat": 4,
 "nbformat_minor": 5
}
